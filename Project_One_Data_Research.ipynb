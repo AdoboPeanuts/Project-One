{
  "nbformat": 4,
  "nbformat_minor": 0,
  "metadata": {
    "colab": {
      "name": "Project-One Data Research.ipynb",
      "provenance": [],
      "collapsed_sections": [
        "3EabgXjg1e5c"
      ]
    },
    "kernelspec": {
      "name": "python3",
      "display_name": "Python 3"
    },
    "language_info": {
      "name": "python"
    }
  },
  "cells": [
    {
      "cell_type": "code",
      "metadata": {
        "colab": {
          "base_uri": "https://localhost:8080/"
        },
        "id": "TdYlO3-AMXAJ",
        "outputId": "0e25cd7c-d822-4f15-b20b-820b48dd582a"
      },
      "source": [
        "Divisible_by_3 = lambda x: x % 3 == 0 and x != 0\n",
        "Divisible_by_5 = lambda x: x % 5 == 0 and x != 0\n",
        "Divisible_by_3_and_5 = lambda x: (Divisible_by_5(x) and Divisible_by_3(x))\n",
        "result = ['FizzBuzz' if Divisible_by_3_and_5(y) else 'Fizz' if Divisible_by_3(y) else 'Buzz' if Divisible_by_5(y) else y for y in range(100)]\n",
        "for x in result:\n",
        "  print(x)#,end=', ')\n",
        "print()"
      ],
      "execution_count": 1,
      "outputs": [
        {
          "output_type": "stream",
          "text": [
            "0\n",
            "1\n",
            "2\n",
            "Fizz\n",
            "4\n",
            "Buzz\n",
            "Fizz\n",
            "7\n",
            "8\n",
            "Fizz\n",
            "Buzz\n",
            "11\n",
            "Fizz\n",
            "13\n",
            "14\n",
            "FizzBuzz\n",
            "16\n",
            "17\n",
            "Fizz\n",
            "19\n",
            "Buzz\n",
            "Fizz\n",
            "22\n",
            "23\n",
            "Fizz\n",
            "Buzz\n",
            "26\n",
            "Fizz\n",
            "28\n",
            "29\n",
            "FizzBuzz\n",
            "31\n",
            "32\n",
            "Fizz\n",
            "34\n",
            "Buzz\n",
            "Fizz\n",
            "37\n",
            "38\n",
            "Fizz\n",
            "Buzz\n",
            "41\n",
            "Fizz\n",
            "43\n",
            "44\n",
            "FizzBuzz\n",
            "46\n",
            "47\n",
            "Fizz\n",
            "49\n",
            "Buzz\n",
            "Fizz\n",
            "52\n",
            "53\n",
            "Fizz\n",
            "Buzz\n",
            "56\n",
            "Fizz\n",
            "58\n",
            "59\n",
            "FizzBuzz\n",
            "61\n",
            "62\n",
            "Fizz\n",
            "64\n",
            "Buzz\n",
            "Fizz\n",
            "67\n",
            "68\n",
            "Fizz\n",
            "Buzz\n",
            "71\n",
            "Fizz\n",
            "73\n",
            "74\n",
            "FizzBuzz\n",
            "76\n",
            "77\n",
            "Fizz\n",
            "79\n",
            "Buzz\n",
            "Fizz\n",
            "82\n",
            "83\n",
            "Fizz\n",
            "Buzz\n",
            "86\n",
            "Fizz\n",
            "88\n",
            "89\n",
            "FizzBuzz\n",
            "91\n",
            "92\n",
            "Fizz\n",
            "94\n",
            "Buzz\n",
            "Fizz\n",
            "97\n",
            "98\n",
            "Fizz\n",
            "\n"
          ],
          "name": "stdout"
        }
      ]
    },
    {
      "cell_type": "code",
      "metadata": {
        "id": "zqgCF9Gx3P8-"
      },
      "source": [
        "import base64\n",
        "import pandas as pd\n",
        "from IPython.display import HTML\n",
        "\n",
        "def create_download_link( df, title = \"Download CSV file\", filename = \"data.csv\"):\n",
        "    csv = df.to_csv()\n",
        "    b64 = base64.b64encode(csv.encode())\n",
        "    payload = b64.decode()\n",
        "    html = '<a download=\"{filename}\" href=\"data:text/csv;base64,{payload}\" target=\"_blank\">{title}</a>'\n",
        "    html = html.format(payload=payload,title=title,filename=filename)\n",
        "    return HTML(html)\n",
        "\n",
        "#df = pd.DataFrame(data = [[1,2],[3,4]], columns=['Col 1', 'Col 2'])\n",
        "#create_download_link(df)"
      ],
      "execution_count": 2,
      "outputs": []
    },
    {
      "cell_type": "markdown",
      "metadata": {
        "id": "3EabgXjg1e5c"
      },
      "source": [
        "# Screened passenger data (Canada)\n",
        "The passenger traffic table is updated weekly.\n",
        "https://www.catsa-acsta.gc.ca/en/screened-passenger-data"
      ]
    },
    {
      "cell_type": "markdown",
      "metadata": {
        "id": "yiqpHvRA16me"
      },
      "source": [
        "### This is an indication of the amount of traffic passing through Canadas Major Airports"
      ]
    },
    {
      "cell_type": "code",
      "metadata": {
        "id": "g5JCCS8HLK16"
      },
      "source": [
        "import pandas as pd"
      ],
      "execution_count": 3,
      "outputs": []
    },
    {
      "cell_type": "code",
      "metadata": {
        "colab": {
          "base_uri": "https://localhost:8080/",
          "height": 0
        },
        "id": "Fa8KLa-ILoO0",
        "outputId": "1520f086-cc16-44f2-90d1-b9c1eb35ea6c"
      },
      "source": [
        "d = pd.read_html('https://www.catsa-acsta.gc.ca/en/screened-passenger-data', parse_dates=True)\n",
        "d[0].head()"
      ],
      "execution_count": 4,
      "outputs": [
        {
          "output_type": "execute_result",
          "data": {
            "text/html": [
              "<div>\n",
              "<style scoped>\n",
              "    .dataframe tbody tr th:only-of-type {\n",
              "        vertical-align: middle;\n",
              "    }\n",
              "\n",
              "    .dataframe tbody tr th {\n",
              "        vertical-align: top;\n",
              "    }\n",
              "\n",
              "    .dataframe thead th {\n",
              "        text-align: right;\n",
              "    }\n",
              "</style>\n",
              "<table border=\"1\" class=\"dataframe\">\n",
              "  <thead>\n",
              "    <tr style=\"text-align: right;\">\n",
              "      <th></th>\n",
              "      <th>0</th>\n",
              "      <th>1</th>\n",
              "      <th>2</th>\n",
              "      <th>3</th>\n",
              "      <th>4</th>\n",
              "      <th>5</th>\n",
              "      <th>6</th>\n",
              "    </tr>\n",
              "  </thead>\n",
              "  <tbody>\n",
              "    <tr>\n",
              "      <th>0</th>\n",
              "      <td>Date</td>\n",
              "      <td>Total Number of Passengers Screened</td>\n",
              "      <td>Total Number of Passengers Screened</td>\n",
              "      <td>Total Number of Passengers Screened</td>\n",
              "      <td>Total Number of Passengers Screened</td>\n",
              "      <td>Total Number of Passengers Screened</td>\n",
              "      <td>Total Number of Passengers Screened</td>\n",
              "    </tr>\n",
              "    <tr>\n",
              "      <th>1</th>\n",
              "      <td>Date</td>\n",
              "      <td>Eight Largest Airports (note 1)</td>\n",
              "      <td>Eight Largest Airports (note 1)</td>\n",
              "      <td>Eight Largest Airports (note 1)</td>\n",
              "      <td>Fifteen Largest Airports (note 2)</td>\n",
              "      <td>Fifteen Largest Airports (note 2)</td>\n",
              "      <td>Fifteen Largest Airports (note 2)</td>\n",
              "    </tr>\n",
              "    <tr>\n",
              "      <th>2</th>\n",
              "      <td>Date</td>\n",
              "      <td>2019  (same weekday)</td>\n",
              "      <td>2020  (same weekday)</td>\n",
              "      <td>2021</td>\n",
              "      <td>2019  (same weekday)</td>\n",
              "      <td>2020  (same weekday)</td>\n",
              "      <td>2021</td>\n",
              "    </tr>\n",
              "    <tr>\n",
              "      <th>3</th>\n",
              "      <td>2021-01-01</td>\n",
              "      <td>163630</td>\n",
              "      <td>168476</td>\n",
              "      <td>19852</td>\n",
              "      <td>183085</td>\n",
              "      <td>187377</td>\n",
              "      <td>21541</td>\n",
              "    </tr>\n",
              "    <tr>\n",
              "      <th>4</th>\n",
              "      <td>2021-01-02</td>\n",
              "      <td>157173</td>\n",
              "      <td>162485</td>\n",
              "      <td>30913</td>\n",
              "      <td>175472</td>\n",
              "      <td>180131</td>\n",
              "      <td>33807</td>\n",
              "    </tr>\n",
              "  </tbody>\n",
              "</table>\n",
              "</div>"
            ],
            "text/plain": [
              "            0  ...                                    6\n",
              "0        Date  ...  Total Number of Passengers Screened\n",
              "1        Date  ...    Fifteen Largest Airports (note 2)\n",
              "2        Date  ...                                 2021\n",
              "3  2021-01-01  ...                                21541\n",
              "4  2021-01-02  ...                                33807\n",
              "\n",
              "[5 rows x 7 columns]"
            ]
          },
          "metadata": {
            "tags": []
          },
          "execution_count": 4
        }
      ]
    },
    {
      "cell_type": "code",
      "metadata": {
        "id": "me-9wDVsNUmE"
      },
      "source": [
        "df = d[0].copy()\n",
        "df.columns = ['Date','Eight Lar. Airport 2019','Eight Lar. Airport 2020', 'Eight Lar. Airport 2021','Fifteen Lar. Airport 2019','Fifteen Lar. Airport 2020','Fifteen Lar. Airport 2021']\n",
        "df = df.drop([0,1,2])\n",
        "#\n",
        "#df = df.set_index(pd.DatetimeIndex(df['Date'])).drop('Date',axis=1)\n",
        "df_8_2019  = df[['Date','Eight Lar. Airport 2019']].copy()\n",
        "df_8_2020  = df[['Date','Eight Lar. Airport 2020']].copy()\n",
        "df_8_2021  = df[['Date','Eight Lar. Airport 2021']].copy()\n",
        "df_15_2019 = df[['Date','Fifteen Lar. Airport 2019']].copy()\n",
        "df_15_2020 = df[['Date','Fifteen Lar. Airport 2020']].copy()\n",
        "df_15_2021 = df[['Date','Fifteen Lar. Airport 2021']].copy()\n",
        "date19 = df['Date'].str.replace(\"2021\",'2019')\n",
        "date20 = df['Date'].str.replace(\"2021\",'2020')\n",
        "\n",
        "df_8_2019['Date']  = date19\n",
        "df_8_2020['Date']  = date20\n",
        "df_15_2019['Date'] = date19\n",
        "df_15_2020['Date'] = date20\n",
        "df_8_2019.columns = ['Date','8 larget airports']\n",
        "df_8_2020.columns = ['Date','8 larget airports']\n",
        "df_8_2021.columns = ['Date','8 larget airports']\n",
        "df_15_2019.columns = ['Date','15 larget airports']\n",
        "df_15_2020.columns = ['Date','15 larget airports']\n",
        "df_15_2021.columns = ['Date','15 larget airports']"
      ],
      "execution_count": 5,
      "outputs": []
    },
    {
      "cell_type": "code",
      "metadata": {
        "colab": {
          "base_uri": "https://localhost:8080/",
          "height": 0
        },
        "id": "4Yk_g95qyECC",
        "outputId": "8f2507f9-c7a3-4fc1-a636-a62affd23e95"
      },
      "source": [
        "df_8   = pd.concat([df_8_2019,df_8_2020,df_8_2021],axis=0).dropna()\n",
        "df_15  = pd.concat([df_15_2019,df_15_2020,df_15_2021],axis=0).dropna()\n",
        "df_8\n",
        "df_15"
      ],
      "execution_count": 6,
      "outputs": [
        {
          "output_type": "execute_result",
          "data": {
            "text/html": [
              "<div>\n",
              "<style scoped>\n",
              "    .dataframe tbody tr th:only-of-type {\n",
              "        vertical-align: middle;\n",
              "    }\n",
              "\n",
              "    .dataframe tbody tr th {\n",
              "        vertical-align: top;\n",
              "    }\n",
              "\n",
              "    .dataframe thead th {\n",
              "        text-align: right;\n",
              "    }\n",
              "</style>\n",
              "<table border=\"1\" class=\"dataframe\">\n",
              "  <thead>\n",
              "    <tr style=\"text-align: right;\">\n",
              "      <th></th>\n",
              "      <th>Date</th>\n",
              "      <th>15 larget airports</th>\n",
              "    </tr>\n",
              "  </thead>\n",
              "  <tbody>\n",
              "    <tr>\n",
              "      <th>3</th>\n",
              "      <td>2019-01-01</td>\n",
              "      <td>183085</td>\n",
              "    </tr>\n",
              "    <tr>\n",
              "      <th>4</th>\n",
              "      <td>2019-01-02</td>\n",
              "      <td>175472</td>\n",
              "    </tr>\n",
              "    <tr>\n",
              "      <th>5</th>\n",
              "      <td>2019-01-03</td>\n",
              "      <td>182370</td>\n",
              "    </tr>\n",
              "    <tr>\n",
              "      <th>6</th>\n",
              "      <td>2019-01-04</td>\n",
              "      <td>160526</td>\n",
              "    </tr>\n",
              "    <tr>\n",
              "      <th>7</th>\n",
              "      <td>2019-01-05</td>\n",
              "      <td>150842</td>\n",
              "    </tr>\n",
              "    <tr>\n",
              "      <th>...</th>\n",
              "      <td>...</td>\n",
              "      <td>...</td>\n",
              "    </tr>\n",
              "    <tr>\n",
              "      <th>176</th>\n",
              "      <td>2021-06-23</td>\n",
              "      <td>29805</td>\n",
              "    </tr>\n",
              "    <tr>\n",
              "      <th>177</th>\n",
              "      <td>2021-06-24</td>\n",
              "      <td>31367</td>\n",
              "    </tr>\n",
              "    <tr>\n",
              "      <th>178</th>\n",
              "      <td>2021-06-25</td>\n",
              "      <td>36603</td>\n",
              "    </tr>\n",
              "    <tr>\n",
              "      <th>179</th>\n",
              "      <td>2021-06-26</td>\n",
              "      <td>31004</td>\n",
              "    </tr>\n",
              "    <tr>\n",
              "      <th>180</th>\n",
              "      <td>2021-06-27</td>\n",
              "      <td>36401</td>\n",
              "    </tr>\n",
              "  </tbody>\n",
              "</table>\n",
              "<p>908 rows × 2 columns</p>\n",
              "</div>"
            ],
            "text/plain": [
              "           Date 15 larget airports\n",
              "3    2019-01-01             183085\n",
              "4    2019-01-02             175472\n",
              "5    2019-01-03             182370\n",
              "6    2019-01-04             160526\n",
              "7    2019-01-05             150842\n",
              "..          ...                ...\n",
              "176  2021-06-23              29805\n",
              "177  2021-06-24              31367\n",
              "178  2021-06-25              36603\n",
              "179  2021-06-26              31004\n",
              "180  2021-06-27              36401\n",
              "\n",
              "[908 rows x 2 columns]"
            ]
          },
          "metadata": {
            "tags": []
          },
          "execution_count": 6
        }
      ]
    },
    {
      "cell_type": "code",
      "metadata": {
        "id": "B_apwQVQrQhY"
      },
      "source": [
        ""
      ],
      "execution_count": 6,
      "outputs": []
    },
    {
      "cell_type": "markdown",
      "metadata": {
        "id": "6xU7ya7F3NvQ"
      },
      "source": [
        "# World Airlines Traffic and Capacity (AUG 21, 2019)\n",
        "https://www.airlines.org/dataset/world-airlines-traffic-and-capacity-2/\n",
        "\n",
        "Traffic and operations data below reflects the systemwide scheduled activity of passenger and cargo airlines operating worldwide, as recorded by ICAO; domestic operations within the former USSR are excluded prior to 1970."
      ]
    },
    {
      "cell_type": "code",
      "metadata": {
        "id": "jp5g34PvDCmM"
      },
      "source": [
        ""
      ],
      "execution_count": 6,
      "outputs": []
    },
    {
      "cell_type": "code",
      "metadata": {
        "colab": {
          "base_uri": "https://localhost:8080/"
        },
        "id": "dCdG8jOsDEO8",
        "outputId": "499646ee-ddac-4f83-8f05-8a246ea00c6c"
      },
      "source": [
        "!cat ./log"
      ],
      "execution_count": 10,
      "outputs": [
        {
          "output_type": "stream",
          "text": [
            "cat: ./log: No such file or directory\n"
          ],
          "name": "stdout"
        }
      ]
    },
    {
      "cell_type": "code",
      "metadata": {
        "id": "DN-fwFcc6jnr"
      },
      "source": [
        "df_airline_traffic = pd.read_csv('/content/sample_data/Traffic_and_Operations__1929-Present_data.csv').dropna()"
      ],
      "execution_count": 9,
      "outputs": []
    },
    {
      "cell_type": "code",
      "metadata": {
        "colab": {
          "base_uri": "https://localhost:8080/",
          "height": 34
        },
        "id": "he1R5aLfADY5",
        "outputId": "bde55cf0-2554-400d-c31c-c2cef98eecee"
      },
      "source": [
        "#%%script false --no-raise-error\n",
        "create_download_link(df_airline_traffic,'Traffic_and_Operations__1929-Present_data.csv')"
      ],
      "execution_count": 11,
      "outputs": [
        {
          "output_type": "execute_result",
          "data": {
            "text/html": [
              "<a download=\"data.csv\" href=\"data:text/csv;base64,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\" target=\"_blank\">Traffic_and_Operations__1929-Present_data.csv</a>"
            ],
            "text/plain": [
              "<IPython.core.display.HTML object>"
            ]
          },
          "metadata": {
            "tags": []
          },
          "execution_count": 11
        }
      ]
    },
    {
      "cell_type": "code",
      "metadata": {
        "colab": {
          "base_uri": "https://localhost:8080/",
          "height": 450
        },
        "id": "l1wdkjVT83XM",
        "outputId": "0e6bb6a5-44fa-49d4-b18c-73bec3f3e5ce"
      },
      "source": [
        "df_airline_traffic.groupby(by=['Year','Measure Names']).sum()"
      ],
      "execution_count": 12,
      "outputs": [
        {
          "output_type": "execute_result",
          "data": {
            "text/html": [
              "<div>\n",
              "<style scoped>\n",
              "    .dataframe tbody tr th:only-of-type {\n",
              "        vertical-align: middle;\n",
              "    }\n",
              "\n",
              "    .dataframe tbody tr th {\n",
              "        vertical-align: top;\n",
              "    }\n",
              "\n",
              "    .dataframe thead th {\n",
              "        text-align: right;\n",
              "    }\n",
              "</style>\n",
              "<table border=\"1\" class=\"dataframe\">\n",
              "  <thead>\n",
              "    <tr style=\"text-align: right;\">\n",
              "      <th></th>\n",
              "      <th></th>\n",
              "      <th>Measure Values</th>\n",
              "    </tr>\n",
              "    <tr>\n",
              "      <th>Year</th>\n",
              "      <th>Measure Names</th>\n",
              "      <th></th>\n",
              "    </tr>\n",
              "  </thead>\n",
              "  <tbody>\n",
              "    <tr>\n",
              "      <th rowspan=\"2\" valign=\"top\">1929</th>\n",
              "      <th>Aircraft KMs (mils)</th>\n",
              "      <td>9.000000e+01</td>\n",
              "    </tr>\n",
              "    <tr>\n",
              "      <th>RPKs (mils)</th>\n",
              "      <td>1.700000e+02</td>\n",
              "    </tr>\n",
              "    <tr>\n",
              "      <th rowspan=\"2\" valign=\"top\">1930</th>\n",
              "      <th>Aircraft KMs (mils)</th>\n",
              "      <td>1.200000e+02</td>\n",
              "    </tr>\n",
              "    <tr>\n",
              "      <th>RPKs (mils)</th>\n",
              "      <td>2.700000e+02</td>\n",
              "    </tr>\n",
              "    <tr>\n",
              "      <th>1931</th>\n",
              "      <th>Aircraft KMs (mils)</th>\n",
              "      <td>1.350000e+02</td>\n",
              "    </tr>\n",
              "    <tr>\n",
              "      <th>...</th>\n",
              "      <th>...</th>\n",
              "      <td>...</td>\n",
              "    </tr>\n",
              "    <tr>\n",
              "      <th rowspan=\"5\" valign=\"top\">2019</th>\n",
              "      <th>Cargo RTKs (mils)</th>\n",
              "      <td>2.317790e+05</td>\n",
              "    </tr>\n",
              "    <tr>\n",
              "      <th>Freight Tonnes (mils)</th>\n",
              "      <td>5.759221e+01</td>\n",
              "    </tr>\n",
              "    <tr>\n",
              "      <th>PLF</th>\n",
              "      <td>8.239932e-01</td>\n",
              "    </tr>\n",
              "    <tr>\n",
              "      <th>Passengers (mils)</th>\n",
              "      <td>4.486211e+03</td>\n",
              "    </tr>\n",
              "    <tr>\n",
              "      <th>RPKs (mils)</th>\n",
              "      <td>8.685667e+06</td>\n",
              "    </tr>\n",
              "  </tbody>\n",
              "</table>\n",
              "<p>583 rows × 1 columns</p>\n",
              "</div>"
            ],
            "text/plain": [
              "                            Measure Values\n",
              "Year Measure Names                        \n",
              "1929 Aircraft KMs (mils)      9.000000e+01\n",
              "     RPKs (mils)              1.700000e+02\n",
              "1930 Aircraft KMs (mils)      1.200000e+02\n",
              "     RPKs (mils)              2.700000e+02\n",
              "1931 Aircraft KMs (mils)      1.350000e+02\n",
              "...                                    ...\n",
              "2019 Cargo RTKs (mils)        2.317790e+05\n",
              "     Freight Tonnes (mils)    5.759221e+01\n",
              "     PLF                      8.239932e-01\n",
              "     Passengers (mils)        4.486211e+03\n",
              "     RPKs (mils)              8.685667e+06\n",
              "\n",
              "[583 rows x 1 columns]"
            ]
          },
          "metadata": {
            "tags": []
          },
          "execution_count": 12
        }
      ]
    },
    {
      "cell_type": "markdown",
      "metadata": {
        "id": "hFCjpXyuU4nk"
      },
      "source": [
        "# List of Stocks to gather data on"
      ]
    },
    {
      "cell_type": "code",
      "metadata": {
        "id": "YLTNORn6VAWm"
      },
      "source": [
        "stock_symbols = ['ALK','ALG','AAL','AZUL','VLRS','CPA','DAL','GOL','HA','JBLU','RYAAR','SKYW','LUV','SAVE','UAL']"
      ],
      "execution_count": 13,
      "outputs": []
    },
    {
      "cell_type": "markdown",
      "metadata": {
        "id": "KTYgfKhlIvJ_"
      },
      "source": [
        "# Macro Trends\n",
        "https://www.macrotrends.net/stocks/charts/ALG/alamo/pe-ratio\n"
      ]
    },
    {
      "cell_type": "code",
      "metadata": {
        "id": "xHK0MrnnV7Yp"
      },
      "source": [
        "macrotrends_url_list = {\n",
        "    'ALK'   :'https://www.macrotrends.net/stocks/charts/ALK/alaska-air/pe-ratio',\n",
        "    'ALG'   :'https://www.macrotrends.net/stocks/charts/ALG/alamo/pe-ratio',\n",
        "    'AAL'   :'https://www.macrotrends.net/stocks/charts/AAL/american-airlines-group/pe-ratio',\n",
        "    'AZUL'  :'https://www.macrotrends.net/stocks/charts/AZUL/azul-sa/pe-ratio',\n",
        "    'VLRS'  :'https://www.macrotrends.net/stocks/charts/VLRS/controladora-vuela-compania-de-aviacion,-sab-de-cv/pe-ratio',\n",
        "    'CPA'   :'https://www.macrotrends.net/stocks/charts/CPA/copa-holdings,-sa/pe-ratio',\n",
        "    'DAL'   :'https://www.macrotrends.net/stocks/charts/DAL/delta-air-lines/pe-ratio',\n",
        "    'GOL'   :'https://www.macrotrends.net/stocks/charts/GOL/gol-linhas-aereas-inteligentes-sa/pe-ratio',\n",
        "    'HA'    :'',\n",
        "    'JBLU'  :'https://www.macrotrends.net/stocks/charts/JBLU/jetblue-airways/pe-ratio',\n",
        "    'RYAAR' :'',\n",
        "    'SKYW'  :'https://www.macrotrends.net/stocks/charts/SKYW/skywest/pe-ratio',\n",
        "    'LUV'   :'https://www.macrotrends.net/stocks/charts/LUV/southwest-airlines/pe-ratio',\n",
        "    'SAVE'  :'https://www.macrotrends.net/stocks/charts/SAVE/spirit-airlines/pe-ratio',\n",
        "    'UAL'   :'https://www.macrotrends.net/stocks/charts/UAL/united-airlines-holdings-inc/pe-ratio'\n",
        "}\n",
        "\n",
        "valid_dict_macrotrends = {sym:url for (sym,url) in macrotrends_url_list.items() if len(url)>0}"
      ],
      "execution_count": 100,
      "outputs": []
    },
    {
      "cell_type": "code",
      "metadata": {
        "colab": {
          "base_uri": "https://localhost:8080/",
          "height": 646
        },
        "id": "bn5FReR6KH0e",
        "outputId": "0cf6063e-518c-438f-a4c9-284beb04a5db"
      },
      "source": [
        "df_list = []\n",
        "for (sym,url) in valid_dict_macrotrends.items():\n",
        "  print(f'{sym}')\n",
        "  d = pd.read_html(valid_dict_macrotrends[sym])       # Reads the tables on the web page (url) into a list of DataFrames\n",
        "  if isinstance(d[0].columns, pd.MultiIndex):         # Checks if the column has a multiIndex\n",
        "    d[0].columns = d[0].columns.get_level_values(1)   # If it does then Flatten it skipping the first header row\n",
        "  else:\n",
        "    print(f'{sym} is not multi index')\n",
        "  d[0]['Symbol'] = sym                                # Add the symbol column back to the DataFrame\n",
        "  df_list.append(d[0])                                # Add the new data frame to the list of DataFrames being used\n",
        "\n",
        "all_info = pd.concat(df_list,axis=0,ignore_index=True)  # Combine all the DataFames in the list into one \n",
        "all_info"
      ],
      "execution_count": 103,
      "outputs": [
        {
          "output_type": "stream",
          "text": [
            "ALK\n",
            "ALG\n",
            "AAL\n",
            "AZUL\n",
            "VLRS\n",
            "CPA\n",
            "DAL\n",
            "GOL\n",
            "JBLU\n",
            "SKYW\n",
            "LUV\n",
            "SAVE\n",
            "UAL\n"
          ],
          "name": "stdout"
        },
        {
          "output_type": "execute_result",
          "data": {
            "text/html": [
              "<div>\n",
              "<style scoped>\n",
              "    .dataframe tbody tr th:only-of-type {\n",
              "        vertical-align: middle;\n",
              "    }\n",
              "\n",
              "    .dataframe tbody tr th {\n",
              "        vertical-align: top;\n",
              "    }\n",
              "\n",
              "    .dataframe thead th {\n",
              "        text-align: right;\n",
              "    }\n",
              "</style>\n",
              "<table border=\"1\" class=\"dataframe\">\n",
              "  <thead>\n",
              "    <tr style=\"text-align: right;\">\n",
              "      <th></th>\n",
              "      <th>Date</th>\n",
              "      <th>Stock Price</th>\n",
              "      <th>TTM Net EPS</th>\n",
              "      <th>PE Ratio</th>\n",
              "      <th>Symbol</th>\n",
              "    </tr>\n",
              "  </thead>\n",
              "  <tbody>\n",
              "    <tr>\n",
              "      <th>0</th>\n",
              "      <td>2021-06-25</td>\n",
              "      <td>63.27</td>\n",
              "      <td>NaN</td>\n",
              "      <td>0.00</td>\n",
              "      <td>ALK</td>\n",
              "    </tr>\n",
              "    <tr>\n",
              "      <th>1</th>\n",
              "      <td>2021-03-31</td>\n",
              "      <td>69.21</td>\n",
              "      <td>$-9.74</td>\n",
              "      <td>0.00</td>\n",
              "      <td>ALK</td>\n",
              "    </tr>\n",
              "    <tr>\n",
              "      <th>2</th>\n",
              "      <td>2020-12-31</td>\n",
              "      <td>52.00</td>\n",
              "      <td>$-10.56</td>\n",
              "      <td>0.00</td>\n",
              "      <td>ALK</td>\n",
              "    </tr>\n",
              "    <tr>\n",
              "      <th>3</th>\n",
              "      <td>2020-09-30</td>\n",
              "      <td>36.63</td>\n",
              "      <td>$-5.63</td>\n",
              "      <td>0.00</td>\n",
              "      <td>ALK</td>\n",
              "    </tr>\n",
              "    <tr>\n",
              "      <th>4</th>\n",
              "      <td>2020-06-30</td>\n",
              "      <td>36.26</td>\n",
              "      <td>$0.46</td>\n",
              "      <td>78.83</td>\n",
              "      <td>ALK</td>\n",
              "    </tr>\n",
              "    <tr>\n",
              "      <th>...</th>\n",
              "      <td>...</td>\n",
              "      <td>...</td>\n",
              "      <td>...</td>\n",
              "      <td>...</td>\n",
              "      <td>...</td>\n",
              "    </tr>\n",
              "    <tr>\n",
              "      <th>661</th>\n",
              "      <td>2007-12-31</td>\n",
              "      <td>33.21</td>\n",
              "      <td>$2.25</td>\n",
              "      <td>14.76</td>\n",
              "      <td>UAL</td>\n",
              "    </tr>\n",
              "    <tr>\n",
              "      <th>662</th>\n",
              "      <td>2007-09-30</td>\n",
              "      <td>43.34</td>\n",
              "      <td>$2.17</td>\n",
              "      <td>19.97</td>\n",
              "      <td>UAL</td>\n",
              "    </tr>\n",
              "    <tr>\n",
              "      <th>663</th>\n",
              "      <td>2007-06-30</td>\n",
              "      <td>37.80</td>\n",
              "      <td>$1.26</td>\n",
              "      <td>30.00</td>\n",
              "      <td>UAL</td>\n",
              "    </tr>\n",
              "    <tr>\n",
              "      <th>664</th>\n",
              "      <td>2007-03-31</td>\n",
              "      <td>35.55</td>\n",
              "      <td>$0.36</td>\n",
              "      <td>98.75</td>\n",
              "      <td>UAL</td>\n",
              "    </tr>\n",
              "    <tr>\n",
              "      <th>665</th>\n",
              "      <td>2006-12-31</td>\n",
              "      <td>40.98</td>\n",
              "      <td>$-0.98</td>\n",
              "      <td>0.00</td>\n",
              "      <td>UAL</td>\n",
              "    </tr>\n",
              "  </tbody>\n",
              "</table>\n",
              "<p>666 rows × 5 columns</p>\n",
              "</div>"
            ],
            "text/plain": [
              "           Date  Stock Price TTM Net EPS  PE Ratio Symbol\n",
              "0    2021-06-25        63.27         NaN      0.00    ALK\n",
              "1    2021-03-31        69.21      $-9.74      0.00    ALK\n",
              "2    2020-12-31        52.00     $-10.56      0.00    ALK\n",
              "3    2020-09-30        36.63      $-5.63      0.00    ALK\n",
              "4    2020-06-30        36.26       $0.46     78.83    ALK\n",
              "..          ...          ...         ...       ...    ...\n",
              "661  2007-12-31        33.21       $2.25     14.76    UAL\n",
              "662  2007-09-30        43.34       $2.17     19.97    UAL\n",
              "663  2007-06-30        37.80       $1.26     30.00    UAL\n",
              "664  2007-03-31        35.55       $0.36     98.75    UAL\n",
              "665  2006-12-31        40.98      $-0.98      0.00    UAL\n",
              "\n",
              "[666 rows x 5 columns]"
            ]
          },
          "metadata": {
            "tags": []
          },
          "execution_count": 103
        }
      ]
    },
    {
      "cell_type": "code",
      "metadata": {
        "colab": {
          "base_uri": "https://localhost:8080/",
          "height": 450
        },
        "id": "Okb5eDPfPe2c",
        "outputId": "1b8d4450-8694-4e6c-8d18-c81587bdf72a"
      },
      "source": [
        "pd.concat([df_list[2],df_list[3]],axis=0,ignore_index=True,)"
      ],
      "execution_count": 23,
      "outputs": [
        {
          "output_type": "execute_result",
          "data": {
            "text/html": [
              "<div>\n",
              "<style scoped>\n",
              "    .dataframe tbody tr th:only-of-type {\n",
              "        vertical-align: middle;\n",
              "    }\n",
              "\n",
              "    .dataframe tbody tr th {\n",
              "        vertical-align: top;\n",
              "    }\n",
              "\n",
              "    .dataframe thead tr th {\n",
              "        text-align: left;\n",
              "    }\n",
              "</style>\n",
              "<table border=\"1\" class=\"dataframe\">\n",
              "  <thead>\n",
              "    <tr>\n",
              "      <th></th>\n",
              "      <th colspan=\"4\" halign=\"left\">AZUL SA PE Ratio Historical Data</th>\n",
              "      <th colspan=\"4\" halign=\"left\">American Airlines Group PE Ratio Historical Data</th>\n",
              "    </tr>\n",
              "    <tr>\n",
              "      <th></th>\n",
              "      <th>Date</th>\n",
              "      <th>PE Ratio</th>\n",
              "      <th>Stock Price</th>\n",
              "      <th>TTM Net EPS</th>\n",
              "      <th>Date</th>\n",
              "      <th>PE Ratio</th>\n",
              "      <th>Stock Price</th>\n",
              "      <th>TTM Net EPS</th>\n",
              "    </tr>\n",
              "  </thead>\n",
              "  <tbody>\n",
              "    <tr>\n",
              "      <th>0</th>\n",
              "      <td>NaN</td>\n",
              "      <td>NaN</td>\n",
              "      <td>NaN</td>\n",
              "      <td>NaN</td>\n",
              "      <td>2021-06-25</td>\n",
              "      <td>0.0</td>\n",
              "      <td>22.22</td>\n",
              "      <td>NaN</td>\n",
              "    </tr>\n",
              "    <tr>\n",
              "      <th>1</th>\n",
              "      <td>NaN</td>\n",
              "      <td>NaN</td>\n",
              "      <td>NaN</td>\n",
              "      <td>NaN</td>\n",
              "      <td>2021-03-31</td>\n",
              "      <td>0.0</td>\n",
              "      <td>23.90</td>\n",
              "      <td>$-15.31</td>\n",
              "    </tr>\n",
              "    <tr>\n",
              "      <th>2</th>\n",
              "      <td>NaN</td>\n",
              "      <td>NaN</td>\n",
              "      <td>NaN</td>\n",
              "      <td>NaN</td>\n",
              "      <td>2020-12-31</td>\n",
              "      <td>0.0</td>\n",
              "      <td>15.77</td>\n",
              "      <td>$-18.60</td>\n",
              "    </tr>\n",
              "    <tr>\n",
              "      <th>3</th>\n",
              "      <td>NaN</td>\n",
              "      <td>NaN</td>\n",
              "      <td>NaN</td>\n",
              "      <td>NaN</td>\n",
              "      <td>2020-09-30</td>\n",
              "      <td>0.0</td>\n",
              "      <td>12.29</td>\n",
              "      <td>$-13.84</td>\n",
              "    </tr>\n",
              "    <tr>\n",
              "      <th>4</th>\n",
              "      <td>NaN</td>\n",
              "      <td>NaN</td>\n",
              "      <td>NaN</td>\n",
              "      <td>NaN</td>\n",
              "      <td>2020-06-30</td>\n",
              "      <td>0.0</td>\n",
              "      <td>13.07</td>\n",
              "      <td>$-8.17</td>\n",
              "    </tr>\n",
              "    <tr>\n",
              "      <th>...</th>\n",
              "      <td>...</td>\n",
              "      <td>...</td>\n",
              "      <td>...</td>\n",
              "      <td>...</td>\n",
              "      <td>...</td>\n",
              "      <td>...</td>\n",
              "      <td>...</td>\n",
              "      <td>...</td>\n",
              "    </tr>\n",
              "    <tr>\n",
              "      <th>68</th>\n",
              "      <td>2019-03-31</td>\n",
              "      <td>31.07</td>\n",
              "      <td>29.21</td>\n",
              "      <td>$0.94</td>\n",
              "      <td>NaN</td>\n",
              "      <td>NaN</td>\n",
              "      <td>NaN</td>\n",
              "      <td>NaN</td>\n",
              "    </tr>\n",
              "    <tr>\n",
              "      <th>69</th>\n",
              "      <td>2018-12-31</td>\n",
              "      <td>27.15</td>\n",
              "      <td>27.69</td>\n",
              "      <td>$1.02</td>\n",
              "      <td>NaN</td>\n",
              "      <td>NaN</td>\n",
              "      <td>NaN</td>\n",
              "      <td>NaN</td>\n",
              "    </tr>\n",
              "    <tr>\n",
              "      <th>70</th>\n",
              "      <td>2018-09-30</td>\n",
              "      <td>11.55</td>\n",
              "      <td>17.79</td>\n",
              "      <td>$1.54</td>\n",
              "      <td>NaN</td>\n",
              "      <td>NaN</td>\n",
              "      <td>NaN</td>\n",
              "      <td>NaN</td>\n",
              "    </tr>\n",
              "    <tr>\n",
              "      <th>71</th>\n",
              "      <td>2018-06-30</td>\n",
              "      <td>8.70</td>\n",
              "      <td>16.36</td>\n",
              "      <td>$1.88</td>\n",
              "      <td>NaN</td>\n",
              "      <td>NaN</td>\n",
              "      <td>NaN</td>\n",
              "      <td>NaN</td>\n",
              "    </tr>\n",
              "    <tr>\n",
              "      <th>72</th>\n",
              "      <td>2018-03-31</td>\n",
              "      <td>18.39</td>\n",
              "      <td>34.75</td>\n",
              "      <td>$1.89</td>\n",
              "      <td>NaN</td>\n",
              "      <td>NaN</td>\n",
              "      <td>NaN</td>\n",
              "      <td>NaN</td>\n",
              "    </tr>\n",
              "  </tbody>\n",
              "</table>\n",
              "<p>73 rows × 8 columns</p>\n",
              "</div>"
            ],
            "text/plain": [
              "   AZUL SA PE Ratio Historical Data           ... American Airlines Group PE Ratio Historical Data            \n",
              "                               Date PE Ratio  ...                                      Stock Price TTM Net EPS\n",
              "0                               NaN      NaN  ...                                            22.22         NaN\n",
              "1                               NaN      NaN  ...                                            23.90     $-15.31\n",
              "2                               NaN      NaN  ...                                            15.77     $-18.60\n",
              "3                               NaN      NaN  ...                                            12.29     $-13.84\n",
              "4                               NaN      NaN  ...                                            13.07      $-8.17\n",
              "..                              ...      ...  ...                                              ...         ...\n",
              "68                       2019-03-31    31.07  ...                                              NaN         NaN\n",
              "69                       2018-12-31    27.15  ...                                              NaN         NaN\n",
              "70                       2018-09-30    11.55  ...                                              NaN         NaN\n",
              "71                       2018-06-30     8.70  ...                                              NaN         NaN\n",
              "72                       2018-03-31    18.39  ...                                              NaN         NaN\n",
              "\n",
              "[73 rows x 8 columns]"
            ]
          },
          "metadata": {
            "tags": []
          },
          "execution_count": 23
        }
      ]
    },
    {
      "cell_type": "code",
      "metadata": {
        "id": "fpsDgKEZQWPT"
      },
      "source": [
        ""
      ],
      "execution_count": null,
      "outputs": []
    },
    {
      "cell_type": "code",
      "metadata": {
        "id": "ubSQHCJqSg4h"
      },
      "source": [
        ""
      ],
      "execution_count": null,
      "outputs": []
    },
    {
      "cell_type": "code",
      "metadata": {
        "id": "P7zpNcQKd46i"
      },
      "source": [
        "def get_df(symbol,list_no=0):\n",
        "  d = pd.read_html(valid_dict_macrotrends[symbol])\n",
        "  x = d[list_no].copy()\n",
        "  x['sym'] = symbol\n",
        "  return x\n",
        "def build_one_df():\n",
        "  # df1.reindex_axis(df1.columns.union(df2.columns), axis=1)\n",
        "  new_df = pd.DataFrame()\n",
        "  for x in valid_dict_macrotrends.items():\n",
        "    print(f'Processing {x}')\n",
        "    y = get_df(x[0])\n",
        "    \n",
        "    df_new = y.reindex_axis(y.columns.union(df_new), axis=0)\n",
        "    return df_new\n",
        "\n",
        "build_one_df()"
      ],
      "execution_count": null,
      "outputs": []
    },
    {
      "cell_type": "code",
      "metadata": {
        "id": "377lDKj5fF5a"
      },
      "source": [
        ""
      ],
      "execution_count": null,
      "outputs": []
    },
    {
      "cell_type": "code",
      "metadata": {
        "id": "AahbRJekNGG4"
      },
      "source": [
        "d = pd.read_html('https://www.macrotrends.net/stocks/charts/ALG/alamo/pe-ratio')"
      ],
      "execution_count": null,
      "outputs": []
    },
    {
      "cell_type": "code",
      "metadata": {
        "id": "VToHQ8_SI7tM"
      },
      "source": [
        "d[0]"
      ],
      "execution_count": null,
      "outputs": []
    },
    {
      "cell_type": "code",
      "metadata": {
        "id": "HCzqkpYsKynu"
      },
      "source": [
        ""
      ],
      "execution_count": null,
      "outputs": []
    },
    {
      "cell_type": "markdown",
      "metadata": {
        "id": "NI3mx6LMTb_q"
      },
      "source": [
        "# Morning Star"
      ]
    },
    {
      "cell_type": "code",
      "metadata": {
        "id": "FJWb5CKNThyt"
      },
      "source": [
        "from bs4 import BeautifulSoup\n",
        "import requests\n",
        "import re\n",
        "import json\n",
        "import pandas as pd\n",
        "#pd.set_option('display.max_columns', None)\n",
        "pd.set_option(\"max_rows\", None)\n",
        "\n",
        "url1 = 'http://financials.morningstar.com/finan/financials/getFinancePart.html?&callback=xxx&t=AAPL'\n",
        "soup1 = BeautifulSoup(json.loads(re.findall(r'xxx\\((.*)\\)', requests.get(url1).text)[0])['componentData'], 'lxml')\n",
        "\n",
        "df = pd.read_html(soup1.prettify())\n",
        "df = df[0]\n",
        "df = df.dropna()\n",
        "df"
      ],
      "execution_count": null,
      "outputs": []
    }
  ]
}