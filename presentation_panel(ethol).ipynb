{
 "cells": [
  {
   "cell_type": "code",
   "execution_count": null,
   "metadata": {},
   "outputs": [],
   "source": [
    "# Created Library \r\n",
    "\r\n",
    "import panel as pn\r\n",
    "pn.extension('plotly')\r\n",
    "\r\n",
    "import plotly.express as px\r\n",
    "\r\n",
    "import plotly\r\n",
    "\r\n",
    "import pandas as pd\r\n",
    "\r\n",
    "import hvplot.pandas\r\n",
    "\r\n",
    "from matplotlib import pyplot as plt\r\n",
    "\r\n",
    "import os\r\n",
    "\r\n",
    "from pathlib import Path\r\n",
    "\r\n",
    "import numpy as np\r\n",
    "\r\n",
    "from bokeh.plotting import figure, show\r\n",
    "\r\n",
    "from bokeh.io import output_notebook\r\n",
    "\r\n",
    "from holoviews import opts\r\n",
    "\r\n",
    "from bokeh.models.formatters import DatetimeTickFormatter\r\n",
    "\r\n",
    "from bokeh.models.formatters import BasicTickFormatter\r\n",
    "\r\n",
    "import holoviews as hv\r\n",
    "\r\n",
    "from holoviews import opts\r\n"
   ]
  },
  {
   "cell_type": "code",
   "execution_count": null,
   "metadata": {},
   "outputs": [],
   "source": [
    "# Imported cleaned csv files in preparation for visualization\r\n",
    "\r\n",
    "# All U.S. Carriers Data\r\n",
    "\r\n",
    "us_passengers_final = pd.read_csv(\"Data/transportation_statistics(cleaned)/us_passengers_final.csv\")\r\n",
    "us_flights_final = pd.read_csv(\"Data/transportation_statistics(cleaned)/us_flights_final.csv\")\r\n",
    "us_passenger_miles_final = pd.read_csv(\"Data/transportation_statistics(cleaned)/us_passenger_miles_final.csv\")\r\n",
    "us_seat_miles_final = pd.read_csv(\"Data/transportation_statistics(cleaned)/us_seat_miles_final.csv\")\r\n",
    "us_load_final = pd.read_csv(\"Data/transportation_statistics(cleaned)/us_load_final.csv\")\r\n",
    "\r\n",
    "# Delta Airlines Data\r\n",
    "\r\n",
    "dal_passengers_final = pd.read_csv(\"Data/transportation_statistics(cleaned)/dal_passengers_final.csv\")\r\n",
    "dal_flights_final = pd.read_csv(\"Data/transportation_statistics(cleaned)/dal_flights_final.csv\")\r\n",
    "dal_passenger_miles_final = pd.read_csv(\"Data/transportation_statistics(cleaned)/dal_passenger_miles_final.csv\")\r\n",
    "dal_seat_miles_final = pd.read_csv(\"Data/transportation_statistics(cleaned)/dal_seat_miles_final.csv\")\r\n",
    "dal_load_final = pd.read_csv(\"Data/transportation_statistics(cleaned)/dal_load_final.csv\")\r\n",
    "\r\n",
    "\r\n",
    "# Southwest Airlines Data\r\n",
    "\r\n",
    "luv_passengers_final = pd.read_csv(\"Data/transportation_statistics(cleaned)/luv_passengers_final.csv\")\r\n",
    "luv_flights_final = pd.read_csv(\"Data/transportation_statistics(cleaned)/luv_flights_final.csv\")\r\n",
    "luv_passenger_miles_final = pd.read_csv(\"Data/transportation_statistics(cleaned)/luv_passenger_miles_final.csv\")\r\n",
    "luv_seat_miles_final = pd.read_csv(\"Data/transportation_statistics(cleaned)/luv_seat_miles_final.csv\")\r\n",
    "luv_load_final = pd.read_csv(\"Data/transportation_statistics(cleaned)/luv_load_final.csv\")\r\n",
    "\r\n",
    "# United Airlines Data\r\n",
    "\r\n",
    "ual_passengers_final = pd.read_csv(\"Data/transportation_statistics(cleaned)/ual_passengers_final.csv\")\r\n",
    "ual_flights_final = pd.read_csv(\"Data/transportation_statistics(cleaned)/ual_flights_final.csv\")\r\n",
    "ual_passenger_miles_final = pd.read_csv(\"Data/transportation_statistics(cleaned)/ual_passenger_miles_final.csv\")\r\n",
    "ual_seat_miles_final = pd.read_csv(\"Data/transportation_statistics(cleaned)/ual_seat_miles_final.csv\")\r\n",
    "ual_load_final = pd.read_csv(\"Data/transportation_statistics(cleaned)/ual_load_final.csv\")"
   ]
  },
  {
   "cell_type": "code",
   "execution_count": null,
   "metadata": {},
   "outputs": [],
   "source": [
    "# Imported airline fundamentals data files\r\n",
    "\r\n",
    "dal_fundamentals = pd.read_csv(\"Data/DAL_fundamentals.csv\")\r\n",
    "\r\n",
    "luv_fundamentals = pd.read_csv(\"Data/LUV_fundamentals.csv\")\r\n",
    "\r\n",
    "ual_fundamentals = pd.read_csv(\"Data/UAL_fundamentals.csv\")"
   ]
  },
  {
   "cell_type": "code",
   "execution_count": null,
   "metadata": {},
   "outputs": [],
   "source": [
    "# Prepared Index\r\n",
    "\r\n",
    "# All U.S. Carriers\r\n",
    "\r\n",
    "us_passengers_final.set_index('Year', inplace=True)\r\n",
    "us_flights_final.set_index('Year', inplace=True)\r\n",
    "us_passenger_miles_final.set_index('Year', inplace=True)\r\n",
    "us_seat_miles_final.set_index('Year', inplace=True)\r\n",
    "us_load_final.set_index('Year', inplace=True)\r\n",
    "\r\n",
    "# Delta Airlines\r\n",
    "\r\n",
    "dal_passengers_final.set_index('Year', inplace=True)\r\n",
    "dal_flights_final.set_index('Year', inplace=True)\r\n",
    "dal_passenger_miles_final.set_index('Year', inplace=True)\r\n",
    "dal_seat_miles_final.set_index('Year', inplace=True)\r\n",
    "dal_load_final.set_index('Year', inplace=True)\r\n",
    "\r\n",
    "# Southwest Airlines\r\n",
    "\r\n",
    "luv_passengers_final.set_index('Year', inplace=True)\r\n",
    "luv_flights_final.set_index('Year', inplace=True)\r\n",
    "luv_passenger_miles_final.set_index('Year', inplace=True)\r\n",
    "luv_seat_miles_final.set_index('Year', inplace=True)\r\n",
    "luv_load_final.set_index('Year', inplace=True)\r\n",
    "\r\n",
    "# United Airlines\r\n",
    "\r\n",
    "ual_passengers_final.set_index('Year', inplace=True)\r\n",
    "ual_flights_final.set_index('Year', inplace=True)\r\n",
    "ual_passenger_miles_final.set_index('Year', inplace=True)\r\n",
    "ual_seat_miles_final.set_index('Year', inplace=True)\r\n",
    "ual_load_final.set_index('Year', inplace=True)"
   ]
  },
  {
   "cell_type": "code",
   "execution_count": null,
   "metadata": {},
   "outputs": [],
   "source": [
    "# Created Function for plots for Passenger Data, Flights, Passenger-Miles, Seat-Miles, and Load data\r\n",
    "\r\n",
    "def Make_Chart(data, lbl=None,ylbl=None,color=None, shrd__ax=False,size=(900,500),yfmt='%.0f', BarChart=True):\r\n",
    "    if BarChart:\r\n",
    "        plot = data.hvplot.bar(label= lbl\r\n",
    "                        , ylabel= ylbl\r\n",
    "                        , color= color\r\n",
    "                        , shared_axes= shrd__ax\r\n",
    "                        , width=size[0],height=size[1]\r\n",
    "                        )#.opts(yformatter=yfmt, shared_axes=False)\r\n",
    "    else:\r\n",
    "        plot = data.hvplot.line(label= lbl\r\n",
    "                        , ylabel= ylbl\r\n",
    "                        , color= color\r\n",
    "                        , shared_axes= shrd__ax\r\n",
    "                        , width=size[0],height=size[1]\r\n",
    "                        )#.opts(yformatter=yfmt, shared_axes=False)\r\n",
    "\r\n",
    "    return plot"
   ]
  },
  {
   "cell_type": "code",
   "execution_count": null,
   "metadata": {},
   "outputs": [],
   "source": [
    "# Passenger Data\r\n",
    "\r\n",
    "chart_list = [  (us_passengers_final,\"All U.S.Carriers Passengers - All Airports\", \"Number of Passengers\", \"Orange\")\r\n",
    "                , (dal_passengers_final, \"Delta Airlines Passengers - All Airports\", \"Number of Passengers\", \"Green\")\r\n",
    "                , (luv_passengers_final, \"Southwest Airlines Passengers - All Airports\", \"Number of Passengers\", \"Purple\")\r\n",
    "                , (ual_passengers_final, \"United Airlines Passengers - All Airports\",  \"Number of Passengers\", \"Pink\")]\r\n",
    "passenger_lst = []\r\n",
    "for dta, lbl, ylbl, color in chart_list:\r\n",
    "    cht = Make_Chart(data=dta, lbl=lbl, ylbl=ylbl, color=color,BarChart=False)\r\n",
    "    passenger_lst.append(cht)"
   ]
  },
  {
   "cell_type": "code",
   "execution_count": null,
   "metadata": {},
   "outputs": [],
   "source": [
    "# Flight Data\r\n",
    "\r\n",
    "chart_list = [  (us_flights_final,\"All U.S.Carriers Flights - All Airports\", \"Number of Flights\", \"Orange\")\r\n",
    "                , (dal_flights_final, \"Delta Airlines Flights - All Airports\", \"Number of Flights\", \"Green\")\r\n",
    "                , (luv_flights_final, \"Southwest Airlines Flights - All Airports\", \"Number of Flights\", \"Purple\")\r\n",
    "                , (ual_flights_final, \"United Airlines Flights - All Airports\",  \"Number of Flights\", \"Yellow\")]\r\n",
    "flight_lst = []\r\n",
    "for dta, lbl, ylbl, color in chart_list:\r\n",
    "    cht = Make_Chart(data=dta, lbl=lbl, ylbl=ylbl, color=color,BarChart=False)\r\n",
    "    flight_lst.append(cht)\r\n"
   ]
  },
  {
   "cell_type": "code",
   "execution_count": null,
   "metadata": {},
   "outputs": [],
   "source": [
    "# Revenue Passenger-Miles Data\r\n",
    "\r\n",
    "chart_list = [  (us_passenger_miles_final,\"All U.S. Carriers Airlines Revenue Passenger-Miles - All Airports\", \"(The number of passengers and the distance flown in thousands (000)) \", \"Orange\")\r\n",
    "                , (dal_passenger_miles_final, \"Delta Airlines Revenue Passenger-Miles - All Airports\", \"(The number of passengers and the distance flown in thousands (000)) \", \"Green\")\r\n",
    "                , (luv_passenger_miles_final, \"Southwest Airlines Carriers Airlines Revenue Passenger-Miles - All Airports\", \"(The number of passengers and the distance flown in thousands (000)) \", \"Purple\")\r\n",
    "                , (ual_passenger_miles_final, \"United Airlines Carriers Airlines Revenue Passenger-Miles - All Airports\",  \"(The number of passengers and the distance flown in thousands (000)) \", \"Pink\")]\r\n",
    "passenger_miles_lst = []\r\n",
    "for dta, lbl, ylbl, color in chart_list:\r\n",
    "    cht = Make_Chart(data=dta, lbl=lbl, ylbl=ylbl, color=color,BarChart=False)\r\n",
    "    passenger_miles_lst.append(cht)"
   ]
  },
  {
   "cell_type": "code",
   "execution_count": null,
   "metadata": {},
   "outputs": [],
   "source": [
    "# Seat-Miles Data\r\n",
    "\r\n",
    "chart_list = [  (us_seat_miles_final,\"All U.S. Carriers Available Seat-Miles - All Airports\" , \"(the number of seats and the distance flown in thousands (000)) \", \"Orange\")\r\n",
    "                , (dal_seat_miles_final, \"Delta Airlines Available Seat-Miles - All Airports\" , \"(the number of seats and the distance flown in thousands (000)) \", \"Green\")\r\n",
    "                , (luv_seat_miles_final, \"Southwest Airlines Available Seat-Miles - All Airports\" , \"(the number of seats and the distance flown in thousands (000)) \", \"Purple\")\r\n",
    "                , (ual_seat_miles_final, \"United Airlines Available Seat-Miles - All Airports\" , \"(the number of seats and the distance flown in thousands (000)) \", \"Pink\")]\r\n",
    "seat_miles_lst = []\r\n",
    "for dta, lbl, ylbl, color in chart_list:\r\n",
    "    cht = Make_Chart(data=dta, lbl=lbl, ylbl=ylbl, color=color,BarChart=False)\r\n",
    "    seat_miles_lst.append(cht)"
   ]
  },
  {
   "cell_type": "code",
   "execution_count": null,
   "metadata": {},
   "outputs": [],
   "source": [
    "# Load Factor Data\r\n",
    "\r\n",
    "chart_list = [  (us_load_final,\"All U.S. Carriers Load Factor - All Airports\" , \"(passenger-miles as a proportion of available seat-miles in percent (%)) \", \"Orange\")\r\n",
    "                , (dal_load_final, \"Delta Airlines Load Factor - All Airports\" , \"(passenger-miles as a proportion of available seat-miles in percent (%))\", \"Green\")\r\n",
    "                , (luv_load_final, \"Southwest Airlines Load Factor - All Airports\" , \"(passenger-miles as a proportion of available seat-miles in percent (%)) \", \"Purple\")\r\n",
    "                , (ual_load_final, \"United Airlines Load Factor - All Airports\" , \"(passenger-miles as a proportion of available seat-miles in percent (%))\", \"Pink\")]\r\n",
    "load_factor_lst = []\r\n",
    "for dta, lbl, ylbl, color in chart_list:\r\n",
    "    cht = Make_Chart(data=dta, lbl=lbl, ylbl=ylbl, color=color,BarChart=True)\r\n",
    "    load_factor_lst.append(cht)"
   ]
  },
  {
   "cell_type": "code",
   "execution_count": null,
   "metadata": {},
   "outputs": [],
   "source": [
    "# Created Variables for dashboard\r\n",
    "fl_air = flight_lst[1] * flight_lst[2] * flight_lst[3]\r\n",
    "industry_row1 = pn.Row(passenger_lst[0], passenger_lst[1] * passenger_lst[2] * passenger_lst[3])\r\n",
    "\r\n",
    "industry_row2 = pn.Row(flight_lst[0], fl_air)\r\n",
    "\r\n",
    "industry_row3 = pn.Row(passenger_miles_lst[0], passenger_miles_lst[1] * passenger_miles_lst[2] * passenger_miles_lst[3])\r\n",
    "\r\n",
    "industry_row4 = pn.Row(seat_miles_lst[0], seat_miles_lst[1] * seat_miles_lst[2] * seat_miles_lst[3])\r\n",
    "\r\n",
    "industry_row5 = pn.Row(load_factor_lst[0], load_factor_lst[1] * load_factor_lst[2] * load_factor_lst[3])\r\n",
    "\r\n",
    "industry_panel = pn.Column(industry_row1, industry_row2,industry_row3,industry_row4,industry_row5)\r\n",
    "\r\n",
    "# Dashboard tabs\r\n",
    "\r\n",
    "dashboard_tabs = pn.Tabs(\r\n",
    "    (\"Industry Analysis\", industry_panel),\r\n",
    "    (\"Industry Analysis X\", industry_panel),  \r\n",
    ")\r\n"
   ]
  },
  {
   "cell_type": "code",
   "execution_count": null,
   "metadata": {},
   "outputs": [],
   "source": [
    "dal_revenue=dal_fundamentals.loc[:,['Report Date','Fiscal Year','Fiscal Period','Revenue']]\r\n",
    "dal_revenue.set_index('Report Date',inplace=True)\r\n",
    "dal_revenue.rename(columns={'Revenue':'DAL Revenue'},inplace=True)\r\n",
    "luv_revenue=luv_fundamentals.loc[:,['Report Date','Fiscal Year','Fiscal Period','Revenue']]\r\n",
    "luv_revenue.set_index('Report Date',inplace=True)\r\n",
    "luv_revenue.rename(columns={'Revenue':'LUV Revenue'},inplace=True)\r\n",
    "ual_revenue=ual_fundamentals.loc[:,['Report Date','Fiscal Year','Fiscal Period','Revenue']]\r\n",
    "ual_revenue.set_index('Report Date',inplace=True)\r\n",
    "ual_revenue.rename(columns={'Revenue':'UAL Revenue'},inplace=True)\r\n",
    "revenue=pd.concat([dal_revenue,luv_revenue,ual_revenue],axis='columns',join='inner')\r\n",
    "revenue.drop(columns=['Fiscal Period','Fiscal Year'],inplace=True)\r\n",
    "revenue.sort_index(inplace=True) "
   ]
  },
  {
   "cell_type": "code",
   "execution_count": null,
   "metadata": {},
   "outputs": [],
   "source": [
    "dal_revenue=dal_fundamentals.loc[:,['Report Date','Fiscal Year','Fiscal Period','Gross Profit Margin']]\r\n",
    "dal_revenue.set_index('Report Date',inplace=True)\r\n",
    "dal_revenue.rename(columns={'Gross Profit Margin':'DAL Gross Profit Margin'},inplace=True)\r\n",
    "luv_revenue=luv_fundamentals.loc[:,['Report Date','Fiscal Year','Fiscal Period','Gross Profit Margin']]\r\n",
    "luv_revenue.set_index('Report Date',inplace=True)\r\n",
    "luv_revenue.rename(columns={'Gross Profit Margin':'LUV Gross Profit Margin'},inplace=True)\r\n",
    "ual_revenue=ual_fundamentals.loc[:,['Report Date','Fiscal Year','Fiscal Period','Gross Profit Margin']]\r\n",
    "ual_revenue.set_index('Report Date',inplace=True)\r\n",
    "ual_revenue.rename(columns={'Gross Profit Margin':'UAL Gross Profit Margin'},inplace=True)\r\n",
    "gpm=pd.concat([dal_revenue,luv_revenue,ual_revenue],axis='columns',join='inner')\r\n",
    "gpm.drop(columns=['Fiscal Period','Fiscal Year'],inplace=True)\r\n",
    "gpm.sort_index(inplace=True) "
   ]
  },
  {
   "cell_type": "code",
   "execution_count": null,
   "metadata": {},
   "outputs": [],
   "source": [
    "dal_revenue=dal_fundamentals.loc[:,['Report Date','Fiscal Year','Fiscal Period','Net Profit Margin']]\r\n",
    "dal_revenue.set_index('Report Date',inplace=True)\r\n",
    "dal_revenue.rename(columns={'Net Profit Margin':'DAL Net Profit Margin'},inplace=True)\r\n",
    "luv_revenue=luv_fundamentals.loc[:,['Report Date','Fiscal Year','Fiscal Period','Net Profit Margin']]\r\n",
    "luv_revenue.set_index('Report Date',inplace=True)\r\n",
    "luv_revenue.rename(columns={'Net Profit Margin':'LUV Net Profit Margin'},inplace=True)\r\n",
    "ual_revenue=ual_fundamentals.loc[:,['Report Date','Fiscal Year','Fiscal Period','Net Profit Margin']]\r\n",
    "ual_revenue.set_index('Report Date',inplace=True)\r\n",
    "ual_revenue.rename(columns={'Net Profit Margin':'UAL Net Profit Margin'},inplace=True)\r\n",
    "npm=pd.concat([dal_revenue,luv_revenue,ual_revenue],axis='columns',join='inner')\r\n",
    "npm.drop(columns=['Fiscal Period','Fiscal Year'],inplace=True)\r\n",
    "npm.sort_index(inplace=True) "
   ]
  },
  {
   "cell_type": "code",
   "execution_count": null,
   "metadata": {},
   "outputs": [],
   "source": [
    "dal_profit=dal_fundamentals.loc[:,['Report Date','Fiscal Year','Fiscal Period','Net Income']]\r\n",
    "dal_profit.set_index('Report Date',inplace=True)\r\n",
    "dal_profit.rename(columns={'Net Income':'DAL Net Income'},inplace=True)\r\n",
    "luv_profit=luv_fundamentals.loc[:,['Report Date','Fiscal Year','Fiscal Period','Net Income']]\r\n",
    "luv_profit.set_index('Report Date',inplace=True)\r\n",
    "luv_profit.rename(columns={'Net Income':'LUV Net Income'},inplace=True)\r\n",
    "ual_profit=ual_fundamentals.loc[:,['Report Date','Fiscal Year','Fiscal Period','Net Income']]\r\n",
    "ual_profit.set_index('Report Date',inplace=True)\r\n",
    "ual_profit.rename(columns={'Net Income':'UAL Net Income'},inplace=True)\r\n",
    "profit=pd.concat([dal_profit,luv_profit,ual_profit],axis='columns',join='inner')\r\n",
    "profit.drop(columns=['Fiscal Period','Fiscal Year'],inplace=True)\r\n",
    "profit.sort_index(inplace=True)"
   ]
  },
  {
   "cell_type": "code",
   "execution_count": null,
   "metadata": {},
   "outputs": [],
   "source": [
    "dal_revenue=dal_fundamentals.loc[:,['Report Date','Fiscal Year','Fiscal Period','Net Profit Margin']]\r\n",
    "dal_revenue.set_index('Report Date',inplace=True)\r\n",
    "dal_revenue.rename(columns={'Net Profit Margin':'DAL Net Profit Margin'},inplace=True)\r\n",
    "luv_revenue=luv_fundamentals.loc[:,['Report Date','Fiscal Year','Fiscal Period','Net Profit Margin']]\r\n",
    "luv_revenue.set_index('Report Date',inplace=True)\r\n",
    "luv_revenue.rename(columns={'Net Profit Margin':'LUV Net Profit Margin'},inplace=True)\r\n",
    "ual_revenue=ual_fundamentals.loc[:,['Report Date','Fiscal Year','Fiscal Period','Net Profit Margin']]\r\n",
    "ual_revenue.set_index('Report Date',inplace=True)\r\n",
    "ual_revenue.rename(columns={'Net Profit Margin':'UAL Net Profit Margin'},inplace=True)\r\n",
    "npm=pd.concat([dal_revenue,luv_revenue,ual_revenue],axis='columns',join='inner')\r\n",
    "npm.drop(columns=['Fiscal Period','Fiscal Year'],inplace=True)\r\n",
    "npm.sort_index(inplace=True) "
   ]
  },
  {
   "cell_type": "code",
   "execution_count": null,
   "metadata": {},
   "outputs": [],
   "source": [
    "dal_EPS=dal_fundamentals.loc[:,['Report Date','Fiscal Year','Fiscal Period','EPS']]\r\n",
    "dal_EPS.set_index('Report Date',inplace=True)\r\n",
    "dal_EPS.rename(columns={'EPS':'DAL EPS'},inplace=True)\r\n",
    "luv_EPS=luv_fundamentals.loc[:,['Report Date','Fiscal Year','Fiscal Period','EPS']]\r\n",
    "luv_EPS.set_index('Report Date',inplace=True)\r\n",
    "luv_EPS.rename(columns={'EPS':'LUV EPS'},inplace=True)\r\n",
    "ual_EPS=ual_fundamentals.loc[:,['Report Date','Fiscal Year','Fiscal Period','EPS']]\r\n",
    "ual_EPS.set_index('Report Date',inplace=True)\r\n",
    "ual_EPS.rename(columns={'EPS':'UAL EPS'},inplace=True)\r\n",
    "EPS=pd.concat([dal_EPS,luv_EPS,ual_EPS],axis='columns',join='inner')\r\n",
    "EPS.drop(columns=['Fiscal Period','Fiscal Year'],inplace=True)\r\n",
    "EPS.sort_index(inplace=True)"
   ]
  },
  {
   "cell_type": "code",
   "execution_count": null,
   "metadata": {},
   "outputs": [],
   "source": [
    "dal_revenue=dal_fundamentals.loc[:,['Report Date','Fiscal Year','Fiscal Period','Quick Ratio']]\r\n",
    "dal_revenue.set_index('Report Date',inplace=True)\r\n",
    "dal_revenue.rename(columns={'Quick Ratio':'DAL Quick Ratio'},inplace=True)\r\n",
    "luv_revenue=luv_fundamentals.loc[:,['Report Date','Fiscal Year','Fiscal Period','Quick Ratio']]\r\n",
    "luv_revenue.set_index('Report Date',inplace=True)\r\n",
    "luv_revenue.rename(columns={'Quick Ratio':'LUV Quick Ratio'},inplace=True)\r\n",
    "ual_revenue=ual_fundamentals.loc[:,['Report Date','Fiscal Year','Fiscal Period','Quick Ratio']]\r\n",
    "ual_revenue.set_index('Report Date',inplace=True)\r\n",
    "ual_revenue.rename(columns={'Quick Ratio':'UAL Quick Ratio'},inplace=True)\r\n",
    "qr=pd.concat([dal_revenue,luv_revenue,ual_revenue],axis='columns',join='inner')\r\n",
    "qr.drop(columns=['Fiscal Period','Fiscal Year'],inplace=True)\r\n",
    "qr.sort_index(inplace=True) "
   ]
  },
  {
   "cell_type": "code",
   "execution_count": null,
   "metadata": {},
   "outputs": [],
   "source": [
    "\r\n",
    "dal_revenue=dal_fundamentals.loc[:,['Report Date','Fiscal Year','Fiscal Period','Operating Margin']]\r\n",
    "dal_revenue.set_index('Report Date',inplace=True)\r\n",
    "dal_revenue.rename(columns={'Operating Margin':'DAL Operating Margin'},inplace=True)\r\n",
    "luv_revenue=luv_fundamentals.loc[:,['Report Date','Fiscal Year','Fiscal Period','Operating Margin']]\r\n",
    "luv_revenue.set_index('Report Date',inplace=True)\r\n",
    "luv_revenue.rename(columns={'Operating Margin':'LUV Operating Margin'},inplace=True)\r\n",
    "ual_revenue=ual_fundamentals.loc[:,['Report Date','Fiscal Year','Fiscal Period','Operating Margin']]\r\n",
    "ual_revenue.set_index('Report Date',inplace=True)\r\n",
    "ual_revenue.rename(columns={'Operating Margin':'UAL Operating Margin'},inplace=True)\r\n",
    "opm=pd.concat([dal_revenue,luv_revenue,ual_revenue],axis='columns',join='inner')\r\n",
    "opm.drop(columns=['Fiscal Period','Fiscal Year'],inplace=True)\r\n",
    "opm.sort_index(inplace=True) "
   ]
  },
  {
   "cell_type": "code",
   "execution_count": null,
   "metadata": {},
   "outputs": [],
   "source": [
    "dal_cash=dal_fundamentals.loc[:,['Report Date','Fiscal Year','Fiscal Period','Cash, Cash Equivalents & Short Term Investments']]\r\n",
    "dal_cash.set_index('Report Date',inplace=True)\r\n",
    "dal_cash.rename(columns={'Cash, Cash Equivalents & Short Term Investments':'DAL Cash & Short Term Investments'},inplace=True)\r\n",
    "luv_cash=luv_fundamentals.loc[:,['Report Date','Fiscal Year','Fiscal Period','Cash, Cash Equivalents & Short Term Investments']]\r\n",
    "luv_cash.set_index('Report Date',inplace=True)\r\n",
    "luv_cash.rename(columns={'Cash, Cash Equivalents & Short Term Investments':'LUV Cash & Short Term Investments'},inplace=True)\r\n",
    "ual_cash=ual_fundamentals.loc[:,['Report Date','Fiscal Year','Fiscal Period','Cash, Cash Equivalents & Short Term Investments']]\r\n",
    "ual_cash.set_index('Report Date',inplace=True)\r\n",
    "ual_cash.rename(columns={'Cash, Cash Equivalents & Short Term Investments':'UAL Cash & Short Term Investments'},inplace=True)\r\n",
    "cash=pd.concat([dal_cash,luv_cash,ual_cash],axis='columns',join='inner')\r\n",
    "cash.drop(columns=['Fiscal Period','Fiscal Year'],inplace=True)\r\n",
    "cash.sort_index(inplace=True)"
   ]
  },
  {
   "cell_type": "code",
   "execution_count": null,
   "metadata": {},
   "outputs": [],
   "source": [
    "dal_price=dal_fundamentals.loc[:,['Report Date','Fiscal Year','Fiscal Period','DAL Price']]\r\n",
    "dal_price.set_index('Report Date',inplace=True)\r\n",
    "dal_price.rename(columns={'DAL Price':'DAL Stock Price'},inplace=True)\r\n",
    "luv_price=luv_fundamentals.loc[:,['Report Date','Fiscal Year','Fiscal Period','LUv Price']]\r\n",
    "luv_price.set_index('Report Date',inplace=True)\r\n",
    "luv_price.rename(columns={'LUv Pricee':'LUV Stock Price'},inplace=True)\r\n",
    "ual_price=ual_fundamentals.loc[:,['Report Date','Fiscal Year','Fiscal Period','UAL Price']]\r\n",
    "ual_price.set_index('Report Date',inplace=True)\r\n",
    "ual_price.rename(columns={'UAL Price':'UAL Stock Price'},inplace=True)\r\n",
    "price=pd.concat([dal_price,luv_price,ual_price],axis='columns',join='inner')\r\n",
    "price.drop(columns=['Fiscal Period','Fiscal Year'],inplace=True)\r\n",
    "price.sort_index(inplace=True)"
   ]
  },
  {
   "cell_type": "code",
   "execution_count": null,
   "metadata": {},
   "outputs": [],
   "source": [
    "dal_roe=dal_fundamentals.loc[:,['Report Date','Fiscal Year','Fiscal Period','ROE']]\r\n",
    "dal_roe.set_index('Report Date',inplace=True)\r\n",
    "dal_roe.rename(columns={'ROE':'DAL ROE'},inplace=True)\r\n",
    "luv_roe=luv_fundamentals.loc[:,['Report Date','Fiscal Year','Fiscal Period','ROE']]\r\n",
    "luv_roe.set_index('Report Date',inplace=True)\r\n",
    "luv_roe.rename(columns={'ROE':'LUV Stock Price'},inplace=True)\r\n",
    "ual_roe=ual_fundamentals.loc[:,['Report Date','Fiscal Year','Fiscal Period','ROE']]\r\n",
    "ual_roe.set_index('Report Date',inplace=True)\r\n",
    "ual_roe.rename(columns={'ROE':'UAL SROE'},inplace=True)\r\n",
    "roe=pd.concat([dal_roe,luv_roe,ual_roe],axis='columns',join='inner')\r\n",
    "roe.drop(columns=['Fiscal Period','Fiscal Year'],inplace=True)\r\n",
    "roe.drop('2011-06-30', inplace=True)\r\n",
    "roe.drop('2012-09-30', inplace=True)\r\n",
    "roe.drop('2013-09-30', inplace=True)\r\n",
    "roe.drop('2013-03-31', inplace=True)\r\n",
    "roe.sort_index(inplace=True)"
   ]
  },
  {
   "cell_type": "code",
   "execution_count": null,
   "metadata": {},
   "outputs": [],
   "source": [
    "dal_revenue=dal_fundamentals.loc[:,['Report Date','Fiscal Year','Fiscal Period','PE Ratio']]\r\n",
    "dal_revenue.set_index('Report Date',inplace=True)\r\n",
    "dal_revenue.rename(columns={'PE Ratio':'DAL PE Ratio'},inplace=True)\r\n",
    "luv_revenue=luv_fundamentals.loc[:,['Report Date','Fiscal Year','Fiscal Period','PE Ratio']]\r\n",
    "luv_revenue.set_index('Report Date',inplace=True)\r\n",
    "luv_revenue.rename(columns={'PE Ratio':'LUV PE Ratio'},inplace=True)\r\n",
    "ual_revenue=ual_fundamentals.loc[:,['Report Date','Fiscal Year','Fiscal Period','PE Ratio']]\r\n",
    "ual_revenue.set_index('Report Date',inplace=True)\r\n",
    "ual_revenue.rename(columns={'PE Ratio':'UAL PE Ratio'},inplace=True)\r\n",
    "per=pd.concat([dal_revenue,luv_revenue,ual_revenue],axis='columns',join='inner')\r\n",
    "per.drop(columns=['Fiscal Period','Fiscal Year'],inplace=True)\r\n",
    "per.sort_index(inplace=True) "
   ]
  },
  {
   "cell_type": "code",
   "execution_count": null,
   "metadata": {},
   "outputs": [],
   "source": [
    "dal_ps=dal_fundamentals.loc[:,['Report Date','Fiscal Year','Fiscal Period','PS Ratio']]\r\n",
    "dal_ps.set_index('Report Date',inplace=True)\r\n",
    "dal_ps.rename(columns={'PS Ratio':'DAL PS Ratio'},inplace=True)\r\n",
    "luv_ps=luv_fundamentals.loc[:,['Report Date','Fiscal Year','Fiscal Period','PS Ratio']]\r\n",
    "luv_ps.set_index('Report Date',inplace=True)\r\n",
    "luv_ps.rename(columns={'PS Ratio':'LUV PS Ratio'},inplace=True)\r\n",
    "ual_ps=ual_fundamentals.loc[:,['Report Date','Fiscal Year','Fiscal Period','PS Ratio']]\r\n",
    "ual_ps.set_index('Report Date',inplace=True)\r\n",
    "ual_ps.rename(columns={'PS Ratio':'UAL PS Ratio'},inplace=True)\r\n",
    "ps=pd.concat([dal_ps,luv_ps,ual_ps],axis='columns',join='inner')\r\n",
    "ps.drop(columns=['Fiscal Period','Fiscal Year'],inplace=True)\r\n",
    "ps.sort_index(inplace=True)"
   ]
  },
  {
   "cell_type": "code",
   "execution_count": null,
   "metadata": {},
   "outputs": [],
   "source": [
    "dal_fundamentals.columns"
   ]
  },
  {
   "cell_type": "code",
   "execution_count": null,
   "metadata": {},
   "outputs": [],
   "source": [
    "revenue.hvplot(rot=90,width=900,height=600,title='Quarterly Revenue from 2011 to 2021')\r\n",
    "gpm.hvplot(rot=90,width=900,height=600,title='Quarterly Gross Profit Margin from 2011 to 2021')\r\n",
    "npm.hvplot(rot=90,width=900,height=600,title='Quarterly Net Profit Margin from 2011 to 2021')\r\n",
    "profit.hvplot(rot=90,width=900,height=600,title='Quarterly Net Income from 2011 to 2021')\r\n",
    "EPS.hvplot(rot=90,width=900,height=600,title='Quarterly EPS from 2011 to 2021')\r\n",
    "qr.hvplot(rot=90,width=900,height=600,title='Quarterly Quick Ratio from 2011 to 2021')\r\n",
    "opm.hvplot(rot=90,width=900,height=600,title='Quarterly Operating Margin from 2011 to 2021')\r\n",
    "cash.hvplot(rot=90,width=900,height=600,title='Quarterly Cash from 2011 to 2021')\r\n",
    "price.hvplot(rot=90,width=900,height=600,title='Quarterly Stock Price from 2011 to 2021')\r\n",
    "roe.hvplot(rot=90,width=900,height=600,title='Quarterly ROE from 2011 to 2021')\r\n",
    "per.hvplot(rot=90,width=900,height=600,title='Quarterly PE Ratio from 2011 to 2021')\r\n",
    "ps.hvplot(rot=90,width=900,height=600,title='Quarterly PS Ratio from 2011 to 2021')"
   ]
  },
  {
   "cell_type": "code",
   "execution_count": null,
   "metadata": {},
   "outputs": [],
   "source": [
    "revenue"
   ]
  },
  {
   "cell_type": "code",
   "execution_count": null,
   "metadata": {},
   "outputs": [],
   "source": [
    "dashboard_tabs.servable()"
   ]
  },
  {
   "cell_type": "code",
   "execution_count": null,
   "metadata": {},
   "outputs": [],
   "source": [
    "\r\n",
    "# Created variables for dashboard\r\n",
    "\r\n",
    "welcomda_notes = \" Bureau of Transportation Statistics - Aviation Data\"\r\n",
    "\r\n",
    "dashboard_welcome = \" The dashboard presents a visual analysis of aviation data from All U.S. Carriers, Delta Airlines, Southwest Airlines, and United Airlines\"\r\n",
    "\r\n",
    "\r\n",
    "passenger_miles_notes = \"According to the Bureau of Transportation Statistics (2021), A revenue passenger mile (RPM) is a transportation industry metric that shows the number of miles traveled by paying passengers and is typically an airline traffic statistic. Revenue passenger miles are calculated by multiplying the number of paying passengers by the distance traveled. For example, an airplane with 100 passengers that flies 250 miles has generated 25,000 RPM.\" \r\n",
    "\r\n",
    "passenger_miles_notes2 = \"Revenue passenger miles are the backbone of most transportation metrics. RPM is often compared to available seat miles (ASM), a measure of an airplane's total carrying capacity available to generate income. By dividing RPM by ASM, an airline can calculate load factors. The load factor is a percentage indicating how effective the airline is at selling seats and earning revenue. Higher load factors, obviously, are desired because empty seats are an opportunity cost for an airline. \"\r\n",
    "\r\n",
    "\r\n",
    "seat_notes = \"According to Investopedia (2020), available seat miles (ASM) is a measure of an airplane's carrying capacity available to generate revenues. Available seat miles refers to how many seat miles are actually available for purchase on an airline. Seat miles are calculated by multiplying the number of miles that a given airplane will be flying by the number of seats available for a given flight. \"\r\n",
    "\r\n",
    "\r\n",
    "load_notes = \"According to the Air Transport Association (2020) , A high load factor indicates that an airline has full planes with most seats occupied by passengers. Airlines have high fixed costs associated with each flight. Every flight must have an entire flight crew and support staff, a well-maintained aircraft with enough fuel, and services that entertain and comfort customers. The load factor help investors understand how the airline covers expenses and generates a profit. A low load factor may be a cause for concern and may indicate an unprofitable airline.\"\r\n",
    "\r\n"
   ]
  },
  {
   "cell_type": "code",
   "execution_count": null,
   "metadata": {},
   "outputs": [],
   "source": [
    "# DO NOT PUSH TO GIT!"
   ]
  }
 ],
 "metadata": {
  "interpreter": {
   "hash": "9bbc15ca884615fba7a48959fd158978f7429edb53eb387b249fd313199bdc43"
  },
  "kernelspec": {
   "display_name": "Python 3.9.5 64-bit ('adobo': conda)",
   "name": "python3"
  },
  "language_info": {
   "name": "python",
   "version": ""
  },
  "orig_nbformat": 4
 },
 "nbformat": 4,
 "nbformat_minor": 2
}