{
 "cells": [
  {
   "cell_type": "code",
   "execution_count": 196,
   "metadata": {},
   "outputs": [],
   "source": [
    "# Created Library \r\n",
    "\r\n",
    "import panel as pn\r\n",
    "pn.extension('plotly')\r\n",
    "\r\n",
    "import plotly.express as px\r\n",
    "\r\n",
    "import plotly\r\n",
    "\r\n",
    "import pandas as pd\r\n",
    "\r\n",
    "import hvplot.pandas\r\n",
    "\r\n",
    "from matplotlib import pyplot as plt\r\n",
    "\r\n",
    "import os\r\n",
    "\r\n",
    "from pathlib import Path\r\n",
    "\r\n",
    "import numpy as np\r\n",
    "\r\n",
    "from bokeh.plotting import figure, show\r\n",
    "\r\n",
    "from bokeh.io import output_notebook\r\n",
    "\r\n",
    "from holoviews import opts\r\n",
    "\r\n",
    "from bokeh.models.formatters import DatetimeTickFormatter\r\n",
    "\r\n",
    "from bokeh.models.formatters import BasicTickFormatter\r\n",
    "\r\n",
    "import holoviews as hv\r\n",
    "\r\n",
    "from holoviews import opts\r\n"
   ]
  },
  {
   "cell_type": "code",
   "execution_count": 197,
   "metadata": {},
   "outputs": [],
   "source": [
    "# Imported cleaned csv files in preparation for visualization\r\n",
    "\r\n",
    "# All U.S. Carriers Data\r\n",
    "\r\n",
    "us_passengers_final = pd.read_csv(\"Data/transportation_statistics(cleaned)/us_passengers_final.csv\")\r\n",
    "us_flights_final = pd.read_csv(\"Data/transportation_statistics(cleaned)/us_flights_final.csv\")\r\n",
    "us_passenger_miles_final = pd.read_csv(\"Data/transportation_statistics(cleaned)/us_passenger_miles_final.csv\")\r\n",
    "us_seat_miles_final = pd.read_csv(\"Data/transportation_statistics(cleaned)/us_seat_miles_final.csv\")\r\n",
    "us_load_final = pd.read_csv(\"Data/transportation_statistics(cleaned)/us_load_final.csv\")\r\n",
    "\r\n",
    "# Delta Airlines Data\r\n",
    "\r\n",
    "dal_passengers_final = pd.read_csv(\"Data/transportation_statistics(cleaned)/dal_passengers_final.csv\")\r\n",
    "dal_flights_final = pd.read_csv(\"Data/transportation_statistics(cleaned)/dal_flights_final.csv\")\r\n",
    "dal_passenger_miles_final = pd.read_csv(\"Data/transportation_statistics(cleaned)/dal_passenger_miles_final.csv\")\r\n",
    "dal_seat_miles_final = pd.read_csv(\"Data/transportation_statistics(cleaned)/dal_seat_miles_final.csv\")\r\n",
    "dal_load_final = pd.read_csv(\"Data/transportation_statistics(cleaned)/dal_load_final.csv\")\r\n",
    "\r\n",
    "\r\n",
    "# Southwest Airlines Data\r\n",
    "\r\n",
    "luv_passengers_final = pd.read_csv(\"Data/transportation_statistics(cleaned)/luv_passengers_final.csv\")\r\n",
    "luv_flights_final = pd.read_csv(\"Data/transportation_statistics(cleaned)/luv_flights_final.csv\")\r\n",
    "luv_passenger_miles_final = pd.read_csv(\"Data/transportation_statistics(cleaned)/luv_passenger_miles_final.csv\")\r\n",
    "luv_seat_miles_final = pd.read_csv(\"Data/transportation_statistics(cleaned)/luv_seat_miles_final.csv\")\r\n",
    "luv_load_final = pd.read_csv(\"Data/transportation_statistics(cleaned)/luv_load_final.csv\")\r\n",
    "\r\n",
    "# United Airlines Data\r\n",
    "\r\n",
    "ual_passengers_final = pd.read_csv(\"Data/transportation_statistics(cleaned)/ual_passengers_final.csv\")\r\n",
    "ual_flights_final = pd.read_csv(\"Data/transportation_statistics(cleaned)/ual_flights_final.csv\")\r\n",
    "ual_passenger_miles_final = pd.read_csv(\"Data/transportation_statistics(cleaned)/ual_passenger_miles_final.csv\")\r\n",
    "ual_seat_miles_final = pd.read_csv(\"Data/transportation_statistics(cleaned)/ual_seat_miles_final.csv\")\r\n",
    "ual_load_final = pd.read_csv(\"Data/transportation_statistics(cleaned)/ual_load_final.csv\")"
   ]
  },
  {
   "cell_type": "code",
   "execution_count": 198,
   "metadata": {},
   "outputs": [],
   "source": [
    "# Imported airline fundamentals data files\r\n",
    "\r\n",
    "dal_fundamentals = pd.read_csv(\"Data/DAL_fundamentals.csv\")\r\n",
    "\r\n",
    "luv_fundamentals = pd.read_csv(\"Data/LUV_fundamentals.csv\")\r\n",
    "\r\n",
    "ual_fundamentals = pd.read_csv(\"Data/UAL_fundamentals.csv\")"
   ]
  },
  {
   "cell_type": "code",
   "execution_count": 199,
   "metadata": {},
   "outputs": [],
   "source": [
    "# Prepared Index\r\n",
    "\r\n",
    "# All U.S. Carriers\r\n",
    "\r\n",
    "us_passengers_final.set_index('Year', inplace=True)\r\n",
    "us_flights_final.set_index('Year', inplace=True)\r\n",
    "us_passenger_miles_final.set_index('Year', inplace=True)\r\n",
    "us_seat_miles_final.set_index('Year', inplace=True)\r\n",
    "us_load_final.set_index('Year', inplace=True)\r\n",
    "\r\n",
    "# Delta Airlines\r\n",
    "\r\n",
    "dal_passengers_final.set_index('Year', inplace=True)\r\n",
    "dal_flights_final.set_index('Year', inplace=True)\r\n",
    "dal_passenger_miles_final.set_index('Year', inplace=True)\r\n",
    "dal_seat_miles_final.set_index('Year', inplace=True)\r\n",
    "dal_load_final.set_index('Year', inplace=True)\r\n",
    "\r\n",
    "# Southwest Airlines\r\n",
    "\r\n",
    "luv_passengers_final.set_index('Year', inplace=True)\r\n",
    "luv_flights_final.set_index('Year', inplace=True)\r\n",
    "luv_passenger_miles_final.set_index('Year', inplace=True)\r\n",
    "luv_seat_miles_final.set_index('Year', inplace=True)\r\n",
    "luv_load_final.set_index('Year', inplace=True)\r\n",
    "\r\n",
    "# United Airlines\r\n",
    "\r\n",
    "ual_passengers_final.set_index('Year', inplace=True)\r\n",
    "ual_flights_final.set_index('Year', inplace=True)\r\n",
    "ual_passenger_miles_final.set_index('Year', inplace=True)\r\n",
    "ual_seat_miles_final.set_index('Year', inplace=True)\r\n",
    "ual_load_final.set_index('Year', inplace=True)"
   ]
  },
  {
   "cell_type": "code",
   "execution_count": 200,
   "metadata": {},
   "outputs": [],
   "source": [
    "# Created Function for plots for Passenger Data, Flights, Passenger-Miles, Seat-Miles, and Load data\r\n",
    "\r\n",
    "# Passenger Data\r\n",
    "\r\n",
    "def Make_Chart(data, lbl=None,ylbl=None,color=None, shrd__ax=False,size=(900,500),yfmt='%.0f', BarChart=True):\r\n",
    "    if BarChart:\r\n",
    "        plot = data.hvplot.bar(label= lbl\r\n",
    "                        , ylabel= ylbl\r\n",
    "                        , color= color\r\n",
    "                        , shared_axes= shrd__ax\r\n",
    "                        , width=size[0],height=size[1]\r\n",
    "                        ).opts(yformatter=yfmt)\r\n",
    "    else:\r\n",
    "        plot = data.hvplot.line(label= lbl\r\n",
    "                        , ylabel= ylbl\r\n",
    "                        , color= color\r\n",
    "                        , shared_axes= shrd__ax\r\n",
    "                        , width=size[0],height=size[1]\r\n",
    "                        ).opts(yformatter=yfmt)\r\n",
    "\r\n",
    "    return plot\r\n",
    "\r\n",
    "chart_list = [  (us_passengers_final,\"All U.S.Carriers Passengers - All Airports\", \"Number of Passengers\", \"Orange\")\r\n",
    "                , (dal_passengers_final, \"Delta Airlines Passengers - All Airports\", \"Number of Passengers\", \"Green\")\r\n",
    "                , (luv_passengers_final, \"Southwest Airlines Passengers - All Airports\", \"Number of Passengers\", \"Blue\")\r\n",
    "                , (ual_passengers_final, \"United Airlines Passengers - All Airports\",  \"Number of Passengers\", \"Red\")]\r\n",
    "passenger_lst = []\r\n",
    "for dta, lbl, ylbl, color in chart_list:\r\n",
    "    cht = Make_Chart(data=dta, lbl=lbl, ylbl=ylbl, color=color, shrd__ax = False , BarChart=True)\r\n",
    "    passenger_lst.append(cht)\r\n"
   ]
  },
  {
   "cell_type": "code",
   "execution_count": 201,
   "metadata": {},
   "outputs": [],
   "source": [
    "# Flight Data\r\n",
    "\r\n",
    "chart_list = [  (us_flights_final,\"All U.S.Carriers Flights - All Airports\", \"Number of Flights\", \"Orange\")\r\n",
    "                , (dal_flights_final, \"Delta Airlines Flights - All Airports\", \"Number of Flights\", \"Green\")\r\n",
    "                , (luv_flights_final, \"Southwest Airlines Flights - All Airports\", \"Number of Flights\", \"Blue\")\r\n",
    "                , (ual_flights_final, \"United Airlines Flights - All Airports\",  \"Number of Flights\", \"Red\")]\r\n",
    "flight_lst = []\r\n",
    "for dta, lbl, ylbl, color in chart_list:\r\n",
    "    cht = Make_Chart(data=dta, lbl=lbl, ylbl=ylbl, color=color, shrd__ax = False , BarChart=True)\r\n",
    "    flight_lst.append(cht)\r\n"
   ]
  },
  {
   "cell_type": "code",
   "execution_count": 202,
   "metadata": {},
   "outputs": [],
   "source": [
    "# Revenue Passenger-Miles Data\r\n",
    "\r\n",
    "chart_list = [  (us_passenger_miles_final,\"All U.S. Carriers Airlines Revenue Passenger-Miles - All Airports\", \"(The number of passengers and the distance flown in thousands (000)) \", \"Orange\")\r\n",
    "                , (dal_passenger_miles_final, \"Delta Airlines Revenue Passenger-Miles - All Airports\", \"(The number of passengers and the distance flown in thousands (000)) \", \"Green\")\r\n",
    "                , (luv_passenger_miles_final, \"Southwest Airlines Carriers Airlines Revenue Passenger-Miles - All Airports\", \"(The number of passengers and the distance flown in thousands (000)) \", \"Blue\")\r\n",
    "                , (ual_passenger_miles_final, \"United Airlines Carriers Airlines Revenue Passenger-Miles - All Airports\",  \"(The number of passengers and the distance flown in thousands (000)) \", \"Red\")]\r\n",
    "passenger_miles_lst = []\r\n",
    "\r\n",
    "for dta, lbl, ylbl, color in chart_list:\r\n",
    "    cht = Make_Chart(data=dta, lbl=lbl, ylbl=ylbl, color=color, shrd__ax = False ,BarChart=True)\r\n",
    "    passenger_miles_lst.append(cht)"
   ]
  },
  {
   "cell_type": "code",
   "execution_count": 203,
   "metadata": {},
   "outputs": [],
   "source": [
    "# Seat-Miles Data\r\n",
    "\r\n",
    "chart_list = [  (us_seat_miles_final,\"All U.S. Carriers Available Seat-Miles - All Airports\" , \"(the number of seats and the distance flown in thousands (000)) \", \"Orange\")\r\n",
    "                , (dal_seat_miles_final, \"Delta Airlines Available Seat-Miles - All Airports\" , \"(the number of seats and the distance flown in thousands (000)) \", \"Green\")\r\n",
    "                , (luv_seat_miles_final, \"Southwest Airlines Available Seat-Miles - All Airports\" , \"(the number of seats and the distance flown in thousands (000)) \", \"Blue\")\r\n",
    "                , (ual_seat_miles_final, \"United Airlines Available Seat-Miles - All Airports\" , \"(the number of seats and the distance flown in thousands (000)) \", \"Red\")]\r\n",
    "seat_miles_lst = []\r\n",
    "\r\n",
    "for dta, lbl, ylbl, color in chart_list:\r\n",
    "    cht = Make_Chart(data=dta, lbl=lbl, ylbl=ylbl, color=color,shrd__ax = False , BarChart=True)\r\n",
    "    seat_miles_lst.append(cht)"
   ]
  },
  {
   "cell_type": "code",
   "execution_count": 204,
   "metadata": {},
   "outputs": [],
   "source": [
    "# Load Factor Data\r\n",
    "\r\n",
    "chart_list = [ (us_load_final,\"All U.S. Carriers Available Seat-Miles - All Airports\" , \"(the number of seats and the distance flown in thousands (000)) \", \"Orange\")\r\n",
    "                ,(dal_load_final, \"Delta Airlines Load Factor - All Airports\" , \"(passenger-miles as a proportion of available seat-miles in percent (%))\", \"Green\")\r\n",
    "                , (luv_load_final, \"Southwest Airlines Load Factor - All Airports\" , \"(passenger-miles as a proportion of available seat-miles in percent (%)) \", \"Blue\")\r\n",
    "                , (ual_load_final, \"United Airlines Load Factor - All Airports\" , \"(passenger-miles as a proportion of available seat-miles in percent (%))\", \"Red\")]\r\n",
    "load_factor_lst = []\r\n",
    "for dta, lbl, ylbl, color in chart_list:\r\n",
    "    cht = Make_Chart(data=dta, lbl=lbl, ylbl=ylbl, color=color,shrd__ax = False , BarChart= True)\r\n",
    "    load_factor_lst.append(cht)"
   ]
  },
  {
   "cell_type": "code",
   "execution_count": 205,
   "metadata": {},
   "outputs": [],
   "source": [
    "# Imported cleaned csv files in preparation for visualization (Monique's Data)\r\n",
    "\r\n",
    "cb_airline_data = pd.read_csv(\"Data/emp_airline_data.csv\", index_col='Year')\r\n",
    "\r\n",
    "emp_airline_total = pd.read_csv(\"Data/airline_industry_total.csv\", index_col='Year')"
   ]
  },
  {
   "cell_type": "code",
   "execution_count": 206,
   "metadata": {},
   "outputs": [
    {
     "data": {
      "text/html": [
       "<div>\n",
       "<style scoped>\n",
       "    .dataframe tbody tr th:only-of-type {\n",
       "        vertical-align: middle;\n",
       "    }\n",
       "\n",
       "    .dataframe tbody tr th {\n",
       "        vertical-align: top;\n",
       "    }\n",
       "\n",
       "    .dataframe thead th {\n",
       "        text-align: right;\n",
       "    }\n",
       "</style>\n",
       "<table border=\"1\" class=\"dataframe\">\n",
       "  <thead>\n",
       "    <tr style=\"text-align: right;\">\n",
       "      <th></th>\n",
       "      <th>Month</th>\n",
       "      <th>Full-time</th>\n",
       "      <th>Part-time</th>\n",
       "      <th>Grand Total</th>\n",
       "    </tr>\n",
       "    <tr>\n",
       "      <th>Year</th>\n",
       "      <th></th>\n",
       "      <th></th>\n",
       "      <th></th>\n",
       "      <th></th>\n",
       "    </tr>\n",
       "  </thead>\n",
       "  <tbody>\n",
       "    <tr>\n",
       "      <th>1990</th>\n",
       "      <td>6.5</td>\n",
       "      <td>507337.083333</td>\n",
       "      <td>67411.25</td>\n",
       "      <td>574748.333333</td>\n",
       "    </tr>\n",
       "    <tr>\n",
       "      <th>2010</th>\n",
       "      <td>6.5</td>\n",
       "      <td>464132.083333</td>\n",
       "      <td>100296.50</td>\n",
       "      <td>564428.583333</td>\n",
       "    </tr>\n",
       "    <tr>\n",
       "      <th>2020</th>\n",
       "      <td>6.5</td>\n",
       "      <td>600570.166667</td>\n",
       "      <td>112897.50</td>\n",
       "      <td>713467.666667</td>\n",
       "    </tr>\n",
       "  </tbody>\n",
       "</table>\n",
       "</div>"
      ],
      "text/plain": [
       "      Month      Full-time  Part-time    Grand Total\n",
       "Year                                                \n",
       "1990    6.5  507337.083333   67411.25  574748.333333\n",
       "2010    6.5  464132.083333  100296.50  564428.583333\n",
       "2020    6.5  600570.166667  112897.50  713467.666667"
      ]
     },
     "execution_count": 206,
     "metadata": {},
     "output_type": "execute_result"
    }
   ],
   "source": [
    "emp_airline_total"
   ]
  },
  {
   "cell_type": "code",
   "execution_count": 207,
   "metadata": {},
   "outputs": [],
   "source": [
    "#Creating a pie chart function\r\n",
    "def create_piechart(df,year):\r\n",
    "    \r\n",
    "    column = df.loc[year]\r\n",
    "    values = (column['Full-time'],column['Part-time'])\r\n",
    "\r\n",
    "\r\n",
    "    color= [\"Purple\",'Yellow']\r\n",
    "    \r\n",
    "    return plt.show(\r\n",
    "            plt.pie(\r\n",
    "                x=values\r\n",
    "                , labels=[\"Full-time\",\"Part-time\"]\r\n",
    "                , colors=color\r\n",
    "                , autopct='%1.1f%%'\r\n",
    "                , shadow=False\r\n",
    "        )\r\n",
    "    )\r\n"
   ]
  },
  {
   "cell_type": "code",
   "execution_count": 208,
   "metadata": {},
   "outputs": [
    {
     "data": {
      "text/html": [
       "<div>\n",
       "<style scoped>\n",
       "    .dataframe tbody tr th:only-of-type {\n",
       "        vertical-align: middle;\n",
       "    }\n",
       "\n",
       "    .dataframe tbody tr th {\n",
       "        vertical-align: top;\n",
       "    }\n",
       "\n",
       "    .dataframe thead th {\n",
       "        text-align: right;\n",
       "    }\n",
       "</style>\n",
       "<table border=\"1\" class=\"dataframe\">\n",
       "  <thead>\n",
       "    <tr style=\"text-align: right;\">\n",
       "      <th></th>\n",
       "      <th>Month</th>\n",
       "      <th>Full-time</th>\n",
       "      <th>Part-time</th>\n",
       "      <th>Grand Total</th>\n",
       "    </tr>\n",
       "    <tr>\n",
       "      <th>Year</th>\n",
       "      <th></th>\n",
       "      <th></th>\n",
       "      <th></th>\n",
       "      <th></th>\n",
       "    </tr>\n",
       "  </thead>\n",
       "  <tbody>\n",
       "    <tr>\n",
       "      <th>1990</th>\n",
       "      <td>6.5</td>\n",
       "      <td>507337.083333</td>\n",
       "      <td>67411.25</td>\n",
       "      <td>574748.333333</td>\n",
       "    </tr>\n",
       "    <tr>\n",
       "      <th>2010</th>\n",
       "      <td>6.5</td>\n",
       "      <td>464132.083333</td>\n",
       "      <td>100296.50</td>\n",
       "      <td>564428.583333</td>\n",
       "    </tr>\n",
       "    <tr>\n",
       "      <th>2020</th>\n",
       "      <td>6.5</td>\n",
       "      <td>600570.166667</td>\n",
       "      <td>112897.50</td>\n",
       "      <td>713467.666667</td>\n",
       "    </tr>\n",
       "  </tbody>\n",
       "</table>\n",
       "</div>"
      ],
      "text/plain": [
       "      Month      Full-time  Part-time    Grand Total\n",
       "Year                                                \n",
       "1990    6.5  507337.083333   67411.25  574748.333333\n",
       "2010    6.5  464132.083333  100296.50  564428.583333\n",
       "2020    6.5  600570.166667  112897.50  713467.666667"
      ]
     },
     "execution_count": 208,
     "metadata": {},
     "output_type": "execute_result"
    }
   ],
   "source": [
    "emp_airline_total"
   ]
  },
  {
   "cell_type": "code",
   "execution_count": 209,
   "metadata": {},
   "outputs": [],
   "source": [
    "# Stored Values for Sunburst Plot\r\n",
    "\r\n",
    "Year = emp_airline_total.index\r\n",
    "\r\n",
    "Grand = emp_airline_total['Grand Total'].round(1)\r\n",
    "\r\n",
    "Full = emp_airline_total['Full-time'].round(1)\r\n",
    "\r\n",
    "Part = emp_airline_total['Part-time'].round(1)\r\n",
    "\r\n",
    "Total = emp_airline_total['Grand Total'].round(1)\r\n",
    "\r\n",
    "color = emp_airline_total['Grand Total'].round(1)\r\n",
    "\r\n",
    "hover = emp_airline_total['Full-time'].round(1)\r\n",
    "\r\n",
    "hover1 = emp_airline_total['Part-time'].round(1)\r\n"
   ]
  },
  {
   "cell_type": "code",
   "execution_count": 210,
   "metadata": {},
   "outputs": [],
   "source": [
    "# # ['aggrnyl', 'agsunset', 'algae', 'amp', 'armyrose', 'balance',\r\n",
    "# 'blackbody', 'bluered', 'blues', 'blugrn', 'bluyl', 'brbg',\r\n",
    "# 'brwnyl', 'bugn', 'bupu', 'burg', 'burgyl', 'cividis', 'curl',\r\n",
    "# 'darkmint', 'deep', 'delta', 'dense', 'earth', 'edge', 'electric',\r\n",
    "# 'emrld', 'fall', 'geyser', 'gnbu', 'gray', 'greens', 'greys',\r\n",
    "# 'haline', 'hot', 'hsv', 'ice', 'icefire', 'inferno', 'jet',\r\n",
    "# 'magenta', 'magma', 'matter', 'mint', 'mrybm', 'mygbm', 'oranges',\r\n",
    "# 'orrd', 'oryel', 'oxy', 'peach', 'phase', 'picnic', 'pinkyl',\r\n",
    "# 'piyg', 'plasma', 'plotly3', 'portland', 'prgn', 'pubu', 'pubugn',\r\n",
    "# 'puor', 'purd', 'purp', 'purples', 'purpor', 'rainbow', 'rdbu',\r\n",
    "# 'rdgy', 'rdpu', 'rdylbu', 'rdylgn', 'redor', 'reds', 'solar',\r\n",
    "# 'spectral', 'speed', 'sunset', 'sunsetdark', 'teal', 'tealgrn',\r\n",
    "# 'tealrose', 'tempo', 'temps', 'thermal', 'tropic', 'turbid',\r\n",
    "# 'turbo', 'twilight', 'viridis', 'ylgn', 'ylgnbu', 'ylorbr',"
   ]
  },
  {
   "cell_type": "code",
   "execution_count": 211,
   "metadata": {},
   "outputs": [
    {
     "data": {
      "application/vnd.plotly.v1+json": {
       "config": {
        "plotlyServerURL": "https://plot.ly"
       },
       "data": [
        {
         "branchvalues": "total",
         "customdata": [
          [
           507337.1,
           67411.2,
           574748.3
          ],
          [
           464132.1,
           100296.5,
           564428.6
          ],
          [
           600570.2,
           112897.5,
           713467.7
          ],
          [
           464132.1,
           100296.5,
           564428.6
          ],
          [
           507337.1,
           67411.2,
           574748.3
          ],
          [
           600570.2,
           112897.5,
           713467.7
          ],
          [
           507337.1,
           67411.2,
           574748.3
          ],
          [
           464132.1,
           100296.5,
           564428.6
          ],
          [
           600570.2,
           112897.5,
           713467.7
          ]
         ],
         "domain": {
          "x": [
           0,
           1
          ],
          "y": [
           0,
           1
          ]
         },
         "hovertemplate": "labels=%{label}<br>value=%{value}<br>parent=%{parent}<br>id=%{id}<br>hover_data_0=%{customdata[0]}<br>hover_data_1=%{customdata[1]}<br>color=%{color}<extra></extra>",
         "ids": [
          "1990/507337.1/67411.2",
          "2010/464132.1/100296.5",
          "2020/600570.2/112897.5",
          "2010/464132.1",
          "1990/507337.1",
          "2020/600570.2",
          "1990",
          "2010",
          "2020"
         ],
         "labels": [
          "67411.2",
          "100296.5",
          "112897.5",
          "464132.1",
          "507337.1",
          "600570.2",
          "1990",
          "2010",
          "2020"
         ],
         "marker": {
          "coloraxis": "coloraxis",
          "colors": [
           574748.3,
           564428.6,
           713467.7,
           564428.6,
           574748.3,
           713467.7,
           574748.3,
           564428.6,
           713467.7
          ]
         },
         "name": "",
         "parents": [
          "1990/507337.1",
          "2010/464132.1",
          "2020/600570.2",
          "2010",
          "1990",
          "2020",
          "",
          "",
          ""
         ],
         "type": "sunburst",
         "values": [
          574748.3,
          564428.6,
          713467.7,
          564428.6,
          574748.3,
          713467.7,
          574748.3,
          564428.6,
          713467.7
         ]
        }
       ],
       "layout": {
        "coloraxis": {
         "colorbar": {
          "title": {
           "text": "color"
          }
         },
         "colorscale": [
          [
           0,
           "rgb(158,1,66)"
          ],
          [
           0.1,
           "rgb(213,62,79)"
          ],
          [
           0.2,
           "rgb(244,109,67)"
          ],
          [
           0.3,
           "rgb(253,174,97)"
          ],
          [
           0.4,
           "rgb(254,224,139)"
          ],
          [
           0.5,
           "rgb(255,255,191)"
          ],
          [
           0.6,
           "rgb(230,245,152)"
          ],
          [
           0.7,
           "rgb(171,221,164)"
          ],
          [
           0.8,
           "rgb(102,194,165)"
          ],
          [
           0.9,
           "rgb(50,136,189)"
          ],
          [
           1,
           "rgb(94,79,162)"
          ]
         ]
        },
        "legend": {
         "tracegroupgap": 0
        },
        "template": {
         "data": {
          "bar": [
           {
            "error_x": {
             "color": "#2a3f5f"
            },
            "error_y": {
             "color": "#2a3f5f"
            },
            "marker": {
             "line": {
              "color": "#E5ECF6",
              "width": 0.5
             }
            },
            "type": "bar"
           }
          ],
          "barpolar": [
           {
            "marker": {
             "line": {
              "color": "#E5ECF6",
              "width": 0.5
             }
            },
            "type": "barpolar"
           }
          ],
          "carpet": [
           {
            "aaxis": {
             "endlinecolor": "#2a3f5f",
             "gridcolor": "white",
             "linecolor": "white",
             "minorgridcolor": "white",
             "startlinecolor": "#2a3f5f"
            },
            "baxis": {
             "endlinecolor": "#2a3f5f",
             "gridcolor": "white",
             "linecolor": "white",
             "minorgridcolor": "white",
             "startlinecolor": "#2a3f5f"
            },
            "type": "carpet"
           }
          ],
          "choropleth": [
           {
            "colorbar": {
             "outlinewidth": 0,
             "ticks": ""
            },
            "type": "choropleth"
           }
          ],
          "contour": [
           {
            "colorbar": {
             "outlinewidth": 0,
             "ticks": ""
            },
            "colorscale": [
             [
              0,
              "#0d0887"
             ],
             [
              0.1111111111111111,
              "#46039f"
             ],
             [
              0.2222222222222222,
              "#7201a8"
             ],
             [
              0.3333333333333333,
              "#9c179e"
             ],
             [
              0.4444444444444444,
              "#bd3786"
             ],
             [
              0.5555555555555556,
              "#d8576b"
             ],
             [
              0.6666666666666666,
              "#ed7953"
             ],
             [
              0.7777777777777778,
              "#fb9f3a"
             ],
             [
              0.8888888888888888,
              "#fdca26"
             ],
             [
              1,
              "#f0f921"
             ]
            ],
            "type": "contour"
           }
          ],
          "contourcarpet": [
           {
            "colorbar": {
             "outlinewidth": 0,
             "ticks": ""
            },
            "type": "contourcarpet"
           }
          ],
          "heatmap": [
           {
            "colorbar": {
             "outlinewidth": 0,
             "ticks": ""
            },
            "colorscale": [
             [
              0,
              "#0d0887"
             ],
             [
              0.1111111111111111,
              "#46039f"
             ],
             [
              0.2222222222222222,
              "#7201a8"
             ],
             [
              0.3333333333333333,
              "#9c179e"
             ],
             [
              0.4444444444444444,
              "#bd3786"
             ],
             [
              0.5555555555555556,
              "#d8576b"
             ],
             [
              0.6666666666666666,
              "#ed7953"
             ],
             [
              0.7777777777777778,
              "#fb9f3a"
             ],
             [
              0.8888888888888888,
              "#fdca26"
             ],
             [
              1,
              "#f0f921"
             ]
            ],
            "type": "heatmap"
           }
          ],
          "heatmapgl": [
           {
            "colorbar": {
             "outlinewidth": 0,
             "ticks": ""
            },
            "colorscale": [
             [
              0,
              "#0d0887"
             ],
             [
              0.1111111111111111,
              "#46039f"
             ],
             [
              0.2222222222222222,
              "#7201a8"
             ],
             [
              0.3333333333333333,
              "#9c179e"
             ],
             [
              0.4444444444444444,
              "#bd3786"
             ],
             [
              0.5555555555555556,
              "#d8576b"
             ],
             [
              0.6666666666666666,
              "#ed7953"
             ],
             [
              0.7777777777777778,
              "#fb9f3a"
             ],
             [
              0.8888888888888888,
              "#fdca26"
             ],
             [
              1,
              "#f0f921"
             ]
            ],
            "type": "heatmapgl"
           }
          ],
          "histogram": [
           {
            "marker": {
             "colorbar": {
              "outlinewidth": 0,
              "ticks": ""
             }
            },
            "type": "histogram"
           }
          ],
          "histogram2d": [
           {
            "colorbar": {
             "outlinewidth": 0,
             "ticks": ""
            },
            "colorscale": [
             [
              0,
              "#0d0887"
             ],
             [
              0.1111111111111111,
              "#46039f"
             ],
             [
              0.2222222222222222,
              "#7201a8"
             ],
             [
              0.3333333333333333,
              "#9c179e"
             ],
             [
              0.4444444444444444,
              "#bd3786"
             ],
             [
              0.5555555555555556,
              "#d8576b"
             ],
             [
              0.6666666666666666,
              "#ed7953"
             ],
             [
              0.7777777777777778,
              "#fb9f3a"
             ],
             [
              0.8888888888888888,
              "#fdca26"
             ],
             [
              1,
              "#f0f921"
             ]
            ],
            "type": "histogram2d"
           }
          ],
          "histogram2dcontour": [
           {
            "colorbar": {
             "outlinewidth": 0,
             "ticks": ""
            },
            "colorscale": [
             [
              0,
              "#0d0887"
             ],
             [
              0.1111111111111111,
              "#46039f"
             ],
             [
              0.2222222222222222,
              "#7201a8"
             ],
             [
              0.3333333333333333,
              "#9c179e"
             ],
             [
              0.4444444444444444,
              "#bd3786"
             ],
             [
              0.5555555555555556,
              "#d8576b"
             ],
             [
              0.6666666666666666,
              "#ed7953"
             ],
             [
              0.7777777777777778,
              "#fb9f3a"
             ],
             [
              0.8888888888888888,
              "#fdca26"
             ],
             [
              1,
              "#f0f921"
             ]
            ],
            "type": "histogram2dcontour"
           }
          ],
          "mesh3d": [
           {
            "colorbar": {
             "outlinewidth": 0,
             "ticks": ""
            },
            "type": "mesh3d"
           }
          ],
          "parcoords": [
           {
            "line": {
             "colorbar": {
              "outlinewidth": 0,
              "ticks": ""
             }
            },
            "type": "parcoords"
           }
          ],
          "pie": [
           {
            "automargin": true,
            "type": "pie"
           }
          ],
          "scatter": [
           {
            "marker": {
             "colorbar": {
              "outlinewidth": 0,
              "ticks": ""
             }
            },
            "type": "scatter"
           }
          ],
          "scatter3d": [
           {
            "line": {
             "colorbar": {
              "outlinewidth": 0,
              "ticks": ""
             }
            },
            "marker": {
             "colorbar": {
              "outlinewidth": 0,
              "ticks": ""
             }
            },
            "type": "scatter3d"
           }
          ],
          "scattercarpet": [
           {
            "marker": {
             "colorbar": {
              "outlinewidth": 0,
              "ticks": ""
             }
            },
            "type": "scattercarpet"
           }
          ],
          "scattergeo": [
           {
            "marker": {
             "colorbar": {
              "outlinewidth": 0,
              "ticks": ""
             }
            },
            "type": "scattergeo"
           }
          ],
          "scattergl": [
           {
            "marker": {
             "colorbar": {
              "outlinewidth": 0,
              "ticks": ""
             }
            },
            "type": "scattergl"
           }
          ],
          "scattermapbox": [
           {
            "marker": {
             "colorbar": {
              "outlinewidth": 0,
              "ticks": ""
             }
            },
            "type": "scattermapbox"
           }
          ],
          "scatterpolar": [
           {
            "marker": {
             "colorbar": {
              "outlinewidth": 0,
              "ticks": ""
             }
            },
            "type": "scatterpolar"
           }
          ],
          "scatterpolargl": [
           {
            "marker": {
             "colorbar": {
              "outlinewidth": 0,
              "ticks": ""
             }
            },
            "type": "scatterpolargl"
           }
          ],
          "scatterternary": [
           {
            "marker": {
             "colorbar": {
              "outlinewidth": 0,
              "ticks": ""
             }
            },
            "type": "scatterternary"
           }
          ],
          "surface": [
           {
            "colorbar": {
             "outlinewidth": 0,
             "ticks": ""
            },
            "colorscale": [
             [
              0,
              "#0d0887"
             ],
             [
              0.1111111111111111,
              "#46039f"
             ],
             [
              0.2222222222222222,
              "#7201a8"
             ],
             [
              0.3333333333333333,
              "#9c179e"
             ],
             [
              0.4444444444444444,
              "#bd3786"
             ],
             [
              0.5555555555555556,
              "#d8576b"
             ],
             [
              0.6666666666666666,
              "#ed7953"
             ],
             [
              0.7777777777777778,
              "#fb9f3a"
             ],
             [
              0.8888888888888888,
              "#fdca26"
             ],
             [
              1,
              "#f0f921"
             ]
            ],
            "type": "surface"
           }
          ],
          "table": [
           {
            "cells": {
             "fill": {
              "color": "#EBF0F8"
             },
             "line": {
              "color": "white"
             }
            },
            "header": {
             "fill": {
              "color": "#C8D4E3"
             },
             "line": {
              "color": "white"
             }
            },
            "type": "table"
           }
          ]
         },
         "layout": {
          "annotationdefaults": {
           "arrowcolor": "#2a3f5f",
           "arrowhead": 0,
           "arrowwidth": 1
          },
          "autotypenumbers": "strict",
          "coloraxis": {
           "colorbar": {
            "outlinewidth": 0,
            "ticks": ""
           }
          },
          "colorscale": {
           "diverging": [
            [
             0,
             "#8e0152"
            ],
            [
             0.1,
             "#c51b7d"
            ],
            [
             0.2,
             "#de77ae"
            ],
            [
             0.3,
             "#f1b6da"
            ],
            [
             0.4,
             "#fde0ef"
            ],
            [
             0.5,
             "#f7f7f7"
            ],
            [
             0.6,
             "#e6f5d0"
            ],
            [
             0.7,
             "#b8e186"
            ],
            [
             0.8,
             "#7fbc41"
            ],
            [
             0.9,
             "#4d9221"
            ],
            [
             1,
             "#276419"
            ]
           ],
           "sequential": [
            [
             0,
             "#0d0887"
            ],
            [
             0.1111111111111111,
             "#46039f"
            ],
            [
             0.2222222222222222,
             "#7201a8"
            ],
            [
             0.3333333333333333,
             "#9c179e"
            ],
            [
             0.4444444444444444,
             "#bd3786"
            ],
            [
             0.5555555555555556,
             "#d8576b"
            ],
            [
             0.6666666666666666,
             "#ed7953"
            ],
            [
             0.7777777777777778,
             "#fb9f3a"
            ],
            [
             0.8888888888888888,
             "#fdca26"
            ],
            [
             1,
             "#f0f921"
            ]
           ],
           "sequentialminus": [
            [
             0,
             "#0d0887"
            ],
            [
             0.1111111111111111,
             "#46039f"
            ],
            [
             0.2222222222222222,
             "#7201a8"
            ],
            [
             0.3333333333333333,
             "#9c179e"
            ],
            [
             0.4444444444444444,
             "#bd3786"
            ],
            [
             0.5555555555555556,
             "#d8576b"
            ],
            [
             0.6666666666666666,
             "#ed7953"
            ],
            [
             0.7777777777777778,
             "#fb9f3a"
            ],
            [
             0.8888888888888888,
             "#fdca26"
            ],
            [
             1,
             "#f0f921"
            ]
           ]
          },
          "colorway": [
           "#636efa",
           "#EF553B",
           "#00cc96",
           "#ab63fa",
           "#FFA15A",
           "#19d3f3",
           "#FF6692",
           "#B6E880",
           "#FF97FF",
           "#FECB52"
          ],
          "font": {
           "color": "#2a3f5f"
          },
          "geo": {
           "bgcolor": "white",
           "lakecolor": "white",
           "landcolor": "#E5ECF6",
           "showlakes": true,
           "showland": true,
           "subunitcolor": "white"
          },
          "hoverlabel": {
           "align": "left"
          },
          "hovermode": "closest",
          "mapbox": {
           "style": "light"
          },
          "paper_bgcolor": "white",
          "plot_bgcolor": "#E5ECF6",
          "polar": {
           "angularaxis": {
            "gridcolor": "white",
            "linecolor": "white",
            "ticks": ""
           },
           "bgcolor": "#E5ECF6",
           "radialaxis": {
            "gridcolor": "white",
            "linecolor": "white",
            "ticks": ""
           }
          },
          "scene": {
           "xaxis": {
            "backgroundcolor": "#E5ECF6",
            "gridcolor": "white",
            "gridwidth": 2,
            "linecolor": "white",
            "showbackground": true,
            "ticks": "",
            "zerolinecolor": "white"
           },
           "yaxis": {
            "backgroundcolor": "#E5ECF6",
            "gridcolor": "white",
            "gridwidth": 2,
            "linecolor": "white",
            "showbackground": true,
            "ticks": "",
            "zerolinecolor": "white"
           },
           "zaxis": {
            "backgroundcolor": "#E5ECF6",
            "gridcolor": "white",
            "gridwidth": 2,
            "linecolor": "white",
            "showbackground": true,
            "ticks": "",
            "zerolinecolor": "white"
           }
          },
          "shapedefaults": {
           "line": {
            "color": "#2a3f5f"
           }
          },
          "ternary": {
           "aaxis": {
            "gridcolor": "white",
            "linecolor": "white",
            "ticks": ""
           },
           "baxis": {
            "gridcolor": "white",
            "linecolor": "white",
            "ticks": ""
           },
           "bgcolor": "#E5ECF6",
           "caxis": {
            "gridcolor": "white",
            "linecolor": "white",
            "ticks": ""
           }
          },
          "title": {
           "x": 0.05
          },
          "xaxis": {
           "automargin": true,
           "gridcolor": "white",
           "linecolor": "white",
           "ticks": "",
           "title": {
            "standoff": 15
           },
           "zerolinecolor": "white",
           "zerolinewidth": 2
          },
          "yaxis": {
           "automargin": true,
           "gridcolor": "white",
           "linecolor": "white",
           "ticks": "",
           "title": {
            "standoff": 15
           },
           "zerolinecolor": "white",
           "zerolinewidth": 2
          }
         }
        },
        "title": {
         "text": "Industry Employment Mix"
        }
       }
      }
     },
     "metadata": {},
     "output_type": "display_data"
    }
   ],
   "source": [
    "fig = px.sunburst(emp_airline_total,\r\n",
    "               path=[Year, Full, Part],\r\n",
    "               values= Total,\r\n",
    "               color= color,\r\n",
    "               hover_data=[hover, hover1],\r\n",
    "               color_continuous_scale= 'spectral',\r\n",
    "               title='Industry Employment Mix',\r\n",
    "               \r\n",
    "               \r\n",
    ")\r\n",
    "\r\n",
    "fig.show()"
   ]
  },
  {
   "cell_type": "code",
   "execution_count": 212,
   "metadata": {},
   "outputs": [],
   "source": [
    "#Plotting Industry employment mix for 1990\r\n",
    "\r\n",
    "# emp1 = create_pie_charts(emp_airline_total,1990, \"Industry employment mix for 1990\", ylabe= )\r\n",
    "\r\n",
    "#Plotting Industry Employment mix for 2010\r\n",
    "\r\n",
    "#emp2 = create_pie_charts(emp_airline_total,2010)\r\n",
    "\r\n",
    "#Plotting Industry Employment mix for 2020\r\n",
    "\r\n",
    "#emp3 = create_pie_charts(emp_airline_total,2020)"
   ]
  },
  {
   "cell_type": "code",
   "execution_count": 213,
   "metadata": {},
   "outputs": [],
   "source": [
    "# Renamed Columns of cb_airline_data\r\n",
    "\r\n",
    "cb_airline_data.rename(columns={'DAL_Total': 'Delta Airlines Total', 'LUV_Total': 'Southwest Airlines Total', 'UAL_Total' : 'United Airlines Total'}, inplace=True)"
   ]
  },
  {
   "cell_type": "code",
   "execution_count": 214,
   "metadata": {},
   "outputs": [],
   "source": [
    "employment_plot = cb_airline_data.hvplot(title='Airline Employment Data', width = 900, height = 500)"
   ]
  },
  {
   "cell_type": "code",
   "execution_count": 215,
   "metadata": {},
   "outputs": [],
   "source": [
    "dal_revenue=dal_fundamentals.loc[:,['Report Date','Fiscal Year','Fiscal Period','Revenue']]\r\n",
    "dal_revenue.set_index('Report Date',inplace=True)\r\n",
    "dal_revenue.rename(columns={'Revenue':'DAL Revenue'},inplace=True)\r\n",
    "luv_revenue=luv_fundamentals.loc[:,['Report Date','Fiscal Year','Fiscal Period','Revenue']]\r\n",
    "luv_revenue.set_index('Report Date',inplace=True)\r\n",
    "luv_revenue.rename(columns={'Revenue':'LUV Revenue'},inplace=True)\r\n",
    "ual_revenue=ual_fundamentals.loc[:,['Report Date','Fiscal Year','Fiscal Period','Revenue']]\r\n",
    "ual_revenue.set_index('Report Date',inplace=True)\r\n",
    "ual_revenue.rename(columns={'Revenue':'UAL Revenue'},inplace=True)\r\n",
    "revenue=pd.concat([dal_revenue,luv_revenue,ual_revenue],axis='columns',join='inner')\r\n",
    "revenue.drop(columns=['Fiscal Period','Fiscal Year'],inplace=True)\r\n",
    "revenue.sort_index(inplace=True) \r\n",
    "\r\n",
    "dal_revenue=dal_fundamentals.loc[:,['Report Date','Fiscal Year','Fiscal Period','Gross Profit Margin']]\r\n",
    "dal_revenue.set_index('Report Date',inplace=True)\r\n",
    "dal_revenue.rename(columns={'Gross Profit Margin':'DAL Gross Profit Margin'},inplace=True)\r\n",
    "luv_revenue=luv_fundamentals.loc[:,['Report Date','Fiscal Year','Fiscal Period','Gross Profit Margin']]\r\n",
    "luv_revenue.set_index('Report Date',inplace=True)\r\n",
    "luv_revenue.rename(columns={'Gross Profit Margin':'LUV Gross Profit Margin'},inplace=True)\r\n",
    "ual_revenue=ual_fundamentals.loc[:,['Report Date','Fiscal Year','Fiscal Period','Gross Profit Margin']]\r\n",
    "ual_revenue.set_index('Report Date',inplace=True)\r\n",
    "ual_revenue.rename(columns={'Gross Profit Margin':'UAL Gross Profit Margin'},inplace=True)\r\n",
    "gpm=pd.concat([dal_revenue,luv_revenue,ual_revenue],axis='columns',join='inner')\r\n",
    "gpm.drop(columns=['Fiscal Period','Fiscal Year'],inplace=True)\r\n",
    "gpm.sort_index(inplace=True) \r\n",
    "\r\n",
    "dal_revenue=dal_fundamentals.loc[:,['Report Date','Fiscal Year','Fiscal Period','Net Profit Margin']]\r\n",
    "dal_revenue.set_index('Report Date',inplace=True)\r\n",
    "dal_revenue.rename(columns={'Net Profit Margin':'DAL Net Profit Margin'},inplace=True)\r\n",
    "luv_revenue=luv_fundamentals.loc[:,['Report Date','Fiscal Year','Fiscal Period','Net Profit Margin']]\r\n",
    "luv_revenue.set_index('Report Date',inplace=True)\r\n",
    "luv_revenue.rename(columns={'Net Profit Margin':'LUV Net Profit Margin'},inplace=True)\r\n",
    "ual_revenue=ual_fundamentals.loc[:,['Report Date','Fiscal Year','Fiscal Period','Net Profit Margin']]\r\n",
    "ual_revenue.set_index('Report Date',inplace=True)\r\n",
    "ual_revenue.rename(columns={'Net Profit Margin':'UAL Net Profit Margin'},inplace=True)\r\n",
    "npm=pd.concat([dal_revenue,luv_revenue,ual_revenue],axis='columns',join='inner')\r\n",
    "npm.drop(columns=['Fiscal Period','Fiscal Year'],inplace=True)\r\n",
    "npm.sort_index(inplace=True) \r\n",
    "\r\n",
    "dal_profit=dal_fundamentals.loc[:,['Report Date','Fiscal Year','Fiscal Period','Net Income']]\r\n",
    "dal_profit.set_index('Report Date',inplace=True)\r\n",
    "dal_profit.rename(columns={'Net Income':'DAL Net Income'},inplace=True)\r\n",
    "luv_profit=luv_fundamentals.loc[:,['Report Date','Fiscal Year','Fiscal Period','Net Income']]\r\n",
    "luv_profit.set_index('Report Date',inplace=True)\r\n",
    "luv_profit.rename(columns={'Net Income':'LUV Net Income'},inplace=True)\r\n",
    "ual_profit=ual_fundamentals.loc[:,['Report Date','Fiscal Year','Fiscal Period','Net Income']]\r\n",
    "ual_profit.set_index('Report Date',inplace=True)\r\n",
    "ual_profit.rename(columns={'Net Income':'UAL Net Income'},inplace=True)\r\n",
    "profit=pd.concat([dal_profit,luv_profit,ual_profit],axis='columns',join='inner')\r\n",
    "profit.drop(columns=['Fiscal Period','Fiscal Year'],inplace=True)\r\n",
    "profit.sort_index(inplace=True)\r\n",
    "\r\n",
    "dal_revenue=dal_fundamentals.loc[:,['Report Date','Fiscal Year','Fiscal Period','Net Profit Margin']]\r\n",
    "dal_revenue.set_index('Report Date',inplace=True)\r\n",
    "dal_revenue.rename(columns={'Net Profit Margin':'DAL Net Profit Margin'},inplace=True)\r\n",
    "luv_revenue=luv_fundamentals.loc[:,['Report Date','Fiscal Year','Fiscal Period','Net Profit Margin']]\r\n",
    "luv_revenue.set_index('Report Date',inplace=True)\r\n",
    "luv_revenue.rename(columns={'Net Profit Margin':'LUV Net Profit Margin'},inplace=True)\r\n",
    "ual_revenue=ual_fundamentals.loc[:,['Report Date','Fiscal Year','Fiscal Period','Net Profit Margin']]\r\n",
    "ual_revenue.set_index('Report Date',inplace=True)\r\n",
    "ual_revenue.rename(columns={'Net Profit Margin':'UAL Net Profit Margin'},inplace=True)\r\n",
    "npm=pd.concat([dal_revenue,luv_revenue,ual_revenue],axis='columns',join='inner')\r\n",
    "npm.drop(columns=['Fiscal Period','Fiscal Year'],inplace=True)\r\n",
    "npm.sort_index(inplace=True) \r\n",
    "\r\n",
    "dal_EPS=dal_fundamentals.loc[:,['Report Date','Fiscal Year','Fiscal Period','EPS']]\r\n",
    "dal_EPS.set_index('Report Date',inplace=True)\r\n",
    "dal_EPS.rename(columns={'EPS':'DAL EPS'},inplace=True)\r\n",
    "luv_EPS=luv_fundamentals.loc[:,['Report Date','Fiscal Year','Fiscal Period','EPS']]\r\n",
    "luv_EPS.set_index('Report Date',inplace=True)\r\n",
    "luv_EPS.rename(columns={'EPS':'LUV EPS'},inplace=True)\r\n",
    "ual_EPS=ual_fundamentals.loc[:,['Report Date','Fiscal Year','Fiscal Period','EPS']]\r\n",
    "ual_EPS.set_index('Report Date',inplace=True)\r\n",
    "ual_EPS.rename(columns={'EPS':'UAL EPS'},inplace=True)\r\n",
    "EPS=pd.concat([dal_EPS,luv_EPS,ual_EPS],axis='columns',join='inner')\r\n",
    "EPS.drop(columns=['Fiscal Period','Fiscal Year'],inplace=True)\r\n",
    "EPS.sort_index(inplace=True)\r\n",
    "\r\n",
    "dal_revenue=dal_fundamentals.loc[:,['Report Date','Fiscal Year','Fiscal Period','Quick Ratio']]\r\n",
    "dal_revenue.set_index('Report Date',inplace=True)\r\n",
    "dal_revenue.rename(columns={'Quick Ratio':'DAL Quick Ratio'},inplace=True)\r\n",
    "luv_revenue=luv_fundamentals.loc[:,['Report Date','Fiscal Year','Fiscal Period','Quick Ratio']]\r\n",
    "luv_revenue.set_index('Report Date',inplace=True)\r\n",
    "luv_revenue.rename(columns={'Quick Ratio':'LUV Quick Ratio'},inplace=True)\r\n",
    "ual_revenue=ual_fundamentals.loc[:,['Report Date','Fiscal Year','Fiscal Period','Quick Ratio']]\r\n",
    "ual_revenue.set_index('Report Date',inplace=True)\r\n",
    "ual_revenue.rename(columns={'Quick Ratio':'UAL Quick Ratio'},inplace=True)\r\n",
    "qr=pd.concat([dal_revenue,luv_revenue,ual_revenue],axis='columns',join='inner')\r\n",
    "qr.drop(columns=['Fiscal Period','Fiscal Year'],inplace=True)\r\n",
    "qr.sort_index(inplace=True) \r\n",
    "\r\n",
    "dal_revenue=dal_fundamentals.loc[:,['Report Date','Fiscal Year','Fiscal Period','Operating Margin']]\r\n",
    "dal_revenue.set_index('Report Date',inplace=True)\r\n",
    "dal_revenue.rename(columns={'Operating Margin':'DAL Operating Margin'},inplace=True)\r\n",
    "luv_revenue=luv_fundamentals.loc[:,['Report Date','Fiscal Year','Fiscal Period','Operating Margin']]\r\n",
    "luv_revenue.set_index('Report Date',inplace=True)\r\n",
    "luv_revenue.rename(columns={'Operating Margin':'LUV Operating Margin'},inplace=True)\r\n",
    "ual_revenue=ual_fundamentals.loc[:,['Report Date','Fiscal Year','Fiscal Period','Operating Margin']]\r\n",
    "ual_revenue.set_index('Report Date',inplace=True)\r\n",
    "ual_revenue.rename(columns={'Operating Margin':'UAL Operating Margin'},inplace=True)\r\n",
    "opm=pd.concat([dal_revenue,luv_revenue,ual_revenue],axis='columns',join='inner')\r\n",
    "opm.drop(columns=['Fiscal Period','Fiscal Year'],inplace=True)\r\n",
    "opm.sort_index(inplace=True) \r\n",
    "\r\n",
    "dal_cash=dal_fundamentals.loc[:,['Report Date','Fiscal Year','Fiscal Period','Cash, Cash Equivalents & Short Term Investments']]\r\n",
    "dal_cash.set_index('Report Date',inplace=True)\r\n",
    "dal_cash.rename(columns={'Cash, Cash Equivalents & Short Term Investments':'DAL Cash & Short Term Investments'},inplace=True)\r\n",
    "luv_cash=luv_fundamentals.loc[:,['Report Date','Fiscal Year','Fiscal Period','Cash, Cash Equivalents & Short Term Investments']]\r\n",
    "luv_cash.set_index('Report Date',inplace=True)\r\n",
    "luv_cash.rename(columns={'Cash, Cash Equivalents & Short Term Investments':'LUV Cash & Short Term Investments'},inplace=True)\r\n",
    "ual_cash=ual_fundamentals.loc[:,['Report Date','Fiscal Year','Fiscal Period','Cash, Cash Equivalents & Short Term Investments']]\r\n",
    "ual_cash.set_index('Report Date',inplace=True)\r\n",
    "ual_cash.rename(columns={'Cash, Cash Equivalents & Short Term Investments':'UAL Cash & Short Term Investments'},inplace=True)\r\n",
    "cash=pd.concat([dal_cash,luv_cash,ual_cash],axis='columns',join='inner')\r\n",
    "cash.drop(columns=['Fiscal Period','Fiscal Year'],inplace=True)\r\n",
    "cash.sort_index(inplace=True)\r\n",
    "\r\n",
    "dal_revenue=dal_fundamentals.loc[:,['Report Date','Fiscal Year','Fiscal Period','Quick Ratio']]\r\n",
    "dal_revenue.set_index('Report Date',inplace=True)\r\n",
    "dal_revenue.rename(columns={'Quick Ratio':'DAL Quick Ratio'},inplace=True)\r\n",
    "luv_revenue=luv_fundamentals.loc[:,['Report Date','Fiscal Year','Fiscal Period','Quick Ratio']]\r\n",
    "luv_revenue.set_index('Report Date',inplace=True)\r\n",
    "luv_revenue.rename(columns={'Quick Ratio':'LUV Quick Ratio'},inplace=True)\r\n",
    "ual_revenue=ual_fundamentals.loc[:,['Report Date','Fiscal Year','Fiscal Period','Quick Ratio']]\r\n",
    "ual_revenue.set_index('Report Date',inplace=True)\r\n",
    "ual_revenue.rename(columns={'Quick Ratio':'UAL Quick Ratio'},inplace=True)\r\n",
    "qr=pd.concat([dal_revenue,luv_revenue,ual_revenue],axis='columns',join='inner')\r\n",
    "qr.drop(columns=['Fiscal Period','Fiscal Year'],inplace=True)\r\n",
    "qr.sort_index(inplace=True) \r\n",
    "\r\n",
    "dal_revenue=dal_fundamentals.loc[:,['Report Date','Fiscal Year','Fiscal Period','Operating Margin']]\r\n",
    "dal_revenue.set_index('Report Date',inplace=True)\r\n",
    "dal_revenue.rename(columns={'Operating Margin':'DAL Operating Margin'},inplace=True)\r\n",
    "luv_revenue=luv_fundamentals.loc[:,['Report Date','Fiscal Year','Fiscal Period','Operating Margin']]\r\n",
    "luv_revenue.set_index('Report Date',inplace=True)\r\n",
    "luv_revenue.rename(columns={'Operating Margin':'LUV Operating Margin'},inplace=True)\r\n",
    "ual_revenue=ual_fundamentals.loc[:,['Report Date','Fiscal Year','Fiscal Period','Operating Margin']]\r\n",
    "ual_revenue.set_index('Report Date',inplace=True)\r\n",
    "ual_revenue.rename(columns={'Operating Margin':'UAL Operating Margin'},inplace=True)\r\n",
    "opm=pd.concat([dal_revenue,luv_revenue,ual_revenue],axis='columns',join='inner')\r\n",
    "opm.drop(columns=['Fiscal Period','Fiscal Year'],inplace=True)\r\n",
    "opm.sort_index(inplace=True) \r\n",
    "\r\n",
    "dal_cash=dal_fundamentals.loc[:,['Report Date','Fiscal Year','Fiscal Period','Cash, Cash Equivalents & Short Term Investments']]\r\n",
    "dal_cash.set_index('Report Date',inplace=True)\r\n",
    "dal_cash.rename(columns={'Cash, Cash Equivalents & Short Term Investments':'DAL Cash & Short Term Investments'},inplace=True)\r\n",
    "luv_cash=luv_fundamentals.loc[:,['Report Date','Fiscal Year','Fiscal Period','Cash, Cash Equivalents & Short Term Investments']]\r\n",
    "luv_cash.set_index('Report Date',inplace=True)\r\n",
    "luv_cash.rename(columns={'Cash, Cash Equivalents & Short Term Investments':'LUV Cash & Short Term Investments'},inplace=True)\r\n",
    "ual_cash=ual_fundamentals.loc[:,['Report Date','Fiscal Year','Fiscal Period','Cash, Cash Equivalents & Short Term Investments']]\r\n",
    "ual_cash.set_index('Report Date',inplace=True)\r\n",
    "ual_cash.rename(columns={'Cash, Cash Equivalents & Short Term Investments':'UAL Cash & Short Term Investments'},inplace=True)\r\n",
    "cash=pd.concat([dal_cash,luv_cash,ual_cash],axis='columns',join='inner')\r\n",
    "cash.drop(columns=['Fiscal Period','Fiscal Year'],inplace=True)\r\n",
    "cash.sort_index(inplace=True)\r\n",
    "\r\n",
    "dal_price=dal_fundamentals.loc[:,['Report Date','Fiscal Year','Fiscal Period','DAL Price']]\r\n",
    "dal_price.set_index('Report Date',inplace=True)\r\n",
    "dal_price.rename(columns={'DAL Price':'DAL Stock Price'},inplace=True)\r\n",
    "luv_price=luv_fundamentals.loc[:,['Report Date','Fiscal Year','Fiscal Period','LUv Price']]\r\n",
    "luv_price.set_index('Report Date',inplace=True)\r\n",
    "luv_price.rename(columns={'LUv Pricee':'LUV Stock Price'},inplace=True)\r\n",
    "ual_price=ual_fundamentals.loc[:,['Report Date','Fiscal Year','Fiscal Period','UAL Price']]\r\n",
    "ual_price.set_index('Report Date',inplace=True)\r\n",
    "ual_price.rename(columns={'UAL Price':'UAL Stock Price'},inplace=True)\r\n",
    "price=pd.concat([dal_price,luv_price,ual_price],axis='columns',join='inner')\r\n",
    "price.drop(columns=['Fiscal Period','Fiscal Year'],inplace=True)\r\n",
    "price.sort_index(inplace=True)\r\n",
    "\r\n",
    "dal_roe=dal_fundamentals.loc[:,['Report Date','Fiscal Year','Fiscal Period','ROE']]\r\n",
    "dal_roe.set_index('Report Date',inplace=True)\r\n",
    "dal_roe.rename(columns={'ROE':'DAL ROE'},inplace=True)\r\n",
    "luv_roe=luv_fundamentals.loc[:,['Report Date','Fiscal Year','Fiscal Period','ROE']]\r\n",
    "luv_roe.set_index('Report Date',inplace=True)\r\n",
    "luv_roe.rename(columns={'ROE':'LUV Stock Price'},inplace=True)\r\n",
    "ual_roe=ual_fundamentals.loc[:,['Report Date','Fiscal Year','Fiscal Period','ROE']]\r\n",
    "ual_roe.set_index('Report Date',inplace=True)\r\n",
    "ual_roe.rename(columns={'ROE':'UAL SROE'},inplace=True)\r\n",
    "roe=pd.concat([dal_roe,luv_roe,ual_roe],axis='columns',join='inner')\r\n",
    "roe.drop(columns=['Fiscal Period','Fiscal Year'],inplace=True)\r\n",
    "roe.drop('2011-06-30', inplace=True)\r\n",
    "roe.drop('2012-09-30', inplace=True)\r\n",
    "roe.drop('2013-09-30', inplace=True)\r\n",
    "roe.drop('2013-03-31', inplace=True)\r\n",
    "roe.sort_index(inplace=True)\r\n",
    "\r\n",
    "dal_revenue=dal_fundamentals.loc[:,['Report Date','Fiscal Year','Fiscal Period','PE Ratio']]\r\n",
    "dal_revenue.set_index('Report Date',inplace=True)\r\n",
    "dal_revenue.rename(columns={'PE Ratio':'DAL PE Ratio'},inplace=True)\r\n",
    "luv_revenue=luv_fundamentals.loc[:,['Report Date','Fiscal Year','Fiscal Period','PE Ratio']]\r\n",
    "luv_revenue.set_index('Report Date',inplace=True)\r\n",
    "luv_revenue.rename(columns={'PE Ratio':'LUV PE Ratio'},inplace=True)\r\n",
    "ual_revenue=ual_fundamentals.loc[:,['Report Date','Fiscal Year','Fiscal Period','PE Ratio']]\r\n",
    "ual_revenue.set_index('Report Date',inplace=True)\r\n",
    "ual_revenue.rename(columns={'PE Ratio':'UAL PE Ratio'},inplace=True)\r\n",
    "per=pd.concat([dal_revenue,luv_revenue,ual_revenue],axis='columns',join='inner')\r\n",
    "per.drop(columns=['Fiscal Period','Fiscal Year'],inplace=True)\r\n",
    "per.sort_index(inplace=True) \r\n",
    "\r\n",
    "dal_ps=dal_fundamentals.loc[:,['Report Date','Fiscal Year','Fiscal Period','PS Ratio']]\r\n",
    "dal_ps.set_index('Report Date',inplace=True)\r\n",
    "dal_ps.rename(columns={'PS Ratio':'DAL PS Ratio'},inplace=True)\r\n",
    "luv_ps=luv_fundamentals.loc[:,['Report Date','Fiscal Year','Fiscal Period','PS Ratio']]\r\n",
    "luv_ps.set_index('Report Date',inplace=True)\r\n",
    "luv_ps.rename(columns={'PS Ratio':'LUV PS Ratio'},inplace=True)\r\n",
    "ual_ps=ual_fundamentals.loc[:,['Report Date','Fiscal Year','Fiscal Period','PS Ratio']]\r\n",
    "ual_ps.set_index('Report Date',inplace=True)\r\n",
    "ual_ps.rename(columns={'PS Ratio':'UAL PS Ratio'},inplace=True)\r\n",
    "ps=pd.concat([dal_ps,luv_ps,ual_ps],axis='columns',join='inner')\r\n",
    "ps.drop(columns=['Fiscal Period','Fiscal Year'],inplace=True)\r\n",
    "ps.sort_index(inplace=True)"
   ]
  },
  {
   "cell_type": "markdown",
   "metadata": {},
   "source": [
    "Charts Fucntion for Fundamentals"
   ]
  },
  {
   "cell_type": "code",
   "execution_count": 216,
   "metadata": {},
   "outputs": [],
   "source": [
    "def Make_Fnd_Charts():\r\n",
    "    charts_dict = {\r\n",
    "          'revenue'  :revenue.hvplot(rot=90,width=900,height=600,title='Quarterly Revenue from 2011 to 2021').opts(shared_axes=False)\r\n",
    "        , 'GPM'      :gpm.hvplot(rot=90,width=900,height=600,title='Quarterly Gross Profit Margin from 2011 to 2021').opts(shared_axes=False)\r\n",
    "        , 'NPM'      :npm.hvplot(rot=90,width=900,height=600,title='Quarterly Net Profit Margin from 2011 to 2021').opts(shared_axes=False)\r\n",
    "        , 'NI'       :profit.hvplot(rot=90,width=900,height=600,title='Quarterly Net Income from 2011 to 2021').opts(shared_axes=False)\r\n",
    "        , 'EPS'      :EPS.hvplot(rot=90,width=900,height=600,title='Quarterly EPS from 2011 to 2021').opts(shared_axes=False)\r\n",
    "        , 'QR'       :qr.hvplot(rot=90,width=900,height=600,title='Quarterly Quick Ratio from 2011 to 2021').opts(shared_axes=False)\r\n",
    "        , 'OPM'      :opm.hvplot(rot=90,width=900,height=600,title='Quarterly Operating Margin from 2011 to 2021').opts(shared_axes=False)\r\n",
    "        , 'Cash'     :cash.hvplot(rot=90,width=900,height=600,title='Quarterly Cash from 2011 to 2021').opts(shared_axes=False)\r\n",
    "        , 'StkPrice' :price.hvplot(rot=90,width=900,height=600,title='Quarterly Stock Price from 2011 to 2021').opts(shared_axes=False)\r\n",
    "        , 'ROE'      :roe.hvplot(rot=90,width=900,height=600,title='Quarterly ROE from 2011 to 2021').opts(shared_axes=False)\r\n",
    "        , 'PER'      :per.hvplot(rot=90,width=900,height=600,title='Quarterly PE Ratio from 2011 to 2021').opts(shared_axes=False)\r\n",
    "        , 'PSR'      :ps.hvplot(rot=90,width=900,height=600,title='Quarterly PS Ratio from 2011 to 2021').opts(shared_axes=False)\r\n",
    "    }\r\n",
    "    return charts_dict"
   ]
  },
  {
   "cell_type": "code",
   "execution_count": 217,
   "metadata": {},
   "outputs": [],
   "source": [
    "All_Fund_Charts = Make_Fnd_Charts()"
   ]
  },
  {
   "cell_type": "code",
   "execution_count": 218,
   "metadata": {},
   "outputs": [],
   "source": [
    "fund_row1 = pn.Row(All_Fund_Charts['revenue'], All_Fund_Charts['NI'])\r\n",
    "fund_row2 = pn.Row(All_Fund_Charts['GPM'],All_Fund_Charts['NPM'])\r\n",
    "fund_row3 = pn.Row(All_Fund_Charts['OPM'],All_Fund_Charts['QR'])\r\n",
    "fund_row4 = pn.Row(All_Fund_Charts['ROE'],All_Fund_Charts['PER'])\r\n",
    "fund_row5 = pn.Row(All_Fund_Charts['EPS'],All_Fund_Charts['StkPrice'])\r\n",
    "fund_row6 = pn.Row(All_Fund_Charts['PSR'], All_Fund_Charts['Cash'])\r\n",
    "fund_panel = pn.Column(\r\n",
    "                        fund_row1\r\n",
    "                        , fund_row2\r\n",
    "                        , fund_row3\r\n",
    "                        , fund_row4\r\n",
    "                        , fund_row5\r\n",
    "                )\r\n",
    "\r\n",
    "# Dashboard Header\r\n",
    "\r\n",
    "dashboard_col = pn.pane.Markdown('# US Airline Industry Stock Price Analysis Before and After the Pandemic')\r\n",
    "\r\n"
   ]
  },
  {
   "cell_type": "code",
   "execution_count": 219,
   "metadata": {},
   "outputs": [],
   "source": [
    "# Created Variables for dashboard\r\n",
    "\r\n",
    "passenger_panel1 = pn.Row(passenger_lst [0] + passenger_lst [1])\r\n",
    "\r\n",
    "passenger_panel2 = pn.Row(passenger_lst [2] + passenger_lst [3])\r\n",
    "\r\n",
    "passenger_panel3 = pn.Column(passenger_panel1 , passenger_panel2)\r\n",
    "\r\n",
    "flights_panel1 = pn.Row(flight_lst [0] + flight_lst [1])\r\n",
    "\r\n",
    "flights_panel2 = pn.Row(flight_lst [2] + flight_lst [3])\r\n",
    "\r\n",
    "flights_panel3 = pn.Column(flights_panel1, flights_panel2)\r\n",
    "\r\n",
    "passenger_miles_notes = \" According to the Bureau of Transportation Statistics (2021), A revenue passenger mile (RPM) is a transportation industry metric that shows the number of miles traveled by paying passengers and is typically an airline traffic statistic. Revenue passenger miles are calculated by multiplying the number of paying passengers by the distance traveled. For example, an airplane with 100 passengers that flies 250 miles has generated 25,000 RPM.\" \r\n",
    "\r\n",
    "passenger_miles_notes2 = \" Revenue passenger miles are the backbone of most transportation metrics. RPM is often compared to available seat miles (ASM), a measure of an airplane's total carrying capacity available to generate income. By dividing RPM by ASM, an airline can calculate load factors. The load factor is a percentage indicating how effective the airline is at selling seats and earning revenue. Higher load factors, obviously, are desired because empty seats are an opportunity cost for an airline. \"\r\n",
    "\r\n",
    "passenger_miles_panel1 = pn.Row(passenger_miles_lst [0] + passenger_miles_lst [1])\r\n",
    "\r\n",
    "passenger_miles_panel2 = pn.Row(passenger_miles_lst [2] + passenger_miles_lst [3])\r\n",
    "\r\n",
    "passenger_miles_panel3 = pn.Column(passenger_miles_notes, passenger_miles_notes2, passenger_miles_panel1, passenger_miles_panel2)\r\n",
    "\r\n",
    "seat_notes = \"According to Investopedia (2020), available seat miles (ASM) is a measure of an airplane's carrying capacity available to generate revenues. Available seat miles refers to how many seat miles are actually available for purchase on an airline. Seat miles are calculated by multiplying the number of miles that a given airplane will be flying by the number of seats available for a given flight. \"\r\n",
    "\r\n",
    "seat_miles_panel1 = pn.Row(seat_miles_lst [0] + seat_miles_lst [1])\r\n",
    "\r\n",
    "seat_miles_panel2 = pn.Row(seat_miles_lst [2] + seat_miles_lst [3])\r\n",
    "\r\n",
    "seat_miles_panel3 = pn.Column(seat_notes, seat_miles_panel1, seat_miles_panel2)\r\n",
    "\r\n",
    "load_notes = \"According to the Air Transport Association (2020) , A high load factor indicates that an airline has full planes with most seats occupied by passengers. Airlines have high fixed costs associated with each flight. Every flight must have an entire flight crew and support staff, a well-maintained aircraft with enough fuel, and services that entertain and comfort customers. The load factor help investors understand how the airline covers expenses and generates a profit. A low load factor may be a cause for concern and may indicate an unprofitable airline.\"\r\n",
    "\r\n",
    "load_panel1 = pn.Row(load_factor_lst [0] + load_factor_lst [1])\r\n",
    "\r\n",
    "load_panel2 = pn.Row(load_factor_lst [2] + load_factor_lst [3])\r\n",
    "\r\n",
    "load_panel3 = pn.Column(load_notes, load_panel1, load_panel2)\r\n",
    "\r\n",
    "employment_panel = pn.Row(employment_plot, fig)\r\n",
    "\r\n",
    "welcomda_notes = \" Bureau of Transportation Statistics - Aviation Data\"\r\n",
    "\r\n",
    "dashboard_welcome = \" The dashboard presents a visual analysis of aviation data from All U.S. Carriers, Delta Airlines, Southwest Airlines, and United Airlines\"\r\n",
    "\r\n",
    "\r\n",
    "# Dashboard tabs\r\n",
    "\r\n",
    "dashboard_tabs = pn.Tabs(\r\n",
    "    (\"Passenger\" , passenger_panel3),\r\n",
    "    (\"Flights\", flights_panel3),\r\n",
    "    (\"Passenger-Miles\", passenger_miles_panel3),\r\n",
    "    (\"Seat-Miles\", seat_miles_panel3),\r\n",
    "    (\"Load Factor\", load_panel3),\r\n",
    "    (\"Airline Employment Data\", employment_panel),\r\n",
    "    (\"Fundamental Data\", fund_panel),\r\n",
    ")\r\n",
    "\r\n",
    "dashboard = pn.Column(dashboard_col\r\n",
    "                      , dashboard_tabs\r\n",
    "                      ,height_policy=\"auto\"\r\n",
    ")\r\n"
   ]
  },
  {
   "cell_type": "code",
   "execution_count": 220,
   "metadata": {},
   "outputs": [
    {
     "data": {},
     "metadata": {},
     "output_type": "display_data"
    },
    {
     "data": {},
     "metadata": {},
     "output_type": "display_data"
    },
    {
     "data": {
      "application/vnd.holoviews_exec.v0+json": "",
      "text/html": [
       "<div id='77880'>\n",
       "\n",
       "\n",
       "\n",
       "\n",
       "\n",
       "  <div class=\"bk-root\" id=\"d0d4cf01-530c-4f0c-911d-cd6d519c6658\" data-root-id=\"77880\"></div>\n",
       "</div>\n",
       "<script type=\"application/javascript\">(function(root) {\n",
       "  function embed_document(root) {\n",
       "    var docs_json = {\"f284daa5-d2e4-4f2f-a94b-5afd65414e5b\":{\"defs\":[],\"roots\":{\"references\":[{\"attributes\":{\"data_source\":{\"id\":\"82490\"},\"glyph\":{\"id\":\"82493\"},\"hover_glyph\":null,\"muted_glyph\":{\"id\":\"82495\"},\"nonselection_glyph\":{\"id\":\"82494\"},\"selection_glyph\":{\"id\":\"82513\"},\"view\":{\"id\":\"82497\"}},\"id\":\"82496\",\"type\":\"GlyphRenderer\"},{\"attributes\":{},\"id\":\"82910\",\"type\":\"AllLabels\"},{\"attributes\":{\"line_alpha\":0.1,\"line_color\":\"#fc4f30\",\"line_width\":2,\"x\":{\"field\":\"Report Date\"},\"y\":{\"field\":\"value\"}},\"id\":\"82939\",\"type\":\"Line\"},{\"attributes\":{},\"id\":\"80285\",\"type\":\"CategoricalTickFormatter\"},{\"attributes\":{},\"id\":\"82912\",\"type\":\"BasicTickFormatter\"},{\"attributes\":{\"source\":{\"id\":\"82490\"}},\"id\":\"82497\",\"type\":\"CDSView\"},{\"attributes\":{\"line_color\":\"#30a2da\",\"line_width\":2,\"x\":{\"field\":\"Report Date\"},\"y\":{\"field\":\"value\"}},\"id\":\"82934\",\"type\":\"Line\"},{\"attributes\":{},\"id\":\"80286\",\"type\":\"AllLabels\"},{\"attributes\":{\"label\":{\"value\":\"UAL SROE\"},\"renderers\":[{\"id\":\"82496\"}]},\"id\":\"82512\",\"type\":\"LegendItem\"},{\"attributes\":{\"data_source\":{\"id\":\"82935\"},\"glyph\":{\"id\":\"82938\"},\"hover_glyph\":null,\"muted_glyph\":{\"id\":\"82940\"},\"nonselection_glyph\":{\"id\":\"82939\"},\"selection_glyph\":{\"id\":\"82956\"},\"view\":{\"id\":\"82942\"}},\"id\":\"82941\",\"type\":\"GlyphRenderer\"},{\"attributes\":{},\"id\":\"82913\",\"type\":\"AllLabels\"},{\"attributes\":{},\"id\":\"82509\",\"type\":\"UnionRenderers\"},{\"attributes\":{\"children\":[[{\"id\":\"80482\"},0,0],[{\"id\":\"80532\"},0,1]]},\"id\":\"80599\",\"type\":\"GridBox\"},{\"attributes\":{},\"id\":\"82915\",\"type\":\"Selection\"},{\"attributes\":{\"format\":\"%.0f\"},\"id\":\"80283\",\"type\":\"PrintfTickFormatter\"},{\"attributes\":{\"line_color\":\"#30a2da\",\"line_width\":2,\"x\":{\"field\":\"Report Date\"},\"y\":{\"field\":\"value\"}},\"id\":\"82917\",\"type\":\"Line\"},{\"attributes\":{\"line_alpha\":0.1,\"line_color\":\"#30a2da\",\"line_width\":2,\"x\":{\"field\":\"Report Date\"},\"y\":{\"field\":\"value\"}},\"id\":\"82918\",\"type\":\"Line\"},{\"attributes\":{},\"id\":\"82936\",\"type\":\"Selection\"},{\"attributes\":{\"data\":{\"Report Date\":[\"2011-06-30\",\"2011-09-30\",\"2011-12-31\",\"2012-03-31\",\"2012-06-30\",\"2012-09-30\",\"2012-12-31\",\"2013-03-31\",\"2013-06-30\",\"2013-09-30\",\"2013-12-31\",\"2014-03-31\",\"2014-06-30\",\"2014-09-30\",\"2014-12-31\",\"2015-03-31\",\"2015-06-30\",\"2015-09-30\",\"2015-12-31\",\"2016-03-31\",\"2016-06-30\",\"2016-09-30\",\"2016-12-31\",\"2017-03-31\",\"2017-06-30\",\"2017-09-30\",\"2017-12-31\",\"2018-03-31\",\"2018-06-30\",\"2018-09-30\",\"2018-12-31\",\"2019-03-31\",\"2019-06-30\",\"2019-09-30\",\"2019-12-31\",\"2020-03-31\",\"2020-06-29\",\"2020-12-30\",\"2021-03-30\"],\"Report_Date\":[\"2011-06-30\",\"2011-09-30\",\"2011-12-31\",\"2012-03-31\",\"2012-06-30\",\"2012-09-30\",\"2012-12-31\",\"2013-03-31\",\"2013-06-30\",\"2013-09-30\",\"2013-12-31\",\"2014-03-31\",\"2014-06-30\",\"2014-09-30\",\"2014-12-31\",\"2015-03-31\",\"2015-06-30\",\"2015-09-30\",\"2015-12-31\",\"2016-03-31\",\"2016-06-30\",\"2016-09-30\",\"2016-12-31\",\"2017-03-31\",\"2017-06-30\",\"2017-09-30\",\"2017-12-31\",\"2018-03-31\",\"2018-06-30\",\"2018-09-30\",\"2018-12-31\",\"2019-03-31\",\"2019-06-30\",\"2019-09-30\",\"2019-12-31\",\"2020-03-31\",\"2020-06-29\",\"2020-12-30\",\"2021-03-30\"],\"Variable\":[\"UAL EPS\",\"UAL EPS\",\"UAL EPS\",\"UAL EPS\",\"UAL EPS\",\"UAL EPS\",\"UAL EPS\",\"UAL EPS\",\"UAL EPS\",\"UAL EPS\",\"UAL EPS\",\"UAL EPS\",\"UAL EPS\",\"UAL EPS\",\"UAL EPS\",\"UAL EPS\",\"UAL EPS\",\"UAL EPS\",\"UAL EPS\",\"UAL EPS\",\"UAL EPS\",\"UAL EPS\",\"UAL EPS\",\"UAL EPS\",\"UAL EPS\",\"UAL EPS\",\"UAL EPS\",\"UAL EPS\",\"UAL EPS\",\"UAL EPS\",\"UAL EPS\",\"UAL EPS\",\"UAL EPS\",\"UAL EPS\",\"UAL EPS\",\"UAL EPS\",\"UAL EPS\",\"UAL EPS\",\"UAL EPS\"],\"value\":{\"__ndarray__\":\"FopbobgV+j+p15F6Han/P5APjOxQ2Nq/uRWKW6G49b/9iwE6/2LwP1s/SuDaj5I/DrmsGCjh/b/0aw+5rBj0vwEGGGCAAfY/IWr8IGr88D9ORfOEWsDYPzi96U1vevq/rrowtRjsAECnP2IBd/oDQAAllotSMrM/Y8rXYQlH9T/asQJhpB0JQHyGXQFyrylAT1pYXqfrAUAaWsdvE0XsP1I5vDJJd/w/AAAAAAAgCECnlM1YNbTyP1/muZqYMtQ/vJoVAa9mBUDDEUguIzYBQJOQWcOB2P8/4joFKgJY4D/oWHLPCuQDQGAAZz7KdghA0a04/Ls3+z8XFf5FhX/xPzd/hVmNIhBAWzi+DzsLEEALHbKWVFcEQNu2bdu2bRvACA1ZznFoFsD4vsmfjxMawBEMsAEtCxHA\",\"dtype\":\"float64\",\"order\":\"little\",\"shape\":[39]}},\"selected\":{\"id\":\"82958\"},\"selection_policy\":{\"id\":\"82976\"}},\"id\":\"82957\",\"type\":\"ColumnDataSource\"},{\"attributes\":{\"data\":{\"Report Date\":[\"2011-06-30\",\"2011-09-30\",\"2011-12-31\",\"2012-03-31\",\"2012-06-30\",\"2012-09-30\",\"2012-12-31\",\"2013-03-31\",\"2013-06-30\",\"2013-09-30\",\"2013-12-31\",\"2014-03-31\",\"2014-06-30\",\"2014-09-30\",\"2014-12-31\",\"2015-03-31\",\"2015-06-30\",\"2015-09-30\",\"2015-12-31\",\"2016-03-31\",\"2016-06-30\",\"2016-09-30\",\"2016-12-31\",\"2017-03-31\",\"2017-06-30\",\"2017-09-30\",\"2017-12-31\",\"2018-03-31\",\"2018-06-30\",\"2018-09-30\",\"2018-12-31\",\"2019-03-31\",\"2019-06-30\",\"2019-09-30\",\"2019-12-31\",\"2020-03-31\",\"2020-06-29\",\"2020-12-30\",\"2021-03-30\"],\"Report_Date\":[\"2011-06-30\",\"2011-09-30\",\"2011-12-31\",\"2012-03-31\",\"2012-06-30\",\"2012-09-30\",\"2012-12-31\",\"2013-03-31\",\"2013-06-30\",\"2013-09-30\",\"2013-12-31\",\"2014-03-31\",\"2014-06-30\",\"2014-09-30\",\"2014-12-31\",\"2015-03-31\",\"2015-06-30\",\"2015-09-30\",\"2015-12-31\",\"2016-03-31\",\"2016-06-30\",\"2016-09-30\",\"2016-12-31\",\"2017-03-31\",\"2017-06-30\",\"2017-09-30\",\"2017-12-31\",\"2018-03-31\",\"2018-06-30\",\"2018-09-30\",\"2018-12-31\",\"2019-03-31\",\"2019-06-30\",\"2019-09-30\",\"2019-12-31\",\"2020-03-31\",\"2020-06-29\",\"2020-12-30\",\"2021-03-30\"],\"Variable\":[\"DAL Stock Price\",\"DAL Stock Price\",\"DAL Stock Price\",\"DAL Stock Price\",\"DAL Stock Price\",\"DAL Stock Price\",\"DAL Stock Price\",\"DAL Stock Price\",\"DAL Stock Price\",\"DAL Stock Price\",\"DAL Stock Price\",\"DAL Stock Price\",\"DAL Stock Price\",\"DAL Stock Price\",\"DAL Stock Price\",\"DAL Stock Price\",\"DAL Stock Price\",\"DAL Stock Price\",\"DAL Stock Price\",\"DAL Stock Price\",\"DAL Stock Price\",\"DAL Stock Price\",\"DAL Stock Price\",\"DAL Stock Price\",\"DAL Stock Price\",\"DAL Stock Price\",\"DAL Stock Price\",\"DAL Stock Price\",\"DAL Stock Price\",\"DAL Stock Price\",\"DAL Stock Price\",\"DAL Stock Price\",\"DAL Stock Price\",\"DAL Stock Price\",\"DAL Stock Price\",\"DAL Stock Price\",\"DAL Stock Price\",\"DAL Stock Price\",\"DAL Stock Price\"],\"value\":{\"__ndarray__\":\"exSuR+F6HkDsUbgehesgQEjhehSuxyVA9ihcj8L1JEBU46WbxKAhQIts5/up8SFACtejcD2KLUCcxCCwcqguQM3MzMzMDDZAH4XrUbieOUDD9Shcj0JBQB+F61G4XkJAH4XrUbjeQUDXo3A9CrdDQFyPwvUofEZAw/UoXI/iREA9CtejcP1FQClcj8L1SEhA4XoUrkcBREApXI/C9ShHQFyPwvUo/ENApHA9CtcDREAUrkfhenRJQIXrUbgehUZAPQrXo3A9S0AK16NwPYpKQFK4HoXrkUpAAAAAAACASkA9CtejcF1JQD0K16NwvUlAF9nO91OLSUDNzMzMzOxMQDMzMzMzE05ArkfhehSOSkBSuB6F65FNQHsUrkfhijZAXI/C9SgcOkDXo3A9CjdEQBSuR+F6FEhA\",\"dtype\":\"float64\",\"order\":\"little\",\"shape\":[39]}},\"selected\":{\"id\":\"83148\"},\"selection_policy\":{\"id\":\"83162\"}},\"id\":\"83147\",\"type\":\"ColumnDataSource\"},{\"attributes\":{\"label\":{\"value\":\"LUV EPS\"},\"renderers\":[{\"id\":\"82941\"}]},\"id\":\"82955\",\"type\":\"LegendItem\"},{\"attributes\":{\"source\":{\"id\":\"82914\"}},\"id\":\"82921\",\"type\":\"CDSView\"},{\"attributes\":{\"line_color\":\"#fc4f30\",\"line_width\":2,\"x\":{\"field\":\"Report Date\"},\"y\":{\"field\":\"value\"}},\"id\":\"82938\",\"type\":\"Line\"},{\"attributes\":{\"line_alpha\":0.2,\"line_color\":\"#30a2da\",\"line_width\":2,\"x\":{\"field\":\"Report Date\"},\"y\":{\"field\":\"value\"}},\"id\":\"82919\",\"type\":\"Line\"},{\"attributes\":{\"data_source\":{\"id\":\"82914\"},\"glyph\":{\"id\":\"82917\"},\"hover_glyph\":null,\"muted_glyph\":{\"id\":\"82919\"},\"nonselection_glyph\":{\"id\":\"82918\"},\"selection_glyph\":{\"id\":\"82934\"},\"view\":{\"id\":\"82921\"}},\"id\":\"82920\",\"type\":\"GlyphRenderer\"},{\"attributes\":{\"source\":{\"id\":\"82935\"}},\"id\":\"82942\",\"type\":\"CDSView\"},{\"attributes\":{\"line_color\":\"#fc4f30\",\"line_width\":2,\"x\":{\"field\":\"Report Date\"},\"y\":{\"field\":\"value\"}},\"id\":\"81555\",\"type\":\"Line\"},{\"attributes\":{\"line_alpha\":0.2,\"line_color\":\"#fc4f30\",\"line_width\":2,\"x\":{\"field\":\"Report Date\"},\"y\":{\"field\":\"value\"}},\"id\":\"82940\",\"type\":\"Line\"},{\"attributes\":{\"label\":{\"value\":\"DAL EPS\"},\"renderers\":[{\"id\":\"82920\"}]},\"id\":\"82933\",\"type\":\"LegendItem\"},{\"attributes\":{\"source\":{\"id\":\"82256\"}},\"id\":\"82263\",\"type\":\"CDSView\"},{\"attributes\":{\"line_alpha\":0.1,\"line_color\":\"#e5ae38\",\"line_width\":2,\"x\":{\"field\":\"Report Date\"},\"y\":{\"field\":\"value\"}},\"id\":\"81560\",\"type\":\"Line\"},{\"attributes\":{},\"id\":\"82952\",\"type\":\"UnionRenderers\"},{\"attributes\":{\"line_color\":\"#30a2da\",\"line_width\":2,\"x\":{\"field\":\"Report Date\"},\"y\":{\"field\":\"value\"}},\"id\":\"82233\",\"type\":\"Line\"},{\"attributes\":{\"data_source\":{\"id\":\"81556\"},\"glyph\":{\"id\":\"81559\"},\"hover_glyph\":null,\"muted_glyph\":{\"id\":\"81561\"},\"nonselection_glyph\":{\"id\":\"81560\"},\"selection_glyph\":{\"id\":\"81579\"},\"view\":{\"id\":\"81563\"}},\"id\":\"81562\",\"type\":\"GlyphRenderer\"},{\"attributes\":{\"line_alpha\":0.1,\"line_color\":\"#fc4f30\",\"line_width\":2,\"x\":{\"field\":\"Report Date\"},\"y\":{\"field\":\"value\"}},\"id\":\"82238\",\"type\":\"Line\"},{\"attributes\":{\"line_color\":\"#e5ae38\",\"line_width\":2,\"x\":{\"field\":\"Report Date\"},\"y\":{\"field\":\"value\"}},\"id\":\"82513\",\"type\":\"Line\"},{\"attributes\":{\"line_alpha\":0.2,\"line_color\":\"#e5ae38\",\"line_width\":2,\"x\":{\"field\":\"Report Date\"},\"y\":{\"field\":\"value\"}},\"id\":\"81561\",\"type\":\"Line\"},{\"attributes\":{\"data_source\":{\"id\":\"82234\"},\"glyph\":{\"id\":\"82237\"},\"hover_glyph\":null,\"muted_glyph\":{\"id\":\"82239\"},\"nonselection_glyph\":{\"id\":\"82238\"},\"selection_glyph\":{\"id\":\"82255\"},\"view\":{\"id\":\"82241\"}},\"id\":\"82240\",\"type\":\"GlyphRenderer\"},{\"attributes\":{},\"id\":\"79153\",\"type\":\"UnionRenderers\"},{\"attributes\":{},\"id\":\"80289\",\"type\":\"AllLabels\"},{\"attributes\":{},\"id\":\"81575\",\"type\":\"UnionRenderers\"},{\"attributes\":{\"label\":{\"value\":\"UAL Gross Profit Margin\"},\"renderers\":[{\"id\":\"81562\"}]},\"id\":\"81578\",\"type\":\"LegendItem\"},{\"attributes\":{\"source\":{\"id\":\"81556\"}},\"id\":\"81563\",\"type\":\"CDSView\"},{\"attributes\":{},\"id\":\"82235\",\"type\":\"Selection\"},{\"attributes\":{\"label\":{\"value\":\"UAL Quick Ratio\"},\"renderers\":[{\"id\":\"82262\"}]},\"id\":\"82278\",\"type\":\"LegendItem\"},{\"attributes\":{\"label\":{\"value\":\"LUV Quick Ratio\"},\"renderers\":[{\"id\":\"82240\"}]},\"id\":\"82254\",\"type\":\"LegendItem\"},{\"attributes\":{\"data\":{\"Report Date\":[\"2011-06-30\",\"2011-09-30\",\"2011-12-31\",\"2012-03-31\",\"2012-06-30\",\"2012-09-30\",\"2012-12-31\",\"2013-03-31\",\"2013-06-30\",\"2013-09-30\",\"2013-12-31\",\"2014-03-31\",\"2014-06-30\",\"2014-09-30\",\"2014-12-31\",\"2015-03-31\",\"2015-06-30\",\"2015-09-30\",\"2015-12-31\",\"2016-03-31\",\"2016-06-30\",\"2016-09-30\",\"2016-12-31\",\"2017-03-31\",\"2017-06-30\",\"2017-09-30\",\"2017-12-31\",\"2018-03-31\",\"2018-06-30\",\"2018-09-30\",\"2018-12-31\",\"2019-03-31\",\"2019-06-30\",\"2019-09-30\",\"2019-12-31\",\"2020-03-31\",\"2020-06-29\",\"2020-12-30\",\"2021-03-30\"],\"Report_Date\":[\"2011-06-30\",\"2011-09-30\",\"2011-12-31\",\"2012-03-31\",\"2012-06-30\",\"2012-09-30\",\"2012-12-31\",\"2013-03-31\",\"2013-06-30\",\"2013-09-30\",\"2013-12-31\",\"2014-03-31\",\"2014-06-30\",\"2014-09-30\",\"2014-12-31\",\"2015-03-31\",\"2015-06-30\",\"2015-09-30\",\"2015-12-31\",\"2016-03-31\",\"2016-06-30\",\"2016-09-30\",\"2016-12-31\",\"2017-03-31\",\"2017-06-30\",\"2017-09-30\",\"2017-12-31\",\"2018-03-31\",\"2018-06-30\",\"2018-09-30\",\"2018-12-31\",\"2019-03-31\",\"2019-06-30\",\"2019-09-30\",\"2019-12-31\",\"2020-03-31\",\"2020-06-29\",\"2020-12-30\",\"2021-03-30\"],\"Variable\":[\"LUV PE Ratio\",\"LUV PE Ratio\",\"LUV PE Ratio\",\"LUV PE Ratio\",\"LUV PE Ratio\",\"LUV PE Ratio\",\"LUV PE Ratio\",\"LUV PE Ratio\",\"LUV PE Ratio\",\"LUV PE Ratio\",\"LUV PE Ratio\",\"LUV PE Ratio\",\"LUV PE Ratio\",\"LUV PE Ratio\",\"LUV PE Ratio\",\"LUV PE Ratio\",\"LUV PE Ratio\",\"LUV PE Ratio\",\"LUV PE Ratio\",\"LUV PE Ratio\",\"LUV PE Ratio\",\"LUV PE Ratio\",\"LUV PE Ratio\",\"LUV PE Ratio\",\"LUV PE Ratio\",\"LUV PE Ratio\",\"LUV PE Ratio\",\"LUV PE Ratio\",\"LUV PE Ratio\",\"LUV PE Ratio\",\"LUV PE Ratio\",\"LUV PE Ratio\",\"LUV PE Ratio\",\"LUV PE Ratio\",\"LUV PE Ratio\",\"LUV PE Ratio\",\"LUV PE Ratio\",\"LUV PE Ratio\",\"LUV PE Ratio\"],\"value\":{\"__ndarray__\":\"oWirwXOEREBRxGPBAe5HwHGX5eKB/UhAtkPc0hduT0DLNl8OsIw9QI/C9SjcOnlAznH+U0juWkDESd2Xxx5lQHE9CtejCkZAloac++xCR0CyGUfQMv1QQOxRuB6F61tAKDh6gqNnRUC+fhhN87dRQH/PLXHqX2NAIHyRDGQuTkDNzMzMzM5DQEr4VhSPsElAjon0QOVURkDUJYHKN91LQF+L0rUo3TxAwDua4zTjT0D43U2N1UdPQEbPttRaS1pAljdR1dakRkCRCzjhFwVQQOODjm1I9DFAQjr6ogHKUEB3FthEwElGQMirHVZ0u0ZAYakR9FK5SEA2UvfXmkxTQChtac/rOENAQLEjxSOGR0A2sx6u9YxMQPmR7i98WmTAcfCpPY4uNMAUpkKGcsI8wHoISGRUwXNA\",\"dtype\":\"float64\",\"order\":\"little\",\"shape\":[39]}},\"selected\":{\"id\":\"82702\"},\"selection_policy\":{\"id\":\"82718\"}},\"id\":\"82701\",\"type\":\"ColumnDataSource\"},{\"attributes\":{\"line_color\":\"#fc4f30\",\"line_width\":2,\"x\":{\"field\":\"Report Date\"},\"y\":{\"field\":\"value\"}},\"id\":\"82237\",\"type\":\"Line\"},{\"attributes\":{\"source\":{\"id\":\"82234\"}},\"id\":\"82241\",\"type\":\"CDSView\"},{\"attributes\":{\"line_alpha\":0.2,\"line_color\":\"#fc4f30\",\"line_width\":2,\"x\":{\"field\":\"Report Date\"},\"y\":{\"field\":\"value\"}},\"id\":\"82239\",\"type\":\"Line\"},{\"attributes\":{},\"id\":\"82929\",\"type\":\"UnionRenderers\"},{\"attributes\":{},\"id\":\"82251\",\"type\":\"UnionRenderers\"},{\"attributes\":{\"line_color\":\"#fc4f30\",\"line_width\":2,\"x\":{\"field\":\"Report Date\"},\"y\":{\"field\":\"value\"}},\"id\":\"82956\",\"type\":\"Line\"},{\"attributes\":{\"line_alpha\":0.1,\"line_color\":\"#e5ae38\",\"line_width\":2,\"x\":{\"field\":\"Report Date\"},\"y\":{\"field\":\"value\"}},\"id\":\"82961\",\"type\":\"Line\"},{\"attributes\":{\"data_source\":{\"id\":\"82957\"},\"glyph\":{\"id\":\"82960\"},\"hover_glyph\":null,\"muted_glyph\":{\"id\":\"82962\"},\"nonselection_glyph\":{\"id\":\"82961\"},\"selection_glyph\":{\"id\":\"82980\"},\"view\":{\"id\":\"82964\"}},\"id\":\"82963\",\"type\":\"GlyphRenderer\"},{\"attributes\":{\"click_policy\":\"mute\",\"items\":[{\"id\":\"82933\"},{\"id\":\"82955\"},{\"id\":\"82979\"}],\"location\":[0,0],\"title\":\"Variable\"},\"id\":\"82932\",\"type\":\"Legend\"},{\"attributes\":{},\"id\":\"82958\",\"type\":\"Selection\"},{\"attributes\":{\"label\":{\"value\":\"UAL EPS\"},\"renderers\":[{\"id\":\"82963\"}]},\"id\":\"82979\",\"type\":\"LegendItem\"},{\"attributes\":{\"line_color\":\"#e5ae38\",\"line_width\":2,\"x\":{\"field\":\"Report Date\"},\"y\":{\"field\":\"value\"}},\"id\":\"81579\",\"type\":\"Line\"},{\"attributes\":{\"line_color\":\"#e5ae38\",\"line_width\":2,\"x\":{\"field\":\"Report Date\"},\"y\":{\"field\":\"value\"}},\"id\":\"82960\",\"type\":\"Line\"},{\"attributes\":{\"source\":{\"id\":\"82957\"}},\"id\":\"82964\",\"type\":\"CDSView\"},{\"attributes\":{\"children\":[{\"id\":\"79159\"},{\"id\":\"79157\"}]},\"id\":\"79160\",\"type\":\"Column\"},{\"attributes\":{\"line_alpha\":0.2,\"line_color\":\"#e5ae38\",\"line_width\":2,\"x\":{\"field\":\"Report Date\"},\"y\":{\"field\":\"value\"}},\"id\":\"82962\",\"type\":\"Line\"},{\"attributes\":{},\"id\":\"82976\",\"type\":\"UnionRenderers\"},{\"attributes\":{},\"id\":\"80298\",\"type\":\"UnionRenderers\"},{\"attributes\":{\"data\":{\"Report Date\":[\"2011-06-30\",\"2011-09-30\",\"2011-12-31\",\"2012-03-31\",\"2012-06-30\",\"2012-09-30\",\"2012-12-31\",\"2013-03-31\",\"2013-06-30\",\"2013-09-30\",\"2013-12-31\",\"2014-03-31\",\"2014-06-30\",\"2014-09-30\",\"2014-12-31\",\"2015-03-31\",\"2015-06-30\",\"2015-09-30\",\"2015-12-31\",\"2016-03-31\",\"2016-06-30\",\"2016-09-30\",\"2016-12-31\",\"2017-03-31\",\"2017-06-30\",\"2017-09-30\",\"2017-12-31\",\"2018-03-31\",\"2018-06-30\",\"2018-09-30\",\"2018-12-31\",\"2019-03-31\",\"2019-06-30\",\"2019-09-30\",\"2019-12-31\",\"2020-03-31\",\"2020-06-29\",\"2020-12-30\",\"2021-03-30\"],\"Report_Date\":[\"2011-06-30\",\"2011-09-30\",\"2011-12-31\",\"2012-03-31\",\"2012-06-30\",\"2012-09-30\",\"2012-12-31\",\"2013-03-31\",\"2013-06-30\",\"2013-09-30\",\"2013-12-31\",\"2014-03-31\",\"2014-06-30\",\"2014-09-30\",\"2014-12-31\",\"2015-03-31\",\"2015-06-30\",\"2015-09-30\",\"2015-12-31\",\"2016-03-31\",\"2016-06-30\",\"2016-09-30\",\"2016-12-31\",\"2017-03-31\",\"2017-06-30\",\"2017-09-30\",\"2017-12-31\",\"2018-03-31\",\"2018-06-30\",\"2018-09-30\",\"2018-12-31\",\"2019-03-31\",\"2019-06-30\",\"2019-09-30\",\"2019-12-31\",\"2020-03-31\",\"2020-06-29\",\"2020-12-30\",\"2021-03-30\"],\"Variable\":[\"UAL Quick Ratio\",\"UAL Quick Ratio\",\"UAL Quick Ratio\",\"UAL Quick Ratio\",\"UAL Quick Ratio\",\"UAL Quick Ratio\",\"UAL Quick Ratio\",\"UAL Quick Ratio\",\"UAL Quick Ratio\",\"UAL Quick Ratio\",\"UAL Quick Ratio\",\"UAL Quick Ratio\",\"UAL Quick Ratio\",\"UAL Quick Ratio\",\"UAL Quick Ratio\",\"UAL Quick Ratio\",\"UAL Quick Ratio\",\"UAL Quick Ratio\",\"UAL Quick Ratio\",\"UAL Quick Ratio\",\"UAL Quick Ratio\",\"UAL Quick Ratio\",\"UAL Quick Ratio\",\"UAL Quick Ratio\",\"UAL Quick Ratio\",\"UAL Quick Ratio\",\"UAL Quick Ratio\",\"UAL Quick Ratio\",\"UAL Quick Ratio\",\"UAL Quick Ratio\",\"UAL Quick Ratio\",\"UAL Quick Ratio\",\"UAL Quick Ratio\",\"UAL Quick Ratio\",\"UAL Quick Ratio\",\"UAL Quick Ratio\",\"UAL Quick Ratio\",\"UAL Quick Ratio\",\"UAL Quick Ratio\"],\"value\":{\"__ndarray__\":\"DKRD0sPL7T/04l4fM4zuPwKRJbxlKO0/65XoSBo16z9P7MRO7KzqP1e7rWMkwOg/Zh6POSda5z/rwiaoff7kPybxEYo8ceY/BasJp4gy5j9Zn7C9vzzlP7utRBgt6uM/QJf3cMZw5T+SpY4Q2zTlP7TYH92lmuE/1MfoQm1W5D/7We1u0NriP+T2me/hSOY/SgDHGbFG4j9jd2j7e+zeP0xx9mo5IOA/2ZfPQf014T9vYjp5XcPgP3NHO3L1PuE/LjF1tDxW4T85/bHrMfjgP+pfllWPIt8/FqI0BNGc4D9koTEHHwfiP5d08jiz6eE/EtZatK8T3j9cTsvubg7bP3oWEviegN8/VAb02dN13j9q44kNaYPePwd7+0MwMds/82IdsvO74T/5rAJv6m/xP35STV8KDvE/\",\"dtype\":\"float64\",\"order\":\"little\",\"shape\":[39]}},\"selected\":{\"id\":\"82257\"},\"selection_policy\":{\"id\":\"82275\"}},\"id\":\"82256\",\"type\":\"ColumnDataSource\"},{\"attributes\":{\"line_color\":\"#fc4f30\",\"line_width\":2,\"x\":{\"field\":\"Report Date\"},\"y\":{\"field\":\"value\"}},\"id\":\"82255\",\"type\":\"Line\"},{\"attributes\":{\"axis_label\":\"\",\"formatter\":{\"id\":\"81277\"},\"major_label_policy\":{\"id\":\"81278\"},\"ticker\":{\"id\":\"81257\"}},\"id\":\"81256\",\"type\":\"LinearAxis\"},{\"attributes\":{},\"id\":\"81090\",\"type\":\"Selection\"},{\"attributes\":{\"line_alpha\":0.1,\"line_color\":\"#e5ae38\",\"line_width\":2,\"x\":{\"field\":\"Report Date\"},\"y\":{\"field\":\"value\"}},\"id\":\"82260\",\"type\":\"Line\"},{\"attributes\":{},\"id\":\"81261\",\"type\":\"PanTool\"},{\"attributes\":{},\"id\":\"82675\",\"type\":\"CategoricalTickFormatter\"},{\"attributes\":{\"axis\":{\"id\":\"81256\"},\"dimension\":1,\"grid_line_color\":null,\"ticker\":null},\"id\":\"81259\",\"type\":\"Grid\"},{\"attributes\":{\"line_alpha\":0.2,\"line_color\":\"#e5ae38\",\"line_width\":2,\"x\":{\"field\":\"Report Date\"},\"y\":{\"field\":\"value\"}},\"id\":\"81094\",\"type\":\"Line\"},{\"attributes\":{\"line_alpha\":0.1,\"line_color\":\"#e5ae38\",\"line_width\":2,\"x\":{\"field\":\"Report Date\"},\"y\":{\"field\":\"value\"}},\"id\":\"81093\",\"type\":\"Line\"},{\"attributes\":{},\"id\":\"81257\",\"type\":\"BasicTicker\"},{\"attributes\":{\"children\":[{\"id\":\"81945\"},{\"id\":\"82178\"}],\"margin\":[0,0,0,0],\"name\":\"Row88158\"},\"id\":\"81939\",\"type\":\"Row\"},{\"attributes\":{},\"id\":\"81262\",\"type\":\"WheelZoomTool\"},{\"attributes\":{\"source\":{\"id\":\"81089\"}},\"id\":\"81096\",\"type\":\"CDSView\"},{\"attributes\":{},\"id\":\"82681\",\"type\":\"Selection\"},{\"attributes\":{},\"id\":\"82275\",\"type\":\"UnionRenderers\"},{\"attributes\":{\"data_source\":{\"id\":\"81089\"},\"glyph\":{\"id\":\"81092\"},\"hover_glyph\":null,\"muted_glyph\":{\"id\":\"81094\"},\"nonselection_glyph\":{\"id\":\"81093\"},\"selection_glyph\":{\"id\":\"81112\"},\"view\":{\"id\":\"81096\"}},\"id\":\"81095\",\"type\":\"GlyphRenderer\"},{\"attributes\":{\"label\":{\"value\":\"DAL Net Income\"},\"renderers\":[{\"id\":\"81285\"}]},\"id\":\"81298\",\"type\":\"LegendItem\"},{\"attributes\":{\"line_color\":\"#e5ae38\",\"line_width\":2,\"x\":{\"field\":\"Report Date\"},\"y\":{\"field\":\"value\"}},\"id\":\"82259\",\"type\":\"Line\"},{\"attributes\":{},\"id\":\"81260\",\"type\":\"SaveTool\"},{\"attributes\":{},\"id\":\"82676\",\"type\":\"AllLabels\"},{\"attributes\":{\"overlay\":{\"id\":\"81265\"}},\"id\":\"81263\",\"type\":\"BoxZoomTool\"},{\"attributes\":{\"active_multi\":null,\"tools\":[{\"id\":\"77885\"},{\"id\":\"77902\"},{\"id\":\"77903\"},{\"id\":\"77904\"},{\"id\":\"77905\"},{\"id\":\"77906\"}]},\"id\":\"77908\",\"type\":\"Toolbar\"},{\"attributes\":{\"line_color\":\"#e5ae38\",\"line_width\":2,\"x\":{\"field\":\"Report Date\"},\"y\":{\"field\":\"value\"}},\"id\":\"81092\",\"type\":\"Line\"},{\"attributes\":{},\"id\":\"81264\",\"type\":\"ResetTool\"},{\"attributes\":{},\"id\":\"82679\",\"type\":\"AllLabels\"},{\"attributes\":{\"label\":{\"value\":\"UAL Revenue\"},\"renderers\":[{\"id\":\"81095\"}]},\"id\":\"81111\",\"type\":\"LegendItem\"},{\"attributes\":{\"line_alpha\":0.1,\"line_color\":\"#30a2da\",\"line_width\":2,\"x\":{\"field\":\"Report Date\"},\"y\":{\"field\":\"value\"}},\"id\":\"82684\",\"type\":\"Line\"},{\"attributes\":{},\"id\":\"82678\",\"type\":\"BasicTickFormatter\"},{\"attributes\":{\"line_alpha\":0.2,\"line_color\":\"#30a2da\",\"line_width\":2,\"x\":{\"field\":\"Report Date\"},\"y\":{\"field\":\"value\"}},\"id\":\"81284\",\"type\":\"Line\"},{\"attributes\":{},\"id\":\"81108\",\"type\":\"UnionRenderers\"},{\"attributes\":{\"data_source\":{\"id\":\"81279\"},\"glyph\":{\"id\":\"81282\"},\"hover_glyph\":null,\"muted_glyph\":{\"id\":\"81284\"},\"nonselection_glyph\":{\"id\":\"81283\"},\"selection_glyph\":{\"id\":\"81299\"},\"view\":{\"id\":\"81286\"}},\"id\":\"81285\",\"type\":\"GlyphRenderer\"},{\"attributes\":{\"line_color\":\"#30a2da\",\"line_width\":2,\"x\":{\"field\":\"Report Date\"},\"y\":{\"field\":\"value\"}},\"id\":\"82683\",\"type\":\"Line\"},{\"attributes\":{\"data\":{\"TOTAL\":[612777682,644234973,700230727,735104668,741098199,766626582,740460933,701164455,717744056,728368297,734322469,740859387,761003553,796914123,822888623,848769671,888629905,926438984,369075569,96654011],\"Year\":[\"2002\",\"2003\",\"2004\",\"2005\",\"2006\",\"2007\",\"2008\",\"2009\",\"2010\",\"2011\",\"2012\",\"2013\",\"2014\",\"2015\",\"2016\",\"2017\",\"2018\",\"2019\",\"2020\",\"2021\"]},\"selected\":{\"id\":\"77916\"},\"selection_policy\":{\"id\":\"77989\"}},\"id\":\"77915\",\"type\":\"ColumnDataSource\"},{\"attributes\":{\"click_policy\":\"mute\",\"items\":[{\"id\":\"81298\"},{\"id\":\"81320\"},{\"id\":\"81344\"}],\"location\":[0,0],\"title\":\"Variable\"},\"id\":\"81297\",\"type\":\"Legend\"},{\"attributes\":{\"data\":{\"Report Date\":[\"2011-06-30\",\"2011-09-30\",\"2011-12-31\",\"2012-03-31\",\"2012-06-30\",\"2012-09-30\",\"2012-12-31\",\"2013-03-31\",\"2013-06-30\",\"2013-09-30\",\"2013-12-31\",\"2014-03-31\",\"2014-06-30\",\"2014-09-30\",\"2014-12-31\",\"2015-03-31\",\"2015-06-30\",\"2015-09-30\",\"2015-12-31\",\"2016-03-31\",\"2016-06-30\",\"2016-09-30\",\"2016-12-31\",\"2017-03-31\",\"2017-06-30\",\"2017-09-30\",\"2017-12-31\",\"2018-03-31\",\"2018-06-30\",\"2018-09-30\",\"2018-12-31\",\"2019-03-31\",\"2019-06-30\",\"2019-09-30\",\"2019-12-31\",\"2020-03-31\",\"2020-06-29\",\"2020-12-30\",\"2021-03-30\"],\"Report_Date\":[\"2011-06-30\",\"2011-09-30\",\"2011-12-31\",\"2012-03-31\",\"2012-06-30\",\"2012-09-30\",\"2012-12-31\",\"2013-03-31\",\"2013-06-30\",\"2013-09-30\",\"2013-12-31\",\"2014-03-31\",\"2014-06-30\",\"2014-09-30\",\"2014-12-31\",\"2015-03-31\",\"2015-06-30\",\"2015-09-30\",\"2015-12-31\",\"2016-03-31\",\"2016-06-30\",\"2016-09-30\",\"2016-12-31\",\"2017-03-31\",\"2017-06-30\",\"2017-09-30\",\"2017-12-31\",\"2018-03-31\",\"2018-06-30\",\"2018-09-30\",\"2018-12-31\",\"2019-03-31\",\"2019-06-30\",\"2019-09-30\",\"2019-12-31\",\"2020-03-31\",\"2020-06-29\",\"2020-12-30\",\"2021-03-30\"],\"Variable\":[\"UAL PE Ratio\",\"UAL PE Ratio\",\"UAL PE Ratio\",\"UAL PE Ratio\",\"UAL PE Ratio\",\"UAL PE Ratio\",\"UAL PE Ratio\",\"UAL PE Ratio\",\"UAL PE Ratio\",\"UAL PE Ratio\",\"UAL PE Ratio\",\"UAL PE Ratio\",\"UAL PE Ratio\",\"UAL PE Ratio\",\"UAL PE Ratio\",\"UAL PE Ratio\",\"UAL PE Ratio\",\"UAL PE Ratio\",\"UAL PE Ratio\",\"UAL PE Ratio\",\"UAL PE Ratio\",\"UAL PE Ratio\",\"UAL PE Ratio\",\"UAL PE Ratio\",\"UAL PE Ratio\",\"UAL PE Ratio\",\"UAL PE Ratio\",\"UAL PE Ratio\",\"UAL PE Ratio\",\"UAL PE Ratio\",\"UAL PE Ratio\",\"UAL PE Ratio\",\"UAL PE Ratio\",\"UAL PE Ratio\",\"UAL PE Ratio\",\"UAL PE Ratio\",\"UAL PE Ratio\",\"UAL PE Ratio\",\"UAL PE Ratio\"],\"value\":{\"__ndarray__\":\"xnaQyZ0DJ0BIL+XVWFMkQLoLBTYk/EjALL7iK75SMMAfmDwetbwyQFjyiyU/nJBAK8mpkpwqLMCzqHrl95k4wKEUi5ZV8DhAe6tnAUR5PUDxjzzTColdQD58e9DZFjnA6M1jTghANUCLW6G4FcozQCPPtELUWYxA+iABPqmbR0Af5ka80Q0yQC3X7z5OdBFAzd5mH68uN0DWPb4569pNQJZ1uHih5jpAHDVvUDSWMUCRSGOf5uJPQCxwfuDE2WpANsj8SaS8O0AFmJrQPsk7QJSQJlYfwkBADce/zhpGYUA7MvE2E8g/QOEKg7zB8DxAn9EHIEbPSUCgK6kKNGVUQCJwQEdGfTdA16NwPRpdNkDAJbgML8I7QFZVVVVVdQ3AisTTWXKXF8CybA8gKbcbwEonfy7p0CnA\",\"dtype\":\"float64\",\"order\":\"little\",\"shape\":[39]}},\"selected\":{\"id\":\"82724\"},\"selection_policy\":{\"id\":\"82742\"}},\"id\":\"82723\",\"type\":\"ColumnDataSource\"},{\"attributes\":{\"fill_color\":{\"value\":\"Orange\"},\"top\":{\"field\":\"TOTAL\"},\"width\":{\"value\":0.8},\"x\":{\"field\":\"Year\"}},\"id\":\"77918\",\"type\":\"VBar\"},{\"attributes\":{\"line_alpha\":0.1,\"line_color\":\"#30a2da\",\"line_width\":2,\"x\":{\"field\":\"Report Date\"},\"y\":{\"field\":\"value\"}},\"id\":\"81283\",\"type\":\"Line\"},{\"attributes\":{\"source\":{\"id\":\"81279\"}},\"id\":\"81286\",\"type\":\"CDSView\"},{\"attributes\":{\"source\":{\"id\":\"82680\"}},\"id\":\"82687\",\"type\":\"CDSView\"},{\"attributes\":{},\"id\":\"81275\",\"type\":\"AllLabels\"},{\"attributes\":{\"line_alpha\":0.2,\"line_color\":\"#30a2da\",\"line_width\":2,\"x\":{\"field\":\"Report Date\"},\"y\":{\"field\":\"value\"}},\"id\":\"82685\",\"type\":\"Line\"},{\"attributes\":{},\"id\":\"77949\",\"type\":\"BasicTicker\"},{\"attributes\":{\"data_source\":{\"id\":\"82680\"},\"glyph\":{\"id\":\"82683\"},\"hover_glyph\":null,\"muted_glyph\":{\"id\":\"82685\"},\"nonselection_glyph\":{\"id\":\"82684\"},\"selection_glyph\":{\"id\":\"82700\"},\"view\":{\"id\":\"82687\"}},\"id\":\"82686\",\"type\":\"GlyphRenderer\"},{\"attributes\":{\"line_color\":\"#30a2da\",\"line_width\":2,\"x\":{\"field\":\"Report Date\"},\"y\":{\"field\":\"value\"}},\"id\":\"81066\",\"type\":\"Line\"},{\"attributes\":{},\"id\":\"77952\",\"type\":\"SaveTool\"},{\"attributes\":{\"line_alpha\":0.1,\"line_color\":\"#fc4f30\",\"line_width\":2,\"x\":{\"field\":\"Report Date\"},\"y\":{\"field\":\"value\"}},\"id\":\"81071\",\"type\":\"Line\"},{\"attributes\":{},\"id\":\"77953\",\"type\":\"PanTool\"},{\"attributes\":{\"click_policy\":\"mute\",\"items\":[{\"id\":\"82699\"},{\"id\":\"82721\"},{\"id\":\"82745\"}],\"location\":[0,0],\"title\":\"Variable\"},\"id\":\"82698\",\"type\":\"Legend\"},{\"attributes\":{\"axis\":{\"id\":\"77948\"},\"dimension\":1,\"grid_line_color\":null,\"ticker\":null},\"id\":\"77951\",\"type\":\"Grid\"},{\"attributes\":{\"bottom_units\":\"screen\",\"fill_alpha\":0.5,\"fill_color\":\"lightgrey\",\"left_units\":\"screen\",\"level\":\"overlay\",\"line_alpha\":1.0,\"line_color\":\"black\",\"line_dash\":[4,4],\"line_width\":2,\"right_units\":\"screen\",\"syncable\":false,\"top_units\":\"screen\"},\"id\":\"77907\",\"type\":\"BoxAnnotation\"},{\"attributes\":{\"data\":{\"TOTAL\":[90719899,83978271,86654054,85823690,73401004,72914830,71597670,67694400,109329792,112016262,114958112,118933921,128018335,137732452,142286020,145227662,151690243,162260114,55021728,12091287],\"Year\":[\"2002\",\"2003\",\"2004\",\"2005\",\"2006\",\"2007\",\"2008\",\"2009\",\"2010\",\"2011\",\"2012\",\"2013\",\"2014\",\"2015\",\"2016\",\"2017\",\"2018\",\"2019\",\"2020\",\"2021\"]},\"selected\":{\"id\":\"77966\"},\"selection_policy\":{\"id\":\"77999\"}},\"id\":\"77965\",\"type\":\"ColumnDataSource\"},{\"attributes\":{\"bottom_units\":\"screen\",\"fill_alpha\":0.5,\"fill_color\":\"lightgrey\",\"left_units\":\"screen\",\"level\":\"overlay\",\"line_alpha\":1.0,\"line_color\":\"black\",\"line_dash\":[4,4],\"line_width\":2,\"right_units\":\"screen\",\"syncable\":false,\"top_units\":\"screen\"},\"id\":\"81265\",\"type\":\"BoxAnnotation\"},{\"attributes\":{},\"id\":\"81068\",\"type\":\"Selection\"},{\"attributes\":{},\"id\":\"81274\",\"type\":\"CategoricalTickFormatter\"},{\"attributes\":{},\"id\":\"77954\",\"type\":\"WheelZoomTool\"},{\"attributes\":{},\"id\":\"77899\",\"type\":\"BasicTicker\"},{\"attributes\":{\"line_color\":\"#e5ae38\",\"line_width\":2,\"x\":{\"field\":\"Report Date\"},\"y\":{\"field\":\"value\"}},\"id\":\"82279\",\"type\":\"Line\"},{\"attributes\":{},\"id\":\"77904\",\"type\":\"WheelZoomTool\"},{\"attributes\":{\"line_alpha\":0.2,\"line_color\":\"#fc4f30\",\"line_width\":2,\"x\":{\"field\":\"Report Date\"},\"y\":{\"field\":\"value\"}},\"id\":\"81072\",\"type\":\"Line\"},{\"attributes\":{\"axis_label\":\"Number of Passengers\",\"formatter\":{\"id\":\"77924\"},\"major_label_policy\":{\"id\":\"77930\"},\"ticker\":{\"id\":\"77899\"}},\"id\":\"77898\",\"type\":\"LinearAxis\"},{\"attributes\":{},\"id\":\"77902\",\"type\":\"SaveTool\"},{\"attributes\":{\"active_multi\":null,\"tools\":[{\"id\":\"81241\"},{\"id\":\"81260\"},{\"id\":\"81261\"},{\"id\":\"81262\"},{\"id\":\"81263\"},{\"id\":\"81264\"}]},\"id\":\"81266\",\"type\":\"Toolbar\"},{\"attributes\":{\"source\":{\"id\":\"81067\"}},\"id\":\"81074\",\"type\":\"CDSView\"},{\"attributes\":{\"data_source\":{\"id\":\"81067\"},\"glyph\":{\"id\":\"81070\"},\"hover_glyph\":null,\"muted_glyph\":{\"id\":\"81072\"},\"nonselection_glyph\":{\"id\":\"81071\"},\"selection_glyph\":{\"id\":\"81088\"},\"view\":{\"id\":\"81074\"}},\"id\":\"81073\",\"type\":\"GlyphRenderer\"},{\"attributes\":{\"line_color\":\"#e5ae38\",\"line_width\":2,\"x\":{\"field\":\"Report Date\"},\"y\":{\"field\":\"value\"}},\"id\":\"81112\",\"type\":\"Line\"},{\"attributes\":{\"axis_label\":\"Number of Passengers\",\"formatter\":{\"id\":\"77974\"},\"major_label_policy\":{\"id\":\"77980\"},\"ticker\":{\"id\":\"77949\"}},\"id\":\"77948\",\"type\":\"LinearAxis\"},{\"attributes\":{\"line_color\":\"#fc4f30\",\"line_width\":2,\"x\":{\"field\":\"Report Date\"},\"y\":{\"field\":\"value\"}},\"id\":\"81070\",\"type\":\"Line\"},{\"attributes\":{\"line_color\":\"#fc4f30\",\"line_width\":2,\"x\":{\"field\":\"Report Date\"},\"y\":{\"field\":\"value\"}},\"id\":\"81088\",\"type\":\"Line\"},{\"attributes\":{\"axis_label\":\"Year\",\"formatter\":{\"id\":\"77926\"},\"major_label_policy\":{\"id\":\"77927\"},\"ticker\":{\"id\":\"77896\"}},\"id\":\"77895\",\"type\":\"CategoricalAxis\"},{\"attributes\":{},\"id\":\"77906\",\"type\":\"ResetTool\"},{\"attributes\":{\"overlay\":{\"id\":\"77907\"}},\"id\":\"77905\",\"type\":\"BoxZoomTool\"},{\"attributes\":{},\"id\":\"77903\",\"type\":\"PanTool\"},{\"attributes\":{\"data\":{\"Report Date\":[\"2011-06-30\",\"2011-09-30\",\"2011-12-31\",\"2012-03-31\",\"2012-06-30\",\"2012-09-30\",\"2012-12-31\",\"2013-03-31\",\"2013-06-30\",\"2013-09-30\",\"2013-12-31\",\"2014-03-31\",\"2014-06-30\",\"2014-09-30\",\"2014-12-31\",\"2015-03-31\",\"2015-06-30\",\"2015-09-30\",\"2015-12-31\",\"2016-03-31\",\"2016-06-30\",\"2016-09-30\",\"2016-12-31\",\"2017-03-31\",\"2017-06-30\",\"2017-09-30\",\"2017-12-31\",\"2018-03-31\",\"2018-06-30\",\"2018-09-30\",\"2018-12-31\",\"2019-03-31\",\"2019-06-30\",\"2019-09-30\",\"2019-12-31\",\"2020-03-31\",\"2020-06-29\",\"2020-12-30\",\"2021-03-30\"],\"Report_Date\":[\"2011-06-30\",\"2011-09-30\",\"2011-12-31\",\"2012-03-31\",\"2012-06-30\",\"2012-09-30\",\"2012-12-31\",\"2013-03-31\",\"2013-06-30\",\"2013-09-30\",\"2013-12-31\",\"2014-03-31\",\"2014-06-30\",\"2014-09-30\",\"2014-12-31\",\"2015-03-31\",\"2015-06-30\",\"2015-09-30\",\"2015-12-31\",\"2016-03-31\",\"2016-06-30\",\"2016-09-30\",\"2016-12-31\",\"2017-03-31\",\"2017-06-30\",\"2017-09-30\",\"2017-12-31\",\"2018-03-31\",\"2018-06-30\",\"2018-09-30\",\"2018-12-31\",\"2019-03-31\",\"2019-06-30\",\"2019-09-30\",\"2019-12-31\",\"2020-03-31\",\"2020-06-29\",\"2020-12-30\",\"2021-03-30\"],\"Variable\":[\"LUV Net Income\",\"LUV Net Income\",\"LUV Net Income\",\"LUV Net Income\",\"LUV Net Income\",\"LUV Net Income\",\"LUV Net Income\",\"LUV Net Income\",\"LUV Net Income\",\"LUV Net Income\",\"LUV Net Income\",\"LUV Net Income\",\"LUV Net Income\",\"LUV Net Income\",\"LUV Net Income\",\"LUV Net Income\",\"LUV Net Income\",\"LUV Net Income\",\"LUV Net Income\",\"LUV Net Income\",\"LUV Net Income\",\"LUV Net Income\",\"LUV Net Income\",\"LUV Net Income\",\"LUV Net Income\",\"LUV Net Income\",\"LUV Net Income\",\"LUV Net Income\",\"LUV Net Income\",\"LUV Net Income\",\"LUV Net Income\",\"LUV Net Income\",\"LUV Net Income\",\"LUV Net Income\",\"LUV Net Income\",\"LUV Net Income\",\"LUV Net Income\",\"LUV Net Income\",\"LUV Net Income\"],\"value\":[161000000,-140000000,152000000,98000000,228000000,16000000,79000000,59000000,224000000,259000000,212000000,152000000,465000000,329000000,190000000,453000000,608000000,584000000,536000000,513000000,820000000,388000000,523000000,339000000,743000000,503000000,1903000000,463000000,733000000,615000000,654000000,387000000,741000000,659000000,513000000,-94000000,-915000000,-908000000,116000000]},\"selected\":{\"id\":\"81301\"},\"selection_policy\":{\"id\":\"81317\"}},\"id\":\"81300\",\"type\":\"ColumnDataSource\"},{\"attributes\":{\"axis\":{\"id\":\"77898\"},\"dimension\":1,\"grid_line_color\":null,\"ticker\":null},\"id\":\"77901\",\"type\":\"Grid\"},{\"attributes\":{},\"id\":\"81084\",\"type\":\"UnionRenderers\"},{\"attributes\":{},\"id\":\"77893\",\"type\":\"LinearScale\"},{\"attributes\":{\"axis\":{\"id\":\"77895\"},\"grid_line_color\":null,\"ticker\":null},\"id\":\"77897\",\"type\":\"Grid\"},{\"attributes\":{},\"id\":\"82695\",\"type\":\"UnionRenderers\"},{\"attributes\":{},\"id\":\"77896\",\"type\":\"CategoricalTicker\"},{\"attributes\":{\"text\":\"All U.S.Carriers Passengers - All Airports\",\"text_color\":\"black\",\"text_font_size\":\"12pt\"},\"id\":\"77887\",\"type\":\"Title\"},{\"attributes\":{\"below\":[{\"id\":\"77895\"}],\"center\":[{\"id\":\"77897\"},{\"id\":\"77901\"}],\"height\":500,\"left\":[{\"id\":\"77898\"}],\"margin\":null,\"min_border_bottom\":10,\"min_border_left\":10,\"min_border_right\":10,\"min_border_top\":10,\"renderers\":[{\"id\":\"77921\"}],\"sizing_mode\":\"fixed\",\"title\":{\"id\":\"77887\"},\"toolbar\":{\"id\":\"77908\"},\"toolbar_location\":null,\"width\":900,\"x_range\":{\"id\":\"77883\"},\"x_scale\":{\"id\":\"77891\"},\"y_range\":{\"id\":\"77884\"},\"y_scale\":{\"id\":\"77893\"}},\"id\":\"77886\",\"subtype\":\"Figure\",\"type\":\"Plot\"},{\"attributes\":{\"callback\":null,\"renderers\":[{\"id\":\"77921\"}],\"tags\":[\"hv_created\"],\"tooltips\":[[\"Year\",\"@{Year}\"],[\"TOTAL\",\"@{TOTAL}\"]]},\"id\":\"77885\",\"type\":\"HoverTool\"},{\"attributes\":{},\"id\":\"81278\",\"type\":\"AllLabels\"},{\"attributes\":{},\"id\":\"81277\",\"type\":\"BasicTickFormatter\"},{\"attributes\":{\"label\":{\"value\":\"DAL PE Ratio\"},\"renderers\":[{\"id\":\"82686\"}]},\"id\":\"82699\",\"type\":\"LegendItem\"},{\"attributes\":{},\"id\":\"81323\",\"type\":\"Selection\"},{\"attributes\":{\"line_color\":\"#30a2da\",\"line_width\":2,\"x\":{\"field\":\"Report Date\"},\"y\":{\"field\":\"value\"}},\"id\":\"81282\",\"type\":\"Line\"},{\"attributes\":{},\"id\":\"77891\",\"type\":\"CategoricalScale\"},{\"attributes\":{},\"id\":\"81280\",\"type\":\"Selection\"},{\"attributes\":{},\"id\":\"81528\",\"type\":\"UnionRenderers\"},{\"attributes\":{\"end\":2021.0,\"reset_end\":2021.0,\"reset_start\":1990.0,\"start\":1990.0,\"tags\":[[[\"Year\",\"Year\",null]]]},\"id\":\"80767\",\"type\":\"Range1d\"},{\"attributes\":{},\"id\":\"80779\",\"type\":\"LinearScale\"},{\"attributes\":{},\"id\":\"80786\",\"type\":\"BasicTicker\"},{\"attributes\":{\"below\":[{\"id\":\"80781\"}],\"center\":[{\"id\":\"80784\"},{\"id\":\"80788\"}],\"height\":500,\"left\":[{\"id\":\"80785\"}],\"margin\":[5,5,5,5],\"min_border_bottom\":10,\"min_border_left\":10,\"min_border_right\":10,\"min_border_top\":10,\"renderers\":[{\"id\":\"80814\"},{\"id\":\"80835\"},{\"id\":\"80857\"}],\"right\":[{\"id\":\"80826\"}],\"sizing_mode\":\"fixed\",\"title\":{\"id\":\"80773\"},\"toolbar\":{\"id\":\"80795\"},\"width\":900,\"x_range\":{\"id\":\"80767\"},\"x_scale\":{\"id\":\"80777\"},\"y_range\":{\"id\":\"80768\"},\"y_scale\":{\"id\":\"80779\"}},\"id\":\"80772\",\"subtype\":\"Figure\",\"type\":\"Plot\"},{\"attributes\":{\"text\":\"Airline Employment Data\",\"text_color\":\"black\",\"text_font_size\":\"12pt\"},\"id\":\"80773\",\"type\":\"Title\"},{\"attributes\":{\"end\":110031.25833333336,\"reset_end\":110031.25833333336,\"reset_start\":-975.841666666669,\"start\":-975.841666666669,\"tags\":[[[\"value\",\"value\",null]]]},\"id\":\"80768\",\"type\":\"Range1d\"},{\"attributes\":{\"callback\":null,\"renderers\":[{\"id\":\"80814\"},{\"id\":\"80835\"},{\"id\":\"80857\"}],\"tags\":[\"hv_created\"],\"tooltips\":[[\"Variable\",\"@{Variable}\"],[\"Year\",\"@{Year}\"],[\"value\",\"@{value}\"]]},\"id\":\"80769\",\"type\":\"HoverTool\"},{\"attributes\":{\"axis\":{\"id\":\"80781\"},\"grid_line_color\":null,\"ticker\":null},\"id\":\"80784\",\"type\":\"Grid\"},{\"attributes\":{},\"id\":\"80782\",\"type\":\"BasicTicker\"},{\"attributes\":{\"line_color\":\"#30a2da\",\"line_width\":2,\"x\":{\"field\":\"Report Date\"},\"y\":{\"field\":\"value\"}},\"id\":\"81533\",\"type\":\"Line\"},{\"attributes\":{},\"id\":\"80777\",\"type\":\"LinearScale\"},{\"attributes\":{\"axis_label\":\"Year\",\"formatter\":{\"id\":\"80803\"},\"major_label_policy\":{\"id\":\"80804\"},\"ticker\":{\"id\":\"80782\"}},\"id\":\"80781\",\"type\":\"LinearAxis\"},{\"attributes\":{\"line_alpha\":0.1,\"line_color\":\"#fc4f30\",\"line_width\":2,\"x\":{\"field\":\"Report Date\"},\"y\":{\"field\":\"value\"}},\"id\":\"81538\",\"type\":\"Line\"},{\"attributes\":{},\"id\":\"80790\",\"type\":\"PanTool\"},{\"attributes\":{\"data_source\":{\"id\":\"81534\"},\"glyph\":{\"id\":\"81537\"},\"hover_glyph\":null,\"muted_glyph\":{\"id\":\"81539\"},\"nonselection_glyph\":{\"id\":\"81538\"},\"selection_glyph\":{\"id\":\"81555\"},\"view\":{\"id\":\"81541\"}},\"id\":\"81540\",\"type\":\"GlyphRenderer\"},{\"attributes\":{\"axis_label\":\"\",\"formatter\":{\"id\":\"80806\"},\"major_label_policy\":{\"id\":\"80807\"},\"ticker\":{\"id\":\"80786\"}},\"id\":\"80785\",\"type\":\"LinearAxis\"},{\"attributes\":{},\"id\":\"80791\",\"type\":\"WheelZoomTool\"},{\"attributes\":{\"children\":[[{\"id\":\"78462\"},0,0],[{\"id\":\"78512\"},0,1]]},\"id\":\"78579\",\"type\":\"GridBox\"},{\"attributes\":{\"axis\":{\"id\":\"80785\"},\"dimension\":1,\"grid_line_color\":null,\"ticker\":null},\"id\":\"80788\",\"type\":\"Grid\"},{\"attributes\":{},\"id\":\"80789\",\"type\":\"SaveTool\"},{\"attributes\":{},\"id\":\"81535\",\"type\":\"Selection\"},{\"attributes\":{},\"id\":\"81557\",\"type\":\"Selection\"},{\"attributes\":{\"overlay\":{\"id\":\"80794\"}},\"id\":\"80792\",\"type\":\"BoxZoomTool\"},{\"attributes\":{\"label\":{\"value\":\"LUV Gross Profit Margin\"},\"renderers\":[{\"id\":\"81540\"}]},\"id\":\"81554\",\"type\":\"LegendItem\"},{\"attributes\":{},\"id\":\"80793\",\"type\":\"ResetTool\"},{\"attributes\":{\"line_color\":\"#fc4f30\",\"line_width\":2,\"x\":{\"field\":\"Report Date\"},\"y\":{\"field\":\"value\"}},\"id\":\"81537\",\"type\":\"Line\"},{\"attributes\":{\"active_multi\":null,\"tools\":[{\"id\":\"80769\"},{\"id\":\"80789\"},{\"id\":\"80790\"},{\"id\":\"80791\"},{\"id\":\"80792\"},{\"id\":\"80793\"}]},\"id\":\"80795\",\"type\":\"Toolbar\"},{\"attributes\":{\"source\":{\"id\":\"81534\"}},\"id\":\"81541\",\"type\":\"CDSView\"},{\"attributes\":{\"line_alpha\":0.2,\"line_color\":\"#fc4f30\",\"line_width\":2,\"x\":{\"field\":\"Report Date\"},\"y\":{\"field\":\"value\"}},\"id\":\"81539\",\"type\":\"Line\"},{\"attributes\":{\"bottom_units\":\"screen\",\"fill_alpha\":0.5,\"fill_color\":\"lightgrey\",\"left_units\":\"screen\",\"level\":\"overlay\",\"line_alpha\":1.0,\"line_color\":\"black\",\"line_dash\":[4,4],\"line_width\":2,\"right_units\":\"screen\",\"syncable\":false,\"top_units\":\"screen\"},\"id\":\"80794\",\"type\":\"BoxAnnotation\"},{\"attributes\":{},\"id\":\"81551\",\"type\":\"UnionRenderers\"},{\"attributes\":{},\"id\":\"80823\",\"type\":\"UnionRenderers\"},{\"attributes\":{\"bottom_units\":\"screen\",\"fill_alpha\":0.5,\"fill_color\":\"lightgrey\",\"left_units\":\"screen\",\"level\":\"overlay\",\"line_alpha\":1.0,\"line_color\":\"black\",\"line_dash\":[4,4],\"line_width\":2,\"right_units\":\"screen\",\"syncable\":false,\"top_units\":\"screen\"},\"id\":\"79688\",\"type\":\"BoxAnnotation\"},{\"attributes\":{\"label\":{\"value\":\"DAL Operating Margin\"},\"renderers\":[{\"id\":\"81986\"}]},\"id\":\"81999\",\"type\":\"LegendItem\"},{\"attributes\":{\"axis\":{\"id\":\"78182\"},\"grid_line_color\":null,\"ticker\":null},\"id\":\"78184\",\"type\":\"Grid\"},{\"attributes\":{},\"id\":\"78183\",\"type\":\"CategoricalTicker\"},{\"attributes\":{},\"id\":\"81976\",\"type\":\"AllLabels\"},{\"attributes\":{\"axis_label\":\"Year\",\"formatter\":{\"id\":\"78213\"},\"major_label_policy\":{\"id\":\"78214\"},\"ticker\":{\"id\":\"78183\"}},\"id\":\"78182\",\"type\":\"CategoricalAxis\"},{\"attributes\":{\"fill_color\":{\"value\":\"Blue\"},\"top\":{\"field\":\"TOTAL\"},\"width\":{\"value\":0.8},\"x\":{\"field\":\"Year\"}},\"id\":\"78205\",\"type\":\"VBar\"},{\"attributes\":{},\"id\":\"78190\",\"type\":\"PanTool\"},{\"attributes\":{\"axis_label\":\"Number of Passengers\",\"formatter\":{\"id\":\"78211\"},\"major_label_policy\":{\"id\":\"78217\"},\"ticker\":{\"id\":\"78186\"}},\"id\":\"78185\",\"type\":\"LinearAxis\"},{\"attributes\":{\"axis\":{\"id\":\"78185\"},\"dimension\":1,\"grid_line_color\":null,\"ticker\":null},\"id\":\"78188\",\"type\":\"Grid\"},{\"attributes\":{\"line_alpha\":0.1,\"line_color\":\"#fc4f30\",\"line_width\":2,\"x\":{\"field\":\"Report Date\"},\"y\":{\"field\":\"value\"}},\"id\":\"82705\",\"type\":\"Line\"},{\"attributes\":{\"bottom_units\":\"screen\",\"fill_alpha\":0.5,\"fill_color\":\"lightgrey\",\"left_units\":\"screen\",\"level\":\"overlay\",\"line_alpha\":1.0,\"line_color\":\"black\",\"line_dash\":[4,4],\"line_width\":2,\"right_units\":\"screen\",\"syncable\":false,\"top_units\":\"screen\"},\"id\":\"81966\",\"type\":\"BoxAnnotation\"},{\"attributes\":{},\"id\":\"78186\",\"type\":\"BasicTicker\"},{\"attributes\":{},\"id\":\"78191\",\"type\":\"WheelZoomTool\"},{\"attributes\":{\"line_color\":\"#30a2da\",\"line_width\":2,\"x\":{\"field\":\"Report Date\"},\"y\":{\"field\":\"value\"}},\"id\":\"82700\",\"type\":\"Line\"},{\"attributes\":{\"below\":[{\"id\":\"78232\"}],\"center\":[{\"id\":\"78234\"},{\"id\":\"78238\"}],\"height\":500,\"left\":[{\"id\":\"78235\"}],\"margin\":null,\"min_border_bottom\":10,\"min_border_left\":10,\"min_border_right\":10,\"min_border_top\":10,\"renderers\":[{\"id\":\"78258\"}],\"sizing_mode\":\"fixed\",\"title\":{\"id\":\"78224\"},\"toolbar\":{\"id\":\"78245\"},\"toolbar_location\":null,\"width\":900,\"x_range\":{\"id\":\"78220\"},\"x_scale\":{\"id\":\"78228\"},\"y_range\":{\"id\":\"78221\"},\"y_scale\":{\"id\":\"78230\"}},\"id\":\"78223\",\"subtype\":\"Figure\",\"type\":\"Plot\"},{\"attributes\":{},\"id\":\"81975\",\"type\":\"CategoricalTickFormatter\"},{\"attributes\":{},\"id\":\"78189\",\"type\":\"SaveTool\"},{\"attributes\":{\"data_source\":{\"id\":\"82701\"},\"glyph\":{\"id\":\"82704\"},\"hover_glyph\":null,\"muted_glyph\":{\"id\":\"82706\"},\"nonselection_glyph\":{\"id\":\"82705\"},\"selection_glyph\":{\"id\":\"82722\"},\"view\":{\"id\":\"82708\"}},\"id\":\"82707\",\"type\":\"GlyphRenderer\"},{\"attributes\":{\"line_color\":\"#e5ae38\",\"line_width\":2,\"x\":{\"field\":\"Report Date\"},\"y\":{\"field\":\"value\"}},\"id\":\"82980\",\"type\":\"Line\"},{\"attributes\":{\"overlay\":{\"id\":\"78194\"}},\"id\":\"78192\",\"type\":\"BoxZoomTool\"},{\"attributes\":{},\"id\":\"78193\",\"type\":\"ResetTool\"},{\"attributes\":{\"line_color\":\"#e5ae38\",\"line_width\":2,\"x\":{\"field\":\"Report Date\"},\"y\":{\"field\":\"value\"}},\"id\":\"82746\",\"type\":\"Line\"},{\"attributes\":{},\"id\":\"78228\",\"type\":\"CategoricalScale\"},{\"attributes\":{},\"id\":\"82702\",\"type\":\"Selection\"},{\"attributes\":{},\"id\":\"78230\",\"type\":\"LinearScale\"},{\"attributes\":{\"label\":{\"value\":\"LUV PE Ratio\"},\"renderers\":[{\"id\":\"82707\"}]},\"id\":\"82721\",\"type\":\"LegendItem\"},{\"attributes\":{\"callback\":null,\"renderers\":[{\"id\":\"78258\"}],\"tags\":[\"hv_created\"],\"tooltips\":[[\"Year\",\"@{Year}\"],[\"TOTAL\",\"@{TOTAL}\"]]},\"id\":\"78222\",\"type\":\"HoverTool\"},{\"attributes\":{\"line_color\":\"#fc4f30\",\"line_width\":2,\"x\":{\"field\":\"Report Date\"},\"y\":{\"field\":\"value\"}},\"id\":\"82704\",\"type\":\"Line\"},{\"attributes\":{},\"id\":\"78233\",\"type\":\"CategoricalTicker\"},{\"attributes\":{\"end\":127041794.9,\"reset_end\":127041794.9,\"reset_start\":0.0,\"tags\":[[[\"TOTAL\",\"TOTAL\",null]]]},\"id\":\"78221\",\"type\":\"Range1d\"},{\"attributes\":{\"data\":{\"TOTAL\":[67275401,64826746,69535789,65482359,67976825,67408231,62282677,55071822,53032240,49619083,91493988,89278038,89871585,94891627,99769952,107037834,113154569,116212143,37844981,7915624],\"Year\":[\"2002\",\"2003\",\"2004\",\"2005\",\"2006\",\"2007\",\"2008\",\"2009\",\"2010\",\"2011\",\"2012\",\"2013\",\"2014\",\"2015\",\"2016\",\"2017\",\"2018\",\"2019\",\"2020\",\"2021\"]},\"selected\":{\"id\":\"78253\"},\"selection_policy\":{\"id\":\"78286\"}},\"id\":\"78252\",\"type\":\"ColumnDataSource\"},{\"attributes\":{\"source\":{\"id\":\"82701\"}},\"id\":\"82708\",\"type\":\"CDSView\"},{\"attributes\":{\"line_alpha\":0.2,\"line_color\":\"#fc4f30\",\"line_width\":2,\"x\":{\"field\":\"Report Date\"},\"y\":{\"field\":\"value\"}},\"id\":\"82706\",\"type\":\"Line\"},{\"attributes\":{\"data\":{\"Report Date\":[\"2011-06-30\",\"2011-09-30\",\"2011-12-31\",\"2012-03-31\",\"2012-06-30\",\"2012-09-30\",\"2012-12-31\",\"2013-03-31\",\"2013-06-30\",\"2013-09-30\",\"2013-12-31\",\"2014-03-31\",\"2014-06-30\",\"2014-09-30\",\"2014-12-31\",\"2015-03-31\",\"2015-06-30\",\"2015-09-30\",\"2015-12-31\",\"2016-03-31\",\"2016-06-30\",\"2016-09-30\",\"2016-12-31\",\"2017-03-31\",\"2017-06-30\",\"2017-09-30\",\"2017-12-31\",\"2018-03-31\",\"2018-06-30\",\"2018-09-30\",\"2018-12-31\",\"2019-03-31\",\"2019-06-30\",\"2019-09-30\",\"2019-12-31\",\"2020-03-31\",\"2020-06-29\",\"2020-12-30\",\"2021-03-30\"],\"Report_Date\":[\"2011-06-30\",\"2011-09-30\",\"2011-12-31\",\"2012-03-31\",\"2012-06-30\",\"2012-09-30\",\"2012-12-31\",\"2013-03-31\",\"2013-06-30\",\"2013-09-30\",\"2013-12-31\",\"2014-03-31\",\"2014-06-30\",\"2014-09-30\",\"2014-12-31\",\"2015-03-31\",\"2015-06-30\",\"2015-09-30\",\"2015-12-31\",\"2016-03-31\",\"2016-06-30\",\"2016-09-30\",\"2016-12-31\",\"2017-03-31\",\"2017-06-30\",\"2017-09-30\",\"2017-12-31\",\"2018-03-31\",\"2018-06-30\",\"2018-09-30\",\"2018-12-31\",\"2019-03-31\",\"2019-06-30\",\"2019-09-30\",\"2019-12-31\",\"2020-03-31\",\"2020-06-29\",\"2020-12-30\",\"2021-03-30\"],\"Variable\":[\"DAL EPS\",\"DAL EPS\",\"DAL EPS\",\"DAL EPS\",\"DAL EPS\",\"DAL EPS\",\"DAL EPS\",\"DAL EPS\",\"DAL EPS\",\"DAL EPS\",\"DAL EPS\",\"DAL EPS\",\"DAL EPS\",\"DAL EPS\",\"DAL EPS\",\"DAL EPS\",\"DAL EPS\",\"DAL EPS\",\"DAL EPS\",\"DAL EPS\",\"DAL EPS\",\"DAL EPS\",\"DAL EPS\",\"DAL EPS\",\"DAL EPS\",\"DAL EPS\",\"DAL EPS\",\"DAL EPS\",\"DAL EPS\",\"DAL EPS\",\"DAL EPS\",\"DAL EPS\",\"DAL EPS\",\"DAL EPS\",\"DAL EPS\",\"DAL EPS\",\"DAL EPS\",\"DAL EPS\",\"DAL EPS\"],\"value\":{\"__ndarray__\":\"OdUB31E+zj8s6KzX1fbkPxuP/bezNeA/f6U9f/fTwj9lSNVA0nLJvzD+RMIpzfM/FMBuj7UMfT9+CcZb2eeAP8rJycnJyek/nN70pje9+T8fipm8cAUkQA+85xvTJtA/73AlXV567j8XOcOCS2XbP54b37nxneu/vvmZmvEu7T9t2bJly5b9PwmljXdUs/o/crJD1twg9D/kOI7jOI7zPz9GSC8OUQBAjPPQMbw4+z99kSg19jDrPxdogRZogeo/aq7maq7m+j+r0+Qg81L6P9YsMT5l2uk/XXTRRRfd6D9le9cB3Zj3P121O9C/mf4/Sampkg3E+D8GGRdkXJDxP8P1KFyPwgFA/atNCpGDAkCRB8+oyFj7P8nRrhFk0+q/fb9pjx3tIcAWWnGzKvHyv+OGyFatgv2/\",\"dtype\":\"float64\",\"order\":\"little\",\"shape\":[39]}},\"selected\":{\"id\":\"82915\"},\"selection_policy\":{\"id\":\"82929\"}},\"id\":\"82914\",\"type\":\"ColumnDataSource\"},{\"attributes\":{\"factors\":[\"2002\",\"2003\",\"2004\",\"2005\",\"2006\",\"2007\",\"2008\",\"2009\",\"2010\",\"2011\",\"2012\",\"2013\",\"2014\",\"2015\",\"2016\",\"2017\",\"2018\",\"2019\",\"2020\",\"2021\"],\"tags\":[[[\"Year\",\"Year\",null]]]},\"id\":\"78220\",\"type\":\"FactorRange\"},{\"attributes\":{\"fill_alpha\":{\"value\":0.2},\"fill_color\":{\"value\":\"Blue\"},\"line_alpha\":{\"value\":0.2},\"top\":{\"field\":\"TOTAL\"},\"width\":{\"value\":0.8},\"x\":{\"field\":\"Year\"}},\"id\":\"78207\",\"type\":\"VBar\"},{\"attributes\":{},\"id\":\"82718\",\"type\":\"UnionRenderers\"},{\"attributes\":{},\"id\":\"78213\",\"type\":\"CategoricalTickFormatter\"},{\"attributes\":{},\"id\":\"78203\",\"type\":\"Selection\"},{\"attributes\":{\"bottom_units\":\"screen\",\"fill_alpha\":0.5,\"fill_color\":\"lightgrey\",\"left_units\":\"screen\",\"level\":\"overlay\",\"line_alpha\":1.0,\"line_color\":\"black\",\"line_dash\":[4,4],\"line_width\":2,\"right_units\":\"screen\",\"syncable\":false,\"top_units\":\"screen\"},\"id\":\"78194\",\"type\":\"BoxAnnotation\"},{\"attributes\":{},\"id\":\"81979\",\"type\":\"AllLabels\"},{\"attributes\":{\"fill_alpha\":{\"value\":0.1},\"fill_color\":{\"value\":\"Blue\"},\"line_alpha\":{\"value\":0.1},\"top\":{\"field\":\"TOTAL\"},\"width\":{\"value\":0.8},\"x\":{\"field\":\"Year\"}},\"id\":\"78206\",\"type\":\"VBar\"},{\"attributes\":{},\"id\":\"81978\",\"type\":\"BasicTickFormatter\"},{\"attributes\":{\"active_multi\":null,\"tools\":[{\"id\":\"78172\"},{\"id\":\"78189\"},{\"id\":\"78190\"},{\"id\":\"78191\"},{\"id\":\"78192\"},{\"id\":\"78193\"}]},\"id\":\"78195\",\"type\":\"Toolbar\"},{\"attributes\":{\"click_policy\":\"mute\",\"items\":[{\"id\":\"81999\"},{\"id\":\"82021\"},{\"id\":\"82045\"}],\"location\":[0,0],\"title\":\"Variable\"},\"id\":\"81998\",\"type\":\"Legend\"},{\"attributes\":{},\"id\":\"77956\",\"type\":\"ResetTool\"},{\"attributes\":{\"line_color\":\"#fc4f30\",\"line_width\":2,\"x\":{\"field\":\"Report Date\"},\"y\":{\"field\":\"value\"}},\"id\":\"82722\",\"type\":\"Line\"},{\"attributes\":{\"axis_label\":\"Year\",\"formatter\":{\"id\":\"78263\"},\"major_label_policy\":{\"id\":\"78264\"},\"ticker\":{\"id\":\"78233\"}},\"id\":\"78232\",\"type\":\"CategoricalAxis\"},{\"attributes\":{\"line_alpha\":0.1,\"line_color\":\"#e5ae38\",\"line_width\":2,\"x\":{\"field\":\"Report Date\"},\"y\":{\"field\":\"value\"}},\"id\":\"82727\",\"type\":\"Line\"},{\"attributes\":{\"data_source\":{\"id\":\"82723\"},\"glyph\":{\"id\":\"82726\"},\"hover_glyph\":null,\"muted_glyph\":{\"id\":\"82728\"},\"nonselection_glyph\":{\"id\":\"82727\"},\"selection_glyph\":{\"id\":\"82746\"},\"view\":{\"id\":\"82730\"}},\"id\":\"82729\",\"type\":\"GlyphRenderer\"},{\"attributes\":{\"line_color\":\"#fc4f30\",\"line_width\":2,\"x\":{\"field\":\"Report Date\"},\"y\":{\"field\":\"value\"}},\"id\":\"83171\",\"type\":\"Line\"},{\"attributes\":{\"source\":{\"id\":\"78202\"}},\"id\":\"78209\",\"type\":\"CDSView\"},{\"attributes\":{\"data_source\":{\"id\":\"78202\"},\"glyph\":{\"id\":\"78205\"},\"hover_glyph\":null,\"muted_glyph\":{\"id\":\"78207\"},\"nonselection_glyph\":{\"id\":\"78206\"},\"selection_glyph\":{\"id\":\"78210\"},\"view\":{\"id\":\"78209\"}},\"id\":\"78208\",\"type\":\"GlyphRenderer\"},{\"attributes\":{},\"id\":\"82724\",\"type\":\"Selection\"},{\"attributes\":{\"label\":{\"value\":\"UAL PE Ratio\"},\"renderers\":[{\"id\":\"82729\"}]},\"id\":\"82745\",\"type\":\"LegendItem\"},{\"attributes\":{\"text\":\"United Airlines Passengers - All Airports\",\"text_color\":\"black\",\"text_font_size\":\"12pt\"},\"id\":\"78224\",\"type\":\"Title\"},{\"attributes\":{\"line_color\":\"#e5ae38\",\"line_width\":2,\"x\":{\"field\":\"Report Date\"},\"y\":{\"field\":\"value\"}},\"id\":\"82726\",\"type\":\"Line\"},{\"attributes\":{\"bottom\":{\"value\":0},\"fill_alpha\":{\"value\":1.0},\"fill_color\":{\"value\":\"Blue\"},\"hatch_alpha\":{\"value\":1.0},\"hatch_color\":{\"value\":\"black\"},\"hatch_scale\":{\"value\":12.0},\"hatch_weight\":{\"value\":1.0},\"line_alpha\":{\"value\":1.0},\"line_cap\":{\"value\":\"butt\"},\"line_color\":{\"value\":\"black\"},\"line_dash\":{\"value\":[]},\"line_dash_offset\":{\"value\":0},\"line_join\":{\"value\":\"bevel\"},\"line_width\":{\"value\":1},\"top\":{\"field\":\"TOTAL\"},\"width\":{\"value\":0.8},\"x\":{\"field\":\"Year\"}},\"id\":\"78210\",\"type\":\"VBar\"},{\"attributes\":{\"factors\":[\"2011-06-30\",\"2011-09-30\",\"2011-12-31\",\"2012-03-31\",\"2012-06-30\",\"2012-09-30\",\"2012-12-31\",\"2013-03-31\",\"2013-06-30\",\"2013-09-30\",\"2013-12-31\",\"2014-03-31\",\"2014-06-30\",\"2014-09-30\",\"2014-12-31\",\"2015-03-31\",\"2015-06-30\",\"2015-09-30\",\"2015-12-31\",\"2016-03-31\",\"2016-06-30\",\"2016-09-30\",\"2016-12-31\",\"2017-03-31\",\"2017-06-30\",\"2017-09-30\",\"2017-12-31\",\"2018-03-31\",\"2018-06-30\",\"2018-09-30\",\"2018-12-31\",\"2019-03-31\",\"2019-06-30\",\"2019-09-30\",\"2019-12-31\",\"2020-03-31\",\"2020-06-29\",\"2020-12-30\",\"2021-03-30\"],\"tags\":[[[\"Report Date\",\"Report Date\",null]]]},\"id\":\"83107\",\"type\":\"FactorRange\"},{\"attributes\":{\"source\":{\"id\":\"82723\"}},\"id\":\"82730\",\"type\":\"CDSView\"},{\"attributes\":{\"end\":103.463,\"reset_end\":103.463,\"reset_start\":-1.092999999999999,\"start\":-1.092999999999999,\"tags\":[[[\"value\",\"value\",null]]]},\"id\":\"83108\",\"type\":\"Range1d\"},{\"attributes\":{\"line_alpha\":0.2,\"line_color\":\"#e5ae38\",\"line_width\":2,\"x\":{\"field\":\"Report Date\"},\"y\":{\"field\":\"value\"}},\"id\":\"82728\",\"type\":\"Line\"},{\"attributes\":{\"overlay\":{\"id\":\"77957\"}},\"id\":\"77955\",\"type\":\"BoxZoomTool\"},{\"attributes\":{\"active_multi\":null,\"tools\":[{\"id\":\"77935\"},{\"id\":\"77952\"},{\"id\":\"77953\"},{\"id\":\"77954\"},{\"id\":\"77955\"},{\"id\":\"77956\"}]},\"id\":\"77958\",\"type\":\"Toolbar\"},{\"attributes\":{},\"id\":\"82742\",\"type\":\"UnionRenderers\"},{\"attributes\":{\"format\":\"%.0f\"},\"id\":\"78211\",\"type\":\"PrintfTickFormatter\"},{\"attributes\":{},\"id\":\"81317\",\"type\":\"UnionRenderers\"},{\"attributes\":{},\"id\":\"79130\",\"type\":\"CategoricalTickFormatter\"},{\"attributes\":{},\"id\":\"79131\",\"type\":\"AllLabels\"},{\"attributes\":{\"format\":\"%.0f\"},\"id\":\"79128\",\"type\":\"PrintfTickFormatter\"},{\"attributes\":{\"format\":\"%.0f\"},\"id\":\"80233\",\"type\":\"PrintfTickFormatter\"},{\"attributes\":{\"factors\":[\"2002\",\"2003\",\"2004\",\"2005\",\"2006\",\"2007\",\"2008\",\"2009\",\"2010\",\"2011\",\"2012\",\"2013\",\"2014\",\"2015\",\"2016\",\"2017\",\"2018\",\"2019\",\"2020\",\"2021\"],\"tags\":[[[\"Year\",\"Year\",null]]]},\"id\":\"79901\",\"type\":\"FactorRange\"},{\"attributes\":{},\"id\":\"80236\",\"type\":\"AllLabels\"},{\"attributes\":{},\"id\":\"79914\",\"type\":\"CategoricalTicker\"},{\"attributes\":{\"bottom\":{\"value\":0},\"fill_alpha\":{\"value\":1.0},\"fill_color\":{\"value\":\"Orange\"},\"hatch_alpha\":{\"value\":1.0},\"hatch_color\":{\"value\":\"black\"},\"hatch_scale\":{\"value\":12.0},\"hatch_weight\":{\"value\":1.0},\"line_alpha\":{\"value\":1.0},\"line_cap\":{\"value\":\"butt\"},\"line_color\":{\"value\":\"black\"},\"line_dash\":{\"value\":[]},\"line_dash_offset\":{\"value\":0},\"line_join\":{\"value\":\"bevel\"},\"line_width\":{\"value\":1},\"top\":{\"field\":\"TOTAL\"},\"width\":{\"value\":0.8},\"x\":{\"field\":\"Year\"}},\"id\":\"80232\",\"type\":\"VBar\"},{\"attributes\":{\"text\":\"Southwest Airlines Available Seat-Miles - All Airports\",\"text_color\":\"black\",\"text_font_size\":\"12pt\"},\"id\":\"79905\",\"type\":\"Title\"},{\"attributes\":{},\"id\":\"79134\",\"type\":\"AllLabels\"},{\"attributes\":{\"fill_alpha\":{\"value\":0.1},\"fill_color\":{\"value\":\"Orange\"},\"line_alpha\":{\"value\":0.1},\"top\":{\"field\":\"TOTAL\"},\"width\":{\"value\":0.8},\"x\":{\"field\":\"Year\"}},\"id\":\"80228\",\"type\":\"VBar\"},{\"attributes\":{\"callback\":null,\"renderers\":[{\"id\":\"79939\"}],\"tags\":[\"hv_created\"],\"tooltips\":[[\"Year\",\"@{Year}\"],[\"TOTAL\",\"@{TOTAL}\"]]},\"id\":\"79903\",\"type\":\"HoverTool\"},{\"attributes\":{\"source\":{\"id\":\"80224\"}},\"id\":\"80231\",\"type\":\"CDSView\"},{\"attributes\":{\"end\":173529626.4,\"reset_end\":173529626.4,\"reset_start\":0.0,\"tags\":[[[\"TOTAL\",\"TOTAL\",null]]]},\"id\":\"79902\",\"type\":\"Range1d\"},{\"attributes\":{},\"id\":\"79909\",\"type\":\"CategoricalScale\"},{\"attributes\":{\"fill_alpha\":{\"value\":0.2},\"fill_color\":{\"value\":\"Orange\"},\"line_alpha\":{\"value\":0.2},\"top\":{\"field\":\"TOTAL\"},\"width\":{\"value\":0.8},\"x\":{\"field\":\"Year\"}},\"id\":\"80229\",\"type\":\"VBar\"},{\"attributes\":{\"below\":[{\"id\":\"79913\"}],\"center\":[{\"id\":\"79915\"},{\"id\":\"79919\"}],\"height\":500,\"left\":[{\"id\":\"79916\"}],\"margin\":null,\"min_border_bottom\":10,\"min_border_left\":10,\"min_border_right\":10,\"min_border_top\":10,\"renderers\":[{\"id\":\"79939\"}],\"sizing_mode\":\"fixed\",\"title\":{\"id\":\"79905\"},\"toolbar\":{\"id\":\"79926\"},\"toolbar_location\":null,\"width\":900,\"x_range\":{\"id\":\"79901\"},\"x_scale\":{\"id\":\"79909\"},\"y_range\":{\"id\":\"79902\"},\"y_scale\":{\"id\":\"79911\"}},\"id\":\"79904\",\"subtype\":\"Figure\",\"type\":\"Plot\"},{\"attributes\":{\"axis\":{\"id\":\"79913\"},\"grid_line_color\":null,\"ticker\":null},\"id\":\"79915\",\"type\":\"Grid\"},{\"attributes\":{\"line_alpha\":0.1,\"line_color\":\"#e5ae38\",\"line_width\":2,\"x\":{\"field\":\"Report Date\"},\"y\":{\"field\":\"value\"}},\"id\":\"81326\",\"type\":\"Line\"},{\"attributes\":{\"bottom_units\":\"screen\",\"fill_alpha\":0.5,\"fill_color\":\"lightgrey\",\"left_units\":\"screen\",\"level\":\"overlay\",\"line_alpha\":1.0,\"line_color\":\"black\",\"line_dash\":[4,4],\"line_width\":2,\"right_units\":\"screen\",\"syncable\":false,\"top_units\":\"screen\"},\"id\":\"80216\",\"type\":\"BoxAnnotation\"},{\"attributes\":{\"data_source\":{\"id\":\"81322\"},\"glyph\":{\"id\":\"81325\"},\"hover_glyph\":null,\"muted_glyph\":{\"id\":\"81327\"},\"nonselection_glyph\":{\"id\":\"81326\"},\"selection_glyph\":{\"id\":\"81345\"},\"view\":{\"id\":\"81329\"}},\"id\":\"81328\",\"type\":\"GlyphRenderer\"},{\"attributes\":{},\"id\":\"79911\",\"type\":\"LinearScale\"},{\"attributes\":{\"below\":[{\"id\":\"78182\"}],\"center\":[{\"id\":\"78184\"},{\"id\":\"78188\"}],\"height\":500,\"left\":[{\"id\":\"78185\"}],\"margin\":null,\"min_border_bottom\":10,\"min_border_left\":10,\"min_border_right\":10,\"min_border_top\":10,\"renderers\":[{\"id\":\"78208\"}],\"sizing_mode\":\"fixed\",\"title\":{\"id\":\"78174\"},\"toolbar\":{\"id\":\"78195\"},\"toolbar_location\":null,\"width\":900,\"x_range\":{\"id\":\"78170\"},\"x_scale\":{\"id\":\"78178\"},\"y_range\":{\"id\":\"78171\"},\"y_scale\":{\"id\":\"78180\"}},\"id\":\"78173\",\"subtype\":\"Figure\",\"type\":\"Plot\"},{\"attributes\":{},\"id\":\"80235\",\"type\":\"CategoricalTickFormatter\"},{\"attributes\":{\"axis\":{\"id\":\"79916\"},\"dimension\":1,\"grid_line_color\":null,\"ticker\":null},\"id\":\"79919\",\"type\":\"Grid\"},{\"attributes\":{},\"id\":\"79921\",\"type\":\"PanTool\"},{\"attributes\":{\"axis_label\":\"Year\",\"formatter\":{\"id\":\"79944\"},\"major_label_policy\":{\"id\":\"79945\"},\"ticker\":{\"id\":\"79914\"}},\"id\":\"79913\",\"type\":\"CategoricalAxis\"},{\"attributes\":{\"css_classes\":[\"markdown\"],\"margin\":[5,5,5,5],\"name\":\"Markdown88287\",\"text\":\"&lt;p&gt;According to the Air Transport Association (2020) , A high load factor indicates that an airline has full planes with most seats occupied by passengers. Airlines have high fixed costs associated with each flight. Every flight must have an entire flight crew and support staff, a well-maintained aircraft with enough fuel, and services that entertain and comfort customers. The load factor help investors understand how the airline covers expenses and generates a profit. A low load factor may be a cause for concern and may indicate an unprofitable airline.&lt;/p&gt;\"},\"id\":\"80189\",\"type\":\"panel.models.markup.HTML\"},{\"attributes\":{\"axis_label\":\"(the number of seats and the distance flown in thousands (000)) \",\"formatter\":{\"id\":\"79942\"},\"major_label_policy\":{\"id\":\"79948\"},\"ticker\":{\"id\":\"79917\"}},\"id\":\"79916\",\"type\":\"LinearAxis\"},{\"attributes\":{},\"id\":\"79917\",\"type\":\"BasicTicker\"},{\"attributes\":{},\"id\":\"79922\",\"type\":\"WheelZoomTool\"},{\"attributes\":{},\"id\":\"79143\",\"type\":\"UnionRenderers\"},{\"attributes\":{\"label\":{\"value\":\"UAL Net Income\"},\"renderers\":[{\"id\":\"81328\"}]},\"id\":\"81344\",\"type\":\"LegendItem\"},{\"attributes\":{\"line_color\":\"#e5ae38\",\"line_width\":2,\"x\":{\"field\":\"Report Date\"},\"y\":{\"field\":\"value\"}},\"id\":\"81325\",\"type\":\"Line\"},{\"attributes\":{},\"id\":\"79920\",\"type\":\"SaveTool\"},{\"attributes\":{\"end\":1.4170857536059411,\"reset_end\":1.4170857536059411,\"reset_start\":-4.3772777982594455,\"start\":-4.3772777982594455,\"tags\":[[[\"value\",\"value\",null]]]},\"id\":\"81707\",\"type\":\"Range1d\"},{\"attributes\":{\"toolbars\":[{\"id\":\"80217\"},{\"id\":\"80267\"}],\"tools\":[{\"id\":\"80194\"},{\"id\":\"80211\"},{\"id\":\"80212\"},{\"id\":\"80213\"},{\"id\":\"80214\"},{\"id\":\"80215\"},{\"id\":\"80244\"},{\"id\":\"80261\"},{\"id\":\"80262\"},{\"id\":\"80263\"},{\"id\":\"80264\"},{\"id\":\"80265\"}]},\"id\":\"80313\",\"type\":\"ProxyToolbar\"},{\"attributes\":{\"overlay\":{\"id\":\"79925\"}},\"id\":\"79923\",\"type\":\"BoxZoomTool\"},{\"attributes\":{},\"id\":\"80239\",\"type\":\"AllLabels\"},{\"attributes\":{},\"id\":\"78286\",\"type\":\"UnionRenderers\"},{\"attributes\":{\"source\":{\"id\":\"81322\"}},\"id\":\"81329\",\"type\":\"CDSView\"},{\"attributes\":{\"data_source\":{\"id\":\"80224\"},\"glyph\":{\"id\":\"80227\"},\"hover_glyph\":null,\"muted_glyph\":{\"id\":\"80229\"},\"nonselection_glyph\":{\"id\":\"80228\"},\"selection_glyph\":{\"id\":\"80232\"},\"view\":{\"id\":\"80231\"}},\"id\":\"80230\",\"type\":\"GlyphRenderer\"},{\"attributes\":{\"data\":{\"Report Date\":[\"2011-06-30\",\"2011-09-30\",\"2011-12-31\",\"2012-03-31\",\"2012-06-30\",\"2012-09-30\",\"2012-12-31\",\"2013-03-31\",\"2013-06-30\",\"2013-09-30\",\"2013-12-31\",\"2014-03-31\",\"2014-06-30\",\"2014-09-30\",\"2014-12-31\",\"2015-03-31\",\"2015-06-30\",\"2015-09-30\",\"2015-12-31\",\"2016-03-31\",\"2016-06-30\",\"2016-09-30\",\"2016-12-31\",\"2017-03-31\",\"2017-06-30\",\"2017-09-30\",\"2017-12-31\",\"2018-03-31\",\"2018-06-30\",\"2018-09-30\",\"2018-12-31\",\"2019-03-31\",\"2019-06-30\",\"2019-09-30\",\"2019-12-31\",\"2020-03-31\",\"2020-06-29\",\"2020-12-30\",\"2021-03-30\"],\"Report_Date\":[\"2011-06-30\",\"2011-09-30\",\"2011-12-31\",\"2012-03-31\",\"2012-06-30\",\"2012-09-30\",\"2012-12-31\",\"2013-03-31\",\"2013-06-30\",\"2013-09-30\",\"2013-12-31\",\"2014-03-31\",\"2014-06-30\",\"2014-09-30\",\"2014-12-31\",\"2015-03-31\",\"2015-06-30\",\"2015-09-30\",\"2015-12-31\",\"2016-03-31\",\"2016-06-30\",\"2016-09-30\",\"2016-12-31\",\"2017-03-31\",\"2017-06-30\",\"2017-09-30\",\"2017-12-31\",\"2018-03-31\",\"2018-06-30\",\"2018-09-30\",\"2018-12-31\",\"2019-03-31\",\"2019-06-30\",\"2019-09-30\",\"2019-12-31\",\"2020-03-31\",\"2020-06-29\",\"2020-12-30\",\"2021-03-30\"],\"Variable\":[\"DAL Operating Margin\",\"DAL Operating Margin\",\"DAL Operating Margin\",\"DAL Operating Margin\",\"DAL Operating Margin\",\"DAL Operating Margin\",\"DAL Operating Margin\",\"DAL Operating Margin\",\"DAL Operating Margin\",\"DAL Operating Margin\",\"DAL Operating Margin\",\"DAL Operating Margin\",\"DAL Operating Margin\",\"DAL Operating Margin\",\"DAL Operating Margin\",\"DAL Operating Margin\",\"DAL Operating Margin\",\"DAL Operating Margin\",\"DAL Operating Margin\",\"DAL Operating Margin\",\"DAL Operating Margin\",\"DAL Operating Margin\",\"DAL Operating Margin\",\"DAL Operating Margin\",\"DAL Operating Margin\",\"DAL Operating Margin\",\"DAL Operating Margin\",\"DAL Operating Margin\",\"DAL Operating Margin\",\"DAL Operating Margin\",\"DAL Operating Margin\",\"DAL Operating Margin\",\"DAL Operating Margin\",\"DAL Operating Margin\",\"DAL Operating Margin\",\"DAL Operating Margin\",\"DAL Operating Margin\",\"DAL Operating Margin\",\"DAL Operating Margin\"],\"value\":{\"__ndarray__\":\"CroEFwl7sT9DLZX/xYG2PyWpDrGBz7g/mCqzAH2Epj9i8gB3FTShP0gMDE9Yy8I/617ZrEgnrD+zRgn/J4SjP9DQtsRXALk/OIjNUYRdxD9fca9RHEm4P8PPk7VnNbM/4GUBvhlkwz8PaKAKuBbAP+Prmm7IMbS/NRhmCJkPwz/WoMOOf5PNP4SvC3fRgMk/QDhUS9aZxz/x0vPn1k7FP41rNcT3r80/Tv1Zub4KyD/2Brdjvpu7P2pKCSOpd70/yyPt7DsOyD9eN1KofkjFP9zhvd3e1b0/WMlKVrKStT9+NG/7LUPCP8EZXZVilcE//s+ckjRDuj+BvWNqYO+4P7LMhZNnusU/rTu5SBEbxT+jdJyfHE+/PzQaMYGZbqi/DWOuWmI9CsDwrLScgKTLv74AjpM8j9W/\",\"dtype\":\"float64\",\"order\":\"little\",\"shape\":[39]}},\"selected\":{\"id\":\"81981\"},\"selection_policy\":{\"id\":\"81995\"}},\"id\":\"81980\",\"type\":\"ColumnDataSource\"},{\"attributes\":{},\"id\":\"79924\",\"type\":\"ResetTool\"},{\"attributes\":{\"line_alpha\":0.2,\"line_color\":\"#e5ae38\",\"line_width\":2,\"x\":{\"field\":\"Report Date\"},\"y\":{\"field\":\"value\"}},\"id\":\"81327\",\"type\":\"Line\"},{\"attributes\":{\"factors\":[\"2011-06-30\",\"2011-09-30\",\"2011-12-31\",\"2012-03-31\",\"2012-06-30\",\"2012-09-30\",\"2012-12-31\",\"2013-03-31\",\"2013-06-30\",\"2013-09-30\",\"2013-12-31\",\"2014-03-31\",\"2014-06-30\",\"2014-09-30\",\"2014-12-31\",\"2015-03-31\",\"2015-06-30\",\"2015-09-30\",\"2015-12-31\",\"2016-03-31\",\"2016-06-30\",\"2016-09-30\",\"2016-12-31\",\"2017-03-31\",\"2017-06-30\",\"2017-09-30\",\"2017-12-31\",\"2018-03-31\",\"2018-06-30\",\"2018-09-30\",\"2018-12-31\",\"2019-03-31\",\"2019-06-30\",\"2019-09-30\",\"2019-12-31\",\"2020-03-31\",\"2020-06-29\",\"2020-12-30\",\"2021-03-30\"],\"tags\":[[[\"Report Date\",\"Report Date\",null]]]},\"id\":\"81706\",\"type\":\"FactorRange\"},{\"attributes\":{},\"id\":\"81718\",\"type\":\"LinearScale\"},{\"attributes\":{},\"id\":\"81341\",\"type\":\"UnionRenderers\"},{\"attributes\":{\"bottom\":{\"value\":0},\"fill_alpha\":{\"value\":1.0},\"fill_color\":{\"value\":\"Blue\"},\"hatch_alpha\":{\"value\":1.0},\"hatch_color\":{\"value\":\"black\"},\"hatch_scale\":{\"value\":12.0},\"hatch_weight\":{\"value\":1.0},\"line_alpha\":{\"value\":1.0},\"line_cap\":{\"value\":\"butt\"},\"line_color\":{\"value\":\"black\"},\"line_dash\":{\"value\":[]},\"line_dash_offset\":{\"value\":0},\"line_join\":{\"value\":\"bevel\"},\"line_width\":{\"value\":1},\"top\":{\"field\":\"TOTAL\"},\"width\":{\"value\":0.8},\"x\":{\"field\":\"Year\"}},\"id\":\"79941\",\"type\":\"VBar\"},{\"attributes\":{\"fill_color\":{\"value\":\"Orange\"},\"top\":{\"field\":\"TOTAL\"},\"width\":{\"value\":0.8},\"x\":{\"field\":\"Year\"}},\"id\":\"80227\",\"type\":\"VBar\"},{\"attributes\":{\"below\":[{\"id\":\"81720\"}],\"center\":[{\"id\":\"81722\"},{\"id\":\"81726\"}],\"left\":[{\"id\":\"81723\"}],\"margin\":[5,5,5,5],\"min_border_bottom\":10,\"min_border_left\":10,\"min_border_right\":10,\"min_border_top\":10,\"renderers\":[{\"id\":\"81752\"},{\"id\":\"81773\"},{\"id\":\"81795\"}],\"right\":[{\"id\":\"81764\"}],\"sizing_mode\":\"fixed\",\"title\":{\"id\":\"81712\"},\"toolbar\":{\"id\":\"81733\"},\"width\":900,\"x_range\":{\"id\":\"81706\"},\"x_scale\":{\"id\":\"81716\"},\"y_range\":{\"id\":\"81707\"},\"y_scale\":{\"id\":\"81718\"}},\"id\":\"81711\",\"subtype\":\"Figure\",\"type\":\"Plot\"},{\"attributes\":{},\"id\":\"79934\",\"type\":\"Selection\"},{\"attributes\":{\"callback\":null,\"renderers\":[{\"id\":\"81752\"},{\"id\":\"81773\"},{\"id\":\"81795\"}],\"tags\":[\"hv_created\"],\"tooltips\":[[\"Variable\",\"@{Variable}\"],[\"Report Date\",\"@{Report_Date}\"],[\"value\",\"@{value}\"]]},\"id\":\"81708\",\"type\":\"HoverTool\"},{\"attributes\":{\"data_source\":{\"id\":\"79933\"},\"glyph\":{\"id\":\"79936\"},\"hover_glyph\":null,\"muted_glyph\":{\"id\":\"79938\"},\"nonselection_glyph\":{\"id\":\"79937\"},\"selection_glyph\":{\"id\":\"79941\"},\"view\":{\"id\":\"79940\"}},\"id\":\"79939\",\"type\":\"GlyphRenderer\"},{\"attributes\":{},\"id\":\"81747\",\"type\":\"Selection\"},{\"attributes\":{},\"id\":\"81716\",\"type\":\"CategoricalScale\"},{\"attributes\":{\"source\":{\"id\":\"79933\"}},\"id\":\"79940\",\"type\":\"CDSView\"},{\"attributes\":{\"factors\":[\"2002\",\"2003\",\"2004\",\"2005\",\"2006\",\"2007\",\"2008\",\"2009\",\"2010\",\"2011\",\"2012\",\"2013\",\"2014\",\"2015\",\"2016\",\"2017\",\"2018\",\"2019\",\"2020\",\"2021\"],\"tags\":[[[\"Year\",\"Year\",null]]]},\"id\":\"78170\",\"type\":\"FactorRange\"},{\"attributes\":{\"text\":\"Quarterly Net Profit Margin from 2011 to 2021\",\"text_color\":\"black\",\"text_font_size\":\"12pt\"},\"id\":\"81712\",\"type\":\"Title\"},{\"attributes\":{\"active_multi\":null,\"tools\":[{\"id\":\"79903\"},{\"id\":\"79920\"},{\"id\":\"79921\"},{\"id\":\"79922\"},{\"id\":\"79923\"},{\"id\":\"79924\"}]},\"id\":\"79926\",\"type\":\"Toolbar\"},{\"attributes\":{\"data\":{\"Variable\":[\"Delta Airlines Total\",\"Delta Airlines Total\",\"Delta Airlines Total\",\"Delta Airlines Total\",\"Delta Airlines Total\",\"Delta Airlines Total\",\"Delta Airlines Total\",\"Delta Airlines Total\",\"Delta Airlines Total\",\"Delta Airlines Total\",\"Delta Airlines Total\",\"Delta Airlines Total\",\"Delta Airlines Total\",\"Delta Airlines Total\",\"Delta Airlines Total\",\"Delta Airlines Total\",\"Delta Airlines Total\",\"Delta Airlines Total\",\"Delta Airlines Total\",\"Delta Airlines Total\",\"Delta Airlines Total\",\"Delta Airlines Total\",\"Delta Airlines Total\",\"Delta Airlines Total\",\"Delta Airlines Total\",\"Delta Airlines Total\",\"Delta Airlines Total\",\"Delta Airlines Total\",\"Delta Airlines Total\",\"Delta Airlines Total\",\"Delta Airlines Total\",\"Delta Airlines Total\"],\"Year\":[1990,1991,1992,1993,1994,1995,1996,1997,1998,1999,2000,2001,2002,2003,2004,2005,2006,2007,2008,2009,2010,2011,2012,2013,2014,2015,2016,2017,2018,2019,2020,2021],\"value\":{\"__ndarray__\":\"AAAAAGgm7kCrqqqqFoXwQFVVVVWBuPJAq6qqqka78UBVVVVVeQ7xQAAAAAAgmu5Aq6qqqkJH70AAAAAAjNHwQFVVVVWNEfJAVVVVVZHq8kBVVVVVBWvzQFVVVVWpuPNAq6qqqqIt8UAAAAAA6NLuQAAAAAB4vu1AAAAAACAD60CrqqqqIkznQAAAAAAQR+hAq6qqqgqA6EBUVVVVjUXoQFVVVVV9hfNAVVVVVa1r80AAAAAAYC/zQFVVVVXVL/NAAAAAADSW80BVVVVV+Wz0QAAAAAD0zPRAVVVVVWUm9UCrqqqqiqD1QAAAAAAQBfZAAAAAAEh68EAAAAAAKBbvQA==\",\"dtype\":\"float64\",\"order\":\"little\",\"shape\":[32]}},\"selected\":{\"id\":\"80809\"},\"selection_policy\":{\"id\":\"80823\"}},\"id\":\"80808\",\"type\":\"ColumnDataSource\"},{\"attributes\":{},\"id\":\"81724\",\"type\":\"BasicTicker\"},{\"attributes\":{\"bottom_units\":\"screen\",\"fill_alpha\":0.5,\"fill_color\":\"lightgrey\",\"left_units\":\"screen\",\"level\":\"overlay\",\"line_alpha\":1.0,\"line_color\":\"black\",\"line_dash\":[4,4],\"line_width\":2,\"right_units\":\"screen\",\"syncable\":false,\"top_units\":\"screen\"},\"id\":\"79925\",\"type\":\"BoxAnnotation\"},{\"attributes\":{},\"id\":\"81721\",\"type\":\"CategoricalTicker\"},{\"attributes\":{\"text\":\"Southwest Airlines Passengers - All Airports\",\"text_color\":\"black\",\"text_font_size\":\"12pt\"},\"id\":\"78174\",\"type\":\"Title\"},{\"attributes\":{},\"id\":\"80225\",\"type\":\"Selection\"},{\"attributes\":{\"axis_label\":\"Report Date\",\"formatter\":{\"id\":\"81741\"},\"major_label_orientation\":1.5707963267948966,\"major_label_policy\":{\"id\":\"81742\"},\"ticker\":{\"id\":\"81721\"}},\"id\":\"81720\",\"type\":\"CategoricalAxis\"},{\"attributes\":{\"data\":{\"TOTAL\":[72447995,74719340,81066038,88379900,96276907,101910809,101920598,101338228,106227521,110586815,112234074,115322785,127194550,144574606,151740277,157676937,163605599,162681011,67785236,17591788],\"Year\":[\"2002\",\"2003\",\"2004\",\"2005\",\"2006\",\"2007\",\"2008\",\"2009\",\"2010\",\"2011\",\"2012\",\"2013\",\"2014\",\"2015\",\"2016\",\"2017\",\"2018\",\"2019\",\"2020\",\"2021\"]},\"selected\":{\"id\":\"78203\"},\"selection_policy\":{\"id\":\"78276\"}},\"id\":\"78202\",\"type\":\"ColumnDataSource\"},{\"attributes\":{\"axis\":{\"id\":\"81720\"},\"grid_line_color\":null,\"ticker\":null},\"id\":\"81722\",\"type\":\"Grid\"},{\"attributes\":{\"axis_label\":\"\",\"formatter\":{\"id\":\"81744\"},\"major_label_policy\":{\"id\":\"81745\"},\"ticker\":{\"id\":\"81724\"}},\"id\":\"81723\",\"type\":\"LinearAxis\"},{\"attributes\":{},\"id\":\"81729\",\"type\":\"WheelZoomTool\"},{\"attributes\":{\"line_color\":\"#e5ae38\",\"line_width\":2,\"x\":{\"field\":\"Report Date\"},\"y\":{\"field\":\"value\"}},\"id\":\"81345\",\"type\":\"Line\"},{\"attributes\":{},\"id\":\"81728\",\"type\":\"PanTool\"},{\"attributes\":{\"axis\":{\"id\":\"81723\"},\"dimension\":1,\"grid_line_color\":null,\"ticker\":null},\"id\":\"81726\",\"type\":\"Grid\"},{\"attributes\":{\"children\":[{\"id\":\"82412\"},{\"id\":\"82645\"}],\"margin\":[0,0,0,0],\"name\":\"Row88169\"},\"id\":\"82406\",\"type\":\"Row\"},{\"attributes\":{},\"id\":\"81727\",\"type\":\"SaveTool\"},{\"attributes\":{},\"id\":\"78180\",\"type\":\"LinearScale\"},{\"attributes\":{\"toolbars\":[{\"id\":\"79062\"},{\"id\":\"79112\"}],\"tools\":[{\"id\":\"79039\"},{\"id\":\"79056\"},{\"id\":\"79057\"},{\"id\":\"79058\"},{\"id\":\"79059\"},{\"id\":\"79060\"},{\"id\":\"79089\"},{\"id\":\"79106\"},{\"id\":\"79107\"},{\"id\":\"79108\"},{\"id\":\"79109\"},{\"id\":\"79110\"}]},\"id\":\"79158\",\"type\":\"ProxyToolbar\"},{\"attributes\":{\"overlay\":{\"id\":\"81732\"}},\"id\":\"81730\",\"type\":\"BoxZoomTool\"},{\"attributes\":{\"children\":[{\"id\":\"78292\"},{\"id\":\"78290\"}]},\"id\":\"78293\",\"type\":\"Column\"},{\"attributes\":{},\"id\":\"81731\",\"type\":\"ResetTool\"},{\"attributes\":{\"callback\":null,\"renderers\":[{\"id\":\"78208\"}],\"tags\":[\"hv_created\"],\"tooltips\":[[\"Year\",\"@{Year}\"],[\"TOTAL\",\"@{TOTAL}\"]]},\"id\":\"78172\",\"type\":\"HoverTool\"},{\"attributes\":{\"active_multi\":null,\"tools\":[{\"id\":\"81708\"},{\"id\":\"81727\"},{\"id\":\"81728\"},{\"id\":\"81729\"},{\"id\":\"81730\"},{\"id\":\"81731\"}]},\"id\":\"81733\",\"type\":\"Toolbar\"},{\"attributes\":{\"line_color\":\"#30a2da\",\"line_width\":2,\"x\":{\"field\":\"Report Date\"},\"y\":{\"field\":\"value\"}},\"id\":\"81749\",\"type\":\"Line\"},{\"attributes\":{\"end\":178206980.1,\"reset_end\":178206980.1,\"reset_start\":0.0,\"tags\":[[[\"TOTAL\",\"TOTAL\",null]]]},\"id\":\"78171\",\"type\":\"Range1d\"},{\"attributes\":{},\"id\":\"81790\",\"type\":\"Selection\"},{\"attributes\":{},\"id\":\"78178\",\"type\":\"CategoricalScale\"},{\"attributes\":{\"children\":[{\"id\":\"78293\"}],\"margin\":[0,0,0,0],\"name\":\"Row88210\"},\"id\":\"78169\",\"type\":\"Row\"},{\"attributes\":{},\"id\":\"78214\",\"type\":\"AllLabels\"},{\"attributes\":{\"line_color\":\"#fc4f30\",\"line_width\":2,\"x\":{\"field\":\"Report Date\"},\"y\":{\"field\":\"value\"}},\"id\":\"82022\",\"type\":\"Line\"},{\"attributes\":{\"data_source\":{\"id\":\"82023\"},\"glyph\":{\"id\":\"82026\"},\"hover_glyph\":null,\"muted_glyph\":{\"id\":\"82028\"},\"nonselection_glyph\":{\"id\":\"82027\"},\"selection_glyph\":{\"id\":\"82046\"},\"view\":{\"id\":\"82030\"}},\"id\":\"82029\",\"type\":\"GlyphRenderer\"},{\"attributes\":{\"below\":[{\"id\":\"79336\"}],\"center\":[{\"id\":\"79338\"},{\"id\":\"79342\"}],\"height\":500,\"left\":[{\"id\":\"79339\"}],\"margin\":null,\"min_border_bottom\":10,\"min_border_left\":10,\"min_border_right\":10,\"min_border_top\":10,\"renderers\":[{\"id\":\"79362\"}],\"sizing_mode\":\"fixed\",\"title\":{\"id\":\"79328\"},\"toolbar\":{\"id\":\"79349\"},\"toolbar_location\":null,\"width\":900,\"x_range\":{\"id\":\"79324\"},\"x_scale\":{\"id\":\"79332\"},\"y_range\":{\"id\":\"79325\"},\"y_scale\":{\"id\":\"79334\"}},\"id\":\"79327\",\"subtype\":\"Figure\",\"type\":\"Plot\"},{\"attributes\":{},\"id\":\"78217\",\"type\":\"AllLabels\"},{\"attributes\":{\"axis_label\":\"Number of Passengers\",\"formatter\":{\"id\":\"78261\"},\"major_label_policy\":{\"id\":\"78267\"},\"ticker\":{\"id\":\"78236\"}},\"id\":\"78235\",\"type\":\"LinearAxis\"},{\"attributes\":{},\"id\":\"78240\",\"type\":\"PanTool\"},{\"attributes\":{\"line_alpha\":0.1,\"line_color\":\"#e5ae38\",\"line_width\":2,\"x\":{\"field\":\"Report Date\"},\"y\":{\"field\":\"value\"}},\"id\":\"82027\",\"type\":\"Line\"},{\"attributes\":{\"fill_alpha\":{\"value\":0.2},\"fill_color\":{\"value\":\"Green\"},\"line_alpha\":{\"value\":0.2},\"top\":{\"field\":\"TOTAL\"},\"width\":{\"value\":0.8},\"x\":{\"field\":\"Year\"}},\"id\":\"78546\",\"type\":\"VBar\"},{\"attributes\":{},\"id\":\"78542\",\"type\":\"Selection\"},{\"attributes\":{\"line_alpha\":0.2,\"line_color\":\"#e5ae38\",\"line_width\":2,\"x\":{\"field\":\"Report Date\"},\"y\":{\"field\":\"value\"}},\"id\":\"82028\",\"type\":\"Line\"},{\"attributes\":{},\"id\":\"82042\",\"type\":\"UnionRenderers\"},{\"attributes\":{\"fill_color\":{\"value\":\"Green\"},\"top\":{\"field\":\"TOTAL\"},\"width\":{\"value\":0.8},\"x\":{\"field\":\"Year\"}},\"id\":\"78544\",\"type\":\"VBar\"},{\"attributes\":{\"source\":{\"id\":\"82023\"}},\"id\":\"82030\",\"type\":\"CDSView\"},{\"attributes\":{},\"id\":\"78552\",\"type\":\"CategoricalTickFormatter\"},{\"attributes\":{\"overlay\":{\"id\":\"78244\"}},\"id\":\"78242\",\"type\":\"BoxZoomTool\"},{\"attributes\":{},\"id\":\"78565\",\"type\":\"UnionRenderers\"},{\"attributes\":{\"axis\":{\"id\":\"78235\"},\"dimension\":1,\"grid_line_color\":null,\"ticker\":null},\"id\":\"78238\",\"type\":\"Grid\"},{\"attributes\":{\"bottom_units\":\"screen\",\"fill_alpha\":0.5,\"fill_color\":\"lightgrey\",\"left_units\":\"screen\",\"level\":\"overlay\",\"line_alpha\":1.0,\"line_color\":\"black\",\"line_dash\":[4,4],\"line_width\":2,\"right_units\":\"screen\",\"syncable\":false,\"top_units\":\"screen\"},\"id\":\"78533\",\"type\":\"BoxAnnotation\"},{\"attributes\":{\"label\":{\"value\":\"UAL Operating Margin\"},\"renderers\":[{\"id\":\"82029\"}]},\"id\":\"82045\",\"type\":\"LegendItem\"},{\"attributes\":{},\"id\":\"81294\",\"type\":\"UnionRenderers\"},{\"attributes\":{\"fill_color\":{\"value\":\"Red\"},\"top\":{\"field\":\"TOTAL\"},\"width\":{\"value\":0.8},\"x\":{\"field\":\"Year\"}},\"id\":\"78255\",\"type\":\"VBar\"},{\"attributes\":{\"fill_alpha\":{\"value\":0.1},\"fill_color\":{\"value\":\"Green\"},\"line_alpha\":{\"value\":0.1},\"top\":{\"field\":\"TOTAL\"},\"width\":{\"value\":0.8},\"x\":{\"field\":\"Year\"}},\"id\":\"78545\",\"type\":\"VBar\"},{\"attributes\":{\"axis\":{\"id\":\"78232\"},\"grid_line_color\":null,\"ticker\":null},\"id\":\"78234\",\"type\":\"Grid\"},{\"attributes\":{},\"id\":\"78239\",\"type\":\"SaveTool\"},{\"attributes\":{\"factors\":[\"2002\",\"2003\",\"2004\",\"2005\",\"2006\",\"2007\",\"2008\",\"2009\",\"2010\",\"2011\",\"2012\",\"2013\",\"2014\",\"2015\",\"2016\",\"2017\",\"2018\",\"2019\",\"2020\",\"2021\"],\"tags\":[[[\"Year\",\"Year\",null]]]},\"id\":\"79324\",\"type\":\"FactorRange\"},{\"attributes\":{},\"id\":\"78236\",\"type\":\"BasicTicker\"},{\"attributes\":{},\"id\":\"78241\",\"type\":\"WheelZoomTool\"},{\"attributes\":{\"active_multi\":null,\"tools\":[{\"id\":\"78511\"},{\"id\":\"78528\"},{\"id\":\"78529\"},{\"id\":\"78530\"},{\"id\":\"78531\"},{\"id\":\"78532\"}]},\"id\":\"78534\",\"type\":\"Toolbar\"},{\"attributes\":{},\"id\":\"78243\",\"type\":\"ResetTool\"},{\"attributes\":{\"text\":\"Southwest Airlines Carriers Airlines Revenue Passenger-Miles - All Airports\",\"text_color\":\"black\",\"text_font_size\":\"12pt\"},\"id\":\"79328\",\"type\":\"Title\"},{\"attributes\":{},\"id\":\"79337\",\"type\":\"CategoricalTicker\"},{\"attributes\":{\"css_classes\":[\"markdown\"],\"margin\":[5,5,5,5],\"name\":\"Markdown88245\",\"text\":\"&lt;p&gt;According to the Bureau of Transportation Statistics (2021), A revenue passenger mile (RPM) is a transportation industry metric that shows the number of miles traveled by paying passengers and is typically an airline traffic statistic. Revenue passenger miles are calculated by multiplying the number of paying passengers by the distance traveled. For example, an airplane with 100 passengers that flies 250 miles has generated 25,000 RPM.&lt;/p&gt;\"},\"id\":\"79034\",\"type\":\"panel.models.markup.HTML\"},{\"attributes\":{\"data_source\":{\"id\":\"78252\"},\"glyph\":{\"id\":\"78255\"},\"hover_glyph\":null,\"muted_glyph\":{\"id\":\"78257\"},\"nonselection_glyph\":{\"id\":\"78256\"},\"selection_glyph\":{\"id\":\"78260\"},\"view\":{\"id\":\"78259\"}},\"id\":\"78258\",\"type\":\"GlyphRenderer\"},{\"attributes\":{\"fill_alpha\":{\"value\":0.2},\"fill_color\":{\"value\":\"Red\"},\"line_alpha\":{\"value\":0.2},\"top\":{\"field\":\"TOTAL\"},\"width\":{\"value\":0.8},\"x\":{\"field\":\"Year\"}},\"id\":\"78257\",\"type\":\"VBar\"},{\"attributes\":{\"callback\":null,\"renderers\":[{\"id\":\"79362\"}],\"tags\":[\"hv_created\"],\"tooltips\":[[\"Year\",\"@{Year}\"],[\"TOTAL\",\"@{TOTAL}\"]]},\"id\":\"79326\",\"type\":\"HoverTool\"},{\"attributes\":{\"toolbars\":[{\"id\":\"78195\"},{\"id\":\"78245\"}],\"tools\":[{\"id\":\"78172\"},{\"id\":\"78189\"},{\"id\":\"78190\"},{\"id\":\"78191\"},{\"id\":\"78192\"},{\"id\":\"78193\"},{\"id\":\"78222\"},{\"id\":\"78239\"},{\"id\":\"78240\"},{\"id\":\"78241\"},{\"id\":\"78242\"},{\"id\":\"78243\"}]},\"id\":\"78291\",\"type\":\"ProxyToolbar\"},{\"attributes\":{\"end\":145209285.7,\"reset_end\":145209285.7,\"reset_start\":0.0,\"tags\":[[[\"TOTAL\",\"TOTAL\",null]]]},\"id\":\"79325\",\"type\":\"Range1d\"},{\"attributes\":{},\"id\":\"79332\",\"type\":\"CategoricalScale\"},{\"attributes\":{},\"id\":\"78253\",\"type\":\"Selection\"},{\"attributes\":{\"fill_color\":{\"value\":\"Blue\"},\"top\":{\"field\":\"TOTAL\"},\"width\":{\"value\":0.8},\"x\":{\"field\":\"Year\"}},\"id\":\"79359\",\"type\":\"VBar\"},{\"attributes\":{\"line_color\":\"#e5ae38\",\"line_width\":2,\"x\":{\"field\":\"Report Date\"},\"y\":{\"field\":\"value\"}},\"id\":\"82046\",\"type\":\"Line\"},{\"attributes\":{\"axis\":{\"id\":\"79336\"},\"grid_line_color\":null,\"ticker\":null},\"id\":\"79338\",\"type\":\"Grid\"},{\"attributes\":{\"bottom_units\":\"screen\",\"fill_alpha\":0.5,\"fill_color\":\"lightgrey\",\"left_units\":\"screen\",\"level\":\"overlay\",\"line_alpha\":1.0,\"line_color\":\"black\",\"line_dash\":[4,4],\"line_width\":2,\"right_units\":\"screen\",\"syncable\":false,\"top_units\":\"screen\"},\"id\":\"78244\",\"type\":\"BoxAnnotation\"},{\"attributes\":{\"fill_alpha\":{\"value\":0.1},\"fill_color\":{\"value\":\"Red\"},\"line_alpha\":{\"value\":0.1},\"top\":{\"field\":\"TOTAL\"},\"width\":{\"value\":0.8},\"x\":{\"field\":\"Year\"}},\"id\":\"78256\",\"type\":\"VBar\"},{\"attributes\":{\"source\":{\"id\":\"78541\"}},\"id\":\"78548\",\"type\":\"CDSView\"},{\"attributes\":{},\"id\":\"79334\",\"type\":\"LinearScale\"},{\"attributes\":{\"data_source\":{\"id\":\"78541\"},\"glyph\":{\"id\":\"78544\"},\"hover_glyph\":null,\"muted_glyph\":{\"id\":\"78546\"},\"nonselection_glyph\":{\"id\":\"78545\"},\"selection_glyph\":{\"id\":\"78549\"},\"view\":{\"id\":\"78548\"}},\"id\":\"78547\",\"type\":\"GlyphRenderer\"},{\"attributes\":{\"axis\":{\"id\":\"79339\"},\"dimension\":1,\"grid_line_color\":null,\"ticker\":null},\"id\":\"79342\",\"type\":\"Grid\"},{\"attributes\":{},\"id\":\"79344\",\"type\":\"PanTool\"},{\"attributes\":{\"axis_label\":\"Year\",\"formatter\":{\"id\":\"79367\"},\"major_label_policy\":{\"id\":\"79368\"},\"ticker\":{\"id\":\"79337\"}},\"id\":\"79336\",\"type\":\"CategoricalAxis\"},{\"attributes\":{\"children\":[{\"id\":\"79736\"},{\"id\":\"79734\"}]},\"id\":\"79737\",\"type\":\"Column\"},{\"attributes\":{\"toolbar\":{\"id\":\"78580\"},\"toolbar_location\":\"above\"},\"id\":\"78581\",\"type\":\"ToolbarBox\"},{\"attributes\":{\"active_multi\":null,\"tools\":[{\"id\":\"78222\"},{\"id\":\"78239\"},{\"id\":\"78240\"},{\"id\":\"78241\"},{\"id\":\"78242\"},{\"id\":\"78243\"}]},\"id\":\"78245\",\"type\":\"Toolbar\"},{\"attributes\":{\"bottom\":{\"value\":0},\"fill_alpha\":{\"value\":1.0},\"fill_color\":{\"value\":\"Green\"},\"hatch_alpha\":{\"value\":1.0},\"hatch_color\":{\"value\":\"black\"},\"hatch_scale\":{\"value\":12.0},\"hatch_weight\":{\"value\":1.0},\"line_alpha\":{\"value\":1.0},\"line_cap\":{\"value\":\"butt\"},\"line_color\":{\"value\":\"black\"},\"line_dash\":{\"value\":[]},\"line_dash_offset\":{\"value\":0},\"line_join\":{\"value\":\"bevel\"},\"line_width\":{\"value\":1},\"top\":{\"field\":\"TOTAL\"},\"width\":{\"value\":0.8},\"x\":{\"field\":\"Year\"}},\"id\":\"78549\",\"type\":\"VBar\"},{\"attributes\":{\"axis_label\":\"(The number of passengers and the distance flown in thousands (000)) \",\"formatter\":{\"id\":\"79365\"},\"major_label_policy\":{\"id\":\"79371\"},\"ticker\":{\"id\":\"79340\"}},\"id\":\"79339\",\"type\":\"LinearAxis\"},{\"attributes\":{},\"id\":\"79340\",\"type\":\"BasicTicker\"},{\"attributes\":{},\"id\":\"79345\",\"type\":\"WheelZoomTool\"},{\"attributes\":{\"line_color\":\"#30a2da\",\"line_width\":2,\"x\":{\"field\":\"Report Date\"},\"y\":{\"field\":\"value\"}},\"id\":\"81299\",\"type\":\"Line\"},{\"attributes\":{},\"id\":\"79343\",\"type\":\"SaveTool\"},{\"attributes\":{\"line_alpha\":0.1,\"line_color\":\"#fc4f30\",\"line_width\":2,\"x\":{\"field\":\"Report Date\"},\"y\":{\"field\":\"value\"}},\"id\":\"81304\",\"type\":\"Line\"},{\"attributes\":{\"overlay\":{\"id\":\"79348\"}},\"id\":\"79346\",\"type\":\"BoxZoomTool\"},{\"attributes\":{},\"id\":\"79347\",\"type\":\"ResetTool\"},{\"attributes\":{\"data_source\":{\"id\":\"81300\"},\"glyph\":{\"id\":\"81303\"},\"hover_glyph\":null,\"muted_glyph\":{\"id\":\"81305\"},\"nonselection_glyph\":{\"id\":\"81304\"},\"selection_glyph\":{\"id\":\"81321\"},\"view\":{\"id\":\"81307\"}},\"id\":\"81306\",\"type\":\"GlyphRenderer\"},{\"attributes\":{\"active_multi\":null,\"tools\":[{\"id\":\"79326\"},{\"id\":\"79343\"},{\"id\":\"79344\"},{\"id\":\"79345\"},{\"id\":\"79346\"},{\"id\":\"79347\"}]},\"id\":\"79349\",\"type\":\"Toolbar\"},{\"attributes\":{\"children\":[[{\"id\":\"79904\"},0,0],[{\"id\":\"79954\"},0,1]]},\"id\":\"80021\",\"type\":\"GridBox\"},{\"attributes\":{},\"id\":\"78553\",\"type\":\"AllLabels\"},{\"attributes\":{\"format\":\"%.0f\"},\"id\":\"78550\",\"type\":\"PrintfTickFormatter\"},{\"attributes\":{\"data\":{\"TOTAL\":[45397266,47948232,53423655,60228987,67697570,72325362,73497807,74462401,78052664,83852181,85570154,90178339,101168686,117502779,124801269,129044798,133325575,131348564,54224085,14488468],\"Year\":[\"2002\",\"2003\",\"2004\",\"2005\",\"2006\",\"2007\",\"2008\",\"2009\",\"2010\",\"2011\",\"2012\",\"2013\",\"2014\",\"2015\",\"2016\",\"2017\",\"2018\",\"2019\",\"2020\",\"2021\"]},\"selected\":{\"id\":\"79357\"},\"selection_policy\":{\"id\":\"79430\"}},\"id\":\"79356\",\"type\":\"ColumnDataSource\"},{\"attributes\":{\"fill_alpha\":{\"value\":0.2},\"fill_color\":{\"value\":\"Blue\"},\"line_alpha\":{\"value\":0.2},\"top\":{\"field\":\"TOTAL\"},\"width\":{\"value\":0.8},\"x\":{\"field\":\"Year\"}},\"id\":\"79361\",\"type\":\"VBar\"},{\"attributes\":{\"data\":{\"Report Date\":[\"2011-06-30\",\"2011-09-30\",\"2011-12-31\",\"2012-03-31\",\"2012-06-30\",\"2012-09-30\",\"2012-12-31\",\"2013-03-31\",\"2013-06-30\",\"2013-09-30\",\"2013-12-31\",\"2014-03-31\",\"2014-06-30\",\"2014-09-30\",\"2014-12-31\",\"2015-03-31\",\"2015-06-30\",\"2015-09-30\",\"2015-12-31\",\"2016-03-31\",\"2016-06-30\",\"2016-09-30\",\"2016-12-31\",\"2017-03-31\",\"2017-06-30\",\"2017-09-30\",\"2017-12-31\",\"2018-03-31\",\"2018-06-30\",\"2018-09-30\",\"2018-12-31\",\"2019-03-31\",\"2019-06-30\",\"2019-09-30\",\"2019-12-31\",\"2020-03-31\",\"2020-06-29\",\"2020-12-30\",\"2021-03-30\"],\"Report_Date\":[\"2011-06-30\",\"2011-09-30\",\"2011-12-31\",\"2012-03-31\",\"2012-06-30\",\"2012-09-30\",\"2012-12-31\",\"2013-03-31\",\"2013-06-30\",\"2013-09-30\",\"2013-12-31\",\"2014-03-31\",\"2014-06-30\",\"2014-09-30\",\"2014-12-31\",\"2015-03-31\",\"2015-06-30\",\"2015-09-30\",\"2015-12-31\",\"2016-03-31\",\"2016-06-30\",\"2016-09-30\",\"2016-12-31\",\"2017-03-31\",\"2017-06-30\",\"2017-09-30\",\"2017-12-31\",\"2018-03-31\",\"2018-06-30\",\"2018-09-30\",\"2018-12-31\",\"2019-03-31\",\"2019-06-30\",\"2019-09-30\",\"2019-12-31\",\"2020-03-31\",\"2020-06-29\",\"2020-12-30\",\"2021-03-30\"],\"Variable\":[\"LUV Quick Ratio\",\"LUV Quick Ratio\",\"LUV Quick Ratio\",\"LUV Quick Ratio\",\"LUV Quick Ratio\",\"LUV Quick Ratio\",\"LUV Quick Ratio\",\"LUV Quick Ratio\",\"LUV Quick Ratio\",\"LUV Quick Ratio\",\"LUV Quick Ratio\",\"LUV Quick Ratio\",\"LUV Quick Ratio\",\"LUV Quick Ratio\",\"LUV Quick Ratio\",\"LUV Quick Ratio\",\"LUV Quick Ratio\",\"LUV Quick Ratio\",\"LUV Quick Ratio\",\"LUV Quick Ratio\",\"LUV Quick Ratio\",\"LUV Quick Ratio\",\"LUV Quick Ratio\",\"LUV Quick Ratio\",\"LUV Quick Ratio\",\"LUV Quick Ratio\",\"LUV Quick Ratio\",\"LUV Quick Ratio\",\"LUV Quick Ratio\",\"LUV Quick Ratio\",\"LUV Quick Ratio\",\"LUV Quick Ratio\",\"LUV Quick Ratio\",\"LUV Quick Ratio\",\"LUV Quick Ratio\",\"LUV Quick Ratio\",\"LUV Quick Ratio\",\"LUV Quick Ratio\",\"LUV Quick Ratio\"],\"value\":{\"__ndarray__\":\"f1qcOLw/7j/0zdE3R9/oP6bc6WeQ1+s/sVoct0q57T+v1+v1er3qP4ohLXSJdOo/3bnInYvc6T9AKiFhSdvnP6J2jtB0Yeg/RJoVvqGI6D9ZMFwjNH3mPymJ/Q2gveU/FG/N42E75j/178VcEJ7mP98r4yhaXuM/pZp6GvqY5T/q9qqcPN/jP8WKwGQVROM/Zvp2sQ8L4D8e07IXVJ3gP3iHpwrK6uA/4ZWEJt104j8fDAHXjXTjP3oQELZkdeI/B13VjcTv4T9E+qv11KbhPyhfpzcUfuQ/3rheD52H4z92j8/ETYbkP8siMgC+4eQ/fTIJZM984j9SAqtvsVbiP2HhQciQvuI/FL61Cpv+4j+h/rkNvHbjP6b/DdB9V+Q/TnvkuM8Upz+uH5YOZD2sP8VWMLvCCKw/\",\"dtype\":\"float64\",\"order\":\"little\",\"shape\":[39]}},\"selected\":{\"id\":\"82235\"},\"selection_policy\":{\"id\":\"82251\"}},\"id\":\"82234\",\"type\":\"ColumnDataSource\"},{\"attributes\":{\"source\":{\"id\":\"79356\"}},\"id\":\"79363\",\"type\":\"CDSView\"},{\"attributes\":{},\"id\":\"81301\",\"type\":\"Selection\"},{\"attributes\":{\"line_color\":\"#fc4f30\",\"line_width\":2,\"x\":{\"field\":\"Report Date\"},\"y\":{\"field\":\"value\"}},\"id\":\"81321\",\"type\":\"Line\"},{\"attributes\":{\"label\":{\"value\":\"LUV Net Income\"},\"renderers\":[{\"id\":\"81306\"}]},\"id\":\"81320\",\"type\":\"LegendItem\"},{\"attributes\":{\"line_color\":\"#fc4f30\",\"line_width\":2,\"x\":{\"field\":\"Report Date\"},\"y\":{\"field\":\"value\"}},\"id\":\"81303\",\"type\":\"Line\"},{\"attributes\":{\"data_source\":{\"id\":\"79356\"},\"glyph\":{\"id\":\"79359\"},\"hover_glyph\":null,\"muted_glyph\":{\"id\":\"79361\"},\"nonselection_glyph\":{\"id\":\"79360\"},\"selection_glyph\":{\"id\":\"79364\"},\"view\":{\"id\":\"79363\"}},\"id\":\"79362\",\"type\":\"GlyphRenderer\"},{\"attributes\":{\"fill_alpha\":{\"value\":0.1},\"fill_color\":{\"value\":\"Blue\"},\"line_alpha\":{\"value\":0.1},\"top\":{\"field\":\"TOTAL\"},\"width\":{\"value\":0.8},\"x\":{\"field\":\"Year\"}},\"id\":\"79360\",\"type\":\"VBar\"},{\"attributes\":{},\"id\":\"79357\",\"type\":\"Selection\"},{\"attributes\":{\"source\":{\"id\":\"81300\"}},\"id\":\"81307\",\"type\":\"CDSView\"},{\"attributes\":{},\"id\":\"78556\",\"type\":\"AllLabels\"},{\"attributes\":{\"line_alpha\":0.2,\"line_color\":\"#fc4f30\",\"line_width\":2,\"x\":{\"field\":\"Report Date\"},\"y\":{\"field\":\"value\"}},\"id\":\"81305\",\"type\":\"Line\"},{\"attributes\":{\"toolbars\":[{\"id\":\"78484\"},{\"id\":\"78534\"}],\"tools\":[{\"id\":\"78461\"},{\"id\":\"78478\"},{\"id\":\"78479\"},{\"id\":\"78480\"},{\"id\":\"78481\"},{\"id\":\"78482\"},{\"id\":\"78511\"},{\"id\":\"78528\"},{\"id\":\"78529\"},{\"id\":\"78530\"},{\"id\":\"78531\"},{\"id\":\"78532\"}]},\"id\":\"78580\",\"type\":\"ProxyToolbar\"},{\"attributes\":{\"data\":{\"Report Date\":[\"2011-06-30\",\"2011-09-30\",\"2011-12-31\",\"2012-03-31\",\"2012-06-30\",\"2012-09-30\",\"2012-12-31\",\"2013-03-31\",\"2013-06-30\",\"2013-09-30\",\"2013-12-31\",\"2014-03-31\",\"2014-06-30\",\"2014-09-30\",\"2014-12-31\",\"2015-03-31\",\"2015-06-30\",\"2015-09-30\",\"2015-12-31\",\"2016-03-31\",\"2016-06-30\",\"2016-09-30\",\"2016-12-31\",\"2017-03-31\",\"2017-06-30\",\"2017-09-30\",\"2017-12-31\",\"2018-03-31\",\"2018-06-30\",\"2018-09-30\",\"2018-12-31\",\"2019-03-31\",\"2019-06-30\",\"2019-09-30\",\"2019-12-31\",\"2020-03-31\",\"2020-06-29\",\"2020-12-30\",\"2021-03-30\"],\"Report_Date\":[\"2011-06-30\",\"2011-09-30\",\"2011-12-31\",\"2012-03-31\",\"2012-06-30\",\"2012-09-30\",\"2012-12-31\",\"2013-03-31\",\"2013-06-30\",\"2013-09-30\",\"2013-12-31\",\"2014-03-31\",\"2014-06-30\",\"2014-09-30\",\"2014-12-31\",\"2015-03-31\",\"2015-06-30\",\"2015-09-30\",\"2015-12-31\",\"2016-03-31\",\"2016-06-30\",\"2016-09-30\",\"2016-12-31\",\"2017-03-31\",\"2017-06-30\",\"2017-09-30\",\"2017-12-31\",\"2018-03-31\",\"2018-06-30\",\"2018-09-30\",\"2018-12-31\",\"2019-03-31\",\"2019-06-30\",\"2019-09-30\",\"2019-12-31\",\"2020-03-31\",\"2020-06-29\",\"2020-12-30\",\"2021-03-30\"],\"Variable\":[\"UAL Net Income\",\"UAL Net Income\",\"UAL Net Income\",\"UAL Net Income\",\"UAL Net Income\",\"UAL Net Income\",\"UAL Net Income\",\"UAL Net Income\",\"UAL Net Income\",\"UAL Net Income\",\"UAL Net Income\",\"UAL Net Income\",\"UAL Net Income\",\"UAL Net Income\",\"UAL Net Income\",\"UAL Net Income\",\"UAL Net Income\",\"UAL Net Income\",\"UAL Net Income\",\"UAL Net Income\",\"UAL Net Income\",\"UAL Net Income\",\"UAL Net Income\",\"UAL Net Income\",\"UAL Net Income\",\"UAL Net Income\",\"UAL Net Income\",\"UAL Net Income\",\"UAL Net Income\",\"UAL Net Income\",\"UAL Net Income\",\"UAL Net Income\",\"UAL Net Income\",\"UAL Net Income\",\"UAL Net Income\",\"UAL Net Income\",\"UAL Net Income\",\"UAL Net Income\",\"UAL Net Income\"],\"value\":[538000000,653000000,-138000000,-448000000,339000000,6000000,-620000000,-417000000,469000000,379000000,140000000,-609000000,789000000,924000000,28000000,508000000,1193000000,4816000000,823000000,313000000,588000000,965000000,368000000,99000000,821000000,645000000,578000000,145000000,683000000,833000000,461000000,292000000,1052000000,1024000000,641000000,-1704000000,-1627000000,-1897000000,-1357000000]},\"selected\":{\"id\":\"81323\"},\"selection_policy\":{\"id\":\"81341\"}},\"id\":\"81322\",\"type\":\"ColumnDataSource\"},{\"attributes\":{\"source\":{\"id\":\"78252\"}},\"id\":\"78259\",\"type\":\"CDSView\"},{\"attributes\":{\"bottom_units\":\"screen\",\"fill_alpha\":0.5,\"fill_color\":\"lightgrey\",\"left_units\":\"screen\",\"level\":\"overlay\",\"line_alpha\":1.0,\"line_color\":\"black\",\"line_dash\":[4,4],\"line_width\":2,\"right_units\":\"screen\",\"syncable\":false,\"top_units\":\"screen\"},\"id\":\"79348\",\"type\":\"BoxAnnotation\"},{\"attributes\":{},\"id\":\"81995\",\"type\":\"UnionRenderers\"},{\"attributes\":{\"line_color\":\"#fc4f30\",\"line_width\":2,\"x\":{\"field\":\"Year\"},\"y\":{\"field\":\"value\"}},\"id\":\"80850\",\"type\":\"Line\"},{\"attributes\":{\"line_color\":\"#30a2da\",\"line_width\":2,\"x\":{\"field\":\"Report Date\"},\"y\":{\"field\":\"value\"}},\"id\":\"82450\",\"type\":\"Line\"},{\"attributes\":{},\"id\":\"80523\",\"type\":\"AllLabels\"},{\"attributes\":{\"label\":{\"value\":\"United Airlines Total\"},\"renderers\":[{\"id\":\"80857\"}]},\"id\":\"80873\",\"type\":\"LegendItem\"},{\"attributes\":{},\"id\":\"80537\",\"type\":\"CategoricalScale\"},{\"attributes\":{},\"id\":\"80526\",\"type\":\"AllLabels\"},{\"attributes\":{},\"id\":\"80852\",\"type\":\"Selection\"},{\"attributes\":{},\"id\":\"80542\",\"type\":\"CategoricalTicker\"},{\"attributes\":{\"data\":{\"customdata\":[{\"__ndarray__\":\"ZmZmZiT3HkEzMzMzM3XwQJqZmZk4iiFBZmZmZhBUHEEAAAAAiHz4QDMzMzOZOSFBZmZmZvRTIkEAAAAAGJD7QGZmZmb3xSVBZmZmZhBUHEEAAAAAiHz4QDMzMzOZOSFBZmZmZiT3HkEzMzMzM3XwQJqZmZk4iiFBZmZmZvRTIkEAAAAAGJD7QGZmZmb3xSVBZmZmZiT3HkEzMzMzM3XwQJqZmZk4iiFBZmZmZhBUHEEAAAAAiHz4QDMzMzOZOSFBZmZmZvRTIkEAAAAAGJD7QGZmZmb3xSVB\",\"dtype\":\"float64\",\"order\":\"little\",\"shape\":[9,3]}],\"ids\":[[\"1990/507337.1/67411.2\",\"2010/464132.1/100296.5\",\"2020/600570.2/112897.5\",\"2010/464132.1\",\"1990/507337.1\",\"2020/600570.2\",\"1990\",\"2010\",\"2020\"]],\"labels\":[[\"67411.2\",\"100296.5\",\"112897.5\",\"464132.1\",\"507337.1\",\"600570.2\",\"1990\",\"2010\",\"2020\"]],\"marker.colors\":[{\"__ndarray__\":\"mpmZmTiKIUEzMzMzmTkhQWZmZmb3xSVBMzMzM5k5IUGamZmZOIohQWZmZmb3xSVBmpmZmTiKIUEzMzMzmTkhQWZmZmb3xSVB\",\"dtype\":\"float64\",\"order\":\"little\",\"shape\":[9]}],\"parents\":[[\"1990/507337.1\",\"2010/464132.1\",\"2020/600570.2\",\"2010\",\"1990\",\"2020\",\"\",\"\",\"\"]],\"values\":[{\"__ndarray__\":\"mpmZmTiKIUEzMzMzmTkhQWZmZmb3xSVBMzMzM5k5IUGamZmZOIohQWZmZmb3xSVBmpmZmTiKIUEzMzMzmTkhQWZmZmb3xSVB\",\"dtype\":\"float64\",\"order\":\"little\",\"shape\":[9]}]},\"selected\":{\"id\":\"83349\"},\"selection_policy\":{\"id\":\"83348\"}},\"id\":\"81001\",\"type\":\"ColumnDataSource\"},{\"attributes\":{\"fill_color\":{\"value\":\"Red\"},\"top\":{\"field\":\"TOTAL\"},\"width\":{\"value\":0.8},\"x\":{\"field\":\"Year\"}},\"id\":\"80564\",\"type\":\"VBar\"},{\"attributes\":{\"axis\":{\"id\":\"80541\"},\"grid_line_color\":null,\"ticker\":null},\"id\":\"80543\",\"type\":\"Grid\"},{\"attributes\":{\"data_source\":{\"id\":\"80851\"},\"glyph\":{\"id\":\"80854\"},\"hover_glyph\":null,\"muted_glyph\":{\"id\":\"80856\"},\"nonselection_glyph\":{\"id\":\"80855\"},\"selection_glyph\":{\"id\":\"80874\"},\"view\":{\"id\":\"80858\"}},\"id\":\"80857\",\"type\":\"GlyphRenderer\"},{\"attributes\":{\"line_alpha\":0.1,\"line_color\":\"#e5ae38\",\"line_width\":2,\"x\":{\"field\":\"Year\"},\"y\":{\"field\":\"value\"}},\"id\":\"80855\",\"type\":\"Line\"},{\"attributes\":{},\"id\":\"80539\",\"type\":\"LinearScale\"},{\"attributes\":{\"axis\":{\"id\":\"80544\"},\"dimension\":1,\"grid_line_color\":null,\"ticker\":null},\"id\":\"80547\",\"type\":\"Grid\"},{\"attributes\":{},\"id\":\"80549\",\"type\":\"PanTool\"},{\"attributes\":{\"children\":[{\"id\":\"81011\"},{\"id\":\"81244\"}],\"margin\":[0,0,0,0],\"name\":\"Row88136\"},\"id\":\"81005\",\"type\":\"Row\"},{\"attributes\":{\"axis_label\":\"Year\",\"formatter\":{\"id\":\"80572\"},\"major_label_policy\":{\"id\":\"80573\"},\"ticker\":{\"id\":\"80542\"}},\"id\":\"80541\",\"type\":\"CategoricalAxis\"},{\"attributes\":{\"line_color\":\"#e5ae38\",\"line_width\":2,\"x\":{\"field\":\"Year\"},\"y\":{\"field\":\"value\"}},\"id\":\"80854\",\"type\":\"Line\"},{\"attributes\":{\"factors\":[\"2011-09-30\",\"2011-12-31\",\"2012-03-31\",\"2012-06-30\",\"2012-12-31\",\"2013-06-30\",\"2013-12-31\",\"2014-03-31\",\"2014-06-30\",\"2014-09-30\",\"2014-12-31\",\"2015-03-31\",\"2015-06-30\",\"2015-09-30\",\"2015-12-31\",\"2016-03-31\",\"2016-06-30\",\"2016-09-30\",\"2016-12-31\",\"2017-03-31\",\"2017-06-30\",\"2017-09-30\",\"2017-12-31\",\"2018-03-31\",\"2018-06-30\",\"2018-09-30\",\"2018-12-31\",\"2019-03-31\",\"2019-06-30\",\"2019-09-30\",\"2019-12-31\",\"2020-03-31\",\"2020-06-29\",\"2020-12-30\",\"2021-03-30\"],\"tags\":[[[\"Report Date\",\"Report Date\",null]]]},\"id\":\"82407\",\"type\":\"FactorRange\"},{\"attributes\":{\"line_alpha\":0.2,\"line_color\":\"#e5ae38\",\"line_width\":2,\"x\":{\"field\":\"Year\"},\"y\":{\"field\":\"value\"}},\"id\":\"80856\",\"type\":\"Line\"},{\"attributes\":{\"axis_label\":\"(passenger-miles as a proportion of available seat-miles in percent (%))\",\"formatter\":{\"id\":\"80570\"},\"major_label_policy\":{\"id\":\"80576\"},\"ticker\":{\"id\":\"80545\"}},\"id\":\"80544\",\"type\":\"LinearAxis\"},{\"attributes\":{\"end\":1.045264477828111,\"reset_end\":1.045264477828111,\"reset_start\":-2.7589244583766788,\"start\":-2.7589244583766788,\"tags\":[[[\"value\",\"value\",null]]]},\"id\":\"82408\",\"type\":\"Range1d\"},{\"attributes\":{},\"id\":\"80545\",\"type\":\"BasicTicker\"},{\"attributes\":{},\"id\":\"82419\",\"type\":\"LinearScale\"},{\"attributes\":{},\"id\":\"80550\",\"type\":\"WheelZoomTool\"},{\"attributes\":{\"source\":{\"id\":\"80851\"}},\"id\":\"80858\",\"type\":\"CDSView\"},{\"attributes\":{\"data\":{\"Report Date\":[\"2011-09-30\",\"2011-12-31\",\"2012-03-31\",\"2012-06-30\",\"2012-12-31\",\"2013-06-30\",\"2013-12-31\",\"2014-03-31\",\"2014-06-30\",\"2014-09-30\",\"2014-12-31\",\"2015-03-31\",\"2015-06-30\",\"2015-09-30\",\"2015-12-31\",\"2016-03-31\",\"2016-06-30\",\"2016-09-30\",\"2016-12-31\",\"2017-03-31\",\"2017-06-30\",\"2017-09-30\",\"2017-12-31\",\"2018-03-31\",\"2018-06-30\",\"2018-09-30\",\"2018-12-31\",\"2019-03-31\",\"2019-06-30\",\"2019-09-30\",\"2019-12-31\",\"2020-03-31\",\"2020-06-29\",\"2020-12-30\",\"2021-03-30\"],\"Report_Date\":[\"2011-09-30\",\"2011-12-31\",\"2012-03-31\",\"2012-06-30\",\"2012-12-31\",\"2013-06-30\",\"2013-12-31\",\"2014-03-31\",\"2014-06-30\",\"2014-09-30\",\"2014-12-31\",\"2015-03-31\",\"2015-06-30\",\"2015-09-30\",\"2015-12-31\",\"2016-03-31\",\"2016-06-30\",\"2016-09-30\",\"2016-12-31\",\"2017-03-31\",\"2017-06-30\",\"2017-09-30\",\"2017-12-31\",\"2018-03-31\",\"2018-06-30\",\"2018-09-30\",\"2018-12-31\",\"2019-03-31\",\"2019-06-30\",\"2019-09-30\",\"2019-12-31\",\"2020-03-31\",\"2020-06-29\",\"2020-12-30\",\"2021-03-30\"],\"Variable\":[\"LUV Stock Price\",\"LUV Stock Price\",\"LUV Stock Price\",\"LUV Stock Price\",\"LUV Stock Price\",\"LUV Stock Price\",\"LUV Stock Price\",\"LUV Stock Price\",\"LUV Stock Price\",\"LUV Stock Price\",\"LUV Stock Price\",\"LUV Stock Price\",\"LUV Stock Price\",\"LUV Stock Price\",\"LUV Stock Price\",\"LUV Stock Price\",\"LUV Stock Price\",\"LUV Stock Price\",\"LUV Stock Price\",\"LUV Stock Price\",\"LUV Stock Price\",\"LUV Stock Price\",\"LUV Stock Price\",\"LUV Stock Price\",\"LUV Stock Price\",\"LUV Stock Price\",\"LUV Stock Price\",\"LUV Stock Price\",\"LUV Stock Price\",\"LUV Stock Price\",\"LUV Stock Price\",\"LUV Stock Price\",\"LUV Stock Price\",\"LUV Stock Price\",\"LUV Stock Price\"],\"value\":{\"__ndarray__\":\"wh9v/Twblr8j8Vp5FKKWP+SmOta1R4w/DBERERERoT/oW7cLvCOHP92NOoXD6aA/IJEYCJeXnT+LkYwe2aWVP9ZUVxkqra8/ZbXjcKSspj/l5V3No7ecP9B4+YdVzbA/oy4cgp++tT9slGEsr3S1PzcP+xgHprI/spIP7w2FsT8F9UrGLte6P77f2uDcr6g/w0NkRie5rz8TY6L5ECilP5/8d0l4TLY/Q00/1PRDrT8Q0vEl80PJPzRa27oBpag/nFR4+TrFsj/bZC5QdAOvP9N8F9j//bA/BfobrsM8pD8gs4HhhxWzP43Dd07U/LA/ToHfC+O2qj8dciQ8pDaFvz3GdPGKiLW/IUbgODkwur+9ms1lYCCKPw==\",\"dtype\":\"float64\",\"order\":\"little\",\"shape\":[35]}},\"selected\":{\"id\":\"82469\"},\"selection_policy\":{\"id\":\"82485\"}},\"id\":\"82468\",\"type\":\"ColumnDataSource\"},{\"attributes\":{\"callback\":null,\"renderers\":[{\"id\":\"82453\"},{\"id\":\"82474\"},{\"id\":\"82496\"}],\"tags\":[\"hv_created\"],\"tooltips\":[[\"Variable\",\"@{Variable}\"],[\"Report Date\",\"@{Report_Date}\"],[\"value\",\"@{value}\"]]},\"id\":\"82409\",\"type\":\"HoverTool\"},{\"attributes\":{},\"id\":\"80548\",\"type\":\"SaveTool\"},{\"attributes\":{\"overlay\":{\"id\":\"80553\"}},\"id\":\"80551\",\"type\":\"BoxZoomTool\"},{\"attributes\":{\"below\":[{\"id\":\"82421\"}],\"center\":[{\"id\":\"82423\"},{\"id\":\"82427\"}],\"left\":[{\"id\":\"82424\"}],\"margin\":[5,5,5,5],\"min_border_bottom\":10,\"min_border_left\":10,\"min_border_right\":10,\"min_border_top\":10,\"renderers\":[{\"id\":\"82453\"},{\"id\":\"82474\"},{\"id\":\"82496\"}],\"right\":[{\"id\":\"82465\"}],\"sizing_mode\":\"fixed\",\"title\":{\"id\":\"82413\"},\"toolbar\":{\"id\":\"82434\"},\"width\":900,\"x_range\":{\"id\":\"82407\"},\"x_scale\":{\"id\":\"82417\"},\"y_range\":{\"id\":\"82408\"},\"y_scale\":{\"id\":\"82419\"}},\"id\":\"82412\",\"subtype\":\"Figure\",\"type\":\"Plot\"},{\"attributes\":{},\"id\":\"80870\",\"type\":\"UnionRenderers\"},{\"attributes\":{},\"id\":\"80552\",\"type\":\"ResetTool\"},{\"attributes\":{\"below\":[{\"id\":\"80491\"}],\"center\":[{\"id\":\"80493\"},{\"id\":\"80497\"}],\"height\":500,\"left\":[{\"id\":\"80494\"}],\"margin\":null,\"min_border_bottom\":10,\"min_border_left\":10,\"min_border_right\":10,\"min_border_top\":10,\"renderers\":[{\"id\":\"80517\"}],\"sizing_mode\":\"fixed\",\"title\":{\"id\":\"80483\"},\"toolbar\":{\"id\":\"80504\"},\"toolbar_location\":null,\"width\":900,\"x_range\":{\"id\":\"80479\"},\"x_scale\":{\"id\":\"80487\"},\"y_range\":{\"id\":\"80480\"},\"y_scale\":{\"id\":\"80489\"}},\"id\":\"80482\",\"subtype\":\"Figure\",\"type\":\"Plot\"},{\"attributes\":{\"data\":{\"Report Date\":[\"2011-09-30\",\"2011-12-31\",\"2012-03-31\",\"2012-06-30\",\"2012-12-31\",\"2013-06-30\",\"2013-12-31\",\"2014-03-31\",\"2014-06-30\",\"2014-09-30\",\"2014-12-31\",\"2015-03-31\",\"2015-06-30\",\"2015-09-30\",\"2015-12-31\",\"2016-03-31\",\"2016-06-30\",\"2016-09-30\",\"2016-12-31\",\"2017-03-31\",\"2017-06-30\",\"2017-09-30\",\"2017-12-31\",\"2018-03-31\",\"2018-06-30\",\"2018-09-30\",\"2018-12-31\",\"2019-03-31\",\"2019-06-30\",\"2019-09-30\",\"2019-12-31\",\"2020-03-31\",\"2020-06-29\",\"2020-12-30\",\"2021-03-30\"],\"Report_Date\":[\"2011-09-30\",\"2011-12-31\",\"2012-03-31\",\"2012-06-30\",\"2012-12-31\",\"2013-06-30\",\"2013-12-31\",\"2014-03-31\",\"2014-06-30\",\"2014-09-30\",\"2014-12-31\",\"2015-03-31\",\"2015-06-30\",\"2015-09-30\",\"2015-12-31\",\"2016-03-31\",\"2016-06-30\",\"2016-09-30\",\"2016-12-31\",\"2017-03-31\",\"2017-06-30\",\"2017-09-30\",\"2017-12-31\",\"2018-03-31\",\"2018-06-30\",\"2018-09-30\",\"2018-12-31\",\"2019-03-31\",\"2019-06-30\",\"2019-09-30\",\"2019-12-31\",\"2020-03-31\",\"2020-06-29\",\"2020-12-30\",\"2021-03-30\"],\"Variable\":[\"DAL ROE\",\"DAL ROE\",\"DAL ROE\",\"DAL ROE\",\"DAL ROE\",\"DAL ROE\",\"DAL ROE\",\"DAL ROE\",\"DAL ROE\",\"DAL ROE\",\"DAL ROE\",\"DAL ROE\",\"DAL ROE\",\"DAL ROE\",\"DAL ROE\",\"DAL ROE\",\"DAL ROE\",\"DAL ROE\",\"DAL ROE\",\"DAL ROE\",\"DAL ROE\",\"DAL ROE\",\"DAL ROE\",\"DAL ROE\",\"DAL ROE\",\"DAL ROE\",\"DAL ROE\",\"DAL ROE\",\"DAL ROE\",\"DAL ROE\",\"DAL ROE\",\"DAL ROE\",\"DAL ROE\",\"DAL ROE\",\"DAL ROE\"],\"value\":{\"__ndarray__\":\"pCiVtLvA3D9m+Zwy93vTv9UH26ULZr+/e4oGzT3ywj/dWmnBshBnvzeYIp91g+K/VqyGSdBN5z+riB2JjbySPxyeqrHBzbA/DacVfgu7nT9wX5L1oq60v+opUTKVHLU/saG4XWngwz/osnIdSkXAPxkX9nFhH7c/zgYZsd6FtT+F0+E3h8HAP1BsZ2+Cw7k/ondv5jTrqT+jh4M1jtmnP6+TYCUwP7c/g5TVD/6JtT+OkqWMfl+nP0jH1bKsTaY/pgrb1yNptD/wvdn/UIK4P8HtaBpkqLM/sWmU7e7yrD9SkEv8Nne6PyHFrRVHZrk/c3SlY61Rsj90ZzWLfxujvyR8LdxfDeW/kbIXR9V/379wB4lvB4kDwA==\",\"dtype\":\"float64\",\"order\":\"little\",\"shape\":[35]}},\"selected\":{\"id\":\"82448\"},\"selection_policy\":{\"id\":\"82462\"}},\"id\":\"82447\",\"type\":\"ColumnDataSource\"},{\"attributes\":{},\"id\":\"82024\",\"type\":\"Selection\"},{\"attributes\":{},\"id\":\"82417\",\"type\":\"CategoricalScale\"},{\"attributes\":{\"text\":\"Quarterly ROE from 2011 to 2021\",\"text_color\":\"black\",\"text_font_size\":\"12pt\"},\"id\":\"82413\",\"type\":\"Title\"},{\"attributes\":{\"line_color\":\"#30a2da\",\"line_width\":2,\"x\":{\"field\":\"Report Date\"},\"y\":{\"field\":\"value\"}},\"id\":\"82000\",\"type\":\"Line\"},{\"attributes\":{},\"id\":\"82425\",\"type\":\"BasicTicker\"},{\"attributes\":{\"line_alpha\":0.1,\"line_color\":\"#fc4f30\",\"line_width\":2,\"x\":{\"field\":\"Report Date\"},\"y\":{\"field\":\"value\"}},\"id\":\"82005\",\"type\":\"Line\"},{\"attributes\":{},\"id\":\"82422\",\"type\":\"CategoricalTicker\"},{\"attributes\":{\"fill_alpha\":{\"value\":0.2},\"fill_color\":{\"value\":\"Red\"},\"line_alpha\":{\"value\":0.2},\"top\":{\"field\":\"TOTAL\"},\"width\":{\"value\":0.8},\"x\":{\"field\":\"Year\"}},\"id\":\"80566\",\"type\":\"VBar\"},{\"attributes\":{\"data_source\":{\"id\":\"82001\"},\"glyph\":{\"id\":\"82004\"},\"hover_glyph\":null,\"muted_glyph\":{\"id\":\"82006\"},\"nonselection_glyph\":{\"id\":\"82005\"},\"selection_glyph\":{\"id\":\"82022\"},\"view\":{\"id\":\"82008\"}},\"id\":\"82007\",\"type\":\"GlyphRenderer\"},{\"attributes\":{\"axis_label\":\"Report Date\",\"formatter\":{\"id\":\"82442\"},\"major_label_orientation\":1.5707963267948966,\"major_label_policy\":{\"id\":\"82443\"},\"ticker\":{\"id\":\"82422\"}},\"id\":\"82421\",\"type\":\"CategoricalAxis\"},{\"attributes\":{\"toolbar\":{\"id\":\"80600\"},\"toolbar_location\":\"above\"},\"id\":\"80601\",\"type\":\"ToolbarBox\"},{\"attributes\":{},\"id\":\"80562\",\"type\":\"Selection\"},{\"attributes\":{\"axis\":{\"id\":\"82421\"},\"grid_line_color\":null,\"ticker\":null},\"id\":\"82423\",\"type\":\"Grid\"},{\"attributes\":{\"axis_label\":\"\",\"formatter\":{\"id\":\"82445\"},\"major_label_policy\":{\"id\":\"82446\"},\"ticker\":{\"id\":\"82425\"}},\"id\":\"82424\",\"type\":\"LinearAxis\"},{\"attributes\":{},\"id\":\"82002\",\"type\":\"Selection\"},{\"attributes\":{},\"id\":\"82430\",\"type\":\"WheelZoomTool\"},{\"attributes\":{\"bottom_units\":\"screen\",\"fill_alpha\":0.5,\"fill_color\":\"lightgrey\",\"left_units\":\"screen\",\"level\":\"overlay\",\"line_alpha\":1.0,\"line_color\":\"black\",\"line_dash\":[4,4],\"line_width\":2,\"right_units\":\"screen\",\"syncable\":false,\"top_units\":\"screen\"},\"id\":\"80553\",\"type\":\"BoxAnnotation\"},{\"attributes\":{},\"id\":\"82429\",\"type\":\"PanTool\"},{\"attributes\":{\"label\":{\"value\":\"LUV Operating Margin\"},\"renderers\":[{\"id\":\"82007\"}]},\"id\":\"82021\",\"type\":\"LegendItem\"},{\"attributes\":{\"fill_alpha\":{\"value\":0.1},\"fill_color\":{\"value\":\"Red\"},\"line_alpha\":{\"value\":0.1},\"top\":{\"field\":\"TOTAL\"},\"width\":{\"value\":0.8},\"x\":{\"field\":\"Year\"}},\"id\":\"80565\",\"type\":\"VBar\"},{\"attributes\":{\"axis\":{\"id\":\"82424\"},\"dimension\":1,\"grid_line_color\":null,\"ticker\":null},\"id\":\"82427\",\"type\":\"Grid\"},{\"attributes\":{\"line_color\":\"#fc4f30\",\"line_width\":2,\"x\":{\"field\":\"Report Date\"},\"y\":{\"field\":\"value\"}},\"id\":\"82004\",\"type\":\"Line\"},{\"attributes\":{},\"id\":\"82428\",\"type\":\"SaveTool\"},{\"attributes\":{\"overlay\":{\"id\":\"82433\"}},\"id\":\"82431\",\"type\":\"BoxZoomTool\"},{\"attributes\":{\"source\":{\"id\":\"82001\"}},\"id\":\"82008\",\"type\":\"CDSView\"},{\"attributes\":{\"line_color\":\"#e5ae38\",\"line_width\":2,\"x\":{\"field\":\"Year\"},\"y\":{\"field\":\"value\"}},\"id\":\"80874\",\"type\":\"Line\"},{\"attributes\":{},\"id\":\"82432\",\"type\":\"ResetTool\"},{\"attributes\":{\"line_alpha\":0.2,\"line_color\":\"#fc4f30\",\"line_width\":2,\"x\":{\"field\":\"Report Date\"},\"y\":{\"field\":\"value\"}},\"id\":\"82006\",\"type\":\"Line\"},{\"attributes\":{\"active_multi\":null,\"tools\":[{\"id\":\"80531\"},{\"id\":\"80548\"},{\"id\":\"80549\"},{\"id\":\"80550\"},{\"id\":\"80551\"},{\"id\":\"80552\"}]},\"id\":\"80554\",\"type\":\"Toolbar\"},{\"attributes\":{\"active_multi\":null,\"tools\":[{\"id\":\"82409\"},{\"id\":\"82428\"},{\"id\":\"82429\"},{\"id\":\"82430\"},{\"id\":\"82431\"},{\"id\":\"82432\"}]},\"id\":\"82434\",\"type\":\"Toolbar\"},{\"attributes\":{\"factors\":[\"2002\",\"2003\",\"2004\",\"2005\",\"2006\",\"2007\",\"2008\",\"2009\",\"2010\",\"2011\",\"2012\",\"2013\",\"2014\",\"2015\",\"2016\",\"2017\",\"2018\",\"2019\",\"2020\",\"2021\"],\"tags\":[[[\"Year\",\"Year\",null]]]},\"id\":\"80479\",\"type\":\"FactorRange\"},{\"attributes\":{\"source\":{\"id\":\"82447\"}},\"id\":\"82454\",\"type\":\"CDSView\"},{\"attributes\":{\"click_policy\":\"mute\",\"items\":[{\"id\":\"82466\"},{\"id\":\"82488\"},{\"id\":\"82512\"}],\"location\":[0,0],\"title\":\"Variable\"},\"id\":\"82465\",\"type\":\"Legend\"},{\"attributes\":{},\"id\":\"82018\",\"type\":\"UnionRenderers\"},{\"attributes\":{\"label\":{\"value\":\"DAL ROE\"},\"renderers\":[{\"id\":\"82453\"}]},\"id\":\"82466\",\"type\":\"LegendItem\"},{\"attributes\":{\"child\":{\"id\":\"81004\"},\"name\":\"Column88192\",\"title\":\"Fundamental Data\"},\"id\":\"83340\",\"type\":\"Panel\"},{\"attributes\":{\"text\":\"Southwest Airlines Load Factor - All Airports\",\"text_color\":\"black\",\"text_font_size\":\"12pt\"},\"id\":\"80483\",\"type\":\"Title\"},{\"attributes\":{\"data_source\":{\"id\":\"82447\"},\"glyph\":{\"id\":\"82450\"},\"hover_glyph\":null,\"muted_glyph\":{\"id\":\"82452\"},\"nonselection_glyph\":{\"id\":\"82451\"},\"selection_glyph\":{\"id\":\"82467\"},\"view\":{\"id\":\"82454\"}},\"id\":\"82453\",\"type\":\"GlyphRenderer\"},{\"attributes\":{\"child\":{\"id\":\"80766\"},\"name\":\"Row88297\",\"title\":\"Airline Employment Data\"},\"id\":\"81003\",\"type\":\"Panel\"},{\"attributes\":{\"line_alpha\":0.2,\"line_color\":\"#30a2da\",\"line_width\":2,\"x\":{\"field\":\"Report Date\"},\"y\":{\"field\":\"value\"}},\"id\":\"82452\",\"type\":\"Line\"},{\"attributes\":{},\"id\":\"80492\",\"type\":\"CategoricalTicker\"},{\"attributes\":{\"line_alpha\":0.1,\"line_color\":\"#30a2da\",\"line_width\":2,\"x\":{\"field\":\"Report Date\"},\"y\":{\"field\":\"value\"}},\"id\":\"82451\",\"type\":\"Line\"},{\"attributes\":{\"children\":[{\"id\":\"81478\"},{\"id\":\"81711\"}],\"margin\":[0,0,0,0],\"name\":\"Row88147\"},\"id\":\"81472\",\"type\":\"Row\"},{\"attributes\":{},\"id\":\"80489\",\"type\":\"LinearScale\"},{\"attributes\":{\"data\":{\"Report Date\":[\"2011-06-30\",\"2011-09-30\",\"2011-12-31\",\"2012-03-31\",\"2012-06-30\",\"2012-09-30\",\"2012-12-31\",\"2013-03-31\",\"2013-06-30\",\"2013-09-30\",\"2013-12-31\",\"2014-03-31\",\"2014-06-30\",\"2014-09-30\",\"2014-12-31\",\"2015-03-31\",\"2015-06-30\",\"2015-09-30\",\"2015-12-31\",\"2016-03-31\",\"2016-06-30\",\"2016-09-30\",\"2016-12-31\",\"2017-03-31\",\"2017-06-30\",\"2017-09-30\",\"2017-12-31\",\"2018-03-31\",\"2018-06-30\",\"2018-09-30\",\"2018-12-31\",\"2019-03-31\",\"2019-06-30\",\"2019-09-30\",\"2019-12-31\",\"2020-03-31\",\"2020-06-29\",\"2020-12-30\",\"2021-03-30\"],\"Report_Date\":[\"2011-06-30\",\"2011-09-30\",\"2011-12-31\",\"2012-03-31\",\"2012-06-30\",\"2012-09-30\",\"2012-12-31\",\"2013-03-31\",\"2013-06-30\",\"2013-09-30\",\"2013-12-31\",\"2014-03-31\",\"2014-06-30\",\"2014-09-30\",\"2014-12-31\",\"2015-03-31\",\"2015-06-30\",\"2015-09-30\",\"2015-12-31\",\"2016-03-31\",\"2016-06-30\",\"2016-09-30\",\"2016-12-31\",\"2017-03-31\",\"2017-06-30\",\"2017-09-30\",\"2017-12-31\",\"2018-03-31\",\"2018-06-30\",\"2018-09-30\",\"2018-12-31\",\"2019-03-31\",\"2019-06-30\",\"2019-09-30\",\"2019-12-31\",\"2020-03-31\",\"2020-06-29\",\"2020-12-30\",\"2021-03-30\"],\"Variable\":[\"DAL Revenue\",\"DAL Revenue\",\"DAL Revenue\",\"DAL Revenue\",\"DAL Revenue\",\"DAL Revenue\",\"DAL Revenue\",\"DAL Revenue\",\"DAL Revenue\",\"DAL Revenue\",\"DAL Revenue\",\"DAL Revenue\",\"DAL Revenue\",\"DAL Revenue\",\"DAL Revenue\",\"DAL Revenue\",\"DAL Revenue\",\"DAL Revenue\",\"DAL Revenue\",\"DAL Revenue\",\"DAL Revenue\",\"DAL Revenue\",\"DAL Revenue\",\"DAL Revenue\",\"DAL Revenue\",\"DAL Revenue\",\"DAL Revenue\",\"DAL Revenue\",\"DAL Revenue\",\"DAL Revenue\",\"DAL Revenue\",\"DAL Revenue\",\"DAL Revenue\",\"DAL Revenue\",\"DAL Revenue\",\"DAL Revenue\",\"DAL Revenue\",\"DAL Revenue\",\"DAL Revenue\"],\"value\":{\"__ndarray__\":\"AAAAkn0MAUIAAAAwokgCQgAAABzpSf9BAAAAFENX/0EAAABIlCACQgAAALanewJCAAAA1MAFAEIAAABQO6r/QQAAAIaoFAJCAAAAlAWKA0IAAAAoxucAQgAAAOh6mwBCAAAAynzIA0IAAAD0FdIEQgAAAE4M+AFCAAAAGIx8AUIAAADWfvEDQgAAAPY6sARCAAAAHOiyAUIAAAB2ODsBQgAAAI6EdQNCAAAAFq+GA0IAAAAE7Z0BQgAAADgbCgFCAAAAvowZBEIAAACo0ZkEQgAAAFoyFQNCAAAA4ByRAkIAAADuwe4FQgAAAHKiQwZCAAAATC8CBEIAAABQcIEDQgAAAHChWQdCAAAAIBNlB0IAAABOik4FQgAAACD8AABCAAAAwPnf1UEAAABo5ZntQQAAADB/6+5B\",\"dtype\":\"float64\",\"order\":\"little\",\"shape\":[39]}},\"selected\":{\"id\":\"81047\"},\"selection_policy\":{\"id\":\"81061\"}},\"id\":\"81046\",\"type\":\"ColumnDataSource\"},{\"attributes\":{\"bottom_units\":\"screen\",\"fill_alpha\":0.5,\"fill_color\":\"lightgrey\",\"left_units\":\"screen\",\"level\":\"overlay\",\"line_alpha\":1.0,\"line_color\":\"black\",\"line_dash\":[4,4],\"line_width\":2,\"right_units\":\"screen\",\"syncable\":false,\"top_units\":\"screen\"},\"id\":\"82433\",\"type\":\"BoxAnnotation\"},{\"attributes\":{\"callback\":null,\"renderers\":[{\"id\":\"80517\"}],\"tags\":[\"hv_created\"],\"tooltips\":[[\"Year\",\"@{Year}\"],[\"TOTAL\",\"@{TOTAL}\"]]},\"id\":\"80481\",\"type\":\"HoverTool\"},{\"attributes\":{\"end\":87.19200000000001,\"reset_end\":87.19200000000001,\"reset_start\":0.0,\"tags\":[[[\"TOTAL\",\"TOTAL\",null]]]},\"id\":\"80480\",\"type\":\"Range1d\"},{\"attributes\":{\"source\":{\"id\":\"80561\"}},\"id\":\"80568\",\"type\":\"CDSView\"},{\"attributes\":{},\"id\":\"80487\",\"type\":\"CategoricalScale\"},{\"attributes\":{\"data_source\":{\"id\":\"80561\"},\"glyph\":{\"id\":\"80564\"},\"hover_glyph\":null,\"muted_glyph\":{\"id\":\"80566\"},\"nonselection_glyph\":{\"id\":\"80565\"},\"selection_glyph\":{\"id\":\"80569\"},\"view\":{\"id\":\"80568\"}},\"id\":\"80567\",\"type\":\"GlyphRenderer\"},{\"attributes\":{\"data\":{\"TOTAL\":{\"__ndarray__\":\"uB6F61F4UEBSuB6F67FQQI/C9ShcX1FAXI/C9SisUUAzMzMzM0NSQIXrUbgeJVJACtejcD3KUUCuR+F6FP5SQMP1KFyP0lNA4XoUrkcxVEBcj8L1KBxUQNejcD0KB1RA4XoUrkehVEBI4XoUrudUQFK4HoXrAVVAmpmZmZn5VEDsUbgehdtUQOF6FK5H4VRAFK5H4Xo0SkDsUbgehRtQQA==\",\"dtype\":\"float64\",\"order\":\"little\",\"shape\":[20]},\"Year\":[\"2002\",\"2003\",\"2004\",\"2005\",\"2006\",\"2007\",\"2008\",\"2009\",\"2010\",\"2011\",\"2012\",\"2013\",\"2014\",\"2015\",\"2016\",\"2017\",\"2018\",\"2019\",\"2020\",\"2021\"]},\"selected\":{\"id\":\"80512\"},\"selection_policy\":{\"id\":\"80585\"}},\"id\":\"80511\",\"type\":\"ColumnDataSource\"},{\"attributes\":{\"axis_label\":\"Year\",\"formatter\":{\"id\":\"80522\"},\"major_label_policy\":{\"id\":\"80523\"},\"ticker\":{\"id\":\"80492\"}},\"id\":\"80491\",\"type\":\"CategoricalAxis\"},{\"attributes\":{\"data\":{\"Variable\":[\"Southwest Airlines Total\",\"Southwest Airlines Total\",\"Southwest Airlines Total\",\"Southwest Airlines Total\",\"Southwest Airlines Total\",\"Southwest Airlines Total\",\"Southwest Airlines Total\",\"Southwest Airlines Total\",\"Southwest Airlines Total\",\"Southwest Airlines Total\",\"Southwest Airlines Total\",\"Southwest Airlines Total\",\"Southwest Airlines Total\",\"Southwest Airlines Total\",\"Southwest Airlines Total\",\"Southwest Airlines Total\",\"Southwest Airlines Total\",\"Southwest Airlines Total\",\"Southwest Airlines Total\",\"Southwest Airlines Total\",\"Southwest Airlines Total\",\"Southwest Airlines Total\",\"Southwest Airlines Total\",\"Southwest Airlines Total\",\"Southwest Airlines Total\",\"Southwest Airlines Total\",\"Southwest Airlines Total\",\"Southwest Airlines Total\",\"Southwest Airlines Total\",\"Southwest Airlines Total\",\"Southwest Airlines Total\",\"Southwest Airlines Total\"],\"Year\":[1990,1991,1992,1993,1994,1995,1996,1997,1998,1999,2000,2001,2002,2003,2004,2005,2006,2007,2008,2009,2010,2011,2012,2013,2014,2015,2016,2017,2018,2019,2020,2021],\"value\":{\"__ndarray__\":\"AAAAAGApwECrqqqq6hXCQFVVVVW1WcVAVVVVVdWByEAAAAAAgFPNQAAAAADggdJAAAAAALC61UCrqqqqepzXQFRVVVW1hNhAVFVVVXW62kCrqqqqOgDcQFRVVVXlKt5Aq6qqqnpR4EAAAAAAuEzgQFRVVVX17t5AAAAAAJDN3kAAAAAA0GnfQAAAAAAQcuBAVVVVVf0X4UBVVVVVHVDhQAAAAAB4I+FAAAAAAMj24UBUVVVVzd/lQFRVVVWNd+ZAq6qqqtqX5kBUVVVVLdPnQKuqqqqS6+lAVFVVVWVw60AAAAAACM/sQAAAAABY2O1Aq6qqqvKz7UAAAAAAMOTrQA==\",\"dtype\":\"float64\",\"order\":\"little\",\"shape\":[32]}},\"selected\":{\"id\":\"80830\"},\"selection_policy\":{\"id\":\"80846\"}},\"id\":\"80829\",\"type\":\"ColumnDataSource\"},{\"attributes\":{\"axis\":{\"id\":\"80491\"},\"grid_line_color\":null,\"ticker\":null},\"id\":\"80493\",\"type\":\"Grid\"},{\"attributes\":{},\"id\":\"80499\",\"type\":\"PanTool\"},{\"attributes\":{},\"id\":\"80804\",\"type\":\"AllLabels\"},{\"attributes\":{\"label\":{\"value\":\"Delta Airlines Total\"},\"renderers\":[{\"id\":\"80814\"}]},\"id\":\"80827\",\"type\":\"LegendItem\"},{\"attributes\":{\"fill_color\":{\"value\":\"Blue\"},\"top\":{\"field\":\"TOTAL\"},\"width\":{\"value\":0.8},\"x\":{\"field\":\"Year\"}},\"id\":\"80514\",\"type\":\"VBar\"},{\"attributes\":{\"axis_label\":\"(passenger-miles as a proportion of available seat-miles in percent (%)) \",\"formatter\":{\"id\":\"80520\"},\"major_label_policy\":{\"id\":\"80526\"},\"ticker\":{\"id\":\"80495\"}},\"id\":\"80494\",\"type\":\"LinearAxis\"},{\"attributes\":{\"axis\":{\"id\":\"80494\"},\"dimension\":1,\"grid_line_color\":null,\"ticker\":null},\"id\":\"80497\",\"type\":\"Grid\"},{\"attributes\":{},\"id\":\"80495\",\"type\":\"BasicTicker\"},{\"attributes\":{},\"id\":\"80500\",\"type\":\"WheelZoomTool\"},{\"attributes\":{\"text\":\"United Airlines Load Factor - All Airports\",\"text_color\":\"black\",\"text_font_size\":\"12pt\"},\"id\":\"80533\",\"type\":\"Title\"},{\"attributes\":{\"factors\":[\"2011-06-30\",\"2011-09-30\",\"2011-12-31\",\"2012-03-31\",\"2012-06-30\",\"2012-09-30\",\"2012-12-31\",\"2013-03-31\",\"2013-06-30\",\"2013-09-30\",\"2013-12-31\",\"2014-03-31\",\"2014-06-30\",\"2014-09-30\",\"2014-12-31\",\"2015-03-31\",\"2015-06-30\",\"2015-09-30\",\"2015-12-31\",\"2016-03-31\",\"2016-06-30\",\"2016-09-30\",\"2016-12-31\",\"2017-03-31\",\"2017-06-30\",\"2017-09-30\",\"2017-12-31\",\"2018-03-31\",\"2018-06-30\",\"2018-09-30\",\"2018-12-31\",\"2019-03-31\",\"2019-06-30\",\"2019-09-30\",\"2019-12-31\",\"2020-03-31\",\"2020-06-29\",\"2020-12-30\",\"2021-03-30\"],\"tags\":[[[\"Report Date\",\"Report Date\",null]]]},\"id\":\"81473\",\"type\":\"FactorRange\"},{\"attributes\":{},\"id\":\"80803\",\"type\":\"BasicTickFormatter\"},{\"attributes\":{},\"id\":\"80498\",\"type\":\"SaveTool\"},{\"attributes\":{\"overlay\":{\"id\":\"80503\"}},\"id\":\"80501\",\"type\":\"BoxZoomTool\"},{\"attributes\":{},\"id\":\"80502\",\"type\":\"ResetTool\"},{\"attributes\":{\"text\":\"Delta Airlines Load Factor - All Airports\",\"text_color\":\"black\",\"text_font_size\":\"12pt\"},\"id\":\"80246\",\"type\":\"Title\"},{\"attributes\":{\"children\":[{\"id\":\"78458\"},{\"id\":\"78745\"}],\"margin\":[0,0,0,0],\"name\":\"Column88228\"},\"id\":\"78457\",\"type\":\"Column\"},{\"attributes\":{\"children\":[{\"id\":\"80191\"},{\"id\":\"80315\"}],\"margin\":[0,0,0,0],\"name\":\"Row88278\"},\"id\":\"80190\",\"type\":\"Row\"},{\"attributes\":{\"children\":[{\"id\":\"80314\"},{\"id\":\"80312\"}]},\"id\":\"80315\",\"type\":\"Column\"},{\"attributes\":{\"children\":[{\"id\":\"80023\"},{\"id\":\"80021\"}]},\"id\":\"80024\",\"type\":\"Column\"},{\"attributes\":{\"end\":86.68799999999999,\"reset_end\":86.68799999999999,\"reset_start\":0.0,\"tags\":[[[\"TOTAL\",\"TOTAL\",null]]]},\"id\":\"80530\",\"type\":\"Range1d\"},{\"attributes\":{\"children\":[{\"id\":\"78005\"},{\"id\":\"78003\"}]},\"id\":\"78006\",\"type\":\"Column\"},{\"attributes\":{\"below\":[{\"id\":\"80541\"}],\"center\":[{\"id\":\"80543\"},{\"id\":\"80547\"}],\"height\":500,\"left\":[{\"id\":\"80544\"}],\"margin\":null,\"min_border_bottom\":10,\"min_border_left\":10,\"min_border_right\":10,\"min_border_top\":10,\"renderers\":[{\"id\":\"80567\"}],\"sizing_mode\":\"fixed\",\"title\":{\"id\":\"80533\"},\"toolbar\":{\"id\":\"80554\"},\"toolbar_location\":null,\"width\":900,\"x_range\":{\"id\":\"80529\"},\"x_scale\":{\"id\":\"80537\"},\"y_range\":{\"id\":\"80530\"},\"y_scale\":{\"id\":\"80539\"}},\"id\":\"80532\",\"subtype\":\"Figure\",\"type\":\"Plot\"},{\"attributes\":{\"children\":[{\"id\":\"80602\"}],\"margin\":[0,0,0,0],\"name\":\"Row88286\"},\"id\":\"80478\",\"type\":\"Row\"},{\"attributes\":{\"active_multi\":null,\"tools\":[{\"id\":\"80194\"},{\"id\":\"80211\"},{\"id\":\"80212\"},{\"id\":\"80213\"},{\"id\":\"80214\"},{\"id\":\"80215\"}]},\"id\":\"80217\",\"type\":\"Toolbar\"},{\"attributes\":{\"active_multi\":null,\"tools\":[{\"id\":\"80244\"},{\"id\":\"80261\"},{\"id\":\"80262\"},{\"id\":\"80263\"},{\"id\":\"80264\"},{\"id\":\"80265\"}]},\"id\":\"80267\",\"type\":\"Toolbar\"},{\"attributes\":{\"children\":[[{\"id\":\"78173\"},0,0],[{\"id\":\"78223\"},0,1]]},\"id\":\"78290\",\"type\":\"GridBox\"},{\"attributes\":{},\"id\":\"80255\",\"type\":\"CategoricalTicker\"},{\"attributes\":{\"fill_alpha\":{\"value\":0.2},\"fill_color\":{\"value\":\"Blue\"},\"line_alpha\":{\"value\":0.2},\"top\":{\"field\":\"TOTAL\"},\"width\":{\"value\":0.8},\"x\":{\"field\":\"Year\"}},\"id\":\"80516\",\"type\":\"VBar\"},{\"attributes\":{},\"id\":\"80522\",\"type\":\"CategoricalTickFormatter\"},{\"attributes\":{},\"id\":\"80512\",\"type\":\"Selection\"},{\"attributes\":{},\"id\":\"80261\",\"type\":\"SaveTool\"},{\"attributes\":{\"factors\":[\"2002\",\"2003\",\"2004\",\"2005\",\"2006\",\"2007\",\"2008\",\"2009\",\"2010\",\"2011\",\"2012\",\"2013\",\"2014\",\"2015\",\"2016\",\"2017\",\"2018\",\"2019\",\"2020\",\"2021\"],\"tags\":[[[\"Year\",\"Year\",null]]]},\"id\":\"80529\",\"type\":\"FactorRange\"},{\"attributes\":{},\"id\":\"80258\",\"type\":\"BasicTicker\"},{\"attributes\":{\"callback\":null,\"renderers\":[{\"id\":\"80567\"}],\"tags\":[\"hv_created\"],\"tooltips\":[[\"Year\",\"@{Year}\"],[\"TOTAL\",\"@{TOTAL}\"]]},\"id\":\"80531\",\"type\":\"HoverTool\"},{\"attributes\":{},\"id\":\"80263\",\"type\":\"WheelZoomTool\"},{\"attributes\":{},\"id\":\"80807\",\"type\":\"AllLabels\"},{\"attributes\":{\"bottom_units\":\"screen\",\"fill_alpha\":0.5,\"fill_color\":\"lightgrey\",\"left_units\":\"screen\",\"level\":\"overlay\",\"line_alpha\":1.0,\"line_color\":\"black\",\"line_dash\":[4,4],\"line_width\":2,\"right_units\":\"screen\",\"syncable\":false,\"top_units\":\"screen\"},\"id\":\"80503\",\"type\":\"BoxAnnotation\"},{\"attributes\":{\"children\":[{\"id\":\"80772\"},{\"id\":\"81002\"}],\"margin\":[0,0,0,0],\"name\":\"Row88297\"},\"id\":\"80766\",\"type\":\"Row\"},{\"attributes\":{\"click_policy\":\"mute\",\"items\":[{\"id\":\"80827\"},{\"id\":\"80849\"},{\"id\":\"80873\"}],\"location\":[0,0],\"title\":\"Variable\"},\"id\":\"80826\",\"type\":\"Legend\"},{\"attributes\":{\"fill_alpha\":{\"value\":0.1},\"fill_color\":{\"value\":\"Blue\"},\"line_alpha\":{\"value\":0.1},\"top\":{\"field\":\"TOTAL\"},\"width\":{\"value\":0.8},\"x\":{\"field\":\"Year\"}},\"id\":\"80515\",\"type\":\"VBar\"},{\"attributes\":{\"axis_label\":\"(passenger-miles as a proportion of available seat-miles in percent (%))\",\"formatter\":{\"id\":\"80283\"},\"major_label_policy\":{\"id\":\"80289\"},\"ticker\":{\"id\":\"80258\"}},\"id\":\"80257\",\"type\":\"LinearAxis\"},{\"attributes\":{},\"id\":\"80262\",\"type\":\"PanTool\"},{\"attributes\":{},\"id\":\"80806\",\"type\":\"BasicTickFormatter\"},{\"attributes\":{\"axis_label\":\"Year\",\"formatter\":{\"id\":\"80285\"},\"major_label_policy\":{\"id\":\"80286\"},\"ticker\":{\"id\":\"80255\"}},\"id\":\"80254\",\"type\":\"CategoricalAxis\"},{\"attributes\":{\"child\":{\"id\":\"79611\"},\"name\":\"Column88268\",\"title\":\"Seat-Miles\"},\"id\":\"80187\",\"type\":\"Panel\"},{\"attributes\":{},\"id\":\"80252\",\"type\":\"LinearScale\"},{\"attributes\":{},\"id\":\"80215\",\"type\":\"ResetTool\"},{\"attributes\":{\"axis\":{\"id\":\"80257\"},\"dimension\":1,\"grid_line_color\":null,\"ticker\":null},\"id\":\"80260\",\"type\":\"Grid\"},{\"attributes\":{\"overlay\":{\"id\":\"80216\"}},\"id\":\"80214\",\"type\":\"BoxZoomTool\"},{\"attributes\":{\"active_multi\":null,\"tools\":[{\"id\":\"80481\"},{\"id\":\"80498\"},{\"id\":\"80499\"},{\"id\":\"80500\"},{\"id\":\"80501\"},{\"id\":\"80502\"}]},\"id\":\"80504\",\"type\":\"Toolbar\"},{\"attributes\":{\"axis\":{\"id\":\"80254\"},\"grid_line_color\":null,\"ticker\":null},\"id\":\"80256\",\"type\":\"Grid\"},{\"attributes\":{},\"id\":\"80211\",\"type\":\"SaveTool\"},{\"attributes\":{\"below\":[{\"id\":\"80254\"}],\"center\":[{\"id\":\"80256\"},{\"id\":\"80260\"}],\"height\":500,\"left\":[{\"id\":\"80257\"}],\"margin\":null,\"min_border_bottom\":10,\"min_border_left\":10,\"min_border_right\":10,\"min_border_top\":10,\"renderers\":[{\"id\":\"80280\"}],\"sizing_mode\":\"fixed\",\"title\":{\"id\":\"80246\"},\"toolbar\":{\"id\":\"80267\"},\"toolbar_location\":null,\"width\":900,\"x_range\":{\"id\":\"80242\"},\"x_scale\":{\"id\":\"80250\"},\"y_range\":{\"id\":\"80243\"},\"y_scale\":{\"id\":\"80252\"}},\"id\":\"80245\",\"subtype\":\"Figure\",\"type\":\"Plot\"},{\"attributes\":{\"data\":{\"Report Date\":[\"2011-06-30\",\"2011-09-30\",\"2011-12-31\",\"2012-03-31\",\"2012-06-30\",\"2012-09-30\",\"2012-12-31\",\"2013-03-31\",\"2013-06-30\",\"2013-09-30\",\"2013-12-31\",\"2014-03-31\",\"2014-06-30\",\"2014-09-30\",\"2014-12-31\",\"2015-03-31\",\"2015-06-30\",\"2015-09-30\",\"2015-12-31\",\"2016-03-31\",\"2016-06-30\",\"2016-09-30\",\"2016-12-31\",\"2017-03-31\",\"2017-06-30\",\"2017-09-30\",\"2017-12-31\",\"2018-03-31\",\"2018-06-30\",\"2018-09-30\",\"2018-12-31\",\"2019-03-31\",\"2019-06-30\",\"2019-09-30\",\"2019-12-31\",\"2020-03-31\",\"2020-06-29\",\"2020-12-30\",\"2021-03-30\"],\"Report_Date\":[\"2011-06-30\",\"2011-09-30\",\"2011-12-31\",\"2012-03-31\",\"2012-06-30\",\"2012-09-30\",\"2012-12-31\",\"2013-03-31\",\"2013-06-30\",\"2013-09-30\",\"2013-12-31\",\"2014-03-31\",\"2014-06-30\",\"2014-09-30\",\"2014-12-31\",\"2015-03-31\",\"2015-06-30\",\"2015-09-30\",\"2015-12-31\",\"2016-03-31\",\"2016-06-30\",\"2016-09-30\",\"2016-12-31\",\"2017-03-31\",\"2017-06-30\",\"2017-09-30\",\"2017-12-31\",\"2018-03-31\",\"2018-06-30\",\"2018-09-30\",\"2018-12-31\",\"2019-03-31\",\"2019-06-30\",\"2019-09-30\",\"2019-12-31\",\"2020-03-31\",\"2020-06-29\",\"2020-12-30\",\"2021-03-30\"],\"Variable\":[\"UAL Gross Profit Margin\",\"UAL Gross Profit Margin\",\"UAL Gross Profit Margin\",\"UAL Gross Profit Margin\",\"UAL Gross Profit Margin\",\"UAL Gross Profit Margin\",\"UAL Gross Profit Margin\",\"UAL Gross Profit Margin\",\"UAL Gross Profit Margin\",\"UAL Gross Profit Margin\",\"UAL Gross Profit Margin\",\"UAL Gross Profit Margin\",\"UAL Gross Profit Margin\",\"UAL Gross Profit Margin\",\"UAL Gross Profit Margin\",\"UAL Gross Profit Margin\",\"UAL Gross Profit Margin\",\"UAL Gross Profit Margin\",\"UAL Gross Profit Margin\",\"UAL Gross Profit Margin\",\"UAL Gross Profit Margin\",\"UAL Gross Profit Margin\",\"UAL Gross Profit Margin\",\"UAL Gross Profit Margin\",\"UAL Gross Profit Margin\",\"UAL Gross Profit Margin\",\"UAL Gross Profit Margin\",\"UAL Gross Profit Margin\",\"UAL Gross Profit Margin\",\"UAL Gross Profit Margin\",\"UAL Gross Profit Margin\",\"UAL Gross Profit Margin\",\"UAL Gross Profit Margin\",\"UAL Gross Profit Margin\",\"UAL Gross Profit Margin\",\"UAL Gross Profit Margin\",\"UAL Gross Profit Margin\",\"UAL Gross Profit Margin\",\"UAL Gross Profit Margin\"],\"value\":{\"__ndarray__\":\"7SSp//yC1T/xbdAFO5XVPz1Lgl7PktI/9yrmeQDYzz92ONBksgbUP7FiRKXX8dM/j35n39Uz0T8jm6uKzEjQP0pVPBtYrtU/OxlUGFEO1T8CfGm8DtfTPxVY9pbBttA/FHKNvSCv1j/i3844SHTWP6wcDQMxqdU/umcfm5FD1z/yFUPRHPrZP253HGOVIdw/goDm+v4y2j9ZoFGZnHnZP5jK0UdB7ds/uC8IW5Nm3D8oRZeD557aP6DNqM77kNY/XhCQwNE12z9sjF4otenZPxNfXixOrtc/jOnq1A1L1T8XNQ30ji7YP/e16dke1tc/WUhRZ4Jg1z8TuK2h+EPWPxtJVC96U9k/LeZqDG7N2T98DsMDLDbYPxs/c+iZSc4/XbmcE0Wmxj9/AQ+W3J3aPxEy4trG0tQ/\",\"dtype\":\"float64\",\"order\":\"little\",\"shape\":[39]}},\"selected\":{\"id\":\"81557\"},\"selection_policy\":{\"id\":\"81575\"}},\"id\":\"81556\",\"type\":\"ColumnDataSource\"},{\"attributes\":{\"line_alpha\":0.1,\"line_color\":\"#30a2da\",\"line_width\":2,\"x\":{\"field\":\"Year\"},\"y\":{\"field\":\"value\"}},\"id\":\"80812\",\"type\":\"Line\"},{\"attributes\":{\"toolbar\":{\"id\":\"80313\"},\"toolbar_location\":\"above\"},\"id\":\"80314\",\"type\":\"ToolbarBox\"},{\"attributes\":{\"source\":{\"id\":\"80808\"}},\"id\":\"80815\",\"type\":\"CDSView\"},{\"attributes\":{\"end\":90.699,\"reset_end\":90.699,\"reset_start\":0.0,\"tags\":[[[\"TOTAL\",\"TOTAL\",null]]]},\"id\":\"80243\",\"type\":\"Range1d\"},{\"attributes\":{},\"id\":\"80250\",\"type\":\"CategoricalScale\"},{\"attributes\":{\"callback\":null,\"renderers\":[{\"id\":\"80280\"}],\"tags\":[\"hv_created\"],\"tooltips\":[[\"Year\",\"@{Year}\"],[\"TOTAL\",\"@{TOTAL}\"]]},\"id\":\"80244\",\"type\":\"HoverTool\"},{\"attributes\":{\"data_source\":{\"id\":\"80808\"},\"glyph\":{\"id\":\"80811\"},\"hover_glyph\":null,\"muted_glyph\":{\"id\":\"80813\"},\"nonselection_glyph\":{\"id\":\"80812\"},\"selection_glyph\":{\"id\":\"80828\"},\"view\":{\"id\":\"80815\"}},\"id\":\"80814\",\"type\":\"GlyphRenderer\"},{\"attributes\":{\"data\":{\"Report Date\":[\"2011-06-30\",\"2011-09-30\",\"2011-12-31\",\"2012-03-31\",\"2012-06-30\",\"2012-09-30\",\"2012-12-31\",\"2013-03-31\",\"2013-06-30\",\"2013-09-30\",\"2013-12-31\",\"2014-03-31\",\"2014-06-30\",\"2014-09-30\",\"2014-12-31\",\"2015-03-31\",\"2015-06-30\",\"2015-09-30\",\"2015-12-31\",\"2016-03-31\",\"2016-06-30\",\"2016-09-30\",\"2016-12-31\",\"2017-03-31\",\"2017-06-30\",\"2017-09-30\",\"2017-12-31\",\"2018-03-31\",\"2018-06-30\",\"2018-09-30\",\"2018-12-31\",\"2019-03-31\",\"2019-06-30\",\"2019-09-30\",\"2019-12-31\",\"2020-03-31\",\"2020-06-29\",\"2020-12-30\",\"2021-03-30\"],\"Report_Date\":[\"2011-06-30\",\"2011-09-30\",\"2011-12-31\",\"2012-03-31\",\"2012-06-30\",\"2012-09-30\",\"2012-12-31\",\"2013-03-31\",\"2013-06-30\",\"2013-09-30\",\"2013-12-31\",\"2014-03-31\",\"2014-06-30\",\"2014-09-30\",\"2014-12-31\",\"2015-03-31\",\"2015-06-30\",\"2015-09-30\",\"2015-12-31\",\"2016-03-31\",\"2016-06-30\",\"2016-09-30\",\"2016-12-31\",\"2017-03-31\",\"2017-06-30\",\"2017-09-30\",\"2017-12-31\",\"2018-03-31\",\"2018-06-30\",\"2018-09-30\",\"2018-12-31\",\"2019-03-31\",\"2019-06-30\",\"2019-09-30\",\"2019-12-31\",\"2020-03-31\",\"2020-06-29\",\"2020-12-30\",\"2021-03-30\"],\"Variable\":[\"LUV Gross Profit Margin\",\"LUV Gross Profit Margin\",\"LUV Gross Profit Margin\",\"LUV Gross Profit Margin\",\"LUV Gross Profit Margin\",\"LUV Gross Profit Margin\",\"LUV Gross Profit Margin\",\"LUV Gross Profit Margin\",\"LUV Gross Profit Margin\",\"LUV Gross Profit Margin\",\"LUV Gross Profit Margin\",\"LUV Gross Profit Margin\",\"LUV Gross Profit Margin\",\"LUV Gross Profit Margin\",\"LUV Gross Profit Margin\",\"LUV Gross Profit Margin\",\"LUV Gross Profit Margin\",\"LUV Gross Profit Margin\",\"LUV Gross Profit Margin\",\"LUV Gross Profit Margin\",\"LUV Gross Profit Margin\",\"LUV Gross Profit Margin\",\"LUV Gross Profit Margin\",\"LUV Gross Profit Margin\",\"LUV Gross Profit Margin\",\"LUV Gross Profit Margin\",\"LUV Gross Profit Margin\",\"LUV Gross Profit Margin\",\"LUV Gross Profit Margin\",\"LUV Gross Profit Margin\",\"LUV Gross Profit Margin\",\"LUV Gross Profit Margin\",\"LUV Gross Profit Margin\",\"LUV Gross Profit Margin\",\"LUV Gross Profit Margin\",\"LUV Gross Profit Margin\",\"LUV Gross Profit Margin\",\"LUV Gross Profit Margin\",\"LUV Gross Profit Margin\"],\"value\":{\"__ndarray__\":\"t4P+ZnA5zD/pImzV+oDMPxY3YX5Xi8s/TP1lxs1Ixz/eigcvFk7QPwuI1tFkY8s/56ZIyPCJyj+1n3//qeLIP6YBtqm+atA/ZMMzqUR90D9kHB/yz1zRP9frC1VEHM4/ziX0d1wa1D89CtejcD3TP63jfyaqs9Q/R2D+MQ9j1j+Lb9t16c3XP2bePrGlzdg/Pr8aeHGC2D8Oy958owfYP4p163WKFNo//GCnoN3F1D9xM10qtvXWP/l0kccUQdU/2v0PHtU/2T+i0klwyEfWP7IXXNh8oNQ/B/utNoam0z/sUpKhdDzWP0e96riTGdU/40gNg3to1T8jfsP0yQrTP3fr8XDNEtY/8k8pfnNw1T84jF9X9HbTP9eyZcuWLcs/VVVVVVVV1T+34G0gdRPjP7eR3EZyG+E/\",\"dtype\":\"float64\",\"order\":\"little\",\"shape\":[39]}},\"selected\":{\"id\":\"81535\"},\"selection_policy\":{\"id\":\"81551\"}},\"id\":\"81534\",\"type\":\"ColumnDataSource\"},{\"attributes\":{\"line_color\":\"#30a2da\",\"line_width\":2,\"x\":{\"field\":\"Year\"},\"y\":{\"field\":\"value\"}},\"id\":\"80811\",\"type\":\"Line\"},{\"attributes\":{\"end\":87.468,\"reset_end\":87.468,\"reset_start\":0.0,\"tags\":[[[\"TOTAL\",\"TOTAL\",null]]]},\"id\":\"80193\",\"type\":\"Range1d\"},{\"attributes\":{\"data\":{\"Report Date\":[\"2011-06-30\",\"2011-09-30\",\"2011-12-31\",\"2012-03-31\",\"2012-06-30\",\"2012-09-30\",\"2012-12-31\",\"2013-03-31\",\"2013-06-30\",\"2013-09-30\",\"2013-12-31\",\"2014-03-31\",\"2014-06-30\",\"2014-09-30\",\"2014-12-31\",\"2015-03-31\",\"2015-06-30\",\"2015-09-30\",\"2015-12-31\",\"2016-03-31\",\"2016-06-30\",\"2016-09-30\",\"2016-12-31\",\"2017-03-31\",\"2017-06-30\",\"2017-09-30\",\"2017-12-31\",\"2018-03-31\",\"2018-06-30\",\"2018-09-30\",\"2018-12-31\",\"2019-03-31\",\"2019-06-30\",\"2019-09-30\",\"2019-12-31\",\"2020-03-31\",\"2020-06-29\",\"2020-12-30\",\"2021-03-30\"],\"Report_Date\":[\"2011-06-30\",\"2011-09-30\",\"2011-12-31\",\"2012-03-31\",\"2012-06-30\",\"2012-09-30\",\"2012-12-31\",\"2013-03-31\",\"2013-06-30\",\"2013-09-30\",\"2013-12-31\",\"2014-03-31\",\"2014-06-30\",\"2014-09-30\",\"2014-12-31\",\"2015-03-31\",\"2015-06-30\",\"2015-09-30\",\"2015-12-31\",\"2016-03-31\",\"2016-06-30\",\"2016-09-30\",\"2016-12-31\",\"2017-03-31\",\"2017-06-30\",\"2017-09-30\",\"2017-12-31\",\"2018-03-31\",\"2018-06-30\",\"2018-09-30\",\"2018-12-31\",\"2019-03-31\",\"2019-06-30\",\"2019-09-30\",\"2019-12-31\",\"2020-03-31\",\"2020-06-29\",\"2020-12-30\",\"2021-03-30\"],\"Variable\":[\"DAL Net Profit Margin\",\"DAL Net Profit Margin\",\"DAL Net Profit Margin\",\"DAL Net Profit Margin\",\"DAL Net Profit Margin\",\"DAL Net Profit Margin\",\"DAL Net Profit Margin\",\"DAL Net Profit Margin\",\"DAL Net Profit Margin\",\"DAL Net Profit Margin\",\"DAL Net Profit Margin\",\"DAL Net Profit Margin\",\"DAL Net Profit Margin\",\"DAL Net Profit Margin\",\"DAL Net Profit Margin\",\"DAL Net Profit Margin\",\"DAL Net Profit Margin\",\"DAL Net Profit Margin\",\"DAL Net Profit Margin\",\"DAL Net Profit Margin\",\"DAL Net Profit Margin\",\"DAL Net Profit Margin\",\"DAL Net Profit Margin\",\"DAL Net Profit Margin\",\"DAL Net Profit Margin\",\"DAL Net Profit Margin\",\"DAL Net Profit Margin\",\"DAL Net Profit Margin\",\"DAL Net Profit Margin\",\"DAL Net Profit Margin\",\"DAL Net Profit Margin\",\"DAL Net Profit Margin\",\"DAL Net Profit Margin\",\"DAL Net Profit Margin\",\"DAL Net Profit Margin\",\"DAL Net Profit Margin\",\"DAL Net Profit Margin\",\"DAL Net Profit Margin\",\"DAL Net Profit Margin\"],\"value\":{\"__ndarray__\":\"d8G31sMmlj/0lOIGvaKsP4M9U5to6Kk/jT6Evocvjj9OiPASTK2Rv6dfLBjdArs/u97CDijbRj8sgQbyQ/xKPyl552W4ELI/8tqCU2W0wD8s9d/LJeXtPzbfyF+Gdpg/xcNpDIFOsz8jpUKNJFqgP28tYe7n5LK/7BqbVrJXtD+/5l83vMDBP8K4kHMOT74/lZYbACJnuj/DnBXxqC26P9Knkbgs8cI/Xa2sW9K+vj8SVKcV8NWwP2AzG8Pf37A/90RTppsJvT+2abJdPES7P72BvtgGlqw/UAw+p6cYrD8RIMMP1Ui2P987VJNxGbw/zs3GDw8MuT9DrZK6ftixP6Zai/W/d70/ltVhlKl4vj/ubTA0XJi4P455KRE80q+/nVGlncInD8AT9KQA/lLIv2e7Q0G9JtK/\",\"dtype\":\"float64\",\"order\":\"little\",\"shape\":[39]}},\"selected\":{\"id\":\"81747\"},\"selection_policy\":{\"id\":\"81761\"}},\"id\":\"81746\",\"type\":\"ColumnDataSource\"},{\"attributes\":{\"callback\":null,\"renderers\":[{\"id\":\"80230\"}],\"tags\":[\"hv_created\"],\"tooltips\":[[\"Year\",\"@{Year}\"],[\"TOTAL\",\"@{TOTAL}\"]]},\"id\":\"80194\",\"type\":\"HoverTool\"},{\"attributes\":{\"factors\":[\"2002\",\"2003\",\"2004\",\"2005\",\"2006\",\"2007\",\"2008\",\"2009\",\"2010\",\"2011\",\"2012\",\"2013\",\"2014\",\"2015\",\"2016\",\"2017\",\"2018\",\"2019\",\"2020\",\"2021\"],\"tags\":[[[\"Year\",\"Year\",null]]]},\"id\":\"80242\",\"type\":\"FactorRange\"},{\"attributes\":{\"end\":0.6469785051668148,\"reset_end\":0.6469785051668148,\"reset_start\":0.03673867863448582,\"start\":0.03673867863448582,\"tags\":[[[\"value\",\"value\",null]]]},\"id\":\"81474\",\"type\":\"Range1d\"},{\"attributes\":{\"line_alpha\":0.2,\"line_color\":\"#30a2da\",\"line_width\":2,\"x\":{\"field\":\"Year\"},\"y\":{\"field\":\"value\"}},\"id\":\"80813\",\"type\":\"Line\"},{\"attributes\":{},\"id\":\"81485\",\"type\":\"LinearScale\"},{\"attributes\":{\"overlay\":{\"id\":\"80266\"}},\"id\":\"80264\",\"type\":\"BoxZoomTool\"},{\"attributes\":{\"callback\":null,\"renderers\":[{\"id\":\"81519\"},{\"id\":\"81540\"},{\"id\":\"81562\"}],\"tags\":[\"hv_created\"],\"tooltips\":[[\"Variable\",\"@{Variable}\"],[\"Report Date\",\"@{Report_Date}\"],[\"value\",\"@{value}\"]]},\"id\":\"81475\",\"type\":\"HoverTool\"},{\"attributes\":{},\"id\":\"80809\",\"type\":\"Selection\"},{\"attributes\":{\"text\":\"All U.S. Carriers Available Seat-Miles - All Airports\",\"text_color\":\"black\",\"text_font_size\":\"12pt\"},\"id\":\"80196\",\"type\":\"Title\"},{\"attributes\":{},\"id\":\"80205\",\"type\":\"CategoricalTicker\"},{\"attributes\":{\"data\":{\"TOTAL\":{\"__ndarray__\":\"mpmZmZlpUkAzMzMzMyNTQFK4HoXr0VNA7FG4HoVrVEA9CtejcI1UQJqZmZmZuVRA7FG4HoVLVEBmZmZmZoZUQI/C9ShcD1VAZmZmZmYGVUBI4XoUrsdUQI/C9Shc/1RA4XoUrkfxVEAUrkfheuRUQFyPwvUovFRAUrgeheuhVECPwvUoXO9UQB+F61G4DlVA4XoUrkfhTUBmZmZmZgZQQA==\",\"dtype\":\"float64\",\"order\":\"little\",\"shape\":[20]},\"Year\":[\"2002\",\"2003\",\"2004\",\"2005\",\"2006\",\"2007\",\"2008\",\"2009\",\"2010\",\"2011\",\"2012\",\"2013\",\"2014\",\"2015\",\"2016\",\"2017\",\"2018\",\"2019\",\"2020\",\"2021\"]},\"selected\":{\"id\":\"80562\"},\"selection_policy\":{\"id\":\"80595\"}},\"id\":\"80561\",\"type\":\"ColumnDataSource\"},{\"attributes\":{\"bottom_units\":\"screen\",\"fill_alpha\":0.5,\"fill_color\":\"lightgrey\",\"left_units\":\"screen\",\"level\":\"overlay\",\"line_alpha\":1.0,\"line_color\":\"black\",\"line_dash\":[4,4],\"line_width\":2,\"right_units\":\"screen\",\"syncable\":false,\"top_units\":\"screen\"},\"id\":\"80266\",\"type\":\"BoxAnnotation\"},{\"attributes\":{\"below\":[{\"id\":\"81487\"}],\"center\":[{\"id\":\"81489\"},{\"id\":\"81493\"}],\"left\":[{\"id\":\"81490\"}],\"margin\":[5,5,5,5],\"min_border_bottom\":10,\"min_border_left\":10,\"min_border_right\":10,\"min_border_top\":10,\"renderers\":[{\"id\":\"81519\"},{\"id\":\"81540\"},{\"id\":\"81562\"}],\"right\":[{\"id\":\"81531\"}],\"sizing_mode\":\"fixed\",\"title\":{\"id\":\"81479\"},\"toolbar\":{\"id\":\"81500\"},\"width\":900,\"x_range\":{\"id\":\"81473\"},\"x_scale\":{\"id\":\"81483\"},\"y_range\":{\"id\":\"81474\"},\"y_scale\":{\"id\":\"81485\"}},\"id\":\"81478\",\"subtype\":\"Figure\",\"type\":\"Plot\"},{\"attributes\":{\"fill_color\":{\"value\":\"Green\"},\"top\":{\"field\":\"TOTAL\"},\"width\":{\"value\":0.8},\"x\":{\"field\":\"Year\"}},\"id\":\"80277\",\"type\":\"VBar\"},{\"attributes\":{\"factors\":[\"2002\",\"2003\",\"2004\",\"2005\",\"2006\",\"2007\",\"2008\",\"2009\",\"2010\",\"2011\",\"2012\",\"2013\",\"2014\",\"2015\",\"2016\",\"2017\",\"2018\",\"2019\",\"2020\",\"2021\"],\"tags\":[[[\"Year\",\"Year\",null]]]},\"id\":\"80192\",\"type\":\"FactorRange\"},{\"attributes\":{\"fill_alpha\":{\"value\":0.2},\"fill_color\":{\"value\":\"Green\"},\"line_alpha\":{\"value\":0.2},\"top\":{\"field\":\"TOTAL\"},\"width\":{\"value\":0.8},\"x\":{\"field\":\"Year\"}},\"id\":\"80279\",\"type\":\"VBar\"},{\"attributes\":{},\"id\":\"81494\",\"type\":\"SaveTool\"},{\"attributes\":{},\"id\":\"81483\",\"type\":\"CategoricalScale\"},{\"attributes\":{\"source\":{\"id\":\"80511\"}},\"id\":\"80518\",\"type\":\"CDSView\"},{\"attributes\":{},\"id\":\"80275\",\"type\":\"Selection\"},{\"attributes\":{\"data_source\":{\"id\":\"80511\"},\"glyph\":{\"id\":\"80514\"},\"hover_glyph\":null,\"muted_glyph\":{\"id\":\"80516\"},\"nonselection_glyph\":{\"id\":\"80515\"},\"selection_glyph\":{\"id\":\"80519\"},\"view\":{\"id\":\"80518\"}},\"id\":\"80517\",\"type\":\"GlyphRenderer\"},{\"attributes\":{\"data\":{\"TOTAL\":{\"__ndarray__\":\"7FG4HoUbUkCkcD0K15NSQM3MzMzM7FJAuB6F61FoU0BSuB6F68FTQLgehetRSFRASOF6FK6HVEDsUbgehZtUQM3MzMzM/FRAZmZmZmbGVEBSuB6F6zFVQClcj8L1OFVAKVyPwvVoVUDXo3A9CmdVQB+F61G4TlVAFK5H4XqUVUB7FK5H4YpVQArXo3A9ulVAAAAAAACgS0DD9Shcj4JIQA==\",\"dtype\":\"float64\",\"order\":\"little\",\"shape\":[20]},\"Year\":[\"2002\",\"2003\",\"2004\",\"2005\",\"2006\",\"2007\",\"2008\",\"2009\",\"2010\",\"2011\",\"2012\",\"2013\",\"2014\",\"2015\",\"2016\",\"2017\",\"2018\",\"2019\",\"2020\",\"2021\"]},\"selected\":{\"id\":\"80275\"},\"selection_policy\":{\"id\":\"80308\"}},\"id\":\"80274\",\"type\":\"ColumnDataSource\"},{\"attributes\":{\"text\":\"Quarterly Gross Profit Margin from 2011 to 2021\",\"text_color\":\"black\",\"text_font_size\":\"12pt\"},\"id\":\"81479\",\"type\":\"Title\"},{\"attributes\":{},\"id\":\"80200\",\"type\":\"CategoricalScale\"},{\"attributes\":{\"fill_alpha\":{\"value\":0.1},\"fill_color\":{\"value\":\"Green\"},\"line_alpha\":{\"value\":0.1},\"top\":{\"field\":\"TOTAL\"},\"width\":{\"value\":0.8},\"x\":{\"field\":\"Year\"}},\"id\":\"80278\",\"type\":\"VBar\"},{\"attributes\":{\"below\":[{\"id\":\"80204\"}],\"center\":[{\"id\":\"80206\"},{\"id\":\"80210\"}],\"height\":500,\"left\":[{\"id\":\"80207\"}],\"margin\":null,\"min_border_bottom\":10,\"min_border_left\":10,\"min_border_right\":10,\"min_border_top\":10,\"renderers\":[{\"id\":\"80230\"}],\"sizing_mode\":\"fixed\",\"title\":{\"id\":\"80196\"},\"toolbar\":{\"id\":\"80217\"},\"toolbar_location\":null,\"width\":900,\"x_range\":{\"id\":\"80192\"},\"x_scale\":{\"id\":\"80200\"},\"y_range\":{\"id\":\"80193\"},\"y_scale\":{\"id\":\"80202\"}},\"id\":\"80195\",\"subtype\":\"Figure\",\"type\":\"Plot\"},{\"attributes\":{\"bottom\":{\"value\":0},\"fill_alpha\":{\"value\":1.0},\"fill_color\":{\"value\":\"Blue\"},\"hatch_alpha\":{\"value\":1.0},\"hatch_color\":{\"value\":\"black\"},\"hatch_scale\":{\"value\":12.0},\"hatch_weight\":{\"value\":1.0},\"line_alpha\":{\"value\":1.0},\"line_cap\":{\"value\":\"butt\"},\"line_color\":{\"value\":\"black\"},\"line_dash\":{\"value\":[]},\"line_dash_offset\":{\"value\":0},\"line_join\":{\"value\":\"bevel\"},\"line_width\":{\"value\":1},\"top\":{\"field\":\"TOTAL\"},\"width\":{\"value\":0.8},\"x\":{\"field\":\"Year\"}},\"id\":\"80519\",\"type\":\"VBar\"},{\"attributes\":{},\"id\":\"81491\",\"type\":\"BasicTicker\"},{\"attributes\":{\"data_source\":{\"id\":\"80274\"},\"glyph\":{\"id\":\"80277\"},\"hover_glyph\":null,\"muted_glyph\":{\"id\":\"80279\"},\"nonselection_glyph\":{\"id\":\"80278\"},\"selection_glyph\":{\"id\":\"80282\"},\"view\":{\"id\":\"80281\"}},\"id\":\"80280\",\"type\":\"GlyphRenderer\"},{\"attributes\":{},\"id\":\"80213\",\"type\":\"WheelZoomTool\"},{\"attributes\":{\"axis_label\":\"(the number of seats and the distance flown in thousands (000)) \",\"formatter\":{\"id\":\"80233\"},\"major_label_policy\":{\"id\":\"80239\"},\"ticker\":{\"id\":\"80208\"}},\"id\":\"80207\",\"type\":\"LinearAxis\"},{\"attributes\":{},\"id\":\"81488\",\"type\":\"CategoricalTicker\"},{\"attributes\":{},\"id\":\"80208\",\"type\":\"BasicTicker\"},{\"attributes\":{\"axis_label\":\"Year\",\"formatter\":{\"id\":\"80235\"},\"major_label_policy\":{\"id\":\"80236\"},\"ticker\":{\"id\":\"80205\"}},\"id\":\"80204\",\"type\":\"CategoricalAxis\"},{\"attributes\":{\"axis_label\":\"Report Date\",\"formatter\":{\"id\":\"81508\"},\"major_label_orientation\":1.5707963267948966,\"major_label_policy\":{\"id\":\"81509\"},\"ticker\":{\"id\":\"81488\"}},\"id\":\"81487\",\"type\":\"CategoricalAxis\"},{\"attributes\":{\"source\":{\"id\":\"80274\"}},\"id\":\"80281\",\"type\":\"CDSView\"},{\"attributes\":{\"axis\":{\"id\":\"80207\"},\"dimension\":1,\"grid_line_color\":null,\"ticker\":null},\"id\":\"80210\",\"type\":\"Grid\"},{\"attributes\":{\"axis\":{\"id\":\"81490\"},\"dimension\":1,\"grid_line_color\":null,\"ticker\":null},\"id\":\"81493\",\"type\":\"Grid\"},{\"attributes\":{},\"id\":\"80212\",\"type\":\"PanTool\"},{\"attributes\":{\"bottom\":{\"value\":0},\"fill_alpha\":{\"value\":1.0},\"fill_color\":{\"value\":\"Green\"},\"hatch_alpha\":{\"value\":1.0},\"hatch_color\":{\"value\":\"black\"},\"hatch_scale\":{\"value\":12.0},\"hatch_weight\":{\"value\":1.0},\"line_alpha\":{\"value\":1.0},\"line_cap\":{\"value\":\"butt\"},\"line_color\":{\"value\":\"black\"},\"line_dash\":{\"value\":[]},\"line_dash_offset\":{\"value\":0},\"line_join\":{\"value\":\"bevel\"},\"line_width\":{\"value\":1},\"top\":{\"field\":\"TOTAL\"},\"width\":{\"value\":0.8},\"x\":{\"field\":\"Year\"}},\"id\":\"80282\",\"type\":\"VBar\"},{\"attributes\":{},\"id\":\"80202\",\"type\":\"LinearScale\"},{\"attributes\":{},\"id\":\"80265\",\"type\":\"ResetTool\"},{\"attributes\":{\"axis_label\":\"\",\"formatter\":{\"id\":\"81511\"},\"major_label_policy\":{\"id\":\"81512\"},\"ticker\":{\"id\":\"81491\"}},\"id\":\"81490\",\"type\":\"LinearAxis\"},{\"attributes\":{\"data\":{\"TOTAL\":{\"__ndarray__\":\"UrgehevxUUA9CtejcF1SQB+F61G43lJAKVyPwvVoU0AfhetRuM5TQOxRuB6F+1NAw/UoXI/iU0AK16NwPRpUQBSuR+F6hFRAZmZmZmaGVEAzMzMzM7NUQLgehetRyFRA7FG4HoXbVEBSuB6F6/FUQHsUrkfh2lRAcT0K16PgVECuR+F6FO5UQJqZmZmZKVVAw/UoXI9iTUBcj8L1KDxMQA==\",\"dtype\":\"float64\",\"order\":\"little\",\"shape\":[20]},\"Year\":[\"2002\",\"2003\",\"2004\",\"2005\",\"2006\",\"2007\",\"2008\",\"2009\",\"2010\",\"2011\",\"2012\",\"2013\",\"2014\",\"2015\",\"2016\",\"2017\",\"2018\",\"2019\",\"2020\",\"2021\"]},\"selected\":{\"id\":\"80225\"},\"selection_policy\":{\"id\":\"80298\"}},\"id\":\"80224\",\"type\":\"ColumnDataSource\"},{\"attributes\":{\"axis\":{\"id\":\"81487\"},\"grid_line_color\":null,\"ticker\":null},\"id\":\"81489\",\"type\":\"Grid\"},{\"attributes\":{\"format\":\"%.0f\"},\"id\":\"80520\",\"type\":\"PrintfTickFormatter\"},{\"attributes\":{\"axis\":{\"id\":\"80204\"},\"grid_line_color\":null,\"ticker\":null},\"id\":\"80206\",\"type\":\"Grid\"},{\"attributes\":{\"fill_color\":{\"value\":\"Blue\"},\"top\":{\"field\":\"TOTAL\"},\"width\":{\"value\":0.8},\"x\":{\"field\":\"Year\"}},\"id\":\"79936\",\"type\":\"VBar\"},{\"attributes\":{\"format\":\"%.0f\"},\"id\":\"79942\",\"type\":\"PrintfTickFormatter\"},{\"attributes\":{},\"id\":\"79095\",\"type\":\"CategoricalScale\"},{\"attributes\":{},\"id\":\"79944\",\"type\":\"CategoricalTickFormatter\"},{\"attributes\":{\"fill_color\":{\"value\":\"Green\"},\"top\":{\"field\":\"TOTAL\"},\"width\":{\"value\":0.8},\"x\":{\"field\":\"Year\"}},\"id\":\"79122\",\"type\":\"VBar\"},{\"attributes\":{\"fill_alpha\":{\"value\":0.1},\"fill_color\":{\"value\":\"Blue\"},\"line_alpha\":{\"value\":0.1},\"top\":{\"field\":\"TOTAL\"},\"width\":{\"value\":0.8},\"x\":{\"field\":\"Year\"}},\"id\":\"79937\",\"type\":\"VBar\"},{\"attributes\":{},\"id\":\"79100\",\"type\":\"CategoricalTicker\"},{\"attributes\":{\"fill_alpha\":{\"value\":0.2},\"fill_color\":{\"value\":\"Blue\"},\"line_alpha\":{\"value\":0.2},\"top\":{\"field\":\"TOTAL\"},\"width\":{\"value\":0.8},\"x\":{\"field\":\"Year\"}},\"id\":\"79938\",\"type\":\"VBar\"},{\"attributes\":{\"fill_alpha\":{\"value\":0.2},\"fill_color\":{\"value\":\"Orange\"},\"line_alpha\":{\"value\":0.2},\"top\":{\"field\":\"TOTAL\"},\"width\":{\"value\":0.8},\"x\":{\"field\":\"Year\"}},\"id\":\"77920\",\"type\":\"VBar\"},{\"attributes\":{},\"id\":\"79945\",\"type\":\"AllLabels\"},{\"attributes\":{\"fill_alpha\":{\"value\":0.1},\"fill_color\":{\"value\":\"Orange\"},\"line_alpha\":{\"value\":0.1},\"top\":{\"field\":\"TOTAL\"},\"width\":{\"value\":0.8},\"x\":{\"field\":\"Year\"}},\"id\":\"77919\",\"type\":\"VBar\"},{\"attributes\":{\"axis\":{\"id\":\"79099\"},\"grid_line_color\":null,\"ticker\":null},\"id\":\"79101\",\"type\":\"Grid\"},{\"attributes\":{},\"id\":\"79097\",\"type\":\"LinearScale\"},{\"attributes\":{\"data_source\":{\"id\":\"77915\"},\"glyph\":{\"id\":\"77918\"},\"hover_glyph\":null,\"muted_glyph\":{\"id\":\"77920\"},\"nonselection_glyph\":{\"id\":\"77919\"},\"selection_glyph\":{\"id\":\"77923\"},\"view\":{\"id\":\"77922\"}},\"id\":\"77921\",\"type\":\"GlyphRenderer\"},{\"attributes\":{\"axis\":{\"id\":\"79102\"},\"dimension\":1,\"grid_line_color\":null,\"ticker\":null},\"id\":\"79105\",\"type\":\"Grid\"},{\"attributes\":{},\"id\":\"79107\",\"type\":\"PanTool\"},{\"attributes\":{\"axis_label\":\"Year\",\"formatter\":{\"id\":\"79130\"},\"major_label_policy\":{\"id\":\"79131\"},\"ticker\":{\"id\":\"79100\"}},\"id\":\"79099\",\"type\":\"CategoricalAxis\"},{\"attributes\":{\"source\":{\"id\":\"77915\"}},\"id\":\"77922\",\"type\":\"CDSView\"},{\"attributes\":{\"axis_label\":\"(The number of passengers and the distance flown in thousands (000)) \",\"formatter\":{\"id\":\"79128\"},\"major_label_policy\":{\"id\":\"79134\"},\"ticker\":{\"id\":\"79103\"}},\"id\":\"79102\",\"type\":\"LinearAxis\"},{\"attributes\":{\"bottom\":{\"value\":0},\"fill_alpha\":{\"value\":1.0},\"fill_color\":{\"value\":\"Orange\"},\"hatch_alpha\":{\"value\":1.0},\"hatch_color\":{\"value\":\"black\"},\"hatch_scale\":{\"value\":12.0},\"hatch_weight\":{\"value\":1.0},\"line_alpha\":{\"value\":1.0},\"line_cap\":{\"value\":\"butt\"},\"line_color\":{\"value\":\"black\"},\"line_dash\":{\"value\":[]},\"line_dash_offset\":{\"value\":0},\"line_join\":{\"value\":\"bevel\"},\"line_width\":{\"value\":1},\"top\":{\"field\":\"TOTAL\"},\"width\":{\"value\":0.8},\"x\":{\"field\":\"Year\"}},\"id\":\"77923\",\"type\":\"VBar\"},{\"attributes\":{},\"id\":\"79103\",\"type\":\"BasicTicker\"},{\"attributes\":{},\"id\":\"79108\",\"type\":\"WheelZoomTool\"},{\"attributes\":{},\"id\":\"79106\",\"type\":\"SaveTool\"},{\"attributes\":{\"factors\":[\"2002\",\"2003\",\"2004\",\"2005\",\"2006\",\"2007\",\"2008\",\"2009\",\"2010\",\"2011\",\"2012\",\"2013\",\"2014\",\"2015\",\"2016\",\"2017\",\"2018\",\"2019\",\"2020\",\"2021\"],\"tags\":[[[\"Year\",\"Year\",null]]]},\"id\":\"77883\",\"type\":\"FactorRange\"},{\"attributes\":{\"end\":1150600348.2,\"reset_end\":1150600348.2,\"reset_start\":0.0,\"tags\":[[[\"TOTAL\",\"TOTAL\",null]]]},\"id\":\"79038\",\"type\":\"Range1d\"},{\"attributes\":{},\"id\":\"79948\",\"type\":\"AllLabels\"},{\"attributes\":{\"overlay\":{\"id\":\"79111\"}},\"id\":\"79109\",\"type\":\"BoxZoomTool\"},{\"attributes\":{},\"id\":\"79110\",\"type\":\"ResetTool\"},{\"attributes\":{},\"id\":\"79367\",\"type\":\"CategoricalTickFormatter\"},{\"attributes\":{\"children\":[{\"id\":\"78868\"},{\"id\":\"78866\"}]},\"id\":\"78869\",\"type\":\"Column\"},{\"attributes\":{\"factors\":[\"2002\",\"2003\",\"2004\",\"2005\",\"2006\",\"2007\",\"2008\",\"2009\",\"2010\",\"2011\",\"2012\",\"2013\",\"2014\",\"2015\",\"2016\",\"2017\",\"2018\",\"2019\",\"2020\",\"2021\"],\"tags\":[[[\"Year\",\"Year\",null]]]},\"id\":\"79951\",\"type\":\"FactorRange\"},{\"attributes\":{},\"id\":\"77926\",\"type\":\"CategoricalTickFormatter\"},{\"attributes\":{\"bottom\":{\"value\":0},\"fill_alpha\":{\"value\":1.0},\"fill_color\":{\"value\":\"Blue\"},\"hatch_alpha\":{\"value\":1.0},\"hatch_color\":{\"value\":\"black\"},\"hatch_scale\":{\"value\":12.0},\"hatch_weight\":{\"value\":1.0},\"line_alpha\":{\"value\":1.0},\"line_cap\":{\"value\":\"butt\"},\"line_color\":{\"value\":\"black\"},\"line_dash\":{\"value\":[]},\"line_dash_offset\":{\"value\":0},\"line_join\":{\"value\":\"bevel\"},\"line_width\":{\"value\":1},\"top\":{\"field\":\"TOTAL\"},\"width\":{\"value\":0.8},\"x\":{\"field\":\"Year\"}},\"id\":\"79364\",\"type\":\"VBar\"},{\"attributes\":{},\"id\":\"77916\",\"type\":\"Selection\"},{\"attributes\":{},\"id\":\"77927\",\"type\":\"AllLabels\"},{\"attributes\":{\"format\":\"%.0f\"},\"id\":\"77924\",\"type\":\"PrintfTickFormatter\"},{\"attributes\":{\"data\":{\"TOTAL\":[634381208,649953737,726171973,771018648,789688686,822499629,805561497,763331173,792208443,808864801,817627683,834782639,858029553,899034049,931025627,962949559,1010572608,1054798477,377790371,96779765],\"Year\":[\"2002\",\"2003\",\"2004\",\"2005\",\"2006\",\"2007\",\"2008\",\"2009\",\"2010\",\"2011\",\"2012\",\"2013\",\"2014\",\"2015\",\"2016\",\"2017\",\"2018\",\"2019\",\"2020\",\"2021\"]},\"selected\":{\"id\":\"79070\"},\"selection_policy\":{\"id\":\"79143\"}},\"id\":\"79069\",\"type\":\"ColumnDataSource\"},{\"attributes\":{},\"id\":\"79045\",\"type\":\"CategoricalScale\"},{\"attributes\":{},\"id\":\"79964\",\"type\":\"CategoricalTicker\"},{\"attributes\":{\"factors\":[\"2002\",\"2003\",\"2004\",\"2005\",\"2006\",\"2007\",\"2008\",\"2009\",\"2010\",\"2011\",\"2012\",\"2013\",\"2014\",\"2015\",\"2016\",\"2017\",\"2018\",\"2019\",\"2020\",\"2021\"],\"tags\":[[[\"Year\",\"Year\",null]]]},\"id\":\"79037\",\"type\":\"FactorRange\"},{\"attributes\":{\"text\":\"United Airlines Available Seat-Miles - All Airports\",\"text_color\":\"black\",\"text_font_size\":\"12pt\"},\"id\":\"79955\",\"type\":\"Title\"},{\"attributes\":{},\"id\":\"79368\",\"type\":\"AllLabels\"},{\"attributes\":{\"callback\":null,\"renderers\":[{\"id\":\"79989\"}],\"tags\":[\"hv_created\"],\"tooltips\":[[\"Year\",\"@{Year}\"],[\"TOTAL\",\"@{TOTAL}\"]]},\"id\":\"79953\",\"type\":\"HoverTool\"},{\"attributes\":{\"fill_alpha\":{\"value\":0.2},\"fill_color\":{\"value\":\"Green\"},\"line_alpha\":{\"value\":0.2},\"top\":{\"field\":\"TOTAL\"},\"width\":{\"value\":0.8},\"x\":{\"field\":\"Year\"}},\"id\":\"79124\",\"type\":\"VBar\"},{\"attributes\":{\"format\":\"%.0f\"},\"id\":\"79365\",\"type\":\"PrintfTickFormatter\"},{\"attributes\":{\"end\":276583743.2,\"reset_end\":276583743.2,\"reset_start\":0.0,\"tags\":[[[\"TOTAL\",\"TOTAL\",null]]]},\"id\":\"79952\",\"type\":\"Range1d\"},{\"attributes\":{\"end\":1009417481.3,\"reset_end\":1009417481.3,\"reset_start\":0.0,\"tags\":[[[\"TOTAL\",\"TOTAL\",null]]]},\"id\":\"77884\",\"type\":\"Range1d\"},{\"attributes\":{},\"id\":\"79959\",\"type\":\"CategoricalScale\"},{\"attributes\":{},\"id\":\"77930\",\"type\":\"AllLabels\"},{\"attributes\":{\"toolbar\":{\"id\":\"79158\"},\"toolbar_location\":\"above\"},\"id\":\"79159\",\"type\":\"ToolbarBox\"},{\"attributes\":{\"below\":[{\"id\":\"79963\"}],\"center\":[{\"id\":\"79965\"},{\"id\":\"79969\"}],\"height\":500,\"left\":[{\"id\":\"79966\"}],\"margin\":null,\"min_border_bottom\":10,\"min_border_left\":10,\"min_border_right\":10,\"min_border_top\":10,\"renderers\":[{\"id\":\"79989\"}],\"sizing_mode\":\"fixed\",\"title\":{\"id\":\"79955\"},\"toolbar\":{\"id\":\"79976\"},\"toolbar_location\":null,\"width\":900,\"x_range\":{\"id\":\"79951\"},\"x_scale\":{\"id\":\"79959\"},\"y_range\":{\"id\":\"79952\"},\"y_scale\":{\"id\":\"79961\"}},\"id\":\"79954\",\"subtype\":\"Figure\",\"type\":\"Plot\"},{\"attributes\":{},\"id\":\"80595\",\"type\":\"UnionRenderers\"},{\"attributes\":{\"children\":[{\"id\":\"79612\"},{\"id\":\"79613\"},{\"id\":\"79900\"}],\"margin\":[0,0,0,0],\"name\":\"Column88268\"},\"id\":\"79611\",\"type\":\"Column\"},{\"attributes\":{\"data\":{\"TOTAL\":[145060010,132616583,141216499,136294567,139521280,139117887,133221892,119800834,119171529,116279921,213203493,210005432,211954183,218138240,223281445,233667254,244417122,252816292,104313705,15141780],\"Year\":[\"2002\",\"2003\",\"2004\",\"2005\",\"2006\",\"2007\",\"2008\",\"2009\",\"2010\",\"2011\",\"2012\",\"2013\",\"2014\",\"2015\",\"2016\",\"2017\",\"2018\",\"2019\",\"2020\",\"2021\"]},\"selected\":{\"id\":\"79984\"},\"selection_policy\":{\"id\":\"80017\"}},\"id\":\"79983\",\"type\":\"ColumnDataSource\"},{\"attributes\":{},\"id\":\"79120\",\"type\":\"Selection\"},{\"attributes\":{\"axis\":{\"id\":\"79963\"},\"grid_line_color\":null,\"ticker\":null},\"id\":\"79965\",\"type\":\"Grid\"},{\"attributes\":{\"factors\":[\"2002\",\"2003\",\"2004\",\"2005\",\"2006\",\"2007\",\"2008\",\"2009\",\"2010\",\"2011\",\"2012\",\"2013\",\"2014\",\"2015\",\"2016\",\"2017\",\"2018\",\"2019\",\"2020\",\"2021\"],\"tags\":[[[\"Year\",\"Year\",null]]]},\"id\":\"77933\",\"type\":\"FactorRange\"},{\"attributes\":{\"child\":{\"id\":\"78457\"},\"name\":\"Column88228\",\"title\":\"Flights\"},\"id\":\"79032\",\"type\":\"Panel\"},{\"attributes\":{},\"id\":\"79961\",\"type\":\"LinearScale\"},{\"attributes\":{\"bottom_units\":\"screen\",\"fill_alpha\":0.5,\"fill_color\":\"lightgrey\",\"left_units\":\"screen\",\"level\":\"overlay\",\"line_alpha\":1.0,\"line_color\":\"black\",\"line_dash\":[4,4],\"line_width\":2,\"right_units\":\"screen\",\"syncable\":false,\"top_units\":\"screen\"},\"id\":\"79111\",\"type\":\"BoxAnnotation\"},{\"attributes\":{\"axis\":{\"id\":\"79966\"},\"dimension\":1,\"grid_line_color\":null,\"ticker\":null},\"id\":\"79969\",\"type\":\"Grid\"},{\"attributes\":{},\"id\":\"77999\",\"type\":\"UnionRenderers\"},{\"attributes\":{\"fill_alpha\":{\"value\":0.1},\"fill_color\":{\"value\":\"Green\"},\"line_alpha\":{\"value\":0.1},\"top\":{\"field\":\"TOTAL\"},\"width\":{\"value\":0.8},\"x\":{\"field\":\"Year\"}},\"id\":\"79123\",\"type\":\"VBar\"},{\"attributes\":{},\"id\":\"79971\",\"type\":\"PanTool\"},{\"attributes\":{\"axis_label\":\"Year\",\"formatter\":{\"id\":\"79994\"},\"major_label_policy\":{\"id\":\"79995\"},\"ticker\":{\"id\":\"79964\"}},\"id\":\"79963\",\"type\":\"CategoricalAxis\"},{\"attributes\":{},\"id\":\"79371\",\"type\":\"AllLabels\"},{\"attributes\":{\"axis_label\":\"(the number of seats and the distance flown in thousands (000)) \",\"formatter\":{\"id\":\"79992\"},\"major_label_policy\":{\"id\":\"79998\"},\"ticker\":{\"id\":\"79967\"}},\"id\":\"79966\",\"type\":\"LinearAxis\"},{\"attributes\":{},\"id\":\"77946\",\"type\":\"CategoricalTicker\"},{\"attributes\":{},\"id\":\"79967\",\"type\":\"BasicTicker\"},{\"attributes\":{\"active_multi\":null,\"tools\":[{\"id\":\"79089\"},{\"id\":\"79106\"},{\"id\":\"79107\"},{\"id\":\"79108\"},{\"id\":\"79109\"},{\"id\":\"79110\"}]},\"id\":\"79112\",\"type\":\"Toolbar\"},{\"attributes\":{},\"id\":\"79972\",\"type\":\"WheelZoomTool\"},{\"attributes\":{\"factors\":[\"2002\",\"2003\",\"2004\",\"2005\",\"2006\",\"2007\",\"2008\",\"2009\",\"2010\",\"2011\",\"2012\",\"2013\",\"2014\",\"2015\",\"2016\",\"2017\",\"2018\",\"2019\",\"2020\",\"2021\"],\"tags\":[[[\"Year\",\"Year\",null]]]},\"id\":\"79374\",\"type\":\"FactorRange\"},{\"attributes\":{\"text\":\"Delta Airlines Passengers - All Airports\",\"text_color\":\"black\",\"text_font_size\":\"12pt\"},\"id\":\"77937\",\"type\":\"Title\"},{\"attributes\":{},\"id\":\"79970\",\"type\":\"SaveTool\"},{\"attributes\":{\"callback\":null,\"renderers\":[{\"id\":\"77971\"}],\"tags\":[\"hv_created\"],\"tooltips\":[[\"Year\",\"@{Year}\"],[\"TOTAL\",\"@{TOTAL}\"]]},\"id\":\"77935\",\"type\":\"HoverTool\"},{\"attributes\":{\"overlay\":{\"id\":\"79975\"}},\"id\":\"79973\",\"type\":\"BoxZoomTool\"},{\"attributes\":{\"end\":177276996.7,\"reset_end\":177276996.7,\"reset_start\":0.0,\"tags\":[[[\"TOTAL\",\"TOTAL\",null]]]},\"id\":\"77934\",\"type\":\"Range1d\"},{\"attributes\":{},\"id\":\"79974\",\"type\":\"ResetTool\"},{\"attributes\":{},\"id\":\"77941\",\"type\":\"CategoricalScale\"},{\"attributes\":{\"active_multi\":null,\"tools\":[{\"id\":\"79953\"},{\"id\":\"79970\"},{\"id\":\"79971\"},{\"id\":\"79972\"},{\"id\":\"79973\"},{\"id\":\"79974\"}]},\"id\":\"79976\",\"type\":\"Toolbar\"},{\"attributes\":{},\"id\":\"79387\",\"type\":\"CategoricalTicker\"},{\"attributes\":{\"below\":[{\"id\":\"77945\"}],\"center\":[{\"id\":\"77947\"},{\"id\":\"77951\"}],\"height\":500,\"left\":[{\"id\":\"77948\"}],\"margin\":null,\"min_border_bottom\":10,\"min_border_left\":10,\"min_border_right\":10,\"min_border_top\":10,\"renderers\":[{\"id\":\"77971\"}],\"sizing_mode\":\"fixed\",\"title\":{\"id\":\"77937\"},\"toolbar\":{\"id\":\"77958\"},\"toolbar_location\":null,\"width\":900,\"x_range\":{\"id\":\"77933\"},\"x_scale\":{\"id\":\"77941\"},\"y_range\":{\"id\":\"77934\"},\"y_scale\":{\"id\":\"77943\"}},\"id\":\"77936\",\"subtype\":\"Figure\",\"type\":\"Plot\"},{\"attributes\":{\"callback\":null,\"renderers\":[{\"id\":\"79075\"}],\"tags\":[\"hv_created\"],\"tooltips\":[[\"Year\",\"@{Year}\"],[\"TOTAL\",\"@{TOTAL}\"]]},\"id\":\"79039\",\"type\":\"HoverTool\"},{\"attributes\":{\"axis\":{\"id\":\"77945\"},\"grid_line_color\":null,\"ticker\":null},\"id\":\"77947\",\"type\":\"Grid\"},{\"attributes\":{\"text\":\"United Airlines Carriers Airlines Revenue Passenger-Miles - All Airports\",\"text_color\":\"black\",\"text_font_size\":\"12pt\"},\"id\":\"79378\",\"type\":\"Title\"},{\"attributes\":{\"axis_label\":\"Year\",\"formatter\":{\"id\":\"79080\"},\"major_label_policy\":{\"id\":\"79081\"},\"ticker\":{\"id\":\"79050\"}},\"id\":\"79049\",\"type\":\"CategoricalAxis\"},{\"attributes\":{},\"id\":\"77943\",\"type\":\"LinearScale\"},{\"attributes\":{},\"id\":\"79998\",\"type\":\"AllLabels\"},{\"attributes\":{\"callback\":null,\"renderers\":[{\"id\":\"79412\"}],\"tags\":[\"hv_created\"],\"tooltips\":[[\"Year\",\"@{Year}\"],[\"TOTAL\",\"@{TOTAL}\"]]},\"id\":\"79376\",\"type\":\"HoverTool\"},{\"attributes\":{},\"id\":\"79047\",\"type\":\"LinearScale\"},{\"attributes\":{\"end\":233264273.7,\"reset_end\":233264273.7,\"reset_start\":0.0,\"tags\":[[[\"TOTAL\",\"TOTAL\",null]]]},\"id\":\"79375\",\"type\":\"Range1d\"},{\"attributes\":{\"toolbar\":{\"id\":\"80022\"},\"toolbar_location\":\"above\"},\"id\":\"80023\",\"type\":\"ToolbarBox\"},{\"attributes\":{\"axis_label\":\"Year\",\"formatter\":{\"id\":\"77976\"},\"major_label_policy\":{\"id\":\"77977\"},\"ticker\":{\"id\":\"77946\"}},\"id\":\"77945\",\"type\":\"CategoricalAxis\"},{\"attributes\":{},\"id\":\"79382\",\"type\":\"CategoricalScale\"},{\"attributes\":{\"below\":[{\"id\":\"79386\"}],\"center\":[{\"id\":\"79388\"},{\"id\":\"79392\"}],\"height\":500,\"left\":[{\"id\":\"79389\"}],\"margin\":null,\"min_border_bottom\":10,\"min_border_left\":10,\"min_border_right\":10,\"min_border_top\":10,\"renderers\":[{\"id\":\"79412\"}],\"sizing_mode\":\"fixed\",\"title\":{\"id\":\"79378\"},\"toolbar\":{\"id\":\"79399\"},\"toolbar_location\":null,\"width\":900,\"x_range\":{\"id\":\"79374\"},\"x_scale\":{\"id\":\"79382\"},\"y_range\":{\"id\":\"79375\"},\"y_scale\":{\"id\":\"79384\"}},\"id\":\"79377\",\"subtype\":\"Figure\",\"type\":\"Plot\"},{\"attributes\":{},\"id\":\"79995\",\"type\":\"AllLabels\"},{\"attributes\":{\"data\":{\"TOTAL\":[106838550,101523163,111963229,111327267,114698868,115331969,108144924,98355139,100387152,97788957,177209281,176387984,177553107,182306929,185186545,192834252,204686012,212940806,62342826,9706129],\"Year\":[\"2002\",\"2003\",\"2004\",\"2005\",\"2006\",\"2007\",\"2008\",\"2009\",\"2010\",\"2011\",\"2012\",\"2013\",\"2014\",\"2015\",\"2016\",\"2017\",\"2018\",\"2019\",\"2020\",\"2021\"]},\"selected\":{\"id\":\"79407\"},\"selection_policy\":{\"id\":\"79440\"}},\"id\":\"79406\",\"type\":\"ColumnDataSource\"},{\"attributes\":{\"axis\":{\"id\":\"79386\"},\"grid_line_color\":null,\"ticker\":null},\"id\":\"79388\",\"type\":\"Grid\"},{\"attributes\":{},\"id\":\"79730\",\"type\":\"UnionRenderers\"},{\"attributes\":{\"below\":[{\"id\":\"79049\"}],\"center\":[{\"id\":\"79051\"},{\"id\":\"79055\"}],\"height\":500,\"left\":[{\"id\":\"79052\"}],\"margin\":null,\"min_border_bottom\":10,\"min_border_left\":10,\"min_border_right\":10,\"min_border_top\":10,\"renderers\":[{\"id\":\"79075\"}],\"sizing_mode\":\"fixed\",\"title\":{\"id\":\"79041\"},\"toolbar\":{\"id\":\"79062\"},\"toolbar_location\":null,\"width\":900,\"x_range\":{\"id\":\"79037\"},\"x_scale\":{\"id\":\"79045\"},\"y_range\":{\"id\":\"79038\"},\"y_scale\":{\"id\":\"79047\"}},\"id\":\"79040\",\"subtype\":\"Figure\",\"type\":\"Plot\"},{\"attributes\":{},\"id\":\"79384\",\"type\":\"LinearScale\"},{\"attributes\":{\"axis\":{\"id\":\"79389\"},\"dimension\":1,\"grid_line_color\":null,\"ticker\":null},\"id\":\"79392\",\"type\":\"Grid\"},{\"attributes\":{},\"id\":\"79394\",\"type\":\"PanTool\"},{\"attributes\":{\"axis_label\":\"Year\",\"formatter\":{\"id\":\"79417\"},\"major_label_policy\":{\"id\":\"79418\"},\"ticker\":{\"id\":\"79387\"}},\"id\":\"79386\",\"type\":\"CategoricalAxis\"},{\"attributes\":{\"text\":\"All U.S. Carriers Airlines Revenue Passenger-Miles - All Airports\",\"text_color\":\"black\",\"text_font_size\":\"12pt\"},\"id\":\"79041\",\"type\":\"Title\"},{\"attributes\":{\"source\":{\"id\":\"79119\"}},\"id\":\"79126\",\"type\":\"CDSView\"},{\"attributes\":{\"axis_label\":\"(The number of passengers and the distance flown in thousands (000)) \",\"formatter\":{\"id\":\"79415\"},\"major_label_policy\":{\"id\":\"79421\"},\"ticker\":{\"id\":\"79390\"}},\"id\":\"79389\",\"type\":\"LinearAxis\"},{\"attributes\":{\"children\":[[{\"id\":\"79040\"},0,0],[{\"id\":\"79090\"},0,1]]},\"id\":\"79157\",\"type\":\"GridBox\"},{\"attributes\":{\"data_source\":{\"id\":\"79119\"},\"glyph\":{\"id\":\"79122\"},\"hover_glyph\":null,\"muted_glyph\":{\"id\":\"79124\"},\"nonselection_glyph\":{\"id\":\"79123\"},\"selection_glyph\":{\"id\":\"79127\"},\"view\":{\"id\":\"79126\"}},\"id\":\"79125\",\"type\":\"GlyphRenderer\"},{\"attributes\":{},\"id\":\"79390\",\"type\":\"BasicTicker\"},{\"attributes\":{\"children\":[{\"id\":\"80601\"},{\"id\":\"80599\"}]},\"id\":\"80602\",\"type\":\"Column\"},{\"attributes\":{},\"id\":\"79395\",\"type\":\"WheelZoomTool\"},{\"attributes\":{\"bottom_units\":\"screen\",\"fill_alpha\":0.5,\"fill_color\":\"lightgrey\",\"left_units\":\"screen\",\"level\":\"overlay\",\"line_alpha\":1.0,\"line_color\":\"black\",\"line_dash\":[4,4],\"line_width\":2,\"right_units\":\"screen\",\"syncable\":false,\"top_units\":\"screen\"},\"id\":\"79975\",\"type\":\"BoxAnnotation\"},{\"attributes\":{\"toolbars\":[{\"id\":\"79349\"},{\"id\":\"79399\"}],\"tools\":[{\"id\":\"79326\"},{\"id\":\"79343\"},{\"id\":\"79344\"},{\"id\":\"79345\"},{\"id\":\"79346\"},{\"id\":\"79347\"},{\"id\":\"79376\"},{\"id\":\"79393\"},{\"id\":\"79394\"},{\"id\":\"79395\"},{\"id\":\"79396\"},{\"id\":\"79397\"}]},\"id\":\"79445\",\"type\":\"ProxyToolbar\"},{\"attributes\":{\"toolbars\":[{\"id\":\"79926\"},{\"id\":\"79976\"}],\"tools\":[{\"id\":\"79903\"},{\"id\":\"79920\"},{\"id\":\"79921\"},{\"id\":\"79922\"},{\"id\":\"79923\"},{\"id\":\"79924\"},{\"id\":\"79953\"},{\"id\":\"79970\"},{\"id\":\"79971\"},{\"id\":\"79972\"},{\"id\":\"79973\"},{\"id\":\"79974\"}]},\"id\":\"80022\",\"type\":\"ProxyToolbar\"},{\"attributes\":{},\"id\":\"79393\",\"type\":\"SaveTool\"},{\"attributes\":{\"children\":[{\"id\":\"81005\"},{\"id\":\"81472\"},{\"id\":\"81939\"},{\"id\":\"82406\"},{\"id\":\"82873\"}],\"margin\":[0,0,0,0],\"name\":\"Column88192\"},\"id\":\"81004\",\"type\":\"Column\"},{\"attributes\":{\"bottom_units\":\"screen\",\"fill_alpha\":0.5,\"fill_color\":\"lightgrey\",\"left_units\":\"screen\",\"level\":\"overlay\",\"line_alpha\":1.0,\"line_color\":\"black\",\"line_dash\":[4,4],\"line_width\":2,\"right_units\":\"screen\",\"syncable\":false,\"top_units\":\"screen\"},\"id\":\"77957\",\"type\":\"BoxAnnotation\"},{\"attributes\":{\"bottom\":{\"value\":0},\"fill_alpha\":{\"value\":1.0},\"fill_color\":{\"value\":\"Green\"},\"hatch_alpha\":{\"value\":1.0},\"hatch_color\":{\"value\":\"black\"},\"hatch_scale\":{\"value\":12.0},\"hatch_weight\":{\"value\":1.0},\"line_alpha\":{\"value\":1.0},\"line_cap\":{\"value\":\"butt\"},\"line_color\":{\"value\":\"black\"},\"line_dash\":{\"value\":[]},\"line_dash_offset\":{\"value\":0},\"line_join\":{\"value\":\"bevel\"},\"line_width\":{\"value\":1},\"top\":{\"field\":\"TOTAL\"},\"width\":{\"value\":0.8},\"x\":{\"field\":\"Year\"}},\"id\":\"79127\",\"type\":\"VBar\"},{\"attributes\":{\"overlay\":{\"id\":\"79398\"}},\"id\":\"79396\",\"type\":\"BoxZoomTool\"},{\"attributes\":{\"child\":{\"id\":\"80188\"},\"name\":\"Column88289\",\"title\":\"Load Factor\"},\"id\":\"80765\",\"type\":\"Panel\"},{\"attributes\":{},\"id\":\"79397\",\"type\":\"ResetTool\"},{\"attributes\":{\"active_multi\":null,\"tools\":[{\"id\":\"79376\"},{\"id\":\"79393\"},{\"id\":\"79394\"},{\"id\":\"79395\"},{\"id\":\"79396\"},{\"id\":\"79397\"}]},\"id\":\"79399\",\"type\":\"Toolbar\"},{\"attributes\":{},\"id\":\"78263\",\"type\":\"CategoricalTickFormatter\"},{\"attributes\":{},\"id\":\"78790\",\"type\":\"AllLabels\"},{\"attributes\":{\"bottom\":{\"value\":0},\"fill_alpha\":{\"value\":1.0},\"fill_color\":{\"value\":\"Red\"},\"hatch_alpha\":{\"value\":1.0},\"hatch_color\":{\"value\":\"black\"},\"hatch_scale\":{\"value\":12.0},\"hatch_weight\":{\"value\":1.0},\"line_alpha\":{\"value\":1.0},\"line_cap\":{\"value\":\"butt\"},\"line_color\":{\"value\":\"black\"},\"line_dash\":{\"value\":[]},\"line_dash_offset\":{\"value\":0},\"line_join\":{\"value\":\"bevel\"},\"line_width\":{\"value\":1},\"top\":{\"field\":\"TOTAL\"},\"width\":{\"value\":0.8},\"x\":{\"field\":\"Year\"}},\"id\":\"78260\",\"type\":\"VBar\"},{\"attributes\":{\"fill_color\":{\"value\":\"Blue\"},\"top\":{\"field\":\"TOTAL\"},\"width\":{\"value\":0.8},\"x\":{\"field\":\"Year\"}},\"id\":\"78781\",\"type\":\"VBar\"},{\"attributes\":{},\"id\":\"78779\",\"type\":\"Selection\"},{\"attributes\":{},\"id\":\"82442\",\"type\":\"CategoricalTickFormatter\"},{\"attributes\":{\"format\":\"%.0f\"},\"id\":\"78787\",\"type\":\"PrintfTickFormatter\"},{\"attributes\":{\"data_source\":{\"id\":\"82256\"},\"glyph\":{\"id\":\"82259\"},\"hover_glyph\":null,\"muted_glyph\":{\"id\":\"82261\"},\"nonselection_glyph\":{\"id\":\"82260\"},\"selection_glyph\":{\"id\":\"82279\"},\"view\":{\"id\":\"82263\"}},\"id\":\"82262\",\"type\":\"GlyphRenderer\"},{\"attributes\":{},\"id\":\"78264\",\"type\":\"AllLabels\"},{\"attributes\":{},\"id\":\"79720\",\"type\":\"UnionRenderers\"},{\"attributes\":{\"format\":\"%.0f\"},\"id\":\"78261\",\"type\":\"PrintfTickFormatter\"},{\"attributes\":{},\"id\":\"78789\",\"type\":\"CategoricalTickFormatter\"},{\"attributes\":{\"factors\":[\"2002\",\"2003\",\"2004\",\"2005\",\"2006\",\"2007\",\"2008\",\"2009\",\"2010\",\"2011\",\"2012\",\"2013\",\"2014\",\"2015\",\"2016\",\"2017\",\"2018\",\"2019\",\"2020\",\"2021\"],\"tags\":[[[\"Year\",\"Year\",null]]]},\"id\":\"78746\",\"type\":\"FactorRange\"},{\"attributes\":{},\"id\":\"78759\",\"type\":\"CategoricalTicker\"},{\"attributes\":{\"end\":1.1942974356327503,\"reset_end\":1.1942974356327503,\"reset_start\":-0.05939359942587197,\"start\":-0.05939359942587197,\"tags\":[[[\"value\",\"value\",null]]]},\"id\":\"82174\",\"type\":\"Range1d\"},{\"attributes\":{},\"id\":\"82448\",\"type\":\"Selection\"},{\"attributes\":{},\"id\":\"82443\",\"type\":\"AllLabels\"},{\"attributes\":{\"text\":\"Southwest Airlines Flights - All Airports\",\"text_color\":\"black\",\"text_font_size\":\"12pt\"},\"id\":\"78750\",\"type\":\"Title\"},{\"attributes\":{},\"id\":\"82446\",\"type\":\"AllLabels\"},{\"attributes\":{},\"id\":\"81024\",\"type\":\"BasicTicker\"},{\"attributes\":{},\"id\":\"78793\",\"type\":\"AllLabels\"},{\"attributes\":{},\"id\":\"82445\",\"type\":\"BasicTickFormatter\"},{\"attributes\":{\"data\":{\"Report Date\":[\"2011-06-30\",\"2011-09-30\",\"2011-12-31\",\"2012-03-31\",\"2012-06-30\",\"2012-09-30\",\"2012-12-31\",\"2013-03-31\",\"2013-06-30\",\"2013-09-30\",\"2013-12-31\",\"2014-03-31\",\"2014-06-30\",\"2014-09-30\",\"2014-12-31\",\"2015-03-31\",\"2015-06-30\",\"2015-09-30\",\"2015-12-31\",\"2016-03-31\",\"2016-06-30\",\"2016-09-30\",\"2016-12-31\",\"2017-03-31\",\"2017-06-30\",\"2017-09-30\",\"2017-12-31\",\"2018-03-31\",\"2018-06-30\",\"2018-09-30\",\"2018-12-31\",\"2019-03-31\",\"2019-06-30\",\"2019-09-30\",\"2019-12-31\",\"2020-03-31\",\"2020-06-29\",\"2020-12-30\",\"2021-03-30\"],\"Report_Date\":[\"2011-06-30\",\"2011-09-30\",\"2011-12-31\",\"2012-03-31\",\"2012-06-30\",\"2012-09-30\",\"2012-12-31\",\"2013-03-31\",\"2013-06-30\",\"2013-09-30\",\"2013-12-31\",\"2014-03-31\",\"2014-06-30\",\"2014-09-30\",\"2014-12-31\",\"2015-03-31\",\"2015-06-30\",\"2015-09-30\",\"2015-12-31\",\"2016-03-31\",\"2016-06-30\",\"2016-09-30\",\"2016-12-31\",\"2017-03-31\",\"2017-06-30\",\"2017-09-30\",\"2017-12-31\",\"2018-03-31\",\"2018-06-30\",\"2018-09-30\",\"2018-12-31\",\"2019-03-31\",\"2019-06-30\",\"2019-09-30\",\"2019-12-31\",\"2020-03-31\",\"2020-06-29\",\"2020-12-30\",\"2021-03-30\"],\"Variable\":[\"UAL Revenue\",\"UAL Revenue\",\"UAL Revenue\",\"UAL Revenue\",\"UAL Revenue\",\"UAL Revenue\",\"UAL Revenue\",\"UAL Revenue\",\"UAL Revenue\",\"UAL Revenue\",\"UAL Revenue\",\"UAL Revenue\",\"UAL Revenue\",\"UAL Revenue\",\"UAL Revenue\",\"UAL Revenue\",\"UAL Revenue\",\"UAL Revenue\",\"UAL Revenue\",\"UAL Revenue\",\"UAL Revenue\",\"UAL Revenue\",\"UAL Revenue\",\"UAL Revenue\",\"UAL Revenue\",\"UAL Revenue\",\"UAL Revenue\",\"UAL Revenue\",\"UAL Revenue\",\"UAL Revenue\",\"UAL Revenue\",\"UAL Revenue\",\"UAL Revenue\",\"UAL Revenue\",\"UAL Revenue\",\"UAL Revenue\",\"UAL Revenue\",\"UAL Revenue\",\"UAL Revenue\"],\"value\":{\"__ndarray__\":\"AAAAsktFAkIAAAAm6fECQgAAAMAzoQBCAAAA1MAFAEIAAADWSIMCQgAAALr6dAJCAAAA3G81AEIAAAAyfz4AQgAAADLZoAJCAAAAKBcNA0IAAADyaWABQgAAAHCTMgBCAAAAQkA9A0IAAAC21KwDQgAAANLIWAFCAAAAQJ0IAEIAAAAUXXcCQgAAAKRIMgNCAAAAWLPUAEIAAABsXIf+QQAAAKhcgAFCAAAAAuN2AkIAAACcSN0AQgAAAOioY/9BAAAAsC+kAkIAAAAGNnACQgAAAIaWmgFCAAAAEMvSAEIAAADC3xIEQgAAAKajfgRCAAAApn+KA0IAAAA6ZNwBQgAAALTlPAVCAAAAKGgyBUIAAACQzUcEQgAAAAxeuf1BAAAAsK361UEAAACg32vpQQAAAOiR/+dB\",\"dtype\":\"float64\",\"order\":\"little\",\"shape\":[39]}},\"selected\":{\"id\":\"81090\"},\"selection_policy\":{\"id\":\"81108\"}},\"id\":\"81089\",\"type\":\"ColumnDataSource\"},{\"attributes\":{\"callback\":null,\"renderers\":[{\"id\":\"78784\"}],\"tags\":[\"hv_created\"],\"tooltips\":[[\"Year\",\"@{Year}\"],[\"TOTAL\",\"@{TOTAL}\"]]},\"id\":\"78748\",\"type\":\"HoverTool\"},{\"attributes\":{},\"id\":\"78267\",\"type\":\"AllLabels\"},{\"attributes\":{},\"id\":\"82185\",\"type\":\"LinearScale\"},{\"attributes\":{\"toolbar\":{\"id\":\"78291\"},\"toolbar_location\":\"above\"},\"id\":\"78292\",\"type\":\"ToolbarBox\"},{\"attributes\":{\"end\":1493670.1,\"reset_end\":1493670.1,\"reset_start\":0.0,\"tags\":[[[\"TOTAL\",\"TOTAL\",null]]]},\"id\":\"78747\",\"type\":\"Range1d\"},{\"attributes\":{\"factors\":[\"2011-06-30\",\"2011-09-30\",\"2011-12-31\",\"2012-03-31\",\"2012-06-30\",\"2012-09-30\",\"2012-12-31\",\"2013-03-31\",\"2013-06-30\",\"2013-09-30\",\"2013-12-31\",\"2014-03-31\",\"2014-06-30\",\"2014-09-30\",\"2014-12-31\",\"2015-03-31\",\"2015-06-30\",\"2015-09-30\",\"2015-12-31\",\"2016-03-31\",\"2016-06-30\",\"2016-09-30\",\"2016-12-31\",\"2017-03-31\",\"2017-06-30\",\"2017-09-30\",\"2017-12-31\",\"2018-03-31\",\"2018-06-30\",\"2018-09-30\",\"2018-12-31\",\"2019-03-31\",\"2019-06-30\",\"2019-09-30\",\"2019-12-31\",\"2020-03-31\",\"2020-06-29\",\"2020-12-30\",\"2021-03-30\"],\"tags\":[[[\"Report Date\",\"Report Date\",null]]]},\"id\":\"82173\",\"type\":\"FactorRange\"},{\"attributes\":{\"factors\":[\"2002\",\"2003\",\"2004\",\"2005\",\"2006\",\"2007\",\"2008\",\"2009\",\"2010\",\"2011\",\"2012\",\"2013\",\"2014\",\"2015\",\"2016\",\"2017\",\"2018\",\"2019\",\"2020\",\"2021\"],\"tags\":[[[\"Year\",\"Year\",null]]]},\"id\":\"78796\",\"type\":\"FactorRange\"},{\"attributes\":{\"factors\":[\"2011-06-30\",\"2011-09-30\",\"2011-12-31\",\"2012-03-31\",\"2012-06-30\",\"2012-09-30\",\"2012-12-31\",\"2013-03-31\",\"2013-06-30\",\"2013-09-30\",\"2013-12-31\",\"2014-03-31\",\"2014-06-30\",\"2014-09-30\",\"2014-12-31\",\"2015-03-31\",\"2015-06-30\",\"2015-09-30\",\"2015-12-31\",\"2016-03-31\",\"2016-06-30\",\"2016-09-30\",\"2016-12-31\",\"2017-03-31\",\"2017-06-30\",\"2017-09-30\",\"2017-12-31\",\"2018-03-31\",\"2018-06-30\",\"2018-09-30\",\"2018-12-31\",\"2019-03-31\",\"2019-06-30\",\"2019-09-30\",\"2019-12-31\",\"2020-03-31\",\"2020-06-29\",\"2020-12-30\",\"2021-03-30\"],\"tags\":[[[\"Report Date\",\"Report Date\",null]]]},\"id\":\"81006\",\"type\":\"FactorRange\"},{\"attributes\":{},\"id\":\"78754\",\"type\":\"CategoricalScale\"},{\"attributes\":{\"below\":[{\"id\":\"81020\"}],\"center\":[{\"id\":\"81022\"},{\"id\":\"81026\"}],\"left\":[{\"id\":\"81023\"}],\"margin\":[5,5,5,5],\"min_border_bottom\":10,\"min_border_left\":10,\"min_border_right\":10,\"min_border_top\":10,\"renderers\":[{\"id\":\"81052\"},{\"id\":\"81073\"},{\"id\":\"81095\"}],\"right\":[{\"id\":\"81064\"}],\"sizing_mode\":\"fixed\",\"title\":{\"id\":\"81012\"},\"toolbar\":{\"id\":\"81033\"},\"width\":900,\"x_range\":{\"id\":\"81006\"},\"x_scale\":{\"id\":\"81016\"},\"y_range\":{\"id\":\"81007\"},\"y_scale\":{\"id\":\"81018\"}},\"id\":\"81011\",\"subtype\":\"Figure\",\"type\":\"Plot\"},{\"attributes\":{\"below\":[{\"id\":\"78758\"}],\"center\":[{\"id\":\"78760\"},{\"id\":\"78764\"}],\"height\":500,\"left\":[{\"id\":\"78761\"}],\"margin\":null,\"min_border_bottom\":10,\"min_border_left\":10,\"min_border_right\":10,\"min_border_top\":10,\"renderers\":[{\"id\":\"78784\"}],\"sizing_mode\":\"fixed\",\"title\":{\"id\":\"78750\"},\"toolbar\":{\"id\":\"78771\"},\"toolbar_location\":null,\"width\":900,\"x_range\":{\"id\":\"78746\"},\"x_scale\":{\"id\":\"78754\"},\"y_range\":{\"id\":\"78747\"},\"y_scale\":{\"id\":\"78756\"}},\"id\":\"78749\",\"subtype\":\"Figure\",\"type\":\"Plot\"},{\"attributes\":{\"data_source\":{\"id\":\"82213\"},\"glyph\":{\"id\":\"82216\"},\"hover_glyph\":null,\"muted_glyph\":{\"id\":\"82218\"},\"nonselection_glyph\":{\"id\":\"82217\"},\"selection_glyph\":{\"id\":\"82233\"},\"view\":{\"id\":\"82220\"}},\"id\":\"82219\",\"type\":\"GlyphRenderer\"},{\"attributes\":{},\"id\":\"81018\",\"type\":\"LinearScale\"},{\"attributes\":{\"data\":{\"TOTAL\":[947490,949938,981674,1028803,1092343,1160714,1191154,1125111,1114451,1145163,1132447,1123988,1166582,1267355,1311139,1347881,1375022,1367721,897538,188541],\"Year\":[\"2002\",\"2003\",\"2004\",\"2005\",\"2006\",\"2007\",\"2008\",\"2009\",\"2010\",\"2011\",\"2012\",\"2013\",\"2014\",\"2015\",\"2016\",\"2017\",\"2018\",\"2019\",\"2020\",\"2021\"]},\"selected\":{\"id\":\"78779\"},\"selection_policy\":{\"id\":\"78852\"}},\"id\":\"78778\",\"type\":\"ColumnDataSource\"},{\"attributes\":{\"data\":{\"Report Date\":[\"2011-09-30\",\"2011-12-31\",\"2012-03-31\",\"2012-06-30\",\"2012-12-31\",\"2013-06-30\",\"2013-12-31\",\"2014-03-31\",\"2014-06-30\",\"2014-09-30\",\"2014-12-31\",\"2015-03-31\",\"2015-06-30\",\"2015-09-30\",\"2015-12-31\",\"2016-03-31\",\"2016-06-30\",\"2016-09-30\",\"2016-12-31\",\"2017-03-31\",\"2017-06-30\",\"2017-09-30\",\"2017-12-31\",\"2018-03-31\",\"2018-06-30\",\"2018-09-30\",\"2018-12-31\",\"2019-03-31\",\"2019-06-30\",\"2019-09-30\",\"2019-12-31\",\"2020-03-31\",\"2020-06-29\",\"2020-12-30\",\"2021-03-30\"],\"Report_Date\":[\"2011-09-30\",\"2011-12-31\",\"2012-03-31\",\"2012-06-30\",\"2012-12-31\",\"2013-06-30\",\"2013-12-31\",\"2014-03-31\",\"2014-06-30\",\"2014-09-30\",\"2014-12-31\",\"2015-03-31\",\"2015-06-30\",\"2015-09-30\",\"2015-12-31\",\"2016-03-31\",\"2016-06-30\",\"2016-09-30\",\"2016-12-31\",\"2017-03-31\",\"2017-06-30\",\"2017-09-30\",\"2017-12-31\",\"2018-03-31\",\"2018-06-30\",\"2018-09-30\",\"2018-12-31\",\"2019-03-31\",\"2019-06-30\",\"2019-09-30\",\"2019-12-31\",\"2020-03-31\",\"2020-06-29\",\"2020-12-30\",\"2021-03-30\"],\"Variable\":[\"UAL SROE\",\"UAL SROE\",\"UAL SROE\",\"UAL SROE\",\"UAL SROE\",\"UAL SROE\",\"UAL SROE\",\"UAL SROE\",\"UAL SROE\",\"UAL SROE\",\"UAL SROE\",\"UAL SROE\",\"UAL SROE\",\"UAL SROE\",\"UAL SROE\",\"UAL SROE\",\"UAL SROE\",\"UAL SROE\",\"UAL SROE\",\"UAL SROE\",\"UAL SROE\",\"UAL SROE\",\"UAL SROE\",\"UAL SROE\",\"UAL SROE\",\"UAL SROE\",\"UAL SROE\",\"UAL SROE\",\"UAL SROE\",\"UAL SROE\",\"UAL SROE\",\"UAL SROE\",\"UAL SROE\",\"UAL SROE\",\"UAL SROE\"],\"value\":{\"__ndarray__\":\"IrlP5nwT0j/fRMv1u4+zvzFassby/NK/oah5XRmKyj/7SRXYqp/0v9vwRyr3qdg/RAoNmX0FqD/cLUZvxTnOv/n10NyDLM4/6k1vetObzj8Hp6+j5+6HPzTqOxv1ncU/zG6UaeaF0j9uR0eWpgPiP5K9WPqgf7c/6f25VtlwpD//3Jinj1azPy5zbVgLRr0/uCb7S3LCpT8KgxjXRf+HPyVT5rPrvLc/50cEcXRosj+D4pgwDfGwPwP+47DYz5E/EyqM+kc9tD8BVcMTSYW2P6JouyFxnac/jam9PTqBnj+3iaGVmxi6P+0Ivt9PMrc/oOFkwDJ2rD+xlrz3tyjHv9tlZ1Cpc8i//mPVG9de1L/P4RiJqq7Qvw==\",\"dtype\":\"float64\",\"order\":\"little\",\"shape\":[35]}},\"selected\":{\"id\":\"82491\"},\"selection_policy\":{\"id\":\"82509\"}},\"id\":\"82490\",\"type\":\"ColumnDataSource\"},{\"attributes\":{\"axis\":{\"id\":\"78758\"},\"grid_line_color\":null,\"ticker\":null},\"id\":\"78760\",\"type\":\"Grid\"},{\"attributes\":{\"below\":[{\"id\":\"82187\"}],\"center\":[{\"id\":\"82189\"},{\"id\":\"82193\"}],\"left\":[{\"id\":\"82190\"}],\"margin\":[5,5,5,5],\"min_border_bottom\":10,\"min_border_left\":10,\"min_border_right\":10,\"min_border_top\":10,\"renderers\":[{\"id\":\"82219\"},{\"id\":\"82240\"},{\"id\":\"82262\"}],\"right\":[{\"id\":\"82231\"}],\"sizing_mode\":\"fixed\",\"title\":{\"id\":\"82179\"},\"toolbar\":{\"id\":\"82200\"},\"width\":900,\"x_range\":{\"id\":\"82173\"},\"x_scale\":{\"id\":\"82183\"},\"y_range\":{\"id\":\"82174\"},\"y_scale\":{\"id\":\"82185\"}},\"id\":\"82178\",\"subtype\":\"Figure\",\"type\":\"Plot\"},{\"attributes\":{\"line_color\":\"#30a2da\",\"line_width\":2,\"x\":{\"field\":\"Report Date\"},\"y\":{\"field\":\"value\"}},\"id\":\"81049\",\"type\":\"Line\"},{\"attributes\":{},\"id\":\"78756\",\"type\":\"LinearScale\"},{\"attributes\":{\"line_color\":\"#30a2da\",\"line_width\":2,\"x\":{\"field\":\"Year\"},\"y\":{\"field\":\"value\"}},\"id\":\"80828\",\"type\":\"Line\"},{\"attributes\":{},\"id\":\"78809\",\"type\":\"CategoricalTicker\"},{\"attributes\":{\"axis\":{\"id\":\"78761\"},\"dimension\":1,\"grid_line_color\":null,\"ticker\":null},\"id\":\"78764\",\"type\":\"Grid\"},{\"attributes\":{\"line_alpha\":0.2,\"line_color\":\"#e5ae38\",\"line_width\":2,\"x\":{\"field\":\"Report Date\"},\"y\":{\"field\":\"value\"}},\"id\":\"82261\",\"type\":\"Line\"},{\"attributes\":{\"end\":13715200000.0,\"reset_end\":13715200000.0,\"reset_start\":-147200000.0,\"start\":-147200000.0,\"tags\":[[[\"value\",\"value\",null]]]},\"id\":\"81007\",\"type\":\"Range1d\"},{\"attributes\":{},\"id\":\"78766\",\"type\":\"PanTool\"},{\"attributes\":{\"axis_label\":\"Year\",\"formatter\":{\"id\":\"78789\"},\"major_label_policy\":{\"id\":\"78790\"},\"ticker\":{\"id\":\"78759\"}},\"id\":\"78758\",\"type\":\"CategoricalAxis\"},{\"attributes\":{\"callback\":null,\"renderers\":[{\"id\":\"82219\"},{\"id\":\"82240\"},{\"id\":\"82262\"}],\"tags\":[\"hv_created\"],\"tooltips\":[[\"Variable\",\"@{Variable}\"],[\"Report Date\",\"@{Report_Date}\"],[\"value\",\"@{value}\"]]},\"id\":\"82175\",\"type\":\"HoverTool\"},{\"attributes\":{\"text\":\"United Airlines Flights - All Airports\",\"text_color\":\"black\",\"text_font_size\":\"12pt\"},\"id\":\"78800\",\"type\":\"Title\"},{\"attributes\":{\"callback\":null,\"renderers\":[{\"id\":\"81052\"},{\"id\":\"81073\"},{\"id\":\"81095\"}],\"tags\":[\"hv_created\"],\"tooltips\":[[\"Variable\",\"@{Variable}\"],[\"Report Date\",\"@{Report_Date}\"],[\"value\",\"@{value}\"]]},\"id\":\"81008\",\"type\":\"HoverTool\"},{\"attributes\":{\"data\":{\"Variable\":[\"United Airlines Total\",\"United Airlines Total\",\"United Airlines Total\",\"United Airlines Total\",\"United Airlines Total\",\"United Airlines Total\",\"United Airlines Total\",\"United Airlines Total\",\"United Airlines Total\",\"United Airlines Total\",\"United Airlines Total\",\"United Airlines Total\",\"United Airlines Total\",\"United Airlines Total\",\"United Airlines Total\",\"United Airlines Total\",\"United Airlines Total\",\"United Airlines Total\",\"United Airlines Total\",\"United Airlines Total\",\"United Airlines Total\",\"United Airlines Total\",\"United Airlines Total\",\"United Airlines Total\",\"United Airlines Total\",\"United Airlines Total\",\"United Airlines Total\",\"United Airlines Total\",\"United Airlines Total\",\"United Airlines Total\",\"United Airlines Total\",\"United Airlines Total\"],\"Year\":[1990,1991,1992,1993,1994,1995,1996,1997,1998,1999,2000,2001,2002,2003,2004,2005,2006,2007,2008,2009,2010,2011,2012,2013,2014,2015,2016,2017,2018,2019,2020,2021],\"value\":{\"__ndarray__\":\"AAAAAHTn8UAAAAAAcCXzQFVVVVX5G/RAq6qqqn4U9ECrqqqq4pDyQKuqqqragPNAVVVVVRmO9EAAAAAAdLP1QFRVVVVV4PZAVFVVVd3h90Csqqqqypr4QAAAAAAED/hAVVVVVaUJ9EBVVVVVCVPwQFRVVVVNU+5Aq6qqqpJd7ECrqqqqMmLrQAAAAAD4xOpAq6qqqpLk6UCrqqqqqlPnQKuqqqpKmOZAVFVVVbWF5kBVVVVVsXb1QFVVVVVFg/VAAAAAAAzn9EAAAAAAzIP0QKuqqqouHPVAVVVVVYWO9UCrqqqqhpv1QKyqqqqCEvZAVVVVVWlV80AAAAAAXL/wQA==\",\"dtype\":\"float64\",\"order\":\"little\",\"shape\":[32]}},\"selected\":{\"id\":\"80852\"},\"selection_policy\":{\"id\":\"80870\"}},\"id\":\"80851\",\"type\":\"ColumnDataSource\"},{\"attributes\":{\"axis_label\":\"Number of Flights\",\"formatter\":{\"id\":\"78787\"},\"major_label_policy\":{\"id\":\"78793\"},\"ticker\":{\"id\":\"78762\"}},\"id\":\"78761\",\"type\":\"LinearAxis\"},{\"attributes\":{\"label\":{\"value\":\"Southwest Airlines Total\"},\"renderers\":[{\"id\":\"80835\"}]},\"id\":\"80849\",\"type\":\"LegendItem\"},{\"attributes\":{\"callback\":null,\"renderers\":[{\"id\":\"78834\"}],\"tags\":[\"hv_created\"],\"tooltips\":[[\"Year\",\"@{Year}\"],[\"TOTAL\",\"@{TOTAL}\"]]},\"id\":\"78798\",\"type\":\"HoverTool\"},{\"attributes\":{},\"id\":\"78762\",\"type\":\"BasicTicker\"},{\"attributes\":{},\"id\":\"80830\",\"type\":\"Selection\"},{\"attributes\":{\"text\":\"Quarterly Revenue from 2011 to 2021\",\"text_color\":\"black\",\"text_font_size\":\"12pt\"},\"id\":\"81012\",\"type\":\"Title\"},{\"attributes\":{},\"id\":\"78767\",\"type\":\"WheelZoomTool\"},{\"attributes\":{\"end\":867160.7,\"reset_end\":867160.7,\"reset_start\":0.0,\"tags\":[[[\"TOTAL\",\"TOTAL\",null]]]},\"id\":\"78797\",\"type\":\"Range1d\"},{\"attributes\":{\"data_source\":{\"id\":\"78778\"},\"glyph\":{\"id\":\"78781\"},\"hover_glyph\":null,\"muted_glyph\":{\"id\":\"78783\"},\"nonselection_glyph\":{\"id\":\"78782\"},\"selection_glyph\":{\"id\":\"78786\"},\"view\":{\"id\":\"78785\"}},\"id\":\"78784\",\"type\":\"GlyphRenderer\"},{\"attributes\":{},\"id\":\"78804\",\"type\":\"CategoricalScale\"},{\"attributes\":{},\"id\":\"78765\",\"type\":\"SaveTool\"},{\"attributes\":{},\"id\":\"82183\",\"type\":\"CategoricalScale\"},{\"attributes\":{\"below\":[{\"id\":\"78808\"}],\"center\":[{\"id\":\"78810\"},{\"id\":\"78814\"}],\"height\":500,\"left\":[{\"id\":\"78811\"}],\"margin\":null,\"min_border_bottom\":10,\"min_border_left\":10,\"min_border_right\":10,\"min_border_top\":10,\"renderers\":[{\"id\":\"78834\"}],\"sizing_mode\":\"fixed\",\"title\":{\"id\":\"78800\"},\"toolbar\":{\"id\":\"78821\"},\"toolbar_location\":null,\"width\":900,\"x_range\":{\"id\":\"78796\"},\"x_scale\":{\"id\":\"78804\"},\"y_range\":{\"id\":\"78797\"},\"y_scale\":{\"id\":\"78806\"}},\"id\":\"78799\",\"subtype\":\"Figure\",\"type\":\"Plot\"},{\"attributes\":{\"text\":\"Quarterly Quick Ratio from 2011 to 2021\",\"text_color\":\"black\",\"text_font_size\":\"12pt\"},\"id\":\"82179\",\"type\":\"Title\"},{\"attributes\":{\"data\":{\"TOTAL\":[640283,590912,605406,540660,554731,543821,504500,428703,394054,365244,685085,659138,650049,674292,704426,747871,784044,795002,353190,73415],\"Year\":[\"2002\",\"2003\",\"2004\",\"2005\",\"2006\",\"2007\",\"2008\",\"2009\",\"2010\",\"2011\",\"2012\",\"2013\",\"2014\",\"2015\",\"2016\",\"2017\",\"2018\",\"2019\",\"2020\",\"2021\"]},\"selected\":{\"id\":\"78829\"},\"selection_policy\":{\"id\":\"78862\"}},\"id\":\"78828\",\"type\":\"ColumnDataSource\"},{\"attributes\":{\"overlay\":{\"id\":\"78770\"}},\"id\":\"78768\",\"type\":\"BoxZoomTool\"},{\"attributes\":{\"data_source\":{\"id\":\"80829\"},\"glyph\":{\"id\":\"80832\"},\"hover_glyph\":null,\"muted_glyph\":{\"id\":\"80834\"},\"nonselection_glyph\":{\"id\":\"80833\"},\"selection_glyph\":{\"id\":\"80850\"},\"view\":{\"id\":\"80836\"}},\"id\":\"80835\",\"type\":\"GlyphRenderer\"},{\"attributes\":{\"axis\":{\"id\":\"78808\"},\"grid_line_color\":null,\"ticker\":null},\"id\":\"78810\",\"type\":\"Grid\"},{\"attributes\":{},\"id\":\"81021\",\"type\":\"CategoricalTicker\"},{\"attributes\":{\"line_alpha\":0.1,\"line_color\":\"#fc4f30\",\"line_width\":2,\"x\":{\"field\":\"Year\"},\"y\":{\"field\":\"value\"}},\"id\":\"80833\",\"type\":\"Line\"},{\"attributes\":{},\"id\":\"82191\",\"type\":\"BasicTicker\"},{\"attributes\":{},\"id\":\"78769\",\"type\":\"ResetTool\"},{\"attributes\":{},\"id\":\"78806\",\"type\":\"LinearScale\"},{\"attributes\":{},\"id\":\"81016\",\"type\":\"CategoricalScale\"},{\"attributes\":{\"axis\":{\"id\":\"78811\"},\"dimension\":1,\"grid_line_color\":null,\"ticker\":null},\"id\":\"78814\",\"type\":\"Grid\"},{\"attributes\":{\"data\":[{\"branchvalues\":\"total\",\"domain\":{\"x\":[0.0,1.0],\"y\":[0.0,1.0]},\"hovertemplate\":\"labels=%{label}<br>value=%{value}<br>parent=%{parent}<br>id=%{id}<br>hover_data_0=%{customdata[0]}<br>hover_data_1=%{customdata[1]}<br>color=%{color}<extra></extra>\",\"marker\":{\"coloraxis\":\"coloraxis\"},\"name\":\"\",\"type\":\"sunburst\"}],\"data_sources\":[{\"id\":\"81001\"}],\"layout\":{\"coloraxis\":{\"colorbar\":{\"title\":{\"text\":\"color\"}},\"colorscale\":[[0.0,\"rgb(158,1,66)\"],[0.1,\"rgb(213,62,79)\"],[0.2,\"rgb(244,109,67)\"],[0.3,\"rgb(253,174,97)\"],[0.4,\"rgb(254,224,139)\"],[0.5,\"rgb(255,255,191)\"],[0.6,\"rgb(230,245,152)\"],[0.7,\"rgb(171,221,164)\"],[0.8,\"rgb(102,194,165)\"],[0.9,\"rgb(50,136,189)\"],[1.0,\"rgb(94,79,162)\"]]},\"legend\":{\"tracegroupgap\":0},\"template\":{\"data\":{\"bar\":[{\"error_x\":{\"color\":\"#2a3f5f\"},\"error_y\":{\"color\":\"#2a3f5f\"},\"marker\":{\"line\":{\"color\":\"#E5ECF6\",\"width\":0.5}},\"type\":\"bar\"}],\"barpolar\":[{\"marker\":{\"line\":{\"color\":\"#E5ECF6\",\"width\":0.5}},\"type\":\"barpolar\"}],\"carpet\":[{\"aaxis\":{\"endlinecolor\":\"#2a3f5f\",\"gridcolor\":\"white\",\"linecolor\":\"white\",\"minorgridcolor\":\"white\",\"startlinecolor\":\"#2a3f5f\"},\"baxis\":{\"endlinecolor\":\"#2a3f5f\",\"gridcolor\":\"white\",\"linecolor\":\"white\",\"minorgridcolor\":\"white\",\"startlinecolor\":\"#2a3f5f\"},\"type\":\"carpet\"}],\"choropleth\":[{\"colorbar\":{\"outlinewidth\":0,\"ticks\":\"\"},\"type\":\"choropleth\"}],\"contour\":[{\"colorbar\":{\"outlinewidth\":0,\"ticks\":\"\"},\"colorscale\":[[0.0,\"#0d0887\"],[0.1111111111111111,\"#46039f\"],[0.2222222222222222,\"#7201a8\"],[0.3333333333333333,\"#9c179e\"],[0.4444444444444444,\"#bd3786\"],[0.5555555555555556,\"#d8576b\"],[0.6666666666666666,\"#ed7953\"],[0.7777777777777778,\"#fb9f3a\"],[0.8888888888888888,\"#fdca26\"],[1.0,\"#f0f921\"]],\"type\":\"contour\"}],\"contourcarpet\":[{\"colorbar\":{\"outlinewidth\":0,\"ticks\":\"\"},\"type\":\"contourcarpet\"}],\"heatmap\":[{\"colorbar\":{\"outlinewidth\":0,\"ticks\":\"\"},\"colorscale\":[[0.0,\"#0d0887\"],[0.1111111111111111,\"#46039f\"],[0.2222222222222222,\"#7201a8\"],[0.3333333333333333,\"#9c179e\"],[0.4444444444444444,\"#bd3786\"],[0.5555555555555556,\"#d8576b\"],[0.6666666666666666,\"#ed7953\"],[0.7777777777777778,\"#fb9f3a\"],[0.8888888888888888,\"#fdca26\"],[1.0,\"#f0f921\"]],\"type\":\"heatmap\"}],\"heatmapgl\":[{\"colorbar\":{\"outlinewidth\":0,\"ticks\":\"\"},\"colorscale\":[[0.0,\"#0d0887\"],[0.1111111111111111,\"#46039f\"],[0.2222222222222222,\"#7201a8\"],[0.3333333333333333,\"#9c179e\"],[0.4444444444444444,\"#bd3786\"],[0.5555555555555556,\"#d8576b\"],[0.6666666666666666,\"#ed7953\"],[0.7777777777777778,\"#fb9f3a\"],[0.8888888888888888,\"#fdca26\"],[1.0,\"#f0f921\"]],\"type\":\"heatmapgl\"}],\"histogram\":[{\"marker\":{\"colorbar\":{\"outlinewidth\":0,\"ticks\":\"\"}},\"type\":\"histogram\"}],\"histogram2d\":[{\"colorbar\":{\"outlinewidth\":0,\"ticks\":\"\"},\"colorscale\":[[0.0,\"#0d0887\"],[0.1111111111111111,\"#46039f\"],[0.2222222222222222,\"#7201a8\"],[0.3333333333333333,\"#9c179e\"],[0.4444444444444444,\"#bd3786\"],[0.5555555555555556,\"#d8576b\"],[0.6666666666666666,\"#ed7953\"],[0.7777777777777778,\"#fb9f3a\"],[0.8888888888888888,\"#fdca26\"],[1.0,\"#f0f921\"]],\"type\":\"histogram2d\"}],\"histogram2dcontour\":[{\"colorbar\":{\"outlinewidth\":0,\"ticks\":\"\"},\"colorscale\":[[0.0,\"#0d0887\"],[0.1111111111111111,\"#46039f\"],[0.2222222222222222,\"#7201a8\"],[0.3333333333333333,\"#9c179e\"],[0.4444444444444444,\"#bd3786\"],[0.5555555555555556,\"#d8576b\"],[0.6666666666666666,\"#ed7953\"],[0.7777777777777778,\"#fb9f3a\"],[0.8888888888888888,\"#fdca26\"],[1.0,\"#f0f921\"]],\"type\":\"histogram2dcontour\"}],\"mesh3d\":[{\"colorbar\":{\"outlinewidth\":0,\"ticks\":\"\"},\"type\":\"mesh3d\"}],\"parcoords\":[{\"line\":{\"colorbar\":{\"outlinewidth\":0,\"ticks\":\"\"}},\"type\":\"parcoords\"}],\"pie\":[{\"automargin\":true,\"type\":\"pie\"}],\"scatter\":[{\"marker\":{\"colorbar\":{\"outlinewidth\":0,\"ticks\":\"\"}},\"type\":\"scatter\"}],\"scatter3d\":[{\"line\":{\"colorbar\":{\"outlinewidth\":0,\"ticks\":\"\"}},\"marker\":{\"colorbar\":{\"outlinewidth\":0,\"ticks\":\"\"}},\"type\":\"scatter3d\"}],\"scattercarpet\":[{\"marker\":{\"colorbar\":{\"outlinewidth\":0,\"ticks\":\"\"}},\"type\":\"scattercarpet\"}],\"scattergeo\":[{\"marker\":{\"colorbar\":{\"outlinewidth\":0,\"ticks\":\"\"}},\"type\":\"scattergeo\"}],\"scattergl\":[{\"marker\":{\"colorbar\":{\"outlinewidth\":0,\"ticks\":\"\"}},\"type\":\"scattergl\"}],\"scattermapbox\":[{\"marker\":{\"colorbar\":{\"outlinewidth\":0,\"ticks\":\"\"}},\"type\":\"scattermapbox\"}],\"scatterpolar\":[{\"marker\":{\"colorbar\":{\"outlinewidth\":0,\"ticks\":\"\"}},\"type\":\"scatterpolar\"}],\"scatterpolargl\":[{\"marker\":{\"colorbar\":{\"outlinewidth\":0,\"ticks\":\"\"}},\"type\":\"scatterpolargl\"}],\"scatterternary\":[{\"marker\":{\"colorbar\":{\"outlinewidth\":0,\"ticks\":\"\"}},\"type\":\"scatterternary\"}],\"surface\":[{\"colorbar\":{\"outlinewidth\":0,\"ticks\":\"\"},\"colorscale\":[[0.0,\"#0d0887\"],[0.1111111111111111,\"#46039f\"],[0.2222222222222222,\"#7201a8\"],[0.3333333333333333,\"#9c179e\"],[0.4444444444444444,\"#bd3786\"],[0.5555555555555556,\"#d8576b\"],[0.6666666666666666,\"#ed7953\"],[0.7777777777777778,\"#fb9f3a\"],[0.8888888888888888,\"#fdca26\"],[1.0,\"#f0f921\"]],\"type\":\"surface\"}],\"table\":[{\"cells\":{\"fill\":{\"color\":\"#EBF0F8\"},\"line\":{\"color\":\"white\"}},\"header\":{\"fill\":{\"color\":\"#C8D4E3\"},\"line\":{\"color\":\"white\"}},\"type\":\"table\"}]},\"layout\":{\"annotationdefaults\":{\"arrowcolor\":\"#2a3f5f\",\"arrowhead\":0,\"arrowwidth\":1},\"autotypenumbers\":\"strict\",\"coloraxis\":{\"colorbar\":{\"outlinewidth\":0,\"ticks\":\"\"}},\"colorscale\":{\"diverging\":[[0,\"#8e0152\"],[0.1,\"#c51b7d\"],[0.2,\"#de77ae\"],[0.3,\"#f1b6da\"],[0.4,\"#fde0ef\"],[0.5,\"#f7f7f7\"],[0.6,\"#e6f5d0\"],[0.7,\"#b8e186\"],[0.8,\"#7fbc41\"],[0.9,\"#4d9221\"],[1,\"#276419\"]],\"sequential\":[[0.0,\"#0d0887\"],[0.1111111111111111,\"#46039f\"],[0.2222222222222222,\"#7201a8\"],[0.3333333333333333,\"#9c179e\"],[0.4444444444444444,\"#bd3786\"],[0.5555555555555556,\"#d8576b\"],[0.6666666666666666,\"#ed7953\"],[0.7777777777777778,\"#fb9f3a\"],[0.8888888888888888,\"#fdca26\"],[1.0,\"#f0f921\"]],\"sequentialminus\":[[0.0,\"#0d0887\"],[0.1111111111111111,\"#46039f\"],[0.2222222222222222,\"#7201a8\"],[0.3333333333333333,\"#9c179e\"],[0.4444444444444444,\"#bd3786\"],[0.5555555555555556,\"#d8576b\"],[0.6666666666666666,\"#ed7953\"],[0.7777777777777778,\"#fb9f3a\"],[0.8888888888888888,\"#fdca26\"],[1.0,\"#f0f921\"]]},\"colorway\":[\"#636efa\",\"#EF553B\",\"#00cc96\",\"#ab63fa\",\"#FFA15A\",\"#19d3f3\",\"#FF6692\",\"#B6E880\",\"#FF97FF\",\"#FECB52\"],\"font\":{\"color\":\"#2a3f5f\"},\"geo\":{\"bgcolor\":\"white\",\"lakecolor\":\"white\",\"landcolor\":\"#E5ECF6\",\"showlakes\":true,\"showland\":true,\"subunitcolor\":\"white\"},\"hoverlabel\":{\"align\":\"left\"},\"hovermode\":\"closest\",\"mapbox\":{\"style\":\"light\"},\"paper_bgcolor\":\"white\",\"plot_bgcolor\":\"#E5ECF6\",\"polar\":{\"angularaxis\":{\"gridcolor\":\"white\",\"linecolor\":\"white\",\"ticks\":\"\"},\"bgcolor\":\"#E5ECF6\",\"radialaxis\":{\"gridcolor\":\"white\",\"linecolor\":\"white\",\"ticks\":\"\"}},\"scene\":{\"xaxis\":{\"backgroundcolor\":\"#E5ECF6\",\"gridcolor\":\"white\",\"gridwidth\":2,\"linecolor\":\"white\",\"showbackground\":true,\"ticks\":\"\",\"zerolinecolor\":\"white\"},\"yaxis\":{\"backgroundcolor\":\"#E5ECF6\",\"gridcolor\":\"white\",\"gridwidth\":2,\"linecolor\":\"white\",\"showbackground\":true,\"ticks\":\"\",\"zerolinecolor\":\"white\"},\"zaxis\":{\"backgroundcolor\":\"#E5ECF6\",\"gridcolor\":\"white\",\"gridwidth\":2,\"linecolor\":\"white\",\"showbackground\":true,\"ticks\":\"\",\"zerolinecolor\":\"white\"}},\"shapedefaults\":{\"line\":{\"color\":\"#2a3f5f\"}},\"ternary\":{\"aaxis\":{\"gridcolor\":\"white\",\"linecolor\":\"white\",\"ticks\":\"\"},\"baxis\":{\"gridcolor\":\"white\",\"linecolor\":\"white\",\"ticks\":\"\"},\"bgcolor\":\"#E5ECF6\",\"caxis\":{\"gridcolor\":\"white\",\"linecolor\":\"white\",\"ticks\":\"\"}},\"title\":{\"x\":0.05},\"xaxis\":{\"automargin\":true,\"gridcolor\":\"white\",\"linecolor\":\"white\",\"ticks\":\"\",\"title\":{\"standoff\":15},\"zerolinecolor\":\"white\",\"zerolinewidth\":2},\"yaxis\":{\"automargin\":true,\"gridcolor\":\"white\",\"linecolor\":\"white\",\"ticks\":\"\",\"title\":{\"standoff\":15},\"zerolinecolor\":\"white\",\"zerolinewidth\":2}}},\"title\":{\"text\":\"Industry Employment Mix\"}},\"margin\":[5,5,5,5],\"name\":\"Plotly88295\",\"viewport_update_throttle\":200},\"id\":\"81002\",\"type\":\"panel.models.plotly.PlotlyPlot\"},{\"attributes\":{},\"id\":\"82188\",\"type\":\"CategoricalTicker\"},{\"attributes\":{},\"id\":\"78816\",\"type\":\"PanTool\"},{\"attributes\":{\"axis_label\":\"Report Date\",\"formatter\":{\"id\":\"81041\"},\"major_label_orientation\":1.5707963267948966,\"major_label_policy\":{\"id\":\"81042\"},\"ticker\":{\"id\":\"81021\"}},\"id\":\"81020\",\"type\":\"CategoricalAxis\"},{\"attributes\":{\"line_color\":\"#fc4f30\",\"line_width\":2,\"x\":{\"field\":\"Year\"},\"y\":{\"field\":\"value\"}},\"id\":\"80832\",\"type\":\"Line\"},{\"attributes\":{\"axis_label\":\"Report Date\",\"formatter\":{\"id\":\"82208\"},\"major_label_orientation\":1.5707963267948966,\"major_label_policy\":{\"id\":\"82209\"},\"ticker\":{\"id\":\"82188\"}},\"id\":\"82187\",\"type\":\"CategoricalAxis\"},{\"attributes\":{\"axis_label\":\"Year\",\"formatter\":{\"id\":\"78839\"},\"major_label_policy\":{\"id\":\"78840\"},\"ticker\":{\"id\":\"78809\"}},\"id\":\"78808\",\"type\":\"CategoricalAxis\"},{\"attributes\":{\"line_alpha\":0.2,\"line_color\":\"#fc4f30\",\"line_width\":2,\"x\":{\"field\":\"Year\"},\"y\":{\"field\":\"value\"}},\"id\":\"80834\",\"type\":\"Line\"},{\"attributes\":{\"axis_label\":\"Number of Flights\",\"formatter\":{\"id\":\"78837\"},\"major_label_policy\":{\"id\":\"78843\"},\"ticker\":{\"id\":\"78812\"}},\"id\":\"78811\",\"type\":\"LinearAxis\"},{\"attributes\":{\"axis\":{\"id\":\"81020\"},\"grid_line_color\":null,\"ticker\":null},\"id\":\"81022\",\"type\":\"Grid\"},{\"attributes\":{},\"id\":\"78812\",\"type\":\"BasicTicker\"},{\"attributes\":{\"axis_label\":\"\",\"formatter\":{\"id\":\"81044\"},\"major_label_policy\":{\"id\":\"81045\"},\"ticker\":{\"id\":\"81024\"}},\"id\":\"81023\",\"type\":\"LinearAxis\"},{\"attributes\":{},\"id\":\"78817\",\"type\":\"WheelZoomTool\"},{\"attributes\":{\"source\":{\"id\":\"80829\"}},\"id\":\"80836\",\"type\":\"CDSView\"},{\"attributes\":{\"axis\":{\"id\":\"82187\"},\"grid_line_color\":null,\"ticker\":null},\"id\":\"82189\",\"type\":\"Grid\"},{\"attributes\":{\"axis_label\":\"\",\"formatter\":{\"id\":\"82211\"},\"major_label_policy\":{\"id\":\"82212\"},\"ticker\":{\"id\":\"82191\"}},\"id\":\"82190\",\"type\":\"LinearAxis\"},{\"attributes\":{},\"id\":\"81029\",\"type\":\"WheelZoomTool\"},{\"attributes\":{},\"id\":\"81028\",\"type\":\"PanTool\"},{\"attributes\":{},\"id\":\"82196\",\"type\":\"WheelZoomTool\"},{\"attributes\":{},\"id\":\"78815\",\"type\":\"SaveTool\"},{\"attributes\":{\"axis\":{\"id\":\"81023\"},\"dimension\":1,\"grid_line_color\":null,\"ticker\":null},\"id\":\"81026\",\"type\":\"Grid\"},{\"attributes\":{},\"id\":\"82195\",\"type\":\"PanTool\"},{\"attributes\":{},\"id\":\"81027\",\"type\":\"SaveTool\"},{\"attributes\":{\"axis\":{\"id\":\"82190\"},\"dimension\":1,\"grid_line_color\":null,\"ticker\":null},\"id\":\"82193\",\"type\":\"Grid\"},{\"attributes\":{\"overlay\":{\"id\":\"78820\"}},\"id\":\"78818\",\"type\":\"BoxZoomTool\"},{\"attributes\":{\"fill_alpha\":{\"value\":0.1},\"fill_color\":{\"value\":\"Blue\"},\"line_alpha\":{\"value\":0.1},\"top\":{\"field\":\"TOTAL\"},\"width\":{\"value\":0.8},\"x\":{\"field\":\"Year\"}},\"id\":\"78782\",\"type\":\"VBar\"},{\"attributes\":{},\"id\":\"78819\",\"type\":\"ResetTool\"},{\"attributes\":{},\"id\":\"82194\",\"type\":\"SaveTool\"},{\"attributes\":{\"overlay\":{\"id\":\"81032\"}},\"id\":\"81030\",\"type\":\"BoxZoomTool\"},{\"attributes\":{\"active_multi\":null,\"tools\":[{\"id\":\"78798\"},{\"id\":\"78815\"},{\"id\":\"78816\"},{\"id\":\"78817\"},{\"id\":\"78818\"},{\"id\":\"78819\"}]},\"id\":\"78821\",\"type\":\"Toolbar\"},{\"attributes\":{\"active_multi\":null,\"tools\":[{\"id\":\"78748\"},{\"id\":\"78765\"},{\"id\":\"78766\"},{\"id\":\"78767\"},{\"id\":\"78768\"},{\"id\":\"78769\"}]},\"id\":\"78771\",\"type\":\"Toolbar\"},{\"attributes\":{},\"id\":\"81031\",\"type\":\"ResetTool\"},{\"attributes\":{},\"id\":\"80846\",\"type\":\"UnionRenderers\"},{\"attributes\":{\"overlay\":{\"id\":\"82199\"}},\"id\":\"82197\",\"type\":\"BoxZoomTool\"},{\"attributes\":{\"fill_alpha\":{\"value\":0.2},\"fill_color\":{\"value\":\"Blue\"},\"line_alpha\":{\"value\":0.2},\"top\":{\"field\":\"TOTAL\"},\"width\":{\"value\":0.8},\"x\":{\"field\":\"Year\"}},\"id\":\"78783\",\"type\":\"VBar\"},{\"attributes\":{},\"id\":\"82198\",\"type\":\"ResetTool\"},{\"attributes\":{\"active_multi\":null,\"tools\":[{\"id\":\"81008\"},{\"id\":\"81027\"},{\"id\":\"81028\"},{\"id\":\"81029\"},{\"id\":\"81030\"},{\"id\":\"81031\"}]},\"id\":\"81033\",\"type\":\"Toolbar\"},{\"attributes\":{\"line_alpha\":0.2,\"line_color\":\"#30a2da\",\"line_width\":2,\"x\":{\"field\":\"Report Date\"},\"y\":{\"field\":\"value\"}},\"id\":\"81051\",\"type\":\"Line\"},{\"attributes\":{\"active_multi\":null,\"tools\":[{\"id\":\"82175\"},{\"id\":\"82194\"},{\"id\":\"82195\"},{\"id\":\"82196\"},{\"id\":\"82197\"},{\"id\":\"82198\"}]},\"id\":\"82200\",\"type\":\"Toolbar\"},{\"attributes\":{\"toolbars\":[{\"id\":\"78771\"},{\"id\":\"78821\"}],\"tools\":[{\"id\":\"78748\"},{\"id\":\"78765\"},{\"id\":\"78766\"},{\"id\":\"78767\"},{\"id\":\"78768\"},{\"id\":\"78769\"},{\"id\":\"78798\"},{\"id\":\"78815\"},{\"id\":\"78816\"},{\"id\":\"78817\"},{\"id\":\"78818\"},{\"id\":\"78819\"}]},\"id\":\"78867\",\"type\":\"ProxyToolbar\"},{\"attributes\":{},\"id\":\"81047\",\"type\":\"Selection\"},{\"attributes\":{\"source\":{\"id\":\"82213\"}},\"id\":\"82220\",\"type\":\"CDSView\"},{\"attributes\":{\"data_source\":{\"id\":\"81046\"},\"glyph\":{\"id\":\"81049\"},\"hover_glyph\":null,\"muted_glyph\":{\"id\":\"81051\"},\"nonselection_glyph\":{\"id\":\"81050\"},\"selection_glyph\":{\"id\":\"81066\"},\"view\":{\"id\":\"81053\"}},\"id\":\"81052\",\"type\":\"GlyphRenderer\"},{\"attributes\":{\"source\":{\"id\":\"78778\"}},\"id\":\"78785\",\"type\":\"CDSView\"},{\"attributes\":{},\"id\":\"78276\",\"type\":\"UnionRenderers\"},{\"attributes\":{\"line_color\":\"#30a2da\",\"line_width\":2,\"x\":{\"field\":\"Report Date\"},\"y\":{\"field\":\"value\"}},\"id\":\"82216\",\"type\":\"Line\"},{\"attributes\":{},\"id\":\"82462\",\"type\":\"UnionRenderers\"},{\"attributes\":{\"line_alpha\":0.1,\"line_color\":\"#30a2da\",\"line_width\":2,\"x\":{\"field\":\"Report Date\"},\"y\":{\"field\":\"value\"}},\"id\":\"81050\",\"type\":\"Line\"},{\"attributes\":{\"bottom_units\":\"screen\",\"fill_alpha\":0.5,\"fill_color\":\"lightgrey\",\"left_units\":\"screen\",\"level\":\"overlay\",\"line_alpha\":1.0,\"line_color\":\"black\",\"line_dash\":[4,4],\"line_width\":2,\"right_units\":\"screen\",\"syncable\":false,\"top_units\":\"screen\"},\"id\":\"78770\",\"type\":\"BoxAnnotation\"},{\"attributes\":{\"data\":{\"TOTAL\":[68909312,71803886,76877343,85197896,92671519,99644687,103280990,98009920,98444938,103810561,106383628,112564370,122605550,140512077,148525244,153814165,159798408,157258128,103461328,22486224],\"Year\":[\"2002\",\"2003\",\"2004\",\"2005\",\"2006\",\"2007\",\"2008\",\"2009\",\"2010\",\"2011\",\"2012\",\"2013\",\"2014\",\"2015\",\"2016\",\"2017\",\"2018\",\"2019\",\"2020\",\"2021\"]},\"selected\":{\"id\":\"79934\"},\"selection_policy\":{\"id\":\"80007\"}},\"id\":\"79933\",\"type\":\"ColumnDataSource\"},{\"attributes\":{\"label\":{\"value\":\"DAL Quick Ratio\"},\"renderers\":[{\"id\":\"82219\"}]},\"id\":\"82232\",\"type\":\"LegendItem\"},{\"attributes\":{\"data\":{\"Report Date\":[\"2011-06-30\",\"2011-09-30\",\"2011-12-31\",\"2012-03-31\",\"2012-06-30\",\"2012-09-30\",\"2012-12-31\",\"2013-03-31\",\"2013-06-30\",\"2013-09-30\",\"2013-12-31\",\"2014-03-31\",\"2014-06-30\",\"2014-09-30\",\"2014-12-31\",\"2015-03-31\",\"2015-06-30\",\"2015-09-30\",\"2015-12-31\",\"2016-03-31\",\"2016-06-30\",\"2016-09-30\",\"2016-12-31\",\"2017-03-31\",\"2017-06-30\",\"2017-09-30\",\"2017-12-31\",\"2018-03-31\",\"2018-06-30\",\"2018-09-30\",\"2018-12-31\",\"2019-03-31\",\"2019-06-30\",\"2019-09-30\",\"2019-12-31\",\"2020-03-31\",\"2020-06-29\",\"2020-12-30\",\"2021-03-30\"],\"Report_Date\":[\"2011-06-30\",\"2011-09-30\",\"2011-12-31\",\"2012-03-31\",\"2012-06-30\",\"2012-09-30\",\"2012-12-31\",\"2013-03-31\",\"2013-06-30\",\"2013-09-30\",\"2013-12-31\",\"2014-03-31\",\"2014-06-30\",\"2014-09-30\",\"2014-12-31\",\"2015-03-31\",\"2015-06-30\",\"2015-09-30\",\"2015-12-31\",\"2016-03-31\",\"2016-06-30\",\"2016-09-30\",\"2016-12-31\",\"2017-03-31\",\"2017-06-30\",\"2017-09-30\",\"2017-12-31\",\"2018-03-31\",\"2018-06-30\",\"2018-09-30\",\"2018-12-31\",\"2019-03-31\",\"2019-06-30\",\"2019-09-30\",\"2019-12-31\",\"2020-03-31\",\"2020-06-29\",\"2020-12-30\",\"2021-03-30\"],\"Variable\":[\"LUV Revenue\",\"LUV Revenue\",\"LUV Revenue\",\"LUV Revenue\",\"LUV Revenue\",\"LUV Revenue\",\"LUV Revenue\",\"LUV Revenue\",\"LUV Revenue\",\"LUV Revenue\",\"LUV Revenue\",\"LUV Revenue\",\"LUV Revenue\",\"LUV Revenue\",\"LUV Revenue\",\"LUV Revenue\",\"LUV Revenue\",\"LUV Revenue\",\"LUV Revenue\",\"LUV Revenue\",\"LUV Revenue\",\"LUV Revenue\",\"LUV Revenue\",\"LUV Revenue\",\"LUV Revenue\",\"LUV Revenue\",\"LUV Revenue\",\"LUV Revenue\",\"LUV Revenue\",\"LUV Revenue\",\"LUV Revenue\",\"LUV Revenue\",\"LUV Revenue\",\"LUV Revenue\",\"LUV Revenue\",\"LUV Revenue\",\"LUV Revenue\",\"LUV Revenue\",\"LUV Revenue\"],\"value\":{\"__ndarray__\":\"AAAAQMvQ7kEAAAA8Sg/wQQAAAGBjm+5BAAAAeDq87UEAAAAgKTLxQQAAAPRhDfBBAAAAYHUV70EAAACgnG3uQQAAAOzoS/FBAAAAJHPu8EEAAACM6n3wQQAAALADCu9BAAAArNyq8kEAAAAAo+HxQQAAANCaPfFBAAAAuIRx8EEAAAC8OgrzQQAAANijz/NBAAAA5G+K8kEAAACobvrxQQAAACCVDvRBAAAArO4k80EAAADQ2ejyQQAAAJgiFfJBAAAA7IFZ9UEAAAA80aLzQQAAAGzHzPNBAAAAQPdq8kEAAAB4/2P1QQAAAPy7xPRBAAAAIMI/9UEAAAAUeC7zQQAAAPRCA/ZBAAAA/MQB9UEAAADsgVn1QQAAANC2i+9BAAAAAG4KzkEAAABQ/P7dQQAAAEDCk95B\",\"dtype\":\"float64\",\"order\":\"little\",\"shape\":[39]}},\"selected\":{\"id\":\"81068\"},\"selection_policy\":{\"id\":\"81084\"}},\"id\":\"81067\",\"type\":\"ColumnDataSource\"},{\"attributes\":{\"line_alpha\":0.2,\"line_color\":\"#30a2da\",\"line_width\":2,\"x\":{\"field\":\"Report Date\"},\"y\":{\"field\":\"value\"}},\"id\":\"82218\",\"type\":\"Line\"},{\"attributes\":{},\"id\":\"82214\",\"type\":\"Selection\"},{\"attributes\":{},\"id\":\"81045\",\"type\":\"AllLabels\"},{\"attributes\":{\"line_alpha\":0.1,\"line_color\":\"#30a2da\",\"line_width\":2,\"x\":{\"field\":\"Report Date\"},\"y\":{\"field\":\"value\"}},\"id\":\"82217\",\"type\":\"Line\"},{\"attributes\":{\"data\":{\"Report Date\":[\"2011-06-30\",\"2011-09-30\",\"2011-12-31\",\"2012-03-31\",\"2012-06-30\",\"2012-09-30\",\"2012-12-31\",\"2013-03-31\",\"2013-06-30\",\"2013-09-30\",\"2013-12-31\",\"2014-03-31\",\"2014-06-30\",\"2014-09-30\",\"2014-12-31\",\"2015-03-31\",\"2015-06-30\",\"2015-09-30\",\"2015-12-31\",\"2016-03-31\",\"2016-06-30\",\"2016-09-30\",\"2016-12-31\",\"2017-03-31\",\"2017-06-30\",\"2017-09-30\",\"2017-12-31\",\"2018-03-31\",\"2018-06-30\",\"2018-09-30\",\"2018-12-31\",\"2019-03-31\",\"2019-06-30\",\"2019-09-30\",\"2019-12-31\",\"2020-03-31\",\"2020-06-29\",\"2020-12-30\",\"2021-03-30\"],\"Report_Date\":[\"2011-06-30\",\"2011-09-30\",\"2011-12-31\",\"2012-03-31\",\"2012-06-30\",\"2012-09-30\",\"2012-12-31\",\"2013-03-31\",\"2013-06-30\",\"2013-09-30\",\"2013-12-31\",\"2014-03-31\",\"2014-06-30\",\"2014-09-30\",\"2014-12-31\",\"2015-03-31\",\"2015-06-30\",\"2015-09-30\",\"2015-12-31\",\"2016-03-31\",\"2016-06-30\",\"2016-09-30\",\"2016-12-31\",\"2017-03-31\",\"2017-06-30\",\"2017-09-30\",\"2017-12-31\",\"2018-03-31\",\"2018-06-30\",\"2018-09-30\",\"2018-12-31\",\"2019-03-31\",\"2019-06-30\",\"2019-09-30\",\"2019-12-31\",\"2020-03-31\",\"2020-06-29\",\"2020-12-30\",\"2021-03-30\"],\"Variable\":[\"LUV EPS\",\"LUV EPS\",\"LUV EPS\",\"LUV EPS\",\"LUV EPS\",\"LUV EPS\",\"LUV EPS\",\"LUV EPS\",\"LUV EPS\",\"LUV EPS\",\"LUV EPS\",\"LUV EPS\",\"LUV EPS\",\"LUV EPS\",\"LUV EPS\",\"LUV EPS\",\"LUV EPS\",\"LUV EPS\",\"LUV EPS\",\"LUV EPS\",\"LUV EPS\",\"LUV EPS\",\"LUV EPS\",\"LUV EPS\",\"LUV EPS\",\"LUV EPS\",\"LUV EPS\",\"LUV EPS\",\"LUV EPS\",\"LUV EPS\",\"LUV EPS\",\"LUV EPS\",\"LUV EPS\",\"LUV EPS\",\"LUV EPS\",\"LUV EPS\",\"LUV EPS\",\"LUV EPS\",\"LUV EPS\"],\"value\":{\"__ndarray__\":\"uqZruqZryj9JgVq/UqDGv5mG7WZ5Esk/DUUQRRBFwD/6LK/SrUbTP1vmre6lK5Y/XztOoDmXuz+Rh4BERtW0PxQUFBQUFNQ/Q3kN5TWU1z8DLJSuOnDTPzDL55S538s/WchCFrKQ5T/tlVB7JdTeP6Womhsr9tE/YDEPLOaB5T8e1EEd1EHtP9SPcCADiOw/AXOWzT9j6j/YYwbwJ5zpP4X5XS1uwvQ/xQqHiTIX5D+83Ay58h/rPxQjPLBSsuE/fLo+XZ+u8z9ROpgpI/bqPw/5t/SqzQlAVTSYCX496T/hwqSGaEr0P3T3qqQiS/E/wQILLLDA8j+K0ftOunnmPySGbsXh3/U/295wAUnI8z86HEU/iTXvP5ZGJpH0XMe/+KpYz+gA+r8scSUowpz4v6PeovieH8k/\",\"dtype\":\"float64\",\"order\":\"little\",\"shape\":[39]}},\"selected\":{\"id\":\"82936\"},\"selection_policy\":{\"id\":\"82952\"}},\"id\":\"82935\",\"type\":\"ColumnDataSource\"},{\"attributes\":{\"click_policy\":\"mute\",\"items\":[{\"id\":\"82232\"},{\"id\":\"82254\"},{\"id\":\"82278\"}],\"location\":[0,0],\"title\":\"Variable\"},\"id\":\"82231\",\"type\":\"Legend\"},{\"attributes\":{\"label\":{\"value\":\"LUV Revenue\"},\"renderers\":[{\"id\":\"81073\"}]},\"id\":\"81087\",\"type\":\"LegendItem\"},{\"attributes\":{\"bottom_units\":\"screen\",\"fill_alpha\":0.5,\"fill_color\":\"lightgrey\",\"left_units\":\"screen\",\"level\":\"overlay\",\"line_alpha\":1.0,\"line_color\":\"black\",\"line_dash\":[4,4],\"line_width\":2,\"right_units\":\"screen\",\"syncable\":false,\"top_units\":\"screen\"},\"id\":\"82199\",\"type\":\"BoxAnnotation\"},{\"attributes\":{\"bottom\":{\"value\":0},\"fill_alpha\":{\"value\":1.0},\"fill_color\":{\"value\":\"Blue\"},\"hatch_alpha\":{\"value\":1.0},\"hatch_color\":{\"value\":\"black\"},\"hatch_scale\":{\"value\":12.0},\"hatch_weight\":{\"value\":1.0},\"line_alpha\":{\"value\":1.0},\"line_cap\":{\"value\":\"butt\"},\"line_color\":{\"value\":\"black\"},\"line_dash\":{\"value\":[]},\"line_dash_offset\":{\"value\":0},\"line_join\":{\"value\":\"bevel\"},\"line_width\":{\"value\":1},\"top\":{\"field\":\"TOTAL\"},\"width\":{\"value\":0.8},\"x\":{\"field\":\"Year\"}},\"id\":\"78786\",\"type\":\"VBar\"},{\"attributes\":{\"toolbar\":{\"id\":\"78867\"},\"toolbar_location\":\"above\"},\"id\":\"78868\",\"type\":\"ToolbarBox\"},{\"attributes\":{\"bottom_units\":\"screen\",\"fill_alpha\":0.5,\"fill_color\":\"lightgrey\",\"left_units\":\"screen\",\"level\":\"overlay\",\"line_alpha\":1.0,\"line_color\":\"black\",\"line_dash\":[4,4],\"line_width\":2,\"right_units\":\"screen\",\"syncable\":false,\"top_units\":\"screen\"},\"id\":\"78820\",\"type\":\"BoxAnnotation\"},{\"attributes\":{\"bottom_units\":\"screen\",\"fill_alpha\":0.5,\"fill_color\":\"lightgrey\",\"left_units\":\"screen\",\"level\":\"overlay\",\"line_alpha\":1.0,\"line_color\":\"black\",\"line_dash\":[4,4],\"line_width\":2,\"right_units\":\"screen\",\"syncable\":false,\"top_units\":\"screen\"},\"id\":\"81032\",\"type\":\"BoxAnnotation\"},{\"attributes\":{},\"id\":\"82257\",\"type\":\"Selection\"},{\"attributes\":{},\"id\":\"79624\",\"type\":\"LinearScale\"},{\"attributes\":{\"axis\":{\"id\":\"79626\"},\"grid_line_color\":null,\"ticker\":null},\"id\":\"79628\",\"type\":\"Grid\"},{\"attributes\":{\"end\":15.023244948481752,\"reset_end\":15.023244948481752,\"reset_start\":-11.14369443329928,\"start\":-11.14369443329928,\"tags\":[[[\"value\",\"value\",null]]]},\"id\":\"82875\",\"type\":\"Range1d\"},{\"attributes\":{\"below\":[{\"id\":\"79626\"}],\"center\":[{\"id\":\"79628\"},{\"id\":\"79632\"}],\"height\":500,\"left\":[{\"id\":\"79629\"}],\"margin\":null,\"min_border_bottom\":10,\"min_border_left\":10,\"min_border_right\":10,\"min_border_top\":10,\"renderers\":[{\"id\":\"79652\"}],\"sizing_mode\":\"fixed\",\"title\":{\"id\":\"79618\"},\"toolbar\":{\"id\":\"79639\"},\"toolbar_location\":null,\"width\":900,\"x_range\":{\"id\":\"79614\"},\"x_scale\":{\"id\":\"79622\"},\"y_range\":{\"id\":\"79615\"},\"y_scale\":{\"id\":\"79624\"}},\"id\":\"79617\",\"subtype\":\"Figure\",\"type\":\"Plot\"},{\"attributes\":{\"fill_color\":{\"value\":\"Orange\"},\"top\":{\"field\":\"TOTAL\"},\"width\":{\"value\":0.8},\"x\":{\"field\":\"Year\"}},\"id\":\"79649\",\"type\":\"VBar\"},{\"attributes\":{},\"id\":\"82886\",\"type\":\"LinearScale\"},{\"attributes\":{},\"id\":\"79622\",\"type\":\"CategoricalScale\"},{\"attributes\":{\"callback\":null,\"renderers\":[{\"id\":\"82920\"},{\"id\":\"82941\"},{\"id\":\"82963\"}],\"tags\":[\"hv_created\"],\"tooltips\":[[\"Variable\",\"@{Variable}\"],[\"Report Date\",\"@{Report_Date}\"],[\"value\",\"@{value}\"]]},\"id\":\"82876\",\"type\":\"HoverTool\"},{\"attributes\":{\"callback\":null,\"renderers\":[{\"id\":\"79652\"}],\"tags\":[\"hv_created\"],\"tooltips\":[[\"Year\",\"@{Year}\"],[\"TOTAL\",\"@{TOTAL}\"]]},\"id\":\"79616\",\"type\":\"HoverTool\"},{\"attributes\":{\"below\":[{\"id\":\"82888\"}],\"center\":[{\"id\":\"82890\"},{\"id\":\"82894\"}],\"left\":[{\"id\":\"82891\"}],\"margin\":[5,5,5,5],\"min_border_bottom\":10,\"min_border_left\":10,\"min_border_right\":10,\"min_border_top\":10,\"renderers\":[{\"id\":\"82920\"},{\"id\":\"82941\"},{\"id\":\"82963\"}],\"right\":[{\"id\":\"82932\"}],\"sizing_mode\":\"fixed\",\"title\":{\"id\":\"82880\"},\"toolbar\":{\"id\":\"82901\"},\"width\":900,\"x_range\":{\"id\":\"82874\"},\"x_scale\":{\"id\":\"82884\"},\"y_range\":{\"id\":\"82875\"},\"y_scale\":{\"id\":\"82886\"}},\"id\":\"82879\",\"subtype\":\"Figure\",\"type\":\"Plot\"},{\"attributes\":{\"fill_alpha\":{\"value\":0.2},\"fill_color\":{\"value\":\"Orange\"},\"line_alpha\":{\"value\":0.2},\"top\":{\"field\":\"TOTAL\"},\"width\":{\"value\":0.8},\"x\":{\"field\":\"Year\"}},\"id\":\"79651\",\"type\":\"VBar\"},{\"attributes\":{\"fill_alpha\":{\"value\":0.1},\"fill_color\":{\"value\":\"Red\"},\"line_alpha\":{\"value\":0.1},\"top\":{\"field\":\"TOTAL\"},\"width\":{\"value\":0.8},\"x\":{\"field\":\"Year\"}},\"id\":\"79987\",\"type\":\"VBar\"},{\"attributes\":{\"factors\":[\"2011-06-30\",\"2011-09-30\",\"2011-12-31\",\"2012-03-31\",\"2012-06-30\",\"2012-09-30\",\"2012-12-31\",\"2013-03-31\",\"2013-06-30\",\"2013-09-30\",\"2013-12-31\",\"2014-03-31\",\"2014-06-30\",\"2014-09-30\",\"2014-12-31\",\"2015-03-31\",\"2015-06-30\",\"2015-09-30\",\"2015-12-31\",\"2016-03-31\",\"2016-06-30\",\"2016-09-30\",\"2016-12-31\",\"2017-03-31\",\"2017-06-30\",\"2017-09-30\",\"2017-12-31\",\"2018-03-31\",\"2018-06-30\",\"2018-09-30\",\"2018-12-31\",\"2019-03-31\",\"2019-06-30\",\"2019-09-30\",\"2019-12-31\",\"2020-03-31\",\"2020-06-29\",\"2020-12-30\",\"2021-03-30\"],\"tags\":[[[\"Report Date\",\"Report Date\",null]]]},\"id\":\"82874\",\"type\":\"FactorRange\"},{\"attributes\":{},\"id\":\"82884\",\"type\":\"CategoricalScale\"},{\"attributes\":{},\"id\":\"79994\",\"type\":\"CategoricalTickFormatter\"},{\"attributes\":{\"fill_color\":{\"value\":\"Red\"},\"top\":{\"field\":\"TOTAL\"},\"width\":{\"value\":0.8},\"x\":{\"field\":\"Year\"}},\"id\":\"79986\",\"type\":\"VBar\"},{\"attributes\":{\"active_multi\":null,\"tools\":[{\"id\":\"79666\"},{\"id\":\"79683\"},{\"id\":\"79684\"},{\"id\":\"79685\"},{\"id\":\"79686\"},{\"id\":\"79687\"}]},\"id\":\"79689\",\"type\":\"Toolbar\"},{\"attributes\":{\"fill_alpha\":{\"value\":0.1},\"fill_color\":{\"value\":\"Green\"},\"line_alpha\":{\"value\":0.1},\"top\":{\"field\":\"TOTAL\"},\"width\":{\"value\":0.8},\"x\":{\"field\":\"Year\"}},\"id\":\"79700\",\"type\":\"VBar\"},{\"attributes\":{},\"id\":\"79984\",\"type\":\"Selection\"},{\"attributes\":{\"css_classes\":[\"markdown\"],\"margin\":[5,5,5,5],\"name\":\"Markdown88271\",\"text\":\"&lt;p&gt;According to the Air Transport Association (2020) , A high load factor indicates that an airline has full planes with most seats occupied by passengers. Airlines have high fixed costs associated with each flight. Every flight must have an entire flight crew and support staff, a well-maintained aircraft with enough fuel, and services that entertain and comfort customers. The load factor help investors understand how the airline covers expenses and generates a profit. A low load factor may be a cause for concern and may indicate an unprofitable airline.&lt;/p&gt;\"},\"id\":\"80191\",\"type\":\"panel.models.markup.HTML\"},{\"attributes\":{\"text\":\"Quarterly EPS from 2011 to 2021\",\"text_color\":\"black\",\"text_font_size\":\"12pt\"},\"id\":\"82880\",\"type\":\"Title\"},{\"attributes\":{\"fill_alpha\":{\"value\":0.2},\"fill_color\":{\"value\":\"Red\"},\"line_alpha\":{\"value\":0.2},\"top\":{\"field\":\"TOTAL\"},\"width\":{\"value\":0.8},\"x\":{\"field\":\"Year\"}},\"id\":\"79988\",\"type\":\"VBar\"},{\"attributes\":{},\"id\":\"79707\",\"type\":\"CategoricalTickFormatter\"},{\"attributes\":{\"fill_color\":{\"value\":\"Green\"},\"top\":{\"field\":\"TOTAL\"},\"width\":{\"value\":0.8},\"x\":{\"field\":\"Year\"}},\"id\":\"79699\",\"type\":\"VBar\"},{\"attributes\":{},\"id\":\"82892\",\"type\":\"BasicTicker\"},{\"attributes\":{},\"id\":\"79697\",\"type\":\"Selection\"},{\"attributes\":{},\"id\":\"82889\",\"type\":\"CategoricalTicker\"},{\"attributes\":{\"fill_alpha\":{\"value\":0.2},\"fill_color\":{\"value\":\"Green\"},\"line_alpha\":{\"value\":0.2},\"top\":{\"field\":\"TOTAL\"},\"width\":{\"value\":0.8},\"x\":{\"field\":\"Year\"}},\"id\":\"79701\",\"type\":\"VBar\"},{\"attributes\":{\"source\":{\"id\":\"79983\"}},\"id\":\"79990\",\"type\":\"CDSView\"},{\"attributes\":{\"axis_label\":\"Report Date\",\"formatter\":{\"id\":\"82909\"},\"major_label_orientation\":1.5707963267948966,\"major_label_policy\":{\"id\":\"82910\"},\"ticker\":{\"id\":\"82889\"}},\"id\":\"82888\",\"type\":\"CategoricalAxis\"},{\"attributes\":{\"data_source\":{\"id\":\"79983\"},\"glyph\":{\"id\":\"79986\"},\"hover_glyph\":null,\"muted_glyph\":{\"id\":\"79988\"},\"nonselection_glyph\":{\"id\":\"79987\"},\"selection_glyph\":{\"id\":\"79991\"},\"view\":{\"id\":\"79990\"}},\"id\":\"79989\",\"type\":\"GlyphRenderer\"},{\"attributes\":{\"source\":{\"id\":\"79696\"}},\"id\":\"79703\",\"type\":\"CDSView\"},{\"attributes\":{\"axis\":{\"id\":\"82888\"},\"grid_line_color\":null,\"ticker\":null},\"id\":\"82890\",\"type\":\"Grid\"},{\"attributes\":{\"bottom\":{\"value\":0},\"fill_alpha\":{\"value\":1.0},\"fill_color\":{\"value\":\"Red\"},\"hatch_alpha\":{\"value\":1.0},\"hatch_color\":{\"value\":\"black\"},\"hatch_scale\":{\"value\":12.0},\"hatch_weight\":{\"value\":1.0},\"line_alpha\":{\"value\":1.0},\"line_cap\":{\"value\":\"butt\"},\"line_color\":{\"value\":\"black\"},\"line_dash\":{\"value\":[]},\"line_dash_offset\":{\"value\":0},\"line_join\":{\"value\":\"bevel\"},\"line_width\":{\"value\":1},\"top\":{\"field\":\"TOTAL\"},\"width\":{\"value\":0.8},\"x\":{\"field\":\"Year\"}},\"id\":\"79991\",\"type\":\"VBar\"},{\"attributes\":{\"axis_label\":\"\",\"formatter\":{\"id\":\"82912\"},\"major_label_policy\":{\"id\":\"82913\"},\"ticker\":{\"id\":\"82892\"}},\"id\":\"82891\",\"type\":\"LinearAxis\"},{\"attributes\":{\"data_source\":{\"id\":\"79696\"},\"glyph\":{\"id\":\"79699\"},\"hover_glyph\":null,\"muted_glyph\":{\"id\":\"79701\"},\"nonselection_glyph\":{\"id\":\"79700\"},\"selection_glyph\":{\"id\":\"79704\"},\"view\":{\"id\":\"79703\"}},\"id\":\"79702\",\"type\":\"GlyphRenderer\"},{\"attributes\":{},\"id\":\"82897\",\"type\":\"WheelZoomTool\"},{\"attributes\":{\"active_multi\":null,\"tools\":[{\"id\":\"79616\"},{\"id\":\"79633\"},{\"id\":\"79634\"},{\"id\":\"79635\"},{\"id\":\"79636\"},{\"id\":\"79637\"}]},\"id\":\"79639\",\"type\":\"Toolbar\"},{\"attributes\":{},\"id\":\"82896\",\"type\":\"PanTool\"},{\"attributes\":{\"toolbar\":{\"id\":\"79735\"},\"toolbar_location\":\"above\"},\"id\":\"79736\",\"type\":\"ToolbarBox\"},{\"attributes\":{\"axis\":{\"id\":\"82891\"},\"dimension\":1,\"grid_line_color\":null,\"ticker\":null},\"id\":\"82894\",\"type\":\"Grid\"},{\"attributes\":{},\"id\":\"82895\",\"type\":\"SaveTool\"},{\"attributes\":{\"bottom\":{\"value\":0},\"fill_alpha\":{\"value\":1.0},\"fill_color\":{\"value\":\"Green\"},\"hatch_alpha\":{\"value\":1.0},\"hatch_color\":{\"value\":\"black\"},\"hatch_scale\":{\"value\":12.0},\"hatch_weight\":{\"value\":1.0},\"line_alpha\":{\"value\":1.0},\"line_cap\":{\"value\":\"butt\"},\"line_color\":{\"value\":\"black\"},\"line_dash\":{\"value\":[]},\"line_dash_offset\":{\"value\":0},\"line_join\":{\"value\":\"bevel\"},\"line_width\":{\"value\":1},\"top\":{\"field\":\"TOTAL\"},\"width\":{\"value\":0.8},\"x\":{\"field\":\"Year\"}},\"id\":\"79704\",\"type\":\"VBar\"},{\"attributes\":{\"overlay\":{\"id\":\"82900\"}},\"id\":\"82898\",\"type\":\"BoxZoomTool\"},{\"attributes\":{},\"id\":\"82899\",\"type\":\"ResetTool\"},{\"attributes\":{\"bottom_units\":\"screen\",\"fill_alpha\":0.5,\"fill_color\":\"lightgrey\",\"left_units\":\"screen\",\"level\":\"overlay\",\"line_alpha\":1.0,\"line_color\":\"black\",\"line_dash\":[4,4],\"line_width\":2,\"right_units\":\"screen\",\"syncable\":false,\"top_units\":\"screen\"},\"id\":\"79638\",\"type\":\"BoxAnnotation\"},{\"attributes\":{\"fill_alpha\":{\"value\":0.1},\"fill_color\":{\"value\":\"Orange\"},\"line_alpha\":{\"value\":0.1},\"top\":{\"field\":\"TOTAL\"},\"width\":{\"value\":0.8},\"x\":{\"field\":\"Year\"}},\"id\":\"79650\",\"type\":\"VBar\"},{\"attributes\":{\"axis\":{\"id\":\"79676\"},\"grid_line_color\":null,\"ticker\":null},\"id\":\"79678\",\"type\":\"Grid\"},{\"attributes\":{\"format\":\"%.0f\"},\"id\":\"79992\",\"type\":\"PrintfTickFormatter\"},{\"attributes\":{\"data\":{\"TOTAL\":[130683293,119228188,128700858,132279165,124019658,126619867,127645988,121409126,195540168,197587150,194760146,198758823,207222868,217078181,222588250,226587630,237061948,249694906,119626551,25831116],\"Year\":[\"2002\",\"2003\",\"2004\",\"2005\",\"2006\",\"2007\",\"2008\",\"2009\",\"2010\",\"2011\",\"2012\",\"2013\",\"2014\",\"2015\",\"2016\",\"2017\",\"2018\",\"2019\",\"2020\",\"2021\"]},\"selected\":{\"id\":\"79697\"},\"selection_policy\":{\"id\":\"79730\"}},\"id\":\"79696\",\"type\":\"ColumnDataSource\"},{\"attributes\":{},\"id\":\"79647\",\"type\":\"Selection\"},{\"attributes\":{},\"id\":\"79708\",\"type\":\"AllLabels\"},{\"attributes\":{\"overlay\":{\"id\":\"79638\"}},\"id\":\"79636\",\"type\":\"BoxZoomTool\"},{\"attributes\":{\"format\":\"%.0f\"},\"id\":\"79705\",\"type\":\"PrintfTickFormatter\"},{\"attributes\":{},\"id\":\"79637\",\"type\":\"ResetTool\"},{\"attributes\":{},\"id\":\"79684\",\"type\":\"PanTool\"},{\"attributes\":{\"axis_label\":\"Year\",\"formatter\":{\"id\":\"79657\"},\"major_label_policy\":{\"id\":\"79658\"},\"ticker\":{\"id\":\"79627\"}},\"id\":\"79626\",\"type\":\"CategoricalAxis\"},{\"attributes\":{},\"id\":\"79633\",\"type\":\"SaveTool\"},{\"attributes\":{},\"id\":\"82909\",\"type\":\"CategoricalTickFormatter\"},{\"attributes\":{},\"id\":\"79635\",\"type\":\"WheelZoomTool\"},{\"attributes\":{},\"id\":\"79711\",\"type\":\"AllLabels\"},{\"attributes\":{\"axis_label\":\"(the number of seats and the distance flown in thousands (000)) \",\"formatter\":{\"id\":\"79705\"},\"major_label_policy\":{\"id\":\"79711\"},\"ticker\":{\"id\":\"79680\"}},\"id\":\"79679\",\"type\":\"LinearAxis\"},{\"attributes\":{\"axis\":{\"id\":\"79629\"},\"dimension\":1,\"grid_line_color\":null,\"ticker\":null},\"id\":\"79632\",\"type\":\"Grid\"},{\"attributes\":{},\"id\":\"79634\",\"type\":\"PanTool\"},{\"attributes\":{\"css_classes\":[\"markdown\"],\"margin\":[5,5,5,5],\"name\":\"Markdown88266\",\"text\":\"&lt;p&gt;According to Investopedia (2020), available seat miles (ASM) is a measure of an airplane&amp;rsquo;s carrying capacity available to generate revenues. Available seat miles refers to how many seat miles are actually available for purchase on an airline. Seat miles are calculated by multiplying the number of miles that a given airplane will be flying by the number of seats available for a given flight. &lt;/p&gt;\"},\"id\":\"79612\",\"type\":\"panel.models.markup.HTML\"},{\"attributes\":{\"bottom_units\":\"screen\",\"fill_alpha\":0.5,\"fill_color\":\"lightgrey\",\"left_units\":\"screen\",\"level\":\"overlay\",\"line_alpha\":1.0,\"line_color\":\"black\",\"line_dash\":[4,4],\"line_width\":2,\"right_units\":\"screen\",\"syncable\":false,\"top_units\":\"screen\"},\"id\":\"82900\",\"type\":\"BoxAnnotation\"},{\"attributes\":{\"toolbars\":[{\"id\":\"79639\"},{\"id\":\"79689\"}],\"tools\":[{\"id\":\"79616\"},{\"id\":\"79633\"},{\"id\":\"79634\"},{\"id\":\"79635\"},{\"id\":\"79636\"},{\"id\":\"79637\"},{\"id\":\"79666\"},{\"id\":\"79683\"},{\"id\":\"79684\"},{\"id\":\"79685\"},{\"id\":\"79686\"},{\"id\":\"79687\"}]},\"id\":\"79735\",\"type\":\"ProxyToolbar\"},{\"attributes\":{\"active_multi\":null,\"tools\":[{\"id\":\"82876\"},{\"id\":\"82895\"},{\"id\":\"82896\"},{\"id\":\"82897\"},{\"id\":\"82898\"},{\"id\":\"82899\"}]},\"id\":\"82901\",\"type\":\"Toolbar\"},{\"attributes\":{\"axis\":{\"id\":\"79679\"},\"dimension\":1,\"grid_line_color\":null,\"ticker\":null},\"id\":\"79682\",\"type\":\"Grid\"},{\"attributes\":{\"end\":1353497931.3,\"reset_end\":1353497931.3,\"reset_start\":0.0,\"tags\":[[[\"TOTAL\",\"TOTAL\",null]]]},\"id\":\"79615\",\"type\":\"Range1d\"},{\"attributes\":{},\"id\":\"79627\",\"type\":\"CategoricalTicker\"},{\"attributes\":{},\"id\":\"79687\",\"type\":\"ResetTool\"},{\"attributes\":{},\"id\":\"79677\",\"type\":\"CategoricalTicker\"},{\"attributes\":{\"data_source\":{\"id\":\"79646\"},\"glyph\":{\"id\":\"79649\"},\"hover_glyph\":null,\"muted_glyph\":{\"id\":\"79651\"},\"nonselection_glyph\":{\"id\":\"79650\"},\"selection_glyph\":{\"id\":\"79654\"},\"view\":{\"id\":\"79653\"}},\"id\":\"79652\",\"type\":\"GlyphRenderer\"},{\"attributes\":{\"overlay\":{\"id\":\"79688\"}},\"id\":\"79686\",\"type\":\"BoxZoomTool\"},{\"attributes\":{\"children\":[[{\"id\":\"80195\"},0,0],[{\"id\":\"80245\"},0,1]]},\"id\":\"80312\",\"type\":\"GridBox\"},{\"attributes\":{},\"id\":\"79685\",\"type\":\"WheelZoomTool\"},{\"attributes\":{\"axis_label\":\"(the number of seats and the distance flown in thousands (000)) \",\"formatter\":{\"id\":\"79655\"},\"major_label_policy\":{\"id\":\"79661\"},\"ticker\":{\"id\":\"79630\"}},\"id\":\"79629\",\"type\":\"LinearAxis\"},{\"attributes\":{},\"id\":\"79630\",\"type\":\"BasicTicker\"},{\"attributes\":{},\"id\":\"80007\",\"type\":\"UnionRenderers\"},{\"attributes\":{},\"id\":\"79680\",\"type\":\"BasicTicker\"},{\"attributes\":{},\"id\":\"79683\",\"type\":\"SaveTool\"},{\"attributes\":{\"source\":{\"id\":\"79646\"}},\"id\":\"79653\",\"type\":\"CDSView\"},{\"attributes\":{\"text\":\"All U.S. Carriers Available Seat-Miles - All Airports\",\"text_color\":\"black\",\"text_font_size\":\"12pt\"},\"id\":\"79618\",\"type\":\"Title\"},{\"attributes\":{},\"id\":\"80572\",\"type\":\"CategoricalTickFormatter\"},{\"attributes\":{\"bottom\":{\"value\":0},\"fill_alpha\":{\"value\":1.0},\"fill_color\":{\"value\":\"Orange\"},\"hatch_alpha\":{\"value\":1.0},\"hatch_color\":{\"value\":\"black\"},\"hatch_scale\":{\"value\":12.0},\"hatch_weight\":{\"value\":1.0},\"line_alpha\":{\"value\":1.0},\"line_cap\":{\"value\":\"butt\"},\"line_color\":{\"value\":\"black\"},\"line_dash\":{\"value\":[]},\"line_dash_offset\":{\"value\":0},\"line_join\":{\"value\":\"bevel\"},\"line_width\":{\"value\":1},\"top\":{\"field\":\"TOTAL\"},\"width\":{\"value\":0.8},\"x\":{\"field\":\"Year\"}},\"id\":\"79077\",\"type\":\"VBar\"},{\"attributes\":{},\"id\":\"83119\",\"type\":\"LinearScale\"},{\"attributes\":{\"callback\":null,\"renderers\":[{\"id\":\"83153\"},{\"id\":\"83174\"},{\"id\":\"83196\"}],\"tags\":[\"hv_created\"],\"tooltips\":[[\"Variable\",\"@{Variable}\"],[\"Report Date\",\"@{Report_Date}\"],[\"value\",\"@{value}\"]]},\"id\":\"83109\",\"type\":\"HoverTool\"},{\"attributes\":{\"bottom\":{\"value\":0},\"fill_alpha\":{\"value\":1.0},\"fill_color\":{\"value\":\"Red\"},\"hatch_alpha\":{\"value\":1.0},\"hatch_color\":{\"value\":\"black\"},\"hatch_scale\":{\"value\":12.0},\"hatch_weight\":{\"value\":1.0},\"line_alpha\":{\"value\":1.0},\"line_cap\":{\"value\":\"butt\"},\"line_color\":{\"value\":\"black\"},\"line_dash\":{\"value\":[]},\"line_dash_offset\":{\"value\":0},\"line_join\":{\"value\":\"bevel\"},\"line_width\":{\"value\":1},\"top\":{\"field\":\"TOTAL\"},\"width\":{\"value\":0.8},\"x\":{\"field\":\"Year\"}},\"id\":\"80569\",\"type\":\"VBar\"},{\"attributes\":{\"text\":\"Quarterly Stock Price from 2011 to 2021\",\"text_color\":\"black\",\"text_font_size\":\"12pt\"},\"id\":\"83113\",\"type\":\"Title\"},{\"attributes\":{},\"id\":\"83125\",\"type\":\"BasicTicker\"},{\"attributes\":{},\"id\":\"81742\",\"type\":\"AllLabels\"},{\"attributes\":{},\"id\":\"79440\",\"type\":\"UnionRenderers\"},{\"attributes\":{\"below\":[{\"id\":\"83121\"}],\"center\":[{\"id\":\"83123\"},{\"id\":\"83127\"}],\"left\":[{\"id\":\"83124\"}],\"margin\":[5,5,5,5],\"min_border_bottom\":10,\"min_border_left\":10,\"min_border_right\":10,\"min_border_top\":10,\"renderers\":[{\"id\":\"83153\"},{\"id\":\"83174\"},{\"id\":\"83196\"}],\"right\":[{\"id\":\"83165\"}],\"sizing_mode\":\"fixed\",\"title\":{\"id\":\"83113\"},\"toolbar\":{\"id\":\"83134\"},\"width\":900,\"x_range\":{\"id\":\"83107\"},\"x_scale\":{\"id\":\"83117\"},\"y_range\":{\"id\":\"83108\"},\"y_scale\":{\"id\":\"83119\"}},\"id\":\"83112\",\"subtype\":\"Figure\",\"type\":\"Plot\"},{\"attributes\":{\"source\":{\"id\":\"79069\"}},\"id\":\"79076\",\"type\":\"CDSView\"},{\"attributes\":{\"line_color\":\"#fc4f30\",\"line_width\":2,\"x\":{\"field\":\"Report Date\"},\"y\":{\"field\":\"value\"}},\"id\":\"81788\",\"type\":\"Line\"},{\"attributes\":{\"label\":{\"value\":\"DAL Net Profit Margin\"},\"renderers\":[{\"id\":\"81752\"}]},\"id\":\"81765\",\"type\":\"LegendItem\"},{\"attributes\":{},\"id\":\"77989\",\"type\":\"UnionRenderers\"},{\"attributes\":{\"overlay\":{\"id\":\"79061\"}},\"id\":\"79059\",\"type\":\"BoxZoomTool\"},{\"attributes\":{},\"id\":\"80573\",\"type\":\"AllLabels\"},{\"attributes\":{\"format\":\"%.0f\"},\"id\":\"80570\",\"type\":\"PrintfTickFormatter\"},{\"attributes\":{\"data_source\":{\"id\":\"81789\"},\"glyph\":{\"id\":\"81792\"},\"hover_glyph\":null,\"muted_glyph\":{\"id\":\"81794\"},\"nonselection_glyph\":{\"id\":\"81793\"},\"selection_glyph\":{\"id\":\"81812\"},\"view\":{\"id\":\"81796\"}},\"id\":\"81795\",\"type\":\"GlyphRenderer\"},{\"attributes\":{},\"id\":\"83122\",\"type\":\"CategoricalTicker\"},{\"attributes\":{},\"id\":\"83117\",\"type\":\"CategoricalScale\"},{\"attributes\":{},\"id\":\"79081\",\"type\":\"AllLabels\"},{\"attributes\":{\"axis_label\":\"Report Date\",\"formatter\":{\"id\":\"83142\"},\"major_label_orientation\":1.5707963267948966,\"major_label_policy\":{\"id\":\"83143\"},\"ticker\":{\"id\":\"83122\"}},\"id\":\"83121\",\"type\":\"CategoricalAxis\"},{\"attributes\":{\"bottom_units\":\"screen\",\"fill_alpha\":0.5,\"fill_color\":\"lightgrey\",\"left_units\":\"screen\",\"level\":\"overlay\",\"line_alpha\":1.0,\"line_color\":\"black\",\"line_dash\":[4,4],\"line_width\":2,\"right_units\":\"screen\",\"syncable\":false,\"top_units\":\"screen\"},\"id\":\"81732\",\"type\":\"BoxAnnotation\"},{\"attributes\":{},\"id\":\"81741\",\"type\":\"CategoricalTickFormatter\"},{\"attributes\":{\"format\":\"%.0f\"},\"id\":\"79078\",\"type\":\"PrintfTickFormatter\"},{\"attributes\":{},\"id\":\"79056\",\"type\":\"SaveTool\"},{\"attributes\":{\"css_classes\":[\"markdown\"],\"margin\":[5,5,5,5],\"name\":\"Markdown88247\",\"text\":\"&lt;p&gt;Revenue passenger miles are the backbone of most transportation metrics. RPM is often compared to available seat miles (ASM), a measure of an airplane&amp;rsquo;s total carrying capacity available to generate income. By dividing RPM by ASM, an airline can calculate load factors. The load factor is a percentage indicating how effective the airline is at selling seats and earning revenue. Higher load factors, obviously, are desired because empty seats are an opportunity cost for an airline. &lt;/p&gt;\"},\"id\":\"79035\",\"type\":\"panel.models.markup.HTML\"},{\"attributes\":{\"axis\":{\"id\":\"83121\"},\"grid_line_color\":null,\"ticker\":null},\"id\":\"83123\",\"type\":\"Grid\"},{\"attributes\":{\"line_alpha\":0.1,\"line_color\":\"#e5ae38\",\"line_width\":2,\"x\":{\"field\":\"Report Date\"},\"y\":{\"field\":\"value\"}},\"id\":\"81793\",\"type\":\"Line\"},{\"attributes\":{\"axis_label\":\"\",\"formatter\":{\"id\":\"83145\"},\"major_label_policy\":{\"id\":\"83146\"},\"ticker\":{\"id\":\"83125\"}},\"id\":\"83124\",\"type\":\"LinearAxis\"},{\"attributes\":{\"text\":\"Delta Airlines Revenue Passenger-Miles - All Airports\",\"text_color\":\"black\",\"text_font_size\":\"12pt\"},\"id\":\"79091\",\"type\":\"Title\"},{\"attributes\":{},\"id\":\"83130\",\"type\":\"WheelZoomTool\"},{\"attributes\":{},\"id\":\"79084\",\"type\":\"AllLabels\"},{\"attributes\":{\"line_alpha\":0.2,\"line_color\":\"#e5ae38\",\"line_width\":2,\"x\":{\"field\":\"Report Date\"},\"y\":{\"field\":\"value\"}},\"id\":\"81794\",\"type\":\"Line\"},{\"attributes\":{},\"id\":\"83129\",\"type\":\"PanTool\"},{\"attributes\":{},\"id\":\"80576\",\"type\":\"AllLabels\"},{\"attributes\":{\"axis\":{\"id\":\"83124\"},\"dimension\":1,\"grid_line_color\":null,\"ticker\":null},\"id\":\"83127\",\"type\":\"Grid\"},{\"attributes\":{\"axis_label\":\"(The number of passengers and the distance flown in thousands (000)) \",\"formatter\":{\"id\":\"79078\"},\"major_label_policy\":{\"id\":\"79084\"},\"ticker\":{\"id\":\"79053\"}},\"id\":\"79052\",\"type\":\"LinearAxis\"},{\"attributes\":{},\"id\":\"81808\",\"type\":\"UnionRenderers\"},{\"attributes\":{\"toolbars\":[{\"id\":\"80504\"},{\"id\":\"80554\"}],\"tools\":[{\"id\":\"80481\"},{\"id\":\"80498\"},{\"id\":\"80499\"},{\"id\":\"80500\"},{\"id\":\"80501\"},{\"id\":\"80502\"},{\"id\":\"80531\"},{\"id\":\"80548\"},{\"id\":\"80549\"},{\"id\":\"80550\"},{\"id\":\"80551\"},{\"id\":\"80552\"}]},\"id\":\"80600\",\"type\":\"ProxyToolbar\"},{\"attributes\":{\"source\":{\"id\":\"81789\"}},\"id\":\"81796\",\"type\":\"CDSView\"},{\"attributes\":{},\"id\":\"83128\",\"type\":\"SaveTool\"},{\"attributes\":{\"overlay\":{\"id\":\"83133\"}},\"id\":\"83131\",\"type\":\"BoxZoomTool\"},{\"attributes\":{\"data_source\":{\"id\":\"79069\"},\"glyph\":{\"id\":\"79072\"},\"hover_glyph\":null,\"muted_glyph\":{\"id\":\"79074\"},\"nonselection_glyph\":{\"id\":\"79073\"},\"selection_glyph\":{\"id\":\"79077\"},\"view\":{\"id\":\"79076\"}},\"id\":\"79075\",\"type\":\"GlyphRenderer\"},{\"attributes\":{},\"id\":\"83132\",\"type\":\"ResetTool\"},{\"attributes\":{},\"id\":\"79053\",\"type\":\"BasicTicker\"},{\"attributes\":{\"label\":{\"value\":\"UAL Net Profit Margin\"},\"renderers\":[{\"id\":\"81795\"}]},\"id\":\"81811\",\"type\":\"LegendItem\"},{\"attributes\":{},\"id\":\"79058\",\"type\":\"WheelZoomTool\"},{\"attributes\":{},\"id\":\"83145\",\"type\":\"BasicTickFormatter\"},{\"attributes\":{\"fill_color\":{\"value\":\"Orange\"},\"top\":{\"field\":\"TOTAL\"},\"width\":{\"value\":0.8},\"x\":{\"field\":\"Year\"}},\"id\":\"79072\",\"type\":\"VBar\"},{\"attributes\":{},\"id\":\"83143\",\"type\":\"AllLabels\"},{\"attributes\":{\"axis\":{\"id\":\"79052\"},\"dimension\":1,\"grid_line_color\":null,\"ticker\":null},\"id\":\"79055\",\"type\":\"Grid\"},{\"attributes\":{\"click_policy\":\"mute\",\"items\":[{\"id\":\"83166\"},{\"id\":\"83188\"},{\"id\":\"83212\"}],\"location\":[0,0],\"title\":\"Variable\"},\"id\":\"83165\",\"type\":\"Legend\"},{\"attributes\":{},\"id\":\"80585\",\"type\":\"UnionRenderers\"},{\"attributes\":{\"children\":[{\"id\":\"79446\"},{\"id\":\"79444\"}]},\"id\":\"79447\",\"type\":\"Column\"},{\"attributes\":{},\"id\":\"79050\",\"type\":\"CategoricalTicker\"},{\"attributes\":{},\"id\":\"81745\",\"type\":\"AllLabels\"},{\"attributes\":{},\"id\":\"79057\",\"type\":\"PanTool\"},{\"attributes\":{\"axis\":{\"id\":\"79049\"},\"grid_line_color\":null,\"ticker\":null},\"id\":\"79051\",\"type\":\"Grid\"},{\"attributes\":{},\"id\":\"81744\",\"type\":\"BasicTickFormatter\"},{\"attributes\":{\"bottom_units\":\"screen\",\"fill_alpha\":0.5,\"fill_color\":\"lightgrey\",\"left_units\":\"screen\",\"level\":\"overlay\",\"line_alpha\":1.0,\"line_color\":\"black\",\"line_dash\":[4,4],\"line_width\":2,\"right_units\":\"screen\",\"syncable\":false,\"top_units\":\"screen\"},\"id\":\"83133\",\"type\":\"BoxAnnotation\"},{\"attributes\":{\"line_alpha\":0.1,\"line_color\":\"#30a2da\",\"line_width\":2,\"x\":{\"field\":\"Report Date\"},\"y\":{\"field\":\"value\"}},\"id\":\"81750\",\"type\":\"Line\"},{\"attributes\":{},\"id\":\"83142\",\"type\":\"CategoricalTickFormatter\"},{\"attributes\":{},\"id\":\"79060\",\"type\":\"ResetTool\"},{\"attributes\":{\"active_multi\":null,\"tools\":[{\"id\":\"83109\"},{\"id\":\"83128\"},{\"id\":\"83129\"},{\"id\":\"83130\"},{\"id\":\"83131\"},{\"id\":\"83132\"}]},\"id\":\"83134\",\"type\":\"Toolbar\"},{\"attributes\":{\"line_color\":\"#e5ae38\",\"line_width\":2,\"x\":{\"field\":\"Report Date\"},\"y\":{\"field\":\"value\"}},\"id\":\"81812\",\"type\":\"Line\"},{\"attributes\":{\"data\":{\"Report Date\":[\"2011-06-30\",\"2011-09-30\",\"2011-12-31\",\"2012-03-31\",\"2012-06-30\",\"2012-09-30\",\"2012-12-31\",\"2013-03-31\",\"2013-06-30\",\"2013-09-30\",\"2013-12-31\",\"2014-03-31\",\"2014-06-30\",\"2014-09-30\",\"2014-12-31\",\"2015-03-31\",\"2015-06-30\",\"2015-09-30\",\"2015-12-31\",\"2016-03-31\",\"2016-06-30\",\"2016-09-30\",\"2016-12-31\",\"2017-03-31\",\"2017-06-30\",\"2017-09-30\",\"2017-12-31\",\"2018-03-31\",\"2018-06-30\",\"2018-09-30\",\"2018-12-31\",\"2019-03-31\",\"2019-06-30\",\"2019-09-30\",\"2019-12-31\",\"2020-03-31\",\"2020-06-29\",\"2020-12-30\",\"2021-03-30\"],\"Report_Date\":[\"2011-06-30\",\"2011-09-30\",\"2011-12-31\",\"2012-03-31\",\"2012-06-30\",\"2012-09-30\",\"2012-12-31\",\"2013-03-31\",\"2013-06-30\",\"2013-09-30\",\"2013-12-31\",\"2014-03-31\",\"2014-06-30\",\"2014-09-30\",\"2014-12-31\",\"2015-03-31\",\"2015-06-30\",\"2015-09-30\",\"2015-12-31\",\"2016-03-31\",\"2016-06-30\",\"2016-09-30\",\"2016-12-31\",\"2017-03-31\",\"2017-06-30\",\"2017-09-30\",\"2017-12-31\",\"2018-03-31\",\"2018-06-30\",\"2018-09-30\",\"2018-12-31\",\"2019-03-31\",\"2019-06-30\",\"2019-09-30\",\"2019-12-31\",\"2020-03-31\",\"2020-06-29\",\"2020-12-30\",\"2021-03-30\"],\"Variable\":[\"UAL Net Profit Margin\",\"UAL Net Profit Margin\",\"UAL Net Profit Margin\",\"UAL Net Profit Margin\",\"UAL Net Profit Margin\",\"UAL Net Profit Margin\",\"UAL Net Profit Margin\",\"UAL Net Profit Margin\",\"UAL Net Profit Margin\",\"UAL Net Profit Margin\",\"UAL Net Profit Margin\",\"UAL Net Profit Margin\",\"UAL Net Profit Margin\",\"UAL Net Profit Margin\",\"UAL Net Profit Margin\",\"UAL Net Profit Margin\",\"UAL Net Profit Margin\",\"UAL Net Profit Margin\",\"UAL Net Profit Margin\",\"UAL Net Profit Margin\",\"UAL Net Profit Margin\",\"UAL Net Profit Margin\",\"UAL Net Profit Margin\",\"UAL Net Profit Margin\",\"UAL Net Profit Margin\",\"UAL Net Profit Margin\",\"UAL Net Profit Margin\",\"UAL Net Profit Margin\",\"UAL Net Profit Margin\",\"UAL Net Profit Margin\",\"UAL Net Profit Margin\",\"UAL Net Profit Margin\",\"UAL Net Profit Margin\",\"UAL Net Profit Margin\",\"UAL Net Profit Margin\",\"UAL Net Profit Margin\",\"UAL Net Profit Margin\",\"UAL Net Profit Margin\",\"UAL Net Profit Margin\"],\"value\":{\"__ndarray__\":\"QqSZsfsUrD/VEwQ6jW+wP5iffvrpp4+/XASOZlmqqr97hUCNnHahP1c/GCFj10M/4QeG5k49sr9pPJbiSXuovx2PmYGpAqg/pfF6ROT4oj9WwbQV+buOP7ueIlOh7bG/Aum2DBeOsz+Qyp54xWS2Py36WDsxoWg/PSJMcDI3rj8/igdGRM6+PxkXT8hA6N0/3dGs6QZRtz8B4P+rKo6jP8saci07BbA/UCD8RbrruD/gR8eEbM+kPyfdy7EKEIg/R0ELYzQAtT8HkLp2M66wP7KRt9UKUK8/rRNBuXdwkD8HlS7vYzmwP1hPd2iCYbM/RhJjLJ9/pj8MKWmJsS6fP1u4frKlnrc/+iTplRYJtz+e8hamfSSuP1CK+yD0Vcu/T306pRim8b9DmgZClMrhv3KR8sSK9tq/\",\"dtype\":\"float64\",\"order\":\"little\",\"shape\":[39]}},\"selected\":{\"id\":\"81790\"},\"selection_policy\":{\"id\":\"81808\"}},\"id\":\"81789\",\"type\":\"ColumnDataSource\"},{\"attributes\":{\"line_alpha\":0.2,\"line_color\":\"#30a2da\",\"line_width\":2,\"x\":{\"field\":\"Report Date\"},\"y\":{\"field\":\"value\"}},\"id\":\"81751\",\"type\":\"Line\"},{\"attributes\":{\"children\":[{\"id\":\"80189\"},{\"id\":\"80190\"},{\"id\":\"80478\"}],\"margin\":[0,0,0,0],\"name\":\"Column88289\"},\"id\":\"80188\",\"type\":\"Column\"},{\"attributes\":{\"click_policy\":\"mute\",\"items\":[{\"id\":\"81765\"},{\"id\":\"81787\"},{\"id\":\"81811\"}],\"location\":[0,0],\"title\":\"Variable\"},\"id\":\"81764\",\"type\":\"Legend\"},{\"attributes\":{\"source\":{\"id\":\"81746\"}},\"id\":\"81753\",\"type\":\"CDSView\"},{\"attributes\":{\"child\":{\"id\":\"79033\"},\"name\":\"Column88249\",\"title\":\"Passenger-Miles\"},\"id\":\"79610\",\"type\":\"Panel\"},{\"attributes\":{},\"id\":\"78472\",\"type\":\"CategoricalTicker\"},{\"attributes\":{\"data_source\":{\"id\":\"81746\"},\"glyph\":{\"id\":\"81749\"},\"hover_glyph\":null,\"muted_glyph\":{\"id\":\"81751\"},\"nonselection_glyph\":{\"id\":\"81750\"},\"selection_glyph\":{\"id\":\"81766\"},\"view\":{\"id\":\"81753\"}},\"id\":\"81752\",\"type\":\"GlyphRenderer\"},{\"attributes\":{\"data\":{\"TOTAL\":[883728641,884743408,962094391,993010840,996711186,1029054389,1012796576,949242411,965310742,985260993,987420601,1004140149,1028487121,1073106176,1116048267,1153149529,1207036478,1246032714,642857537,171380541],\"Year\":[\"2002\",\"2003\",\"2004\",\"2005\",\"2006\",\"2007\",\"2008\",\"2009\",\"2010\",\"2011\",\"2012\",\"2013\",\"2014\",\"2015\",\"2016\",\"2017\",\"2018\",\"2019\",\"2020\",\"2021\"]},\"selected\":{\"id\":\"79647\"},\"selection_policy\":{\"id\":\"79720\"}},\"id\":\"79646\",\"type\":\"ColumnDataSource\"},{\"attributes\":{},\"id\":\"80308\",\"type\":\"UnionRenderers\"},{\"attributes\":{\"active_multi\":null,\"tools\":[{\"id\":\"79039\"},{\"id\":\"79056\"},{\"id\":\"79057\"},{\"id\":\"79058\"},{\"id\":\"79059\"},{\"id\":\"79060\"}]},\"id\":\"79062\",\"type\":\"Toolbar\"},{\"attributes\":{\"children\":[[{\"id\":\"79617\"},0,0],[{\"id\":\"79667\"},0,1]]},\"id\":\"79734\",\"type\":\"GridBox\"},{\"attributes\":{\"fill_alpha\":{\"value\":0.1},\"fill_color\":{\"value\":\"Orange\"},\"line_alpha\":{\"value\":0.1},\"top\":{\"field\":\"TOTAL\"},\"width\":{\"value\":0.8},\"x\":{\"field\":\"Year\"}},\"id\":\"79073\",\"type\":\"VBar\"},{\"attributes\":{\"data\":{\"Report Date\":[\"2011-06-30\",\"2011-09-30\",\"2011-12-31\",\"2012-03-31\",\"2012-06-30\",\"2012-09-30\",\"2012-12-31\",\"2013-03-31\",\"2013-06-30\",\"2013-09-30\",\"2013-12-31\",\"2014-03-31\",\"2014-06-30\",\"2014-09-30\",\"2014-12-31\",\"2015-03-31\",\"2015-06-30\",\"2015-09-30\",\"2015-12-31\",\"2016-03-31\",\"2016-06-30\",\"2016-09-30\",\"2016-12-31\",\"2017-03-31\",\"2017-06-30\",\"2017-09-30\",\"2017-12-31\",\"2018-03-31\",\"2018-06-30\",\"2018-09-30\",\"2018-12-31\",\"2019-03-31\",\"2019-06-30\",\"2019-09-30\",\"2019-12-31\",\"2020-03-31\",\"2020-06-29\",\"2020-12-30\",\"2021-03-30\"],\"Report_Date\":[\"2011-06-30\",\"2011-09-30\",\"2011-12-31\",\"2012-03-31\",\"2012-06-30\",\"2012-09-30\",\"2012-12-31\",\"2013-03-31\",\"2013-06-30\",\"2013-09-30\",\"2013-12-31\",\"2014-03-31\",\"2014-06-30\",\"2014-09-30\",\"2014-12-31\",\"2015-03-31\",\"2015-06-30\",\"2015-09-30\",\"2015-12-31\",\"2016-03-31\",\"2016-06-30\",\"2016-09-30\",\"2016-12-31\",\"2017-03-31\",\"2017-06-30\",\"2017-09-30\",\"2017-12-31\",\"2018-03-31\",\"2018-06-30\",\"2018-09-30\",\"2018-12-31\",\"2019-03-31\",\"2019-06-30\",\"2019-09-30\",\"2019-12-31\",\"2020-03-31\",\"2020-06-29\",\"2020-12-30\",\"2021-03-30\"],\"Variable\":[\"LUV Operating Margin\",\"LUV Operating Margin\",\"LUV Operating Margin\",\"LUV Operating Margin\",\"LUV Operating Margin\",\"LUV Operating Margin\",\"LUV Operating Margin\",\"LUV Operating Margin\",\"LUV Operating Margin\",\"LUV Operating Margin\",\"LUV Operating Margin\",\"LUV Operating Margin\",\"LUV Operating Margin\",\"LUV Operating Margin\",\"LUV Operating Margin\",\"LUV Operating Margin\",\"LUV Operating Margin\",\"LUV Operating Margin\",\"LUV Operating Margin\",\"LUV Operating Margin\",\"LUV Operating Margin\",\"LUV Operating Margin\",\"LUV Operating Margin\",\"LUV Operating Margin\",\"LUV Operating Margin\",\"LUV Operating Margin\",\"LUV Operating Margin\",\"LUV Operating Margin\",\"LUV Operating Margin\",\"LUV Operating Margin\",\"LUV Operating Margin\",\"LUV Operating Margin\",\"LUV Operating Margin\",\"LUV Operating Margin\",\"LUV Operating Margin\",\"LUV Operating Margin\",\"LUV Operating Margin\",\"LUV Operating Margin\",\"LUV Operating Margin\"],\"value\":{\"__ndarray__\":\"Nre2g/5msD8zKB3zzlWtP4FBU+bM7qY/FcuHfd31gT9j0SikDh+6PxLIeFP3Sac/k51K8L+GmT+Ulce0m8+UP+TtF1rKTrk/A2wCFUuLtz8L859Wsly3PxHcixq4oqw/W7yjeWHExD/7YskvlvzAPxHuXKyxecI/g1s1TDFJxz+I914odj/LPyepQTISoc0/k1GucyeRyj9N6+6EpwnJP1wIqqH3Vc4/0dDgBY5PwT+cdTW74E7FP9APHrnf9b8/S1lb4fkiyz8eFbsssUDEPwuPotsQtsQ/HM+uGX3lvz82xrcl76rFP7zuxxJhUsI/DQrE7q9mwj+0PDf9lxu5P3KxADD898Q/ik5S/SyXwj+1OXxBgrS9P1AckRCLmpq/OY7jOI7j8b/UwtRjO5HivzON5TSW07g/\",\"dtype\":\"float64\",\"order\":\"little\",\"shape\":[39]}},\"selected\":{\"id\":\"82002\"},\"selection_policy\":{\"id\":\"82018\"}},\"id\":\"82001\",\"type\":\"ColumnDataSource\"},{\"attributes\":{\"factors\":[\"2002\",\"2003\",\"2004\",\"2005\",\"2006\",\"2007\",\"2008\",\"2009\",\"2010\",\"2011\",\"2012\",\"2013\",\"2014\",\"2015\",\"2016\",\"2017\",\"2018\",\"2019\",\"2020\",\"2021\"],\"tags\":[[[\"Year\",\"Year\",null]]]},\"id\":\"79614\",\"type\":\"FactorRange\"},{\"attributes\":{\"bottom_units\":\"screen\",\"fill_alpha\":0.5,\"fill_color\":\"lightgrey\",\"left_units\":\"screen\",\"level\":\"overlay\",\"line_alpha\":1.0,\"line_color\":\"black\",\"line_dash\":[4,4],\"line_width\":2,\"right_units\":\"screen\",\"syncable\":false,\"top_units\":\"screen\"},\"id\":\"79061\",\"type\":\"BoxAnnotation\"},{\"attributes\":{},\"id\":\"79070\",\"type\":\"Selection\"},{\"attributes\":{},\"id\":\"79080\",\"type\":\"CategoricalTickFormatter\"},{\"attributes\":{\"data\":{\"Report Date\":[\"2011-06-30\",\"2011-09-30\",\"2011-12-31\",\"2012-03-31\",\"2012-06-30\",\"2012-09-30\",\"2012-12-31\",\"2013-03-31\",\"2013-06-30\",\"2013-09-30\",\"2013-12-31\",\"2014-03-31\",\"2014-06-30\",\"2014-09-30\",\"2014-12-31\",\"2015-03-31\",\"2015-06-30\",\"2015-09-30\",\"2015-12-31\",\"2016-03-31\",\"2016-06-30\",\"2016-09-30\",\"2016-12-31\",\"2017-03-31\",\"2017-06-30\",\"2017-09-30\",\"2017-12-31\",\"2018-03-31\",\"2018-06-30\",\"2018-09-30\",\"2018-12-31\",\"2019-03-31\",\"2019-06-30\",\"2019-09-30\",\"2019-12-31\",\"2020-03-31\",\"2020-06-29\",\"2020-12-30\",\"2021-03-30\"],\"Report_Date\":[\"2011-06-30\",\"2011-09-30\",\"2011-12-31\",\"2012-03-31\",\"2012-06-30\",\"2012-09-30\",\"2012-12-31\",\"2013-03-31\",\"2013-06-30\",\"2013-09-30\",\"2013-12-31\",\"2014-03-31\",\"2014-06-30\",\"2014-09-30\",\"2014-12-31\",\"2015-03-31\",\"2015-06-30\",\"2015-09-30\",\"2015-12-31\",\"2016-03-31\",\"2016-06-30\",\"2016-09-30\",\"2016-12-31\",\"2017-03-31\",\"2017-06-30\",\"2017-09-30\",\"2017-12-31\",\"2018-03-31\",\"2018-06-30\",\"2018-09-30\",\"2018-12-31\",\"2019-03-31\",\"2019-06-30\",\"2019-09-30\",\"2019-12-31\",\"2020-03-31\",\"2020-06-29\",\"2020-12-30\",\"2021-03-30\"],\"Variable\":[\"UAL Operating Margin\",\"UAL Operating Margin\",\"UAL Operating Margin\",\"UAL Operating Margin\",\"UAL Operating Margin\",\"UAL Operating Margin\",\"UAL Operating Margin\",\"UAL Operating Margin\",\"UAL Operating Margin\",\"UAL Operating Margin\",\"UAL Operating Margin\",\"UAL Operating Margin\",\"UAL Operating Margin\",\"UAL Operating Margin\",\"UAL Operating Margin\",\"UAL Operating Margin\",\"UAL Operating Margin\",\"UAL Operating Margin\",\"UAL Operating Margin\",\"UAL Operating Margin\",\"UAL Operating Margin\",\"UAL Operating Margin\",\"UAL Operating Margin\",\"UAL Operating Margin\",\"UAL Operating Margin\",\"UAL Operating Margin\",\"UAL Operating Margin\",\"UAL Operating Margin\",\"UAL Operating Margin\",\"UAL Operating Margin\",\"UAL Operating Margin\",\"UAL Operating Margin\",\"UAL Operating Margin\",\"UAL Operating Margin\",\"UAL Operating Margin\",\"UAL Operating Margin\",\"UAL Operating Margin\",\"UAL Operating Margin\",\"UAL Operating Margin\"],\"value\":{\"__ndarray__\":\"31uPG+DluD99ies2zo26P9lwww033KA/tIge+5l5ib9ipGZ1xh20P6yNxCg+crI/XIK1Del5aL+z6KYqIzKUv6hQoUKFCrU/CCIcs//+sT99HIEP+/OlP2b548iVfKG/xaDR5rekuj8kH+mPGui9PyIhir/IGbY/VDSt8sXwtz+DbvRf1l3DPzXIAsiGh8g/ZGlqNy0rwT+yePj6ijW6P3dO8M88WsQ/xuQNFvqMxT9F7SR9Fby+P/HCu3Ymi6Y/omLKwQ/xwj8dIf1MHbm+PyI7aOh0bLQ/Gq4AdZweoT9MgmLVUUO+P20L/N1BA7w/pXwx/BPXtj+ujdfeMWSrP1OMz0pmUsE/lELMCijfwD+oc8mB7ky3P046smcgKr2/jgWgot3B8b9M96iZAAbkv/zW8/SecNu/\",\"dtype\":\"float64\",\"order\":\"little\",\"shape\":[39]}},\"selected\":{\"id\":\"82024\"},\"selection_policy\":{\"id\":\"82042\"}},\"id\":\"82023\",\"type\":\"ColumnDataSource\"},{\"attributes\":{},\"id\":\"83146\",\"type\":\"AllLabels\"},{\"attributes\":{\"data\":{\"Report Date\":[\"2011-06-30\",\"2011-09-30\",\"2011-12-31\",\"2012-03-31\",\"2012-06-30\",\"2012-09-30\",\"2012-12-31\",\"2013-03-31\",\"2013-06-30\",\"2013-09-30\",\"2013-12-31\",\"2014-03-31\",\"2014-06-30\",\"2014-09-30\",\"2014-12-31\",\"2015-03-31\",\"2015-06-30\",\"2015-09-30\",\"2015-12-31\",\"2016-03-31\",\"2016-06-30\",\"2016-09-30\",\"2016-12-31\",\"2017-03-31\",\"2017-06-30\",\"2017-09-30\",\"2017-12-31\",\"2018-03-31\",\"2018-06-30\",\"2018-09-30\",\"2018-12-31\",\"2019-03-31\",\"2019-06-30\",\"2019-09-30\",\"2019-12-31\",\"2020-03-31\",\"2020-06-29\",\"2020-12-30\",\"2021-03-30\"],\"Report_Date\":[\"2011-06-30\",\"2011-09-30\",\"2011-12-31\",\"2012-03-31\",\"2012-06-30\",\"2012-09-30\",\"2012-12-31\",\"2013-03-31\",\"2013-06-30\",\"2013-09-30\",\"2013-12-31\",\"2014-03-31\",\"2014-06-30\",\"2014-09-30\",\"2014-12-31\",\"2015-03-31\",\"2015-06-30\",\"2015-09-30\",\"2015-12-31\",\"2016-03-31\",\"2016-06-30\",\"2016-09-30\",\"2016-12-31\",\"2017-03-31\",\"2017-06-30\",\"2017-09-30\",\"2017-12-31\",\"2018-03-31\",\"2018-06-30\",\"2018-09-30\",\"2018-12-31\",\"2019-03-31\",\"2019-06-30\",\"2019-09-30\",\"2019-12-31\",\"2020-03-31\",\"2020-06-29\",\"2020-12-30\",\"2021-03-30\"],\"Variable\":[\"DAL Quick Ratio\",\"DAL Quick Ratio\",\"DAL Quick Ratio\",\"DAL Quick Ratio\",\"DAL Quick Ratio\",\"DAL Quick Ratio\",\"DAL Quick Ratio\",\"DAL Quick Ratio\",\"DAL Quick Ratio\",\"DAL Quick Ratio\",\"DAL Quick Ratio\",\"DAL Quick Ratio\",\"DAL Quick Ratio\",\"DAL Quick Ratio\",\"DAL Quick Ratio\",\"DAL Quick Ratio\",\"DAL Quick Ratio\",\"DAL Quick Ratio\",\"DAL Quick Ratio\",\"DAL Quick Ratio\",\"DAL Quick Ratio\",\"DAL Quick Ratio\",\"DAL Quick Ratio\",\"DAL Quick Ratio\",\"DAL Quick Ratio\",\"DAL Quick Ratio\",\"DAL Quick Ratio\",\"DAL Quick Ratio\",\"DAL Quick Ratio\",\"DAL Quick Ratio\",\"DAL Quick Ratio\",\"DAL Quick Ratio\",\"DAL Quick Ratio\",\"DAL Quick Ratio\",\"DAL Quick Ratio\",\"DAL Quick Ratio\",\"DAL Quick Ratio\",\"DAL Quick Ratio\",\"DAL Quick Ratio\"],\"value\":{\"__ndarray__\":\"zmQlSeOk4z/VM+COHIPiP+Z2OUEMIOI/ytJC/Y6b4j8ciMzBCZDhP42N9qgpx+I//YHFwwp74T8N5H9fYGThP4sWbdhzLuE/G83GsNDt4T9Yq2DEO2vjP/ew/BCuweI/bFMEJyIb5D+fkoyClrflPx7QgK26jd8/KQ7uEQUv5T+EPMEFQMjjP+CPY+gCf+Q/5PVtJFOG3j9a2/dv/HDeP3KOo61t89o/gvpOvT2x2z9piwOr5IzbP0n92M7GK9g/fIZZ+FYC2D+pMQhpnxLXP1oXHXdI8tU/StrCYHcJ1T87+gld4RnUP5OPxKMwldM/ZFe17Ns00j//xiOUR2LSPws8dZtZTNI/oNAyOeOX0j/HeIO64CrWP7uv0EdFst4/FIS2o4+x7D91ZBoamL/wPwtywASIVeo/\",\"dtype\":\"float64\",\"order\":\"little\",\"shape\":[39]}},\"selected\":{\"id\":\"82214\"},\"selection_policy\":{\"id\":\"82228\"}},\"id\":\"82213\",\"type\":\"ColumnDataSource\"},{\"attributes\":{\"fill_alpha\":{\"value\":0.2},\"fill_color\":{\"value\":\"Orange\"},\"line_alpha\":{\"value\":0.2},\"top\":{\"field\":\"TOTAL\"},\"width\":{\"value\":0.8},\"x\":{\"field\":\"Year\"}},\"id\":\"79074\",\"type\":\"VBar\"},{\"attributes\":{\"fill_alpha\":{\"value\":0.1},\"fill_color\":{\"value\":\"Green\"},\"line_alpha\":{\"value\":0.1},\"top\":{\"field\":\"TOTAL\"},\"width\":{\"value\":0.8},\"x\":{\"field\":\"Year\"}},\"id\":\"77969\",\"type\":\"VBar\"},{\"attributes\":{},\"id\":\"77976\",\"type\":\"CategoricalTickFormatter\"},{\"attributes\":{\"fill_color\":{\"value\":\"Green\"},\"top\":{\"field\":\"TOTAL\"},\"width\":{\"value\":0.8},\"x\":{\"field\":\"Year\"}},\"id\":\"77968\",\"type\":\"VBar\"},{\"attributes\":{},\"id\":\"77966\",\"type\":\"Selection\"},{\"attributes\":{\"fill_alpha\":{\"value\":0.2},\"fill_color\":{\"value\":\"Green\"},\"line_alpha\":{\"value\":0.2},\"top\":{\"field\":\"TOTAL\"},\"width\":{\"value\":0.8},\"x\":{\"field\":\"Year\"}},\"id\":\"77970\",\"type\":\"VBar\"},{\"attributes\":{\"source\":{\"id\":\"77965\"}},\"id\":\"77972\",\"type\":\"CDSView\"},{\"attributes\":{\"data_source\":{\"id\":\"77965\"},\"glyph\":{\"id\":\"77968\"},\"hover_glyph\":null,\"muted_glyph\":{\"id\":\"77970\"},\"nonselection_glyph\":{\"id\":\"77969\"},\"selection_glyph\":{\"id\":\"77973\"},\"view\":{\"id\":\"77972\"}},\"id\":\"77971\",\"type\":\"GlyphRenderer\"},{\"attributes\":{\"toolbar\":{\"id\":\"78004\"},\"toolbar_location\":\"above\"},\"id\":\"78005\",\"type\":\"ToolbarBox\"},{\"attributes\":{\"bottom\":{\"value\":0},\"fill_alpha\":{\"value\":1.0},\"fill_color\":{\"value\":\"Green\"},\"hatch_alpha\":{\"value\":1.0},\"hatch_color\":{\"value\":\"black\"},\"hatch_scale\":{\"value\":12.0},\"hatch_weight\":{\"value\":1.0},\"line_alpha\":{\"value\":1.0},\"line_cap\":{\"value\":\"butt\"},\"line_color\":{\"value\":\"black\"},\"line_dash\":{\"value\":[]},\"line_dash_offset\":{\"value\":0},\"line_join\":{\"value\":\"bevel\"},\"line_width\":{\"value\":1},\"top\":{\"field\":\"TOTAL\"},\"width\":{\"value\":0.8},\"x\":{\"field\":\"Year\"}},\"id\":\"77973\",\"type\":\"VBar\"},{\"attributes\":{},\"id\":\"77977\",\"type\":\"AllLabels\"},{\"attributes\":{\"format\":\"%.0f\"},\"id\":\"77974\",\"type\":\"PrintfTickFormatter\"},{\"attributes\":{\"children\":[[{\"id\":\"79327\"},0,0],[{\"id\":\"79377\"},0,1]]},\"id\":\"79444\",\"type\":\"GridBox\"},{\"attributes\":{},\"id\":\"77980\",\"type\":\"AllLabels\"},{\"attributes\":{\"toolbars\":[{\"id\":\"77908\"},{\"id\":\"77958\"}],\"tools\":[{\"id\":\"77885\"},{\"id\":\"77902\"},{\"id\":\"77903\"},{\"id\":\"77904\"},{\"id\":\"77905\"},{\"id\":\"77906\"},{\"id\":\"77935\"},{\"id\":\"77952\"},{\"id\":\"77953\"},{\"id\":\"77954\"},{\"id\":\"77955\"},{\"id\":\"77956\"}]},\"id\":\"78004\",\"type\":\"ProxyToolbar\"},{\"attributes\":{},\"id\":\"80017\",\"type\":\"UnionRenderers\"},{\"attributes\":{},\"id\":\"83148\",\"type\":\"Selection\"},{\"attributes\":{\"line_alpha\":0.1,\"line_color\":\"#fc4f30\",\"line_width\":2,\"x\":{\"field\":\"Report Date\"},\"y\":{\"field\":\"value\"}},\"id\":\"83172\",\"type\":\"Line\"},{\"attributes\":{},\"id\":\"78506\",\"type\":\"AllLabels\"},{\"attributes\":{\"below\":[{\"id\":\"78471\"}],\"center\":[{\"id\":\"78473\"},{\"id\":\"78477\"}],\"height\":500,\"left\":[{\"id\":\"78474\"}],\"margin\":null,\"min_border_bottom\":10,\"min_border_left\":10,\"min_border_right\":10,\"min_border_top\":10,\"renderers\":[{\"id\":\"78497\"}],\"sizing_mode\":\"fixed\",\"title\":{\"id\":\"78463\"},\"toolbar\":{\"id\":\"78484\"},\"toolbar_location\":null,\"width\":900,\"x_range\":{\"id\":\"78459\"},\"x_scale\":{\"id\":\"78467\"},\"y_range\":{\"id\":\"78460\"},\"y_scale\":{\"id\":\"78469\"}},\"id\":\"78462\",\"subtype\":\"Figure\",\"type\":\"Plot\"},{\"attributes\":{\"data\":{\"Report Date\":[\"2011-06-30\",\"2011-09-30\",\"2011-12-31\",\"2012-03-31\",\"2012-06-30\",\"2012-09-30\",\"2012-12-31\",\"2013-03-31\",\"2013-06-30\",\"2013-09-30\",\"2013-12-31\",\"2014-03-31\",\"2014-06-30\",\"2014-09-30\",\"2014-12-31\",\"2015-03-31\",\"2015-06-30\",\"2015-09-30\",\"2015-12-31\",\"2016-03-31\",\"2016-06-30\",\"2016-09-30\",\"2016-12-31\",\"2017-03-31\",\"2017-06-30\",\"2017-09-30\",\"2017-12-31\",\"2018-03-31\",\"2018-06-30\",\"2018-09-30\",\"2018-12-31\",\"2019-03-31\",\"2019-06-30\",\"2019-09-30\",\"2019-12-31\",\"2020-03-31\",\"2020-06-29\",\"2020-12-30\",\"2021-03-30\"],\"Report_Date\":[\"2011-06-30\",\"2011-09-30\",\"2011-12-31\",\"2012-03-31\",\"2012-06-30\",\"2012-09-30\",\"2012-12-31\",\"2013-03-31\",\"2013-06-30\",\"2013-09-30\",\"2013-12-31\",\"2014-03-31\",\"2014-06-30\",\"2014-09-30\",\"2014-12-31\",\"2015-03-31\",\"2015-06-30\",\"2015-09-30\",\"2015-12-31\",\"2016-03-31\",\"2016-06-30\",\"2016-09-30\",\"2016-12-31\",\"2017-03-31\",\"2017-06-30\",\"2017-09-30\",\"2017-12-31\",\"2018-03-31\",\"2018-06-30\",\"2018-09-30\",\"2018-12-31\",\"2019-03-31\",\"2019-06-30\",\"2019-09-30\",\"2019-12-31\",\"2020-03-31\",\"2020-06-29\",\"2020-12-30\",\"2021-03-30\"],\"Variable\":[\"UAL Stock Price\",\"UAL Stock Price\",\"UAL Stock Price\",\"UAL Stock Price\",\"UAL Stock Price\",\"UAL Stock Price\",\"UAL Stock Price\",\"UAL Stock Price\",\"UAL Stock Price\",\"UAL Stock Price\",\"UAL Stock Price\",\"UAL Stock Price\",\"UAL Stock Price\",\"UAL Stock Price\",\"UAL Stock Price\",\"UAL Stock Price\",\"UAL Stock Price\",\"UAL Stock Price\",\"UAL Stock Price\",\"UAL Stock Price\",\"UAL Stock Price\",\"UAL Stock Price\",\"UAL Stock Price\",\"UAL Stock Price\",\"UAL Stock Price\",\"UAL Stock Price\",\"UAL Stock Price\",\"UAL Stock Price\",\"UAL Stock Price\",\"UAL Stock Price\",\"UAL Stock Price\",\"UAL Stock Price\",\"UAL Stock Price\",\"UAL Stock Price\",\"UAL Stock Price\",\"UAL Stock Price\",\"UAL Stock Price\",\"UAL Stock Price\",\"UAL Stock Price\"],\"value\":{\"__ndarray__\":\"w/UoXI/CMkBcj8L1KBw0QPYoXI/C9TRAKVyPwvUoNkBxPQrXozAzQIXrUbgeRTNAzczMzMxMOkBmZmZmZuY+QGZmZmZmJkFACtejcD1KP0C4HoXrUdhGQMP1KFyPwkRAmpmZmZl5RkD2KFyPwrVIQFK4HoXrAVFAhetRuB5lT0DXo3A9CldMQIXrUbgeBUxA16NwPQr3SUAAAAAAAGBKQK5H4XoU7kdAFK5H4XqESkAzMzMzM6NSQMP1KFyP8lBAzczMzMyMUkCkcD0K1+NNQD0K16NwrVBAhetRuB6lUUDhehSuR8FTQAAAAAAAIFZApHA9CtfzVUCuR+F6FE5WQAAAAAAAsFdAzczMzMxsVkCF61G4HqVRQAAAAAAAQDlAhetRuB6FQED2KFyPwpVGQAAAAAAAgEtA\",\"dtype\":\"float64\",\"order\":\"little\",\"shape\":[39]}},\"selected\":{\"id\":\"83191\"},\"selection_policy\":{\"id\":\"83209\"}},\"id\":\"83190\",\"type\":\"ColumnDataSource\"},{\"attributes\":{\"fill_alpha\":{\"value\":0.2},\"fill_color\":{\"value\":\"Orange\"},\"line_alpha\":{\"value\":0.2},\"top\":{\"field\":\"TOTAL\"},\"width\":{\"value\":0.8},\"x\":{\"field\":\"Year\"}},\"id\":\"78496\",\"type\":\"VBar\"},{\"attributes\":{\"data_source\":{\"id\":\"83168\"},\"glyph\":{\"id\":\"83171\"},\"hover_glyph\":null,\"muted_glyph\":{\"id\":\"83173\"},\"nonselection_glyph\":{\"id\":\"83172\"},\"selection_glyph\":{\"id\":\"83189\"},\"view\":{\"id\":\"83175\"}},\"id\":\"83174\",\"type\":\"GlyphRenderer\"},{\"attributes\":{\"data_source\":{\"id\":\"83147\"},\"glyph\":{\"id\":\"83150\"},\"hover_glyph\":null,\"muted_glyph\":{\"id\":\"83152\"},\"nonselection_glyph\":{\"id\":\"83151\"},\"selection_glyph\":{\"id\":\"83167\"},\"view\":{\"id\":\"83154\"}},\"id\":\"83153\",\"type\":\"GlyphRenderer\"},{\"attributes\":{\"bottom\":{\"value\":0},\"fill_alpha\":{\"value\":1.0},\"fill_color\":{\"value\":\"Orange\"},\"hatch_alpha\":{\"value\":1.0},\"hatch_color\":{\"value\":\"black\"},\"hatch_scale\":{\"value\":12.0},\"hatch_weight\":{\"value\":1.0},\"line_alpha\":{\"value\":1.0},\"line_cap\":{\"value\":\"butt\"},\"line_color\":{\"value\":\"black\"},\"line_dash\":{\"value\":[]},\"line_dash_offset\":{\"value\":0},\"line_join\":{\"value\":\"bevel\"},\"line_width\":{\"value\":1},\"top\":{\"field\":\"TOTAL\"},\"width\":{\"value\":0.8},\"x\":{\"field\":\"Year\"}},\"id\":\"79654\",\"type\":\"VBar\"},{\"attributes\":{\"line_alpha\":0.2,\"line_color\":\"#fc4f30\",\"line_width\":2,\"x\":{\"field\":\"Report Date\"},\"y\":{\"field\":\"value\"}},\"id\":\"83173\",\"type\":\"Line\"},{\"attributes\":{\"line_color\":\"#30a2da\",\"line_width\":2,\"x\":{\"field\":\"Report Date\"},\"y\":{\"field\":\"value\"}},\"id\":\"83150\",\"type\":\"Line\"},{\"attributes\":{},\"id\":\"78492\",\"type\":\"Selection\"},{\"attributes\":{},\"id\":\"79674\",\"type\":\"LinearScale\"},{\"attributes\":{\"line_alpha\":0.1,\"line_color\":\"#30a2da\",\"line_width\":2,\"x\":{\"field\":\"Report Date\"},\"y\":{\"field\":\"value\"}},\"id\":\"83151\",\"type\":\"Line\"},{\"attributes\":{\"end\":272081285.0,\"reset_end\":272081285.0,\"reset_start\":0.0,\"tags\":[[[\"TOTAL\",\"TOTAL\",null]]]},\"id\":\"79665\",\"type\":\"Range1d\"},{\"attributes\":{\"fill_color\":{\"value\":\"Orange\"},\"top\":{\"field\":\"TOTAL\"},\"width\":{\"value\":0.8},\"x\":{\"field\":\"Year\"}},\"id\":\"78494\",\"type\":\"VBar\"},{\"attributes\":{},\"id\":\"81761\",\"type\":\"UnionRenderers\"},{\"attributes\":{\"line_alpha\":0.2,\"line_color\":\"#30a2da\",\"line_width\":2,\"x\":{\"field\":\"Report Date\"},\"y\":{\"field\":\"value\"}},\"id\":\"83152\",\"type\":\"Line\"},{\"attributes\":{\"source\":{\"id\":\"83168\"}},\"id\":\"83175\",\"type\":\"CDSView\"},{\"attributes\":{\"format\":\"%.0f\"},\"id\":\"79655\",\"type\":\"PrintfTickFormatter\"},{\"attributes\":{\"bottom_units\":\"screen\",\"fill_alpha\":0.5,\"fill_color\":\"lightgrey\",\"left_units\":\"screen\",\"level\":\"overlay\",\"line_alpha\":1.0,\"line_color\":\"black\",\"line_dash\":[4,4],\"line_width\":2,\"right_units\":\"screen\",\"syncable\":false,\"top_units\":\"screen\"},\"id\":\"78483\",\"type\":\"BoxAnnotation\"},{\"attributes\":{\"label\":{\"value\":\"LUv Price\"},\"renderers\":[{\"id\":\"83174\"}]},\"id\":\"83188\",\"type\":\"LegendItem\"},{\"attributes\":{\"callback\":null,\"renderers\":[{\"id\":\"79702\"}],\"tags\":[\"hv_created\"],\"tooltips\":[[\"Year\",\"@{Year}\"],[\"TOTAL\",\"@{TOTAL}\"]]},\"id\":\"79666\",\"type\":\"HoverTool\"},{\"attributes\":{\"text\":\"Delta Airlines Available Seat-Miles - All Airports\",\"text_color\":\"black\",\"text_font_size\":\"12pt\"},\"id\":\"79668\",\"type\":\"Title\"},{\"attributes\":{\"source\":{\"id\":\"83147\"}},\"id\":\"83154\",\"type\":\"CDSView\"},{\"attributes\":{\"fill_alpha\":{\"value\":0.1},\"fill_color\":{\"value\":\"Orange\"},\"line_alpha\":{\"value\":0.1},\"top\":{\"field\":\"TOTAL\"},\"width\":{\"value\":0.8},\"x\":{\"field\":\"Year\"}},\"id\":\"78495\",\"type\":\"VBar\"},{\"attributes\":{\"line_color\":\"#30a2da\",\"line_width\":2,\"x\":{\"field\":\"Report Date\"},\"y\":{\"field\":\"value\"}},\"id\":\"83167\",\"type\":\"Line\"},{\"attributes\":{},\"id\":\"83185\",\"type\":\"UnionRenderers\"},{\"attributes\":{},\"id\":\"79672\",\"type\":\"CategoricalScale\"},{\"attributes\":{\"factors\":[\"2002\",\"2003\",\"2004\",\"2005\",\"2006\",\"2007\",\"2008\",\"2009\",\"2010\",\"2011\",\"2012\",\"2013\",\"2014\",\"2015\",\"2016\",\"2017\",\"2018\",\"2019\",\"2020\",\"2021\"],\"tags\":[[[\"Year\",\"Year\",null]]]},\"id\":\"79664\",\"type\":\"FactorRange\"},{\"attributes\":{\"below\":[{\"id\":\"79676\"}],\"center\":[{\"id\":\"79678\"},{\"id\":\"79682\"}],\"height\":500,\"left\":[{\"id\":\"79679\"}],\"margin\":null,\"min_border_bottom\":10,\"min_border_left\":10,\"min_border_right\":10,\"min_border_top\":10,\"renderers\":[{\"id\":\"79702\"}],\"sizing_mode\":\"fixed\",\"title\":{\"id\":\"79668\"},\"toolbar\":{\"id\":\"79689\"},\"toolbar_location\":null,\"width\":900,\"x_range\":{\"id\":\"79664\"},\"x_scale\":{\"id\":\"79672\"},\"y_range\":{\"id\":\"79665\"},\"y_scale\":{\"id\":\"79674\"}},\"id\":\"79667\",\"subtype\":\"Figure\",\"type\":\"Plot\"},{\"attributes\":{},\"id\":\"79661\",\"type\":\"AllLabels\"},{\"attributes\":{\"factors\":[\"2002\",\"2003\",\"2004\",\"2005\",\"2006\",\"2007\",\"2008\",\"2009\",\"2010\",\"2011\",\"2012\",\"2013\",\"2014\",\"2015\",\"2016\",\"2017\",\"2018\",\"2019\",\"2020\",\"2021\"],\"tags\":[[[\"Year\",\"Year\",null]]]},\"id\":\"78459\",\"type\":\"FactorRange\"},{\"attributes\":{\"factors\":[\"2002\",\"2003\",\"2004\",\"2005\",\"2006\",\"2007\",\"2008\",\"2009\",\"2010\",\"2011\",\"2012\",\"2013\",\"2014\",\"2015\",\"2016\",\"2017\",\"2018\",\"2019\",\"2020\",\"2021\"],\"tags\":[[[\"Year\",\"Year\",null]]]},\"id\":\"78509\",\"type\":\"FactorRange\"},{\"attributes\":{\"children\":[[{\"id\":\"77886\"},0,0],[{\"id\":\"77936\"},0,1]]},\"id\":\"78003\",\"type\":\"GridBox\"},{\"attributes\":{},\"id\":\"79658\",\"type\":\"AllLabels\"},{\"attributes\":{\"factors\":[\"2011-06-30\",\"2011-09-30\",\"2011-12-31\",\"2012-03-31\",\"2012-06-30\",\"2012-09-30\",\"2012-12-31\",\"2013-03-31\",\"2013-06-30\",\"2013-09-30\",\"2013-12-31\",\"2014-03-31\",\"2014-06-30\",\"2014-09-30\",\"2014-12-31\",\"2015-03-31\",\"2015-06-30\",\"2015-09-30\",\"2015-12-31\",\"2016-03-31\",\"2016-06-30\",\"2016-09-30\",\"2016-12-31\",\"2017-03-31\",\"2017-06-30\",\"2017-09-30\",\"2017-12-31\",\"2018-03-31\",\"2018-06-30\",\"2018-09-30\",\"2018-12-31\",\"2019-03-31\",\"2019-06-30\",\"2019-09-30\",\"2019-12-31\",\"2020-03-31\",\"2020-06-29\",\"2020-12-30\",\"2021-03-30\"],\"tags\":[[[\"Report Date\",\"Report Date\",null]]]},\"id\":\"81940\",\"type\":\"FactorRange\"},{\"attributes\":{},\"id\":\"81952\",\"type\":\"LinearScale\"},{\"attributes\":{\"line_color\":\"#e5ae38\",\"line_width\":2,\"x\":{\"field\":\"Report Date\"},\"y\":{\"field\":\"value\"}},\"id\":\"81792\",\"type\":\"Line\"},{\"attributes\":{\"text\":\"All U.S.Carriers Flights - All Airports\",\"text_color\":\"black\",\"text_font_size\":\"12pt\"},\"id\":\"78463\",\"type\":\"Title\"},{\"attributes\":{\"source\":{\"id\":\"78491\"}},\"id\":\"78498\",\"type\":\"CDSView\"},{\"attributes\":{\"end\":0.5886956407318484,\"reset_end\":0.5886956407318484,\"reset_start\":-3.631669878659546,\"start\":-3.631669878659546,\"tags\":[[[\"value\",\"value\",null]]]},\"id\":\"81941\",\"type\":\"Range1d\"},{\"attributes\":{\"axis_label\":\"Year\",\"formatter\":{\"id\":\"79707\"},\"major_label_policy\":{\"id\":\"79708\"},\"ticker\":{\"id\":\"79677\"}},\"id\":\"79676\",\"type\":\"CategoricalAxis\"},{\"attributes\":{\"data_source\":{\"id\":\"78491\"},\"glyph\":{\"id\":\"78494\"},\"hover_glyph\":null,\"muted_glyph\":{\"id\":\"78496\"},\"nonselection_glyph\":{\"id\":\"78495\"},\"selection_glyph\":{\"id\":\"78499\"},\"view\":{\"id\":\"78498\"}},\"id\":\"78497\",\"type\":\"GlyphRenderer\"},{\"attributes\":{\"children\":[{\"id\":\"79737\"}],\"margin\":[0,0,0,0],\"name\":\"Row88257\"},\"id\":\"79613\",\"type\":\"Row\"},{\"attributes\":{\"below\":[{\"id\":\"81954\"}],\"center\":[{\"id\":\"81956\"},{\"id\":\"81960\"}],\"left\":[{\"id\":\"81957\"}],\"margin\":[5,5,5,5],\"min_border_bottom\":10,\"min_border_left\":10,\"min_border_right\":10,\"min_border_top\":10,\"renderers\":[{\"id\":\"81986\"},{\"id\":\"82007\"},{\"id\":\"82029\"}],\"right\":[{\"id\":\"81998\"}],\"sizing_mode\":\"fixed\",\"title\":{\"id\":\"81946\"},\"toolbar\":{\"id\":\"81967\"},\"width\":900,\"x_range\":{\"id\":\"81940\"},\"x_scale\":{\"id\":\"81950\"},\"y_range\":{\"id\":\"81941\"},\"y_scale\":{\"id\":\"81952\"}},\"id\":\"81945\",\"subtype\":\"Figure\",\"type\":\"Plot\"},{\"attributes\":{\"line_color\":\"#30a2da\",\"line_width\":2,\"x\":{\"field\":\"Report Date\"},\"y\":{\"field\":\"value\"}},\"id\":\"81766\",\"type\":\"Line\"},{\"attributes\":{\"line_color\":\"#fc4f30\",\"line_width\":2,\"x\":{\"field\":\"Report Date\"},\"y\":{\"field\":\"value\"}},\"id\":\"83189\",\"type\":\"Line\"},{\"attributes\":{},\"id\":\"79657\",\"type\":\"CategoricalTickFormatter\"},{\"attributes\":{\"callback\":null,\"renderers\":[{\"id\":\"81986\"},{\"id\":\"82007\"},{\"id\":\"82029\"}],\"tags\":[\"hv_created\"],\"tooltips\":[[\"Variable\",\"@{Variable}\"],[\"Report Date\",\"@{Report_Date}\"],[\"value\",\"@{value}\"]]},\"id\":\"81942\",\"type\":\"HoverTool\"},{\"attributes\":{\"bottom\":{\"value\":0},\"fill_alpha\":{\"value\":1.0},\"fill_color\":{\"value\":\"Orange\"},\"hatch_alpha\":{\"value\":1.0},\"hatch_color\":{\"value\":\"black\"},\"hatch_scale\":{\"value\":12.0},\"hatch_weight\":{\"value\":1.0},\"line_alpha\":{\"value\":1.0},\"line_cap\":{\"value\":\"butt\"},\"line_color\":{\"value\":\"black\"},\"line_dash\":{\"value\":[]},\"line_dash_offset\":{\"value\":0},\"line_join\":{\"value\":\"bevel\"},\"line_width\":{\"value\":1},\"top\":{\"field\":\"TOTAL\"},\"width\":{\"value\":0.8},\"x\":{\"field\":\"Year\"}},\"id\":\"78499\",\"type\":\"VBar\"},{\"attributes\":{\"line_alpha\":0.1,\"line_color\":\"#e5ae38\",\"line_width\":2,\"x\":{\"field\":\"Report Date\"},\"y\":{\"field\":\"value\"}},\"id\":\"83194\",\"type\":\"Line\"},{\"attributes\":{\"line_alpha\":0.1,\"line_color\":\"#fc4f30\",\"line_width\":2,\"x\":{\"field\":\"Report Date\"},\"y\":{\"field\":\"value\"}},\"id\":\"81771\",\"type\":\"Line\"},{\"attributes\":{\"line_alpha\":0.2,\"line_color\":\"#30a2da\",\"line_width\":2,\"x\":{\"field\":\"Report Date\"},\"y\":{\"field\":\"value\"}},\"id\":\"81985\",\"type\":\"Line\"},{\"attributes\":{\"children\":[{\"id\":\"80024\"}],\"margin\":[0,0,0,0],\"name\":\"Row88265\"},\"id\":\"79900\",\"type\":\"Row\"},{\"attributes\":{\"data_source\":{\"id\":\"83190\"},\"glyph\":{\"id\":\"83193\"},\"hover_glyph\":null,\"muted_glyph\":{\"id\":\"83195\"},\"nonselection_glyph\":{\"id\":\"83194\"},\"selection_glyph\":{\"id\":\"83213\"},\"view\":{\"id\":\"83197\"}},\"id\":\"83196\",\"type\":\"GlyphRenderer\"},{\"attributes\":{},\"id\":\"81950\",\"type\":\"CategoricalScale\"},{\"attributes\":{\"data_source\":{\"id\":\"81767\"},\"glyph\":{\"id\":\"81770\"},\"hover_glyph\":null,\"muted_glyph\":{\"id\":\"81772\"},\"nonselection_glyph\":{\"id\":\"81771\"},\"selection_glyph\":{\"id\":\"81788\"},\"view\":{\"id\":\"81774\"}},\"id\":\"81773\",\"type\":\"GlyphRenderer\"},{\"attributes\":{\"callback\":null,\"renderers\":[{\"id\":\"78497\"}],\"tags\":[\"hv_created\"],\"tooltips\":[[\"Year\",\"@{Year}\"],[\"TOTAL\",\"@{TOTAL}\"]]},\"id\":\"78461\",\"type\":\"HoverTool\"},{\"attributes\":{\"text\":\"Quarterly Operating Margin from 2011 to 2021\",\"text_color\":\"black\",\"text_font_size\":\"12pt\"},\"id\":\"81946\",\"type\":\"Title\"},{\"attributes\":{\"end\":11769904.2,\"reset_end\":11769904.2,\"reset_start\":0.0,\"tags\":[[[\"TOTAL\",\"TOTAL\",null]]]},\"id\":\"78460\",\"type\":\"Range1d\"},{\"attributes\":{},\"id\":\"83191\",\"type\":\"Selection\"},{\"attributes\":{},\"id\":\"78467\",\"type\":\"CategoricalScale\"},{\"attributes\":{\"format\":\"%.0f\"},\"id\":\"78500\",\"type\":\"PrintfTickFormatter\"},{\"attributes\":{},\"id\":\"83162\",\"type\":\"UnionRenderers\"},{\"attributes\":{},\"id\":\"81958\",\"type\":\"BasicTicker\"},{\"attributes\":{\"label\":{\"value\":\"UAL Stock Price\"},\"renderers\":[{\"id\":\"83196\"}]},\"id\":\"83212\",\"type\":\"LegendItem\"},{\"attributes\":{},\"id\":\"81768\",\"type\":\"Selection\"},{\"attributes\":{\"data\":{\"TOTAL\":[8675945,10136163,10699663,10825881,10521442,10671436,10202000,9542320,9499044,9456417,9267341,9152494,8954422,8896612,9025706,9021841,9256800,9463717,5509442,1385649],\"Year\":[\"2002\",\"2003\",\"2004\",\"2005\",\"2006\",\"2007\",\"2008\",\"2009\",\"2010\",\"2011\",\"2012\",\"2013\",\"2014\",\"2015\",\"2016\",\"2017\",\"2018\",\"2019\",\"2020\",\"2021\"]},\"selected\":{\"id\":\"78492\"},\"selection_policy\":{\"id\":\"78565\"}},\"id\":\"78491\",\"type\":\"ColumnDataSource\"},{\"attributes\":{\"line_color\":\"#e5ae38\",\"line_width\":2,\"x\":{\"field\":\"Report Date\"},\"y\":{\"field\":\"value\"}},\"id\":\"83193\",\"type\":\"Line\"},{\"attributes\":{\"label\":{\"value\":\"LUV Net Profit Margin\"},\"renderers\":[{\"id\":\"81773\"}]},\"id\":\"81787\",\"type\":\"LegendItem\"},{\"attributes\":{},\"id\":\"81955\",\"type\":\"CategoricalTicker\"},{\"attributes\":{\"axis\":{\"id\":\"78471\"},\"grid_line_color\":null,\"ticker\":null},\"id\":\"78473\",\"type\":\"Grid\"},{\"attributes\":{\"line_color\":\"#fc4f30\",\"line_width\":2,\"x\":{\"field\":\"Report Date\"},\"y\":{\"field\":\"value\"}},\"id\":\"81770\",\"type\":\"Line\"},{\"attributes\":{},\"id\":\"78522\",\"type\":\"CategoricalTicker\"},{\"attributes\":{\"axis_label\":\"Report Date\",\"formatter\":{\"id\":\"81975\"},\"major_label_orientation\":1.5707963267948966,\"major_label_policy\":{\"id\":\"81976\"},\"ticker\":{\"id\":\"81955\"}},\"id\":\"81954\",\"type\":\"CategoricalAxis\"},{\"attributes\":{\"source\":{\"id\":\"83190\"}},\"id\":\"83197\",\"type\":\"CDSView\"},{\"attributes\":{},\"id\":\"78469\",\"type\":\"LinearScale\"},{\"attributes\":{\"line_alpha\":0.2,\"line_color\":\"#e5ae38\",\"line_width\":2,\"x\":{\"field\":\"Report Date\"},\"y\":{\"field\":\"value\"}},\"id\":\"83195\",\"type\":\"Line\"},{\"attributes\":{\"axis\":{\"id\":\"78474\"},\"dimension\":1,\"grid_line_color\":null,\"ticker\":null},\"id\":\"78477\",\"type\":\"Grid\"},{\"attributes\":{\"source\":{\"id\":\"81767\"}},\"id\":\"81774\",\"type\":\"CDSView\"},{\"attributes\":{},\"id\":\"78479\",\"type\":\"PanTool\"},{\"attributes\":{\"line_alpha\":0.2,\"line_color\":\"#fc4f30\",\"line_width\":2,\"x\":{\"field\":\"Report Date\"},\"y\":{\"field\":\"value\"}},\"id\":\"81772\",\"type\":\"Line\"},{\"attributes\":{\"axis_label\":\"Year\",\"formatter\":{\"id\":\"78502\"},\"major_label_policy\":{\"id\":\"78503\"},\"ticker\":{\"id\":\"78472\"}},\"id\":\"78471\",\"type\":\"CategoricalAxis\"},{\"attributes\":{\"end\":1241448.5,\"reset_end\":1241448.5,\"reset_start\":0.0,\"tags\":[[[\"TOTAL\",\"TOTAL\",null]]]},\"id\":\"78510\",\"type\":\"Range1d\"},{\"attributes\":{},\"id\":\"83209\",\"type\":\"UnionRenderers\"},{\"attributes\":{\"axis\":{\"id\":\"81954\"},\"grid_line_color\":null,\"ticker\":null},\"id\":\"81956\",\"type\":\"Grid\"},{\"attributes\":{\"text\":\"Delta Airlines Flights - All Airports\",\"text_color\":\"black\",\"text_font_size\":\"12pt\"},\"id\":\"78513\",\"type\":\"Title\"},{\"attributes\":{\"axis_label\":\"\",\"formatter\":{\"id\":\"81978\"},\"major_label_policy\":{\"id\":\"81979\"},\"ticker\":{\"id\":\"81958\"}},\"id\":\"81957\",\"type\":\"LinearAxis\"},{\"attributes\":{\"axis_label\":\"Number of Flights\",\"formatter\":{\"id\":\"78500\"},\"major_label_policy\":{\"id\":\"78506\"},\"ticker\":{\"id\":\"78475\"}},\"id\":\"78474\",\"type\":\"LinearAxis\"},{\"attributes\":{\"callback\":null,\"renderers\":[{\"id\":\"78547\"}],\"tags\":[\"hv_created\"],\"tooltips\":[[\"Year\",\"@{Year}\"],[\"TOTAL\",\"@{TOTAL}\"]]},\"id\":\"78511\",\"type\":\"HoverTool\"},{\"attributes\":{},\"id\":\"78475\",\"type\":\"BasicTicker\"},{\"attributes\":{},\"id\":\"81963\",\"type\":\"WheelZoomTool\"},{\"attributes\":{},\"id\":\"81962\",\"type\":\"PanTool\"},{\"attributes\":{},\"id\":\"78480\",\"type\":\"WheelZoomTool\"},{\"attributes\":{},\"id\":\"78517\",\"type\":\"CategoricalScale\"},{\"attributes\":{\"axis\":{\"id\":\"81957\"},\"dimension\":1,\"grid_line_color\":null,\"ticker\":null},\"id\":\"81960\",\"type\":\"Grid\"},{\"attributes\":{\"below\":[{\"id\":\"78521\"}],\"center\":[{\"id\":\"78523\"},{\"id\":\"78527\"}],\"height\":500,\"left\":[{\"id\":\"78524\"}],\"margin\":null,\"min_border_bottom\":10,\"min_border_left\":10,\"min_border_right\":10,\"min_border_top\":10,\"renderers\":[{\"id\":\"78547\"}],\"sizing_mode\":\"fixed\",\"title\":{\"id\":\"78513\"},\"toolbar\":{\"id\":\"78534\"},\"toolbar_location\":null,\"width\":900,\"x_range\":{\"id\":\"78509\"},\"x_scale\":{\"id\":\"78517\"},\"y_range\":{\"id\":\"78510\"},\"y_scale\":{\"id\":\"78519\"}},\"id\":\"78512\",\"subtype\":\"Figure\",\"type\":\"Plot\"},{\"attributes\":{},\"id\":\"81961\",\"type\":\"SaveTool\"},{\"attributes\":{},\"id\":\"78478\",\"type\":\"SaveTool\"},{\"attributes\":{\"data\":{\"TOTAL\":[823261,700474,729358,699863,569183,548589,527275,502908,834179,838907,838382,872459,924796,1011764,1059757,1061526,1095330,1141949,609538,146954],\"Year\":[\"2002\",\"2003\",\"2004\",\"2005\",\"2006\",\"2007\",\"2008\",\"2009\",\"2010\",\"2011\",\"2012\",\"2013\",\"2014\",\"2015\",\"2016\",\"2017\",\"2018\",\"2019\",\"2020\",\"2021\"]},\"selected\":{\"id\":\"78542\"},\"selection_policy\":{\"id\":\"78575\"}},\"id\":\"78541\",\"type\":\"ColumnDataSource\"},{\"attributes\":{},\"id\":\"81784\",\"type\":\"UnionRenderers\"},{\"attributes\":{\"axis\":{\"id\":\"78521\"},\"grid_line_color\":null,\"ticker\":null},\"id\":\"78523\",\"type\":\"Grid\"},{\"attributes\":{},\"id\":\"78862\",\"type\":\"UnionRenderers\"},{\"attributes\":{\"overlay\":{\"id\":\"81966\"}},\"id\":\"81964\",\"type\":\"BoxZoomTool\"},{\"attributes\":{\"overlay\":{\"id\":\"78483\"}},\"id\":\"78481\",\"type\":\"BoxZoomTool\"},{\"attributes\":{},\"id\":\"81965\",\"type\":\"ResetTool\"},{\"attributes\":{},\"id\":\"78482\",\"type\":\"ResetTool\"},{\"attributes\":{},\"id\":\"78519\",\"type\":\"LinearScale\"},{\"attributes\":{\"active_multi\":null,\"tools\":[{\"id\":\"81942\"},{\"id\":\"81961\"},{\"id\":\"81962\"},{\"id\":\"81963\"},{\"id\":\"81964\"},{\"id\":\"81965\"}]},\"id\":\"81967\",\"type\":\"Toolbar\"},{\"attributes\":{\"active_multi\":null,\"tools\":[{\"id\":\"78461\"},{\"id\":\"78478\"},{\"id\":\"78479\"},{\"id\":\"78480\"},{\"id\":\"78481\"},{\"id\":\"78482\"}]},\"id\":\"78484\",\"type\":\"Toolbar\"},{\"attributes\":{\"axis\":{\"id\":\"78524\"},\"dimension\":1,\"grid_line_color\":null,\"ticker\":null},\"id\":\"78527\",\"type\":\"Grid\"},{\"attributes\":{\"source\":{\"id\":\"81980\"}},\"id\":\"81987\",\"type\":\"CDSView\"},{\"attributes\":{},\"id\":\"78529\",\"type\":\"PanTool\"},{\"attributes\":{\"line_alpha\":0.1,\"line_color\":\"#30a2da\",\"line_width\":2,\"x\":{\"field\":\"Report Date\"},\"y\":{\"field\":\"value\"}},\"id\":\"81984\",\"type\":\"Line\"},{\"attributes\":{\"label\":{\"value\":\"DAL Stock Price\"},\"renderers\":[{\"id\":\"83153\"}]},\"id\":\"83166\",\"type\":\"LegendItem\"},{\"attributes\":{\"axis_label\":\"Year\",\"formatter\":{\"id\":\"78552\"},\"major_label_policy\":{\"id\":\"78553\"},\"ticker\":{\"id\":\"78522\"}},\"id\":\"78521\",\"type\":\"CategoricalAxis\"},{\"attributes\":{},\"id\":\"81981\",\"type\":\"Selection\"},{\"attributes\":{\"axis_label\":\"Number of Flights\",\"formatter\":{\"id\":\"78550\"},\"major_label_policy\":{\"id\":\"78556\"},\"ticker\":{\"id\":\"78525\"}},\"id\":\"78524\",\"type\":\"LinearAxis\"},{\"attributes\":{},\"id\":\"83169\",\"type\":\"Selection\"},{\"attributes\":{\"children\":[{\"id\":\"82879\"},{\"id\":\"83112\"}],\"margin\":[0,0,0,0],\"name\":\"Row88180\"},\"id\":\"82873\",\"type\":\"Row\"},{\"attributes\":{},\"id\":\"78525\",\"type\":\"BasicTicker\"},{\"attributes\":{\"data\":{\"Report Date\":[\"2011-06-30\",\"2011-09-30\",\"2011-12-31\",\"2012-03-31\",\"2012-06-30\",\"2012-09-30\",\"2012-12-31\",\"2013-03-31\",\"2013-06-30\",\"2013-09-30\",\"2013-12-31\",\"2014-03-31\",\"2014-06-30\",\"2014-09-30\",\"2014-12-31\",\"2015-03-31\",\"2015-06-30\",\"2015-09-30\",\"2015-12-31\",\"2016-03-31\",\"2016-06-30\",\"2016-09-30\",\"2016-12-31\",\"2017-03-31\",\"2017-06-30\",\"2017-09-30\",\"2017-12-31\",\"2018-03-31\",\"2018-06-30\",\"2018-09-30\",\"2018-12-31\",\"2019-03-31\",\"2019-06-30\",\"2019-09-30\",\"2019-12-31\",\"2020-03-31\",\"2020-06-29\",\"2020-12-30\",\"2021-03-30\"],\"Report_Date\":[\"2011-06-30\",\"2011-09-30\",\"2011-12-31\",\"2012-03-31\",\"2012-06-30\",\"2012-09-30\",\"2012-12-31\",\"2013-03-31\",\"2013-06-30\",\"2013-09-30\",\"2013-12-31\",\"2014-03-31\",\"2014-06-30\",\"2014-09-30\",\"2014-12-31\",\"2015-03-31\",\"2015-06-30\",\"2015-09-30\",\"2015-12-31\",\"2016-03-31\",\"2016-06-30\",\"2016-09-30\",\"2016-12-31\",\"2017-03-31\",\"2017-06-30\",\"2017-09-30\",\"2017-12-31\",\"2018-03-31\",\"2018-06-30\",\"2018-09-30\",\"2018-12-31\",\"2019-03-31\",\"2019-06-30\",\"2019-09-30\",\"2019-12-31\",\"2020-03-31\",\"2020-06-29\",\"2020-12-30\",\"2021-03-30\"],\"Variable\":[\"LUv Price\",\"LUv Price\",\"LUv Price\",\"LUv Price\",\"LUv Price\",\"LUv Price\",\"LUv Price\",\"LUv Price\",\"LUv Price\",\"LUv Price\",\"LUv Price\",\"LUv Price\",\"LUv Price\",\"LUv Price\",\"LUv Price\",\"LUv Price\",\"LUv Price\",\"LUv Price\",\"LUv Price\",\"LUv Price\",\"LUv Price\",\"LUv Price\",\"LUv Price\",\"LUv Price\",\"LUv Price\",\"LUv Price\",\"LUv Price\",\"LUv Price\",\"LUv Price\",\"LUv Price\",\"LUv Price\",\"LUv Price\",\"LUv Price\",\"LUv Price\",\"LUv Price\",\"LUv Price\",\"LUv Price\",\"LUv Price\",\"LUv Price\"],\"value\":{\"__ndarray__\":\"cT0K16PwIEDsUbgehesgQBSuR+F6lCNA9ihcj8L1H0DNzMzMzMwhQHsUrkfheiFAuB6F61E4J0AAAAAAAIArQClcj8L1qCtApHA9CtcjMUCkcD0K16M0QFK4HoXrUThAmpmZmZnZPEBSuB6F6xFBQAAAAAAAwEVAKVyPwvVIREBcj8L1KBxCQEjhehSu50ZACtejcD1qQkDNzMzMzExGQJqZmZmZuUJAhetRuB4FRECkcD0K14NKQIXrUbgeFU1AexSuR+HaS0AfhetRuP5KQBSuR+F69ExAXI/C9Sh8SkCkcD0K10NMQFK4HoXrkUhACtejcD36TEBcj8L1KBxLQEjhehSuR0pA9ihcj8IVTUC4HoXrUdhLQLgehetRuD1AZmZmZmZmQEAfhetRuB5GQIXrUbgeBU9A\",\"dtype\":\"float64\",\"order\":\"little\",\"shape\":[39]}},\"selected\":{\"id\":\"83169\"},\"selection_policy\":{\"id\":\"83185\"}},\"id\":\"83168\",\"type\":\"ColumnDataSource\"},{\"attributes\":{},\"id\":\"78530\",\"type\":\"WheelZoomTool\"},{\"attributes\":{},\"id\":\"78503\",\"type\":\"AllLabels\"},{\"attributes\":{},\"id\":\"78532\",\"type\":\"ResetTool\"},{\"attributes\":{\"line_color\":\"#e5ae38\",\"line_width\":2,\"x\":{\"field\":\"Report Date\"},\"y\":{\"field\":\"value\"}},\"id\":\"82026\",\"type\":\"Line\"},{\"attributes\":{},\"id\":\"78528\",\"type\":\"SaveTool\"},{\"attributes\":{\"data_source\":{\"id\":\"81980\"},\"glyph\":{\"id\":\"81983\"},\"hover_glyph\":null,\"muted_glyph\":{\"id\":\"81985\"},\"nonselection_glyph\":{\"id\":\"81984\"},\"selection_glyph\":{\"id\":\"82000\"},\"view\":{\"id\":\"81987\"}},\"id\":\"81986\",\"type\":\"GlyphRenderer\"},{\"attributes\":{\"overlay\":{\"id\":\"78533\"}},\"id\":\"78531\",\"type\":\"BoxZoomTool\"},{\"attributes\":{\"line_color\":\"#30a2da\",\"line_width\":2,\"x\":{\"field\":\"Report Date\"},\"y\":{\"field\":\"value\"}},\"id\":\"81983\",\"type\":\"Line\"},{\"attributes\":{},\"id\":\"78502\",\"type\":\"CategoricalTickFormatter\"},{\"attributes\":{\"click_policy\":\"mute\",\"items\":[{\"id\":\"81065\"},{\"id\":\"81087\"},{\"id\":\"81111\"}],\"location\":[0,0],\"title\":\"Variable\"},\"id\":\"81064\",\"type\":\"Legend\"},{\"attributes\":{},\"id\":\"81495\",\"type\":\"PanTool\"},{\"attributes\":{},\"id\":\"81042\",\"type\":\"AllLabels\"},{\"attributes\":{},\"id\":\"81496\",\"type\":\"WheelZoomTool\"},{\"attributes\":{},\"id\":\"79421\",\"type\":\"AllLabels\"},{\"attributes\":{\"children\":[{\"id\":\"79160\"}],\"margin\":[0,0,0,0],\"name\":\"Row88236\"},\"id\":\"79036\",\"type\":\"Row\"},{\"attributes\":{\"overlay\":{\"id\":\"81499\"}},\"id\":\"81497\",\"type\":\"BoxZoomTool\"},{\"attributes\":{},\"id\":\"81498\",\"type\":\"ResetTool\"},{\"attributes\":{\"below\":[{\"id\":\"79099\"}],\"center\":[{\"id\":\"79101\"},{\"id\":\"79105\"}],\"height\":500,\"left\":[{\"id\":\"79102\"}],\"margin\":null,\"min_border_bottom\":10,\"min_border_left\":10,\"min_border_right\":10,\"min_border_top\":10,\"renderers\":[{\"id\":\"79125\"}],\"sizing_mode\":\"fixed\",\"title\":{\"id\":\"79091\"},\"toolbar\":{\"id\":\"79112\"},\"toolbar_location\":null,\"width\":900,\"x_range\":{\"id\":\"79087\"},\"x_scale\":{\"id\":\"79095\"},\"y_range\":{\"id\":\"79088\"},\"y_scale\":{\"id\":\"79097\"}},\"id\":\"79090\",\"subtype\":\"Figure\",\"type\":\"Plot\"},{\"attributes\":{\"data_source\":{\"id\":\"81513\"},\"glyph\":{\"id\":\"81516\"},\"hover_glyph\":null,\"muted_glyph\":{\"id\":\"81518\"},\"nonselection_glyph\":{\"id\":\"81517\"},\"selection_glyph\":{\"id\":\"81533\"},\"view\":{\"id\":\"81520\"}},\"id\":\"81519\",\"type\":\"GlyphRenderer\"},{\"attributes\":{\"children\":[{\"id\":\"79447\"}],\"margin\":[0,0,0,0],\"name\":\"Row88244\"},\"id\":\"79323\",\"type\":\"Row\"},{\"attributes\":{\"toolbar\":{\"id\":\"79445\"},\"toolbar_location\":\"above\"},\"id\":\"79446\",\"type\":\"ToolbarBox\"},{\"attributes\":{\"source\":{\"id\":\"81513\"}},\"id\":\"81520\",\"type\":\"CDSView\"},{\"attributes\":{\"data\":{\"TOTAL\":[94651789,88593664,97432315,102688386,98012127,102721924,104824682,100077889,164152874,164189287,165118702,168720300,177467708,185840944,189706790,195589820,204285183,217001391,66088373,12663127],\"Year\":[\"2002\",\"2003\",\"2004\",\"2005\",\"2006\",\"2007\",\"2008\",\"2009\",\"2010\",\"2011\",\"2012\",\"2013\",\"2014\",\"2015\",\"2016\",\"2017\",\"2018\",\"2019\",\"2020\",\"2021\"]},\"selected\":{\"id\":\"79120\"},\"selection_policy\":{\"id\":\"79153\"}},\"id\":\"79119\",\"type\":\"ColumnDataSource\"},{\"attributes\":{\"line_alpha\":0.2,\"line_color\":\"#30a2da\",\"line_width\":2,\"x\":{\"field\":\"Report Date\"},\"y\":{\"field\":\"value\"}},\"id\":\"81518\",\"type\":\"Line\"},{\"attributes\":{},\"id\":\"81041\",\"type\":\"CategoricalTickFormatter\"},{\"attributes\":{\"click_policy\":\"mute\",\"items\":[{\"id\":\"81532\"},{\"id\":\"81554\"},{\"id\":\"81578\"}],\"location\":[0,0],\"title\":\"Variable\"},\"id\":\"81531\",\"type\":\"Legend\"},{\"attributes\":{\"fill_alpha\":{\"value\":0.2},\"fill_color\":{\"value\":\"Red\"},\"line_alpha\":{\"value\":0.2},\"top\":{\"field\":\"TOTAL\"},\"width\":{\"value\":0.8},\"x\":{\"field\":\"Year\"}},\"id\":\"79411\",\"type\":\"VBar\"},{\"attributes\":{},\"id\":\"82652\",\"type\":\"LinearScale\"},{\"attributes\":{},\"id\":\"79407\",\"type\":\"Selection\"},{\"attributes\":{\"end\":2307.109765957447,\"reset_end\":2307.109765957447,\"reset_start\":-387.36742553191493,\"start\":-387.36742553191493,\"tags\":[[[\"value\",\"value\",null]]]},\"id\":\"82641\",\"type\":\"Range1d\"},{\"attributes\":{\"label\":{\"value\":\"DAL Gross Profit Margin\"},\"renderers\":[{\"id\":\"81519\"}]},\"id\":\"81532\",\"type\":\"LegendItem\"},{\"attributes\":{},\"id\":\"78575\",\"type\":\"UnionRenderers\"},{\"attributes\":{\"callback\":null,\"renderers\":[{\"id\":\"82686\"},{\"id\":\"82707\"},{\"id\":\"82729\"}],\"tags\":[\"hv_created\"],\"tooltips\":[[\"Variable\",\"@{Variable}\"],[\"Report Date\",\"@{Report_Date}\"],[\"value\",\"@{value}\"]]},\"id\":\"82642\",\"type\":\"HoverTool\"},{\"attributes\":{\"data\":{\"Report Date\":[\"2011-06-30\",\"2011-09-30\",\"2011-12-31\",\"2012-03-31\",\"2012-06-30\",\"2012-09-30\",\"2012-12-31\",\"2013-03-31\",\"2013-06-30\",\"2013-09-30\",\"2013-12-31\",\"2014-03-31\",\"2014-06-30\",\"2014-09-30\",\"2014-12-31\",\"2015-03-31\",\"2015-06-30\",\"2015-09-30\",\"2015-12-31\",\"2016-03-31\",\"2016-06-30\",\"2016-09-30\",\"2016-12-31\",\"2017-03-31\",\"2017-06-30\",\"2017-09-30\",\"2017-12-31\",\"2018-03-31\",\"2018-06-30\",\"2018-09-30\",\"2018-12-31\",\"2019-03-31\",\"2019-06-30\",\"2019-09-30\",\"2019-12-31\",\"2020-03-31\",\"2020-06-29\",\"2020-12-30\",\"2021-03-30\"],\"Report_Date\":[\"2011-06-30\",\"2011-09-30\",\"2011-12-31\",\"2012-03-31\",\"2012-06-30\",\"2012-09-30\",\"2012-12-31\",\"2013-03-31\",\"2013-06-30\",\"2013-09-30\",\"2013-12-31\",\"2014-03-31\",\"2014-06-30\",\"2014-09-30\",\"2014-12-31\",\"2015-03-31\",\"2015-06-30\",\"2015-09-30\",\"2015-12-31\",\"2016-03-31\",\"2016-06-30\",\"2016-09-30\",\"2016-12-31\",\"2017-03-31\",\"2017-06-30\",\"2017-09-30\",\"2017-12-31\",\"2018-03-31\",\"2018-06-30\",\"2018-09-30\",\"2018-12-31\",\"2019-03-31\",\"2019-06-30\",\"2019-09-30\",\"2019-12-31\",\"2020-03-31\",\"2020-06-29\",\"2020-12-30\",\"2021-03-30\"],\"Variable\":[\"LUV Net Profit Margin\",\"LUV Net Profit Margin\",\"LUV Net Profit Margin\",\"LUV Net Profit Margin\",\"LUV Net Profit Margin\",\"LUV Net Profit Margin\",\"LUV Net Profit Margin\",\"LUV Net Profit Margin\",\"LUV Net Profit Margin\",\"LUV Net Profit Margin\",\"LUV Net Profit Margin\",\"LUV Net Profit Margin\",\"LUV Net Profit Margin\",\"LUV Net Profit Margin\",\"LUV Net Profit Margin\",\"LUV Net Profit Margin\",\"LUV Net Profit Margin\",\"LUV Net Profit Margin\",\"LUV Net Profit Margin\",\"LUV Net Profit Margin\",\"LUV Net Profit Margin\",\"LUV Net Profit Margin\",\"LUV Net Profit Margin\",\"LUV Net Profit Margin\",\"LUV Net Profit Margin\",\"LUV Net Profit Margin\",\"LUV Net Profit Margin\",\"LUV Net Profit Margin\",\"LUV Net Profit Margin\",\"LUV Net Profit Margin\",\"LUV Net Profit Margin\",\"LUV Net Profit Margin\",\"LUV Net Profit Margin\",\"LUV Net Profit Margin\",\"LUV Net Profit Margin\",\"LUV Net Profit Margin\",\"LUV Net Profit Margin\",\"LUV Net Profit Margin\",\"LUV Net Profit Margin\"],\"value\":{\"__ndarray__\":\"q4eWkCzuoz+padRRkqCgv3f+AajK8aI/kE/x4gIlmT/REFr1F0qpP76xEMsOa24/5ejpfeVjkz9RXHukMJaNP2OOg3qGs6g/3v1kvzotrT+EaT1OxYSoP+dxq49FrqI/3OE5AXjBtz+HJb9Y8ouxP529O8oWBaU/rSpwJ9RFuj/hUJelGnS+P8md0w7iHLw/6Kjs9+yRuz/OZrPZbDa7P9BUgSyrfsM/b0CGwwlUsz/XHTy+bWC6P3EQ7Cb94LE/LzahrTuYwD8LKhIG9W24P0+/1FUu6tY/xLNrRl/5tz/WA1MLB1fAP4B7kiaIPbw/OFLD4B5avT/qupBVsz2zP0O0g6ArDcA/U8WTL9jqvT+w6r7aVeq2Px+7ZDPru5a/wzAMwzAM7b8DYPGOTN7cvw/PYTyH8aw/\",\"dtype\":\"float64\",\"order\":\"little\",\"shape\":[39]}},\"selected\":{\"id\":\"81768\"},\"selection_policy\":{\"id\":\"81784\"}},\"id\":\"81767\",\"type\":\"ColumnDataSource\"},{\"attributes\":{\"fill_color\":{\"value\":\"Red\"},\"top\":{\"field\":\"TOTAL\"},\"width\":{\"value\":0.8},\"x\":{\"field\":\"Year\"}},\"id\":\"79409\",\"type\":\"VBar\"},{\"attributes\":{},\"id\":\"81514\",\"type\":\"Selection\"},{\"attributes\":{\"fill_alpha\":{\"value\":0.1},\"fill_color\":{\"value\":\"Red\"},\"line_alpha\":{\"value\":0.1},\"top\":{\"field\":\"TOTAL\"},\"width\":{\"value\":0.8},\"x\":{\"field\":\"Year\"}},\"id\":\"78832\",\"type\":\"VBar\"},{\"attributes\":{},\"id\":\"79417\",\"type\":\"CategoricalTickFormatter\"},{\"attributes\":{\"below\":[{\"id\":\"82654\"}],\"center\":[{\"id\":\"82656\"},{\"id\":\"82660\"}],\"left\":[{\"id\":\"82657\"}],\"margin\":[5,5,5,5],\"min_border_bottom\":10,\"min_border_left\":10,\"min_border_right\":10,\"min_border_top\":10,\"renderers\":[{\"id\":\"82686\"},{\"id\":\"82707\"},{\"id\":\"82729\"}],\"right\":[{\"id\":\"82698\"}],\"sizing_mode\":\"fixed\",\"title\":{\"id\":\"82646\"},\"toolbar\":{\"id\":\"82667\"},\"width\":900,\"x_range\":{\"id\":\"82640\"},\"x_scale\":{\"id\":\"82650\"},\"y_range\":{\"id\":\"82641\"},\"y_scale\":{\"id\":\"82652\"}},\"id\":\"82645\",\"subtype\":\"Figure\",\"type\":\"Plot\"},{\"attributes\":{},\"id\":\"81509\",\"type\":\"AllLabels\"},{\"attributes\":{},\"id\":\"78839\",\"type\":\"CategoricalTickFormatter\"},{\"attributes\":{\"fill_color\":{\"value\":\"Red\"},\"top\":{\"field\":\"TOTAL\"},\"width\":{\"value\":0.8},\"x\":{\"field\":\"Year\"}},\"id\":\"78831\",\"type\":\"VBar\"},{\"attributes\":{\"bottom_units\":\"screen\",\"fill_alpha\":0.5,\"fill_color\":\"lightgrey\",\"left_units\":\"screen\",\"level\":\"overlay\",\"line_alpha\":1.0,\"line_color\":\"black\",\"line_dash\":[4,4],\"line_width\":2,\"right_units\":\"screen\",\"syncable\":false,\"top_units\":\"screen\"},\"id\":\"79398\",\"type\":\"BoxAnnotation\"},{\"attributes\":{\"line_color\":\"#30a2da\",\"line_width\":2,\"x\":{\"field\":\"Report Date\"},\"y\":{\"field\":\"value\"}},\"id\":\"82467\",\"type\":\"Line\"},{\"attributes\":{\"data\":{\"Report Date\":[\"2011-06-30\",\"2011-09-30\",\"2011-12-31\",\"2012-03-31\",\"2012-06-30\",\"2012-09-30\",\"2012-12-31\",\"2013-03-31\",\"2013-06-30\",\"2013-09-30\",\"2013-12-31\",\"2014-03-31\",\"2014-06-30\",\"2014-09-30\",\"2014-12-31\",\"2015-03-31\",\"2015-06-30\",\"2015-09-30\",\"2015-12-31\",\"2016-03-31\",\"2016-06-30\",\"2016-09-30\",\"2016-12-31\",\"2017-03-31\",\"2017-06-30\",\"2017-09-30\",\"2017-12-31\",\"2018-03-31\",\"2018-06-30\",\"2018-09-30\",\"2018-12-31\",\"2019-03-31\",\"2019-06-30\",\"2019-09-30\",\"2019-12-31\",\"2020-03-31\",\"2020-06-29\",\"2020-12-30\",\"2021-03-30\"],\"Report_Date\":[\"2011-06-30\",\"2011-09-30\",\"2011-12-31\",\"2012-03-31\",\"2012-06-30\",\"2012-09-30\",\"2012-12-31\",\"2013-03-31\",\"2013-06-30\",\"2013-09-30\",\"2013-12-31\",\"2014-03-31\",\"2014-06-30\",\"2014-09-30\",\"2014-12-31\",\"2015-03-31\",\"2015-06-30\",\"2015-09-30\",\"2015-12-31\",\"2016-03-31\",\"2016-06-30\",\"2016-09-30\",\"2016-12-31\",\"2017-03-31\",\"2017-06-30\",\"2017-09-30\",\"2017-12-31\",\"2018-03-31\",\"2018-06-30\",\"2018-09-30\",\"2018-12-31\",\"2019-03-31\",\"2019-06-30\",\"2019-09-30\",\"2019-12-31\",\"2020-03-31\",\"2020-06-29\",\"2020-12-30\",\"2021-03-30\"],\"Variable\":[\"DAL PE Ratio\",\"DAL PE Ratio\",\"DAL PE Ratio\",\"DAL PE Ratio\",\"DAL PE Ratio\",\"DAL PE Ratio\",\"DAL PE Ratio\",\"DAL PE Ratio\",\"DAL PE Ratio\",\"DAL PE Ratio\",\"DAL PE Ratio\",\"DAL PE Ratio\",\"DAL PE Ratio\",\"DAL PE Ratio\",\"DAL PE Ratio\",\"DAL PE Ratio\",\"DAL PE Ratio\",\"DAL PE Ratio\",\"DAL PE Ratio\",\"DAL PE Ratio\",\"DAL PE Ratio\",\"DAL PE Ratio\",\"DAL PE Ratio\",\"DAL PE Ratio\",\"DAL PE Ratio\",\"DAL PE Ratio\",\"DAL PE Ratio\",\"DAL PE Ratio\",\"DAL PE Ratio\",\"DAL PE Ratio\",\"DAL PE Ratio\",\"DAL PE Ratio\",\"DAL PE Ratio\",\"DAL PE Ratio\",\"DAL PE Ratio\",\"DAL PE Ratio\",\"DAL PE Ratio\",\"DAL PE Ratio\",\"DAL PE Ratio\"],\"value\":{\"__ndarray__\":\"4J4A7gkgQEBFsWDArtMpQGy7HS6GfzVA8Ab9btDPUUC2vDGCiSpGwMQDzlWS/xxAcT0K1yNFoEDKJ2jU/gOdQN9I0RB/XDtAO2dHlhXaL0B0jVsgMZYLQNBfEyGQMmJAopbBoSvDQkDM4UAySAdXQNrUpja1DUrAB6ze9ZTmRkCMS6SWIsg3QEuKI4TlGj1AoGwdQMrNP0DzeS+f9/JCQLVF2p/hmDNAp7cEVEKHN0DKZvKC6fRNQPkV5hE2MEtAM81mAJozQEDeHUIhmyFAQPTQtnGUcVBADG19fJINUUAgTpR73jJBQNuUrE3J6jpAuxGb672AQECXyCrvd1lKQIQp8lk3GDtArbDCCP/yNkCySywa/UxBQAwKXmT94zrAYGYd1uxNB8C1yWVLQhNBwA6ZkyKGHDrA\",\"dtype\":\"float64\",\"order\":\"little\",\"shape\":[39]}},\"selected\":{\"id\":\"82681\"},\"selection_policy\":{\"id\":\"82695\"}},\"id\":\"82680\",\"type\":\"ColumnDataSource\"},{\"attributes\":{\"fill_alpha\":{\"value\":0.1},\"fill_color\":{\"value\":\"Red\"},\"line_alpha\":{\"value\":0.1},\"top\":{\"field\":\"TOTAL\"},\"width\":{\"value\":0.8},\"x\":{\"field\":\"Year\"}},\"id\":\"79410\",\"type\":\"VBar\"},{\"attributes\":{\"factors\":[\"2011-06-30\",\"2011-09-30\",\"2011-12-31\",\"2012-03-31\",\"2012-06-30\",\"2012-09-30\",\"2012-12-31\",\"2013-03-31\",\"2013-06-30\",\"2013-09-30\",\"2013-12-31\",\"2014-03-31\",\"2014-06-30\",\"2014-09-30\",\"2014-12-31\",\"2015-03-31\",\"2015-06-30\",\"2015-09-30\",\"2015-12-31\",\"2016-03-31\",\"2016-06-30\",\"2016-09-30\",\"2016-12-31\",\"2017-03-31\",\"2017-06-30\",\"2017-09-30\",\"2017-12-31\",\"2018-03-31\",\"2018-06-30\",\"2018-09-30\",\"2018-12-31\",\"2019-03-31\",\"2019-06-30\",\"2019-09-30\",\"2019-12-31\",\"2020-03-31\",\"2020-06-29\",\"2020-12-30\",\"2021-03-30\"],\"tags\":[[[\"Report Date\",\"Report Date\",null]]]},\"id\":\"82640\",\"type\":\"FactorRange\"},{\"attributes\":{},\"id\":\"78829\",\"type\":\"Selection\"},{\"attributes\":{\"fill_alpha\":{\"value\":0.2},\"fill_color\":{\"value\":\"Red\"},\"line_alpha\":{\"value\":0.2},\"top\":{\"field\":\"TOTAL\"},\"width\":{\"value\":0.8},\"x\":{\"field\":\"Year\"}},\"id\":\"78833\",\"type\":\"VBar\"},{\"attributes\":{},\"id\":\"82650\",\"type\":\"CategoricalScale\"},{\"attributes\":{\"line_alpha\":0.1,\"line_color\":\"#fc4f30\",\"line_width\":2,\"x\":{\"field\":\"Report Date\"},\"y\":{\"field\":\"value\"}},\"id\":\"82472\",\"type\":\"Line\"},{\"attributes\":{\"data_source\":{\"id\":\"82468\"},\"glyph\":{\"id\":\"82471\"},\"hover_glyph\":null,\"muted_glyph\":{\"id\":\"82473\"},\"nonselection_glyph\":{\"id\":\"82472\"},\"selection_glyph\":{\"id\":\"82489\"},\"view\":{\"id\":\"82475\"}},\"id\":\"82474\",\"type\":\"GlyphRenderer\"},{\"attributes\":{\"text\":\"Quarterly PE Ratio from 2011 to 2021\",\"text_color\":\"black\",\"text_font_size\":\"12pt\"},\"id\":\"82646\",\"type\":\"Title\"},{\"attributes\":{\"source\":{\"id\":\"78828\"}},\"id\":\"78835\",\"type\":\"CDSView\"},{\"attributes\":{\"bottom_units\":\"screen\",\"fill_alpha\":0.5,\"fill_color\":\"lightgrey\",\"left_units\":\"screen\",\"level\":\"overlay\",\"line_alpha\":1.0,\"line_color\":\"black\",\"line_dash\":[4,4],\"line_width\":2,\"right_units\":\"screen\",\"syncable\":false,\"top_units\":\"screen\"},\"id\":\"81499\",\"type\":\"BoxAnnotation\"},{\"attributes\":{},\"id\":\"81508\",\"type\":\"CategoricalTickFormatter\"},{\"attributes\":{},\"id\":\"82658\",\"type\":\"BasicTicker\"},{\"attributes\":{\"data_source\":{\"id\":\"78828\"},\"glyph\":{\"id\":\"78831\"},\"hover_glyph\":null,\"muted_glyph\":{\"id\":\"78833\"},\"nonselection_glyph\":{\"id\":\"78832\"},\"selection_glyph\":{\"id\":\"78836\"},\"view\":{\"id\":\"78835\"}},\"id\":\"78834\",\"type\":\"GlyphRenderer\"},{\"attributes\":{},\"id\":\"81044\",\"type\":\"BasicTickFormatter\"},{\"attributes\":{},\"id\":\"82655\",\"type\":\"CategoricalTicker\"},{\"attributes\":{\"source\":{\"id\":\"81046\"}},\"id\":\"81053\",\"type\":\"CDSView\"},{\"attributes\":{},\"id\":\"82469\",\"type\":\"Selection\"},{\"attributes\":{\"active_multi\":null,\"tools\":[{\"id\":\"81475\"},{\"id\":\"81494\"},{\"id\":\"81495\"},{\"id\":\"81496\"},{\"id\":\"81497\"},{\"id\":\"81498\"}]},\"id\":\"81500\",\"type\":\"Toolbar\"},{\"attributes\":{\"axis_label\":\"Report Date\",\"formatter\":{\"id\":\"82675\"},\"major_label_orientation\":1.5707963267948966,\"major_label_policy\":{\"id\":\"82676\"},\"ticker\":{\"id\":\"82655\"}},\"id\":\"82654\",\"type\":\"CategoricalAxis\"},{\"attributes\":{\"bottom\":{\"value\":0},\"fill_alpha\":{\"value\":1.0},\"fill_color\":{\"value\":\"Red\"},\"hatch_alpha\":{\"value\":1.0},\"hatch_color\":{\"value\":\"black\"},\"hatch_scale\":{\"value\":12.0},\"hatch_weight\":{\"value\":1.0},\"line_alpha\":{\"value\":1.0},\"line_cap\":{\"value\":\"butt\"},\"line_color\":{\"value\":\"black\"},\"line_dash\":{\"value\":[]},\"line_dash_offset\":{\"value\":0},\"line_join\":{\"value\":\"bevel\"},\"line_width\":{\"value\":1},\"top\":{\"field\":\"TOTAL\"},\"width\":{\"value\":0.8},\"x\":{\"field\":\"Year\"}},\"id\":\"78836\",\"type\":\"VBar\"},{\"attributes\":{\"label\":{\"value\":\"LUV Stock Price\"},\"renderers\":[{\"id\":\"82474\"}]},\"id\":\"82488\",\"type\":\"LegendItem\"},{\"attributes\":{\"line_color\":\"#fc4f30\",\"line_width\":2,\"x\":{\"field\":\"Report Date\"},\"y\":{\"field\":\"value\"}},\"id\":\"82471\",\"type\":\"Line\"},{\"attributes\":{\"label\":{\"value\":\"DAL Revenue\"},\"renderers\":[{\"id\":\"81052\"}]},\"id\":\"81065\",\"type\":\"LegendItem\"},{\"attributes\":{\"axis\":{\"id\":\"82654\"},\"grid_line_color\":null,\"ticker\":null},\"id\":\"82656\",\"type\":\"Grid\"},{\"attributes\":{\"axis_label\":\"\",\"formatter\":{\"id\":\"82678\"},\"major_label_policy\":{\"id\":\"82679\"},\"ticker\":{\"id\":\"82658\"}},\"id\":\"82657\",\"type\":\"LinearAxis\"},{\"attributes\":{\"source\":{\"id\":\"82468\"}},\"id\":\"82475\",\"type\":\"CDSView\"},{\"attributes\":{\"line_alpha\":0.2,\"line_color\":\"#fc4f30\",\"line_width\":2,\"x\":{\"field\":\"Report Date\"},\"y\":{\"field\":\"value\"}},\"id\":\"82473\",\"type\":\"Line\"},{\"attributes\":{},\"id\":\"82663\",\"type\":\"WheelZoomTool\"},{\"attributes\":{},\"id\":\"82662\",\"type\":\"PanTool\"},{\"attributes\":{\"axis\":{\"id\":\"82657\"},\"dimension\":1,\"grid_line_color\":null,\"ticker\":null},\"id\":\"82660\",\"type\":\"Grid\"},{\"attributes\":{},\"id\":\"82661\",\"type\":\"SaveTool\"},{\"attributes\":{},\"id\":\"78840\",\"type\":\"AllLabels\"},{\"attributes\":{\"format\":\"%.0f\"},\"id\":\"78837\",\"type\":\"PrintfTickFormatter\"},{\"attributes\":{\"overlay\":{\"id\":\"82666\"}},\"id\":\"82664\",\"type\":\"BoxZoomTool\"},{\"attributes\":{},\"id\":\"82665\",\"type\":\"ResetTool\"},{\"attributes\":{},\"id\":\"82485\",\"type\":\"UnionRenderers\"},{\"attributes\":{\"source\":{\"id\":\"79406\"}},\"id\":\"79413\",\"type\":\"CDSView\"},{\"attributes\":{\"children\":[{\"id\":\"78581\"},{\"id\":\"78579\"}]},\"id\":\"78582\",\"type\":\"Column\"},{\"attributes\":{\"data_source\":{\"id\":\"79406\"},\"glyph\":{\"id\":\"79409\"},\"hover_glyph\":null,\"muted_glyph\":{\"id\":\"79411\"},\"nonselection_glyph\":{\"id\":\"79410\"},\"selection_glyph\":{\"id\":\"79414\"},\"view\":{\"id\":\"79413\"}},\"id\":\"79412\",\"type\":\"GlyphRenderer\"},{\"attributes\":{},\"id\":\"78843\",\"type\":\"AllLabels\"},{\"attributes\":{\"callback\":null,\"renderers\":[{\"id\":\"79125\"}],\"tags\":[\"hv_created\"],\"tooltips\":[[\"Year\",\"@{Year}\"],[\"TOTAL\",\"@{TOTAL}\"]]},\"id\":\"79089\",\"type\":\"HoverTool\"},{\"attributes\":{\"bottom\":{\"value\":0},\"fill_alpha\":{\"value\":1.0},\"fill_color\":{\"value\":\"Red\"},\"hatch_alpha\":{\"value\":1.0},\"hatch_color\":{\"value\":\"black\"},\"hatch_scale\":{\"value\":12.0},\"hatch_weight\":{\"value\":1.0},\"line_alpha\":{\"value\":1.0},\"line_cap\":{\"value\":\"butt\"},\"line_color\":{\"value\":\"black\"},\"line_dash\":{\"value\":[]},\"line_dash_offset\":{\"value\":0},\"line_join\":{\"value\":\"bevel\"},\"line_width\":{\"value\":1},\"top\":{\"field\":\"TOTAL\"},\"width\":{\"value\":0.8},\"x\":{\"field\":\"Year\"}},\"id\":\"79414\",\"type\":\"VBar\"},{\"attributes\":{},\"id\":\"81512\",\"type\":\"AllLabels\"},{\"attributes\":{\"children\":[[{\"id\":\"78749\"},0,0],[{\"id\":\"78799\"},0,1]]},\"id\":\"78866\",\"type\":\"GridBox\"},{\"attributes\":{\"line_alpha\":0.1,\"line_color\":\"#30a2da\",\"line_width\":2,\"x\":{\"field\":\"Report Date\"},\"y\":{\"field\":\"value\"}},\"id\":\"81517\",\"type\":\"Line\"},{\"attributes\":{\"active_multi\":null,\"tools\":[{\"id\":\"82642\"},{\"id\":\"82661\"},{\"id\":\"82662\"},{\"id\":\"82663\"},{\"id\":\"82664\"},{\"id\":\"82665\"}]},\"id\":\"82667\",\"type\":\"Toolbar\"},{\"attributes\":{},\"id\":\"81511\",\"type\":\"BasicTickFormatter\"},{\"attributes\":{\"format\":\"%.0f\"},\"id\":\"79415\",\"type\":\"PrintfTickFormatter\"},{\"attributes\":{},\"id\":\"79418\",\"type\":\"AllLabels\"},{\"attributes\":{\"line_color\":\"#e5ae38\",\"line_width\":2,\"x\":{\"field\":\"Report Date\"},\"y\":{\"field\":\"value\"}},\"id\":\"81559\",\"type\":\"Line\"},{\"attributes\":{\"line_color\":\"#30a2da\",\"line_width\":2,\"x\":{\"field\":\"Report Date\"},\"y\":{\"field\":\"value\"}},\"id\":\"81516\",\"type\":\"Line\"},{\"attributes\":{\"bottom_units\":\"screen\",\"fill_alpha\":0.5,\"fill_color\":\"lightgrey\",\"left_units\":\"screen\",\"level\":\"overlay\",\"line_alpha\":1.0,\"line_color\":\"black\",\"line_dash\":[4,4],\"line_width\":2,\"right_units\":\"screen\",\"syncable\":false,\"top_units\":\"screen\"},\"id\":\"82666\",\"type\":\"BoxAnnotation\"},{\"attributes\":{\"line_alpha\":0.1,\"line_color\":\"#e5ae38\",\"line_width\":2,\"x\":{\"field\":\"Report Date\"},\"y\":{\"field\":\"value\"}},\"id\":\"82494\",\"type\":\"Line\"},{\"attributes\":{\"line_color\":\"#fc4f30\",\"line_width\":2,\"x\":{\"field\":\"Report Date\"},\"y\":{\"field\":\"value\"}},\"id\":\"82489\",\"type\":\"Line\"},{\"attributes\":{},\"id\":\"81061\",\"type\":\"UnionRenderers\"},{\"attributes\":{\"line_alpha\":0.2,\"line_color\":\"#e5ae38\",\"line_width\":2,\"x\":{\"field\":\"Report Date\"},\"y\":{\"field\":\"value\"}},\"id\":\"82495\",\"type\":\"Line\"},{\"attributes\":{\"end\":237435217.4,\"reset_end\":237435217.4,\"reset_start\":0.0,\"tags\":[[[\"TOTAL\",\"TOTAL\",null]]]},\"id\":\"79088\",\"type\":\"Range1d\"},{\"attributes\":{},\"id\":\"82491\",\"type\":\"Selection\"},{\"attributes\":{},\"id\":\"78852\",\"type\":\"UnionRenderers\"},{\"attributes\":{\"factors\":[\"2002\",\"2003\",\"2004\",\"2005\",\"2006\",\"2007\",\"2008\",\"2009\",\"2010\",\"2011\",\"2012\",\"2013\",\"2014\",\"2015\",\"2016\",\"2017\",\"2018\",\"2019\",\"2020\",\"2021\"],\"tags\":[[[\"Year\",\"Year\",null]]]},\"id\":\"79087\",\"type\":\"FactorRange\"},{\"attributes\":{\"line_color\":\"#e5ae38\",\"line_width\":2,\"x\":{\"field\":\"Report Date\"},\"y\":{\"field\":\"value\"}},\"id\":\"82493\",\"type\":\"Line\"},{\"attributes\":{\"data\":{\"Report Date\":[\"2011-06-30\",\"2011-09-30\",\"2011-12-31\",\"2012-03-31\",\"2012-06-30\",\"2012-09-30\",\"2012-12-31\",\"2013-03-31\",\"2013-06-30\",\"2013-09-30\",\"2013-12-31\",\"2014-03-31\",\"2014-06-30\",\"2014-09-30\",\"2014-12-31\",\"2015-03-31\",\"2015-06-30\",\"2015-09-30\",\"2015-12-31\",\"2016-03-31\",\"2016-06-30\",\"2016-09-30\",\"2016-12-31\",\"2017-03-31\",\"2017-06-30\",\"2017-09-30\",\"2017-12-31\",\"2018-03-31\",\"2018-06-30\",\"2018-09-30\",\"2018-12-31\",\"2019-03-31\",\"2019-06-30\",\"2019-09-30\",\"2019-12-31\",\"2020-03-31\",\"2020-06-29\",\"2020-12-30\",\"2021-03-30\"],\"Report_Date\":[\"2011-06-30\",\"2011-09-30\",\"2011-12-31\",\"2012-03-31\",\"2012-06-30\",\"2012-09-30\",\"2012-12-31\",\"2013-03-31\",\"2013-06-30\",\"2013-09-30\",\"2013-12-31\",\"2014-03-31\",\"2014-06-30\",\"2014-09-30\",\"2014-12-31\",\"2015-03-31\",\"2015-06-30\",\"2015-09-30\",\"2015-12-31\",\"2016-03-31\",\"2016-06-30\",\"2016-09-30\",\"2016-12-31\",\"2017-03-31\",\"2017-06-30\",\"2017-09-30\",\"2017-12-31\",\"2018-03-31\",\"2018-06-30\",\"2018-09-30\",\"2018-12-31\",\"2019-03-31\",\"2019-06-30\",\"2019-09-30\",\"2019-12-31\",\"2020-03-31\",\"2020-06-29\",\"2020-12-30\",\"2021-03-30\"],\"Variable\":[\"DAL Net Income\",\"DAL Net Income\",\"DAL Net Income\",\"DAL Net Income\",\"DAL Net Income\",\"DAL Net Income\",\"DAL Net Income\",\"DAL Net Income\",\"DAL Net Income\",\"DAL Net Income\",\"DAL Net Income\",\"DAL Net Income\",\"DAL Net Income\",\"DAL Net Income\",\"DAL Net Income\",\"DAL Net Income\",\"DAL Net Income\",\"DAL Net Income\",\"DAL Net Income\",\"DAL Net Income\",\"DAL Net Income\",\"DAL Net Income\",\"DAL Net Income\",\"DAL Net Income\",\"DAL Net Income\",\"DAL Net Income\",\"DAL Net Income\",\"DAL Net Income\",\"DAL Net Income\",\"DAL Net Income\",\"DAL Net Income\",\"DAL Net Income\",\"DAL Net Income\",\"DAL Net Income\",\"DAL Net Income\",\"DAL Net Income\",\"DAL Net Income\",\"DAL Net Income\",\"DAL Net Income\"],\"value\":[198000000,549000000,425000000,124000000,-168000000,1047000000,6000000,7000000,685000000,1369000000,8479000000,213000000,801000000,357000000,-712000000,746000000,1485000000,1315000000,980000000,946000000,1546000000,1259000000,622000000,603000000,1224000000,1178000000,572000000,547000000,1025000000,1312000000,1051000000,730000000,1443000000,1495000000,1099000000,-534000000,-5717000000,-755000000,-1177000000]},\"selected\":{\"id\":\"81280\"},\"selection_policy\":{\"id\":\"81294\"}},\"id\":\"81279\",\"type\":\"ColumnDataSource\"},{\"attributes\":{\"line_color\":\"#e5ae38\",\"line_width\":2,\"x\":{\"field\":\"Report Date\"},\"y\":{\"field\":\"value\"}},\"id\":\"83213\",\"type\":\"Line\"},{\"attributes\":{},\"id\":\"79430\",\"type\":\"UnionRenderers\"},{\"attributes\":{},\"id\":\"82208\",\"type\":\"CategoricalTickFormatter\"},{\"attributes\":{},\"id\":\"82209\",\"type\":\"AllLabels\"},{\"attributes\":{},\"id\":\"82212\",\"type\":\"AllLabels\"},{\"attributes\":{\"children\":[{\"id\":\"79034\"},{\"id\":\"79035\"},{\"id\":\"79036\"},{\"id\":\"79323\"}],\"margin\":[0,0,0,0],\"name\":\"Column88249\"},\"id\":\"79033\",\"type\":\"Column\"},{\"attributes\":{},\"id\":\"82211\",\"type\":\"BasicTickFormatter\"},{\"attributes\":{\"children\":[{\"id\":\"77882\"},{\"id\":\"78169\"}],\"margin\":[0,0,0,0],\"name\":\"Column88211\"},\"id\":\"77881\",\"type\":\"Column\"},{\"attributes\":{\"children\":[{\"id\":\"78006\"}],\"margin\":[0,0,0,0],\"name\":\"Row88202\"},\"id\":\"77882\",\"type\":\"Row\"},{\"attributes\":{},\"id\":\"83348\",\"type\":\"UnionRenderers\"},{\"attributes\":{},\"id\":\"83349\",\"type\":\"Selection\"},{\"attributes\":{\"margin\":[0,0,0,0],\"tabs\":[{\"id\":\"78456\"},{\"id\":\"79032\"},{\"id\":\"79610\"},{\"id\":\"80187\"},{\"id\":\"80765\"},{\"id\":\"81003\"},{\"id\":\"83340\"}]},\"id\":\"77880\",\"type\":\"Tabs\"},{\"attributes\":{\"children\":[{\"id\":\"78869\"}],\"margin\":[0,0,0,0],\"name\":\"Row88227\"},\"id\":\"78745\",\"type\":\"Row\"},{\"attributes\":{\"client_comm_id\":\"ecaf3ab502854e04a54d925c953fa8b0\",\"comm_id\":\"1cb964853e4246099c8bac41e51f2dc0\",\"plot_id\":\"77880\"},\"id\":\"84349\",\"type\":\"panel.models.comm_manager.CommManager\"},{\"attributes\":{\"data\":{\"Report Date\":[\"2011-06-30\",\"2011-09-30\",\"2011-12-31\",\"2012-03-31\",\"2012-06-30\",\"2012-09-30\",\"2012-12-31\",\"2013-03-31\",\"2013-06-30\",\"2013-09-30\",\"2013-12-31\",\"2014-03-31\",\"2014-06-30\",\"2014-09-30\",\"2014-12-31\",\"2015-03-31\",\"2015-06-30\",\"2015-09-30\",\"2015-12-31\",\"2016-03-31\",\"2016-06-30\",\"2016-09-30\",\"2016-12-31\",\"2017-03-31\",\"2017-06-30\",\"2017-09-30\",\"2017-12-31\",\"2018-03-31\",\"2018-06-30\",\"2018-09-30\",\"2018-12-31\",\"2019-03-31\",\"2019-06-30\",\"2019-09-30\",\"2019-12-31\",\"2020-03-31\",\"2020-06-29\",\"2020-12-30\",\"2021-03-30\"],\"Report_Date\":[\"2011-06-30\",\"2011-09-30\",\"2011-12-31\",\"2012-03-31\",\"2012-06-30\",\"2012-09-30\",\"2012-12-31\",\"2013-03-31\",\"2013-06-30\",\"2013-09-30\",\"2013-12-31\",\"2014-03-31\",\"2014-06-30\",\"2014-09-30\",\"2014-12-31\",\"2015-03-31\",\"2015-06-30\",\"2015-09-30\",\"2015-12-31\",\"2016-03-31\",\"2016-06-30\",\"2016-09-30\",\"2016-12-31\",\"2017-03-31\",\"2017-06-30\",\"2017-09-30\",\"2017-12-31\",\"2018-03-31\",\"2018-06-30\",\"2018-09-30\",\"2018-12-31\",\"2019-03-31\",\"2019-06-30\",\"2019-09-30\",\"2019-12-31\",\"2020-03-31\",\"2020-06-29\",\"2020-12-30\",\"2021-03-30\"],\"Variable\":[\"DAL Gross Profit Margin\",\"DAL Gross Profit Margin\",\"DAL Gross Profit Margin\",\"DAL Gross Profit Margin\",\"DAL Gross Profit Margin\",\"DAL Gross Profit Margin\",\"DAL Gross Profit Margin\",\"DAL Gross Profit Margin\",\"DAL Gross Profit Margin\",\"DAL Gross Profit Margin\",\"DAL Gross Profit Margin\",\"DAL Gross Profit Margin\",\"DAL Gross Profit Margin\",\"DAL Gross Profit Margin\",\"DAL Gross Profit Margin\",\"DAL Gross Profit Margin\",\"DAL Gross Profit Margin\",\"DAL Gross Profit Margin\",\"DAL Gross Profit Margin\",\"DAL Gross Profit Margin\",\"DAL Gross Profit Margin\",\"DAL Gross Profit Margin\",\"DAL Gross Profit Margin\",\"DAL Gross Profit Margin\",\"DAL Gross Profit Margin\",\"DAL Gross Profit Margin\",\"DAL Gross Profit Margin\",\"DAL Gross Profit Margin\",\"DAL Gross Profit Margin\",\"DAL Gross Profit Margin\",\"DAL Gross Profit Margin\",\"DAL Gross Profit Margin\",\"DAL Gross Profit Margin\",\"DAL Gross Profit Margin\",\"DAL Gross Profit Margin\",\"DAL Gross Profit Margin\",\"DAL Gross Profit Margin\",\"DAL Gross Profit Margin\",\"DAL Gross Profit Margin\"],\"value\":{\"__ndarray__\":\"4GjaP1UYyj+vudJqADrOP3sK2LDKGs8/EFJjQOycxz8+IzGtko7FP26jq8HPmdI/0P8OFGvdyD9qvHSTGATGP4VTo63YuM0/3Ij8Eleo0z8atz0B+VXOP2jZD165Ksw/zOVq8WCS0z80tVy4q2/SP63EtNxtbLY/91o6OyO30z+3P61GPN3ZP7no5aOzmtg/WtQ11zqE1j9UkzxxLP7VPyTwyIguW9k/FUJaMKz31j+oUB5Q+H3RPzXCVxByS9I/mYiuhTsV1z80H2tnLwDWPzn94rQln9M/1Nsn0a23zz8jQuKnKqrTPxbM9y4fUNM/g10iXboO0T9sr0vhgJHQPxbrf+/6ANY/Bzub5BOT1T/A0vkrnb/SP7RN5fe43ME/zjdQw5irtj/HZJRN3KHgPyDayCwP39A/\",\"dtype\":\"float64\",\"order\":\"little\",\"shape\":[39]}},\"selected\":{\"id\":\"81514\"},\"selection_policy\":{\"id\":\"81528\"}},\"id\":\"81513\",\"type\":\"ColumnDataSource\"},{\"attributes\":{\"factors\":[\"2011-06-30\",\"2011-09-30\",\"2011-12-31\",\"2012-03-31\",\"2012-06-30\",\"2012-09-30\",\"2012-12-31\",\"2013-03-31\",\"2013-06-30\",\"2013-09-30\",\"2013-12-31\",\"2014-03-31\",\"2014-06-30\",\"2014-09-30\",\"2014-12-31\",\"2015-03-31\",\"2015-06-30\",\"2015-09-30\",\"2015-12-31\",\"2016-03-31\",\"2016-06-30\",\"2016-09-30\",\"2016-12-31\",\"2017-03-31\",\"2017-06-30\",\"2017-09-30\",\"2017-12-31\",\"2018-03-31\",\"2018-06-30\",\"2018-09-30\",\"2018-12-31\",\"2019-03-31\",\"2019-06-30\",\"2019-09-30\",\"2019-12-31\",\"2020-03-31\",\"2020-06-29\",\"2020-12-30\",\"2021-03-30\"],\"tags\":[[[\"Report Date\",\"Report Date\",null]]]},\"id\":\"81239\",\"type\":\"FactorRange\"},{\"attributes\":{\"end\":9898600000.0,\"reset_end\":9898600000.0,\"reset_start\":-7136600000.0,\"start\":-7136600000.0,\"tags\":[[[\"value\",\"value\",null]]]},\"id\":\"81240\",\"type\":\"Range1d\"},{\"attributes\":{},\"id\":\"81251\",\"type\":\"LinearScale\"},{\"attributes\":{\"callback\":null,\"renderers\":[{\"id\":\"81285\"},{\"id\":\"81306\"},{\"id\":\"81328\"}],\"tags\":[\"hv_created\"],\"tooltips\":[[\"Variable\",\"@{Variable}\"],[\"Report Date\",\"@{Report_Date}\"],[\"value\",\"@{value}\"]]},\"id\":\"81241\",\"type\":\"HoverTool\"},{\"attributes\":{\"below\":[{\"id\":\"81253\"}],\"center\":[{\"id\":\"81255\"},{\"id\":\"81259\"}],\"left\":[{\"id\":\"81256\"}],\"margin\":[5,5,5,5],\"min_border_bottom\":10,\"min_border_left\":10,\"min_border_right\":10,\"min_border_top\":10,\"renderers\":[{\"id\":\"81285\"},{\"id\":\"81306\"},{\"id\":\"81328\"}],\"right\":[{\"id\":\"81297\"}],\"sizing_mode\":\"fixed\",\"title\":{\"id\":\"81245\"},\"toolbar\":{\"id\":\"81266\"},\"width\":900,\"x_range\":{\"id\":\"81239\"},\"x_scale\":{\"id\":\"81249\"},\"y_range\":{\"id\":\"81240\"},\"y_scale\":{\"id\":\"81251\"}},\"id\":\"81244\",\"subtype\":\"Figure\",\"type\":\"Plot\"},{\"attributes\":{},\"id\":\"81254\",\"type\":\"CategoricalTicker\"},{\"attributes\":{\"child\":{\"id\":\"77881\"},\"name\":\"Column88211\",\"title\":\"Passenger\"},\"id\":\"78456\",\"type\":\"Panel\"},{\"attributes\":{\"axis_label\":\"Report Date\",\"formatter\":{\"id\":\"81274\"},\"major_label_orientation\":1.5707963267948966,\"major_label_policy\":{\"id\":\"81275\"},\"ticker\":{\"id\":\"81254\"}},\"id\":\"81253\",\"type\":\"CategoricalAxis\"},{\"attributes\":{\"children\":[{\"id\":\"78582\"}],\"margin\":[0,0,0,0],\"name\":\"Row88219\"},\"id\":\"78458\",\"type\":\"Row\"},{\"attributes\":{},\"id\":\"82228\",\"type\":\"UnionRenderers\"},{\"attributes\":{\"text\":\"Quarterly Net Income from 2011 to 2021\",\"text_color\":\"black\",\"text_font_size\":\"12pt\"},\"id\":\"81245\",\"type\":\"Title\"},{\"attributes\":{},\"id\":\"81249\",\"type\":\"CategoricalScale\"},{\"attributes\":{\"axis\":{\"id\":\"81253\"},\"grid_line_color\":null,\"ticker\":null},\"id\":\"81255\",\"type\":\"Grid\"}],\"root_ids\":[\"77880\",\"84349\"]},\"title\":\"Bokeh Application\",\"version\":\"2.3.2\"}};\n",
       "    var render_items = [{\"docid\":\"f284daa5-d2e4-4f2f-a94b-5afd65414e5b\",\"root_ids\":[\"77880\"],\"roots\":{\"77880\":\"d0d4cf01-530c-4f0c-911d-cd6d519c6658\"}}];\n",
       "    root.Bokeh.embed.embed_items_notebook(docs_json, render_items);\n",
       "  }\n",
       "  if (root.Bokeh !== undefined && root.Bokeh.Panel !== undefined && root['Plotly'] !== undefined ) {\n",
       "    embed_document(root);\n",
       "  } else {\n",
       "    var attempts = 0;\n",
       "    var timer = setInterval(function(root) {\n",
       "      if (root.Bokeh !== undefined && root.Bokeh.Panel !== undefined && root['Plotly'] !== undefined) {\n",
       "        clearInterval(timer);\n",
       "        embed_document(root);\n",
       "      } else if (document.readyState == \"complete\") {\n",
       "        attempts++;\n",
       "        if (attempts > 100) {\n",
       "          clearInterval(timer);\n",
       "          console.log(\"Bokeh: ERROR: Unable to run BokehJS code because BokehJS library is missing\");\n",
       "        }\n",
       "      }\n",
       "    }, 10, root)\n",
       "  }\n",
       "})(window);</script>"
      ],
      "text/plain": [
       "Tabs\n",
       "    [0] Column\n",
       "        [0] Row\n",
       "            [0] HoloViews(Layout)\n",
       "        [1] Row\n",
       "            [0] HoloViews(Layout)\n",
       "    [1] Column\n",
       "        [0] Row\n",
       "            [0] HoloViews(Layout)\n",
       "        [1] Row\n",
       "            [0] HoloViews(Layout)\n",
       "    [2] Column\n",
       "        [0] Markdown(str)\n",
       "        [1] Markdown(str)\n",
       "        [2] Row\n",
       "            [0] HoloViews(Layout)\n",
       "        [3] Row\n",
       "            [0] HoloViews(Layout)\n",
       "    [3] Column\n",
       "        [0] Markdown(str)\n",
       "        [1] Row\n",
       "            [0] HoloViews(Layout)\n",
       "        [2] Row\n",
       "            [0] HoloViews(Layout)\n",
       "    [4] Column\n",
       "        [0] Markdown(str)\n",
       "        [1] Row\n",
       "            [0] Markdown(str)\n",
       "            [1] HoloViews(Layout)\n",
       "        [2] Row\n",
       "            [0] HoloViews(Layout)\n",
       "    [5] Row\n",
       "        [0] HoloViews(NdOverlay)\n",
       "        [1] Plotly(Figure)\n",
       "    [6] Column\n",
       "        [0] Row\n",
       "            [0] HoloViews(NdOverlay)\n",
       "            [1] HoloViews(NdOverlay)\n",
       "        [1] Row\n",
       "            [0] HoloViews(NdOverlay)\n",
       "            [1] HoloViews(NdOverlay)\n",
       "        [2] Row\n",
       "            [0] HoloViews(NdOverlay)\n",
       "            [1] HoloViews(NdOverlay)\n",
       "        [3] Row\n",
       "            [0] HoloViews(NdOverlay)\n",
       "            [1] HoloViews(NdOverlay)\n",
       "        [4] Row\n",
       "            [0] HoloViews(NdOverlay)\n",
       "            [1] HoloViews(NdOverlay)"
      ]
     },
     "execution_count": 220,
     "metadata": {
      "application/vnd.holoviews_exec.v0+json": {
       "id": "77880"
      }
     },
     "output_type": "execute_result"
    }
   ],
   "source": [
    "dashboard_tabs"
   ]
  }
 ],
 "metadata": {
  "interpreter": {
   "hash": "9bbc15ca884615fba7a48959fd158978f7429edb53eb387b249fd313199bdc43"
  },
  "kernelspec": {
   "display_name": "Python 3.9.5 64-bit ('adobo': conda)",
   "name": "python3"
  },
  "language_info": {
   "codemirror_mode": {
    "name": "ipython",
    "version": 3
   },
   "file_extension": ".py",
   "mimetype": "text/x-python",
   "name": "python",
   "nbconvert_exporter": "python",
   "pygments_lexer": "ipython3",
   "version": "3.9.5"
  },
  "orig_nbformat": 4
 },
 "nbformat": 4,
 "nbformat_minor": 2
}