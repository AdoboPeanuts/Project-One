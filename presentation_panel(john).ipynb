{
 "cells": [
  {
   "cell_type": "code",
   "execution_count": 287,
   "metadata": {},
   "outputs": [],
   "source": [
    "# Created Library \r\n",
    "\r\n",
    "import panel as pn\r\n",
    "pn.extension('plotly')\r\n",
    "\r\n",
    "import plotly.express as px\r\n",
    "\r\n",
    "import plotly\r\n",
    "\r\n",
    "import pandas as pd\r\n",
    "\r\n",
    "import hvplot.pandas\r\n",
    "\r\n",
    "from matplotlib import pyplot as plt\r\n",
    "\r\n",
    "import os\r\n",
    "\r\n",
    "from pathlib import Path\r\n",
    "\r\n",
    "import numpy as np\r\n",
    "\r\n",
    "from bokeh.plotting import figure, show\r\n",
    "\r\n",
    "from bokeh.io import output_notebook\r\n",
    "\r\n",
    "from holoviews import opts\r\n",
    "\r\n",
    "from bokeh.models.formatters import DatetimeTickFormatter\r\n",
    "\r\n",
    "from bokeh.models.formatters import BasicTickFormatter\r\n",
    "\r\n",
    "import holoviews as hv\r\n",
    "\r\n",
    "from holoviews import opts\r\n"
   ]
  },
  {
   "cell_type": "code",
   "execution_count": 288,
   "metadata": {},
   "outputs": [],
   "source": [
    "# Imported cleaned csv files in preparation for visualization\r\n",
    "\r\n",
    "# All U.S. Carriers Data\r\n",
    "\r\n",
    "us_passengers_final = pd.read_csv(\"Data/transportation_statistics(cleaned)/us_passengers_final.csv\")\r\n",
    "us_flights_final = pd.read_csv(\"Data/transportation_statistics(cleaned)/us_flights_final.csv\")\r\n",
    "us_passenger_miles_final = pd.read_csv(\"Data/transportation_statistics(cleaned)/us_passenger_miles_final.csv\")\r\n",
    "us_seat_miles_final = pd.read_csv(\"Data/transportation_statistics(cleaned)/us_seat_miles_final.csv\")\r\n",
    "us_load_final = pd.read_csv(\"Data/transportation_statistics(cleaned)/us_load_final.csv\")\r\n",
    "\r\n",
    "# Delta Airlines Data\r\n",
    "\r\n",
    "dal_passengers_final = pd.read_csv(\"Data/transportation_statistics(cleaned)/dal_passengers_final.csv\")\r\n",
    "dal_flights_final = pd.read_csv(\"Data/transportation_statistics(cleaned)/dal_flights_final.csv\")\r\n",
    "dal_passenger_miles_final = pd.read_csv(\"Data/transportation_statistics(cleaned)/dal_passenger_miles_final.csv\")\r\n",
    "dal_seat_miles_final = pd.read_csv(\"Data/transportation_statistics(cleaned)/dal_seat_miles_final.csv\")\r\n",
    "dal_load_final = pd.read_csv(\"Data/transportation_statistics(cleaned)/dal_load_final.csv\")\r\n",
    "\r\n",
    "\r\n",
    "# Southwest Airlines Data\r\n",
    "\r\n",
    "luv_passengers_final = pd.read_csv(\"Data/transportation_statistics(cleaned)/luv_passengers_final.csv\")\r\n",
    "luv_flights_final = pd.read_csv(\"Data/transportation_statistics(cleaned)/luv_flights_final.csv\")\r\n",
    "luv_passenger_miles_final = pd.read_csv(\"Data/transportation_statistics(cleaned)/luv_passenger_miles_final.csv\")\r\n",
    "luv_seat_miles_final = pd.read_csv(\"Data/transportation_statistics(cleaned)/luv_seat_miles_final.csv\")\r\n",
    "luv_load_final = pd.read_csv(\"Data/transportation_statistics(cleaned)/luv_load_final.csv\")\r\n",
    "\r\n",
    "# United Airlines Data\r\n",
    "\r\n",
    "ual_passengers_final = pd.read_csv(\"Data/transportation_statistics(cleaned)/ual_passengers_final.csv\")\r\n",
    "ual_flights_final = pd.read_csv(\"Data/transportation_statistics(cleaned)/ual_flights_final.csv\")\r\n",
    "ual_passenger_miles_final = pd.read_csv(\"Data/transportation_statistics(cleaned)/ual_passenger_miles_final.csv\")\r\n",
    "ual_seat_miles_final = pd.read_csv(\"Data/transportation_statistics(cleaned)/ual_seat_miles_final.csv\")\r\n",
    "ual_load_final = pd.read_csv(\"Data/transportation_statistics(cleaned)/ual_load_final.csv\")"
   ]
  },
  {
   "cell_type": "code",
   "execution_count": 289,
   "metadata": {},
   "outputs": [],
   "source": [
    "# Imported airline fundamentals data files\r\n",
    "\r\n",
    "dal_fundamentals = pd.read_csv(\"Data/DAL_fundamentals.csv\")\r\n",
    "\r\n",
    "luv_fundamentals = pd.read_csv(\"Data/LUV_fundamentals.csv\")\r\n",
    "\r\n",
    "ual_fundamentals = pd.read_csv(\"Data/UAL_fundamentals.csv\")"
   ]
  },
  {
   "cell_type": "code",
   "execution_count": 290,
   "metadata": {},
   "outputs": [],
   "source": [
    "# Prepared Index\r\n",
    "\r\n",
    "# All U.S. Carriers\r\n",
    "\r\n",
    "us_passengers_final.set_index('Year', inplace=True)\r\n",
    "us_flights_final.set_index('Year', inplace=True)\r\n",
    "us_passenger_miles_final.set_index('Year', inplace=True)\r\n",
    "us_seat_miles_final.set_index('Year', inplace=True)\r\n",
    "us_load_final.set_index('Year', inplace=True)\r\n",
    "\r\n",
    "# Delta Airlines\r\n",
    "\r\n",
    "dal_passengers_final.set_index('Year', inplace=True)\r\n",
    "dal_flights_final.set_index('Year', inplace=True)\r\n",
    "dal_passenger_miles_final.set_index('Year', inplace=True)\r\n",
    "dal_seat_miles_final.set_index('Year', inplace=True)\r\n",
    "dal_load_final.set_index('Year', inplace=True)\r\n",
    "\r\n",
    "# Southwest Airlines\r\n",
    "\r\n",
    "luv_passengers_final.set_index('Year', inplace=True)\r\n",
    "luv_flights_final.set_index('Year', inplace=True)\r\n",
    "luv_passenger_miles_final.set_index('Year', inplace=True)\r\n",
    "luv_seat_miles_final.set_index('Year', inplace=True)\r\n",
    "luv_load_final.set_index('Year', inplace=True)\r\n",
    "\r\n",
    "# United Airlines\r\n",
    "\r\n",
    "ual_passengers_final.set_index('Year', inplace=True)\r\n",
    "ual_flights_final.set_index('Year', inplace=True)\r\n",
    "ual_passenger_miles_final.set_index('Year', inplace=True)\r\n",
    "ual_seat_miles_final.set_index('Year', inplace=True)\r\n",
    "ual_load_final.set_index('Year', inplace=True)"
   ]
  },
  {
   "cell_type": "code",
   "execution_count": 291,
   "metadata": {},
   "outputs": [],
   "source": [
    "# Created Function for plots for Passenger Data, Flights, Passenger-Miles, Seat-Miles, and Load data\r\n",
    "\r\n",
    "# Passenger Data\r\n",
    "\r\n",
    "def Make_Chart(data, lbl=None,ylbl=None,color=None, shrd__ax=False,size=(900,500),yfmt='%.0f', BarChart=True):\r\n",
    "    if BarChart:\r\n",
    "        plot = data.hvplot.bar(label= lbl\r\n",
    "                        , ylabel= ylbl\r\n",
    "                        , color= color\r\n",
    "                        , shared_axes= shrd__ax\r\n",
    "                        , width=size[0],height=size[1]\r\n",
    "                        ).opts(yformatter=yfmt)\r\n",
    "    else:\r\n",
    "        plot = data.hvplot.line(label= lbl\r\n",
    "                        , ylabel= ylbl\r\n",
    "                        , color= color\r\n",
    "                        , shared_axes= shrd__ax\r\n",
    "                        , width=size[0],height=size[1]\r\n",
    "                        ).opts(yformatter=yfmt)\r\n",
    "\r\n",
    "    return plot\r\n",
    "\r\n",
    "chart_list = [  (us_passengers_final,\"All U.S.Carriers Passengers - All Airports\", \"Number of Passengers\", \"Orange\")\r\n",
    "                , (dal_passengers_final, \"Delta Airlines Passengers - All Airports\", \"Number of Passengers\", \"Green\")\r\n",
    "                , (luv_passengers_final, \"Southwest Airlines Passengers - All Airports\", \"Number of Passengers\", \"Blue\")\r\n",
    "                , (ual_passengers_final, \"United Airlines Passengers - All Airports\",  \"Number of Passengers\", \"Red\")]\r\n",
    "passenger_lst = []\r\n",
    "for dta, lbl, ylbl, color in chart_list:\r\n",
    "    cht = Make_Chart(data=dta, lbl=lbl, ylbl=ylbl, color=color, shrd__ax = False , BarChart=True)\r\n",
    "    passenger_lst.append(cht)\r\n"
   ]
  },
  {
   "cell_type": "code",
   "execution_count": 292,
   "metadata": {},
   "outputs": [],
   "source": [
    "# Flight Data\r\n",
    "\r\n",
    "chart_list = [  (us_flights_final,\"All U.S.Carriers Flights - All Airports\", \"Number of Flights\", \"Orange\")\r\n",
    "                , (dal_flights_final, \"Delta Airlines Flights - All Airports\", \"Number of Flights\", \"Green\")\r\n",
    "                , (luv_flights_final, \"Southwest Airlines Flights - All Airports\", \"Number of Flights\", \"Blue\")\r\n",
    "                , (ual_flights_final, \"United Airlines Flights - All Airports\",  \"Number of Flights\", \"Red\")]\r\n",
    "flight_lst = []\r\n",
    "for dta, lbl, ylbl, color in chart_list:\r\n",
    "    cht = Make_Chart(data=dta, lbl=lbl, ylbl=ylbl, color=color, shrd__ax = False , BarChart=True)\r\n",
    "    flight_lst.append(cht)\r\n"
   ]
  },
  {
   "cell_type": "code",
   "execution_count": 293,
   "metadata": {},
   "outputs": [],
   "source": [
    "# Revenue Passenger-Miles Data\r\n",
    "\r\n",
    "chart_list = [  (us_passenger_miles_final,\"All U.S. Carriers Airlines Revenue Passenger-Miles - All Airports\", \"(The number of passengers and the distance flown in thousands (000)) \", \"Orange\")\r\n",
    "                , (dal_passenger_miles_final, \"Delta Airlines Revenue Passenger-Miles - All Airports\", \"(The number of passengers and the distance flown in thousands (000)) \", \"Green\")\r\n",
    "                , (luv_passenger_miles_final, \"Southwest Airlines Carriers Airlines Revenue Passenger-Miles - All Airports\", \"(The number of passengers and the distance flown in thousands (000)) \", \"Blue\")\r\n",
    "                , (ual_passenger_miles_final, \"United Airlines Carriers Airlines Revenue Passenger-Miles - All Airports\",  \"(The number of passengers and the distance flown in thousands (000)) \", \"Red\")]\r\n",
    "passenger_miles_lst = []\r\n",
    "\r\n",
    "for dta, lbl, ylbl, color in chart_list:\r\n",
    "    cht = Make_Chart(data=dta, lbl=lbl, ylbl=ylbl, color=color, shrd__ax = False ,BarChart=True)\r\n",
    "    passenger_miles_lst.append(cht)"
   ]
  },
  {
   "cell_type": "code",
   "execution_count": 294,
   "metadata": {},
   "outputs": [],
   "source": [
    "# Seat-Miles Data\r\n",
    "\r\n",
    "chart_list = [  (us_seat_miles_final,\"All U.S. Carriers Available Seat-Miles - All Airports\" , \"(the number of seats and the distance flown in thousands (000)) \", \"Orange\")\r\n",
    "                , (dal_seat_miles_final, \"Delta Airlines Available Seat-Miles - All Airports\" , \"(the number of seats and the distance flown in thousands (000)) \", \"Green\")\r\n",
    "                , (luv_seat_miles_final, \"Southwest Airlines Available Seat-Miles - All Airports\" , \"(the number of seats and the distance flown in thousands (000)) \", \"Blue\")\r\n",
    "                , (ual_seat_miles_final, \"United Airlines Available Seat-Miles - All Airports\" , \"(the number of seats and the distance flown in thousands (000)) \", \"Red\")]\r\n",
    "seat_miles_lst = []\r\n",
    "\r\n",
    "for dta, lbl, ylbl, color in chart_list:\r\n",
    "    cht = Make_Chart(data=dta, lbl=lbl, ylbl=ylbl, color=color,shrd__ax = False , BarChart=True)\r\n",
    "    seat_miles_lst.append(cht)"
   ]
  },
  {
   "cell_type": "code",
   "execution_count": 295,
   "metadata": {},
   "outputs": [],
   "source": [
    "# Load Factor Data\r\n",
    "\r\n",
    "chart_list = [ (us_load_final,\"All U.S. Carriers Available Seat-Miles - All Airports\" , \"(the number of seats and the distance flown in thousands (000)) \", \"Orange\")\r\n",
    "                ,(dal_load_final, \"Delta Airlines Load Factor - All Airports\" , \"(passenger-miles as a proportion of available seat-miles in percent (%))\", \"Green\")\r\n",
    "                , (luv_load_final, \"Southwest Airlines Load Factor - All Airports\" , \"(passenger-miles as a proportion of available seat-miles in percent (%)) \", \"Blue\")\r\n",
    "                , (ual_load_final, \"United Airlines Load Factor - All Airports\" , \"(passenger-miles as a proportion of available seat-miles in percent (%))\", \"Red\")]\r\n",
    "load_factor_lst = []\r\n",
    "for dta, lbl, ylbl, color in chart_list:\r\n",
    "    cht = Make_Chart(data=dta, lbl=lbl, ylbl=ylbl, color=color,shrd__ax = False , BarChart= True)\r\n",
    "    load_factor_lst.append(cht)"
   ]
  },
  {
   "cell_type": "code",
   "execution_count": 296,
   "metadata": {},
   "outputs": [],
   "source": [
    "# Imported cleaned csv files in preparation for visualization (Monique's Data)\r\n",
    "\r\n",
    "cb_airline_data = pd.read_csv(\"Data/emp_airline_data.csv\", index_col='Year')\r\n",
    "\r\n",
    "emp_airline_total = pd.read_csv(\"Data/airline_industry_total.csv\", index_col='Year')"
   ]
  },
  {
   "cell_type": "code",
   "execution_count": 297,
   "metadata": {},
   "outputs": [
    {
     "data": {
      "text/html": [
       "<div>\n",
       "<style scoped>\n",
       "    .dataframe tbody tr th:only-of-type {\n",
       "        vertical-align: middle;\n",
       "    }\n",
       "\n",
       "    .dataframe tbody tr th {\n",
       "        vertical-align: top;\n",
       "    }\n",
       "\n",
       "    .dataframe thead th {\n",
       "        text-align: right;\n",
       "    }\n",
       "</style>\n",
       "<table border=\"1\" class=\"dataframe\">\n",
       "  <thead>\n",
       "    <tr style=\"text-align: right;\">\n",
       "      <th></th>\n",
       "      <th>Month</th>\n",
       "      <th>Full-time</th>\n",
       "      <th>Part-time</th>\n",
       "      <th>Grand Total</th>\n",
       "    </tr>\n",
       "    <tr>\n",
       "      <th>Year</th>\n",
       "      <th></th>\n",
       "      <th></th>\n",
       "      <th></th>\n",
       "      <th></th>\n",
       "    </tr>\n",
       "  </thead>\n",
       "  <tbody>\n",
       "    <tr>\n",
       "      <th>1990</th>\n",
       "      <td>6.5</td>\n",
       "      <td>507337.083333</td>\n",
       "      <td>67411.25</td>\n",
       "      <td>574748.333333</td>\n",
       "    </tr>\n",
       "    <tr>\n",
       "      <th>2010</th>\n",
       "      <td>6.5</td>\n",
       "      <td>464132.083333</td>\n",
       "      <td>100296.50</td>\n",
       "      <td>564428.583333</td>\n",
       "    </tr>\n",
       "    <tr>\n",
       "      <th>2020</th>\n",
       "      <td>6.5</td>\n",
       "      <td>600570.166667</td>\n",
       "      <td>112897.50</td>\n",
       "      <td>713467.666667</td>\n",
       "    </tr>\n",
       "  </tbody>\n",
       "</table>\n",
       "</div>"
      ],
      "text/plain": [
       "      Month      Full-time  Part-time    Grand Total\n",
       "Year                                                \n",
       "1990    6.5  507337.083333   67411.25  574748.333333\n",
       "2010    6.5  464132.083333  100296.50  564428.583333\n",
       "2020    6.5  600570.166667  112897.50  713467.666667"
      ]
     },
     "execution_count": 297,
     "metadata": {},
     "output_type": "execute_result"
    }
   ],
   "source": [
    "emp_airline_total"
   ]
  },
  {
   "cell_type": "code",
   "execution_count": 298,
   "metadata": {},
   "outputs": [],
   "source": [
    "#Creating a pie chart function\r\n",
    "def create_piechart(df,year):\r\n",
    "    \r\n",
    "    column = df.loc[year]\r\n",
    "    values = (column['Full-time'],column['Part-time'])\r\n",
    "\r\n",
    "\r\n",
    "    color= [\"Purple\",'Yellow']\r\n",
    "    \r\n",
    "    return plt.show(\r\n",
    "            plt.pie(\r\n",
    "                x=values\r\n",
    "                , labels=[\"Full-time\",\"Part-time\"]\r\n",
    "                , colors=color\r\n",
    "                , autopct='%1.1f%%'\r\n",
    "                , shadow=False\r\n",
    "        )\r\n",
    "    )\r\n"
   ]
  },
  {
   "cell_type": "code",
   "execution_count": 299,
   "metadata": {},
   "outputs": [
    {
     "data": {
      "text/html": [
       "<div>\n",
       "<style scoped>\n",
       "    .dataframe tbody tr th:only-of-type {\n",
       "        vertical-align: middle;\n",
       "    }\n",
       "\n",
       "    .dataframe tbody tr th {\n",
       "        vertical-align: top;\n",
       "    }\n",
       "\n",
       "    .dataframe thead th {\n",
       "        text-align: right;\n",
       "    }\n",
       "</style>\n",
       "<table border=\"1\" class=\"dataframe\">\n",
       "  <thead>\n",
       "    <tr style=\"text-align: right;\">\n",
       "      <th></th>\n",
       "      <th>Month</th>\n",
       "      <th>Full-time</th>\n",
       "      <th>Part-time</th>\n",
       "      <th>Grand Total</th>\n",
       "    </tr>\n",
       "    <tr>\n",
       "      <th>Year</th>\n",
       "      <th></th>\n",
       "      <th></th>\n",
       "      <th></th>\n",
       "      <th></th>\n",
       "    </tr>\n",
       "  </thead>\n",
       "  <tbody>\n",
       "    <tr>\n",
       "      <th>1990</th>\n",
       "      <td>6.5</td>\n",
       "      <td>507337.083333</td>\n",
       "      <td>67411.25</td>\n",
       "      <td>574748.333333</td>\n",
       "    </tr>\n",
       "    <tr>\n",
       "      <th>2010</th>\n",
       "      <td>6.5</td>\n",
       "      <td>464132.083333</td>\n",
       "      <td>100296.50</td>\n",
       "      <td>564428.583333</td>\n",
       "    </tr>\n",
       "    <tr>\n",
       "      <th>2020</th>\n",
       "      <td>6.5</td>\n",
       "      <td>600570.166667</td>\n",
       "      <td>112897.50</td>\n",
       "      <td>713467.666667</td>\n",
       "    </tr>\n",
       "  </tbody>\n",
       "</table>\n",
       "</div>"
      ],
      "text/plain": [
       "      Month      Full-time  Part-time    Grand Total\n",
       "Year                                                \n",
       "1990    6.5  507337.083333   67411.25  574748.333333\n",
       "2010    6.5  464132.083333  100296.50  564428.583333\n",
       "2020    6.5  600570.166667  112897.50  713467.666667"
      ]
     },
     "execution_count": 299,
     "metadata": {},
     "output_type": "execute_result"
    }
   ],
   "source": [
    "emp_airline_total"
   ]
  },
  {
   "cell_type": "code",
   "execution_count": 300,
   "metadata": {},
   "outputs": [],
   "source": [
    "# Stored Values for Sunburst Plot\r\n",
    "\r\n",
    "Year = emp_airline_total.index\r\n",
    "\r\n",
    "Grand = emp_airline_total['Grand Total'].round(1)\r\n",
    "\r\n",
    "Full = emp_airline_total['Full-time'].round(1)\r\n",
    "\r\n",
    "Part = emp_airline_total['Part-time'].round(1)\r\n",
    "\r\n",
    "Total = emp_airline_total['Grand Total'].round(1)\r\n",
    "\r\n",
    "color = emp_airline_total['Grand Total'].round(1)\r\n",
    "\r\n",
    "hover = emp_airline_total['Full-time'].round(1)\r\n",
    "\r\n",
    "hover1 = emp_airline_total['Part-time'].round(1)\r\n"
   ]
  },
  {
   "cell_type": "code",
   "execution_count": 301,
   "metadata": {},
   "outputs": [],
   "source": [
    "# # ['aggrnyl', 'agsunset', 'algae', 'amp', 'armyrose', 'balance',\r\n",
    "# 'blackbody', 'bluered', 'blues', 'blugrn', 'bluyl', 'brbg',\r\n",
    "# 'brwnyl', 'bugn', 'bupu', 'burg', 'burgyl', 'cividis', 'curl',\r\n",
    "# 'darkmint', 'deep', 'delta', 'dense', 'earth', 'edge', 'electric',\r\n",
    "# 'emrld', 'fall', 'geyser', 'gnbu', 'gray', 'greens', 'greys',\r\n",
    "# 'haline', 'hot', 'hsv', 'ice', 'icefire', 'inferno', 'jet',\r\n",
    "# 'magenta', 'magma', 'matter', 'mint', 'mrybm', 'mygbm', 'oranges',\r\n",
    "# 'orrd', 'oryel', 'oxy', 'peach', 'phase', 'picnic', 'pinkyl',\r\n",
    "# 'piyg', 'plasma', 'plotly3', 'portland', 'prgn', 'pubu', 'pubugn',\r\n",
    "# 'puor', 'purd', 'purp', 'purples', 'purpor', 'rainbow', 'rdbu',\r\n",
    "# 'rdgy', 'rdpu', 'rdylbu', 'rdylgn', 'redor', 'reds', 'solar',\r\n",
    "# 'spectral', 'speed', 'sunset', 'sunsetdark', 'teal', 'tealgrn',\r\n",
    "# 'tealrose', 'tempo', 'temps', 'thermal', 'tropic', 'turbid',\r\n",
    "# 'turbo', 'twilight', 'viridis', 'ylgn', 'ylgnbu', 'ylorbr',"
   ]
  },
  {
   "cell_type": "code",
   "execution_count": 302,
   "metadata": {},
   "outputs": [
    {
     "data": {
      "application/vnd.plotly.v1+json": {
       "config": {
        "plotlyServerURL": "https://plot.ly"
       },
       "data": [
        {
         "branchvalues": "total",
         "customdata": [
          [
           507337.1,
           67411.2,
           574748.3
          ],
          [
           464132.1,
           100296.5,
           564428.6
          ],
          [
           600570.2,
           112897.5,
           713467.7
          ],
          [
           464132.1,
           100296.5,
           564428.6
          ],
          [
           507337.1,
           67411.2,
           574748.3
          ],
          [
           600570.2,
           112897.5,
           713467.7
          ],
          [
           507337.1,
           67411.2,
           574748.3
          ],
          [
           464132.1,
           100296.5,
           564428.6
          ],
          [
           600570.2,
           112897.5,
           713467.7
          ]
         ],
         "domain": {
          "x": [
           0,
           1
          ],
          "y": [
           0,
           1
          ]
         },
         "hovertemplate": "labels=%{label}<br>value=%{value}<br>parent=%{parent}<br>id=%{id}<br>hover_data_0=%{customdata[0]}<br>hover_data_1=%{customdata[1]}<br>color=%{color}<extra></extra>",
         "ids": [
          "1990/507337.1/67411.2",
          "2010/464132.1/100296.5",
          "2020/600570.2/112897.5",
          "2010/464132.1",
          "1990/507337.1",
          "2020/600570.2",
          "1990",
          "2010",
          "2020"
         ],
         "labels": [
          "67411.2",
          "100296.5",
          "112897.5",
          "464132.1",
          "507337.1",
          "600570.2",
          "1990",
          "2010",
          "2020"
         ],
         "marker": {
          "coloraxis": "coloraxis",
          "colors": [
           574748.3,
           564428.6,
           713467.7,
           564428.6,
           574748.3,
           713467.7,
           574748.3,
           564428.6,
           713467.7
          ]
         },
         "name": "",
         "parents": [
          "1990/507337.1",
          "2010/464132.1",
          "2020/600570.2",
          "2010",
          "1990",
          "2020",
          "",
          "",
          ""
         ],
         "type": "sunburst",
         "values": [
          574748.3,
          564428.6,
          713467.7,
          564428.6,
          574748.3,
          713467.7,
          574748.3,
          564428.6,
          713467.7
         ]
        }
       ],
       "layout": {
        "coloraxis": {
         "colorbar": {
          "title": {
           "text": "color"
          }
         },
         "colorscale": [
          [
           0,
           "rgb(158,1,66)"
          ],
          [
           0.1,
           "rgb(213,62,79)"
          ],
          [
           0.2,
           "rgb(244,109,67)"
          ],
          [
           0.3,
           "rgb(253,174,97)"
          ],
          [
           0.4,
           "rgb(254,224,139)"
          ],
          [
           0.5,
           "rgb(255,255,191)"
          ],
          [
           0.6,
           "rgb(230,245,152)"
          ],
          [
           0.7,
           "rgb(171,221,164)"
          ],
          [
           0.8,
           "rgb(102,194,165)"
          ],
          [
           0.9,
           "rgb(50,136,189)"
          ],
          [
           1,
           "rgb(94,79,162)"
          ]
         ]
        },
        "legend": {
         "tracegroupgap": 0
        },
        "template": {
         "data": {
          "bar": [
           {
            "error_x": {
             "color": "#2a3f5f"
            },
            "error_y": {
             "color": "#2a3f5f"
            },
            "marker": {
             "line": {
              "color": "#E5ECF6",
              "width": 0.5
             }
            },
            "type": "bar"
           }
          ],
          "barpolar": [
           {
            "marker": {
             "line": {
              "color": "#E5ECF6",
              "width": 0.5
             }
            },
            "type": "barpolar"
           }
          ],
          "carpet": [
           {
            "aaxis": {
             "endlinecolor": "#2a3f5f",
             "gridcolor": "white",
             "linecolor": "white",
             "minorgridcolor": "white",
             "startlinecolor": "#2a3f5f"
            },
            "baxis": {
             "endlinecolor": "#2a3f5f",
             "gridcolor": "white",
             "linecolor": "white",
             "minorgridcolor": "white",
             "startlinecolor": "#2a3f5f"
            },
            "type": "carpet"
           }
          ],
          "choropleth": [
           {
            "colorbar": {
             "outlinewidth": 0,
             "ticks": ""
            },
            "type": "choropleth"
           }
          ],
          "contour": [
           {
            "colorbar": {
             "outlinewidth": 0,
             "ticks": ""
            },
            "colorscale": [
             [
              0,
              "#0d0887"
             ],
             [
              0.1111111111111111,
              "#46039f"
             ],
             [
              0.2222222222222222,
              "#7201a8"
             ],
             [
              0.3333333333333333,
              "#9c179e"
             ],
             [
              0.4444444444444444,
              "#bd3786"
             ],
             [
              0.5555555555555556,
              "#d8576b"
             ],
             [
              0.6666666666666666,
              "#ed7953"
             ],
             [
              0.7777777777777778,
              "#fb9f3a"
             ],
             [
              0.8888888888888888,
              "#fdca26"
             ],
             [
              1,
              "#f0f921"
             ]
            ],
            "type": "contour"
           }
          ],
          "contourcarpet": [
           {
            "colorbar": {
             "outlinewidth": 0,
             "ticks": ""
            },
            "type": "contourcarpet"
           }
          ],
          "heatmap": [
           {
            "colorbar": {
             "outlinewidth": 0,
             "ticks": ""
            },
            "colorscale": [
             [
              0,
              "#0d0887"
             ],
             [
              0.1111111111111111,
              "#46039f"
             ],
             [
              0.2222222222222222,
              "#7201a8"
             ],
             [
              0.3333333333333333,
              "#9c179e"
             ],
             [
              0.4444444444444444,
              "#bd3786"
             ],
             [
              0.5555555555555556,
              "#d8576b"
             ],
             [
              0.6666666666666666,
              "#ed7953"
             ],
             [
              0.7777777777777778,
              "#fb9f3a"
             ],
             [
              0.8888888888888888,
              "#fdca26"
             ],
             [
              1,
              "#f0f921"
             ]
            ],
            "type": "heatmap"
           }
          ],
          "heatmapgl": [
           {
            "colorbar": {
             "outlinewidth": 0,
             "ticks": ""
            },
            "colorscale": [
             [
              0,
              "#0d0887"
             ],
             [
              0.1111111111111111,
              "#46039f"
             ],
             [
              0.2222222222222222,
              "#7201a8"
             ],
             [
              0.3333333333333333,
              "#9c179e"
             ],
             [
              0.4444444444444444,
              "#bd3786"
             ],
             [
              0.5555555555555556,
              "#d8576b"
             ],
             [
              0.6666666666666666,
              "#ed7953"
             ],
             [
              0.7777777777777778,
              "#fb9f3a"
             ],
             [
              0.8888888888888888,
              "#fdca26"
             ],
             [
              1,
              "#f0f921"
             ]
            ],
            "type": "heatmapgl"
           }
          ],
          "histogram": [
           {
            "marker": {
             "colorbar": {
              "outlinewidth": 0,
              "ticks": ""
             }
            },
            "type": "histogram"
           }
          ],
          "histogram2d": [
           {
            "colorbar": {
             "outlinewidth": 0,
             "ticks": ""
            },
            "colorscale": [
             [
              0,
              "#0d0887"
             ],
             [
              0.1111111111111111,
              "#46039f"
             ],
             [
              0.2222222222222222,
              "#7201a8"
             ],
             [
              0.3333333333333333,
              "#9c179e"
             ],
             [
              0.4444444444444444,
              "#bd3786"
             ],
             [
              0.5555555555555556,
              "#d8576b"
             ],
             [
              0.6666666666666666,
              "#ed7953"
             ],
             [
              0.7777777777777778,
              "#fb9f3a"
             ],
             [
              0.8888888888888888,
              "#fdca26"
             ],
             [
              1,
              "#f0f921"
             ]
            ],
            "type": "histogram2d"
           }
          ],
          "histogram2dcontour": [
           {
            "colorbar": {
             "outlinewidth": 0,
             "ticks": ""
            },
            "colorscale": [
             [
              0,
              "#0d0887"
             ],
             [
              0.1111111111111111,
              "#46039f"
             ],
             [
              0.2222222222222222,
              "#7201a8"
             ],
             [
              0.3333333333333333,
              "#9c179e"
             ],
             [
              0.4444444444444444,
              "#bd3786"
             ],
             [
              0.5555555555555556,
              "#d8576b"
             ],
             [
              0.6666666666666666,
              "#ed7953"
             ],
             [
              0.7777777777777778,
              "#fb9f3a"
             ],
             [
              0.8888888888888888,
              "#fdca26"
             ],
             [
              1,
              "#f0f921"
             ]
            ],
            "type": "histogram2dcontour"
           }
          ],
          "mesh3d": [
           {
            "colorbar": {
             "outlinewidth": 0,
             "ticks": ""
            },
            "type": "mesh3d"
           }
          ],
          "parcoords": [
           {
            "line": {
             "colorbar": {
              "outlinewidth": 0,
              "ticks": ""
             }
            },
            "type": "parcoords"
           }
          ],
          "pie": [
           {
            "automargin": true,
            "type": "pie"
           }
          ],
          "scatter": [
           {
            "marker": {
             "colorbar": {
              "outlinewidth": 0,
              "ticks": ""
             }
            },
            "type": "scatter"
           }
          ],
          "scatter3d": [
           {
            "line": {
             "colorbar": {
              "outlinewidth": 0,
              "ticks": ""
             }
            },
            "marker": {
             "colorbar": {
              "outlinewidth": 0,
              "ticks": ""
             }
            },
            "type": "scatter3d"
           }
          ],
          "scattercarpet": [
           {
            "marker": {
             "colorbar": {
              "outlinewidth": 0,
              "ticks": ""
             }
            },
            "type": "scattercarpet"
           }
          ],
          "scattergeo": [
           {
            "marker": {
             "colorbar": {
              "outlinewidth": 0,
              "ticks": ""
             }
            },
            "type": "scattergeo"
           }
          ],
          "scattergl": [
           {
            "marker": {
             "colorbar": {
              "outlinewidth": 0,
              "ticks": ""
             }
            },
            "type": "scattergl"
           }
          ],
          "scattermapbox": [
           {
            "marker": {
             "colorbar": {
              "outlinewidth": 0,
              "ticks": ""
             }
            },
            "type": "scattermapbox"
           }
          ],
          "scatterpolar": [
           {
            "marker": {
             "colorbar": {
              "outlinewidth": 0,
              "ticks": ""
             }
            },
            "type": "scatterpolar"
           }
          ],
          "scatterpolargl": [
           {
            "marker": {
             "colorbar": {
              "outlinewidth": 0,
              "ticks": ""
             }
            },
            "type": "scatterpolargl"
           }
          ],
          "scatterternary": [
           {
            "marker": {
             "colorbar": {
              "outlinewidth": 0,
              "ticks": ""
             }
            },
            "type": "scatterternary"
           }
          ],
          "surface": [
           {
            "colorbar": {
             "outlinewidth": 0,
             "ticks": ""
            },
            "colorscale": [
             [
              0,
              "#0d0887"
             ],
             [
              0.1111111111111111,
              "#46039f"
             ],
             [
              0.2222222222222222,
              "#7201a8"
             ],
             [
              0.3333333333333333,
              "#9c179e"
             ],
             [
              0.4444444444444444,
              "#bd3786"
             ],
             [
              0.5555555555555556,
              "#d8576b"
             ],
             [
              0.6666666666666666,
              "#ed7953"
             ],
             [
              0.7777777777777778,
              "#fb9f3a"
             ],
             [
              0.8888888888888888,
              "#fdca26"
             ],
             [
              1,
              "#f0f921"
             ]
            ],
            "type": "surface"
           }
          ],
          "table": [
           {
            "cells": {
             "fill": {
              "color": "#EBF0F8"
             },
             "line": {
              "color": "white"
             }
            },
            "header": {
             "fill": {
              "color": "#C8D4E3"
             },
             "line": {
              "color": "white"
             }
            },
            "type": "table"
           }
          ]
         },
         "layout": {
          "annotationdefaults": {
           "arrowcolor": "#2a3f5f",
           "arrowhead": 0,
           "arrowwidth": 1
          },
          "autotypenumbers": "strict",
          "coloraxis": {
           "colorbar": {
            "outlinewidth": 0,
            "ticks": ""
           }
          },
          "colorscale": {
           "diverging": [
            [
             0,
             "#8e0152"
            ],
            [
             0.1,
             "#c51b7d"
            ],
            [
             0.2,
             "#de77ae"
            ],
            [
             0.3,
             "#f1b6da"
            ],
            [
             0.4,
             "#fde0ef"
            ],
            [
             0.5,
             "#f7f7f7"
            ],
            [
             0.6,
             "#e6f5d0"
            ],
            [
             0.7,
             "#b8e186"
            ],
            [
             0.8,
             "#7fbc41"
            ],
            [
             0.9,
             "#4d9221"
            ],
            [
             1,
             "#276419"
            ]
           ],
           "sequential": [
            [
             0,
             "#0d0887"
            ],
            [
             0.1111111111111111,
             "#46039f"
            ],
            [
             0.2222222222222222,
             "#7201a8"
            ],
            [
             0.3333333333333333,
             "#9c179e"
            ],
            [
             0.4444444444444444,
             "#bd3786"
            ],
            [
             0.5555555555555556,
             "#d8576b"
            ],
            [
             0.6666666666666666,
             "#ed7953"
            ],
            [
             0.7777777777777778,
             "#fb9f3a"
            ],
            [
             0.8888888888888888,
             "#fdca26"
            ],
            [
             1,
             "#f0f921"
            ]
           ],
           "sequentialminus": [
            [
             0,
             "#0d0887"
            ],
            [
             0.1111111111111111,
             "#46039f"
            ],
            [
             0.2222222222222222,
             "#7201a8"
            ],
            [
             0.3333333333333333,
             "#9c179e"
            ],
            [
             0.4444444444444444,
             "#bd3786"
            ],
            [
             0.5555555555555556,
             "#d8576b"
            ],
            [
             0.6666666666666666,
             "#ed7953"
            ],
            [
             0.7777777777777778,
             "#fb9f3a"
            ],
            [
             0.8888888888888888,
             "#fdca26"
            ],
            [
             1,
             "#f0f921"
            ]
           ]
          },
          "colorway": [
           "#636efa",
           "#EF553B",
           "#00cc96",
           "#ab63fa",
           "#FFA15A",
           "#19d3f3",
           "#FF6692",
           "#B6E880",
           "#FF97FF",
           "#FECB52"
          ],
          "font": {
           "color": "#2a3f5f"
          },
          "geo": {
           "bgcolor": "white",
           "lakecolor": "white",
           "landcolor": "#E5ECF6",
           "showlakes": true,
           "showland": true,
           "subunitcolor": "white"
          },
          "hoverlabel": {
           "align": "left"
          },
          "hovermode": "closest",
          "mapbox": {
           "style": "light"
          },
          "paper_bgcolor": "white",
          "plot_bgcolor": "#E5ECF6",
          "polar": {
           "angularaxis": {
            "gridcolor": "white",
            "linecolor": "white",
            "ticks": ""
           },
           "bgcolor": "#E5ECF6",
           "radialaxis": {
            "gridcolor": "white",
            "linecolor": "white",
            "ticks": ""
           }
          },
          "scene": {
           "xaxis": {
            "backgroundcolor": "#E5ECF6",
            "gridcolor": "white",
            "gridwidth": 2,
            "linecolor": "white",
            "showbackground": true,
            "ticks": "",
            "zerolinecolor": "white"
           },
           "yaxis": {
            "backgroundcolor": "#E5ECF6",
            "gridcolor": "white",
            "gridwidth": 2,
            "linecolor": "white",
            "showbackground": true,
            "ticks": "",
            "zerolinecolor": "white"
           },
           "zaxis": {
            "backgroundcolor": "#E5ECF6",
            "gridcolor": "white",
            "gridwidth": 2,
            "linecolor": "white",
            "showbackground": true,
            "ticks": "",
            "zerolinecolor": "white"
           }
          },
          "shapedefaults": {
           "line": {
            "color": "#2a3f5f"
           }
          },
          "ternary": {
           "aaxis": {
            "gridcolor": "white",
            "linecolor": "white",
            "ticks": ""
           },
           "baxis": {
            "gridcolor": "white",
            "linecolor": "white",
            "ticks": ""
           },
           "bgcolor": "#E5ECF6",
           "caxis": {
            "gridcolor": "white",
            "linecolor": "white",
            "ticks": ""
           }
          },
          "title": {
           "x": 0.05
          },
          "xaxis": {
           "automargin": true,
           "gridcolor": "white",
           "linecolor": "white",
           "ticks": "",
           "title": {
            "standoff": 15
           },
           "zerolinecolor": "white",
           "zerolinewidth": 2
          },
          "yaxis": {
           "automargin": true,
           "gridcolor": "white",
           "linecolor": "white",
           "ticks": "",
           "title": {
            "standoff": 15
           },
           "zerolinecolor": "white",
           "zerolinewidth": 2
          }
         }
        },
        "title": {
         "text": "Industry Employment Mix"
        }
       }
      }
     },
     "metadata": {},
     "output_type": "display_data"
    }
   ],
   "source": [
    "fig = px.sunburst(emp_airline_total,\r\n",
    "               path=[Year, Full, Part],\r\n",
    "               values= Total,\r\n",
    "               color= color,\r\n",
    "               hover_data=[hover, hover1],\r\n",
    "               color_continuous_scale= 'spectral',\r\n",
    "               title='Industry Employment Mix',\r\n",
    "               \r\n",
    "               \r\n",
    ")\r\n",
    "\r\n",
    "fig.show()"
   ]
  },
  {
   "cell_type": "code",
   "execution_count": 303,
   "metadata": {},
   "outputs": [],
   "source": [
    "#Plotting Industry employment mix for 1990\r\n",
    "\r\n",
    "# emp1 = create_pie_charts(emp_airline_total,1990, \"Industry employment mix for 1990\", ylabe= )\r\n",
    "\r\n",
    "#Plotting Industry Employment mix for 2010\r\n",
    "\r\n",
    "#emp2 = create_pie_charts(emp_airline_total,2010)\r\n",
    "\r\n",
    "#Plotting Industry Employment mix for 2020\r\n",
    "\r\n",
    "#emp3 = create_pie_charts(emp_airline_total,2020)"
   ]
  },
  {
   "cell_type": "code",
   "execution_count": 304,
   "metadata": {},
   "outputs": [],
   "source": [
    "# Renamed Columns of cb_airline_data\r\n",
    "\r\n",
    "cb_airline_data.rename(columns={'DAL_Total': 'Delta Airlines Total', 'LUV_Total': 'Southwest Airlines Total', 'UAL_Total' : 'United Airlines Total'}, inplace=True)"
   ]
  },
  {
   "cell_type": "code",
   "execution_count": 305,
   "metadata": {},
   "outputs": [],
   "source": [
    "employment_plot = cb_airline_data.hvplot(title='Airline Employment Data', width = 900, height = 500)"
   ]
  },
  {
   "cell_type": "code",
   "execution_count": 306,
   "metadata": {},
   "outputs": [],
   "source": [
    "# Created Variables for dashboard\r\n",
    "\r\n",
    "passenger_panel = pn.Row(passenger_lst [0] + passenger_lst [1] + passenger_lst [2] + passenger_lst [3])\r\n",
    "\r\n",
    "flights_panel = pn.Row(flight_lst [0] + flight_lst [1] + flight_lst [2] + flight_lst [3])\r\n",
    "\r\n",
    "passenger_miles_panel = pn.Row(passenger_miles_lst [0] + passenger_miles_lst [1] + passenger_miles_lst [2] + passenger_miles_lst [3])\r\n",
    "\r\n",
    "seat_miles_panel = pn.Row(seat_miles_lst [0] + seat_miles_lst [1] + seat_miles_lst [2] + seat_miles_lst [3])\r\n",
    "\r\n",
    "load_panel = pn.Row(load_factor_lst [0] + load_factor_lst [1] + load_factor_lst [2] + load_factor_lst [3])\r\n",
    "\r\n",
    "employment_panel = pn.Row(employment_plot, fig)\r\n",
    "\r\n",
    "# Dashboard tabs\r\n",
    "\r\n",
    "dashboard_tabs = pn.Tabs(\r\n",
    "    (\"Passenger\" , passenger_panel),\r\n",
    "    (\"Flights\", flights_panel),\r\n",
    "    (\"Passenger-Miles\", passenger_miles_panel),\r\n",
    "    (\"Seat-Miles\", seat_miles_panel),\r\n",
    "    (\"Load Factor\", load_panel),\r\n",
    "    (\"Airline Employment Data\", employment_panel)\r\n",
    ")\r\n"
   ]
  },
  {
   "cell_type": "code",
   "execution_count": 307,
   "metadata": {},
   "outputs": [
    {
     "data": {},
     "metadata": {},
     "output_type": "display_data"
    },
    {
     "data": {},
     "metadata": {},
     "output_type": "display_data"
    },
    {
     "data": {
      "application/vnd.holoviews_exec.v0+json": "",
      "text/html": [
       "<div id='64189'>\n",
       "\n",
       "\n",
       "\n",
       "\n",
       "\n",
       "  <div class=\"bk-root\" id=\"d60f1b98-0568-45a9-ade5-eac93172eba1\" data-root-id=\"64189\"></div>\n",
       "</div>\n",
       "<script type=\"application/javascript\">(function(root) {\n",
       "  function embed_document(root) {\n",
       "    var docs_json = {\"5eae4327-c454-4a94-b8fb-fe6e0f319b8b\":{\"defs\":[],\"roots\":{\"references\":[{\"attributes\":{\"bottom\":{\"value\":0},\"fill_alpha\":{\"value\":1.0},\"fill_color\":{\"value\":\"Blue\"},\"hatch_alpha\":{\"value\":1.0},\"hatch_color\":{\"value\":\"black\"},\"hatch_scale\":{\"value\":12.0},\"hatch_weight\":{\"value\":1.0},\"line_alpha\":{\"value\":1.0},\"line_cap\":{\"value\":\"butt\"},\"line_color\":{\"value\":\"black\"},\"line_dash\":{\"value\":[]},\"line_dash_offset\":{\"value\":0},\"line_join\":{\"value\":\"bevel\"},\"line_width\":{\"value\":1},\"top\":{\"field\":\"TOTAL\"},\"width\":{\"value\":0.8},\"x\":{\"field\":\"Year\"}},\"id\":\"64331\",\"type\":\"VBar\"},{\"attributes\":{\"children\":[[{\"id\":\"64194\"},0,0],[{\"id\":\"64244\"},0,1],[{\"id\":\"64294\"},0,2],[{\"id\":\"64344\"},0,3]]},\"id\":\"64431\",\"type\":\"GridBox\"},{\"attributes\":{\"end\":11769904.2,\"reset_end\":11769904.2,\"reset_start\":0.0,\"tags\":[[[\"TOTAL\",\"TOTAL\",null]]]},\"id\":\"64762\",\"type\":\"Range1d\"},{\"attributes\":{},\"id\":\"64333\",\"type\":\"CategoricalTickFormatter\"},{\"attributes\":{\"data\":{\"TOTAL\":[68909312,71803886,76877343,85197896,92671519,99644687,103280990,98009920,98444938,103810561,106383628,112564370,122605550,140512077,148525244,153814165,159798408,157258128,103461328,22486224],\"Year\":[\"2002\",\"2003\",\"2004\",\"2005\",\"2006\",\"2007\",\"2008\",\"2009\",\"2010\",\"2011\",\"2012\",\"2013\",\"2014\",\"2015\",\"2016\",\"2017\",\"2018\",\"2019\",\"2020\",\"2021\"]},\"selected\":{\"id\":\"66034\"},\"selection_policy\":{\"id\":\"66128\"}},\"id\":\"66033\",\"type\":\"ColumnDataSource\"},{\"attributes\":{\"axis_label\":\"(the number of seats and the distance flown in thousands (000)) \",\"formatter\":{\"id\":\"66042\"},\"major_label_policy\":{\"id\":\"66047\"},\"ticker\":{\"id\":\"66017\"}},\"id\":\"66016\",\"type\":\"LinearAxis\"},{\"attributes\":{},\"id\":\"64774\",\"type\":\"CategoricalTicker\"},{\"attributes\":{\"bottom_units\":\"screen\",\"fill_alpha\":0.5,\"fill_color\":\"lightgrey\",\"left_units\":\"screen\",\"level\":\"overlay\",\"line_alpha\":1.0,\"line_color\":\"black\",\"line_dash\":[4,4],\"line_width\":2,\"right_units\":\"screen\",\"syncable\":false,\"top_units\":\"screen\"},\"id\":\"66495\",\"type\":\"BoxAnnotation\"},{\"attributes\":{\"text\":\"All U.S.Carriers Flights - All Airports\",\"text_color\":\"black\",\"text_font_size\":\"12pt\"},\"id\":\"64765\",\"type\":\"Title\"},{\"attributes\":{\"axis\":{\"id\":\"66013\"},\"grid_line_color\":null,\"ticker\":null},\"id\":\"66015\",\"type\":\"Grid\"},{\"attributes\":{\"format\":\"%.0f\"},\"id\":\"64332\",\"type\":\"PrintfTickFormatter\"},{\"attributes\":{\"end\":110031.25833333336,\"reset_end\":110031.25833333336,\"reset_start\":-975.841666666669,\"start\":-975.841666666669,\"tags\":[[[\"value\",\"value\",null]]]},\"id\":\"67042\",\"type\":\"Range1d\"},{\"attributes\":{},\"id\":\"64334\",\"type\":\"AllLabels\"},{\"attributes\":{},\"id\":\"66014\",\"type\":\"CategoricalTicker\"},{\"attributes\":{\"callback\":null,\"renderers\":[{\"id\":\"64799\"}],\"tags\":[\"hv_created\"],\"tooltips\":[[\"Year\",\"@{Year}\"],[\"TOTAL\",\"@{TOTAL}\"]]},\"id\":\"64763\",\"type\":\"HoverTool\"},{\"attributes\":{\"axis_label\":\"Year\",\"formatter\":{\"id\":\"66043\"},\"major_label_policy\":{\"id\":\"66044\"},\"ticker\":{\"id\":\"66014\"}},\"id\":\"66013\",\"type\":\"CategoricalAxis\"},{\"attributes\":{\"below\":[{\"id\":\"64773\"}],\"center\":[{\"id\":\"64775\"},{\"id\":\"64779\"}],\"height\":500,\"left\":[{\"id\":\"64776\"}],\"margin\":null,\"min_border_bottom\":10,\"min_border_left\":10,\"min_border_right\":10,\"min_border_top\":10,\"renderers\":[{\"id\":\"64799\"}],\"sizing_mode\":\"fixed\",\"title\":{\"id\":\"64765\"},\"toolbar\":{\"id\":\"64786\"},\"toolbar_location\":null,\"width\":900,\"x_range\":{\"id\":\"64761\"},\"x_scale\":{\"id\":\"64769\"},\"y_range\":{\"id\":\"64762\"},\"y_scale\":{\"id\":\"64771\"}},\"id\":\"64764\",\"subtype\":\"Figure\",\"type\":\"Plot\"},{\"attributes\":{},\"id\":\"66020\",\"type\":\"SaveTool\"},{\"attributes\":{},\"id\":\"64337\",\"type\":\"AllLabels\"},{\"attributes\":{\"callback\":null,\"renderers\":[{\"id\":\"66039\"}],\"tags\":[\"hv_created\"],\"tooltips\":[[\"Year\",\"@{Year}\"],[\"TOTAL\",\"@{TOTAL}\"]]},\"id\":\"66003\",\"type\":\"HoverTool\"},{\"attributes\":{\"factors\":[\"2002\",\"2003\",\"2004\",\"2005\",\"2006\",\"2007\",\"2008\",\"2009\",\"2010\",\"2011\",\"2012\",\"2013\",\"2014\",\"2015\",\"2016\",\"2017\",\"2018\",\"2019\",\"2020\",\"2021\"],\"tags\":[[[\"Year\",\"Year\",null]]]},\"id\":\"66521\",\"type\":\"FactorRange\"},{\"attributes\":{},\"id\":\"66017\",\"type\":\"BasicTicker\"},{\"attributes\":{\"format\":\"%.0f\"},\"id\":\"65992\",\"type\":\"PrintfTickFormatter\"},{\"attributes\":{\"axis\":{\"id\":\"64353\"},\"grid_line_color\":null,\"ticker\":null},\"id\":\"64355\",\"type\":\"Grid\"},{\"attributes\":{},\"id\":\"66022\",\"type\":\"WheelZoomTool\"},{\"attributes\":{\"children\":[{\"id\":\"66714\"}],\"margin\":[0,0,0,0],\"name\":\"Row78585\"},\"id\":\"66470\",\"type\":\"Row\"},{\"attributes\":{\"axis\":{\"id\":\"64773\"},\"grid_line_color\":null,\"ticker\":null},\"id\":\"64775\",\"type\":\"Grid\"},{\"attributes\":{\"end\":173529626.4,\"reset_end\":173529626.4,\"reset_start\":0.0,\"tags\":[[[\"TOTAL\",\"TOTAL\",null]]]},\"id\":\"66002\",\"type\":\"Range1d\"},{\"attributes\":{\"axis\":{\"id\":\"64356\"},\"dimension\":1,\"grid_line_color\":null,\"ticker\":null},\"id\":\"64359\",\"type\":\"Grid\"},{\"attributes\":{},\"id\":\"64769\",\"type\":\"CategoricalScale\"},{\"attributes\":{\"source\":{\"id\":\"66503\"}},\"id\":\"66510\",\"type\":\"CDSView\"},{\"attributes\":{},\"id\":\"64771\",\"type\":\"LinearScale\"},{\"attributes\":{},\"id\":\"66009\",\"type\":\"CategoricalScale\"},{\"attributes\":{\"data\":{\"TOTAL\":[67275401,64826746,69535789,65482359,67976825,67408231,62282677,55071822,53032240,49619083,91493988,89278038,89871585,94891627,99769952,107037834,113154569,116212143,37844981,7915624],\"Year\":[\"2002\",\"2003\",\"2004\",\"2005\",\"2006\",\"2007\",\"2008\",\"2009\",\"2010\",\"2011\",\"2012\",\"2013\",\"2014\",\"2015\",\"2016\",\"2017\",\"2018\",\"2019\",\"2020\",\"2021\"]},\"selected\":{\"id\":\"64374\"},\"selection_policy\":{\"id\":\"64428\"}},\"id\":\"64373\",\"type\":\"ColumnDataSource\"},{\"attributes\":{\"axis\":{\"id\":\"64776\"},\"dimension\":1,\"grid_line_color\":null,\"ticker\":null},\"id\":\"64779\",\"type\":\"Grid\"},{\"attributes\":{\"text\":\"Southwest Airlines Available Seat-Miles - All Airports\",\"text_color\":\"black\",\"text_font_size\":\"12pt\"},\"id\":\"66005\",\"type\":\"Title\"},{\"attributes\":{},\"id\":\"64781\",\"type\":\"PanTool\"},{\"attributes\":{\"fill_alpha\":{\"value\":0.2},\"fill_color\":{\"value\":\"Orange\"},\"line_alpha\":{\"value\":0.2},\"top\":{\"field\":\"TOTAL\"},\"width\":{\"value\":0.8},\"x\":{\"field\":\"Year\"}},\"id\":\"66508\",\"type\":\"VBar\"},{\"attributes\":{\"axis_label\":\"Year\",\"formatter\":{\"id\":\"64803\"},\"major_label_policy\":{\"id\":\"64804\"},\"ticker\":{\"id\":\"64774\"}},\"id\":\"64773\",\"type\":\"CategoricalAxis\"},{\"attributes\":{},\"id\":\"66021\",\"type\":\"PanTool\"},{\"attributes\":{},\"id\":\"66514\",\"type\":\"AllLabels\"},{\"attributes\":{\"axis_label\":\"Number of Flights\",\"formatter\":{\"id\":\"64802\"},\"major_label_policy\":{\"id\":\"64807\"},\"ticker\":{\"id\":\"64777\"}},\"id\":\"64776\",\"type\":\"LinearAxis\"},{\"attributes\":{\"factors\":[\"2002\",\"2003\",\"2004\",\"2005\",\"2006\",\"2007\",\"2008\",\"2009\",\"2010\",\"2011\",\"2012\",\"2013\",\"2014\",\"2015\",\"2016\",\"2017\",\"2018\",\"2019\",\"2020\",\"2021\"],\"tags\":[[[\"Year\",\"Year\",null]]]},\"id\":\"66001\",\"type\":\"FactorRange\"},{\"attributes\":{\"axis_label\":\"Number of Passengers\",\"formatter\":{\"id\":\"64382\"},\"major_label_policy\":{\"id\":\"64387\"},\"ticker\":{\"id\":\"64357\"}},\"id\":\"64356\",\"type\":\"LinearAxis\"},{\"attributes\":{},\"id\":\"64777\",\"type\":\"BasicTicker\"},{\"attributes\":{\"format\":\"%.0f\"},\"id\":\"66512\",\"type\":\"PrintfTickFormatter\"},{\"attributes\":{},\"id\":\"64361\",\"type\":\"PanTool\"},{\"attributes\":{},\"id\":\"64782\",\"type\":\"WheelZoomTool\"},{\"attributes\":{},\"id\":\"64362\",\"type\":\"WheelZoomTool\"},{\"attributes\":{},\"id\":\"64780\",\"type\":\"SaveTool\"},{\"attributes\":{},\"id\":\"64357\",\"type\":\"BasicTicker\"},{\"attributes\":{},\"id\":\"64360\",\"type\":\"SaveTool\"},{\"attributes\":{\"overlay\":{\"id\":\"64785\"}},\"id\":\"64783\",\"type\":\"BoxZoomTool\"},{\"attributes\":{\"line_alpha\":0.1,\"line_color\":\"#30a2da\",\"line_width\":2,\"x\":{\"field\":\"Year\"},\"y\":{\"field\":\"value\"}},\"id\":\"67086\",\"type\":\"Line\"},{\"attributes\":{\"overlay\":{\"id\":\"64365\"}},\"id\":\"64363\",\"type\":\"BoxZoomTool\"},{\"attributes\":{},\"id\":\"64784\",\"type\":\"ResetTool\"},{\"attributes\":{},\"id\":\"64364\",\"type\":\"ResetTool\"},{\"attributes\":{\"below\":[{\"id\":\"66533\"}],\"center\":[{\"id\":\"66535\"},{\"id\":\"66539\"}],\"height\":500,\"left\":[{\"id\":\"66536\"}],\"margin\":null,\"min_border_bottom\":10,\"min_border_left\":10,\"min_border_right\":10,\"min_border_top\":10,\"renderers\":[{\"id\":\"66559\"}],\"sizing_mode\":\"fixed\",\"title\":{\"id\":\"66525\"},\"toolbar\":{\"id\":\"66546\"},\"toolbar_location\":null,\"width\":900,\"x_range\":{\"id\":\"66521\"},\"x_scale\":{\"id\":\"66529\"},\"y_range\":{\"id\":\"66522\"},\"y_scale\":{\"id\":\"66531\"}},\"id\":\"66524\",\"subtype\":\"Figure\",\"type\":\"Plot\"},{\"attributes\":{\"end\":90.699,\"reset_end\":90.699,\"reset_start\":0.0,\"tags\":[[[\"TOTAL\",\"TOTAL\",null]]]},\"id\":\"66522\",\"type\":\"Range1d\"},{\"attributes\":{},\"id\":\"66011\",\"type\":\"LinearScale\"},{\"attributes\":{},\"id\":\"65997\",\"type\":\"AllLabels\"},{\"attributes\":{},\"id\":\"64794\",\"type\":\"Selection\"},{\"attributes\":{\"fill_color\":{\"value\":\"Orange\"},\"top\":{\"field\":\"TOTAL\"},\"width\":{\"value\":0.8},\"x\":{\"field\":\"Year\"}},\"id\":\"66506\",\"type\":\"VBar\"},{\"attributes\":{},\"id\":\"65984\",\"type\":\"Selection\"},{\"attributes\":{},\"id\":\"64968\",\"type\":\"UnionRenderers\"},{\"attributes\":{\"active_multi\":null,\"tools\":[{\"id\":\"64343\"},{\"id\":\"64360\"},{\"id\":\"64361\"},{\"id\":\"64362\"},{\"id\":\"64363\"},{\"id\":\"64364\"}]},\"id\":\"64366\",\"type\":\"Toolbar\"},{\"attributes\":{\"fill_alpha\":{\"value\":0.1},\"fill_color\":{\"value\":\"Green\"},\"line_alpha\":{\"value\":0.1},\"top\":{\"field\":\"TOTAL\"},\"width\":{\"value\":0.8},\"x\":{\"field\":\"Year\"}},\"id\":\"65987\",\"type\":\"VBar\"},{\"attributes\":{\"active_multi\":null,\"tools\":[{\"id\":\"64763\"},{\"id\":\"64780\"},{\"id\":\"64781\"},{\"id\":\"64782\"},{\"id\":\"64783\"},{\"id\":\"64784\"}]},\"id\":\"64786\",\"type\":\"Toolbar\"},{\"attributes\":{},\"id\":\"65994\",\"type\":\"AllLabels\"},{\"attributes\":{\"fill_color\":{\"value\":\"Green\"},\"top\":{\"field\":\"TOTAL\"},\"width\":{\"value\":0.8},\"x\":{\"field\":\"Year\"}},\"id\":\"65986\",\"type\":\"VBar\"},{\"attributes\":{\"fill_alpha\":{\"value\":0.2},\"fill_color\":{\"value\":\"Green\"},\"line_alpha\":{\"value\":0.2},\"top\":{\"field\":\"TOTAL\"},\"width\":{\"value\":0.8},\"x\":{\"field\":\"Year\"}},\"id\":\"65988\",\"type\":\"VBar\"},{\"attributes\":{\"bottom\":{\"value\":0},\"fill_alpha\":{\"value\":1.0},\"fill_color\":{\"value\":\"Green\"},\"hatch_alpha\":{\"value\":1.0},\"hatch_color\":{\"value\":\"black\"},\"hatch_scale\":{\"value\":12.0},\"hatch_weight\":{\"value\":1.0},\"line_alpha\":{\"value\":1.0},\"line_cap\":{\"value\":\"butt\"},\"line_color\":{\"value\":\"black\"},\"line_dash\":{\"value\":[]},\"line_dash_offset\":{\"value\":0},\"line_join\":{\"value\":\"bevel\"},\"line_width\":{\"value\":1},\"top\":{\"field\":\"TOTAL\"},\"width\":{\"value\":0.8},\"x\":{\"field\":\"Year\"}},\"id\":\"65421\",\"type\":\"VBar\"},{\"attributes\":{\"data_source\":{\"id\":\"65983\"},\"glyph\":{\"id\":\"65986\"},\"hover_glyph\":null,\"muted_glyph\":{\"id\":\"65988\"},\"nonselection_glyph\":{\"id\":\"65987\"},\"selection_glyph\":{\"id\":\"65991\"},\"view\":{\"id\":\"65990\"}},\"id\":\"65989\",\"type\":\"GlyphRenderer\"},{\"attributes\":{},\"id\":\"65423\",\"type\":\"CategoricalTickFormatter\"},{\"attributes\":{\"data_source\":{\"id\":\"66503\"},\"glyph\":{\"id\":\"66506\"},\"hover_glyph\":null,\"muted_glyph\":{\"id\":\"66508\"},\"nonselection_glyph\":{\"id\":\"66507\"},\"selection_glyph\":{\"id\":\"66511\"},\"view\":{\"id\":\"66510\"}},\"id\":\"66509\",\"type\":\"GlyphRenderer\"},{\"attributes\":{},\"id\":\"65993\",\"type\":\"CategoricalTickFormatter\"},{\"attributes\":{\"below\":[{\"id\":\"67055\"}],\"center\":[{\"id\":\"67058\"},{\"id\":\"67062\"}],\"height\":500,\"left\":[{\"id\":\"67059\"}],\"margin\":[5,5,5,5],\"min_border_bottom\":10,\"min_border_left\":10,\"min_border_right\":10,\"min_border_top\":10,\"renderers\":[{\"id\":\"67088\"},{\"id\":\"67109\"},{\"id\":\"67131\"}],\"right\":[{\"id\":\"67100\"}],\"sizing_mode\":\"fixed\",\"title\":{\"id\":\"67047\"},\"toolbar\":{\"id\":\"67069\"},\"width\":900,\"x_range\":{\"id\":\"67041\"},\"x_scale\":{\"id\":\"67051\"},\"y_range\":{\"id\":\"67042\"},\"y_scale\":{\"id\":\"67053\"}},\"id\":\"67046\",\"subtype\":\"Figure\",\"type\":\"Plot\"},{\"attributes\":{\"bottom\":{\"value\":0},\"fill_alpha\":{\"value\":1.0},\"fill_color\":{\"value\":\"Green\"},\"hatch_alpha\":{\"value\":1.0},\"hatch_color\":{\"value\":\"black\"},\"hatch_scale\":{\"value\":12.0},\"hatch_weight\":{\"value\":1.0},\"line_alpha\":{\"value\":1.0},\"line_cap\":{\"value\":\"butt\"},\"line_color\":{\"value\":\"black\"},\"line_dash\":{\"value\":[]},\"line_dash_offset\":{\"value\":0},\"line_join\":{\"value\":\"bevel\"},\"line_width\":{\"value\":1},\"top\":{\"field\":\"TOTAL\"},\"width\":{\"value\":0.8},\"x\":{\"field\":\"Year\"}},\"id\":\"65991\",\"type\":\"VBar\"},{\"attributes\":{\"active_multi\":null,\"tools\":[{\"id\":\"67043\"},{\"id\":\"67063\"},{\"id\":\"67064\"},{\"id\":\"67065\"},{\"id\":\"67066\"},{\"id\":\"67067\"}]},\"id\":\"67069\",\"type\":\"Toolbar\"},{\"attributes\":{\"format\":\"%.0f\"},\"id\":\"65422\",\"type\":\"PrintfTickFormatter\"},{\"attributes\":{\"children\":[{\"id\":\"65573\"},{\"id\":\"65571\"}]},\"id\":\"65574\",\"type\":\"Column\"},{\"attributes\":{\"source\":{\"id\":\"65983\"}},\"id\":\"65990\",\"type\":\"CDSView\"},{\"attributes\":{\"below\":[{\"id\":\"66013\"}],\"center\":[{\"id\":\"66015\"},{\"id\":\"66019\"}],\"height\":500,\"left\":[{\"id\":\"66016\"}],\"margin\":null,\"min_border_bottom\":10,\"min_border_left\":10,\"min_border_right\":10,\"min_border_top\":10,\"renderers\":[{\"id\":\"66039\"}],\"sizing_mode\":\"fixed\",\"title\":{\"id\":\"66005\"},\"toolbar\":{\"id\":\"66026\"},\"toolbar_location\":null,\"width\":900,\"x_range\":{\"id\":\"66001\"},\"x_scale\":{\"id\":\"66009\"},\"y_range\":{\"id\":\"66002\"},\"y_scale\":{\"id\":\"66011\"}},\"id\":\"66004\",\"subtype\":\"Figure\",\"type\":\"Plot\"},{\"attributes\":{},\"id\":\"65424\",\"type\":\"AllLabels\"},{\"attributes\":{},\"id\":\"66517\",\"type\":\"AllLabels\"},{\"attributes\":{},\"id\":\"65427\",\"type\":\"AllLabels\"},{\"attributes\":{\"fill_alpha\":{\"value\":0.1},\"fill_color\":{\"value\":\"Orange\"},\"line_alpha\":{\"value\":0.1},\"top\":{\"field\":\"TOTAL\"},\"width\":{\"value\":0.8},\"x\":{\"field\":\"Year\"}},\"id\":\"66507\",\"type\":\"VBar\"},{\"attributes\":{\"axis\":{\"id\":\"66016\"},\"dimension\":1,\"grid_line_color\":null,\"ticker\":null},\"id\":\"66019\",\"type\":\"Grid\"},{\"attributes\":{\"bottom_units\":\"screen\",\"fill_alpha\":0.5,\"fill_color\":\"lightgrey\",\"left_units\":\"screen\",\"level\":\"overlay\",\"line_alpha\":1.0,\"line_color\":\"black\",\"line_dash\":[4,4],\"line_width\":2,\"right_units\":\"screen\",\"syncable\":false,\"top_units\":\"screen\"},\"id\":\"64365\",\"type\":\"BoxAnnotation\"},{\"attributes\":{\"bottom_units\":\"screen\",\"fill_alpha\":0.5,\"fill_color\":\"lightgrey\",\"left_units\":\"screen\",\"level\":\"overlay\",\"line_alpha\":1.0,\"line_color\":\"black\",\"line_dash\":[4,4],\"line_width\":2,\"right_units\":\"screen\",\"syncable\":false,\"top_units\":\"screen\"},\"id\":\"64785\",\"type\":\"BoxAnnotation\"},{\"attributes\":{},\"id\":\"66504\",\"type\":\"Selection\"},{\"attributes\":{\"below\":[{\"id\":\"66633\"}],\"center\":[{\"id\":\"66635\"},{\"id\":\"66639\"}],\"height\":500,\"left\":[{\"id\":\"66636\"}],\"margin\":null,\"min_border_bottom\":10,\"min_border_left\":10,\"min_border_right\":10,\"min_border_top\":10,\"renderers\":[{\"id\":\"66659\"}],\"sizing_mode\":\"fixed\",\"title\":{\"id\":\"66625\"},\"toolbar\":{\"id\":\"66646\"},\"toolbar_location\":null,\"width\":900,\"x_range\":{\"id\":\"66621\"},\"x_scale\":{\"id\":\"66629\"},\"y_range\":{\"id\":\"66622\"},\"y_scale\":{\"id\":\"66631\"}},\"id\":\"66624\",\"subtype\":\"Figure\",\"type\":\"Plot\"},{\"attributes\":{},\"id\":\"65444\",\"type\":\"CategoricalTicker\"},{\"attributes\":{\"data_source\":{\"id\":\"65463\"},\"glyph\":{\"id\":\"65466\"},\"hover_glyph\":null,\"muted_glyph\":{\"id\":\"65468\"},\"nonselection_glyph\":{\"id\":\"65467\"},\"selection_glyph\":{\"id\":\"65471\"},\"view\":{\"id\":\"65470\"}},\"id\":\"65469\",\"type\":\"GlyphRenderer\"},{\"attributes\":{},\"id\":\"65500\",\"type\":\"SaveTool\"},{\"attributes\":{\"text\":\"Delta Airlines Available Seat-Miles - All Airports\",\"text_color\":\"black\",\"text_font_size\":\"12pt\"},\"id\":\"65955\",\"type\":\"Title\"},{\"attributes\":{},\"id\":\"66629\",\"type\":\"CategoricalScale\"},{\"attributes\":{\"axis_label\":\"Year\",\"formatter\":{\"id\":\"65473\"},\"major_label_policy\":{\"id\":\"65474\"},\"ticker\":{\"id\":\"65444\"}},\"id\":\"65443\",\"type\":\"CategoricalAxis\"},{\"attributes\":{},\"id\":\"65441\",\"type\":\"LinearScale\"},{\"attributes\":{},\"id\":\"65944\",\"type\":\"AllLabels\"},{\"attributes\":{},\"id\":\"65964\",\"type\":\"CategoricalTicker\"},{\"attributes\":{\"source\":{\"id\":\"66553\"}},\"id\":\"66560\",\"type\":\"CDSView\"},{\"attributes\":{\"bottom_units\":\"screen\",\"fill_alpha\":0.5,\"fill_color\":\"lightgrey\",\"left_units\":\"screen\",\"level\":\"overlay\",\"line_alpha\":1.0,\"line_color\":\"black\",\"line_dash\":[4,4],\"line_width\":2,\"right_units\":\"screen\",\"syncable\":false,\"top_units\":\"screen\"},\"id\":\"66595\",\"type\":\"BoxAnnotation\"},{\"attributes\":{\"fill_alpha\":{\"value\":0.2},\"fill_color\":{\"value\":\"Green\"},\"line_alpha\":{\"value\":0.2},\"top\":{\"field\":\"TOTAL\"},\"width\":{\"value\":0.8},\"x\":{\"field\":\"Year\"}},\"id\":\"66558\",\"type\":\"VBar\"},{\"attributes\":{\"click_policy\":\"mute\",\"items\":[{\"id\":\"67101\"},{\"id\":\"67123\"},{\"id\":\"67147\"}],\"location\":[0,0],\"title\":\"Variable\"},\"id\":\"67100\",\"type\":\"Legend\"},{\"attributes\":{},\"id\":\"65464\",\"type\":\"Selection\"},{\"attributes\":{\"axis\":{\"id\":\"66533\"},\"grid_line_color\":null,\"ticker\":null},\"id\":\"66535\",\"type\":\"Grid\"},{\"attributes\":{},\"id\":\"65497\",\"type\":\"BasicTicker\"},{\"attributes\":{\"axis\":{\"id\":\"65443\"},\"grid_line_color\":null,\"ticker\":null},\"id\":\"65445\",\"type\":\"Grid\"},{\"attributes\":{},\"id\":\"65959\",\"type\":\"CategoricalScale\"},{\"attributes\":{},\"id\":\"67104\",\"type\":\"Selection\"},{\"attributes\":{\"fill_alpha\":{\"value\":0.1},\"fill_color\":{\"value\":\"Blue\"},\"line_alpha\":{\"value\":0.1},\"top\":{\"field\":\"TOTAL\"},\"width\":{\"value\":0.8},\"x\":{\"field\":\"Year\"}},\"id\":\"65467\",\"type\":\"VBar\"},{\"attributes\":{\"fill_color\":{\"value\":\"Blue\"},\"top\":{\"field\":\"TOTAL\"},\"width\":{\"value\":0.8},\"x\":{\"field\":\"Year\"}},\"id\":\"65466\",\"type\":\"VBar\"},{\"attributes\":{\"axis\":{\"id\":\"65496\"},\"dimension\":1,\"grid_line_color\":null,\"ticker\":null},\"id\":\"65499\",\"type\":\"Grid\"},{\"attributes\":{\"bottom\":{\"value\":0},\"fill_alpha\":{\"value\":1.0},\"fill_color\":{\"value\":\"Red\"},\"hatch_alpha\":{\"value\":1.0},\"hatch_color\":{\"value\":\"black\"},\"hatch_scale\":{\"value\":12.0},\"hatch_weight\":{\"value\":1.0},\"line_alpha\":{\"value\":1.0},\"line_cap\":{\"value\":\"butt\"},\"line_color\":{\"value\":\"black\"},\"line_dash\":{\"value\":[]},\"line_dash_offset\":{\"value\":0},\"line_join\":{\"value\":\"bevel\"},\"line_width\":{\"value\":1},\"top\":{\"field\":\"TOTAL\"},\"width\":{\"value\":0.8},\"x\":{\"field\":\"Year\"}},\"id\":\"65521\",\"type\":\"VBar\"},{\"attributes\":{\"fill_color\":{\"value\":\"Green\"},\"top\":{\"field\":\"TOTAL\"},\"width\":{\"value\":0.8},\"x\":{\"field\":\"Year\"}},\"id\":\"66556\",\"type\":\"VBar\"},{\"attributes\":{\"axis_label\":\"(The number of passengers and the distance flown in thousands (000)) \",\"formatter\":{\"id\":\"65522\"},\"major_label_policy\":{\"id\":\"65527\"},\"ticker\":{\"id\":\"65497\"}},\"id\":\"65496\",\"type\":\"LinearAxis\"},{\"attributes\":{\"children\":[{\"id\":\"66713\"},{\"id\":\"66711\"}]},\"id\":\"66714\",\"type\":\"Column\"},{\"attributes\":{\"text\":\"United Airlines Load Factor - All Airports\",\"text_color\":\"black\",\"text_font_size\":\"12pt\"},\"id\":\"66625\",\"type\":\"Title\"},{\"attributes\":{\"bottom_units\":\"screen\",\"fill_alpha\":0.5,\"fill_color\":\"lightgrey\",\"left_units\":\"screen\",\"level\":\"overlay\",\"line_alpha\":1.0,\"line_color\":\"black\",\"line_dash\":[4,4],\"line_width\":2,\"right_units\":\"screen\",\"syncable\":false,\"top_units\":\"screen\"},\"id\":\"65505\",\"type\":\"BoxAnnotation\"},{\"attributes\":{\"line_alpha\":0.1,\"line_color\":\"#fc4f30\",\"line_width\":2,\"x\":{\"field\":\"Year\"},\"y\":{\"field\":\"value\"}},\"id\":\"67107\",\"type\":\"Line\"},{\"attributes\":{},\"id\":\"65501\",\"type\":\"PanTool\"},{\"attributes\":{\"overlay\":{\"id\":\"66075\"}},\"id\":\"66073\",\"type\":\"BoxZoomTool\"},{\"attributes\":{\"data_source\":{\"id\":\"67125\"},\"glyph\":{\"id\":\"67128\"},\"hover_glyph\":null,\"muted_glyph\":{\"id\":\"67130\"},\"nonselection_glyph\":{\"id\":\"67129\"},\"selection_glyph\":{\"id\":\"67148\"},\"view\":{\"id\":\"67132\"}},\"id\":\"67131\",\"type\":\"GlyphRenderer\"},{\"attributes\":{},\"id\":\"66534\",\"type\":\"CategoricalTicker\"},{\"attributes\":{\"overlay\":{\"id\":\"65505\"}},\"id\":\"65503\",\"type\":\"BoxZoomTool\"},{\"attributes\":{},\"id\":\"65947\",\"type\":\"AllLabels\"},{\"attributes\":{\"child\":{\"id\":\"66470\"},\"name\":\"Row78585\",\"title\":\"Load Factor\"},\"id\":\"67039\",\"type\":\"Panel\"},{\"attributes\":{},\"id\":\"66529\",\"type\":\"CategoricalScale\"},{\"attributes\":{},\"id\":\"65504\",\"type\":\"ResetTool\"},{\"attributes\":{\"axis_label\":\"(passenger-miles as a proportion of available seat-miles in percent (%))\",\"formatter\":{\"id\":\"66662\"},\"major_label_policy\":{\"id\":\"66667\"},\"ticker\":{\"id\":\"66637\"}},\"id\":\"66636\",\"type\":\"LinearAxis\"},{\"attributes\":{},\"id\":\"65502\",\"type\":\"WheelZoomTool\"},{\"attributes\":{\"callback\":null,\"renderers\":[{\"id\":\"65989\"}],\"tags\":[\"hv_created\"],\"tooltips\":[[\"Year\",\"@{Year}\"],[\"TOTAL\",\"@{TOTAL}\"]]},\"id\":\"65953\",\"type\":\"HoverTool\"},{\"attributes\":{\"format\":\"%.0f\"},\"id\":\"65942\",\"type\":\"PrintfTickFormatter\"},{\"attributes\":{},\"id\":\"65439\",\"type\":\"CategoricalScale\"},{\"attributes\":{\"bottom\":{\"value\":0},\"fill_alpha\":{\"value\":1.0},\"fill_color\":{\"value\":\"Blue\"},\"hatch_alpha\":{\"value\":1.0},\"hatch_color\":{\"value\":\"black\"},\"hatch_scale\":{\"value\":12.0},\"hatch_weight\":{\"value\":1.0},\"line_alpha\":{\"value\":1.0},\"line_cap\":{\"value\":\"butt\"},\"line_color\":{\"value\":\"black\"},\"line_dash\":{\"value\":[]},\"line_dash_offset\":{\"value\":0},\"line_join\":{\"value\":\"bevel\"},\"line_width\":{\"value\":1},\"top\":{\"field\":\"TOTAL\"},\"width\":{\"value\":0.8},\"x\":{\"field\":\"Year\"}},\"id\":\"65471\",\"type\":\"VBar\"},{\"attributes\":{},\"id\":\"66634\",\"type\":\"CategoricalTicker\"},{\"attributes\":{},\"id\":\"66631\",\"type\":\"LinearScale\"},{\"attributes\":{\"bottom_units\":\"screen\",\"fill_alpha\":0.5,\"fill_color\":\"lightgrey\",\"left_units\":\"screen\",\"level\":\"overlay\",\"line_alpha\":1.0,\"line_color\":\"black\",\"line_dash\":[4,4],\"line_width\":2,\"right_units\":\"screen\",\"syncable\":false,\"top_units\":\"screen\"},\"id\":\"66545\",\"type\":\"BoxAnnotation\"},{\"attributes\":{},\"id\":\"66564\",\"type\":\"AllLabels\"},{\"attributes\":{\"source\":{\"id\":\"65463\"}},\"id\":\"65470\",\"type\":\"CDSView\"},{\"attributes\":{},\"id\":\"66708\",\"type\":\"UnionRenderers\"},{\"attributes\":{\"factors\":[\"2002\",\"2003\",\"2004\",\"2005\",\"2006\",\"2007\",\"2008\",\"2009\",\"2010\",\"2011\",\"2012\",\"2013\",\"2014\",\"2015\",\"2016\",\"2017\",\"2018\",\"2019\",\"2020\",\"2021\"],\"tags\":[[[\"Year\",\"Year\",null]]]},\"id\":\"65951\",\"type\":\"FactorRange\"},{\"attributes\":{\"callback\":null,\"renderers\":[{\"id\":\"66559\"}],\"tags\":[\"hv_created\"],\"tooltips\":[[\"Year\",\"@{Year}\"],[\"TOTAL\",\"@{TOTAL}\"]]},\"id\":\"66523\",\"type\":\"HoverTool\"},{\"attributes\":{\"source\":{\"id\":\"67082\"}},\"id\":\"67089\",\"type\":\"CDSView\"},{\"attributes\":{},\"id\":\"66591\",\"type\":\"PanTool\"},{\"attributes\":{\"label\":{\"value\":\"United Airlines Total\"},\"renderers\":[{\"id\":\"67131\"}]},\"id\":\"67147\",\"type\":\"LegendItem\"},{\"attributes\":{\"active_multi\":null,\"tools\":[{\"id\":\"66523\"},{\"id\":\"66540\"},{\"id\":\"66541\"},{\"id\":\"66542\"},{\"id\":\"66543\"},{\"id\":\"66544\"}]},\"id\":\"66546\",\"type\":\"Toolbar\"},{\"attributes\":{},\"id\":\"66637\",\"type\":\"BasicTicker\"},{\"attributes\":{\"text\":\"Delta Airlines Load Factor - All Airports\",\"text_color\":\"black\",\"text_font_size\":\"12pt\"},\"id\":\"66525\",\"type\":\"Title\"},{\"attributes\":{\"format\":\"%.0f\"},\"id\":\"66562\",\"type\":\"PrintfTickFormatter\"},{\"attributes\":{\"axis\":{\"id\":\"65963\"},\"grid_line_color\":null,\"ticker\":null},\"id\":\"65965\",\"type\":\"Grid\"},{\"attributes\":{\"fill_alpha\":{\"value\":0.1},\"fill_color\":{\"value\":\"Green\"},\"line_alpha\":{\"value\":0.1},\"top\":{\"field\":\"TOTAL\"},\"width\":{\"value\":0.8},\"x\":{\"field\":\"Year\"}},\"id\":\"66557\",\"type\":\"VBar\"},{\"attributes\":{},\"id\":\"66567\",\"type\":\"AllLabels\"},{\"attributes\":{},\"id\":\"65473\",\"type\":\"CategoricalTickFormatter\"},{\"attributes\":{},\"id\":\"66563\",\"type\":\"CategoricalTickFormatter\"},{\"attributes\":{\"active_multi\":null,\"tools\":[{\"id\":\"66573\"},{\"id\":\"66590\"},{\"id\":\"66591\"},{\"id\":\"66592\"},{\"id\":\"66593\"},{\"id\":\"66594\"}]},\"id\":\"66596\",\"type\":\"Toolbar\"},{\"attributes\":{\"text\":\"United Airlines Carriers Airlines Revenue Passenger-Miles - All Airports\",\"text_color\":\"black\",\"text_font_size\":\"12pt\"},\"id\":\"65485\",\"type\":\"Title\"},{\"attributes\":{},\"id\":\"66554\",\"type\":\"Selection\"},{\"attributes\":{\"data\":{\"TOTAL\":{\"__ndarray__\":\"uB6F61F4UEBSuB6F67FQQI/C9ShcX1FAXI/C9SisUUAzMzMzM0NSQIXrUbgeJVJACtejcD3KUUCuR+F6FP5SQMP1KFyP0lNA4XoUrkcxVEBcj8L1KBxUQNejcD0KB1RA4XoUrkehVEBI4XoUrudUQFK4HoXrAVVAmpmZmZn5VEDsUbgehdtUQOF6FK5H4VRAFK5H4Xo0SkDsUbgehRtQQA==\",\"dtype\":\"float64\",\"order\":\"little\",\"shape\":[20]},\"Year\":[\"2002\",\"2003\",\"2004\",\"2005\",\"2006\",\"2007\",\"2008\",\"2009\",\"2010\",\"2011\",\"2012\",\"2013\",\"2014\",\"2015\",\"2016\",\"2017\",\"2018\",\"2019\",\"2020\",\"2021\"]},\"selected\":{\"id\":\"66604\"},\"selection_policy\":{\"id\":\"66698\"}},\"id\":\"66603\",\"type\":\"ColumnDataSource\"},{\"attributes\":{},\"id\":\"65972\",\"type\":\"WheelZoomTool\"},{\"attributes\":{\"below\":[{\"id\":\"65963\"}],\"center\":[{\"id\":\"65965\"},{\"id\":\"65969\"}],\"height\":500,\"left\":[{\"id\":\"65966\"}],\"margin\":null,\"min_border_bottom\":10,\"min_border_left\":10,\"min_border_right\":10,\"min_border_top\":10,\"renderers\":[{\"id\":\"65989\"}],\"sizing_mode\":\"fixed\",\"title\":{\"id\":\"65955\"},\"toolbar\":{\"id\":\"65976\"},\"toolbar_location\":null,\"width\":900,\"x_range\":{\"id\":\"65951\"},\"x_scale\":{\"id\":\"65959\"},\"y_range\":{\"id\":\"65952\"},\"y_scale\":{\"id\":\"65961\"}},\"id\":\"65954\",\"subtype\":\"Figure\",\"type\":\"Plot\"},{\"attributes\":{},\"id\":\"64884\",\"type\":\"ResetTool\"},{\"attributes\":{},\"id\":\"65971\",\"type\":\"PanTool\"},{\"attributes\":{\"data_source\":{\"id\":\"66553\"},\"glyph\":{\"id\":\"66556\"},\"hover_glyph\":null,\"muted_glyph\":{\"id\":\"66558\"},\"nonselection_glyph\":{\"id\":\"66557\"},\"selection_glyph\":{\"id\":\"66561\"},\"view\":{\"id\":\"66560\"}},\"id\":\"66559\",\"type\":\"GlyphRenderer\"},{\"attributes\":{\"text\":\"Southwest Airlines Load Factor - All Airports\",\"text_color\":\"black\",\"text_font_size\":\"12pt\"},\"id\":\"66575\",\"type\":\"Title\"},{\"attributes\":{\"axis_label\":\"Year\",\"formatter\":{\"id\":\"66613\"},\"major_label_policy\":{\"id\":\"66614\"},\"ticker\":{\"id\":\"66584\"}},\"id\":\"66583\",\"type\":\"CategoricalAxis\"},{\"attributes\":{\"end\":272081285.0,\"reset_end\":272081285.0,\"reset_start\":0.0,\"tags\":[[[\"TOTAL\",\"TOTAL\",null]]]},\"id\":\"65952\",\"type\":\"Range1d\"},{\"attributes\":{\"data\":{\"TOTAL\":[106838550,101523163,111963229,111327267,114698868,115331969,108144924,98355139,100387152,97788957,177209281,176387984,177553107,182306929,185186545,192834252,204686012,212940806,62342826,9706129],\"Year\":[\"2002\",\"2003\",\"2004\",\"2005\",\"2006\",\"2007\",\"2008\",\"2009\",\"2010\",\"2011\",\"2012\",\"2013\",\"2014\",\"2015\",\"2016\",\"2017\",\"2018\",\"2019\",\"2020\",\"2021\"]},\"selected\":{\"id\":\"65514\"},\"selection_policy\":{\"id\":\"65568\"}},\"id\":\"65513\",\"type\":\"ColumnDataSource\"},{\"attributes\":{\"data\":{\"TOTAL\":[130683293,119228188,128700858,132279165,124019658,126619867,127645988,121409126,195540168,197587150,194760146,198758823,207222868,217078181,222588250,226587630,237061948,249694906,119626551,25831116],\"Year\":[\"2002\",\"2003\",\"2004\",\"2005\",\"2006\",\"2007\",\"2008\",\"2009\",\"2010\",\"2011\",\"2012\",\"2013\",\"2014\",\"2015\",\"2016\",\"2017\",\"2018\",\"2019\",\"2020\",\"2021\"]},\"selected\":{\"id\":\"65984\"},\"selection_policy\":{\"id\":\"66118\"}},\"id\":\"65983\",\"type\":\"ColumnDataSource\"},{\"attributes\":{\"below\":[{\"id\":\"66583\"}],\"center\":[{\"id\":\"66585\"},{\"id\":\"66589\"}],\"height\":500,\"left\":[{\"id\":\"66586\"}],\"margin\":null,\"min_border_bottom\":10,\"min_border_left\":10,\"min_border_right\":10,\"min_border_top\":10,\"renderers\":[{\"id\":\"66609\"}],\"sizing_mode\":\"fixed\",\"title\":{\"id\":\"66575\"},\"toolbar\":{\"id\":\"66596\"},\"toolbar_location\":null,\"width\":900,\"x_range\":{\"id\":\"66571\"},\"x_scale\":{\"id\":\"66579\"},\"y_range\":{\"id\":\"66572\"},\"y_scale\":{\"id\":\"66581\"}},\"id\":\"66574\",\"subtype\":\"Figure\",\"type\":\"Plot\"},{\"attributes\":{\"overlay\":{\"id\":\"65975\"}},\"id\":\"65973\",\"type\":\"BoxZoomTool\"},{\"attributes\":{\"axis_label\":\"Year\",\"formatter\":{\"id\":\"66663\"},\"major_label_policy\":{\"id\":\"66664\"},\"ticker\":{\"id\":\"66634\"}},\"id\":\"66633\",\"type\":\"CategoricalAxis\"},{\"attributes\":{},\"id\":\"65967\",\"type\":\"BasicTicker\"},{\"attributes\":{},\"id\":\"65974\",\"type\":\"ResetTool\"},{\"attributes\":{},\"id\":\"66579\",\"type\":\"CategoricalScale\"},{\"attributes\":{\"factors\":[\"2002\",\"2003\",\"2004\",\"2005\",\"2006\",\"2007\",\"2008\",\"2009\",\"2010\",\"2011\",\"2012\",\"2013\",\"2014\",\"2015\",\"2016\",\"2017\",\"2018\",\"2019\",\"2020\",\"2021\"],\"tags\":[[[\"Year\",\"Year\",null]]]},\"id\":\"66571\",\"type\":\"FactorRange\"},{\"attributes\":{},\"id\":\"65970\",\"type\":\"SaveTool\"},{\"attributes\":{\"end\":87.19200000000001,\"reset_end\":87.19200000000001,\"reset_start\":0.0,\"tags\":[[[\"TOTAL\",\"TOTAL\",null]]]},\"id\":\"66572\",\"type\":\"Range1d\"},{\"attributes\":{\"axis\":{\"id\":\"66583\"},\"grid_line_color\":null,\"ticker\":null},\"id\":\"66585\",\"type\":\"Grid\"},{\"attributes\":{\"active_multi\":null,\"tools\":[{\"id\":\"65953\"},{\"id\":\"65970\"},{\"id\":\"65971\"},{\"id\":\"65972\"},{\"id\":\"65973\"},{\"id\":\"65974\"}]},\"id\":\"65976\",\"type\":\"Toolbar\"},{\"attributes\":{\"active_multi\":null,\"tools\":[{\"id\":\"65483\"},{\"id\":\"65500\"},{\"id\":\"65501\"},{\"id\":\"65502\"},{\"id\":\"65503\"},{\"id\":\"65504\"}]},\"id\":\"65506\",\"type\":\"Toolbar\"},{\"attributes\":{\"bottom\":{\"value\":0},\"fill_alpha\":{\"value\":1.0},\"fill_color\":{\"value\":\"Green\"},\"hatch_alpha\":{\"value\":1.0},\"hatch_color\":{\"value\":\"black\"},\"hatch_scale\":{\"value\":12.0},\"hatch_weight\":{\"value\":1.0},\"line_alpha\":{\"value\":1.0},\"line_cap\":{\"value\":\"butt\"},\"line_color\":{\"value\":\"black\"},\"line_dash\":{\"value\":[]},\"line_dash_offset\":{\"value\":0},\"line_join\":{\"value\":\"bevel\"},\"line_width\":{\"value\":1},\"top\":{\"field\":\"TOTAL\"},\"width\":{\"value\":0.8},\"x\":{\"field\":\"Year\"}},\"id\":\"66561\",\"type\":\"VBar\"},{\"attributes\":{\"axis\":{\"id\":\"65493\"},\"grid_line_color\":null,\"ticker\":null},\"id\":\"65495\",\"type\":\"Grid\"},{\"attributes\":{\"axis\":{\"id\":\"65966\"},\"dimension\":1,\"grid_line_color\":null,\"ticker\":null},\"id\":\"65969\",\"type\":\"Grid\"},{\"attributes\":{},\"id\":\"66584\",\"type\":\"CategoricalTicker\"},{\"attributes\":{\"axis_label\":\"(passenger-miles as a proportion of available seat-miles in percent (%)) \",\"formatter\":{\"id\":\"66612\"},\"major_label_policy\":{\"id\":\"66617\"},\"ticker\":{\"id\":\"66587\"}},\"id\":\"66586\",\"type\":\"LinearAxis\"},{\"attributes\":{\"fill_alpha\":{\"value\":0.2},\"fill_color\":{\"value\":\"Blue\"},\"line_alpha\":{\"value\":0.2},\"top\":{\"field\":\"TOTAL\"},\"width\":{\"value\":0.8},\"x\":{\"field\":\"Year\"}},\"id\":\"65468\",\"type\":\"VBar\"},{\"attributes\":{\"axis_label\":\"Year\",\"formatter\":{\"id\":\"65993\"},\"major_label_policy\":{\"id\":\"65994\"},\"ticker\":{\"id\":\"65964\"}},\"id\":\"65963\",\"type\":\"CategoricalAxis\"},{\"attributes\":{\"source\":{\"id\":\"67125\"}},\"id\":\"67132\",\"type\":\"CDSView\"},{\"attributes\":{},\"id\":\"65961\",\"type\":\"LinearScale\"},{\"attributes\":{},\"id\":\"66542\",\"type\":\"WheelZoomTool\"},{\"attributes\":{\"axis_label\":\"(the number of seats and the distance flown in thousands (000)) \",\"formatter\":{\"id\":\"65992\"},\"major_label_policy\":{\"id\":\"65997\"},\"ticker\":{\"id\":\"65967\"}},\"id\":\"65966\",\"type\":\"LinearAxis\"},{\"attributes\":{\"overlay\":{\"id\":\"66545\"}},\"id\":\"66543\",\"type\":\"BoxZoomTool\"},{\"attributes\":{},\"id\":\"66544\",\"type\":\"ResetTool\"},{\"attributes\":{},\"id\":\"66590\",\"type\":\"SaveTool\"},{\"attributes\":{\"callback\":null,\"renderers\":[{\"id\":\"66609\"}],\"tags\":[\"hv_created\"],\"tooltips\":[[\"Year\",\"@{Year}\"],[\"TOTAL\",\"@{TOTAL}\"]]},\"id\":\"66573\",\"type\":\"HoverTool\"},{\"attributes\":{\"overlay\":{\"id\":\"66595\"}},\"id\":\"66593\",\"type\":\"BoxZoomTool\"},{\"attributes\":{},\"id\":\"66540\",\"type\":\"SaveTool\"},{\"attributes\":{\"label\":{\"value\":\"Southwest Airlines Total\"},\"renderers\":[{\"id\":\"67109\"}]},\"id\":\"67123\",\"type\":\"LegendItem\"},{\"attributes\":{\"axis\":{\"id\":\"66536\"},\"dimension\":1,\"grid_line_color\":null,\"ticker\":null},\"id\":\"66539\",\"type\":\"Grid\"},{\"attributes\":{\"axis\":{\"id\":\"66586\"},\"dimension\":1,\"grid_line_color\":null,\"ticker\":null},\"id\":\"66589\",\"type\":\"Grid\"},{\"attributes\":{\"axis_label\":\"(passenger-miles as a proportion of available seat-miles in percent (%))\",\"formatter\":{\"id\":\"66562\"},\"major_label_policy\":{\"id\":\"66567\"},\"ticker\":{\"id\":\"66537\"}},\"id\":\"66536\",\"type\":\"LinearAxis\"},{\"attributes\":{},\"id\":\"66587\",\"type\":\"BasicTicker\"},{\"attributes\":{\"axis\":{\"id\":\"66633\"},\"grid_line_color\":null,\"ticker\":null},\"id\":\"66635\",\"type\":\"Grid\"},{\"attributes\":{},\"id\":\"66537\",\"type\":\"BasicTicker\"},{\"attributes\":{},\"id\":\"66592\",\"type\":\"WheelZoomTool\"},{\"attributes\":{},\"id\":\"66541\",\"type\":\"PanTool\"},{\"attributes\":{\"label\":{\"value\":\"Delta Airlines Total\"},\"renderers\":[{\"id\":\"67088\"}]},\"id\":\"67101\",\"type\":\"LegendItem\"},{\"attributes\":{},\"id\":\"66594\",\"type\":\"ResetTool\"},{\"attributes\":{\"axis_label\":\"Year\",\"formatter\":{\"id\":\"66563\"},\"major_label_policy\":{\"id\":\"66564\"},\"ticker\":{\"id\":\"66534\"}},\"id\":\"66533\",\"type\":\"CategoricalAxis\"},{\"attributes\":{},\"id\":\"66581\",\"type\":\"LinearScale\"},{\"attributes\":{},\"id\":\"67065\",\"type\":\"WheelZoomTool\"},{\"attributes\":{},\"id\":\"66531\",\"type\":\"LinearScale\"},{\"attributes\":{},\"id\":\"67051\",\"type\":\"LinearScale\"},{\"attributes\":{},\"id\":\"64894\",\"type\":\"Selection\"},{\"attributes\":{\"children\":[[{\"id\":\"65904\"},0,0],[{\"id\":\"65954\"},0,1],[{\"id\":\"66004\"},0,2],[{\"id\":\"66054\"},0,3]]},\"id\":\"66141\",\"type\":\"GridBox\"},{\"attributes\":{\"text\":\"All U.S.Carriers Passengers - All Airports\",\"text_color\":\"black\",\"text_font_size\":\"12pt\"},\"id\":\"64195\",\"type\":\"Title\"},{\"attributes\":{\"data\":[{\"branchvalues\":\"total\",\"domain\":{\"x\":[0.0,1.0],\"y\":[0.0,1.0]},\"hovertemplate\":\"labels=%{label}<br>value=%{value}<br>parent=%{parent}<br>id=%{id}<br>hover_data_0=%{customdata[0]}<br>hover_data_1=%{customdata[1]}<br>color=%{color}<extra></extra>\",\"marker\":{\"coloraxis\":\"coloraxis\"},\"name\":\"\",\"type\":\"sunburst\"}],\"data_sources\":[{\"id\":\"67275\"}],\"layout\":{\"coloraxis\":{\"colorbar\":{\"title\":{\"text\":\"color\"}},\"colorscale\":[[0.0,\"rgb(158,1,66)\"],[0.1,\"rgb(213,62,79)\"],[0.2,\"rgb(244,109,67)\"],[0.3,\"rgb(253,174,97)\"],[0.4,\"rgb(254,224,139)\"],[0.5,\"rgb(255,255,191)\"],[0.6,\"rgb(230,245,152)\"],[0.7,\"rgb(171,221,164)\"],[0.8,\"rgb(102,194,165)\"],[0.9,\"rgb(50,136,189)\"],[1.0,\"rgb(94,79,162)\"]]},\"legend\":{\"tracegroupgap\":0},\"template\":{\"data\":{\"bar\":[{\"error_x\":{\"color\":\"#2a3f5f\"},\"error_y\":{\"color\":\"#2a3f5f\"},\"marker\":{\"line\":{\"color\":\"#E5ECF6\",\"width\":0.5}},\"type\":\"bar\"}],\"barpolar\":[{\"marker\":{\"line\":{\"color\":\"#E5ECF6\",\"width\":0.5}},\"type\":\"barpolar\"}],\"carpet\":[{\"aaxis\":{\"endlinecolor\":\"#2a3f5f\",\"gridcolor\":\"white\",\"linecolor\":\"white\",\"minorgridcolor\":\"white\",\"startlinecolor\":\"#2a3f5f\"},\"baxis\":{\"endlinecolor\":\"#2a3f5f\",\"gridcolor\":\"white\",\"linecolor\":\"white\",\"minorgridcolor\":\"white\",\"startlinecolor\":\"#2a3f5f\"},\"type\":\"carpet\"}],\"choropleth\":[{\"colorbar\":{\"outlinewidth\":0,\"ticks\":\"\"},\"type\":\"choropleth\"}],\"contour\":[{\"colorbar\":{\"outlinewidth\":0,\"ticks\":\"\"},\"colorscale\":[[0.0,\"#0d0887\"],[0.1111111111111111,\"#46039f\"],[0.2222222222222222,\"#7201a8\"],[0.3333333333333333,\"#9c179e\"],[0.4444444444444444,\"#bd3786\"],[0.5555555555555556,\"#d8576b\"],[0.6666666666666666,\"#ed7953\"],[0.7777777777777778,\"#fb9f3a\"],[0.8888888888888888,\"#fdca26\"],[1.0,\"#f0f921\"]],\"type\":\"contour\"}],\"contourcarpet\":[{\"colorbar\":{\"outlinewidth\":0,\"ticks\":\"\"},\"type\":\"contourcarpet\"}],\"heatmap\":[{\"colorbar\":{\"outlinewidth\":0,\"ticks\":\"\"},\"colorscale\":[[0.0,\"#0d0887\"],[0.1111111111111111,\"#46039f\"],[0.2222222222222222,\"#7201a8\"],[0.3333333333333333,\"#9c179e\"],[0.4444444444444444,\"#bd3786\"],[0.5555555555555556,\"#d8576b\"],[0.6666666666666666,\"#ed7953\"],[0.7777777777777778,\"#fb9f3a\"],[0.8888888888888888,\"#fdca26\"],[1.0,\"#f0f921\"]],\"type\":\"heatmap\"}],\"heatmapgl\":[{\"colorbar\":{\"outlinewidth\":0,\"ticks\":\"\"},\"colorscale\":[[0.0,\"#0d0887\"],[0.1111111111111111,\"#46039f\"],[0.2222222222222222,\"#7201a8\"],[0.3333333333333333,\"#9c179e\"],[0.4444444444444444,\"#bd3786\"],[0.5555555555555556,\"#d8576b\"],[0.6666666666666666,\"#ed7953\"],[0.7777777777777778,\"#fb9f3a\"],[0.8888888888888888,\"#fdca26\"],[1.0,\"#f0f921\"]],\"type\":\"heatmapgl\"}],\"histogram\":[{\"marker\":{\"colorbar\":{\"outlinewidth\":0,\"ticks\":\"\"}},\"type\":\"histogram\"}],\"histogram2d\":[{\"colorbar\":{\"outlinewidth\":0,\"ticks\":\"\"},\"colorscale\":[[0.0,\"#0d0887\"],[0.1111111111111111,\"#46039f\"],[0.2222222222222222,\"#7201a8\"],[0.3333333333333333,\"#9c179e\"],[0.4444444444444444,\"#bd3786\"],[0.5555555555555556,\"#d8576b\"],[0.6666666666666666,\"#ed7953\"],[0.7777777777777778,\"#fb9f3a\"],[0.8888888888888888,\"#fdca26\"],[1.0,\"#f0f921\"]],\"type\":\"histogram2d\"}],\"histogram2dcontour\":[{\"colorbar\":{\"outlinewidth\":0,\"ticks\":\"\"},\"colorscale\":[[0.0,\"#0d0887\"],[0.1111111111111111,\"#46039f\"],[0.2222222222222222,\"#7201a8\"],[0.3333333333333333,\"#9c179e\"],[0.4444444444444444,\"#bd3786\"],[0.5555555555555556,\"#d8576b\"],[0.6666666666666666,\"#ed7953\"],[0.7777777777777778,\"#fb9f3a\"],[0.8888888888888888,\"#fdca26\"],[1.0,\"#f0f921\"]],\"type\":\"histogram2dcontour\"}],\"mesh3d\":[{\"colorbar\":{\"outlinewidth\":0,\"ticks\":\"\"},\"type\":\"mesh3d\"}],\"parcoords\":[{\"line\":{\"colorbar\":{\"outlinewidth\":0,\"ticks\":\"\"}},\"type\":\"parcoords\"}],\"pie\":[{\"automargin\":true,\"type\":\"pie\"}],\"scatter\":[{\"marker\":{\"colorbar\":{\"outlinewidth\":0,\"ticks\":\"\"}},\"type\":\"scatter\"}],\"scatter3d\":[{\"line\":{\"colorbar\":{\"outlinewidth\":0,\"ticks\":\"\"}},\"marker\":{\"colorbar\":{\"outlinewidth\":0,\"ticks\":\"\"}},\"type\":\"scatter3d\"}],\"scattercarpet\":[{\"marker\":{\"colorbar\":{\"outlinewidth\":0,\"ticks\":\"\"}},\"type\":\"scattercarpet\"}],\"scattergeo\":[{\"marker\":{\"colorbar\":{\"outlinewidth\":0,\"ticks\":\"\"}},\"type\":\"scattergeo\"}],\"scattergl\":[{\"marker\":{\"colorbar\":{\"outlinewidth\":0,\"ticks\":\"\"}},\"type\":\"scattergl\"}],\"scattermapbox\":[{\"marker\":{\"colorbar\":{\"outlinewidth\":0,\"ticks\":\"\"}},\"type\":\"scattermapbox\"}],\"scatterpolar\":[{\"marker\":{\"colorbar\":{\"outlinewidth\":0,\"ticks\":\"\"}},\"type\":\"scatterpolar\"}],\"scatterpolargl\":[{\"marker\":{\"colorbar\":{\"outlinewidth\":0,\"ticks\":\"\"}},\"type\":\"scatterpolargl\"}],\"scatterternary\":[{\"marker\":{\"colorbar\":{\"outlinewidth\":0,\"ticks\":\"\"}},\"type\":\"scatterternary\"}],\"surface\":[{\"colorbar\":{\"outlinewidth\":0,\"ticks\":\"\"},\"colorscale\":[[0.0,\"#0d0887\"],[0.1111111111111111,\"#46039f\"],[0.2222222222222222,\"#7201a8\"],[0.3333333333333333,\"#9c179e\"],[0.4444444444444444,\"#bd3786\"],[0.5555555555555556,\"#d8576b\"],[0.6666666666666666,\"#ed7953\"],[0.7777777777777778,\"#fb9f3a\"],[0.8888888888888888,\"#fdca26\"],[1.0,\"#f0f921\"]],\"type\":\"surface\"}],\"table\":[{\"cells\":{\"fill\":{\"color\":\"#EBF0F8\"},\"line\":{\"color\":\"white\"}},\"header\":{\"fill\":{\"color\":\"#C8D4E3\"},\"line\":{\"color\":\"white\"}},\"type\":\"table\"}]},\"layout\":{\"annotationdefaults\":{\"arrowcolor\":\"#2a3f5f\",\"arrowhead\":0,\"arrowwidth\":1},\"autotypenumbers\":\"strict\",\"coloraxis\":{\"colorbar\":{\"outlinewidth\":0,\"ticks\":\"\"}},\"colorscale\":{\"diverging\":[[0,\"#8e0152\"],[0.1,\"#c51b7d\"],[0.2,\"#de77ae\"],[0.3,\"#f1b6da\"],[0.4,\"#fde0ef\"],[0.5,\"#f7f7f7\"],[0.6,\"#e6f5d0\"],[0.7,\"#b8e186\"],[0.8,\"#7fbc41\"],[0.9,\"#4d9221\"],[1,\"#276419\"]],\"sequential\":[[0.0,\"#0d0887\"],[0.1111111111111111,\"#46039f\"],[0.2222222222222222,\"#7201a8\"],[0.3333333333333333,\"#9c179e\"],[0.4444444444444444,\"#bd3786\"],[0.5555555555555556,\"#d8576b\"],[0.6666666666666666,\"#ed7953\"],[0.7777777777777778,\"#fb9f3a\"],[0.8888888888888888,\"#fdca26\"],[1.0,\"#f0f921\"]],\"sequentialminus\":[[0.0,\"#0d0887\"],[0.1111111111111111,\"#46039f\"],[0.2222222222222222,\"#7201a8\"],[0.3333333333333333,\"#9c179e\"],[0.4444444444444444,\"#bd3786\"],[0.5555555555555556,\"#d8576b\"],[0.6666666666666666,\"#ed7953\"],[0.7777777777777778,\"#fb9f3a\"],[0.8888888888888888,\"#fdca26\"],[1.0,\"#f0f921\"]]},\"colorway\":[\"#636efa\",\"#EF553B\",\"#00cc96\",\"#ab63fa\",\"#FFA15A\",\"#19d3f3\",\"#FF6692\",\"#B6E880\",\"#FF97FF\",\"#FECB52\"],\"font\":{\"color\":\"#2a3f5f\"},\"geo\":{\"bgcolor\":\"white\",\"lakecolor\":\"white\",\"landcolor\":\"#E5ECF6\",\"showlakes\":true,\"showland\":true,\"subunitcolor\":\"white\"},\"hoverlabel\":{\"align\":\"left\"},\"hovermode\":\"closest\",\"mapbox\":{\"style\":\"light\"},\"paper_bgcolor\":\"white\",\"plot_bgcolor\":\"#E5ECF6\",\"polar\":{\"angularaxis\":{\"gridcolor\":\"white\",\"linecolor\":\"white\",\"ticks\":\"\"},\"bgcolor\":\"#E5ECF6\",\"radialaxis\":{\"gridcolor\":\"white\",\"linecolor\":\"white\",\"ticks\":\"\"}},\"scene\":{\"xaxis\":{\"backgroundcolor\":\"#E5ECF6\",\"gridcolor\":\"white\",\"gridwidth\":2,\"linecolor\":\"white\",\"showbackground\":true,\"ticks\":\"\",\"zerolinecolor\":\"white\"},\"yaxis\":{\"backgroundcolor\":\"#E5ECF6\",\"gridcolor\":\"white\",\"gridwidth\":2,\"linecolor\":\"white\",\"showbackground\":true,\"ticks\":\"\",\"zerolinecolor\":\"white\"},\"zaxis\":{\"backgroundcolor\":\"#E5ECF6\",\"gridcolor\":\"white\",\"gridwidth\":2,\"linecolor\":\"white\",\"showbackground\":true,\"ticks\":\"\",\"zerolinecolor\":\"white\"}},\"shapedefaults\":{\"line\":{\"color\":\"#2a3f5f\"}},\"ternary\":{\"aaxis\":{\"gridcolor\":\"white\",\"linecolor\":\"white\",\"ticks\":\"\"},\"baxis\":{\"gridcolor\":\"white\",\"linecolor\":\"white\",\"ticks\":\"\"},\"bgcolor\":\"#E5ECF6\",\"caxis\":{\"gridcolor\":\"white\",\"linecolor\":\"white\",\"ticks\":\"\"}},\"title\":{\"x\":0.05},\"xaxis\":{\"automargin\":true,\"gridcolor\":\"white\",\"linecolor\":\"white\",\"ticks\":\"\",\"title\":{\"standoff\":15},\"zerolinecolor\":\"white\",\"zerolinewidth\":2},\"yaxis\":{\"automargin\":true,\"gridcolor\":\"white\",\"linecolor\":\"white\",\"ticks\":\"\",\"title\":{\"standoff\":15},\"zerolinecolor\":\"white\",\"zerolinewidth\":2}}},\"title\":{\"text\":\"Industry Employment Mix\"}},\"margin\":[5,5,5,5],\"name\":\"Plotly78591\",\"viewport_update_throttle\":200},\"id\":\"67276\",\"type\":\"panel.models.plotly.PlotlyPlot\"},{\"attributes\":{\"data_source\":{\"id\":\"64893\"},\"glyph\":{\"id\":\"64896\"},\"hover_glyph\":null,\"muted_glyph\":{\"id\":\"64898\"},\"nonselection_glyph\":{\"id\":\"64897\"},\"selection_glyph\":{\"id\":\"64901\"},\"view\":{\"id\":\"64900\"}},\"id\":\"64899\",\"type\":\"GlyphRenderer\"},{\"attributes\":{\"fill_color\":{\"value\":\"Blue\"},\"top\":{\"field\":\"TOTAL\"},\"width\":{\"value\":0.8},\"x\":{\"field\":\"Year\"}},\"id\":\"64896\",\"type\":\"VBar\"},{\"attributes\":{\"line_color\":\"#e5ae38\",\"line_width\":2,\"x\":{\"field\":\"Year\"},\"y\":{\"field\":\"value\"}},\"id\":\"67148\",\"type\":\"Line\"},{\"attributes\":{\"source\":{\"id\":\"64893\"}},\"id\":\"64900\",\"type\":\"CDSView\"},{\"attributes\":{\"overlay\":{\"id\":\"67068\"}},\"id\":\"67066\",\"type\":\"BoxZoomTool\"},{\"attributes\":{\"data_source\":{\"id\":\"67082\"},\"glyph\":{\"id\":\"67085\"},\"hover_glyph\":null,\"muted_glyph\":{\"id\":\"67087\"},\"nonselection_glyph\":{\"id\":\"67086\"},\"selection_glyph\":{\"id\":\"67102\"},\"view\":{\"id\":\"67089\"}},\"id\":\"67088\",\"type\":\"GlyphRenderer\"},{\"attributes\":{\"axis\":{\"id\":\"67059\"},\"dimension\":1,\"grid_line_color\":null,\"ticker\":null},\"id\":\"67062\",\"type\":\"Grid\"},{\"attributes\":{\"source\":{\"id\":\"67103\"}},\"id\":\"67110\",\"type\":\"CDSView\"},{\"attributes\":{\"data_source\":{\"id\":\"64223\"},\"glyph\":{\"id\":\"64226\"},\"hover_glyph\":null,\"muted_glyph\":{\"id\":\"64228\"},\"nonselection_glyph\":{\"id\":\"64227\"},\"selection_glyph\":{\"id\":\"64231\"},\"view\":{\"id\":\"64230\"}},\"id\":\"64229\",\"type\":\"GlyphRenderer\"},{\"attributes\":{\"fill_alpha\":{\"value\":0.1},\"fill_color\":{\"value\":\"Blue\"},\"line_alpha\":{\"value\":0.1},\"top\":{\"field\":\"TOTAL\"},\"width\":{\"value\":0.8},\"x\":{\"field\":\"Year\"}},\"id\":\"64897\",\"type\":\"VBar\"},{\"attributes\":{\"axis\":{\"id\":\"67055\"},\"grid_line_color\":null,\"ticker\":null},\"id\":\"67058\",\"type\":\"Grid\"},{\"attributes\":{\"line_alpha\":0.2,\"line_color\":\"#e5ae38\",\"line_width\":2,\"x\":{\"field\":\"Year\"},\"y\":{\"field\":\"value\"}},\"id\":\"67130\",\"type\":\"Line\"},{\"attributes\":{\"active_multi\":null,\"tools\":[{\"id\":\"64863\"},{\"id\":\"64880\"},{\"id\":\"64881\"},{\"id\":\"64882\"},{\"id\":\"64883\"},{\"id\":\"64884\"}]},\"id\":\"64886\",\"type\":\"Toolbar\"},{\"attributes\":{\"line_color\":\"#fc4f30\",\"line_width\":2,\"x\":{\"field\":\"Year\"},\"y\":{\"field\":\"value\"}},\"id\":\"67106\",\"type\":\"Line\"},{\"attributes\":{\"overlay\":{\"id\":\"64885\"}},\"id\":\"64883\",\"type\":\"BoxZoomTool\"},{\"attributes\":{},\"id\":\"64204\",\"type\":\"CategoricalTicker\"},{\"attributes\":{\"callback\":null,\"renderers\":[{\"id\":\"64229\"}],\"tags\":[\"hv_created\"],\"tooltips\":[[\"Year\",\"@{Year}\"],[\"TOTAL\",\"@{TOTAL}\"]]},\"id\":\"64193\",\"type\":\"HoverTool\"},{\"attributes\":{\"line_alpha\":0.1,\"line_color\":\"#e5ae38\",\"line_width\":2,\"x\":{\"field\":\"Year\"},\"y\":{\"field\":\"value\"}},\"id\":\"67129\",\"type\":\"Line\"},{\"attributes\":{\"fill_alpha\":{\"value\":0.2},\"fill_color\":{\"value\":\"Blue\"},\"line_alpha\":{\"value\":0.2},\"top\":{\"field\":\"TOTAL\"},\"width\":{\"value\":0.8},\"x\":{\"field\":\"Year\"}},\"id\":\"64898\",\"type\":\"VBar\"},{\"attributes\":{\"factors\":[\"2002\",\"2003\",\"2004\",\"2005\",\"2006\",\"2007\",\"2008\",\"2009\",\"2010\",\"2011\",\"2012\",\"2013\",\"2014\",\"2015\",\"2016\",\"2017\",\"2018\",\"2019\",\"2020\",\"2021\"],\"tags\":[[[\"Year\",\"Year\",null]]]},\"id\":\"64191\",\"type\":\"FactorRange\"},{\"attributes\":{},\"id\":\"64874\",\"type\":\"CategoricalTicker\"},{\"attributes\":{\"below\":[{\"id\":\"64203\"}],\"center\":[{\"id\":\"64205\"},{\"id\":\"64209\"}],\"height\":500,\"left\":[{\"id\":\"64206\"}],\"margin\":null,\"min_border_bottom\":10,\"min_border_left\":10,\"min_border_right\":10,\"min_border_top\":10,\"renderers\":[{\"id\":\"64229\"}],\"sizing_mode\":\"fixed\",\"title\":{\"id\":\"64195\"},\"toolbar\":{\"id\":\"64216\"},\"toolbar_location\":null,\"width\":900,\"x_range\":{\"id\":\"64191\"},\"x_scale\":{\"id\":\"64199\"},\"y_range\":{\"id\":\"64192\"},\"y_scale\":{\"id\":\"64201\"}},\"id\":\"64194\",\"subtype\":\"Figure\",\"type\":\"Plot\"},{\"attributes\":{\"end\":1009417481.3,\"reset_end\":1009417481.3,\"reset_start\":0.0,\"tags\":[[[\"TOTAL\",\"TOTAL\",null]]]},\"id\":\"64192\",\"type\":\"Range1d\"},{\"attributes\":{},\"id\":\"64869\",\"type\":\"CategoricalScale\"},{\"attributes\":{},\"id\":\"64199\",\"type\":\"CategoricalScale\"},{\"attributes\":{\"text\":\"Southwest Airlines Flights - All Airports\",\"text_color\":\"black\",\"text_font_size\":\"12pt\"},\"id\":\"64865\",\"type\":\"Title\"},{\"attributes\":{\"data\":{\"TOTAL\":[612777682,644234973,700230727,735104668,741098199,766626582,740460933,701164455,717744056,728368297,734322469,740859387,761003553,796914123,822888623,848769671,888629905,926438984,369075569,96654011],\"Year\":[\"2002\",\"2003\",\"2004\",\"2005\",\"2006\",\"2007\",\"2008\",\"2009\",\"2010\",\"2011\",\"2012\",\"2013\",\"2014\",\"2015\",\"2016\",\"2017\",\"2018\",\"2019\",\"2020\",\"2021\"]},\"selected\":{\"id\":\"64224\"},\"selection_policy\":{\"id\":\"64398\"}},\"id\":\"64223\",\"type\":\"ColumnDataSource\"},{\"attributes\":{\"data\":{\"TOTAL\":[947490,949938,981674,1028803,1092343,1160714,1191154,1125111,1114451,1145163,1132447,1123988,1166582,1267355,1311139,1347881,1375022,1367721,897538,188541],\"Year\":[\"2002\",\"2003\",\"2004\",\"2005\",\"2006\",\"2007\",\"2008\",\"2009\",\"2010\",\"2011\",\"2012\",\"2013\",\"2014\",\"2015\",\"2016\",\"2017\",\"2018\",\"2019\",\"2020\",\"2021\"]},\"selected\":{\"id\":\"64894\"},\"selection_policy\":{\"id\":\"64988\"}},\"id\":\"64893\",\"type\":\"ColumnDataSource\"},{\"attributes\":{\"line_color\":\"#e5ae38\",\"line_width\":2,\"x\":{\"field\":\"Year\"},\"y\":{\"field\":\"value\"}},\"id\":\"67128\",\"type\":\"Line\"},{\"attributes\":{\"axis\":{\"id\":\"64203\"},\"grid_line_color\":null,\"ticker\":null},\"id\":\"64205\",\"type\":\"Grid\"},{\"attributes\":{\"axis\":{\"id\":\"64873\"},\"grid_line_color\":null,\"ticker\":null},\"id\":\"64875\",\"type\":\"Grid\"},{\"attributes\":{},\"id\":\"64201\",\"type\":\"LinearScale\"},{\"attributes\":{\"axis\":{\"id\":\"64206\"},\"dimension\":1,\"grid_line_color\":null,\"ticker\":null},\"id\":\"64209\",\"type\":\"Grid\"},{\"attributes\":{},\"id\":\"64871\",\"type\":\"LinearScale\"},{\"attributes\":{},\"id\":\"64211\",\"type\":\"PanTool\"},{\"attributes\":{\"axis\":{\"id\":\"64876\"},\"dimension\":1,\"grid_line_color\":null,\"ticker\":null},\"id\":\"64879\",\"type\":\"Grid\"},{\"attributes\":{\"axis_label\":\"Year\",\"formatter\":{\"id\":\"64233\"},\"major_label_policy\":{\"id\":\"64234\"},\"ticker\":{\"id\":\"64204\"}},\"id\":\"64203\",\"type\":\"CategoricalAxis\"},{\"attributes\":{},\"id\":\"64881\",\"type\":\"PanTool\"},{\"attributes\":{},\"id\":\"67077\",\"type\":\"AllLabels\"},{\"attributes\":{\"axis_label\":\"Year\",\"formatter\":{\"id\":\"64903\"},\"major_label_policy\":{\"id\":\"64904\"},\"ticker\":{\"id\":\"64874\"}},\"id\":\"64873\",\"type\":\"CategoricalAxis\"},{\"attributes\":{\"axis_label\":\"Number of Passengers\",\"formatter\":{\"id\":\"64232\"},\"major_label_policy\":{\"id\":\"64237\"},\"ticker\":{\"id\":\"64207\"}},\"id\":\"64206\",\"type\":\"LinearAxis\"},{\"attributes\":{\"axis_label\":\"Number of Flights\",\"formatter\":{\"id\":\"64902\"},\"major_label_policy\":{\"id\":\"64907\"},\"ticker\":{\"id\":\"64877\"}},\"id\":\"64876\",\"type\":\"LinearAxis\"},{\"attributes\":{},\"id\":\"64207\",\"type\":\"BasicTicker\"},{\"attributes\":{},\"id\":\"64212\",\"type\":\"WheelZoomTool\"},{\"attributes\":{},\"id\":\"64877\",\"type\":\"BasicTicker\"},{\"attributes\":{},\"id\":\"64214\",\"type\":\"ResetTool\"},{\"attributes\":{},\"id\":\"64882\",\"type\":\"WheelZoomTool\"},{\"attributes\":{},\"id\":\"67098\",\"type\":\"UnionRenderers\"},{\"attributes\":{},\"id\":\"64210\",\"type\":\"SaveTool\"},{\"attributes\":{\"factors\":[\"2002\",\"2003\",\"2004\",\"2005\",\"2006\",\"2007\",\"2008\",\"2009\",\"2010\",\"2011\",\"2012\",\"2013\",\"2014\",\"2015\",\"2016\",\"2017\",\"2018\",\"2019\",\"2020\",\"2021\"],\"tags\":[[[\"Year\",\"Year\",null]]]},\"id\":\"64911\",\"type\":\"FactorRange\"},{\"attributes\":{\"active_multi\":null,\"tools\":[{\"id\":\"64193\"},{\"id\":\"64210\"},{\"id\":\"64211\"},{\"id\":\"64212\"},{\"id\":\"64213\"},{\"id\":\"64214\"}]},\"id\":\"64216\",\"type\":\"Toolbar\"},{\"attributes\":{},\"id\":\"64880\",\"type\":\"SaveTool\"},{\"attributes\":{\"overlay\":{\"id\":\"64215\"}},\"id\":\"64213\",\"type\":\"BoxZoomTool\"},{\"attributes\":{},\"id\":\"66138\",\"type\":\"UnionRenderers\"},{\"attributes\":{\"data_source\":{\"id\":\"65933\"},\"glyph\":{\"id\":\"65936\"},\"hover_glyph\":null,\"muted_glyph\":{\"id\":\"65938\"},\"nonselection_glyph\":{\"id\":\"65937\"},\"selection_glyph\":{\"id\":\"65941\"},\"view\":{\"id\":\"65940\"}},\"id\":\"65939\",\"type\":\"GlyphRenderer\"},{\"attributes\":{\"child\":{\"id\":\"67040\"},\"name\":\"Row78593\",\"title\":\"Airline Employment Data\"},\"id\":\"67277\",\"type\":\"Panel\"},{\"attributes\":{\"children\":[{\"id\":\"66144\"}],\"margin\":[0,0,0,0],\"name\":\"Row78573\"},\"id\":\"65900\",\"type\":\"Row\"},{\"attributes\":{},\"id\":\"65934\",\"type\":\"Selection\"},{\"attributes\":{\"text\":\"Delta Airlines Passengers - All Airports\",\"text_color\":\"black\",\"text_font_size\":\"12pt\"},\"id\":\"64245\",\"type\":\"Title\"},{\"attributes\":{\"end\":177276996.7,\"reset_end\":177276996.7,\"reset_start\":0.0,\"tags\":[[[\"TOTAL\",\"TOTAL\",null]]]},\"id\":\"64242\",\"type\":\"Range1d\"},{\"attributes\":{\"fill_alpha\":{\"value\":0.1},\"fill_color\":{\"value\":\"Green\"},\"line_alpha\":{\"value\":0.1},\"top\":{\"field\":\"TOTAL\"},\"width\":{\"value\":0.8},\"x\":{\"field\":\"Year\"}},\"id\":\"65417\",\"type\":\"VBar\"},{\"attributes\":{\"factors\":[\"2002\",\"2003\",\"2004\",\"2005\",\"2006\",\"2007\",\"2008\",\"2009\",\"2010\",\"2011\",\"2012\",\"2013\",\"2014\",\"2015\",\"2016\",\"2017\",\"2018\",\"2019\",\"2020\",\"2021\"],\"tags\":[[[\"Year\",\"Year\",null]]]},\"id\":\"64241\",\"type\":\"FactorRange\"},{\"attributes\":{},\"id\":\"64254\",\"type\":\"CategoricalTicker\"},{\"attributes\":{\"callback\":null,\"renderers\":[{\"id\":\"64279\"}],\"tags\":[\"hv_created\"],\"tooltips\":[[\"Year\",\"@{Year}\"],[\"TOTAL\",\"@{TOTAL}\"]]},\"id\":\"64243\",\"type\":\"HoverTool\"},{\"attributes\":{\"data_source\":{\"id\":\"65413\"},\"glyph\":{\"id\":\"65416\"},\"hover_glyph\":null,\"muted_glyph\":{\"id\":\"65418\"},\"nonselection_glyph\":{\"id\":\"65417\"},\"selection_glyph\":{\"id\":\"65421\"},\"view\":{\"id\":\"65420\"}},\"id\":\"65419\",\"type\":\"GlyphRenderer\"},{\"attributes\":{\"line_alpha\":0.2,\"line_color\":\"#30a2da\",\"line_width\":2,\"x\":{\"field\":\"Year\"},\"y\":{\"field\":\"value\"}},\"id\":\"67087\",\"type\":\"Line\"},{\"attributes\":{},\"id\":\"65447\",\"type\":\"BasicTicker\"},{\"attributes\":{\"axis\":{\"id\":\"65446\"},\"dimension\":1,\"grid_line_color\":null,\"ticker\":null},\"id\":\"65449\",\"type\":\"Grid\"},{\"attributes\":{},\"id\":\"64249\",\"type\":\"CategoricalScale\"},{\"attributes\":{\"end\":233264273.7,\"reset_end\":233264273.7,\"reset_start\":0.0,\"tags\":[[[\"TOTAL\",\"TOTAL\",null]]]},\"id\":\"65482\",\"type\":\"Range1d\"},{\"attributes\":{\"fill_alpha\":{\"value\":0.2},\"fill_color\":{\"value\":\"Green\"},\"line_alpha\":{\"value\":0.2},\"top\":{\"field\":\"TOTAL\"},\"width\":{\"value\":0.8},\"x\":{\"field\":\"Year\"}},\"id\":\"65418\",\"type\":\"VBar\"},{\"attributes\":{\"below\":[{\"id\":\"64253\"}],\"center\":[{\"id\":\"64255\"},{\"id\":\"64259\"}],\"height\":500,\"left\":[{\"id\":\"64256\"}],\"margin\":null,\"min_border_bottom\":10,\"min_border_left\":10,\"min_border_right\":10,\"min_border_top\":10,\"renderers\":[{\"id\":\"64279\"}],\"sizing_mode\":\"fixed\",\"title\":{\"id\":\"64245\"},\"toolbar\":{\"id\":\"64266\"},\"toolbar_location\":null,\"width\":900,\"x_range\":{\"id\":\"64241\"},\"x_scale\":{\"id\":\"64249\"},\"y_range\":{\"id\":\"64242\"},\"y_scale\":{\"id\":\"64251\"}},\"id\":\"64244\",\"subtype\":\"Figure\",\"type\":\"Plot\"},{\"attributes\":{\"margin\":[0,0,0,0],\"tabs\":[{\"id\":\"64759\"},{\"id\":\"65329\"},{\"id\":\"65899\"},{\"id\":\"66469\"},{\"id\":\"67039\"},{\"id\":\"67277\"}]},\"id\":\"64189\",\"type\":\"Tabs\"},{\"attributes\":{\"toolbars\":[{\"id\":\"66496\"},{\"id\":\"66546\"},{\"id\":\"66596\"},{\"id\":\"66646\"}],\"tools\":[{\"id\":\"66473\"},{\"id\":\"66490\"},{\"id\":\"66491\"},{\"id\":\"66492\"},{\"id\":\"66493\"},{\"id\":\"66494\"},{\"id\":\"66523\"},{\"id\":\"66540\"},{\"id\":\"66541\"},{\"id\":\"66542\"},{\"id\":\"66543\"},{\"id\":\"66544\"},{\"id\":\"66573\"},{\"id\":\"66590\"},{\"id\":\"66591\"},{\"id\":\"66592\"},{\"id\":\"66593\"},{\"id\":\"66594\"},{\"id\":\"66623\"},{\"id\":\"66640\"},{\"id\":\"66641\"},{\"id\":\"66642\"},{\"id\":\"66643\"},{\"id\":\"66644\"}]},\"id\":\"66712\",\"type\":\"ProxyToolbar\"},{\"attributes\":{\"axis\":{\"id\":\"64253\"},\"grid_line_color\":null,\"ticker\":null},\"id\":\"64255\",\"type\":\"Grid\"},{\"attributes\":{},\"id\":\"64251\",\"type\":\"LinearScale\"},{\"attributes\":{\"bottom_units\":\"screen\",\"fill_alpha\":0.5,\"fill_color\":\"lightgrey\",\"left_units\":\"screen\",\"level\":\"overlay\",\"line_alpha\":1.0,\"line_color\":\"black\",\"line_dash\":[4,4],\"line_width\":2,\"right_units\":\"screen\",\"syncable\":false,\"top_units\":\"screen\"},\"id\":\"65405\",\"type\":\"BoxAnnotation\"},{\"attributes\":{\"axis\":{\"id\":\"64256\"},\"dimension\":1,\"grid_line_color\":null,\"ticker\":null},\"id\":\"64259\",\"type\":\"Grid\"},{\"attributes\":{},\"id\":\"64261\",\"type\":\"PanTool\"},{\"attributes\":{\"axis_label\":\"Year\",\"formatter\":{\"id\":\"64283\"},\"major_label_policy\":{\"id\":\"64284\"},\"ticker\":{\"id\":\"64254\"}},\"id\":\"64253\",\"type\":\"CategoricalAxis\"},{\"attributes\":{},\"id\":\"66034\",\"type\":\"Selection\"},{\"attributes\":{\"fill_color\":{\"value\":\"Blue\"},\"top\":{\"field\":\"TOTAL\"},\"width\":{\"value\":0.8},\"x\":{\"field\":\"Year\"}},\"id\":\"66036\",\"type\":\"VBar\"},{\"attributes\":{\"axis_label\":\"Number of Passengers\",\"formatter\":{\"id\":\"64282\"},\"major_label_policy\":{\"id\":\"64287\"},\"ticker\":{\"id\":\"64257\"}},\"id\":\"64256\",\"type\":\"LinearAxis\"},{\"attributes\":{},\"id\":\"66043\",\"type\":\"CategoricalTickFormatter\"},{\"attributes\":{},\"id\":\"64257\",\"type\":\"BasicTicker\"},{\"attributes\":{\"children\":[{\"id\":\"65574\"}],\"margin\":[0,0,0,0],\"name\":\"Row78561\"},\"id\":\"65330\",\"type\":\"Row\"},{\"attributes\":{},\"id\":\"64262\",\"type\":\"WheelZoomTool\"},{\"attributes\":{},\"id\":\"66044\",\"type\":\"AllLabels\"},{\"attributes\":{},\"id\":\"64284\",\"type\":\"AllLabels\"},{\"attributes\":{},\"id\":\"64260\",\"type\":\"SaveTool\"},{\"attributes\":{\"overlay\":{\"id\":\"64265\"}},\"id\":\"64263\",\"type\":\"BoxZoomTool\"},{\"attributes\":{},\"id\":\"64264\",\"type\":\"ResetTool\"},{\"attributes\":{\"fill_color\":{\"value\":\"Orange\"},\"top\":{\"field\":\"TOTAL\"},\"width\":{\"value\":0.8},\"x\":{\"field\":\"Year\"}},\"id\":\"65936\",\"type\":\"VBar\"},{\"attributes\":{\"source\":{\"id\":\"65413\"}},\"id\":\"65420\",\"type\":\"CDSView\"},{\"attributes\":{\"fill_alpha\":{\"value\":0.1},\"fill_color\":{\"value\":\"Orange\"},\"line_alpha\":{\"value\":0.1},\"top\":{\"field\":\"TOTAL\"},\"width\":{\"value\":0.8},\"x\":{\"field\":\"Year\"}},\"id\":\"65937\",\"type\":\"VBar\"},{\"attributes\":{},\"id\":\"65943\",\"type\":\"CategoricalTickFormatter\"},{\"attributes\":{},\"id\":\"65548\",\"type\":\"UnionRenderers\"},{\"attributes\":{},\"id\":\"64287\",\"type\":\"AllLabels\"},{\"attributes\":{\"factors\":[\"2002\",\"2003\",\"2004\",\"2005\",\"2006\",\"2007\",\"2008\",\"2009\",\"2010\",\"2011\",\"2012\",\"2013\",\"2014\",\"2015\",\"2016\",\"2017\",\"2018\",\"2019\",\"2020\",\"2021\"],\"tags\":[[[\"Year\",\"Year\",null]]]},\"id\":\"64291\",\"type\":\"FactorRange\"},{\"attributes\":{\"format\":\"%.0f\"},\"id\":\"64282\",\"type\":\"PrintfTickFormatter\"},{\"attributes\":{\"bottom\":{\"value\":0},\"fill_alpha\":{\"value\":1.0},\"fill_color\":{\"value\":\"Orange\"},\"hatch_alpha\":{\"value\":1.0},\"hatch_color\":{\"value\":\"black\"},\"hatch_scale\":{\"value\":12.0},\"hatch_weight\":{\"value\":1.0},\"line_alpha\":{\"value\":1.0},\"line_cap\":{\"value\":\"butt\"},\"line_color\":{\"value\":\"black\"},\"line_dash\":{\"value\":[]},\"line_dash_offset\":{\"value\":0},\"line_join\":{\"value\":\"bevel\"},\"line_width\":{\"value\":1},\"top\":{\"field\":\"TOTAL\"},\"width\":{\"value\":0.8},\"x\":{\"field\":\"Year\"}},\"id\":\"65941\",\"type\":\"VBar\"},{\"attributes\":{\"fill_alpha\":{\"value\":0.2},\"fill_color\":{\"value\":\"Orange\"},\"line_alpha\":{\"value\":0.2},\"top\":{\"field\":\"TOTAL\"},\"width\":{\"value\":0.8},\"x\":{\"field\":\"Year\"}},\"id\":\"65938\",\"type\":\"VBar\"},{\"attributes\":{\"axis_label\":\"Year\",\"formatter\":{\"id\":\"66093\"},\"major_label_policy\":{\"id\":\"66094\"},\"ticker\":{\"id\":\"66064\"}},\"id\":\"66063\",\"type\":\"CategoricalAxis\"},{\"attributes\":{\"below\":[{\"id\":\"66063\"}],\"center\":[{\"id\":\"66065\"},{\"id\":\"66069\"}],\"height\":500,\"left\":[{\"id\":\"66066\"}],\"margin\":null,\"min_border_bottom\":10,\"min_border_left\":10,\"min_border_right\":10,\"min_border_top\":10,\"renderers\":[{\"id\":\"66089\"}],\"sizing_mode\":\"fixed\",\"title\":{\"id\":\"66055\"},\"toolbar\":{\"id\":\"66076\"},\"toolbar_location\":null,\"width\":900,\"x_range\":{\"id\":\"66051\"},\"x_scale\":{\"id\":\"66059\"},\"y_range\":{\"id\":\"66052\"},\"y_scale\":{\"id\":\"66061\"}},\"id\":\"66054\",\"subtype\":\"Figure\",\"type\":\"Plot\"},{\"attributes\":{\"children\":[{\"id\":\"64434\"}],\"margin\":[0,0,0,0],\"name\":\"Row78537\"},\"id\":\"64190\",\"type\":\"Row\"},{\"attributes\":{},\"id\":\"64274\",\"type\":\"Selection\"},{\"attributes\":{},\"id\":\"64283\",\"type\":\"CategoricalTickFormatter\"},{\"attributes\":{\"axis\":{\"id\":\"66063\"},\"grid_line_color\":null,\"ticker\":null},\"id\":\"66065\",\"type\":\"Grid\"},{\"attributes\":{\"end\":276583743.2,\"reset_end\":276583743.2,\"reset_start\":0.0,\"tags\":[[[\"TOTAL\",\"TOTAL\",null]]]},\"id\":\"66052\",\"type\":\"Range1d\"},{\"attributes\":{\"text\":\"United Airlines Available Seat-Miles - All Airports\",\"text_color\":\"black\",\"text_font_size\":\"12pt\"},\"id\":\"66055\",\"type\":\"Title\"},{\"attributes\":{\"active_multi\":null,\"tools\":[{\"id\":\"64243\"},{\"id\":\"64260\"},{\"id\":\"64261\"},{\"id\":\"64262\"},{\"id\":\"64263\"},{\"id\":\"64264\"}]},\"id\":\"64266\",\"type\":\"Toolbar\"},{\"attributes\":{},\"id\":\"67083\",\"type\":\"Selection\"},{\"attributes\":{\"source\":{\"id\":\"65933\"}},\"id\":\"65940\",\"type\":\"CDSView\"},{\"attributes\":{},\"id\":\"66064\",\"type\":\"CategoricalTicker\"},{\"attributes\":{\"callback\":null,\"renderers\":[{\"id\":\"66089\"}],\"tags\":[\"hv_created\"],\"tooltips\":[[\"Year\",\"@{Year}\"],[\"TOTAL\",\"@{TOTAL}\"]]},\"id\":\"66053\",\"type\":\"HoverTool\"},{\"attributes\":{\"factors\":[\"2002\",\"2003\",\"2004\",\"2005\",\"2006\",\"2007\",\"2008\",\"2009\",\"2010\",\"2011\",\"2012\",\"2013\",\"2014\",\"2015\",\"2016\",\"2017\",\"2018\",\"2019\",\"2020\",\"2021\"],\"tags\":[[[\"Year\",\"Year\",null]]]},\"id\":\"66051\",\"type\":\"FactorRange\"},{\"attributes\":{\"bottom_units\":\"screen\",\"fill_alpha\":0.5,\"fill_color\":\"lightgrey\",\"left_units\":\"screen\",\"level\":\"overlay\",\"line_alpha\":1.0,\"line_color\":\"black\",\"line_dash\":[4,4],\"line_width\":2,\"right_units\":\"screen\",\"syncable\":false,\"top_units\":\"screen\"},\"id\":\"65975\",\"type\":\"BoxAnnotation\"},{\"attributes\":{},\"id\":\"66047\",\"type\":\"AllLabels\"},{\"attributes\":{\"children\":[{\"id\":\"65004\"}],\"margin\":[0,0,0,0],\"name\":\"Row78549\"},\"id\":\"64760\",\"type\":\"Row\"},{\"attributes\":{\"client_comm_id\":\"cc4c214c1c4640b0aa3f4a4757d3d1c4\",\"comm_id\":\"cd80c0aebad140559ce352fa1ff34a2f\",\"plot_id\":\"64189\"},\"id\":\"67866\",\"type\":\"panel.models.comm_manager.CommManager\"},{\"attributes\":{\"child\":{\"id\":\"64760\"},\"name\":\"Row78549\",\"title\":\"Flights\"},\"id\":\"65329\",\"type\":\"Panel\"},{\"attributes\":{},\"id\":\"66059\",\"type\":\"CategoricalScale\"},{\"attributes\":{\"bottom_units\":\"screen\",\"fill_alpha\":0.5,\"fill_color\":\"lightgrey\",\"left_units\":\"screen\",\"level\":\"overlay\",\"line_alpha\":1.0,\"line_color\":\"black\",\"line_dash\":[4,4],\"line_width\":2,\"right_units\":\"screen\",\"syncable\":false,\"top_units\":\"screen\"},\"id\":\"64265\",\"type\":\"BoxAnnotation\"},{\"attributes\":{},\"id\":\"65558\",\"type\":\"UnionRenderers\"},{\"attributes\":{},\"id\":\"66678\",\"type\":\"UnionRenderers\"},{\"attributes\":{\"axis_label\":\"(the number of seats and the distance flown in thousands (000)) \",\"formatter\":{\"id\":\"66092\"},\"major_label_policy\":{\"id\":\"66097\"},\"ticker\":{\"id\":\"66067\"}},\"id\":\"66066\",\"type\":\"LinearAxis\"},{\"attributes\":{\"children\":[{\"id\":\"65003\"},{\"id\":\"65001\"}]},\"id\":\"65004\",\"type\":\"Column\"},{\"attributes\":{},\"id\":\"66061\",\"type\":\"LinearScale\"},{\"attributes\":{},\"id\":\"67079\",\"type\":\"BasicTickFormatter\"},{\"attributes\":{\"axis_label\":\"(The number of passengers and the distance flown in thousands (000)) \",\"formatter\":{\"id\":\"65472\"},\"major_label_policy\":{\"id\":\"65477\"},\"ticker\":{\"id\":\"65447\"}},\"id\":\"65446\",\"type\":\"LinearAxis\"},{\"attributes\":{\"format\":\"%.0f\"},\"id\":\"66042\",\"type\":\"PrintfTickFormatter\"},{\"attributes\":{\"bottom_units\":\"screen\",\"fill_alpha\":0.5,\"fill_color\":\"lightgrey\",\"left_units\":\"screen\",\"level\":\"overlay\",\"line_alpha\":1.0,\"line_color\":\"black\",\"line_dash\":[4,4],\"line_width\":2,\"right_units\":\"screen\",\"syncable\":false,\"top_units\":\"screen\"},\"id\":\"66645\",\"type\":\"BoxAnnotation\"},{\"attributes\":{},\"id\":\"64803\",\"type\":\"CategoricalTickFormatter\"},{\"attributes\":{\"bottom\":{\"value\":0},\"fill_alpha\":{\"value\":1.0},\"fill_color\":{\"value\":\"Blue\"},\"hatch_alpha\":{\"value\":1.0},\"hatch_color\":{\"value\":\"black\"},\"hatch_scale\":{\"value\":12.0},\"hatch_weight\":{\"value\":1.0},\"line_alpha\":{\"value\":1.0},\"line_cap\":{\"value\":\"butt\"},\"line_color\":{\"value\":\"black\"},\"line_dash\":{\"value\":[]},\"line_dash_offset\":{\"value\":0},\"line_join\":{\"value\":\"bevel\"},\"line_width\":{\"value\":1},\"top\":{\"field\":\"TOTAL\"},\"width\":{\"value\":0.8},\"x\":{\"field\":\"Year\"}},\"id\":\"64901\",\"type\":\"VBar\"},{\"attributes\":{},\"id\":\"64804\",\"type\":\"AllLabels\"},{\"attributes\":{},\"id\":\"64903\",\"type\":\"CategoricalTickFormatter\"},{\"attributes\":{\"data\":{\"TOTAL\":[145060010,132616583,141216499,136294567,139521280,139117887,133221892,119800834,119171529,116279921,213203493,210005432,211954183,218138240,223281445,233667254,244417122,252816292,104313705,15141780],\"Year\":[\"2002\",\"2003\",\"2004\",\"2005\",\"2006\",\"2007\",\"2008\",\"2009\",\"2010\",\"2011\",\"2012\",\"2013\",\"2014\",\"2015\",\"2016\",\"2017\",\"2018\",\"2019\",\"2020\",\"2021\"]},\"selected\":{\"id\":\"66084\"},\"selection_policy\":{\"id\":\"66138\"}},\"id\":\"66083\",\"type\":\"ColumnDataSource\"},{\"attributes\":{},\"id\":\"66604\",\"type\":\"Selection\"},{\"attributes\":{\"format\":\"%.0f\"},\"id\":\"64802\",\"type\":\"PrintfTickFormatter\"},{\"attributes\":{},\"id\":\"64953\",\"type\":\"CategoricalTickFormatter\"},{\"attributes\":{},\"id\":\"66614\",\"type\":\"AllLabels\"},{\"attributes\":{},\"id\":\"64807\",\"type\":\"AllLabels\"},{\"attributes\":{},\"id\":\"64924\",\"type\":\"CategoricalTicker\"},{\"attributes\":{\"format\":\"%.0f\"},\"id\":\"64902\",\"type\":\"PrintfTickFormatter\"},{\"attributes\":{\"children\":[[{\"id\":\"65334\"},0,0],[{\"id\":\"65384\"},0,1],[{\"id\":\"65434\"},0,2],[{\"id\":\"65484\"},0,3]]},\"id\":\"65571\",\"type\":\"GridBox\"},{\"attributes\":{},\"id\":\"67145\",\"type\":\"UnionRenderers\"},{\"attributes\":{},\"id\":\"64904\",\"type\":\"AllLabels\"},{\"attributes\":{},\"id\":\"64954\",\"type\":\"AllLabels\"},{\"attributes\":{\"below\":[{\"id\":\"65493\"}],\"center\":[{\"id\":\"65495\"},{\"id\":\"65499\"}],\"height\":500,\"left\":[{\"id\":\"65496\"}],\"margin\":null,\"min_border_bottom\":10,\"min_border_left\":10,\"min_border_right\":10,\"min_border_top\":10,\"renderers\":[{\"id\":\"65519\"}],\"sizing_mode\":\"fixed\",\"title\":{\"id\":\"65485\"},\"toolbar\":{\"id\":\"65506\"},\"toolbar_location\":null,\"width\":900,\"x_range\":{\"id\":\"65481\"},\"x_scale\":{\"id\":\"65489\"},\"y_range\":{\"id\":\"65482\"},\"y_scale\":{\"id\":\"65491\"}},\"id\":\"65484\",\"subtype\":\"Figure\",\"type\":\"Plot\"},{\"attributes\":{},\"id\":\"67064\",\"type\":\"PanTool\"},{\"attributes\":{\"fill_alpha\":{\"value\":0.2},\"fill_color\":{\"value\":\"Blue\"},\"line_alpha\":{\"value\":0.2},\"top\":{\"field\":\"TOTAL\"},\"width\":{\"value\":0.8},\"x\":{\"field\":\"Year\"}},\"id\":\"66038\",\"type\":\"VBar\"},{\"attributes\":{\"text\":\"All U.S. Carriers Available Seat-Miles - All Airports\",\"text_color\":\"black\",\"text_font_size\":\"12pt\"},\"id\":\"65905\",\"type\":\"Title\"},{\"attributes\":{},\"id\":\"65514\",\"type\":\"Selection\"},{\"attributes\":{\"child\":{\"id\":\"65900\"},\"name\":\"Row78573\",\"title\":\"Seat-Miles\"},\"id\":\"66469\",\"type\":\"Panel\"},{\"attributes\":{},\"id\":\"66644\",\"type\":\"ResetTool\"},{\"attributes\":{},\"id\":\"64907\",\"type\":\"AllLabels\"},{\"attributes\":{\"child\":{\"id\":\"64190\"},\"name\":\"Row78537\",\"title\":\"Passenger\"},\"id\":\"64759\",\"type\":\"Panel\"},{\"attributes\":{\"data\":{\"customdata\":[{\"__ndarray__\":\"ZmZmZiT3HkEzMzMzM3XwQJqZmZk4iiFBZmZmZhBUHEEAAAAAiHz4QDMzMzOZOSFBZmZmZvRTIkEAAAAAGJD7QGZmZmb3xSVBZmZmZhBUHEEAAAAAiHz4QDMzMzOZOSFBZmZmZiT3HkEzMzMzM3XwQJqZmZk4iiFBZmZmZvRTIkEAAAAAGJD7QGZmZmb3xSVBZmZmZiT3HkEzMzMzM3XwQJqZmZk4iiFBZmZmZhBUHEEAAAAAiHz4QDMzMzOZOSFBZmZmZvRTIkEAAAAAGJD7QGZmZmb3xSVB\",\"dtype\":\"float64\",\"order\":\"little\",\"shape\":[9,3]}],\"ids\":[[\"1990/507337.1/67411.2\",\"2010/464132.1/100296.5\",\"2020/600570.2/112897.5\",\"2010/464132.1\",\"1990/507337.1\",\"2020/600570.2\",\"1990\",\"2010\",\"2020\"]],\"labels\":[[\"67411.2\",\"100296.5\",\"112897.5\",\"464132.1\",\"507337.1\",\"600570.2\",\"1990\",\"2010\",\"2020\"]],\"marker.colors\":[{\"__ndarray__\":\"mpmZmTiKIUEzMzMzmTkhQWZmZmb3xSVBMzMzM5k5IUGamZmZOIohQWZmZmb3xSVBmpmZmTiKIUEzMzMzmTkhQWZmZmb3xSVB\",\"dtype\":\"float64\",\"order\":\"little\",\"shape\":[9]}],\"parents\":[[\"1990/507337.1\",\"2010/464132.1\",\"2020/600570.2\",\"2010\",\"1990\",\"2020\",\"\",\"\",\"\"]],\"values\":[{\"__ndarray__\":\"mpmZmTiKIUEzMzMzmTkhQWZmZmb3xSVBMzMzM5k5IUGamZmZOIohQWZmZmb3xSVBmpmZmTiKIUEzMzMzmTkhQWZmZmb3xSVB\",\"dtype\":\"float64\",\"order\":\"little\",\"shape\":[9]}]},\"selected\":{\"id\":\"67286\"},\"selection_policy\":{\"id\":\"67285\"}},\"id\":\"67275\",\"type\":\"ColumnDataSource\"},{\"attributes\":{\"data_source\":{\"id\":\"66033\"},\"glyph\":{\"id\":\"66036\"},\"hover_glyph\":null,\"muted_glyph\":{\"id\":\"66038\"},\"nonselection_glyph\":{\"id\":\"66037\"},\"selection_glyph\":{\"id\":\"66041\"},\"view\":{\"id\":\"66040\"}},\"id\":\"66039\",\"type\":\"GlyphRenderer\"},{\"attributes\":{},\"id\":\"66640\",\"type\":\"SaveTool\"},{\"attributes\":{},\"id\":\"66698\",\"type\":\"UnionRenderers\"},{\"attributes\":{\"active_multi\":null,\"tools\":[{\"id\":\"66003\"},{\"id\":\"66020\"},{\"id\":\"66021\"},{\"id\":\"66022\"},{\"id\":\"66023\"},{\"id\":\"66024\"}]},\"id\":\"66026\",\"type\":\"Toolbar\"},{\"attributes\":{},\"id\":\"65914\",\"type\":\"CategoricalTicker\"},{\"attributes\":{\"factors\":[\"2002\",\"2003\",\"2004\",\"2005\",\"2006\",\"2007\",\"2008\",\"2009\",\"2010\",\"2011\",\"2012\",\"2013\",\"2014\",\"2015\",\"2016\",\"2017\",\"2018\",\"2019\",\"2020\",\"2021\"],\"tags\":[[[\"Year\",\"Year\",null]]]},\"id\":\"64811\",\"type\":\"FactorRange\"},{\"attributes\":{\"format\":\"%.0f\"},\"id\":\"64952\",\"type\":\"PrintfTickFormatter\"},{\"attributes\":{\"data_source\":{\"id\":\"67103\"},\"glyph\":{\"id\":\"67106\"},\"hover_glyph\":null,\"muted_glyph\":{\"id\":\"67108\"},\"nonselection_glyph\":{\"id\":\"67107\"},\"selection_glyph\":{\"id\":\"67124\"},\"view\":{\"id\":\"67110\"}},\"id\":\"67109\",\"type\":\"GlyphRenderer\"},{\"attributes\":{\"line_color\":\"#30a2da\",\"line_width\":2,\"x\":{\"field\":\"Year\"},\"y\":{\"field\":\"value\"}},\"id\":\"67085\",\"type\":\"Line\"},{\"attributes\":{\"bottom\":{\"value\":0},\"fill_alpha\":{\"value\":1.0},\"fill_color\":{\"value\":\"Blue\"},\"hatch_alpha\":{\"value\":1.0},\"hatch_color\":{\"value\":\"black\"},\"hatch_scale\":{\"value\":12.0},\"hatch_weight\":{\"value\":1.0},\"line_alpha\":{\"value\":1.0},\"line_cap\":{\"value\":\"butt\"},\"line_color\":{\"value\":\"black\"},\"line_dash\":{\"value\":[]},\"line_dash_offset\":{\"value\":0},\"line_join\":{\"value\":\"bevel\"},\"line_width\":{\"value\":1},\"top\":{\"field\":\"TOTAL\"},\"width\":{\"value\":0.8},\"x\":{\"field\":\"Year\"}},\"id\":\"66041\",\"type\":\"VBar\"},{\"attributes\":{\"fill_color\":{\"value\":\"Blue\"},\"top\":{\"field\":\"TOTAL\"},\"width\":{\"value\":0.8},\"x\":{\"field\":\"Year\"}},\"id\":\"66606\",\"type\":\"VBar\"},{\"attributes\":{\"factors\":[\"2002\",\"2003\",\"2004\",\"2005\",\"2006\",\"2007\",\"2008\",\"2009\",\"2010\",\"2011\",\"2012\",\"2013\",\"2014\",\"2015\",\"2016\",\"2017\",\"2018\",\"2019\",\"2020\",\"2021\"],\"tags\":[[[\"Year\",\"Year\",null]]]},\"id\":\"65901\",\"type\":\"FactorRange\"},{\"attributes\":{\"data\":{\"TOTAL\":[823261,700474,729358,699863,569183,548589,527275,502908,834179,838907,838382,872459,924796,1011764,1059757,1061526,1095330,1141949,609538,146954],\"Year\":[\"2002\",\"2003\",\"2004\",\"2005\",\"2006\",\"2007\",\"2008\",\"2009\",\"2010\",\"2011\",\"2012\",\"2013\",\"2014\",\"2015\",\"2016\",\"2017\",\"2018\",\"2019\",\"2020\",\"2021\"]},\"selected\":{\"id\":\"64844\"},\"selection_policy\":{\"id\":\"64978\"}},\"id\":\"64843\",\"type\":\"ColumnDataSource\"},{\"attributes\":{},\"id\":\"64919\",\"type\":\"CategoricalScale\"},{\"attributes\":{\"callback\":null,\"renderers\":[{\"id\":\"65939\"}],\"tags\":[\"hv_created\"],\"tooltips\":[[\"Year\",\"@{Year}\"],[\"TOTAL\",\"@{TOTAL}\"]]},\"id\":\"65903\",\"type\":\"HoverTool\"},{\"attributes\":{\"data_source\":{\"id\":\"66603\"},\"glyph\":{\"id\":\"66606\"},\"hover_glyph\":null,\"muted_glyph\":{\"id\":\"66608\"},\"nonselection_glyph\":{\"id\":\"66607\"},\"selection_glyph\":{\"id\":\"66611\"},\"view\":{\"id\":\"66610\"}},\"id\":\"66609\",\"type\":\"GlyphRenderer\"},{\"attributes\":{\"active_multi\":null,\"tools\":[{\"id\":\"66623\"},{\"id\":\"66640\"},{\"id\":\"66641\"},{\"id\":\"66642\"},{\"id\":\"66643\"},{\"id\":\"66644\"}]},\"id\":\"66646\",\"type\":\"Toolbar\"},{\"attributes\":{\"fill_alpha\":{\"value\":0.1},\"fill_color\":{\"value\":\"Blue\"},\"line_alpha\":{\"value\":0.1},\"top\":{\"field\":\"TOTAL\"},\"width\":{\"value\":0.8},\"x\":{\"field\":\"Year\"}},\"id\":\"66037\",\"type\":\"VBar\"},{\"attributes\":{\"text\":\"United Airlines Flights - All Airports\",\"text_color\":\"black\",\"text_font_size\":\"12pt\"},\"id\":\"64915\",\"type\":\"Title\"},{\"attributes\":{\"end\":1353497931.3,\"reset_end\":1353497931.3,\"reset_start\":0.0,\"tags\":[[[\"TOTAL\",\"TOTAL\",null]]]},\"id\":\"65902\",\"type\":\"Range1d\"},{\"attributes\":{\"children\":[[{\"id\":\"66474\"},0,0],[{\"id\":\"66524\"},0,1],[{\"id\":\"66574\"},0,2],[{\"id\":\"66624\"},0,3]]},\"id\":\"66711\",\"type\":\"GridBox\"},{\"attributes\":{},\"id\":\"65909\",\"type\":\"CategoricalScale\"},{\"attributes\":{\"data\":{\"TOTAL\":[640283,590912,605406,540660,554731,543821,504500,428703,394054,365244,685085,659138,650049,674292,704426,747871,784044,795002,353190,73415],\"Year\":[\"2002\",\"2003\",\"2004\",\"2005\",\"2006\",\"2007\",\"2008\",\"2009\",\"2010\",\"2011\",\"2012\",\"2013\",\"2014\",\"2015\",\"2016\",\"2017\",\"2018\",\"2019\",\"2020\",\"2021\"]},\"selected\":{\"id\":\"64944\"},\"selection_policy\":{\"id\":\"64998\"}},\"id\":\"64943\",\"type\":\"ColumnDataSource\"},{\"attributes\":{\"child\":{\"id\":\"65330\"},\"name\":\"Row78561\",\"title\":\"Passenger-Miles\"},\"id\":\"65899\",\"type\":\"Panel\"},{\"attributes\":{\"below\":[{\"id\":\"65913\"}],\"center\":[{\"id\":\"65915\"},{\"id\":\"65919\"}],\"height\":500,\"left\":[{\"id\":\"65916\"}],\"margin\":null,\"min_border_bottom\":10,\"min_border_left\":10,\"min_border_right\":10,\"min_border_top\":10,\"renderers\":[{\"id\":\"65939\"}],\"sizing_mode\":\"fixed\",\"title\":{\"id\":\"65905\"},\"toolbar\":{\"id\":\"65926\"},\"toolbar_location\":null,\"width\":900,\"x_range\":{\"id\":\"65901\"},\"x_scale\":{\"id\":\"65909\"},\"y_range\":{\"id\":\"65902\"},\"y_scale\":{\"id\":\"65911\"}},\"id\":\"65904\",\"subtype\":\"Figure\",\"type\":\"Plot\"},{\"attributes\":{\"axis\":{\"id\":\"64923\"},\"grid_line_color\":null,\"ticker\":null},\"id\":\"64925\",\"type\":\"Grid\"},{\"attributes\":{},\"id\":\"66641\",\"type\":\"PanTool\"},{\"attributes\":{\"bottom_units\":\"screen\",\"fill_alpha\":0.5,\"fill_color\":\"lightgrey\",\"left_units\":\"screen\",\"level\":\"overlay\",\"line_alpha\":1.0,\"line_color\":\"black\",\"line_dash\":[4,4],\"line_width\":2,\"right_units\":\"screen\",\"syncable\":false,\"top_units\":\"screen\"},\"id\":\"66025\",\"type\":\"BoxAnnotation\"},{\"attributes\":{\"data\":{\"TOTAL\":[883728641,884743408,962094391,993010840,996711186,1029054389,1012796576,949242411,965310742,985260993,987420601,1004140149,1028487121,1073106176,1116048267,1153149529,1207036478,1246032714,642857537,171380541],\"Year\":[\"2002\",\"2003\",\"2004\",\"2005\",\"2006\",\"2007\",\"2008\",\"2009\",\"2010\",\"2011\",\"2012\",\"2013\",\"2014\",\"2015\",\"2016\",\"2017\",\"2018\",\"2019\",\"2020\",\"2021\"]},\"selected\":{\"id\":\"65934\"},\"selection_policy\":{\"id\":\"66108\"}},\"id\":\"65933\",\"type\":\"ColumnDataSource\"},{\"attributes\":{\"axis\":{\"id\":\"64823\"},\"grid_line_color\":null,\"ticker\":null},\"id\":\"64825\",\"type\":\"Grid\"},{\"attributes\":{},\"id\":\"64921\",\"type\":\"LinearScale\"},{\"attributes\":{\"axis\":{\"id\":\"65913\"},\"grid_line_color\":null,\"ticker\":null},\"id\":\"65915\",\"type\":\"Grid\"},{\"attributes\":{\"axis\":{\"id\":\"64926\"},\"dimension\":1,\"grid_line_color\":null,\"ticker\":null},\"id\":\"64929\",\"type\":\"Grid\"},{\"attributes\":{\"end\":86.68799999999999,\"reset_end\":86.68799999999999,\"reset_start\":0.0,\"tags\":[[[\"TOTAL\",\"TOTAL\",null]]]},\"id\":\"66622\",\"type\":\"Range1d\"},{\"attributes\":{},\"id\":\"64824\",\"type\":\"CategoricalTicker\"},{\"attributes\":{\"callback\":null,\"renderers\":[{\"id\":\"64849\"}],\"tags\":[\"hv_created\"],\"tooltips\":[[\"Year\",\"@{Year}\"],[\"TOTAL\",\"@{TOTAL}\"]]},\"id\":\"64813\",\"type\":\"HoverTool\"},{\"attributes\":{},\"id\":\"64931\",\"type\":\"PanTool\"},{\"attributes\":{},\"id\":\"65911\",\"type\":\"LinearScale\"},{\"attributes\":{\"axis_label\":\"Year\",\"formatter\":{\"id\":\"64953\"},\"major_label_policy\":{\"id\":\"64954\"},\"ticker\":{\"id\":\"64924\"}},\"id\":\"64923\",\"type\":\"CategoricalAxis\"},{\"attributes\":{\"axis\":{\"id\":\"65916\"},\"dimension\":1,\"grid_line_color\":null,\"ticker\":null},\"id\":\"65919\",\"type\":\"Grid\"},{\"attributes\":{\"callback\":null,\"renderers\":[{\"id\":\"66659\"}],\"tags\":[\"hv_created\"],\"tooltips\":[[\"Year\",\"@{Year}\"],[\"TOTAL\",\"@{TOTAL}\"]]},\"id\":\"66623\",\"type\":\"HoverTool\"},{\"attributes\":{},\"id\":\"65921\",\"type\":\"PanTool\"},{\"attributes\":{},\"id\":\"64978\",\"type\":\"UnionRenderers\"},{\"attributes\":{},\"id\":\"64819\",\"type\":\"CategoricalScale\"},{\"attributes\":{\"axis_label\":\"Number of Flights\",\"formatter\":{\"id\":\"64952\"},\"major_label_policy\":{\"id\":\"64957\"},\"ticker\":{\"id\":\"64927\"}},\"id\":\"64926\",\"type\":\"LinearAxis\"},{\"attributes\":{\"axis_label\":\"Year\",\"formatter\":{\"id\":\"65943\"},\"major_label_policy\":{\"id\":\"65944\"},\"ticker\":{\"id\":\"65914\"}},\"id\":\"65913\",\"type\":\"CategoricalAxis\"},{\"attributes\":{\"axis\":{\"id\":\"66636\"},\"dimension\":1,\"grid_line_color\":null,\"ticker\":null},\"id\":\"66639\",\"type\":\"Grid\"},{\"attributes\":{},\"id\":\"64927\",\"type\":\"BasicTicker\"},{\"attributes\":{},\"id\":\"64932\",\"type\":\"WheelZoomTool\"},{\"attributes\":{\"factors\":[\"2002\",\"2003\",\"2004\",\"2005\",\"2006\",\"2007\",\"2008\",\"2009\",\"2010\",\"2011\",\"2012\",\"2013\",\"2014\",\"2015\",\"2016\",\"2017\",\"2018\",\"2019\",\"2020\",\"2021\"],\"tags\":[[[\"Year\",\"Year\",null]]]},\"id\":\"64761\",\"type\":\"FactorRange\"},{\"attributes\":{\"axis_label\":\"(the number of seats and the distance flown in thousands (000)) \",\"formatter\":{\"id\":\"65942\"},\"major_label_policy\":{\"id\":\"65947\"},\"ticker\":{\"id\":\"65917\"}},\"id\":\"65916\",\"type\":\"LinearAxis\"},{\"attributes\":{\"text\":\"Delta Airlines Flights - All Airports\",\"text_color\":\"black\",\"text_font_size\":\"12pt\"},\"id\":\"64815\",\"type\":\"Title\"},{\"attributes\":{\"factors\":[\"2002\",\"2003\",\"2004\",\"2005\",\"2006\",\"2007\",\"2008\",\"2009\",\"2010\",\"2011\",\"2012\",\"2013\",\"2014\",\"2015\",\"2016\",\"2017\",\"2018\",\"2019\",\"2020\",\"2021\"],\"tags\":[[[\"Year\",\"Year\",null]]]},\"id\":\"66621\",\"type\":\"FactorRange\"},{\"attributes\":{},\"id\":\"65917\",\"type\":\"BasicTicker\"},{\"attributes\":{\"below\":[{\"id\":\"64823\"}],\"center\":[{\"id\":\"64825\"},{\"id\":\"64829\"}],\"height\":500,\"left\":[{\"id\":\"64826\"}],\"margin\":null,\"min_border_bottom\":10,\"min_border_left\":10,\"min_border_right\":10,\"min_border_top\":10,\"renderers\":[{\"id\":\"64849\"}],\"sizing_mode\":\"fixed\",\"title\":{\"id\":\"64815\"},\"toolbar\":{\"id\":\"64836\"},\"toolbar_location\":null,\"width\":900,\"x_range\":{\"id\":\"64811\"},\"x_scale\":{\"id\":\"64819\"},\"y_range\":{\"id\":\"64812\"},\"y_scale\":{\"id\":\"64821\"}},\"id\":\"64814\",\"subtype\":\"Figure\",\"type\":\"Plot\"},{\"attributes\":{},\"id\":\"64930\",\"type\":\"SaveTool\"},{\"attributes\":{},\"id\":\"65489\",\"type\":\"CategoricalScale\"},{\"attributes\":{},\"id\":\"65922\",\"type\":\"WheelZoomTool\"},{\"attributes\":{\"overlay\":{\"id\":\"66025\"}},\"id\":\"66023\",\"type\":\"BoxZoomTool\"},{\"attributes\":{},\"id\":\"66642\",\"type\":\"WheelZoomTool\"},{\"attributes\":{\"data\":{\"Variable\":[\"United Airlines Total\",\"United Airlines Total\",\"United Airlines Total\",\"United Airlines Total\",\"United Airlines Total\",\"United Airlines Total\",\"United Airlines Total\",\"United Airlines Total\",\"United Airlines Total\",\"United Airlines Total\",\"United Airlines Total\",\"United Airlines Total\",\"United Airlines Total\",\"United Airlines Total\",\"United Airlines Total\",\"United Airlines Total\",\"United Airlines Total\",\"United Airlines Total\",\"United Airlines Total\",\"United Airlines Total\",\"United Airlines Total\",\"United Airlines Total\",\"United Airlines Total\",\"United Airlines Total\",\"United Airlines Total\",\"United Airlines Total\",\"United Airlines Total\",\"United Airlines Total\",\"United Airlines Total\",\"United Airlines Total\",\"United Airlines Total\",\"United Airlines Total\"],\"Year\":[1990,1991,1992,1993,1994,1995,1996,1997,1998,1999,2000,2001,2002,2003,2004,2005,2006,2007,2008,2009,2010,2011,2012,2013,2014,2015,2016,2017,2018,2019,2020,2021],\"value\":{\"__ndarray__\":\"AAAAAHTn8UAAAAAAcCXzQFVVVVX5G/RAq6qqqn4U9ECrqqqq4pDyQKuqqqragPNAVVVVVRmO9EAAAAAAdLP1QFRVVVVV4PZAVFVVVd3h90Csqqqqypr4QAAAAAAED/hAVVVVVaUJ9EBVVVVVCVPwQFRVVVVNU+5Aq6qqqpJd7ECrqqqqMmLrQAAAAAD4xOpAq6qqqpLk6UCrqqqqqlPnQKuqqqpKmOZAVFVVVbWF5kBVVVVVsXb1QFVVVVVFg/VAAAAAAAzn9EAAAAAAzIP0QKuqqqouHPVAVVVVVYWO9UCrqqqqhpv1QKyqqqqCEvZAVVVVVWlV80AAAAAAXL/wQA==\",\"dtype\":\"float64\",\"order\":\"little\",\"shape\":[32]}},\"selected\":{\"id\":\"67126\"},\"selection_policy\":{\"id\":\"67145\"}},\"id\":\"67125\",\"type\":\"ColumnDataSource\"},{\"attributes\":{\"overlay\":{\"id\":\"64935\"}},\"id\":\"64933\",\"type\":\"BoxZoomTool\"},{\"attributes\":{},\"id\":\"64821\",\"type\":\"LinearScale\"},{\"attributes\":{\"children\":[{\"id\":\"66143\"},{\"id\":\"66141\"}]},\"id\":\"66144\",\"type\":\"Column\"},{\"attributes\":{},\"id\":\"64934\",\"type\":\"ResetTool\"},{\"attributes\":{\"axis\":{\"id\":\"64826\"},\"dimension\":1,\"grid_line_color\":null,\"ticker\":null},\"id\":\"64829\",\"type\":\"Grid\"},{\"attributes\":{\"active_multi\":null,\"tools\":[{\"id\":\"64913\"},{\"id\":\"64930\"},{\"id\":\"64931\"},{\"id\":\"64932\"},{\"id\":\"64933\"},{\"id\":\"64934\"}]},\"id\":\"64936\",\"type\":\"Toolbar\"},{\"attributes\":{},\"id\":\"65920\",\"type\":\"SaveTool\"},{\"attributes\":{\"overlay\":{\"id\":\"65925\"}},\"id\":\"65923\",\"type\":\"BoxZoomTool\"},{\"attributes\":{},\"id\":\"64831\",\"type\":\"PanTool\"},{\"attributes\":{},\"id\":\"65924\",\"type\":\"ResetTool\"},{\"attributes\":{\"overlay\":{\"id\":\"66645\"}},\"id\":\"66643\",\"type\":\"BoxZoomTool\"},{\"attributes\":{\"axis_label\":\"Year\",\"formatter\":{\"id\":\"64853\"},\"major_label_policy\":{\"id\":\"64854\"},\"ticker\":{\"id\":\"64824\"}},\"id\":\"64823\",\"type\":\"CategoricalAxis\"},{\"attributes\":{\"data\":{\"TOTAL\":{\"__ndarray__\":\"mpmZmZlpUkAzMzMzMyNTQFK4HoXr0VNA7FG4HoVrVEA9CtejcI1UQJqZmZmZuVRA7FG4HoVLVEBmZmZmZoZUQI/C9ShcD1VAZmZmZmYGVUBI4XoUrsdUQI/C9Shc/1RA4XoUrkfxVEAUrkfheuRUQFyPwvUovFRAUrgeheuhVECPwvUoXO9UQB+F61G4DlVA4XoUrkfhTUBmZmZmZgZQQA==\",\"dtype\":\"float64\",\"order\":\"little\",\"shape\":[20]},\"Year\":[\"2002\",\"2003\",\"2004\",\"2005\",\"2006\",\"2007\",\"2008\",\"2009\",\"2010\",\"2011\",\"2012\",\"2013\",\"2014\",\"2015\",\"2016\",\"2017\",\"2018\",\"2019\",\"2020\",\"2021\"]},\"selected\":{\"id\":\"66654\"},\"selection_policy\":{\"id\":\"66708\"}},\"id\":\"66653\",\"type\":\"ColumnDataSource\"},{\"attributes\":{\"callback\":null,\"renderers\":[{\"id\":\"65519\"}],\"tags\":[\"hv_created\"],\"tooltips\":[[\"Year\",\"@{Year}\"],[\"TOTAL\",\"@{TOTAL}\"]]},\"id\":\"65483\",\"type\":\"HoverTool\"},{\"attributes\":{\"axis_label\":\"Year\",\"formatter\":{\"id\":\"65523\"},\"major_label_policy\":{\"id\":\"65524\"},\"ticker\":{\"id\":\"65494\"}},\"id\":\"65493\",\"type\":\"CategoricalAxis\"},{\"attributes\":{\"toolbars\":[{\"id\":\"64786\"},{\"id\":\"64836\"},{\"id\":\"64886\"},{\"id\":\"64936\"}],\"tools\":[{\"id\":\"64763\"},{\"id\":\"64780\"},{\"id\":\"64781\"},{\"id\":\"64782\"},{\"id\":\"64783\"},{\"id\":\"64784\"},{\"id\":\"64813\"},{\"id\":\"64830\"},{\"id\":\"64831\"},{\"id\":\"64832\"},{\"id\":\"64833\"},{\"id\":\"64834\"},{\"id\":\"64863\"},{\"id\":\"64880\"},{\"id\":\"64881\"},{\"id\":\"64882\"},{\"id\":\"64883\"},{\"id\":\"64884\"},{\"id\":\"64913\"},{\"id\":\"64930\"},{\"id\":\"64931\"},{\"id\":\"64932\"},{\"id\":\"64933\"},{\"id\":\"64934\"}]},\"id\":\"65002\",\"type\":\"ProxyToolbar\"},{\"attributes\":{},\"id\":\"67067\",\"type\":\"ResetTool\"},{\"attributes\":{},\"id\":\"64832\",\"type\":\"WheelZoomTool\"},{\"attributes\":{},\"id\":\"67076\",\"type\":\"BasicTickFormatter\"},{\"attributes\":{},\"id\":\"64827\",\"type\":\"BasicTicker\"},{\"attributes\":{},\"id\":\"67063\",\"type\":\"SaveTool\"},{\"attributes\":{\"axis_label\":\"Number of Flights\",\"formatter\":{\"id\":\"64852\"},\"major_label_policy\":{\"id\":\"64857\"},\"ticker\":{\"id\":\"64827\"}},\"id\":\"64826\",\"type\":\"LinearAxis\"},{\"attributes\":{},\"id\":\"64830\",\"type\":\"SaveTool\"},{\"attributes\":{},\"id\":\"64957\",\"type\":\"AllLabels\"},{\"attributes\":{},\"id\":\"64418\",\"type\":\"UnionRenderers\"},{\"attributes\":{\"active_multi\":null,\"tools\":[{\"id\":\"65903\"},{\"id\":\"65920\"},{\"id\":\"65921\"},{\"id\":\"65922\"},{\"id\":\"65923\"},{\"id\":\"65924\"}]},\"id\":\"65926\",\"type\":\"Toolbar\"},{\"attributes\":{\"bottom_units\":\"screen\",\"fill_alpha\":0.5,\"fill_color\":\"lightgrey\",\"left_units\":\"screen\",\"level\":\"overlay\",\"line_alpha\":1.0,\"line_color\":\"black\",\"line_dash\":[4,4],\"line_width\":2,\"right_units\":\"screen\",\"syncable\":false,\"top_units\":\"screen\"},\"id\":\"64935\",\"type\":\"BoxAnnotation\"},{\"attributes\":{},\"id\":\"66617\",\"type\":\"AllLabels\"},{\"attributes\":{},\"id\":\"66024\",\"type\":\"ResetTool\"},{\"attributes\":{},\"id\":\"64834\",\"type\":\"ResetTool\"},{\"attributes\":{},\"id\":\"65494\",\"type\":\"CategoricalTicker\"},{\"attributes\":{\"format\":\"%.0f\"},\"id\":\"66612\",\"type\":\"PrintfTickFormatter\"},{\"attributes\":{},\"id\":\"66118\",\"type\":\"UnionRenderers\"},{\"attributes\":{},\"id\":\"65523\",\"type\":\"CategoricalTickFormatter\"},{\"attributes\":{\"bottom\":{\"value\":0},\"fill_alpha\":{\"value\":1.0},\"fill_color\":{\"value\":\"Blue\"},\"hatch_alpha\":{\"value\":1.0},\"hatch_color\":{\"value\":\"black\"},\"hatch_scale\":{\"value\":12.0},\"hatch_weight\":{\"value\":1.0},\"line_alpha\":{\"value\":1.0},\"line_cap\":{\"value\":\"butt\"},\"line_color\":{\"value\":\"black\"},\"line_dash\":{\"value\":[]},\"line_dash_offset\":{\"value\":0},\"line_join\":{\"value\":\"bevel\"},\"line_width\":{\"value\":1},\"top\":{\"field\":\"TOTAL\"},\"width\":{\"value\":0.8},\"x\":{\"field\":\"Year\"}},\"id\":\"66611\",\"type\":\"VBar\"},{\"attributes\":{\"children\":[{\"id\":\"67046\"},{\"id\":\"67276\"}],\"margin\":[0,0,0,0],\"name\":\"Row78593\"},\"id\":\"67040\",\"type\":\"Row\"},{\"attributes\":{\"source\":{\"id\":\"66603\"}},\"id\":\"66610\",\"type\":\"CDSView\"},{\"attributes\":{\"bottom_units\":\"screen\",\"fill_alpha\":0.5,\"fill_color\":\"lightgrey\",\"left_units\":\"screen\",\"level\":\"overlay\",\"line_alpha\":1.0,\"line_color\":\"black\",\"line_dash\":[4,4],\"line_width\":2,\"right_units\":\"screen\",\"syncable\":false,\"top_units\":\"screen\"},\"id\":\"65455\",\"type\":\"BoxAnnotation\"},{\"attributes\":{},\"id\":\"66613\",\"type\":\"CategoricalTickFormatter\"},{\"attributes\":{\"fill_alpha\":{\"value\":0.2},\"fill_color\":{\"value\":\"Blue\"},\"line_alpha\":{\"value\":0.2},\"top\":{\"field\":\"TOTAL\"},\"width\":{\"value\":0.8},\"x\":{\"field\":\"Year\"}},\"id\":\"66608\",\"type\":\"VBar\"},{\"attributes\":{},\"id\":\"65491\",\"type\":\"LinearScale\"},{\"attributes\":{\"fill_color\":{\"value\":\"Red\"},\"top\":{\"field\":\"TOTAL\"},\"width\":{\"value\":0.8},\"x\":{\"field\":\"Year\"}},\"id\":\"65516\",\"type\":\"VBar\"},{\"attributes\":{\"bottom_units\":\"screen\",\"fill_alpha\":0.5,\"fill_color\":\"lightgrey\",\"left_units\":\"screen\",\"level\":\"overlay\",\"line_alpha\":1.0,\"line_color\":\"black\",\"line_dash\":[4,4],\"line_width\":2,\"right_units\":\"screen\",\"syncable\":false,\"top_units\":\"screen\"},\"id\":\"65925\",\"type\":\"BoxAnnotation\"},{\"attributes\":{\"active_multi\":null,\"tools\":[{\"id\":\"64813\"},{\"id\":\"64830\"},{\"id\":\"64831\"},{\"id\":\"64832\"},{\"id\":\"64833\"},{\"id\":\"64834\"}]},\"id\":\"64836\",\"type\":\"Toolbar\"},{\"attributes\":{\"overlay\":{\"id\":\"64835\"}},\"id\":\"64833\",\"type\":\"BoxZoomTool\"},{\"attributes\":{\"fill_alpha\":{\"value\":0.1},\"fill_color\":{\"value\":\"Blue\"},\"line_alpha\":{\"value\":0.1},\"top\":{\"field\":\"TOTAL\"},\"width\":{\"value\":0.8},\"x\":{\"field\":\"Year\"}},\"id\":\"66607\",\"type\":\"VBar\"},{\"attributes\":{\"source\":{\"id\":\"66033\"}},\"id\":\"66040\",\"type\":\"CDSView\"},{\"attributes\":{\"data_source\":{\"id\":\"64943\"},\"glyph\":{\"id\":\"64946\"},\"hover_glyph\":null,\"muted_glyph\":{\"id\":\"64948\"},\"nonselection_glyph\":{\"id\":\"64947\"},\"selection_glyph\":{\"id\":\"64951\"},\"view\":{\"id\":\"64950\"}},\"id\":\"64949\",\"type\":\"GlyphRenderer\"},{\"attributes\":{\"format\":\"%.0f\"},\"id\":\"64852\",\"type\":\"PrintfTickFormatter\"},{\"attributes\":{},\"id\":\"64944\",\"type\":\"Selection\"},{\"attributes\":{\"toolbar\":{\"id\":\"65002\"},\"toolbar_location\":\"above\"},\"id\":\"65003\",\"type\":\"ToolbarBox\"},{\"attributes\":{\"line_alpha\":0.2,\"line_color\":\"#fc4f30\",\"line_width\":2,\"x\":{\"field\":\"Year\"},\"y\":{\"field\":\"value\"}},\"id\":\"67108\",\"type\":\"Line\"},{\"attributes\":{\"fill_color\":{\"value\":\"Red\"},\"top\":{\"field\":\"TOTAL\"},\"width\":{\"value\":0.8},\"x\":{\"field\":\"Year\"}},\"id\":\"64946\",\"type\":\"VBar\"},{\"attributes\":{},\"id\":\"65414\",\"type\":\"Selection\"},{\"attributes\":{\"fill_alpha\":{\"value\":0.1},\"fill_color\":{\"value\":\"Red\"},\"line_alpha\":{\"value\":0.1},\"top\":{\"field\":\"TOTAL\"},\"width\":{\"value\":0.8},\"x\":{\"field\":\"Year\"}},\"id\":\"64947\",\"type\":\"VBar\"},{\"attributes\":{\"format\":\"%.0f\"},\"id\":\"65472\",\"type\":\"PrintfTickFormatter\"},{\"attributes\":{\"bottom_units\":\"screen\",\"fill_alpha\":0.5,\"fill_color\":\"lightgrey\",\"left_units\":\"screen\",\"level\":\"overlay\",\"line_alpha\":1.0,\"line_color\":\"black\",\"line_dash\":[4,4],\"line_width\":2,\"right_units\":\"screen\",\"syncable\":false,\"top_units\":\"screen\"},\"id\":\"67068\",\"type\":\"BoxAnnotation\"},{\"attributes\":{\"end\":237435217.4,\"reset_end\":237435217.4,\"reset_start\":0.0,\"tags\":[[[\"TOTAL\",\"TOTAL\",null]]]},\"id\":\"65382\",\"type\":\"Range1d\"},{\"attributes\":{\"fill_alpha\":{\"value\":0.2},\"fill_color\":{\"value\":\"Green\"},\"line_alpha\":{\"value\":0.2},\"top\":{\"field\":\"TOTAL\"},\"width\":{\"value\":0.8},\"x\":{\"field\":\"Year\"}},\"id\":\"64848\",\"type\":\"VBar\"},{\"attributes\":{},\"id\":\"64857\",\"type\":\"AllLabels\"},{\"attributes\":{},\"id\":\"67080\",\"type\":\"AllLabels\"},{\"attributes\":{},\"id\":\"65474\",\"type\":\"AllLabels\"},{\"attributes\":{},\"id\":\"64853\",\"type\":\"CategoricalTickFormatter\"},{\"attributes\":{\"fill_color\":{\"value\":\"Green\"},\"top\":{\"field\":\"TOTAL\"},\"width\":{\"value\":0.8},\"x\":{\"field\":\"Year\"}},\"id\":\"64846\",\"type\":\"VBar\"},{\"attributes\":{},\"id\":\"64854\",\"type\":\"AllLabels\"},{\"attributes\":{\"bottom\":{\"value\":0},\"fill_alpha\":{\"value\":1.0},\"fill_color\":{\"value\":\"Red\"},\"hatch_alpha\":{\"value\":1.0},\"hatch_color\":{\"value\":\"black\"},\"hatch_scale\":{\"value\":12.0},\"hatch_weight\":{\"value\":1.0},\"line_alpha\":{\"value\":1.0},\"line_cap\":{\"value\":\"butt\"},\"line_color\":{\"value\":\"black\"},\"line_dash\":{\"value\":[]},\"line_dash_offset\":{\"value\":0},\"line_join\":{\"value\":\"bevel\"},\"line_width\":{\"value\":1},\"top\":{\"field\":\"TOTAL\"},\"width\":{\"value\":0.8},\"x\":{\"field\":\"Year\"}},\"id\":\"64951\",\"type\":\"VBar\"},{\"attributes\":{\"bottom_units\":\"screen\",\"fill_alpha\":0.5,\"fill_color\":\"lightgrey\",\"left_units\":\"screen\",\"level\":\"overlay\",\"line_alpha\":1.0,\"line_color\":\"black\",\"line_dash\":[4,4],\"line_width\":2,\"right_units\":\"screen\",\"syncable\":false,\"top_units\":\"screen\"},\"id\":\"64835\",\"type\":\"BoxAnnotation\"},{\"attributes\":{\"axis_label\":\"Year\",\"formatter\":{\"id\":\"67076\"},\"major_label_policy\":{\"id\":\"67077\"},\"ticker\":{\"id\":\"67056\"}},\"id\":\"67055\",\"type\":\"LinearAxis\"},{\"attributes\":{\"fill_alpha\":{\"value\":0.1},\"fill_color\":{\"value\":\"Green\"},\"line_alpha\":{\"value\":0.1},\"top\":{\"field\":\"TOTAL\"},\"width\":{\"value\":0.8},\"x\":{\"field\":\"Year\"}},\"id\":\"64847\",\"type\":\"VBar\"},{\"attributes\":{},\"id\":\"65538\",\"type\":\"UnionRenderers\"},{\"attributes\":{\"source\":{\"id\":\"64843\"}},\"id\":\"64850\",\"type\":\"CDSView\"},{\"attributes\":{},\"id\":\"67053\",\"type\":\"LinearScale\"},{\"attributes\":{},\"id\":\"67056\",\"type\":\"BasicTicker\"},{\"attributes\":{\"fill_alpha\":{\"value\":0.2},\"fill_color\":{\"value\":\"Red\"},\"line_alpha\":{\"value\":0.2},\"top\":{\"field\":\"TOTAL\"},\"width\":{\"value\":0.8},\"x\":{\"field\":\"Year\"}},\"id\":\"64948\",\"type\":\"VBar\"},{\"attributes\":{\"source\":{\"id\":\"64943\"}},\"id\":\"64950\",\"type\":\"CDSView\"},{\"attributes\":{},\"id\":\"65568\",\"type\":\"UnionRenderers\"},{\"attributes\":{},\"id\":\"64844\",\"type\":\"Selection\"},{\"attributes\":{\"fill_color\":{\"value\":\"Green\"},\"top\":{\"field\":\"TOTAL\"},\"width\":{\"value\":0.8},\"x\":{\"field\":\"Year\"}},\"id\":\"65416\",\"type\":\"VBar\"},{\"attributes\":{\"toolbar\":{\"id\":\"65572\"},\"toolbar_location\":\"above\"},\"id\":\"65573\",\"type\":\"ToolbarBox\"},{\"attributes\":{\"data_source\":{\"id\":\"64843\"},\"glyph\":{\"id\":\"64846\"},\"hover_glyph\":null,\"muted_glyph\":{\"id\":\"64848\"},\"nonselection_glyph\":{\"id\":\"64847\"},\"selection_glyph\":{\"id\":\"64851\"},\"view\":{\"id\":\"64850\"}},\"id\":\"64849\",\"type\":\"GlyphRenderer\"},{\"attributes\":{\"end\":2021.0,\"reset_end\":2021.0,\"reset_start\":1990.0,\"start\":1990.0,\"tags\":[[[\"Year\",\"Year\",null]]]},\"id\":\"67041\",\"type\":\"Range1d\"},{\"attributes\":{\"bottom_units\":\"screen\",\"fill_alpha\":0.5,\"fill_color\":\"lightgrey\",\"left_units\":\"screen\",\"level\":\"overlay\",\"line_alpha\":1.0,\"line_color\":\"black\",\"line_dash\":[4,4],\"line_width\":2,\"right_units\":\"screen\",\"syncable\":false,\"top_units\":\"screen\"},\"id\":\"64885\",\"type\":\"BoxAnnotation\"},{\"attributes\":{\"data\":{\"Variable\":[\"Southwest Airlines Total\",\"Southwest Airlines Total\",\"Southwest Airlines Total\",\"Southwest Airlines Total\",\"Southwest Airlines Total\",\"Southwest Airlines Total\",\"Southwest Airlines Total\",\"Southwest Airlines Total\",\"Southwest Airlines Total\",\"Southwest Airlines Total\",\"Southwest Airlines Total\",\"Southwest Airlines Total\",\"Southwest Airlines Total\",\"Southwest Airlines Total\",\"Southwest Airlines Total\",\"Southwest Airlines Total\",\"Southwest Airlines Total\",\"Southwest Airlines Total\",\"Southwest Airlines Total\",\"Southwest Airlines Total\",\"Southwest Airlines Total\",\"Southwest Airlines Total\",\"Southwest Airlines Total\",\"Southwest Airlines Total\",\"Southwest Airlines Total\",\"Southwest Airlines Total\",\"Southwest Airlines Total\",\"Southwest Airlines Total\",\"Southwest Airlines Total\",\"Southwest Airlines Total\",\"Southwest Airlines Total\",\"Southwest Airlines Total\"],\"Year\":[1990,1991,1992,1993,1994,1995,1996,1997,1998,1999,2000,2001,2002,2003,2004,2005,2006,2007,2008,2009,2010,2011,2012,2013,2014,2015,2016,2017,2018,2019,2020,2021],\"value\":{\"__ndarray__\":\"AAAAAGApwECrqqqq6hXCQFVVVVW1WcVAVVVVVdWByEAAAAAAgFPNQAAAAADggdJAAAAAALC61UCrqqqqepzXQFRVVVW1hNhAVFVVVXW62kCrqqqqOgDcQFRVVVXlKt5Aq6qqqnpR4EAAAAAAuEzgQFRVVVX17t5AAAAAAJDN3kAAAAAA0GnfQAAAAAAQcuBAVVVVVf0X4UBVVVVVHVDhQAAAAAB4I+FAAAAAAMj24UBUVVVVzd/lQFRVVVWNd+ZAq6qqqtqX5kBUVVVVLdPnQKuqqqqS6+lAVFVVVWVw60AAAAAACM/sQAAAAABY2O1Aq6qqqvKz7UAAAAAAMOTrQA==\",\"dtype\":\"float64\",\"order\":\"little\",\"shape\":[32]}},\"selected\":{\"id\":\"67104\"},\"selection_policy\":{\"id\":\"67121\"}},\"id\":\"67103\",\"type\":\"ColumnDataSource\"},{\"attributes\":{\"fill_color\":{\"value\":\"Orange\"},\"top\":{\"field\":\"TOTAL\"},\"width\":{\"value\":0.8},\"x\":{\"field\":\"Year\"}},\"id\":\"64796\",\"type\":\"VBar\"},{\"attributes\":{\"fill_alpha\":{\"value\":0.1},\"fill_color\":{\"value\":\"Orange\"},\"line_alpha\":{\"value\":0.1},\"top\":{\"field\":\"TOTAL\"},\"width\":{\"value\":0.8},\"x\":{\"field\":\"Year\"}},\"id\":\"65367\",\"type\":\"VBar\"},{\"attributes\":{\"data_source\":{\"id\":\"65363\"},\"glyph\":{\"id\":\"65366\"},\"hover_glyph\":null,\"muted_glyph\":{\"id\":\"65368\"},\"nonselection_glyph\":{\"id\":\"65367\"},\"selection_glyph\":{\"id\":\"65371\"},\"view\":{\"id\":\"65370\"}},\"id\":\"65369\",\"type\":\"GlyphRenderer\"},{\"attributes\":{\"fill_alpha\":{\"value\":0.1},\"fill_color\":{\"value\":\"Orange\"},\"line_alpha\":{\"value\":0.1},\"top\":{\"field\":\"TOTAL\"},\"width\":{\"value\":0.8},\"x\":{\"field\":\"Year\"}},\"id\":\"64797\",\"type\":\"VBar\"},{\"attributes\":{\"axis_label\":\"(The number of passengers and the distance flown in thousands (000)) \",\"formatter\":{\"id\":\"65422\"},\"major_label_policy\":{\"id\":\"65427\"},\"ticker\":{\"id\":\"65397\"}},\"id\":\"65396\",\"type\":\"LinearAxis\"},{\"attributes\":{},\"id\":\"66492\",\"type\":\"WheelZoomTool\"},{\"attributes\":{\"callback\":null,\"renderers\":[{\"id\":\"64949\"}],\"tags\":[\"hv_created\"],\"tooltips\":[[\"Year\",\"@{Year}\"],[\"TOTAL\",\"@{TOTAL}\"]]},\"id\":\"64913\",\"type\":\"HoverTool\"},{\"attributes\":{\"fill_alpha\":{\"value\":0.2},\"fill_color\":{\"value\":\"Blue\"},\"line_alpha\":{\"value\":0.2},\"top\":{\"field\":\"TOTAL\"},\"width\":{\"value\":0.8},\"x\":{\"field\":\"Year\"}},\"id\":\"64328\",\"type\":\"VBar\"},{\"attributes\":{\"bottom\":{\"value\":0},\"fill_alpha\":{\"value\":1.0},\"fill_color\":{\"value\":\"Orange\"},\"hatch_alpha\":{\"value\":1.0},\"hatch_color\":{\"value\":\"black\"},\"hatch_scale\":{\"value\":12.0},\"hatch_weight\":{\"value\":1.0},\"line_alpha\":{\"value\":1.0},\"line_cap\":{\"value\":\"butt\"},\"line_color\":{\"value\":\"black\"},\"line_dash\":{\"value\":[]},\"line_dash_offset\":{\"value\":0},\"line_join\":{\"value\":\"bevel\"},\"line_width\":{\"value\":1},\"top\":{\"field\":\"TOTAL\"},\"width\":{\"value\":0.8},\"x\":{\"field\":\"Year\"}},\"id\":\"65371\",\"type\":\"VBar\"},{\"attributes\":{\"data_source\":{\"id\":\"64793\"},\"glyph\":{\"id\":\"64796\"},\"hover_glyph\":null,\"muted_glyph\":{\"id\":\"64798\"},\"nonselection_glyph\":{\"id\":\"64797\"},\"selection_glyph\":{\"id\":\"64801\"},\"view\":{\"id\":\"64800\"}},\"id\":\"64799\",\"type\":\"GlyphRenderer\"},{\"attributes\":{},\"id\":\"65374\",\"type\":\"AllLabels\"},{\"attributes\":{},\"id\":\"66664\",\"type\":\"AllLabels\"},{\"attributes\":{\"fill_alpha\":{\"value\":0.2},\"fill_color\":{\"value\":\"Orange\"},\"line_alpha\":{\"value\":0.2},\"top\":{\"field\":\"TOTAL\"},\"width\":{\"value\":0.8},\"x\":{\"field\":\"Year\"}},\"id\":\"65368\",\"type\":\"VBar\"},{\"attributes\":{\"source\":{\"id\":\"64793\"}},\"id\":\"64800\",\"type\":\"CDSView\"},{\"attributes\":{\"end\":867160.7,\"reset_end\":867160.7,\"reset_start\":0.0,\"tags\":[[[\"TOTAL\",\"TOTAL\",null]]]},\"id\":\"64912\",\"type\":\"Range1d\"},{\"attributes\":{\"source\":{\"id\":\"65363\"}},\"id\":\"65370\",\"type\":\"CDSView\"},{\"attributes\":{\"data\":{\"TOTAL\":{\"__ndarray__\":\"UrgehevxUUA9CtejcF1SQB+F61G43lJAKVyPwvVoU0AfhetRuM5TQOxRuB6F+1NAw/UoXI/iU0AK16NwPRpUQBSuR+F6hFRAZmZmZmaGVEAzMzMzM7NUQLgehetRyFRA7FG4HoXbVEBSuB6F6/FUQHsUrkfh2lRAcT0K16PgVECuR+F6FO5UQJqZmZmZKVVAw/UoXI9iTUBcj8L1KDxMQA==\",\"dtype\":\"float64\",\"order\":\"little\",\"shape\":[20]},\"Year\":[\"2002\",\"2003\",\"2004\",\"2005\",\"2006\",\"2007\",\"2008\",\"2009\",\"2010\",\"2011\",\"2012\",\"2013\",\"2014\",\"2015\",\"2016\",\"2017\",\"2018\",\"2019\",\"2020\",\"2021\"]},\"selected\":{\"id\":\"66504\"},\"selection_policy\":{\"id\":\"66678\"}},\"id\":\"66503\",\"type\":\"ColumnDataSource\"},{\"attributes\":{\"fill_alpha\":{\"value\":0.2},\"fill_color\":{\"value\":\"Orange\"},\"line_alpha\":{\"value\":0.2},\"top\":{\"field\":\"TOTAL\"},\"width\":{\"value\":0.8},\"x\":{\"field\":\"Year\"}},\"id\":\"64798\",\"type\":\"VBar\"},{\"attributes\":{\"factors\":[\"2002\",\"2003\",\"2004\",\"2005\",\"2006\",\"2007\",\"2008\",\"2009\",\"2010\",\"2011\",\"2012\",\"2013\",\"2014\",\"2015\",\"2016\",\"2017\",\"2018\",\"2019\",\"2020\",\"2021\"],\"tags\":[[[\"Year\",\"Year\",null]]]},\"id\":\"66471\",\"type\":\"FactorRange\"},{\"attributes\":{\"axis\":{\"id\":\"65396\"},\"dimension\":1,\"grid_line_color\":null,\"ticker\":null},\"id\":\"65399\",\"type\":\"Grid\"},{\"attributes\":{\"bottom\":{\"value\":0},\"fill_alpha\":{\"value\":1.0},\"fill_color\":{\"value\":\"Orange\"},\"hatch_alpha\":{\"value\":1.0},\"hatch_color\":{\"value\":\"black\"},\"hatch_scale\":{\"value\":12.0},\"hatch_weight\":{\"value\":1.0},\"line_alpha\":{\"value\":1.0},\"line_cap\":{\"value\":\"butt\"},\"line_color\":{\"value\":\"black\"},\"line_dash\":{\"value\":[]},\"line_dash_offset\":{\"value\":0},\"line_join\":{\"value\":\"bevel\"},\"line_width\":{\"value\":1},\"top\":{\"field\":\"TOTAL\"},\"width\":{\"value\":0.8},\"x\":{\"field\":\"Year\"}},\"id\":\"64801\",\"type\":\"VBar\"},{\"attributes\":{\"children\":[[{\"id\":\"64764\"},0,0],[{\"id\":\"64814\"},0,1],[{\"id\":\"64864\"},0,2],[{\"id\":\"64914\"},0,3]]},\"id\":\"65001\",\"type\":\"GridBox\"},{\"attributes\":{\"source\":{\"id\":\"64323\"}},\"id\":\"64330\",\"type\":\"CDSView\"},{\"attributes\":{\"axis\":{\"id\":\"66483\"},\"grid_line_color\":null,\"ticker\":null},\"id\":\"66485\",\"type\":\"Grid\"},{\"attributes\":{\"callback\":null,\"renderers\":[{\"id\":\"65419\"}],\"tags\":[\"hv_created\"],\"tooltips\":[[\"Year\",\"@{Year}\"],[\"TOTAL\",\"@{TOTAL}\"]]},\"id\":\"65383\",\"type\":\"HoverTool\"},{\"attributes\":{},\"id\":\"67126\",\"type\":\"Selection\"},{\"attributes\":{\"fill_alpha\":{\"value\":0.1},\"fill_color\":{\"value\":\"Red\"},\"line_alpha\":{\"value\":0.1},\"top\":{\"field\":\"TOTAL\"},\"width\":{\"value\":0.8},\"x\":{\"field\":\"Year\"}},\"id\":\"66657\",\"type\":\"VBar\"},{\"attributes\":{\"toolbars\":[{\"id\":\"65356\"},{\"id\":\"65406\"},{\"id\":\"65456\"},{\"id\":\"65506\"}],\"tools\":[{\"id\":\"65333\"},{\"id\":\"65350\"},{\"id\":\"65351\"},{\"id\":\"65352\"},{\"id\":\"65353\"},{\"id\":\"65354\"},{\"id\":\"65383\"},{\"id\":\"65400\"},{\"id\":\"65401\"},{\"id\":\"65402\"},{\"id\":\"65403\"},{\"id\":\"65404\"},{\"id\":\"65433\"},{\"id\":\"65450\"},{\"id\":\"65451\"},{\"id\":\"65452\"},{\"id\":\"65453\"},{\"id\":\"65454\"},{\"id\":\"65483\"},{\"id\":\"65500\"},{\"id\":\"65501\"},{\"id\":\"65502\"},{\"id\":\"65503\"},{\"id\":\"65504\"}]},\"id\":\"65572\",\"type\":\"ProxyToolbar\"},{\"attributes\":{\"axis_label\":\"Year\",\"formatter\":{\"id\":\"66513\"},\"major_label_policy\":{\"id\":\"66514\"},\"ticker\":{\"id\":\"66484\"}},\"id\":\"66483\",\"type\":\"CategoricalAxis\"},{\"attributes\":{\"format\":\"%.0f\"},\"id\":\"65372\",\"type\":\"PrintfTickFormatter\"},{\"attributes\":{\"fill_color\":{\"value\":\"Red\"},\"top\":{\"field\":\"TOTAL\"},\"width\":{\"value\":0.8},\"x\":{\"field\":\"Year\"}},\"id\":\"66656\",\"type\":\"VBar\"},{\"attributes\":{\"bottom\":{\"value\":0},\"fill_alpha\":{\"value\":1.0},\"fill_color\":{\"value\":\"Orange\"},\"hatch_alpha\":{\"value\":1.0},\"hatch_color\":{\"value\":\"black\"},\"hatch_scale\":{\"value\":12.0},\"hatch_weight\":{\"value\":1.0},\"line_alpha\":{\"value\":1.0},\"line_cap\":{\"value\":\"butt\"},\"line_color\":{\"value\":\"black\"},\"line_dash\":{\"value\":[]},\"line_dash_offset\":{\"value\":0},\"line_join\":{\"value\":\"bevel\"},\"line_width\":{\"value\":1},\"top\":{\"field\":\"TOTAL\"},\"width\":{\"value\":0.8},\"x\":{\"field\":\"Year\"}},\"id\":\"66511\",\"type\":\"VBar\"},{\"attributes\":{\"active_multi\":null,\"tools\":[{\"id\":\"66473\"},{\"id\":\"66490\"},{\"id\":\"66491\"},{\"id\":\"66492\"},{\"id\":\"66493\"},{\"id\":\"66494\"}]},\"id\":\"66496\",\"type\":\"Toolbar\"},{\"attributes\":{},\"id\":\"65373\",\"type\":\"CategoricalTickFormatter\"},{\"attributes\":{\"below\":[{\"id\":\"64923\"}],\"center\":[{\"id\":\"64925\"},{\"id\":\"64929\"}],\"height\":500,\"left\":[{\"id\":\"64926\"}],\"margin\":null,\"min_border_bottom\":10,\"min_border_left\":10,\"min_border_right\":10,\"min_border_top\":10,\"renderers\":[{\"id\":\"64949\"}],\"sizing_mode\":\"fixed\",\"title\":{\"id\":\"64915\"},\"toolbar\":{\"id\":\"64936\"},\"toolbar_location\":null,\"width\":900,\"x_range\":{\"id\":\"64911\"},\"x_scale\":{\"id\":\"64919\"},\"y_range\":{\"id\":\"64912\"},\"y_scale\":{\"id\":\"64921\"}},\"id\":\"64914\",\"subtype\":\"Figure\",\"type\":\"Plot\"},{\"attributes\":{\"axis_label\":\"(the number of seats and the distance flown in thousands (000)) \",\"formatter\":{\"id\":\"66512\"},\"major_label_policy\":{\"id\":\"66517\"},\"ticker\":{\"id\":\"66487\"}},\"id\":\"66486\",\"type\":\"LinearAxis\"},{\"attributes\":{},\"id\":\"66654\",\"type\":\"Selection\"},{\"attributes\":{},\"id\":\"65377\",\"type\":\"AllLabels\"},{\"attributes\":{},\"id\":\"66481\",\"type\":\"LinearScale\"},{\"attributes\":{},\"id\":\"66494\",\"type\":\"ResetTool\"},{\"attributes\":{},\"id\":\"66513\",\"type\":\"CategoricalTickFormatter\"},{\"attributes\":{},\"id\":\"66667\",\"type\":\"AllLabels\"},{\"attributes\":{\"overlay\":{\"id\":\"66495\"}},\"id\":\"66493\",\"type\":\"BoxZoomTool\"},{\"attributes\":{\"format\":\"%.0f\"},\"id\":\"66662\",\"type\":\"PrintfTickFormatter\"},{\"attributes\":{},\"id\":\"65394\",\"type\":\"CategoricalTicker\"},{\"attributes\":{},\"id\":\"65451\",\"type\":\"PanTool\"},{\"attributes\":{},\"id\":\"65389\",\"type\":\"CategoricalScale\"},{\"attributes\":{\"text\":\"Delta Airlines Revenue Passenger-Miles - All Airports\",\"text_color\":\"black\",\"text_font_size\":\"12pt\"},\"id\":\"65385\",\"type\":\"Title\"},{\"attributes\":{\"below\":[{\"id\":\"66483\"}],\"center\":[{\"id\":\"66485\"},{\"id\":\"66489\"}],\"height\":500,\"left\":[{\"id\":\"66486\"}],\"margin\":null,\"min_border_bottom\":10,\"min_border_left\":10,\"min_border_right\":10,\"min_border_top\":10,\"renderers\":[{\"id\":\"66509\"}],\"sizing_mode\":\"fixed\",\"title\":{\"id\":\"66475\"},\"toolbar\":{\"id\":\"66496\"},\"toolbar_location\":null,\"width\":900,\"x_range\":{\"id\":\"66471\"},\"x_scale\":{\"id\":\"66479\"},\"y_range\":{\"id\":\"66472\"},\"y_scale\":{\"id\":\"66481\"}},\"id\":\"66474\",\"subtype\":\"Figure\",\"type\":\"Plot\"},{\"attributes\":{},\"id\":\"67060\",\"type\":\"BasicTicker\"},{\"attributes\":{\"overlay\":{\"id\":\"65455\"}},\"id\":\"65453\",\"type\":\"BoxZoomTool\"},{\"attributes\":{\"axis\":{\"id\":\"65393\"},\"grid_line_color\":null,\"ticker\":null},\"id\":\"65395\",\"type\":\"Grid\"},{\"attributes\":{},\"id\":\"66490\",\"type\":\"SaveTool\"},{\"attributes\":{\"data\":{\"TOTAL\":[94651789,88593664,97432315,102688386,98012127,102721924,104824682,100077889,164152874,164189287,165118702,168720300,177467708,185840944,189706790,195589820,204285183,217001391,66088373,12663127],\"Year\":[\"2002\",\"2003\",\"2004\",\"2005\",\"2006\",\"2007\",\"2008\",\"2009\",\"2010\",\"2011\",\"2012\",\"2013\",\"2014\",\"2015\",\"2016\",\"2017\",\"2018\",\"2019\",\"2020\",\"2021\"]},\"selected\":{\"id\":\"65414\"},\"selection_policy\":{\"id\":\"65548\"}},\"id\":\"65413\",\"type\":\"ColumnDataSource\"},{\"attributes\":{},\"id\":\"66479\",\"type\":\"CategoricalScale\"},{\"attributes\":{},\"id\":\"65391\",\"type\":\"LinearScale\"},{\"attributes\":{},\"id\":\"65401\",\"type\":\"PanTool\"},{\"attributes\":{\"axis_label\":\"Year\",\"formatter\":{\"id\":\"65423\"},\"major_label_policy\":{\"id\":\"65424\"},\"ticker\":{\"id\":\"65394\"}},\"id\":\"65393\",\"type\":\"CategoricalAxis\"},{\"attributes\":{\"data\":{\"TOTAL\":[8675945,10136163,10699663,10825881,10521442,10671436,10202000,9542320,9499044,9456417,9267341,9152494,8954422,8896612,9025706,9021841,9256800,9463717,5509442,1385649],\"Year\":[\"2002\",\"2003\",\"2004\",\"2005\",\"2006\",\"2007\",\"2008\",\"2009\",\"2010\",\"2011\",\"2012\",\"2013\",\"2014\",\"2015\",\"2016\",\"2017\",\"2018\",\"2019\",\"2020\",\"2021\"]},\"selected\":{\"id\":\"64794\"},\"selection_policy\":{\"id\":\"64968\"}},\"id\":\"64793\",\"type\":\"ColumnDataSource\"},{\"attributes\":{\"line_color\":\"#fc4f30\",\"line_width\":2,\"x\":{\"field\":\"Year\"},\"y\":{\"field\":\"value\"}},\"id\":\"67124\",\"type\":\"Line\"},{\"attributes\":{},\"id\":\"66491\",\"type\":\"PanTool\"},{\"attributes\":{},\"id\":\"65397\",\"type\":\"BasicTicker\"},{\"attributes\":{},\"id\":\"65402\",\"type\":\"WheelZoomTool\"},{\"attributes\":{},\"id\":\"66663\",\"type\":\"CategoricalTickFormatter\"},{\"attributes\":{},\"id\":\"67286\",\"type\":\"Selection\"},{\"attributes\":{\"data\":{\"TOTAL\":{\"__ndarray__\":\"7FG4HoUbUkCkcD0K15NSQM3MzMzM7FJAuB6F61FoU0BSuB6F68FTQLgehetRSFRASOF6FK6HVEDsUbgehZtUQM3MzMzM/FRAZmZmZmbGVEBSuB6F6zFVQClcj8L1OFVAKVyPwvVoVUDXo3A9CmdVQB+F61G4TlVAFK5H4XqUVUB7FK5H4YpVQArXo3A9ulVAAAAAAACgS0DD9Shcj4JIQA==\",\"dtype\":\"float64\",\"order\":\"little\",\"shape\":[20]},\"Year\":[\"2002\",\"2003\",\"2004\",\"2005\",\"2006\",\"2007\",\"2008\",\"2009\",\"2010\",\"2011\",\"2012\",\"2013\",\"2014\",\"2015\",\"2016\",\"2017\",\"2018\",\"2019\",\"2020\",\"2021\"]},\"selected\":{\"id\":\"66554\"},\"selection_policy\":{\"id\":\"66688\"}},\"id\":\"66553\",\"type\":\"ColumnDataSource\"},{\"attributes\":{\"active_multi\":null,\"tools\":[{\"id\":\"65433\"},{\"id\":\"65450\"},{\"id\":\"65451\"},{\"id\":\"65452\"},{\"id\":\"65453\"},{\"id\":\"65454\"}]},\"id\":\"65456\",\"type\":\"Toolbar\"},{\"attributes\":{\"overlay\":{\"id\":\"65405\"}},\"id\":\"65403\",\"type\":\"BoxZoomTool\"},{\"attributes\":{},\"id\":\"65404\",\"type\":\"ResetTool\"},{\"attributes\":{\"callback\":null,\"renderers\":[{\"id\":\"65469\"}],\"tags\":[\"hv_created\"],\"tooltips\":[[\"Year\",\"@{Year}\"],[\"TOTAL\",\"@{TOTAL}\"]]},\"id\":\"65433\",\"type\":\"HoverTool\"},{\"attributes\":{\"data\":{\"TOTAL\":[45397266,47948232,53423655,60228987,67697570,72325362,73497807,74462401,78052664,83852181,85570154,90178339,101168686,117502779,124801269,129044798,133325575,131348564,54224085,14488468],\"Year\":[\"2002\",\"2003\",\"2004\",\"2005\",\"2006\",\"2007\",\"2008\",\"2009\",\"2010\",\"2011\",\"2012\",\"2013\",\"2014\",\"2015\",\"2016\",\"2017\",\"2018\",\"2019\",\"2020\",\"2021\"]},\"selected\":{\"id\":\"65464\"},\"selection_policy\":{\"id\":\"65558\"}},\"id\":\"65463\",\"type\":\"ColumnDataSource\"},{\"attributes\":{},\"id\":\"65400\",\"type\":\"SaveTool\"},{\"attributes\":{},\"id\":\"65452\",\"type\":\"WheelZoomTool\"},{\"attributes\":{\"axis\":{\"id\":\"66486\"},\"dimension\":1,\"grid_line_color\":null,\"ticker\":null},\"id\":\"66489\",\"type\":\"Grid\"},{\"attributes\":{},\"id\":\"65454\",\"type\":\"ResetTool\"},{\"attributes\":{\"data_source\":{\"id\":\"66653\"},\"glyph\":{\"id\":\"66656\"},\"hover_glyph\":null,\"muted_glyph\":{\"id\":\"66658\"},\"nonselection_glyph\":{\"id\":\"66657\"},\"selection_glyph\":{\"id\":\"66661\"},\"view\":{\"id\":\"66660\"}},\"id\":\"66659\",\"type\":\"GlyphRenderer\"},{\"attributes\":{},\"id\":\"67121\",\"type\":\"UnionRenderers\"},{\"attributes\":{\"bottom\":{\"value\":0},\"fill_alpha\":{\"value\":1.0},\"fill_color\":{\"value\":\"Red\"},\"hatch_alpha\":{\"value\":1.0},\"hatch_color\":{\"value\":\"black\"},\"hatch_scale\":{\"value\":12.0},\"hatch_weight\":{\"value\":1.0},\"line_alpha\":{\"value\":1.0},\"line_cap\":{\"value\":\"butt\"},\"line_color\":{\"value\":\"black\"},\"line_dash\":{\"value\":[]},\"line_dash_offset\":{\"value\":0},\"line_join\":{\"value\":\"bevel\"},\"line_width\":{\"value\":1},\"top\":{\"field\":\"TOTAL\"},\"width\":{\"value\":0.8},\"x\":{\"field\":\"Year\"}},\"id\":\"66661\",\"type\":\"VBar\"},{\"attributes\":{\"active_multi\":null,\"tools\":[{\"id\":\"65383\"},{\"id\":\"65400\"},{\"id\":\"65401\"},{\"id\":\"65402\"},{\"id\":\"65403\"},{\"id\":\"65404\"}]},\"id\":\"65406\",\"type\":\"Toolbar\"},{\"attributes\":{},\"id\":\"65450\",\"type\":\"SaveTool\"},{\"attributes\":{},\"id\":\"66487\",\"type\":\"BasicTicker\"},{\"attributes\":{},\"id\":\"66484\",\"type\":\"CategoricalTicker\"},{\"attributes\":{\"callback\":null,\"renderers\":[{\"id\":\"66509\"}],\"tags\":[\"hv_created\"],\"tooltips\":[[\"Year\",\"@{Year}\"],[\"TOTAL\",\"@{TOTAL}\"]]},\"id\":\"66473\",\"type\":\"HoverTool\"},{\"attributes\":{\"source\":{\"id\":\"66653\"}},\"id\":\"66660\",\"type\":\"CDSView\"},{\"attributes\":{},\"id\":\"64998\",\"type\":\"UnionRenderers\"},{\"attributes\":{\"below\":[{\"id\":\"65443\"}],\"center\":[{\"id\":\"65445\"},{\"id\":\"65449\"}],\"height\":500,\"left\":[{\"id\":\"65446\"}],\"margin\":null,\"min_border_bottom\":10,\"min_border_left\":10,\"min_border_right\":10,\"min_border_top\":10,\"renderers\":[{\"id\":\"65469\"}],\"sizing_mode\":\"fixed\",\"title\":{\"id\":\"65435\"},\"toolbar\":{\"id\":\"65456\"},\"toolbar_location\":null,\"width\":900,\"x_range\":{\"id\":\"65431\"},\"x_scale\":{\"id\":\"65439\"},\"y_range\":{\"id\":\"65432\"},\"y_scale\":{\"id\":\"65441\"}},\"id\":\"65434\",\"subtype\":\"Figure\",\"type\":\"Plot\"},{\"attributes\":{\"factors\":[\"2002\",\"2003\",\"2004\",\"2005\",\"2006\",\"2007\",\"2008\",\"2009\",\"2010\",\"2011\",\"2012\",\"2013\",\"2014\",\"2015\",\"2016\",\"2017\",\"2018\",\"2019\",\"2020\",\"2021\"],\"tags\":[[[\"Year\",\"Year\",null]]]},\"id\":\"65481\",\"type\":\"FactorRange\"},{\"attributes\":{\"end\":145209285.7,\"reset_end\":145209285.7,\"reset_start\":0.0,\"tags\":[[[\"TOTAL\",\"TOTAL\",null]]]},\"id\":\"65432\",\"type\":\"Range1d\"},{\"attributes\":{},\"id\":\"65524\",\"type\":\"AllLabels\"},{\"attributes\":{\"data\":{\"Variable\":[\"Delta Airlines Total\",\"Delta Airlines Total\",\"Delta Airlines Total\",\"Delta Airlines Total\",\"Delta Airlines Total\",\"Delta Airlines Total\",\"Delta Airlines Total\",\"Delta Airlines Total\",\"Delta Airlines Total\",\"Delta Airlines Total\",\"Delta Airlines Total\",\"Delta Airlines Total\",\"Delta Airlines Total\",\"Delta Airlines Total\",\"Delta Airlines Total\",\"Delta Airlines Total\",\"Delta Airlines Total\",\"Delta Airlines Total\",\"Delta Airlines Total\",\"Delta Airlines Total\",\"Delta Airlines Total\",\"Delta Airlines Total\",\"Delta Airlines Total\",\"Delta Airlines Total\",\"Delta Airlines Total\",\"Delta Airlines Total\",\"Delta Airlines Total\",\"Delta Airlines Total\",\"Delta Airlines Total\",\"Delta Airlines Total\",\"Delta Airlines Total\",\"Delta Airlines Total\"],\"Year\":[1990,1991,1992,1993,1994,1995,1996,1997,1998,1999,2000,2001,2002,2003,2004,2005,2006,2007,2008,2009,2010,2011,2012,2013,2014,2015,2016,2017,2018,2019,2020,2021],\"value\":{\"__ndarray__\":\"AAAAAGgm7kCrqqqqFoXwQFVVVVWBuPJAq6qqqka78UBVVVVVeQ7xQAAAAAAgmu5Aq6qqqkJH70AAAAAAjNHwQFVVVVWNEfJAVVVVVZHq8kBVVVVVBWvzQFVVVVWpuPNAq6qqqqIt8UAAAAAA6NLuQAAAAAB4vu1AAAAAACAD60CrqqqqIkznQAAAAAAQR+hAq6qqqgqA6EBUVVVVjUXoQFVVVVV9hfNAVVVVVa1r80AAAAAAYC/zQFVVVVXVL/NAAAAAADSW80BVVVVV+Wz0QAAAAAD0zPRAVVVVVWUm9UCrqqqqiqD1QAAAAAAQBfZAAAAAAEh68EAAAAAAKBbvQA==\",\"dtype\":\"float64\",\"order\":\"little\",\"shape\":[32]}},\"selected\":{\"id\":\"67083\"},\"selection_policy\":{\"id\":\"67098\"}},\"id\":\"67082\",\"type\":\"ColumnDataSource\"},{\"attributes\":{\"fill_alpha\":{\"value\":0.2},\"fill_color\":{\"value\":\"Red\"},\"line_alpha\":{\"value\":0.2},\"top\":{\"field\":\"TOTAL\"},\"width\":{\"value\":0.8},\"x\":{\"field\":\"Year\"}},\"id\":\"66658\",\"type\":\"VBar\"},{\"attributes\":{\"format\":\"%.0f\"},\"id\":\"65522\",\"type\":\"PrintfTickFormatter\"},{\"attributes\":{\"text\":\"All U.S. Carriers Available Seat-Miles - All Airports\",\"text_color\":\"black\",\"text_font_size\":\"12pt\"},\"id\":\"66475\",\"type\":\"Title\"},{\"attributes\":{\"end\":87.468,\"reset_end\":87.468,\"reset_start\":0.0,\"tags\":[[[\"TOTAL\",\"TOTAL\",null]]]},\"id\":\"66472\",\"type\":\"Range1d\"},{\"attributes\":{\"axis_label\":\"\",\"formatter\":{\"id\":\"67079\"},\"major_label_policy\":{\"id\":\"67080\"},\"ticker\":{\"id\":\"67060\"}},\"id\":\"67059\",\"type\":\"LinearAxis\"},{\"attributes\":{\"text\":\"Airline Employment Data\",\"text_color\":\"black\",\"text_font_size\":\"12pt\"},\"id\":\"67047\",\"type\":\"Title\"},{\"attributes\":{},\"id\":\"67285\",\"type\":\"UnionRenderers\"},{\"attributes\":{\"factors\":[\"2002\",\"2003\",\"2004\",\"2005\",\"2006\",\"2007\",\"2008\",\"2009\",\"2010\",\"2011\",\"2012\",\"2013\",\"2014\",\"2015\",\"2016\",\"2017\",\"2018\",\"2019\",\"2020\",\"2021\"],\"tags\":[[[\"Year\",\"Year\",null]]]},\"id\":\"65431\",\"type\":\"FactorRange\"},{\"attributes\":{\"fill_alpha\":{\"value\":0.1},\"fill_color\":{\"value\":\"Red\"},\"line_alpha\":{\"value\":0.1},\"top\":{\"field\":\"TOTAL\"},\"width\":{\"value\":0.8},\"x\":{\"field\":\"Year\"}},\"id\":\"64377\",\"type\":\"VBar\"},{\"attributes\":{\"fill_color\":{\"value\":\"Red\"},\"top\":{\"field\":\"TOTAL\"},\"width\":{\"value\":0.8},\"x\":{\"field\":\"Year\"}},\"id\":\"66086\",\"type\":\"VBar\"},{\"attributes\":{\"source\":{\"id\":\"64273\"}},\"id\":\"64280\",\"type\":\"CDSView\"},{\"attributes\":{\"end\":178206980.1,\"reset_end\":178206980.1,\"reset_start\":0.0,\"tags\":[[[\"TOTAL\",\"TOTAL\",null]]]},\"id\":\"64292\",\"type\":\"Range1d\"},{\"attributes\":{\"fill_alpha\":{\"value\":0.1},\"fill_color\":{\"value\":\"Red\"},\"line_alpha\":{\"value\":0.1},\"top\":{\"field\":\"TOTAL\"},\"width\":{\"value\":0.8},\"x\":{\"field\":\"Year\"}},\"id\":\"65517\",\"type\":\"VBar\"},{\"attributes\":{\"text\":\"Southwest Airlines Passengers - All Airports\",\"text_color\":\"black\",\"text_font_size\":\"12pt\"},\"id\":\"64295\",\"type\":\"Title\"},{\"attributes\":{\"data_source\":{\"id\":\"65513\"},\"glyph\":{\"id\":\"65516\"},\"hover_glyph\":null,\"muted_glyph\":{\"id\":\"65518\"},\"nonselection_glyph\":{\"id\":\"65517\"},\"selection_glyph\":{\"id\":\"65521\"},\"view\":{\"id\":\"65520\"}},\"id\":\"65519\",\"type\":\"GlyphRenderer\"},{\"attributes\":{\"fill_color\":{\"value\":\"Red\"},\"top\":{\"field\":\"TOTAL\"},\"width\":{\"value\":0.8},\"x\":{\"field\":\"Year\"}},\"id\":\"64376\",\"type\":\"VBar\"},{\"attributes\":{\"fill_alpha\":{\"value\":0.2},\"fill_color\":{\"value\":\"Green\"},\"line_alpha\":{\"value\":0.2},\"top\":{\"field\":\"TOTAL\"},\"width\":{\"value\":0.8},\"x\":{\"field\":\"Year\"}},\"id\":\"64278\",\"type\":\"VBar\"},{\"attributes\":{},\"id\":\"64384\",\"type\":\"AllLabels\"},{\"attributes\":{},\"id\":\"64398\",\"type\":\"UnionRenderers\"},{\"attributes\":{},\"id\":\"64374\",\"type\":\"Selection\"},{\"attributes\":{\"data_source\":{\"id\":\"64373\"},\"glyph\":{\"id\":\"64376\"},\"hover_glyph\":null,\"muted_glyph\":{\"id\":\"64378\"},\"nonselection_glyph\":{\"id\":\"64377\"},\"selection_glyph\":{\"id\":\"64381\"},\"view\":{\"id\":\"64380\"}},\"id\":\"64379\",\"type\":\"GlyphRenderer\"},{\"attributes\":{},\"id\":\"64304\",\"type\":\"CategoricalTicker\"},{\"attributes\":{},\"id\":\"66108\",\"type\":\"UnionRenderers\"},{\"attributes\":{\"callback\":null,\"renderers\":[{\"id\":\"64329\"}],\"tags\":[\"hv_created\"],\"tooltips\":[[\"Year\",\"@{Year}\"],[\"TOTAL\",\"@{TOTAL}\"]]},\"id\":\"64293\",\"type\":\"HoverTool\"},{\"attributes\":{\"bottom\":{\"value\":0},\"fill_alpha\":{\"value\":1.0},\"fill_color\":{\"value\":\"Red\"},\"hatch_alpha\":{\"value\":1.0},\"hatch_color\":{\"value\":\"black\"},\"hatch_scale\":{\"value\":12.0},\"hatch_weight\":{\"value\":1.0},\"line_alpha\":{\"value\":1.0},\"line_cap\":{\"value\":\"butt\"},\"line_color\":{\"value\":\"black\"},\"line_dash\":{\"value\":[]},\"line_dash_offset\":{\"value\":0},\"line_join\":{\"value\":\"bevel\"},\"line_width\":{\"value\":1},\"top\":{\"field\":\"TOTAL\"},\"width\":{\"value\":0.8},\"x\":{\"field\":\"Year\"}},\"id\":\"64381\",\"type\":\"VBar\"},{\"attributes\":{},\"id\":\"64988\",\"type\":\"UnionRenderers\"},{\"attributes\":{\"callback\":null,\"renderers\":[{\"id\":\"67088\"},{\"id\":\"67109\"},{\"id\":\"67131\"}],\"tags\":[\"hv_created\"],\"tooltips\":[[\"Variable\",\"@{Variable}\"],[\"Year\",\"@{Year}\"],[\"value\",\"@{value}\"]]},\"id\":\"67043\",\"type\":\"HoverTool\"},{\"attributes\":{},\"id\":\"64383\",\"type\":\"CategoricalTickFormatter\"},{\"attributes\":{},\"id\":\"66128\",\"type\":\"UnionRenderers\"},{\"attributes\":{\"bottom\":{\"value\":0},\"fill_alpha\":{\"value\":1.0},\"fill_color\":{\"value\":\"Green\"},\"hatch_alpha\":{\"value\":1.0},\"hatch_color\":{\"value\":\"black\"},\"hatch_scale\":{\"value\":12.0},\"hatch_weight\":{\"value\":1.0},\"line_alpha\":{\"value\":1.0},\"line_cap\":{\"value\":\"butt\"},\"line_color\":{\"value\":\"black\"},\"line_dash\":{\"value\":[]},\"line_dash_offset\":{\"value\":0},\"line_join\":{\"value\":\"bevel\"},\"line_width\":{\"value\":1},\"top\":{\"field\":\"TOTAL\"},\"width\":{\"value\":0.8},\"x\":{\"field\":\"Year\"}},\"id\":\"64281\",\"type\":\"VBar\"},{\"attributes\":{\"fill_alpha\":{\"value\":0.2},\"fill_color\":{\"value\":\"Red\"},\"line_alpha\":{\"value\":0.2},\"top\":{\"field\":\"TOTAL\"},\"width\":{\"value\":0.8},\"x\":{\"field\":\"Year\"}},\"id\":\"64378\",\"type\":\"VBar\"},{\"attributes\":{},\"id\":\"64299\",\"type\":\"CategoricalScale\"},{\"attributes\":{\"axis\":{\"id\":\"66066\"},\"dimension\":1,\"grid_line_color\":null,\"ticker\":null},\"id\":\"66069\",\"type\":\"Grid\"},{\"attributes\":{\"fill_color\":{\"value\":\"Green\"},\"top\":{\"field\":\"TOTAL\"},\"width\":{\"value\":0.8},\"x\":{\"field\":\"Year\"}},\"id\":\"64276\",\"type\":\"VBar\"},{\"attributes\":{\"below\":[{\"id\":\"64303\"}],\"center\":[{\"id\":\"64305\"},{\"id\":\"64309\"}],\"height\":500,\"left\":[{\"id\":\"64306\"}],\"margin\":null,\"min_border_bottom\":10,\"min_border_left\":10,\"min_border_right\":10,\"min_border_top\":10,\"renderers\":[{\"id\":\"64329\"}],\"sizing_mode\":\"fixed\",\"title\":{\"id\":\"64295\"},\"toolbar\":{\"id\":\"64316\"},\"toolbar_location\":null,\"width\":900,\"x_range\":{\"id\":\"64291\"},\"x_scale\":{\"id\":\"64299\"},\"y_range\":{\"id\":\"64292\"},\"y_scale\":{\"id\":\"64301\"}},\"id\":\"64294\",\"subtype\":\"Figure\",\"type\":\"Plot\"},{\"attributes\":{\"data_source\":{\"id\":\"64273\"},\"glyph\":{\"id\":\"64276\"},\"hover_glyph\":null,\"muted_glyph\":{\"id\":\"64278\"},\"nonselection_glyph\":{\"id\":\"64277\"},\"selection_glyph\":{\"id\":\"64281\"},\"view\":{\"id\":\"64280\"}},\"id\":\"64279\",\"type\":\"GlyphRenderer\"},{\"attributes\":{\"source\":{\"id\":\"64373\"}},\"id\":\"64380\",\"type\":\"CDSView\"},{\"attributes\":{\"fill_color\":{\"value\":\"Blue\"},\"top\":{\"field\":\"TOTAL\"},\"width\":{\"value\":0.8},\"x\":{\"field\":\"Year\"}},\"id\":\"64326\",\"type\":\"VBar\"},{\"attributes\":{\"axis\":{\"id\":\"64303\"},\"grid_line_color\":null,\"ticker\":null},\"id\":\"64305\",\"type\":\"Grid\"},{\"attributes\":{},\"id\":\"64224\",\"type\":\"Selection\"},{\"attributes\":{\"text\":\"All U.S. Carriers Airlines Revenue Passenger-Miles - All Airports\",\"text_color\":\"black\",\"text_font_size\":\"12pt\"},\"id\":\"65335\",\"type\":\"Title\"},{\"attributes\":{\"fill_alpha\":{\"value\":0.1},\"fill_color\":{\"value\":\"Green\"},\"line_alpha\":{\"value\":0.1},\"top\":{\"field\":\"TOTAL\"},\"width\":{\"value\":0.8},\"x\":{\"field\":\"Year\"}},\"id\":\"64277\",\"type\":\"VBar\"},{\"attributes\":{},\"id\":\"64301\",\"type\":\"LinearScale\"},{\"attributes\":{},\"id\":\"64234\",\"type\":\"AllLabels\"},{\"attributes\":{\"axis\":{\"id\":\"64306\"},\"dimension\":1,\"grid_line_color\":null,\"ticker\":null},\"id\":\"64309\",\"type\":\"Grid\"},{\"attributes\":{\"fill_color\":{\"value\":\"Orange\"},\"top\":{\"field\":\"TOTAL\"},\"width\":{\"value\":0.8},\"x\":{\"field\":\"Year\"}},\"id\":\"64226\",\"type\":\"VBar\"},{\"attributes\":{\"fill_alpha\":{\"value\":0.2},\"fill_color\":{\"value\":\"Red\"},\"line_alpha\":{\"value\":0.2},\"top\":{\"field\":\"TOTAL\"},\"width\":{\"value\":0.8},\"x\":{\"field\":\"Year\"}},\"id\":\"66088\",\"type\":\"VBar\"},{\"attributes\":{},\"id\":\"64311\",\"type\":\"PanTool\"},{\"attributes\":{},\"id\":\"64233\",\"type\":\"CategoricalTickFormatter\"},{\"attributes\":{\"axis_label\":\"Year\",\"formatter\":{\"id\":\"64333\"},\"major_label_policy\":{\"id\":\"64334\"},\"ticker\":{\"id\":\"64304\"}},\"id\":\"64303\",\"type\":\"CategoricalAxis\"},{\"attributes\":{\"axis_label\":\"Number of Passengers\",\"formatter\":{\"id\":\"64332\"},\"major_label_policy\":{\"id\":\"64337\"},\"ticker\":{\"id\":\"64307\"}},\"id\":\"64306\",\"type\":\"LinearAxis\"},{\"attributes\":{},\"id\":\"65344\",\"type\":\"CategoricalTicker\"},{\"attributes\":{\"fill_alpha\":{\"value\":0.1},\"fill_color\":{\"value\":\"Orange\"},\"line_alpha\":{\"value\":0.1},\"top\":{\"field\":\"TOTAL\"},\"width\":{\"value\":0.8},\"x\":{\"field\":\"Year\"}},\"id\":\"64227\",\"type\":\"VBar\"},{\"attributes\":{},\"id\":\"64307\",\"type\":\"BasicTicker\"},{\"attributes\":{\"format\":\"%.0f\"},\"id\":\"64382\",\"type\":\"PrintfTickFormatter\"},{\"attributes\":{},\"id\":\"64312\",\"type\":\"WheelZoomTool\"},{\"attributes\":{},\"id\":\"66067\",\"type\":\"BasicTicker\"},{\"attributes\":{},\"id\":\"66093\",\"type\":\"CategoricalTickFormatter\"},{\"attributes\":{},\"id\":\"64310\",\"type\":\"SaveTool\"},{\"attributes\":{\"factors\":[\"2002\",\"2003\",\"2004\",\"2005\",\"2006\",\"2007\",\"2008\",\"2009\",\"2010\",\"2011\",\"2012\",\"2013\",\"2014\",\"2015\",\"2016\",\"2017\",\"2018\",\"2019\",\"2020\",\"2021\"],\"tags\":[[[\"Year\",\"Year\",null]]]},\"id\":\"64861\",\"type\":\"FactorRange\"},{\"attributes\":{\"factors\":[\"2002\",\"2003\",\"2004\",\"2005\",\"2006\",\"2007\",\"2008\",\"2009\",\"2010\",\"2011\",\"2012\",\"2013\",\"2014\",\"2015\",\"2016\",\"2017\",\"2018\",\"2019\",\"2020\",\"2021\"],\"tags\":[[[\"Year\",\"Year\",null]]]},\"id\":\"65331\",\"type\":\"FactorRange\"},{\"attributes\":{\"callback\":null,\"renderers\":[{\"id\":\"65369\"}],\"tags\":[\"hv_created\"],\"tooltips\":[[\"Year\",\"@{Year}\"],[\"TOTAL\",\"@{TOTAL}\"]]},\"id\":\"65333\",\"type\":\"HoverTool\"},{\"attributes\":{},\"id\":\"66071\",\"type\":\"PanTool\"},{\"attributes\":{\"below\":[{\"id\":\"65393\"}],\"center\":[{\"id\":\"65395\"},{\"id\":\"65399\"}],\"height\":500,\"left\":[{\"id\":\"65396\"}],\"margin\":null,\"min_border_bottom\":10,\"min_border_left\":10,\"min_border_right\":10,\"min_border_top\":10,\"renderers\":[{\"id\":\"65419\"}],\"sizing_mode\":\"fixed\",\"title\":{\"id\":\"65385\"},\"toolbar\":{\"id\":\"65406\"},\"toolbar_location\":null,\"width\":900,\"x_range\":{\"id\":\"65381\"},\"x_scale\":{\"id\":\"65389\"},\"y_range\":{\"id\":\"65382\"},\"y_scale\":{\"id\":\"65391\"}},\"id\":\"65384\",\"subtype\":\"Figure\",\"type\":\"Plot\"},{\"attributes\":{\"overlay\":{\"id\":\"64315\"}},\"id\":\"64313\",\"type\":\"BoxZoomTool\"},{\"attributes\":{},\"id\":\"66072\",\"type\":\"WheelZoomTool\"},{\"attributes\":{},\"id\":\"64314\",\"type\":\"ResetTool\"},{\"attributes\":{\"end\":1150600348.2,\"reset_end\":1150600348.2,\"reset_start\":0.0,\"tags\":[[[\"TOTAL\",\"TOTAL\",null]]]},\"id\":\"65332\",\"type\":\"Range1d\"},{\"attributes\":{},\"id\":\"64387\",\"type\":\"AllLabels\"},{\"attributes\":{},\"id\":\"65339\",\"type\":\"CategoricalScale\"},{\"attributes\":{\"below\":[{\"id\":\"65343\"}],\"center\":[{\"id\":\"65345\"},{\"id\":\"65349\"}],\"height\":500,\"left\":[{\"id\":\"65346\"}],\"margin\":null,\"min_border_bottom\":10,\"min_border_left\":10,\"min_border_right\":10,\"min_border_top\":10,\"renderers\":[{\"id\":\"65369\"}],\"sizing_mode\":\"fixed\",\"title\":{\"id\":\"65335\"},\"toolbar\":{\"id\":\"65356\"},\"toolbar_location\":null,\"width\":900,\"x_range\":{\"id\":\"65331\"},\"x_scale\":{\"id\":\"65339\"},\"y_range\":{\"id\":\"65332\"},\"y_scale\":{\"id\":\"65341\"}},\"id\":\"65334\",\"subtype\":\"Figure\",\"type\":\"Plot\"},{\"attributes\":{},\"id\":\"64349\",\"type\":\"CategoricalScale\"},{\"attributes\":{\"end\":127041794.9,\"reset_end\":127041794.9,\"reset_start\":0.0,\"tags\":[[[\"TOTAL\",\"TOTAL\",null]]]},\"id\":\"64342\",\"type\":\"Range1d\"},{\"attributes\":{\"active_multi\":null,\"tools\":[{\"id\":\"65333\"},{\"id\":\"65350\"},{\"id\":\"65351\"},{\"id\":\"65352\"},{\"id\":\"65353\"},{\"id\":\"65354\"}]},\"id\":\"65356\",\"type\":\"Toolbar\"},{\"attributes\":{},\"id\":\"64351\",\"type\":\"LinearScale\"},{\"attributes\":{\"axis\":{\"id\":\"65343\"},\"grid_line_color\":null,\"ticker\":null},\"id\":\"65345\",\"type\":\"Grid\"},{\"attributes\":{\"source\":{\"id\":\"66083\"}},\"id\":\"66090\",\"type\":\"CDSView\"},{\"attributes\":{\"callback\":null,\"renderers\":[{\"id\":\"64379\"}],\"tags\":[\"hv_created\"],\"tooltips\":[[\"Year\",\"@{Year}\"],[\"TOTAL\",\"@{TOTAL}\"]]},\"id\":\"64343\",\"type\":\"HoverTool\"},{\"attributes\":{},\"id\":\"65364\",\"type\":\"Selection\"},{\"attributes\":{},\"id\":\"65341\",\"type\":\"LinearScale\"},{\"attributes\":{\"bottom_units\":\"screen\",\"fill_alpha\":0.5,\"fill_color\":\"lightgrey\",\"left_units\":\"screen\",\"level\":\"overlay\",\"line_alpha\":1.0,\"line_color\":\"black\",\"line_dash\":[4,4],\"line_width\":2,\"right_units\":\"screen\",\"syncable\":false,\"top_units\":\"screen\"},\"id\":\"66075\",\"type\":\"BoxAnnotation\"},{\"attributes\":{\"axis\":{\"id\":\"65346\"},\"dimension\":1,\"grid_line_color\":null,\"ticker\":null},\"id\":\"65349\",\"type\":\"Grid\"},{\"attributes\":{},\"id\":\"64354\",\"type\":\"CategoricalTicker\"},{\"attributes\":{\"toolbar\":{\"id\":\"64432\"},\"toolbar_location\":\"above\"},\"id\":\"64433\",\"type\":\"ToolbarBox\"},{\"attributes\":{\"below\":[{\"id\":\"64353\"}],\"center\":[{\"id\":\"64355\"},{\"id\":\"64359\"}],\"height\":500,\"left\":[{\"id\":\"64356\"}],\"margin\":null,\"min_border_bottom\":10,\"min_border_left\":10,\"min_border_right\":10,\"min_border_top\":10,\"renderers\":[{\"id\":\"64379\"}],\"sizing_mode\":\"fixed\",\"title\":{\"id\":\"64345\"},\"toolbar\":{\"id\":\"64366\"},\"toolbar_location\":null,\"width\":900,\"x_range\":{\"id\":\"64341\"},\"x_scale\":{\"id\":\"64349\"},\"y_range\":{\"id\":\"64342\"},\"y_scale\":{\"id\":\"64351\"}},\"id\":\"64344\",\"subtype\":\"Figure\",\"type\":\"Plot\"},{\"attributes\":{},\"id\":\"65351\",\"type\":\"PanTool\"},{\"attributes\":{\"axis_label\":\"Year\",\"formatter\":{\"id\":\"65373\"},\"major_label_policy\":{\"id\":\"65374\"},\"ticker\":{\"id\":\"65344\"}},\"id\":\"65343\",\"type\":\"CategoricalAxis\"},{\"attributes\":{\"axis_label\":\"(The number of passengers and the distance flown in thousands (000)) \",\"formatter\":{\"id\":\"65372\"},\"major_label_policy\":{\"id\":\"65377\"},\"ticker\":{\"id\":\"65347\"}},\"id\":\"65346\",\"type\":\"LinearAxis\"},{\"attributes\":{\"bottom\":{\"value\":0},\"fill_alpha\":{\"value\":1.0},\"fill_color\":{\"value\":\"Red\"},\"hatch_alpha\":{\"value\":1.0},\"hatch_color\":{\"value\":\"black\"},\"hatch_scale\":{\"value\":12.0},\"hatch_weight\":{\"value\":1.0},\"line_alpha\":{\"value\":1.0},\"line_cap\":{\"value\":\"butt\"},\"line_color\":{\"value\":\"black\"},\"line_dash\":{\"value\":[]},\"line_dash_offset\":{\"value\":0},\"line_join\":{\"value\":\"bevel\"},\"line_width\":{\"value\":1},\"top\":{\"field\":\"TOTAL\"},\"width\":{\"value\":0.8},\"x\":{\"field\":\"Year\"}},\"id\":\"66091\",\"type\":\"VBar\"},{\"attributes\":{},\"id\":\"65347\",\"type\":\"BasicTicker\"},{\"attributes\":{\"fill_alpha\":{\"value\":0.2},\"fill_color\":{\"value\":\"Red\"},\"line_alpha\":{\"value\":0.2},\"top\":{\"field\":\"TOTAL\"},\"width\":{\"value\":0.8},\"x\":{\"field\":\"Year\"}},\"id\":\"65518\",\"type\":\"VBar\"},{\"attributes\":{},\"id\":\"65352\",\"type\":\"WheelZoomTool\"},{\"attributes\":{\"toolbars\":[{\"id\":\"64216\"},{\"id\":\"64266\"},{\"id\":\"64316\"},{\"id\":\"64366\"}],\"tools\":[{\"id\":\"64193\"},{\"id\":\"64210\"},{\"id\":\"64211\"},{\"id\":\"64212\"},{\"id\":\"64213\"},{\"id\":\"64214\"},{\"id\":\"64243\"},{\"id\":\"64260\"},{\"id\":\"64261\"},{\"id\":\"64262\"},{\"id\":\"64263\"},{\"id\":\"64264\"},{\"id\":\"64293\"},{\"id\":\"64310\"},{\"id\":\"64311\"},{\"id\":\"64312\"},{\"id\":\"64313\"},{\"id\":\"64314\"},{\"id\":\"64343\"},{\"id\":\"64360\"},{\"id\":\"64361\"},{\"id\":\"64362\"},{\"id\":\"64363\"},{\"id\":\"64364\"}]},\"id\":\"64432\",\"type\":\"ProxyToolbar\"},{\"attributes\":{\"data_source\":{\"id\":\"64323\"},\"glyph\":{\"id\":\"64326\"},\"hover_glyph\":null,\"muted_glyph\":{\"id\":\"64328\"},\"nonselection_glyph\":{\"id\":\"64327\"},\"selection_glyph\":{\"id\":\"64331\"},\"view\":{\"id\":\"64330\"}},\"id\":\"64329\",\"type\":\"GlyphRenderer\"},{\"attributes\":{\"text\":\"Southwest Airlines Carriers Airlines Revenue Passenger-Miles - All Airports\",\"text_color\":\"black\",\"text_font_size\":\"12pt\"},\"id\":\"65435\",\"type\":\"Title\"},{\"attributes\":{},\"id\":\"65350\",\"type\":\"SaveTool\"},{\"attributes\":{\"data\":{\"TOTAL\":[72447995,74719340,81066038,88379900,96276907,101910809,101920598,101338228,106227521,110586815,112234074,115322785,127194550,144574606,151740277,157676937,163605599,162681011,67785236,17591788],\"Year\":[\"2002\",\"2003\",\"2004\",\"2005\",\"2006\",\"2007\",\"2008\",\"2009\",\"2010\",\"2011\",\"2012\",\"2013\",\"2014\",\"2015\",\"2016\",\"2017\",\"2018\",\"2019\",\"2020\",\"2021\"]},\"selected\":{\"id\":\"64324\"},\"selection_policy\":{\"id\":\"64418\"}},\"id\":\"64323\",\"type\":\"ColumnDataSource\"},{\"attributes\":{},\"id\":\"65477\",\"type\":\"AllLabels\"},{\"attributes\":{\"source\":{\"id\":\"65513\"}},\"id\":\"65520\",\"type\":\"CDSView\"},{\"attributes\":{\"text\":\"United Airlines Passengers - All Airports\",\"text_color\":\"black\",\"text_font_size\":\"12pt\"},\"id\":\"64345\",\"type\":\"Title\"},{\"attributes\":{\"overlay\":{\"id\":\"65355\"}},\"id\":\"65353\",\"type\":\"BoxZoomTool\"},{\"attributes\":{\"bottom_units\":\"screen\",\"fill_alpha\":0.5,\"fill_color\":\"lightgrey\",\"left_units\":\"screen\",\"level\":\"overlay\",\"line_alpha\":1.0,\"line_color\":\"black\",\"line_dash\":[4,4],\"line_width\":2,\"right_units\":\"screen\",\"syncable\":false,\"top_units\":\"screen\"},\"id\":\"64215\",\"type\":\"BoxAnnotation\"},{\"attributes\":{},\"id\":\"65354\",\"type\":\"ResetTool\"},{\"attributes\":{},\"id\":\"64324\",\"type\":\"Selection\"},{\"attributes\":{},\"id\":\"64428\",\"type\":\"UnionRenderers\"},{\"attributes\":{},\"id\":\"66688\",\"type\":\"UnionRenderers\"},{\"attributes\":{\"factors\":[\"2002\",\"2003\",\"2004\",\"2005\",\"2006\",\"2007\",\"2008\",\"2009\",\"2010\",\"2011\",\"2012\",\"2013\",\"2014\",\"2015\",\"2016\",\"2017\",\"2018\",\"2019\",\"2020\",\"2021\"],\"tags\":[[[\"Year\",\"Year\",null]]]},\"id\":\"64341\",\"type\":\"FactorRange\"},{\"attributes\":{\"factors\":[\"2002\",\"2003\",\"2004\",\"2005\",\"2006\",\"2007\",\"2008\",\"2009\",\"2010\",\"2011\",\"2012\",\"2013\",\"2014\",\"2015\",\"2016\",\"2017\",\"2018\",\"2019\",\"2020\",\"2021\"],\"tags\":[[[\"Year\",\"Year\",null]]]},\"id\":\"65381\",\"type\":\"FactorRange\"},{\"attributes\":{\"fill_alpha\":{\"value\":0.2},\"fill_color\":{\"value\":\"Orange\"},\"line_alpha\":{\"value\":0.2},\"top\":{\"field\":\"TOTAL\"},\"width\":{\"value\":0.8},\"x\":{\"field\":\"Year\"}},\"id\":\"64228\",\"type\":\"VBar\"},{\"attributes\":{\"active_multi\":null,\"tools\":[{\"id\":\"66053\"},{\"id\":\"66070\"},{\"id\":\"66071\"},{\"id\":\"66072\"},{\"id\":\"66073\"},{\"id\":\"66074\"}]},\"id\":\"66076\",\"type\":\"Toolbar\"},{\"attributes\":{\"fill_alpha\":{\"value\":0.1},\"fill_color\":{\"value\":\"Blue\"},\"line_alpha\":{\"value\":0.1},\"top\":{\"field\":\"TOTAL\"},\"width\":{\"value\":0.8},\"x\":{\"field\":\"Year\"}},\"id\":\"64327\",\"type\":\"VBar\"},{\"attributes\":{},\"id\":\"65527\",\"type\":\"AllLabels\"},{\"attributes\":{\"source\":{\"id\":\"64223\"}},\"id\":\"64230\",\"type\":\"CDSView\"},{\"attributes\":{\"format\":\"%.0f\"},\"id\":\"66092\",\"type\":\"PrintfTickFormatter\"},{\"attributes\":{\"bottom\":{\"value\":0},\"fill_alpha\":{\"value\":1.0},\"fill_color\":{\"value\":\"Orange\"},\"hatch_alpha\":{\"value\":1.0},\"hatch_color\":{\"value\":\"black\"},\"hatch_scale\":{\"value\":12.0},\"hatch_weight\":{\"value\":1.0},\"line_alpha\":{\"value\":1.0},\"line_cap\":{\"value\":\"butt\"},\"line_color\":{\"value\":\"black\"},\"line_dash\":{\"value\":[]},\"line_dash_offset\":{\"value\":0},\"line_join\":{\"value\":\"bevel\"},\"line_width\":{\"value\":1},\"top\":{\"field\":\"TOTAL\"},\"width\":{\"value\":0.8},\"x\":{\"field\":\"Year\"}},\"id\":\"64231\",\"type\":\"VBar\"},{\"attributes\":{\"toolbar\":{\"id\":\"66712\"},\"toolbar_location\":\"above\"},\"id\":\"66713\",\"type\":\"ToolbarBox\"},{\"attributes\":{\"active_multi\":null,\"tools\":[{\"id\":\"64293\"},{\"id\":\"64310\"},{\"id\":\"64311\"},{\"id\":\"64312\"},{\"id\":\"64313\"},{\"id\":\"64314\"}]},\"id\":\"64316\",\"type\":\"Toolbar\"},{\"attributes\":{\"fill_color\":{\"value\":\"Orange\"},\"top\":{\"field\":\"TOTAL\"},\"width\":{\"value\":0.8},\"x\":{\"field\":\"Year\"}},\"id\":\"65366\",\"type\":\"VBar\"},{\"attributes\":{\"fill_alpha\":{\"value\":0.1},\"fill_color\":{\"value\":\"Red\"},\"line_alpha\":{\"value\":0.1},\"top\":{\"field\":\"TOTAL\"},\"width\":{\"value\":0.8},\"x\":{\"field\":\"Year\"}},\"id\":\"66087\",\"type\":\"VBar\"},{\"attributes\":{\"bottom_units\":\"screen\",\"fill_alpha\":0.5,\"fill_color\":\"lightgrey\",\"left_units\":\"screen\",\"level\":\"overlay\",\"line_alpha\":1.0,\"line_color\":\"black\",\"line_dash\":[4,4],\"line_width\":2,\"right_units\":\"screen\",\"syncable\":false,\"top_units\":\"screen\"},\"id\":\"65355\",\"type\":\"BoxAnnotation\"},{\"attributes\":{\"bottom\":{\"value\":0},\"fill_alpha\":{\"value\":1.0},\"fill_color\":{\"value\":\"Green\"},\"hatch_alpha\":{\"value\":1.0},\"hatch_color\":{\"value\":\"black\"},\"hatch_scale\":{\"value\":12.0},\"hatch_weight\":{\"value\":1.0},\"line_alpha\":{\"value\":1.0},\"line_cap\":{\"value\":\"butt\"},\"line_color\":{\"value\":\"black\"},\"line_dash\":{\"value\":[]},\"line_dash_offset\":{\"value\":0},\"line_join\":{\"value\":\"bevel\"},\"line_width\":{\"value\":1},\"top\":{\"field\":\"TOTAL\"},\"width\":{\"value\":0.8},\"x\":{\"field\":\"Year\"}},\"id\":\"64851\",\"type\":\"VBar\"},{\"attributes\":{},\"id\":\"66084\",\"type\":\"Selection\"},{\"attributes\":{\"line_color\":\"#30a2da\",\"line_width\":2,\"x\":{\"field\":\"Year\"},\"y\":{\"field\":\"value\"}},\"id\":\"67102\",\"type\":\"Line\"},{\"attributes\":{\"format\":\"%.0f\"},\"id\":\"64232\",\"type\":\"PrintfTickFormatter\"},{\"attributes\":{\"data\":{\"TOTAL\":[634381208,649953737,726171973,771018648,789688686,822499629,805561497,763331173,792208443,808864801,817627683,834782639,858029553,899034049,931025627,962949559,1010572608,1054798477,377790371,96779765],\"Year\":[\"2002\",\"2003\",\"2004\",\"2005\",\"2006\",\"2007\",\"2008\",\"2009\",\"2010\",\"2011\",\"2012\",\"2013\",\"2014\",\"2015\",\"2016\",\"2017\",\"2018\",\"2019\",\"2020\",\"2021\"]},\"selected\":{\"id\":\"65364\"},\"selection_policy\":{\"id\":\"65538\"}},\"id\":\"65363\",\"type\":\"ColumnDataSource\"},{\"attributes\":{},\"id\":\"66097\",\"type\":\"AllLabels\"},{\"attributes\":{},\"id\":\"64408\",\"type\":\"UnionRenderers\"},{\"attributes\":{\"callback\":null,\"renderers\":[{\"id\":\"64899\"}],\"tags\":[\"hv_created\"],\"tooltips\":[[\"Year\",\"@{Year}\"],[\"TOTAL\",\"@{TOTAL}\"]]},\"id\":\"64863\",\"type\":\"HoverTool\"},{\"attributes\":{\"toolbar\":{\"id\":\"66142\"},\"toolbar_location\":\"above\"},\"id\":\"66143\",\"type\":\"ToolbarBox\"},{\"attributes\":{\"data_source\":{\"id\":\"66083\"},\"glyph\":{\"id\":\"66086\"},\"hover_glyph\":null,\"muted_glyph\":{\"id\":\"66088\"},\"nonselection_glyph\":{\"id\":\"66087\"},\"selection_glyph\":{\"id\":\"66091\"},\"view\":{\"id\":\"66090\"}},\"id\":\"66089\",\"type\":\"GlyphRenderer\"},{\"attributes\":{},\"id\":\"64237\",\"type\":\"AllLabels\"},{\"attributes\":{},\"id\":\"66094\",\"type\":\"AllLabels\"},{\"attributes\":{\"axis_label\":\"Year\",\"formatter\":{\"id\":\"64383\"},\"major_label_policy\":{\"id\":\"64384\"},\"ticker\":{\"id\":\"64354\"}},\"id\":\"64353\",\"type\":\"CategoricalAxis\"},{\"attributes\":{},\"id\":\"66074\",\"type\":\"ResetTool\"},{\"attributes\":{\"bottom_units\":\"screen\",\"fill_alpha\":0.5,\"fill_color\":\"lightgrey\",\"left_units\":\"screen\",\"level\":\"overlay\",\"line_alpha\":1.0,\"line_color\":\"black\",\"line_dash\":[4,4],\"line_width\":2,\"right_units\":\"screen\",\"syncable\":false,\"top_units\":\"screen\"},\"id\":\"64315\",\"type\":\"BoxAnnotation\"},{\"attributes\":{\"children\":[{\"id\":\"64433\"},{\"id\":\"64431\"}]},\"id\":\"64434\",\"type\":\"Column\"},{\"attributes\":{},\"id\":\"66070\",\"type\":\"SaveTool\"},{\"attributes\":{\"below\":[{\"id\":\"64873\"}],\"center\":[{\"id\":\"64875\"},{\"id\":\"64879\"}],\"height\":500,\"left\":[{\"id\":\"64876\"}],\"margin\":null,\"min_border_bottom\":10,\"min_border_left\":10,\"min_border_right\":10,\"min_border_top\":10,\"renderers\":[{\"id\":\"64899\"}],\"sizing_mode\":\"fixed\",\"title\":{\"id\":\"64865\"},\"toolbar\":{\"id\":\"64886\"},\"toolbar_location\":null,\"width\":900,\"x_range\":{\"id\":\"64861\"},\"x_scale\":{\"id\":\"64869\"},\"y_range\":{\"id\":\"64862\"},\"y_scale\":{\"id\":\"64871\"}},\"id\":\"64864\",\"subtype\":\"Figure\",\"type\":\"Plot\"},{\"attributes\":{\"toolbars\":[{\"id\":\"65926\"},{\"id\":\"65976\"},{\"id\":\"66026\"},{\"id\":\"66076\"}],\"tools\":[{\"id\":\"65903\"},{\"id\":\"65920\"},{\"id\":\"65921\"},{\"id\":\"65922\"},{\"id\":\"65923\"},{\"id\":\"65924\"},{\"id\":\"65953\"},{\"id\":\"65970\"},{\"id\":\"65971\"},{\"id\":\"65972\"},{\"id\":\"65973\"},{\"id\":\"65974\"},{\"id\":\"66003\"},{\"id\":\"66020\"},{\"id\":\"66021\"},{\"id\":\"66022\"},{\"id\":\"66023\"},{\"id\":\"66024\"},{\"id\":\"66053\"},{\"id\":\"66070\"},{\"id\":\"66071\"},{\"id\":\"66072\"},{\"id\":\"66073\"},{\"id\":\"66074\"}]},\"id\":\"66142\",\"type\":\"ProxyToolbar\"},{\"attributes\":{\"end\":1241448.5,\"reset_end\":1241448.5,\"reset_start\":0.0,\"tags\":[[[\"TOTAL\",\"TOTAL\",null]]]},\"id\":\"64812\",\"type\":\"Range1d\"},{\"attributes\":{\"data\":{\"TOTAL\":[90719899,83978271,86654054,85823690,73401004,72914830,71597670,67694400,109329792,112016262,114958112,118933921,128018335,137732452,142286020,145227662,151690243,162260114,55021728,12091287],\"Year\":[\"2002\",\"2003\",\"2004\",\"2005\",\"2006\",\"2007\",\"2008\",\"2009\",\"2010\",\"2011\",\"2012\",\"2013\",\"2014\",\"2015\",\"2016\",\"2017\",\"2018\",\"2019\",\"2020\",\"2021\"]},\"selected\":{\"id\":\"64274\"},\"selection_policy\":{\"id\":\"64408\"}},\"id\":\"64273\",\"type\":\"ColumnDataSource\"},{\"attributes\":{\"end\":1493670.1,\"reset_end\":1493670.1,\"reset_start\":0.0,\"tags\":[[[\"TOTAL\",\"TOTAL\",null]]]},\"id\":\"64862\",\"type\":\"Range1d\"}],\"root_ids\":[\"64189\",\"67866\"]},\"title\":\"Bokeh Application\",\"version\":\"2.3.2\"}};\n",
       "    var render_items = [{\"docid\":\"5eae4327-c454-4a94-b8fb-fe6e0f319b8b\",\"root_ids\":[\"64189\"],\"roots\":{\"64189\":\"d60f1b98-0568-45a9-ade5-eac93172eba1\"}}];\n",
       "    root.Bokeh.embed.embed_items_notebook(docs_json, render_items);\n",
       "  }\n",
       "  if (root.Bokeh !== undefined && root.Bokeh.Panel !== undefined && root['Plotly'] !== undefined ) {\n",
       "    embed_document(root);\n",
       "  } else {\n",
       "    var attempts = 0;\n",
       "    var timer = setInterval(function(root) {\n",
       "      if (root.Bokeh !== undefined && root.Bokeh.Panel !== undefined && root['Plotly'] !== undefined) {\n",
       "        clearInterval(timer);\n",
       "        embed_document(root);\n",
       "      } else if (document.readyState == \"complete\") {\n",
       "        attempts++;\n",
       "        if (attempts > 100) {\n",
       "          clearInterval(timer);\n",
       "          console.log(\"Bokeh: ERROR: Unable to run BokehJS code because BokehJS library is missing\");\n",
       "        }\n",
       "      }\n",
       "    }, 10, root)\n",
       "  }\n",
       "})(window);</script>"
      ],
      "text/plain": [
       "Tabs\n",
       "    [0] Row\n",
       "        [0] HoloViews(Layout)\n",
       "    [1] Row\n",
       "        [0] HoloViews(Layout)\n",
       "    [2] Row\n",
       "        [0] HoloViews(Layout)\n",
       "    [3] Row\n",
       "        [0] HoloViews(Layout)\n",
       "    [4] Row\n",
       "        [0] HoloViews(Layout)\n",
       "    [5] Row\n",
       "        [0] HoloViews(NdOverlay)\n",
       "        [1] Plotly(Figure)"
      ]
     },
     "execution_count": 307,
     "metadata": {
      "application/vnd.holoviews_exec.v0+json": {
       "id": "64189"
      }
     },
     "output_type": "execute_result"
    }
   ],
   "source": [
    "dashboard_tabs"
   ]
  },
  {
   "cell_type": "code",
   "execution_count": 308,
   "metadata": {},
   "outputs": [],
   "source": [
    "\r\n",
    "# Created variables for dashboard\r\n",
    "\r\n",
    "welcomda_notes = \" Bureau of Transportation Statistics - Aviation Data\"\r\n",
    "\r\n",
    "dashboard_welcome = \" The dashboard presents a visual analysis of aviation data from All U.S. Carriers, Delta Airlines, Southwest Airlines, and United Airlines\"\r\n",
    "\r\n",
    "\r\n",
    "passenger_miles_notes = \"According to the Bureau of Transportation Statistics (2021), A revenue passenger mile (RPM) is a transportation industry metric that shows the number of miles traveled by paying passengers and is typically an airline traffic statistic. Revenue passenger miles are calculated by multiplying the number of paying passengers by the distance traveled. For example, an airplane with 100 passengers that flies 250 miles has generated 25,000 RPM.\" \r\n",
    "\r\n",
    "passenger_miles_notes2 = \"Revenue passenger miles are the backbone of most transportation metrics. RPM is often compared to available seat miles (ASM), a measure of an airplane's total carrying capacity available to generate income. By dividing RPM by ASM, an airline can calculate load factors. The load factor is a percentage indicating how effective the airline is at selling seats and earning revenue. Higher load factors, obviously, are desired because empty seats are an opportunity cost for an airline. \"\r\n",
    "\r\n",
    "\r\n",
    "seat_notes = \"According to Investopedia (2020), available seat miles (ASM) is a measure of an airplane's carrying capacity available to generate revenues. Available seat miles refers to how many seat miles are actually available for purchase on an airline. Seat miles are calculated by multiplying the number of miles that a given airplane will be flying by the number of seats available for a given flight. \"\r\n",
    "\r\n",
    "\r\n",
    "load_notes = \"According to the Air Transport Association (2020) , A high load factor indicates that an airline has full planes with most seats occupied by passengers. Airlines have high fixed costs associated with each flight. Every flight must have an entire flight crew and support staff, a well-maintained aircraft with enough fuel, and services that entertain and comfort customers. The load factor help investors understand how the airline covers expenses and generates a profit. A low load factor may be a cause for concern and may indicate an unprofitable airline.\"\r\n",
    "\r\n"
   ]
  }
 ],
 "metadata": {
  "interpreter": {
   "hash": "9bbc15ca884615fba7a48959fd158978f7429edb53eb387b249fd313199bdc43"
  },
  "kernelspec": {
   "display_name": "Python 3.9.5 64-bit ('adobo': conda)",
   "name": "python3"
  },
  "language_info": {
   "codemirror_mode": {
    "name": "ipython",
    "version": 3
   },
   "file_extension": ".py",
   "mimetype": "text/x-python",
   "name": "python",
   "nbconvert_exporter": "python",
   "pygments_lexer": "ipython3",
   "version": "3.9.5"
  },
  "orig_nbformat": 4
 },
 "nbformat": 4,
 "nbformat_minor": 2
}