{
 "cells": [
  {
   "cell_type": "markdown",
   "id": "9c07896c-92f0-4900-82ce-7e28a130a73c",
   "metadata": {},
   "source": [
    "# **Analysis of Airline Industry Employment Data**"
   ]
  },
  {
   "cell_type": "code",
   "execution_count": 4,
   "id": "0edb2407-c0b2-483d-a8ce-cb9d430a828b",
   "metadata": {},
   "outputs": [],
   "source": [
    "#Importing necessary libraries\n",
    "import matplotlib.pyplot as plt"
   ]
  },
  {
   "cell_type": "code",
   "execution_count": 5,
   "id": "4e9afa65-906d-431a-be68-787a908168d5",
   "metadata": {},
   "outputs": [],
   "source": [
    "import pandas as pd\n",
    "import numpy as np\n",
    "import datetime as dt\n",
    "from pathlib import Path"
   ]
  },
  {
   "cell_type": "markdown",
   "id": "f7f30574-065b-4fe0-b709-d11ea5c473af",
   "metadata": {},
   "source": [
    "## **Reading the airline industry employment data**"
   ]
  },
  {
   "cell_type": "code",
   "execution_count": 6,
   "id": "64df3535-8103-4a26-863f-17d5363234d5",
   "metadata": {},
   "outputs": [
    {
     "data": {
      "text/html": [
       "<div>\n",
       "<style scoped>\n",
       "    .dataframe tbody tr th:only-of-type {\n",
       "        vertical-align: middle;\n",
       "    }\n",
       "\n",
       "    .dataframe tbody tr th {\n",
       "        vertical-align: top;\n",
       "    }\n",
       "\n",
       "    .dataframe thead th {\n",
       "        text-align: right;\n",
       "    }\n",
       "</style>\n",
       "<table border=\"1\" class=\"dataframe\">\n",
       "  <thead>\n",
       "    <tr style=\"text-align: right;\">\n",
       "      <th></th>\n",
       "      <th>Month</th>\n",
       "      <th>Year</th>\n",
       "      <th>Full-time</th>\n",
       "      <th>Part-time</th>\n",
       "      <th>Grand Total</th>\n",
       "    </tr>\n",
       "  </thead>\n",
       "  <tbody>\n",
       "    <tr>\n",
       "      <th>count</th>\n",
       "      <td>376.000000</td>\n",
       "      <td>376.000000</td>\n",
       "      <td>376.000000</td>\n",
       "      <td>376.000000</td>\n",
       "      <td>376.000000</td>\n",
       "    </tr>\n",
       "    <tr>\n",
       "      <th>mean</th>\n",
       "      <td>6.457447</td>\n",
       "      <td>2005.170213</td>\n",
       "      <td>526711.864362</td>\n",
       "      <td>105532.324468</td>\n",
       "      <td>632242.194149</td>\n",
       "    </tr>\n",
       "    <tr>\n",
       "      <th>std</th>\n",
       "      <td>3.464609</td>\n",
       "      <td>9.058787</td>\n",
       "      <td>47465.234396</td>\n",
       "      <td>16864.303742</td>\n",
       "      <td>58816.592694</td>\n",
       "    </tr>\n",
       "    <tr>\n",
       "      <th>min</th>\n",
       "      <td>1.000000</td>\n",
       "      <td>1990.000000</td>\n",
       "      <td>461912.000000</td>\n",
       "      <td>63793.000000</td>\n",
       "      <td>537534.000000</td>\n",
       "    </tr>\n",
       "    <tr>\n",
       "      <th>25%</th>\n",
       "      <td>3.000000</td>\n",
       "      <td>1997.000000</td>\n",
       "      <td>491667.750000</td>\n",
       "      <td>99915.000000</td>\n",
       "      <td>583964.000000</td>\n",
       "    </tr>\n",
       "    <tr>\n",
       "      <th>50%</th>\n",
       "      <td>6.000000</td>\n",
       "      <td>2005.000000</td>\n",
       "      <td>507419.500000</td>\n",
       "      <td>106805.500000</td>\n",
       "      <td>613642.500000</td>\n",
       "    </tr>\n",
       "    <tr>\n",
       "      <th>75%</th>\n",
       "      <td>9.000000</td>\n",
       "      <td>2013.000000</td>\n",
       "      <td>565572.250000</td>\n",
       "      <td>115551.500000</td>\n",
       "      <td>683147.500000</td>\n",
       "    </tr>\n",
       "    <tr>\n",
       "      <th>max</th>\n",
       "      <td>12.000000</td>\n",
       "      <td>2021.000000</td>\n",
       "      <td>636721.000000</td>\n",
       "      <td>132849.000000</td>\n",
       "      <td>760789.000000</td>\n",
       "    </tr>\n",
       "  </tbody>\n",
       "</table>\n",
       "</div>"
      ],
      "text/plain": [
       "            Month         Year      Full-time      Part-time    Grand Total\n",
       "count  376.000000   376.000000     376.000000     376.000000     376.000000\n",
       "mean     6.457447  2005.170213  526711.864362  105532.324468  632242.194149\n",
       "std      3.464609     9.058787   47465.234396   16864.303742   58816.592694\n",
       "min      1.000000  1990.000000  461912.000000   63793.000000  537534.000000\n",
       "25%      3.000000  1997.000000  491667.750000   99915.000000  583964.000000\n",
       "50%      6.000000  2005.000000  507419.500000  106805.500000  613642.500000\n",
       "75%      9.000000  2013.000000  565572.250000  115551.500000  683147.500000\n",
       "max     12.000000  2021.000000  636721.000000  132849.000000  760789.000000"
      ]
     },
     "execution_count": 6,
     "metadata": {},
     "output_type": "execute_result"
    }
   ],
   "source": [
    "#Reading Airline Employment\n",
    "airline_employment_csv = Path(\"Data/employee_data/us_employee_data.csv\")\n",
    "airline_employment = pd.read_csv(airline_employment_csv)\n",
    "airline_employment = airline_employment.sort_index()\n",
    "airline_employment.head(500)\n",
    "\n",
    "\n",
    "airline_employment[\"Full-time\"] = airline_employment[\"Full-time\"].str.replace(',','')\n",
    "airline_employment[\"Part-time\"] = airline_employment[\"Part-time\"].str.replace(',','')\n",
    "airline_employment[\"Grand Total\"] = airline_employment[\"Grand Total\"].str.replace(',','')\n",
    "\n",
    "airline_employment = airline_employment.astype({'Full-time': float, 'Part-time': float, 'Grand Total': float})\n",
    "\n",
    "airline_employment.describe()"
   ]
  },
  {
   "cell_type": "markdown",
   "id": "0da507c9-1503-42ef-ba0c-eb3a2bb3d391",
   "metadata": {
    "tags": []
   },
   "source": [
    "Since 1990 until YTD 2021 it shows the average total employment in the airline insdutrsy is 632,242. We should keep that number in mind when looking at the industry changes from the impacts of COVID-19. Taking a deeper dive into the airline industry employment over the years may give us an indication on how they have been able to maintain profit through troubling times."
   ]
  },
  {
   "cell_type": "code",
   "execution_count": 7,
   "id": "e66d7256-b05e-4946-99a0-8ab348a247a4",
   "metadata": {},
   "outputs": [
    {
     "data": {
      "text/html": [
       "<div>\n",
       "<style scoped>\n",
       "    .dataframe tbody tr th:only-of-type {\n",
       "        vertical-align: middle;\n",
       "    }\n",
       "\n",
       "    .dataframe tbody tr th {\n",
       "        vertical-align: top;\n",
       "    }\n",
       "\n",
       "    .dataframe thead th {\n",
       "        text-align: right;\n",
       "    }\n",
       "</style>\n",
       "<table border=\"1\" class=\"dataframe\">\n",
       "  <thead>\n",
       "    <tr style=\"text-align: right;\">\n",
       "      <th></th>\n",
       "      <th>Month</th>\n",
       "      <th>Year</th>\n",
       "      <th>Full-time</th>\n",
       "      <th>Part-time</th>\n",
       "      <th>Grand Total</th>\n",
       "    </tr>\n",
       "  </thead>\n",
       "  <tbody>\n",
       "    <tr>\n",
       "      <th>0</th>\n",
       "      <td>1</td>\n",
       "      <td>1990</td>\n",
       "      <td>494996.0</td>\n",
       "      <td>67200.0</td>\n",
       "      <td>562196.0</td>\n",
       "    </tr>\n",
       "    <tr>\n",
       "      <th>1</th>\n",
       "      <td>2</td>\n",
       "      <td>1990</td>\n",
       "      <td>496152.0</td>\n",
       "      <td>67771.0</td>\n",
       "      <td>563923.0</td>\n",
       "    </tr>\n",
       "    <tr>\n",
       "      <th>2</th>\n",
       "      <td>3</td>\n",
       "      <td>1990</td>\n",
       "      <td>500164.0</td>\n",
       "      <td>67316.0</td>\n",
       "      <td>567480.0</td>\n",
       "    </tr>\n",
       "    <tr>\n",
       "      <th>3</th>\n",
       "      <td>4</td>\n",
       "      <td>1990</td>\n",
       "      <td>505083.0</td>\n",
       "      <td>66239.0</td>\n",
       "      <td>571322.0</td>\n",
       "    </tr>\n",
       "    <tr>\n",
       "      <th>4</th>\n",
       "      <td>5</td>\n",
       "      <td>1990</td>\n",
       "      <td>509853.0</td>\n",
       "      <td>66547.0</td>\n",
       "      <td>576400.0</td>\n",
       "    </tr>\n",
       "  </tbody>\n",
       "</table>\n",
       "</div>"
      ],
      "text/plain": [
       "   Month  Year  Full-time  Part-time  Grand Total\n",
       "0      1  1990   494996.0    67200.0     562196.0\n",
       "1      2  1990   496152.0    67771.0     563923.0\n",
       "2      3  1990   500164.0    67316.0     567480.0\n",
       "3      4  1990   505083.0    66239.0     571322.0\n",
       "4      5  1990   509853.0    66547.0     576400.0"
      ]
     },
     "execution_count": 7,
     "metadata": {},
     "output_type": "execute_result"
    }
   ],
   "source": [
    "airline_employment.head()"
   ]
  },
  {
   "cell_type": "markdown",
   "id": "18cfcaa6-1de4-4944-8791-3711671ac70c",
   "metadata": {},
   "source": [
    "## **Data Cleaning**"
   ]
  },
  {
   "cell_type": "code",
   "execution_count": 9,
   "id": "de0d1ff4-7a0f-4ada-b11c-2cd5c735c664",
   "metadata": {},
   "outputs": [
    {
     "data": {
      "text/plain": [
       "Month          0\n",
       "Year           0\n",
       "Full-time      0\n",
       "Part-time      0\n",
       "Grand Total    0\n",
       "dtype: int64"
      ]
     },
     "execution_count": 9,
     "metadata": {},
     "output_type": "execute_result"
    }
   ],
   "source": [
    "# Check and Drop nulls\n",
    "airline_employment = airline_employment.dropna().copy()\n",
    "airline_employment.isnull().sum()"
   ]
  },
  {
   "cell_type": "code",
   "execution_count": 10,
   "id": "3cb4d29f-def0-4b3d-8589-ccafb6eeae47",
   "metadata": {},
   "outputs": [],
   "source": [
    "#Pie Chart displaying change of Full-time and Part-time Employment\n",
    "airline_employment_total= airline_employment.groupby('Year').mean()"
   ]
  },
  {
   "cell_type": "code",
   "execution_count": 182,
   "id": "8b792c24-71a5-4d83-8d3c-a2605a81de99",
   "metadata": {},
   "outputs": [
    {
     "data": {
      "text/plain": [
       "Month               6.500000\n",
       "Full-time      476837.000000\n",
       "Part-time      100450.333333\n",
       "Grand Total    577287.333333\n",
       "Name: 2011, dtype: float64"
      ]
     },
     "execution_count": 182,
     "metadata": {},
     "output_type": "execute_result"
    }
   ],
   "source": [
    "airline_employment_total.loc[2011]"
   ]
  },
  {
   "cell_type": "markdown",
   "id": "0773fdd5-7395-4d00-8fe8-5b2312b70e8c",
   "metadata": {},
   "source": [
    "## **Visualizing Industry Employment Mix**"
   ]
  },
  {
   "cell_type": "code",
   "execution_count": 12,
   "id": "1f0ad674-46e4-433a-a3e4-4baa2c5d2e73",
   "metadata": {},
   "outputs": [],
   "source": [
    "#Creating a pie chart function\n",
    "def create_piechart(df,year):\n",
    "    \n",
    "    column = df.loc[year]\n",
    "    values = (column['Full-time'],column['Part-time'])\n",
    "\n",
    "\n",
    "    color= [\"r\",'b']\n",
    "\n",
    "    return plt.show(\n",
    "            plt.pie(\n",
    "                x=values\n",
    "                , labels=[\"Full-time\",\"Part-time\"]\n",
    "                , colors=color\n",
    "                , autopct='%1.1f%%'\n",
    "                , shadow=True\n",
    "        )\n",
    "    )\n"
   ]
  },
  {
   "cell_type": "code",
   "execution_count": 13,
   "id": "e8ac10bb-a51f-4b4b-b055-418112386cfe",
   "metadata": {},
   "outputs": [
    {
     "data": {
      "image/png": "[encoded data removed]",
      "text/plain": [
       "<Figure size 432x288 with 1 Axes>"
      ]
     },
     "metadata": {},
     "output_type": "display_data"
    }
   ],
   "source": [
    "#Plotting Industry employment mix for 1990\n",
    "create_piechart(airline_employment_total,1990)"
   ]
  },
  {
   "cell_type": "code",
   "execution_count": 14,
   "id": "d086dd9a-1c35-4ce8-a3a4-715218deb276",
   "metadata": {},
   "outputs": [
    {
     "data": {
      "image/png": "[encoded data removed]",
      "text/plain": [
       "<Figure size 432x288 with 1 Axes>"
      ]
     },
     "metadata": {},
     "output_type": "display_data"
    }
   ],
   "source": [
    "#Plotting Industry Employment mix for 2010\n",
    "create_piechart(airline_employment_total,2010)"
   ]
  },
  {
   "cell_type": "code",
   "execution_count": 187,
   "id": "5194c333-3763-419f-8fd5-ff5f3cc15ea8",
   "metadata": {},
   "outputs": [
    {
     "data": {
      "image/png": "[encoded data removed]",
      "text/plain": [
       "<Figure size 432x288 with 1 Axes>"
      ]
     },
     "metadata": {},
     "output_type": "display_data"
    }
   ],
   "source": [
    "#Plotting Industry Employment mix for 2019\n",
    "create_piechart(airline_employment_total,2019)"
   ]
  },
  {
   "cell_type": "code",
   "execution_count": 16,
   "id": "18829970-ae36-4333-bc61-bc1296bf5ad9",
   "metadata": {},
   "outputs": [
    {
     "data": {
      "image/png": "[encoded data removed]",
      "text/plain": [
       "<Figure size 432x288 with 1 Axes>"
      ]
     },
     "metadata": {},
     "output_type": "display_data"
    }
   ],
   "source": [
    "#Plotting Industry Employment mix for 2020\n",
    "create_piechart(airline_employment_total,2020)"
   ]
  },
  {
   "cell_type": "code",
   "execution_count": 189,
   "id": "583a4715-4908-4c8b-91f4-600e3d858db9",
   "metadata": {},
   "outputs": [
    {
     "data": {
      "image/png": "[encoded data removed]",
      "text/plain": [
       "<Figure size 432x288 with 1 Axes>"
      ]
     },
     "metadata": {},
     "output_type": "display_data"
    }
   ],
   "source": [
    "create_piechart(airline_employment_total,2021)"
   ]
  },
  {
   "cell_type": "code",
   "execution_count": 18,
   "id": "afab9bc8-4c95-457a-a77d-64fdc2219474",
   "metadata": {},
   "outputs": [
    {
     "data": {
      "text/html": [
       "<div>\n",
       "<style scoped>\n",
       "    .dataframe tbody tr th:only-of-type {\n",
       "        vertical-align: middle;\n",
       "    }\n",
       "\n",
       "    .dataframe tbody tr th {\n",
       "        vertical-align: top;\n",
       "    }\n",
       "\n",
       "    .dataframe thead th {\n",
       "        text-align: right;\n",
       "    }\n",
       "</style>\n",
       "<table border=\"1\" class=\"dataframe\">\n",
       "  <thead>\n",
       "    <tr style=\"text-align: right;\">\n",
       "      <th></th>\n",
       "      <th>Grand Total</th>\n",
       "    </tr>\n",
       "    <tr>\n",
       "      <th>Year</th>\n",
       "      <th></th>\n",
       "    </tr>\n",
       "  </thead>\n",
       "  <tbody>\n",
       "    <tr>\n",
       "      <th>1990</th>\n",
       "      <td>574748.333333</td>\n",
       "    </tr>\n",
       "    <tr>\n",
       "      <th>1991</th>\n",
       "      <td>566294.916667</td>\n",
       "    </tr>\n",
       "    <tr>\n",
       "      <th>1992</th>\n",
       "      <td>576110.500000</td>\n",
       "    </tr>\n",
       "    <tr>\n",
       "      <th>1993</th>\n",
       "      <td>575524.500000</td>\n",
       "    </tr>\n",
       "    <tr>\n",
       "      <th>1994</th>\n",
       "      <td>584215.833333</td>\n",
       "    </tr>\n",
       "  </tbody>\n",
       "</table>\n",
       "</div>"
      ],
      "text/plain": [
       "        Grand Total\n",
       "Year               \n",
       "1990  574748.333333\n",
       "1991  566294.916667\n",
       "1992  576110.500000\n",
       "1993  575524.500000\n",
       "1994  584215.833333"
      ]
     },
     "execution_count": 18,
     "metadata": {},
     "output_type": "execute_result"
    }
   ],
   "source": [
    "#Display Airline Employment History since 1990 \n",
    "airline_employment_grandtotal= airline_employment.groupby('Year').mean()\n",
    "airline_employment_grandtotal.head()\n",
    "airline_employment_grandtotal.loc[:,['Grand Total']].head()"
   ]
  },
  {
   "cell_type": "code",
   "execution_count": 19,
   "id": "72f78218-99dd-46b6-81ce-8153464e2c08",
   "metadata": {},
   "outputs": [
    {
     "data": {
      "image/png": "[encoded data removed]",
      "text/plain": [
       "<Figure size 432x288 with 1 Axes>"
      ]
     },
     "metadata": {
      "needs_background": "light"
     },
     "output_type": "display_data"
    }
   ],
   "source": [
    "\n",
    "airline_employment_GT = airline_employment_grandtotal.loc[:,['Grand Total']]\n",
    "airline_employment_GT.plot()\n",
    "\n",
    "plt.ylabel('Average Employment')\n",
    "plt.xlabel('Year')\n",
    "plt.title('Airline Industry Employment History')\n",
    "plt.show()"
   ]
  },
  {
   "cell_type": "markdown",
   "id": "881a489f-964e-4874-adcc-1628fde7c0b5",
   "metadata": {},
   "source": [
    "\n"
   ]
  },
  {
   "cell_type": "markdown",
   "id": "d1bda467-6775-43d2-803b-a2a7b17894ec",
   "metadata": {},
   "source": [
    "## **Reading the Southwest Airlines, Delta Airlines and United Airlines Employment Data**"
   ]
  },
  {
   "cell_type": "code",
   "execution_count": 21,
   "id": "2b88797f-d9aa-4d2d-a6c9-8eb17c4e415d",
   "metadata": {},
   "outputs": [
    {
     "data": {
      "text/html": [
       "<div>\n",
       "<style scoped>\n",
       "    .dataframe tbody tr th:only-of-type {\n",
       "        vertical-align: middle;\n",
       "    }\n",
       "\n",
       "    .dataframe tbody tr th {\n",
       "        vertical-align: top;\n",
       "    }\n",
       "\n",
       "    .dataframe thead th {\n",
       "        text-align: right;\n",
       "    }\n",
       "</style>\n",
       "<table border=\"1\" class=\"dataframe\">\n",
       "  <thead>\n",
       "    <tr style=\"text-align: right;\">\n",
       "      <th></th>\n",
       "      <th>Month</th>\n",
       "      <th>Year</th>\n",
       "      <th>Full-time</th>\n",
       "      <th>Part-time</th>\n",
       "      <th>Grand Total</th>\n",
       "    </tr>\n",
       "  </thead>\n",
       "  <tbody>\n",
       "    <tr>\n",
       "      <th>count</th>\n",
       "      <td>376.000000</td>\n",
       "      <td>376.000000</td>\n",
       "      <td>376.000000</td>\n",
       "      <td>376.000000</td>\n",
       "      <td>376.000000</td>\n",
       "    </tr>\n",
       "    <tr>\n",
       "      <th>mean</th>\n",
       "      <td>6.457447</td>\n",
       "      <td>2005.170213</td>\n",
       "      <td>33115.478723</td>\n",
       "      <td>932.037234</td>\n",
       "      <td>34047.515957</td>\n",
       "    </tr>\n",
       "    <tr>\n",
       "      <th>std</th>\n",
       "      <td>3.464609</td>\n",
       "      <td>9.058787</td>\n",
       "      <td>14412.566323</td>\n",
       "      <td>658.159793</td>\n",
       "      <td>15020.611100</td>\n",
       "    </tr>\n",
       "    <tr>\n",
       "      <th>min</th>\n",
       "      <td>1.000000</td>\n",
       "      <td>1990.000000</td>\n",
       "      <td>6996.000000</td>\n",
       "      <td>41.000000</td>\n",
       "      <td>7829.000000</td>\n",
       "    </tr>\n",
       "    <tr>\n",
       "      <th>25%</th>\n",
       "      <td>3.000000</td>\n",
       "      <td>1997.000000</td>\n",
       "      <td>23518.000000</td>\n",
       "      <td>505.750000</td>\n",
       "      <td>24358.250000</td>\n",
       "    </tr>\n",
       "    <tr>\n",
       "      <th>50%</th>\n",
       "      <td>6.000000</td>\n",
       "      <td>2005.000000</td>\n",
       "      <td>32352.500000</td>\n",
       "      <td>791.500000</td>\n",
       "      <td>33070.500000</td>\n",
       "    </tr>\n",
       "    <tr>\n",
       "      <th>75%</th>\n",
       "      <td>9.000000</td>\n",
       "      <td>2013.000000</td>\n",
       "      <td>44826.250000</td>\n",
       "      <td>1406.750000</td>\n",
       "      <td>46239.250000</td>\n",
       "    </tr>\n",
       "    <tr>\n",
       "      <th>max</th>\n",
       "      <td>12.000000</td>\n",
       "      <td>2021.000000</td>\n",
       "      <td>60092.000000</td>\n",
       "      <td>2414.000000</td>\n",
       "      <td>62436.000000</td>\n",
       "    </tr>\n",
       "  </tbody>\n",
       "</table>\n",
       "</div>"
      ],
      "text/plain": [
       "            Month         Year     Full-time    Part-time   Grand Total\n",
       "count  376.000000   376.000000    376.000000   376.000000    376.000000\n",
       "mean     6.457447  2005.170213  33115.478723   932.037234  34047.515957\n",
       "std      3.464609     9.058787  14412.566323   658.159793  15020.611100\n",
       "min      1.000000  1990.000000   6996.000000    41.000000   7829.000000\n",
       "25%      3.000000  1997.000000  23518.000000   505.750000  24358.250000\n",
       "50%      6.000000  2005.000000  32352.500000   791.500000  33070.500000\n",
       "75%      9.000000  2013.000000  44826.250000  1406.750000  46239.250000\n",
       "max     12.000000  2021.000000  60092.000000  2414.000000  62436.000000"
      ]
     },
     "execution_count": 21,
     "metadata": {},
     "output_type": "execute_result"
    }
   ],
   "source": [
    "#LUV Employement History\n",
    "LUV_employment_csv = Path(\"Data/employee_data/luv_employee_data.csv\")\n",
    "LUV_employment = pd.read_csv(LUV_employment_csv)\n",
    "LUV_employment= LUV_employment.sort_index()\n",
    "\n",
    "LUV_employment[\"Full-time\"] = LUV_employment[\"Full-time\"].str.replace(',','')\n",
    "LUV_employment[\"Part-time\"] = LUV_employment[\"Part-time\"].str.replace(',','')\n",
    "LUV_employment[\"Grand Total\"] = LUV_employment[\"Grand Total\"].str.replace(',','')\n",
    "\n",
    "LUV_employment = LUV_employment.astype({'Full-time': float, 'Part-time': float, 'Grand Total': float})\n",
    "\n",
    "LUV_employment.describe()"
   ]
  },
  {
   "cell_type": "code",
   "execution_count": null,
   "id": "f142123d-1b9e-4f9e-9bb2-a227ead46105",
   "metadata": {},
   "outputs": [],
   "source": []
  },
  {
   "cell_type": "code",
   "execution_count": 22,
   "id": "2530b232-115a-4ce7-9c0b-27160424f229",
   "metadata": {},
   "outputs": [
    {
     "data": {
      "text/html": [
       "<div>\n",
       "<style scoped>\n",
       "    .dataframe tbody tr th:only-of-type {\n",
       "        vertical-align: middle;\n",
       "    }\n",
       "\n",
       "    .dataframe tbody tr th {\n",
       "        vertical-align: top;\n",
       "    }\n",
       "\n",
       "    .dataframe thead th {\n",
       "        text-align: right;\n",
       "    }\n",
       "</style>\n",
       "<table border=\"1\" class=\"dataframe\">\n",
       "  <thead>\n",
       "    <tr style=\"text-align: right;\">\n",
       "      <th></th>\n",
       "      <th>Month</th>\n",
       "      <th>Year</th>\n",
       "      <th>Full-time</th>\n",
       "      <th>Part-time</th>\n",
       "      <th>Grand Total</th>\n",
       "    </tr>\n",
       "  </thead>\n",
       "  <tbody>\n",
       "    <tr>\n",
       "      <th>0</th>\n",
       "      <td>1</td>\n",
       "      <td>1990</td>\n",
       "      <td>6997.0</td>\n",
       "      <td>832.0</td>\n",
       "      <td>7829.0</td>\n",
       "    </tr>\n",
       "    <tr>\n",
       "      <th>1</th>\n",
       "      <td>2</td>\n",
       "      <td>1990</td>\n",
       "      <td>6996.0</td>\n",
       "      <td>833.0</td>\n",
       "      <td>7829.0</td>\n",
       "    </tr>\n",
       "    <tr>\n",
       "      <th>2</th>\n",
       "      <td>3</td>\n",
       "      <td>1990</td>\n",
       "      <td>7090.0</td>\n",
       "      <td>833.0</td>\n",
       "      <td>7923.0</td>\n",
       "    </tr>\n",
       "    <tr>\n",
       "      <th>3</th>\n",
       "      <td>4</td>\n",
       "      <td>1990</td>\n",
       "      <td>7772.0</td>\n",
       "      <td>173.0</td>\n",
       "      <td>7945.0</td>\n",
       "    </tr>\n",
       "    <tr>\n",
       "      <th>4</th>\n",
       "      <td>5</td>\n",
       "      <td>1990</td>\n",
       "      <td>8049.0</td>\n",
       "      <td>164.0</td>\n",
       "      <td>8213.0</td>\n",
       "    </tr>\n",
       "  </tbody>\n",
       "</table>\n",
       "</div>"
      ],
      "text/plain": [
       "   Month  Year  Full-time  Part-time  Grand Total\n",
       "0      1  1990     6997.0      832.0       7829.0\n",
       "1      2  1990     6996.0      833.0       7829.0\n",
       "2      3  1990     7090.0      833.0       7923.0\n",
       "3      4  1990     7772.0      173.0       7945.0\n",
       "4      5  1990     8049.0      164.0       8213.0"
      ]
     },
     "execution_count": 22,
     "metadata": {},
     "output_type": "execute_result"
    }
   ],
   "source": [
    "LUV_employment.head()"
   ]
  },
  {
   "cell_type": "code",
   "execution_count": 23,
   "id": "3d958b99-7bfe-4f8a-8393-e26929e3e30c",
   "metadata": {},
   "outputs": [],
   "source": [
    "LUV_employment_total= LUV_employment.groupby('Year').mean()"
   ]
  },
  {
   "cell_type": "code",
   "execution_count": 24,
   "id": "c81c90f7-3c0a-4950-9998-9897d7521d27",
   "metadata": {},
   "outputs": [],
   "source": [
    "LUV_employment_total.drop(columns =['Full-time', 'Part-time', 'Month'], inplace = True)"
   ]
  },
  {
   "cell_type": "code",
   "execution_count": 25,
   "id": "ac1b89c7-ef1d-4665-b595-009df70a2da2",
   "metadata": {},
   "outputs": [],
   "source": [
    "LUV_employment_total.rename( columns = {'Grand Total':'LUV_Total'}, inplace = True)"
   ]
  },
  {
   "cell_type": "code",
   "execution_count": 26,
   "id": "21ce16b6-c399-442c-8f5b-36ed8dde948d",
   "metadata": {},
   "outputs": [
    {
     "data": {
      "text/html": [
       "<div>\n",
       "<style scoped>\n",
       "    .dataframe tbody tr th:only-of-type {\n",
       "        vertical-align: middle;\n",
       "    }\n",
       "\n",
       "    .dataframe tbody tr th {\n",
       "        vertical-align: top;\n",
       "    }\n",
       "\n",
       "    .dataframe thead th {\n",
       "        text-align: right;\n",
       "    }\n",
       "</style>\n",
       "<table border=\"1\" class=\"dataframe\">\n",
       "  <thead>\n",
       "    <tr style=\"text-align: right;\">\n",
       "      <th></th>\n",
       "      <th>LUV_Total</th>\n",
       "    </tr>\n",
       "    <tr>\n",
       "      <th>Year</th>\n",
       "      <th></th>\n",
       "    </tr>\n",
       "  </thead>\n",
       "  <tbody>\n",
       "    <tr>\n",
       "      <th>1990</th>\n",
       "      <td>8274.750000</td>\n",
       "    </tr>\n",
       "    <tr>\n",
       "      <th>1991</th>\n",
       "      <td>9259.833333</td>\n",
       "    </tr>\n",
       "    <tr>\n",
       "      <th>1992</th>\n",
       "      <td>10931.416667</td>\n",
       "    </tr>\n",
       "    <tr>\n",
       "      <th>1993</th>\n",
       "      <td>12547.666667</td>\n",
       "    </tr>\n",
       "    <tr>\n",
       "      <th>1994</th>\n",
       "      <td>15015.000000</td>\n",
       "    </tr>\n",
       "  </tbody>\n",
       "</table>\n",
       "</div>"
      ],
      "text/plain": [
       "         LUV_Total\n",
       "Year              \n",
       "1990   8274.750000\n",
       "1991   9259.833333\n",
       "1992  10931.416667\n",
       "1993  12547.666667\n",
       "1994  15015.000000"
      ]
     },
     "execution_count": 26,
     "metadata": {},
     "output_type": "execute_result"
    }
   ],
   "source": [
    "LUV_employment_total.head()"
   ]
  },
  {
   "cell_type": "code",
   "execution_count": 28,
   "id": "ad75874a-091b-40b0-a042-e83f3463da4f",
   "metadata": {},
   "outputs": [
    {
     "data": {
      "text/html": [
       "<div>\n",
       "<style scoped>\n",
       "    .dataframe tbody tr th:only-of-type {\n",
       "        vertical-align: middle;\n",
       "    }\n",
       "\n",
       "    .dataframe tbody tr th {\n",
       "        vertical-align: top;\n",
       "    }\n",
       "\n",
       "    .dataframe thead th {\n",
       "        text-align: right;\n",
       "    }\n",
       "</style>\n",
       "<table border=\"1\" class=\"dataframe\">\n",
       "  <thead>\n",
       "    <tr style=\"text-align: right;\">\n",
       "      <th></th>\n",
       "      <th>Month</th>\n",
       "      <th>Year</th>\n",
       "      <th>Full-time</th>\n",
       "      <th>Part-time</th>\n",
       "      <th>Grand Total</th>\n",
       "    </tr>\n",
       "  </thead>\n",
       "  <tbody>\n",
       "    <tr>\n",
       "      <th>count</th>\n",
       "      <td>376.000000</td>\n",
       "      <td>376.000000</td>\n",
       "      <td>376.000000</td>\n",
       "      <td>376.000000</td>\n",
       "      <td>376.000000</td>\n",
       "    </tr>\n",
       "    <tr>\n",
       "      <th>mean</th>\n",
       "      <td>6.457447</td>\n",
       "      <td>2005.170213</td>\n",
       "      <td>68398.257979</td>\n",
       "      <td>8545.005319</td>\n",
       "      <td>76943.263298</td>\n",
       "    </tr>\n",
       "    <tr>\n",
       "      <th>std</th>\n",
       "      <td>3.464609</td>\n",
       "      <td>9.058787</td>\n",
       "      <td>14124.128458</td>\n",
       "      <td>2476.931928</td>\n",
       "      <td>16121.100723</td>\n",
       "    </tr>\n",
       "    <tr>\n",
       "      <th>min</th>\n",
       "      <td>1.000000</td>\n",
       "      <td>1990.000000</td>\n",
       "      <td>40522.000000</td>\n",
       "      <td>5038.000000</td>\n",
       "      <td>45781.000000</td>\n",
       "    </tr>\n",
       "    <tr>\n",
       "      <th>25%</th>\n",
       "      <td>3.000000</td>\n",
       "      <td>1997.000000</td>\n",
       "      <td>55197.250000</td>\n",
       "      <td>6233.500000</td>\n",
       "      <td>62190.000000</td>\n",
       "    </tr>\n",
       "    <tr>\n",
       "      <th>50%</th>\n",
       "      <td>6.000000</td>\n",
       "      <td>2005.000000</td>\n",
       "      <td>73938.000000</td>\n",
       "      <td>7846.500000</td>\n",
       "      <td>82581.500000</td>\n",
       "    </tr>\n",
       "    <tr>\n",
       "      <th>75%</th>\n",
       "      <td>9.000000</td>\n",
       "      <td>2013.000000</td>\n",
       "      <td>76767.000000</td>\n",
       "      <td>11151.250000</td>\n",
       "      <td>88198.250000</td>\n",
       "    </tr>\n",
       "    <tr>\n",
       "      <th>max</th>\n",
       "      <td>12.000000</td>\n",
       "      <td>2021.000000</td>\n",
       "      <td>91956.000000</td>\n",
       "      <td>12100.000000</td>\n",
       "      <td>102046.000000</td>\n",
       "    </tr>\n",
       "  </tbody>\n",
       "</table>\n",
       "</div>"
      ],
      "text/plain": [
       "            Month         Year     Full-time     Part-time    Grand Total\n",
       "count  376.000000   376.000000    376.000000    376.000000     376.000000\n",
       "mean     6.457447  2005.170213  68398.257979   8545.005319   76943.263298\n",
       "std      3.464609     9.058787  14124.128458   2476.931928   16121.100723\n",
       "min      1.000000  1990.000000  40522.000000   5038.000000   45781.000000\n",
       "25%      3.000000  1997.000000  55197.250000   6233.500000   62190.000000\n",
       "50%      6.000000  2005.000000  73938.000000   7846.500000   82581.500000\n",
       "75%      9.000000  2013.000000  76767.000000  11151.250000   88198.250000\n",
       "max     12.000000  2021.000000  91956.000000  12100.000000  102046.000000"
      ]
     },
     "execution_count": 28,
     "metadata": {},
     "output_type": "execute_result"
    }
   ],
   "source": [
    "#UAL Employement History\n",
    "\n",
    "UAL_employment_csv = Path(\"Data/employee_data/ual_employee_data.csv\")\n",
    "UAL_employment = pd.read_csv(UAL_employment_csv)\n",
    "UAL_employment = UAL_employment.sort_index()\n",
    "UAL_employment.head(500)\n",
    "\n",
    "\n",
    "UAL_employment[\"Full-time\"] = UAL_employment[\"Full-time\"].str.replace(',','')\n",
    "UAL_employment[\"Part-time\"] = UAL_employment[\"Part-time\"].str.replace(',','')\n",
    "UAL_employment[\"Grand Total\"] = UAL_employment[\"Grand Total\"].str.replace(',','')\n",
    "\n",
    "UAL_employment = UAL_employment.astype({'Full-time': float, 'Part-time': float, 'Grand Total': float})\n",
    "\n",
    "UAL_employment.describe()"
   ]
  },
  {
   "cell_type": "code",
   "execution_count": 29,
   "id": "60d3cc74-6d10-4fd0-8d17-1f654147c603",
   "metadata": {},
   "outputs": [],
   "source": [
    "\n",
    "UAL_employment_total= UAL_employment.groupby('Year').mean()\n",
    "UAL_employment_total.drop(columns =['Full-time', 'Part-time', 'Month'], inplace = True)"
   ]
  },
  {
   "cell_type": "code",
   "execution_count": 30,
   "id": "f9f002c9-bf83-4d02-ac38-345e17f39fe2",
   "metadata": {},
   "outputs": [
    {
     "data": {
      "text/html": [
       "<div>\n",
       "<style scoped>\n",
       "    .dataframe tbody tr th:only-of-type {\n",
       "        vertical-align: middle;\n",
       "    }\n",
       "\n",
       "    .dataframe tbody tr th {\n",
       "        vertical-align: top;\n",
       "    }\n",
       "\n",
       "    .dataframe thead th {\n",
       "        text-align: right;\n",
       "    }\n",
       "</style>\n",
       "<table border=\"1\" class=\"dataframe\">\n",
       "  <thead>\n",
       "    <tr style=\"text-align: right;\">\n",
       "      <th></th>\n",
       "      <th>UAL_Total</th>\n",
       "    </tr>\n",
       "    <tr>\n",
       "      <th>Year</th>\n",
       "      <th></th>\n",
       "    </tr>\n",
       "  </thead>\n",
       "  <tbody>\n",
       "    <tr>\n",
       "      <th>1990</th>\n",
       "      <td>73335.250000</td>\n",
       "    </tr>\n",
       "    <tr>\n",
       "      <th>1991</th>\n",
       "      <td>78423.000000</td>\n",
       "    </tr>\n",
       "    <tr>\n",
       "      <th>1992</th>\n",
       "      <td>82367.583333</td>\n",
       "    </tr>\n",
       "    <tr>\n",
       "      <th>1993</th>\n",
       "      <td>82247.916667</td>\n",
       "    </tr>\n",
       "    <tr>\n",
       "      <th>1994</th>\n",
       "      <td>76046.166667</td>\n",
       "    </tr>\n",
       "  </tbody>\n",
       "</table>\n",
       "</div>"
      ],
      "text/plain": [
       "         UAL_Total\n",
       "Year              \n",
       "1990  73335.250000\n",
       "1991  78423.000000\n",
       "1992  82367.583333\n",
       "1993  82247.916667\n",
       "1994  76046.166667"
      ]
     },
     "execution_count": 30,
     "metadata": {},
     "output_type": "execute_result"
    }
   ],
   "source": [
    "UAL_employment_total.rename( columns = {'Grand Total':'UAL_Total'}, inplace = True)\n",
    "UAL_employment_total.head()"
   ]
  },
  {
   "cell_type": "code",
   "execution_count": 32,
   "id": "a555357a-2362-4f5e-818f-16cef98cda7c",
   "metadata": {},
   "outputs": [
    {
     "data": {
      "text/html": [
       "<div>\n",
       "<style scoped>\n",
       "    .dataframe tbody tr th:only-of-type {\n",
       "        vertical-align: middle;\n",
       "    }\n",
       "\n",
       "    .dataframe tbody tr th {\n",
       "        vertical-align: top;\n",
       "    }\n",
       "\n",
       "    .dataframe thead th {\n",
       "        text-align: right;\n",
       "    }\n",
       "</style>\n",
       "<table border=\"1\" class=\"dataframe\">\n",
       "  <thead>\n",
       "    <tr style=\"text-align: right;\">\n",
       "      <th></th>\n",
       "      <th>Month</th>\n",
       "      <th>Year</th>\n",
       "      <th>Full-time</th>\n",
       "      <th>Part-time</th>\n",
       "      <th>Grand Total</th>\n",
       "    </tr>\n",
       "  </thead>\n",
       "  <tbody>\n",
       "    <tr>\n",
       "      <th>count</th>\n",
       "      <td>376.000000</td>\n",
       "      <td>376.000000</td>\n",
       "      <td>376.000000</td>\n",
       "      <td>376.000000</td>\n",
       "      <td>376.000000</td>\n",
       "    </tr>\n",
       "    <tr>\n",
       "      <th>mean</th>\n",
       "      <td>6.457447</td>\n",
       "      <td>2005.170213</td>\n",
       "      <td>62307.361702</td>\n",
       "      <td>8637.667553</td>\n",
       "      <td>70945.029255</td>\n",
       "    </tr>\n",
       "    <tr>\n",
       "      <th>std</th>\n",
       "      <td>3.464609</td>\n",
       "      <td>9.058787</td>\n",
       "      <td>10442.459431</td>\n",
       "      <td>2996.484587</td>\n",
       "      <td>12275.100707</td>\n",
       "    </tr>\n",
       "    <tr>\n",
       "      <th>min</th>\n",
       "      <td>1.000000</td>\n",
       "      <td>1990.000000</td>\n",
       "      <td>41948.000000</td>\n",
       "      <td>3403.000000</td>\n",
       "      <td>46410.000000</td>\n",
       "    </tr>\n",
       "    <tr>\n",
       "      <th>25%</th>\n",
       "      <td>3.000000</td>\n",
       "      <td>1997.000000</td>\n",
       "      <td>55233.500000</td>\n",
       "      <td>5700.750000</td>\n",
       "      <td>61963.000000</td>\n",
       "    </tr>\n",
       "    <tr>\n",
       "      <th>50%</th>\n",
       "      <td>6.000000</td>\n",
       "      <td>2005.000000</td>\n",
       "      <td>63661.000000</td>\n",
       "      <td>9432.500000</td>\n",
       "      <td>72654.500000</td>\n",
       "    </tr>\n",
       "    <tr>\n",
       "      <th>75%</th>\n",
       "      <td>9.000000</td>\n",
       "      <td>2013.000000</td>\n",
       "      <td>70051.500000</td>\n",
       "      <td>10895.750000</td>\n",
       "      <td>80210.000000</td>\n",
       "    </tr>\n",
       "    <tr>\n",
       "      <th>max</th>\n",
       "      <td>12.000000</td>\n",
       "      <td>2021.000000</td>\n",
       "      <td>81177.000000</td>\n",
       "      <td>15138.000000</td>\n",
       "      <td>93448.000000</td>\n",
       "    </tr>\n",
       "  </tbody>\n",
       "</table>\n",
       "</div>"
      ],
      "text/plain": [
       "            Month         Year     Full-time     Part-time   Grand Total\n",
       "count  376.000000   376.000000    376.000000    376.000000    376.000000\n",
       "mean     6.457447  2005.170213  62307.361702   8637.667553  70945.029255\n",
       "std      3.464609     9.058787  10442.459431   2996.484587  12275.100707\n",
       "min      1.000000  1990.000000  41948.000000   3403.000000  46410.000000\n",
       "25%      3.000000  1997.000000  55233.500000   5700.750000  61963.000000\n",
       "50%      6.000000  2005.000000  63661.000000   9432.500000  72654.500000\n",
       "75%      9.000000  2013.000000  70051.500000  10895.750000  80210.000000\n",
       "max     12.000000  2021.000000  81177.000000  15138.000000  93448.000000"
      ]
     },
     "execution_count": 32,
     "metadata": {},
     "output_type": "execute_result"
    }
   ],
   "source": [
    "#DAL Employement History\n",
    "\n",
    "DAL_employment_csv = Path(\"Data/employee_data/dal_employee_data.csv\")\n",
    "DAL_employment = pd.read_csv(DAL_employment_csv)\n",
    "DAL_employment = DAL_employment.sort_index()\n",
    "\n",
    "DAL_employment.head(500)\n",
    "\n",
    "\n",
    "DAL_employment[\"Full-time\"] = DAL_employment[\"Full-time\"].str.replace(',','')\n",
    "DAL_employment[\"Part-time\"] = DAL_employment[\"Part-time\"].str.replace(',','')\n",
    "DAL_employment[\"Grand Total\"] = DAL_employment[\"Grand Total\"].str.replace(',','')\n",
    "\n",
    "DAL_employment = DAL_employment.astype({'Full-time': float, 'Part-time': float, 'Grand Total': float})\n",
    "\n",
    "DAL_employment.describe()"
   ]
  },
  {
   "cell_type": "code",
   "execution_count": 33,
   "id": "a93fdf2c-c579-4608-897f-fe8fc4e17765",
   "metadata": {},
   "outputs": [],
   "source": [
    "DAL_employment_total= DAL_employment.groupby('Year').mean()\n",
    "DAL_employment_total.drop(columns =['Full-time', 'Part-time', 'Month'], inplace = True)"
   ]
  },
  {
   "cell_type": "code",
   "execution_count": 34,
   "id": "47dff2b3-3e4b-421a-b658-248b7e20f228",
   "metadata": {},
   "outputs": [
    {
     "data": {
      "text/html": [
       "<div>\n",
       "<style scoped>\n",
       "    .dataframe tbody tr th:only-of-type {\n",
       "        vertical-align: middle;\n",
       "    }\n",
       "\n",
       "    .dataframe tbody tr th {\n",
       "        vertical-align: top;\n",
       "    }\n",
       "\n",
       "    .dataframe thead th {\n",
       "        text-align: right;\n",
       "    }\n",
       "</style>\n",
       "<table border=\"1\" class=\"dataframe\">\n",
       "  <thead>\n",
       "    <tr style=\"text-align: right;\">\n",
       "      <th></th>\n",
       "      <th>DAL_Total</th>\n",
       "    </tr>\n",
       "    <tr>\n",
       "      <th>Year</th>\n",
       "      <th></th>\n",
       "    </tr>\n",
       "  </thead>\n",
       "  <tbody>\n",
       "    <tr>\n",
       "      <th>1990</th>\n",
       "      <td>61747.250000</td>\n",
       "    </tr>\n",
       "    <tr>\n",
       "      <th>1991</th>\n",
       "      <td>67665.416667</td>\n",
       "    </tr>\n",
       "    <tr>\n",
       "      <th>1992</th>\n",
       "      <td>76680.083333</td>\n",
       "    </tr>\n",
       "    <tr>\n",
       "      <th>1993</th>\n",
       "      <td>72628.416667</td>\n",
       "    </tr>\n",
       "    <tr>\n",
       "      <th>1994</th>\n",
       "      <td>69863.583333</td>\n",
       "    </tr>\n",
       "  </tbody>\n",
       "</table>\n",
       "</div>"
      ],
      "text/plain": [
       "         DAL_Total\n",
       "Year              \n",
       "1990  61747.250000\n",
       "1991  67665.416667\n",
       "1992  76680.083333\n",
       "1993  72628.416667\n",
       "1994  69863.583333"
      ]
     },
     "execution_count": 34,
     "metadata": {},
     "output_type": "execute_result"
    }
   ],
   "source": [
    "DAL_employment_total.rename( columns = {'Grand Total':'DAL_Total'}, inplace = True)\n",
    "DAL_employment_total.head()"
   ]
  },
  {
   "cell_type": "code",
   "execution_count": 35,
   "id": "86c1a039-4ff2-4a63-84b2-15545e8e597e",
   "metadata": {},
   "outputs": [],
   "source": [
    "#combining the employment data for LUV, DAL and UAL\n",
    "CB_airline_total = pd.concat([DAL_employment_total, LUV_employment_total, UAL_employment_total], axis = 'columns', join = 'inner')"
   ]
  },
  {
   "cell_type": "code",
   "execution_count": 36,
   "id": "6b79a301-3014-4839-8680-bd98d88890d3",
   "metadata": {},
   "outputs": [
    {
     "data": {
      "text/plain": [
       "<matplotlib.axes._subplots.AxesSubplot at 0x116569518>"
      ]
     },
     "execution_count": 36,
     "metadata": {},
     "output_type": "execute_result"
    },
    {
     "data": {
      "image/png": "[encoded data removed]",
      "text/plain": [
       "<Figure size 432x288 with 1 Axes>"
      ]
     },
     "metadata": {
      "needs_background": "light"
     },
     "output_type": "display_data"
    }
   ],
   "source": [
    "#Plotting the \n",
    "CB_airline_total.plot()"
   ]
  },
  {
   "cell_type": "markdown",
   "id": "2a179922-50b1-4b7e-acfc-120c26f70bc7",
   "metadata": {},
   "source": [
    "## **Writing data to CSV files for dashboard**"
   ]
  },
  {
   "cell_type": "code",
   "execution_count": 208,
   "id": "5f917eeb-b9b1-4756-9a54-224a3328ecc2",
   "metadata": {},
   "outputs": [],
   "source": [
    "CB_airline_total.to_csv(\"/Users/mo/Desktop/project2/Project-One/Data/emp_airline_data.csv\")"
   ]
  },
  {
   "cell_type": "code",
   "execution_count": 209,
   "id": "27c526fe-3bd9-41f5-90fa-fc41a2f94ed6",
   "metadata": {},
   "outputs": [],
   "source": [
    "airline_employment_total.loc[[1990,2010,2020]].to_csv(\"/Users/mo/Desktop/project2/Project-One/Data/airline_industry_total.csv\")"
   ]
  },
  {
   "cell_type": "code",
   "execution_count": null,
   "id": "f5123104-1156-49e0-a31f-37722fec7a81",
   "metadata": {},
   "outputs": [],
   "source": []
  },
  {
   "cell_type": "markdown",
   "id": "ab8d4e3f-61aa-47c5-a97c-e260d4838188",
   "metadata": {},
   "source": []
  }
 ],
 "metadata": {
  "kernelspec": {
   "display_name": "Python 3",
   "language": "python",
   "name": "python3"
  },
  "language_info": {
   "codemirror_mode": {
    "name": "ipython",
    "version": 3
   },
   "file_extension": ".py",
   "mimetype": "text/x-python",
   "name": "python",
   "nbconvert_exporter": "python",
   "pygments_lexer": "ipython3",
   "version": "3.7.3"
  }
 },
 "nbformat": 4,
 "nbformat_minor": 5
}
