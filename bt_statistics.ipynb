{
 "cells": [
  {
   "cell_type": "code",
   "execution_count": null,
   "metadata": {},
   "outputs": [],
   "source": [
    "# Created Library \r\n",
    "\r\n",
    "import panel as pn\r\n",
    "pn.extension('plotly')\r\n",
    "\r\n",
    "import plotly.express as px\r\n",
    "\r\n",
    "import plotly\r\n",
    "\r\n",
    "import pandas as pd\r\n",
    "\r\n",
    "import hvplot.pandas\r\n",
    "\r\n",
    "from matplotlib import pyplot as plt\r\n",
    "\r\n",
    "import os\r\n",
    "\r\n",
    "from pathlib import Path\r\n",
    "\r\n",
    "import numpy as np"
   ]
  },
  {
   "cell_type": "code",
   "execution_count": null,
   "metadata": {},
   "outputs": [],
   "source": [
    "# All U.S. Carriers Passengers - All Airports\r\n",
    "\r\n",
    "path_1 = Path(\"bureau_ of_transporation_ statistics/all_us_passengers.csv\")\r\n",
    "\r\n",
    "us_passengers = pd.read_csv(path_1, header = 1)\r\n",
    "\r\n",
    "us_passengers.sort_index()\r\n",
    "\r\n",
    "# Delta Airlines Passengers - All Airports\r\n",
    "\r\n",
    "path_2 = Path(\"bureau_ of_transporation_ statistics/dal_passengers.csv\")\r\n",
    "\r\n",
    "dal_passengers = pd.read_csv(path_2, header = 1)\r\n",
    "\r\n",
    "dal_passengers.sort_index()\r\n",
    "\r\n",
    "# Southwest Airlines Passengers - All Airports\r\n",
    "\r\n",
    "path_3 = Path(\"bureau_ of_transporation_ statistics/luv_passengers.csv\")\r\n",
    "\r\n",
    "luv_passengers = pd.read_csv(path_3, header = 1)\r\n",
    "\r\n",
    "luv_passengers.sort_index()\r\n",
    "\r\n",
    "# United Airlines Passengers - All Airports\r\n",
    "\r\n",
    "path_4 = Path(\"bureau_ of_transporation_ statistics/ual_passengers.csv\")\r\n",
    "\r\n",
    "ual_passengers = pd.read_csv(path_4, header = 1)\r\n",
    "\r\n",
    "ual_passengers.sort_index()"
   ]
  },
  {
   "cell_type": "code",
   "execution_count": null,
   "metadata": {},
   "outputs": [],
   "source": [
    "# Created index\r\n",
    "\r\n",
    "us_passengers.set_index('Year', inplace=True)\r\n",
    "\r\n",
    "# Delta\r\n",
    "\r\n",
    "dal_passengers.set_index('Year', inplace=True)\r\n",
    "\r\n",
    "# Southwest\r\n",
    "\r\n",
    "luv_passengers.set_index('Year', inplace=True)\r\n",
    "\r\n",
    "# United Air\r\n",
    "\r\n",
    "ual_passengers.set_index('Year', inplace=True)"
   ]
  },
  {
   "cell_type": "code",
   "execution_count": null,
   "metadata": {},
   "outputs": [],
   "source": [
    "# Located column with value equal to TOTAL\r\n",
    "\r\n",
    "us_passengers_final = us_passengers[us_passengers['Month'] == 'TOTAL']\r\n",
    "\r\n",
    "# Delta\r\n",
    "\r\n",
    "dal_passengers_final = dal_passengers[dal_passengers['Month'] == 'TOTAL']\r\n",
    "\r\n",
    "# Southwest\r\n",
    "\r\n",
    "luv_passengers_final = luv_passengers[luv_passengers['Month'] == 'TOTAL']\r\n",
    "\r\n",
    "# United Air\r\n",
    "\r\n",
    "ual_passengers_final = ual_passengers[ual_passengers['Month'] == 'TOTAL']"
   ]
  },
  {
   "cell_type": "code",
   "execution_count": null,
   "metadata": {},
   "outputs": [],
   "source": [
    "# Initialized data\r\n",
    "\r\n",
    "us_passengers_final"
   ]
  },
  {
   "cell_type": "code",
   "execution_count": null,
   "metadata": {},
   "outputs": [],
   "source": [
    "dal_passengers_final"
   ]
  },
  {
   "cell_type": "code",
   "execution_count": null,
   "metadata": {},
   "outputs": [],
   "source": [
    "luv_passengers_final"
   ]
  },
  {
   "cell_type": "code",
   "execution_count": null,
   "metadata": {},
   "outputs": [],
   "source": [
    "ual_passengers_final"
   ]
  },
  {
   "cell_type": "code",
   "execution_count": null,
   "metadata": {},
   "outputs": [],
   "source": [
    "# Dropped \r\n",
    "\r\n",
    "us_passengers_final = us_passengers_final.drop(columns= ['Month'])\r\n",
    "\r\n",
    "us_passengers_final.reset_index(inplace=True)\r\n",
    "\r\n",
    "# Delta\r\n",
    "\r\n",
    "dal_passengers_final = dal_passengers_final.drop(columns= ['Month'])\r\n",
    "\r\n",
    "dal_passengers_final.reset_index(inplace=True)\r\n",
    "\r\n",
    "# Southwest \r\n",
    "\r\n",
    "luv_passengers_final = luv_passengers_final.drop(columns= ['Month'])\r\n",
    "\r\n",
    "luv_passengers_final.reset_index(inplace=True)\r\n",
    "\r\n",
    "# United\r\n",
    "\r\n",
    "ual_passengers_final = ual_passengers_final.drop(columns= ['Month'])\r\n",
    "\r\n",
    "ual_passengers_final.reset_index(inplace=True)"
   ]
  },
  {
   "cell_type": "code",
   "execution_count": null,
   "metadata": {},
   "outputs": [],
   "source": [
    "# Data Cleaning\r\n",
    "\r\n",
    "# All U.S. Carriers\r\n",
    "\r\n",
    "us_passengers_final['DOMESTIC'] = us_passengers_final['DOMESTIC'].str.replace(\",\",\"\")\r\n",
    "us_passengers_final['INTERNATIONAL'] = us_passengers_final['INTERNATIONAL'].str.replace(\",\",\"\")\r\n",
    "us_passengers_final['TOTAL'] = us_passengers_final['TOTAL'].str.replace(\",\",\"\")\r\n",
    "\r\n",
    "us_passengers_final.set_index('Year',inplace=True)\r\n",
    "\r\n",
    "# Delta\r\n",
    "\r\n",
    "dal_passengers_final['DOMESTIC'] = dal_passengers_final['DOMESTIC'].str.replace(\",\",\"\")\r\n",
    "dal_passengers_final['INTERNATIONAL'] = dal_passengers_final['INTERNATIONAL'].str.replace(\",\",\"\")\r\n",
    "dal_passengers_final['TOTAL'] = dal_passengers_final['TOTAL'].str.replace(\",\",\"\")\r\n",
    "\r\n",
    "dal_passengers_final.set_index('Year',inplace=True)\r\n",
    "\r\n",
    "# Southwest\r\n",
    "\r\n",
    "luv_passengers_final['DOMESTIC'] = luv_passengers_final['DOMESTIC'].str.replace(\",\",\"\")\r\n",
    "luv_passengers_final['INTERNATIONAL'] = luv_passengers_final['INTERNATIONAL'].str.replace(\",\",\"\")\r\n",
    "luv_passengers_final['TOTAL'] = luv_passengers_final['TOTAL'].str.replace(\",\",\"\")\r\n",
    "\r\n",
    "luv_passengers_final.set_index('Year',inplace=True)\r\n",
    "\r\n",
    "# United\r\n",
    "\r\n",
    "ual_passengers_final['DOMESTIC'] = ual_passengers_final['DOMESTIC'].str.replace(\",\",\"\")\r\n",
    "ual_passengers_final['INTERNATIONAL'] = ual_passengers_final['INTERNATIONAL'].str.replace(\",\",\"\")\r\n",
    "ual_passengers_final['TOTAL'] = ual_passengers_final['TOTAL'].str.replace(\",\",\"\")\r\n",
    "\r\n",
    "ual_passengers_final.set_index('Year',inplace=True)"
   ]
  },
  {
   "cell_type": "code",
   "execution_count": null,
   "metadata": {},
   "outputs": [],
   "source": [
    "# Data Cleaning (Changed dtype)\r\n",
    "\r\n",
    "# All U.S. Carriers\r\n",
    "\r\n",
    "us_passengers_final['DOMESTIC'] = pd.to_numeric(us_passengers_final['DOMESTIC'])\r\n",
    "us_passengers_final['INTERNATIONAL'] = pd.to_numeric(us_passengers_final['INTERNATIONAL'])\r\n",
    "us_passengers_final['TOTAL'] = pd.to_numeric(us_passengers_final['TOTAL'])\r\n",
    "\r\n",
    "# Delta\r\n",
    "\r\n",
    "dal_passengers_final['DOMESTIC'] = pd.to_numeric(dal_passengers_final['DOMESTIC'])\r\n",
    "dal_passengers_final['INTERNATIONAL'] = pd.to_numeric(dal_passengers_final['INTERNATIONAL'])\r\n",
    "dal_passengers_final['TOTAL'] = pd.to_numeric(dal_passengers_final['TOTAL'])\r\n",
    "\r\n",
    "# Southwest\r\n",
    "\r\n",
    "luv_passengers_final['DOMESTIC'] = pd.to_numeric(luv_passengers_final['DOMESTIC'])\r\n",
    "luv_passengers_final['INTERNATIONAL'] = pd.to_numeric(luv_passengers_final['INTERNATIONAL'])\r\n",
    "luv_passengers_final['TOTAL'] = pd.to_numeric(luv_passengers_final['TOTAL'])\r\n",
    "\r\n",
    "# United\r\n",
    "\r\n",
    "ual_passengers_final['DOMESTIC'] = pd.to_numeric(ual_passengers_final['DOMESTIC'])\r\n",
    "ual_passengers_final['INTERNATIONAL'] = pd.to_numeric(ual_passengers_final['INTERNATIONAL'])\r\n",
    "ual_passengers_final['TOTAL'] = pd.to_numeric(ual_passengers_final['TOTAL'])"
   ]
  },
  {
   "cell_type": "code",
   "execution_count": null,
   "metadata": {},
   "outputs": [],
   "source": [
    "us_passengers_final.hvplot.line(label=\"All U.S. Carriers - All Airports\", ylabel = \"Number of Passengers\", width=900,height=500).opts(yformatter=\"%.0f\")"
   ]
  },
  {
   "cell_type": "code",
   "execution_count": null,
   "metadata": {},
   "outputs": [],
   "source": [
    "dal_passengers_final.hvplot.line(label=\"Delta Airlines - All Airports\", ylabel = \"Number of Passengers\", width=900,height=500).opts(yformatter=\"%.0f\")"
   ]
  },
  {
   "cell_type": "code",
   "execution_count": null,
   "metadata": {},
   "outputs": [],
   "source": [
    "luv_passengers_final.hvplot.line(label=\"Southwest Airlines - All Airports\", ylabel = \"Number of Passengers\", width=900,height=500).opts(yformatter=\"%.0f\")"
   ]
  },
  {
   "cell_type": "code",
   "execution_count": null,
   "metadata": {},
   "outputs": [],
   "source": [
    "ual_passengers_final.hvplot.line(label=\"United Airlines - All Airports\", ylabel = \"Number of Passengers\", width=900,height=500).opts(yformatter=\"%.0f\")"
   ]
  },
  {
   "cell_type": "code",
   "execution_count": null,
   "metadata": {},
   "outputs": [],
   "source": [
    "# All U.S. Carriers Flights - All Airports\r\n",
    "\r\n",
    "path_5 = Path(\"bureau_ of_transporation_ statistics/all_us_flights.csv\")\r\n",
    "\r\n",
    "us_flights = pd.read_csv(path_5, header = 1)\r\n",
    "\r\n",
    "us_flights.sort_index()\r\n",
    "\r\n",
    "# Delta Airlines Flights - All Airports\r\n",
    "\r\n",
    "path_6 = Path(\"bureau_ of_transporation_ statistics/dal_flights.csv\")\r\n",
    "\r\n",
    "dal_flights = pd.read_csv(path_6, header = 1)\r\n",
    "\r\n",
    "dal_flights.sort_index()\r\n",
    "\r\n",
    "# Southwest Airlines Flights - All Airports\r\n",
    "\r\n",
    "path_7 = Path(\"bureau_ of_transporation_ statistics/luv_flights.csv\")\r\n",
    "\r\n",
    "luv_flights = pd.read_csv(path_7, header = 1)\r\n",
    "\r\n",
    "luv_flights.sort_index()\r\n",
    "\r\n",
    "# United Airlines Flights - All Airports\r\n",
    "\r\n",
    "path_8 = Path(\"bureau_ of_transporation_ statistics/ual_flights.csv\")\r\n",
    "\r\n",
    "ual_flights = pd.read_csv(path_8, header = 1)\r\n",
    "\r\n",
    "ual_flights.sort_index()"
   ]
  },
  {
   "cell_type": "code",
   "execution_count": null,
   "metadata": {},
   "outputs": [],
   "source": [
    "# Created index\r\n",
    "\r\n",
    "us_flights.set_index('Year', inplace=True)\r\n",
    "\r\n",
    "# Delta\r\n",
    "\r\n",
    "dal_flights.set_index('Year', inplace=True)\r\n",
    "\r\n",
    "# Southwest\r\n",
    "\r\n",
    "luv_flights.set_index('Year', inplace=True)\r\n",
    "\r\n",
    "# United Air\r\n",
    "\r\n",
    "ual_flights.set_index('Year', inplace=True)"
   ]
  },
  {
   "cell_type": "code",
   "execution_count": null,
   "metadata": {},
   "outputs": [],
   "source": [
    "# Located column with value equal to TOTAL\r\n",
    "\r\n",
    "us_flights_final = us_flights[us_flights['Month'] == 'TOTAL']\r\n",
    "\r\n",
    "# Delta\r\n",
    "\r\n",
    "dal_flights_final = dal_flights[dal_flights['Month'] == 'TOTAL']\r\n",
    "\r\n",
    "# Southwest\r\n",
    "\r\n",
    "luv_flights_final = luv_flights[luv_flights['Month'] == 'TOTAL']\r\n",
    "\r\n",
    "# United Air\r\n",
    "\r\n",
    "ual_flights_final = ual_flights[ual_flights['Month'] == 'TOTAL']"
   ]
  },
  {
   "cell_type": "code",
   "execution_count": null,
   "metadata": {},
   "outputs": [],
   "source": [
    "# Dropped column Month \r\n",
    "\r\n",
    "us_flights_final = us_flights_final.drop(columns= ['Month'])\r\n",
    "\r\n",
    "us_flights_final.reset_index(inplace=True)\r\n",
    "\r\n",
    "# Delta\r\n",
    "\r\n",
    "dal_flights_final = dal_flights_final.drop(columns= ['Month'])\r\n",
    "\r\n",
    "dal_flights_final.reset_index(inplace=True)\r\n",
    "\r\n",
    "# Southwest \r\n",
    "\r\n",
    "luv_flights_final = luv_flights_final.drop(columns= ['Month'])\r\n",
    "\r\n",
    "luv_flights_final.reset_index(inplace=True)\r\n",
    "\r\n",
    "# United\r\n",
    "\r\n",
    "ual_flights_final = ual_flights_final.drop(columns= ['Month'])\r\n",
    "\r\n",
    "ual_flights_final.reset_index(inplace=True)"
   ]
  },
  {
   "cell_type": "code",
   "execution_count": null,
   "metadata": {},
   "outputs": [],
   "source": [
    "# Data Cleaning\r\n",
    "\r\n",
    "# All U.S. Carriers\r\n",
    "\r\n",
    "us_flights_final['DOMESTIC'] = us_flights_final['DOMESTIC'].str.replace(\",\",\"\")\r\n",
    "us_flights_final['INTERNATIONAL'] = us_flights_final['INTERNATIONAL'].str.replace(\",\",\"\")\r\n",
    "us_flights_final['TOTAL'] = us_flights_final['TOTAL'].str.replace(\",\",\"\")\r\n",
    "\r\n",
    "us_flights_final.set_index('Year',inplace=True)\r\n",
    "\r\n",
    "# Delta\r\n",
    "\r\n",
    "dal_flights_final['DOMESTIC'] = dal_flights_final['DOMESTIC'].str.replace(\",\",\"\")\r\n",
    "dal_flights_final['INTERNATIONAL'] = dal_flights_final['INTERNATIONAL'].str.replace(\",\",\"\")\r\n",
    "dal_flights_final['TOTAL'] = dal_flights_final['TOTAL'].str.replace(\",\",\"\")\r\n",
    "\r\n",
    "dal_flights_final.set_index('Year',inplace=True)\r\n",
    "\r\n",
    "# Southwest\r\n",
    "\r\n",
    "luv_flights_final['DOMESTIC'] = luv_flights_final['DOMESTIC'].str.replace(\",\",\"\")\r\n",
    "luv_flights_final['INTERNATIONAL'] = luv_flights_final['INTERNATIONAL'].str.replace(\",\",\"\")\r\n",
    "luv_flights_final['TOTAL'] = luv_flights_final['TOTAL'].str.replace(\",\",\"\")\r\n",
    "\r\n",
    "luv_flights_final.set_index('Year',inplace=True)\r\n",
    "\r\n",
    "# United\r\n",
    "\r\n",
    "ual_flights_final['DOMESTIC'] = ual_flights_final['DOMESTIC'].str.replace(\",\",\"\")\r\n",
    "ual_flights_final['INTERNATIONAL'] = ual_flights_final['INTERNATIONAL'].str.replace(\",\",\"\")\r\n",
    "ual_flights_final['TOTAL'] = ual_flights_final['TOTAL'].str.replace(\",\",\"\")\r\n",
    "\r\n",
    "ual_flights_final.set_index('Year',inplace=True)"
   ]
  },
  {
   "cell_type": "code",
   "execution_count": null,
   "metadata": {},
   "outputs": [],
   "source": [
    "# Data Cleaning (Changed dtype)\r\n",
    "\r\n",
    "# All U.S. Carriers\r\n",
    "\r\n",
    "us_flights_final['DOMESTIC'] = pd.to_numeric(us_flights_final['DOMESTIC'])\r\n",
    "us_flights_final['INTERNATIONAL'] = pd.to_numeric(us_flights_final['INTERNATIONAL'])\r\n",
    "us_flights_final['TOTAL'] = pd.to_numeric(us_flights_final['TOTAL'])\r\n",
    "\r\n",
    "# Delta\r\n",
    "\r\n",
    "dal_flights_final['DOMESTIC'] = pd.to_numeric(dal_flights_final['DOMESTIC'])\r\n",
    "dal_flights_final['INTERNATIONAL'] = pd.to_numeric(dal_flights_final['INTERNATIONAL'])\r\n",
    "dal_flights_final['TOTAL'] = pd.to_numeric(dal_flights_final['TOTAL'])\r\n",
    "\r\n",
    "# Southwest\r\n",
    "\r\n",
    "luv_flights_final['DOMESTIC'] = pd.to_numeric(luv_flights_final['DOMESTIC'])\r\n",
    "luv_flights_final['INTERNATIONAL'] = pd.to_numeric(luv_flights_final['INTERNATIONAL'])\r\n",
    "luv_flights_final['TOTAL'] = pd.to_numeric(luv_flights_final['TOTAL'])\r\n",
    "\r\n",
    "# United\r\n",
    "\r\n",
    "ual_flights_final['DOMESTIC'] = pd.to_numeric(ual_flights_final['DOMESTIC'])\r\n",
    "ual_flights_final['INTERNATIONAL'] = pd.to_numeric(ual_flights_final['INTERNATIONAL'])\r\n",
    "ual_flights_final['TOTAL'] = pd.to_numeric(ual_flights_final['TOTAL'])"
   ]
  },
  {
   "cell_type": "code",
   "execution_count": null,
   "metadata": {},
   "outputs": [],
   "source": [
    "us_flights_final.hvplot.line(label=\"All U.S. Carriers Flights - All Airports\", ylabel = \"Number of Flights\", width=900,height=500).opts(yformatter=\"%.0f\")"
   ]
  },
  {
   "cell_type": "code",
   "execution_count": null,
   "metadata": {},
   "outputs": [],
   "source": [
    "dal_flights_final.hvplot.line(label=\"Delta Airlines Flights - All Airports\", ylabel = \"Number of Flights\", width=900,height=500).opts(yformatter=\"%.0f\")"
   ]
  },
  {
   "cell_type": "code",
   "execution_count": null,
   "metadata": {},
   "outputs": [],
   "source": [
    "luv_flights_final.hvplot.line(label=\"Southwest Airlines Flights - All Airports\", ylabel = \"Number of Flights\", width=900,height=500).opts(yformatter=\"%.0f\")"
   ]
  },
  {
   "cell_type": "code",
   "execution_count": null,
   "metadata": {},
   "outputs": [],
   "source": [
    "ual_flights_final.hvplot.line(label=\"American Airlines Flights - All Airports\", ylabel = \"Number of Flights\", width=900,height=500).opts(yformatter=\"%.0f\")"
   ]
  },
  {
   "cell_type": "code",
   "execution_count": null,
   "metadata": {},
   "outputs": [],
   "source": [
    "# All U.S. Carriers Passenger-Miles - All Airports\r\n",
    "\r\n",
    "path_9 = Path(\"bureau_ of_transporation_ statistics/all_us_passenger_miles.csv\")\r\n",
    "\r\n",
    "us_passenger_miles = pd.read_csv(path_9, header = 1)\r\n",
    "\r\n",
    "us_passenger_miles.sort_index()\r\n",
    "\r\n",
    "# Delta Airlines Passenger-Miles - All Airports\r\n",
    "\r\n",
    "path_10 = Path(\"bureau_ of_transporation_ statistics/dal_passenger_miles.csv\")\r\n",
    "\r\n",
    "dal_passenger_miles = pd.read_csv(path_10, header = 1)\r\n",
    "\r\n",
    "dal_passenger_miles.sort_index()\r\n",
    "\r\n",
    "# Southwest Airlines Passenger-Miles - All Airports\r\n",
    "\r\n",
    "path_11 = Path(\"bureau_ of_transporation_ statistics/luv_passenger_miles.csv\")\r\n",
    "\r\n",
    "luv_passenger_miles = pd.read_csv(path_11, header = 1)\r\n",
    "\r\n",
    "luv_passenger_miles.sort_index()\r\n",
    "\r\n",
    "# United Airlines Passenger-Miles - All Airports\r\n",
    "\r\n",
    "path_12 = Path(\"bureau_ of_transporation_ statistics/ual_passenger_miles.csv\")\r\n",
    "\r\n",
    "ual_passenger_miles = pd.read_csv(path_12, header = 1)\r\n",
    "\r\n",
    "ual_passenger_miles.sort_index()"
   ]
  },
  {
   "cell_type": "code",
   "execution_count": null,
   "metadata": {},
   "outputs": [],
   "source": []
  },
  {
   "cell_type": "code",
   "execution_count": null,
   "metadata": {},
   "outputs": [],
   "source": [
    "# HVPLOT for PANEL\r\n",
    "\r\n",
    "# us_passengers_final.hvplot.line(label=\"All U.S. Carriers - All Airports\", ylabel = \"Number of Passengers\", width=900,height=500).opts(yformatter=\"%.0f\")\r\n",
    "# us_flights_final.hvplot.line(label=\"All U.S. Carriers Flights - All Airports\", ylabel = \"Number of Flights\", width=900,height=500).opts(yformatter=\"%.0f\")\r\n",
    "\r\n",
    "# dal_passengers_final.hvplot.line(label=\"Delta Airlines - All Airports\", ylabel = \"Number of Passengers\", width=900,height=500).opts(yformatter=\"%.0f\")\r\n",
    "# dal_flights_final.hvplot.line(label=\"Delta Airlines Flights - All Airports\", ylabel = \"Number of Flights\", width=900,height=500).opts(yformatter=\"%.0f\")\r\n",
    "\r\n",
    "\r\n",
    "# luv_passengers_final.hvplot.line(label=\"Southwest Airlines - All Airports\", ylabel = \"Number of Passengers\", width=900,height=500).opts(yformatter=\"%.0f\")\r\n",
    "# luv_flights_final.hvplot.line(label=\"Southwest Airlines Flights - All Airports\", ylabel = \"Number of Flights\", width=900,height=500).opts(yformatter=\"%.0f\")\r\n",
    "\r\n",
    "# ual_passengers_final.hvplot.line(label=\"United Airlines - All Airports\", ylabel = \"Number of Passengers\", width=900,height=500).opts(yformatter=\"%.0f\")\r\n",
    "# ual_flights_final.hvplot.line(label=\"American Airlines Flights - All Airports\", ylabel = \"Number of Flights\", width=900,height=500).opts(yformatter=\"%.0f\")\r\n"
   ]
  }
 ],
 "metadata": {
  "interpreter": {
   "hash": "0c0526078e2070f280383d8fbe709defd4669792d4cd22f8317fc9dadb0c6aad"
  },
  "kernelspec": {
   "display_name": "Python 3.9.5 64-bit ('Pinoy_Adobo': conda)",
   "name": "python3"
  },
  "language_info": {
   "codemirror_mode": {
    "name": "ipython",
    "version": 3
   },
   "file_extension": ".py",
   "mimetype": "text/x-python",
   "name": "python",
   "nbconvert_exporter": "python",
   "pygments_lexer": "ipython3",
   "version": "3.9.5"
  },
  "orig_nbformat": 4
 },
 "nbformat": 4,
 "nbformat_minor": 2
}